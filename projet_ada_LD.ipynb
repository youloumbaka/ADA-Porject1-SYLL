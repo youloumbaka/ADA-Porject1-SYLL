{
 "cells": [
  {
   "cell_type": "markdown",
   "metadata": {},
   "source": [
    "# Project Title"
   ]
  },
  {
   "cell_type": "markdown",
   "metadata": {},
   "source": [
    "## Introduction and description"
   ]
  },
  {
   "cell_type": "markdown",
   "metadata": {},
   "source": [
    " This dataset contains information from inspections of restaurants and other\n",
    "food establishments in Chicago from January 1, 2010 to the present. \n",
    "\n",
    "(...)"
   ]
  },
  {
   "cell_type": "markdown",
   "metadata": {},
   "source": [
    "## Exploratory Data Analysis"
   ]
  },
  {
   "cell_type": "markdown",
   "metadata": {},
   "source": [
    "**Data Loading**"
   ]
  },
  {
   "cell_type": "code",
   "execution_count": 39,
   "metadata": {},
   "outputs": [],
   "source": [
    "%matplotlib inline\n",
    "import pandas as pd\n",
    "import numpy as np\n",
    "import matplotlib.pyplot as plt\n",
    "from scipy import stats\n",
    "import warnings"
   ]
  },
  {
   "cell_type": "code",
   "execution_count": 40,
   "metadata": {},
   "outputs": [],
   "source": [
    "# Pre-processed Data\n",
    "food_inspections = pd.read_pickle(\"food.pkl\")\n",
    "restaurants = pd.read_pickle(\"restaurants.pkl\")"
   ]
  },
  {
   "cell_type": "code",
   "execution_count": 41,
   "metadata": {},
   "outputs": [
    {
     "data": {
      "text/plain": [
       "Index(['Inspection ID', 'DBA Name', 'AKA Name', 'License #', 'Facility Type',\n",
       "       'Risk', 'Zip', 'Inspection Date', 'Inspection Type', 'Results',\n",
       "       'Violations', 'Latitude', 'Longitude', 'geometry', 'community', 'area',\n",
       "       'shape_area', 'area_num_1', 'area_numbe', 'shape_len'],\n",
       "      dtype='object')"
      ]
     },
     "execution_count": 41,
     "metadata": {},
     "output_type": "execute_result"
    }
   ],
   "source": [
    "food_inspections.columns"
   ]
  },
  {
   "cell_type": "markdown",
   "metadata": {},
   "source": [
    "### Studying the Violations"
   ]
  },
  {
   "cell_type": "markdown",
   "metadata": {},
   "source": [
    "We check if there are entries with no violations. If there is no violation, nothing was detected in those restaurants."
   ]
  },
  {
   "cell_type": "code",
   "execution_count": 42,
   "metadata": {},
   "outputs": [
    {
     "data": {
      "text/plain": [
       "True"
      ]
     },
     "execution_count": 42,
     "metadata": {},
     "output_type": "execute_result"
    }
   ],
   "source": [
    "food_inspections['Violations'].isnull().values.any()"
   ]
  },
  {
   "cell_type": "code",
   "execution_count": 43,
   "metadata": {},
   "outputs": [
    {
     "name": "stdout",
     "output_type": "stream",
     "text": [
      "Total number of entries in the dataset: 147455\n"
     ]
    }
   ],
   "source": [
    "print('Total number of entries in the dataset: {0}'.format(food_inspections.shape[0]))"
   ]
  },
  {
   "cell_type": "code",
   "execution_count": 44,
   "metadata": {},
   "outputs": [
    {
     "name": "stdout",
     "output_type": "stream",
     "text": [
      "Total number of entries with no violations in the dataset: 21814\n",
      "Corresponding the following percentage of entries: 0.15\n"
     ]
    }
   ],
   "source": [
    "print('Total number of entries with no violations in the dataset: {0}'\\\n",
    "      .format(food_inspections[food_inspections['Violations'].isnull()].shape[0]))\n",
    "per = food_inspections[food_inspections['Violations'].isnull()].shape[0]/food_inspections.shape[0]\n",
    "print('Corresponding the following percentage of entries: {0:.2f}'\\\n",
    "      .format(per))"
   ]
  },
  {
   "cell_type": "markdown",
   "metadata": {},
   "source": [
    "We fill those NaN values with the tag 'No Violation' for better readibility during counting. We will then inspect the violations data to see its shape."
   ]
  },
  {
   "cell_type": "code",
   "execution_count": 45,
   "metadata": {},
   "outputs": [],
   "source": [
    "food_inspections['Violations'].fillna('No Violation', inplace=True)"
   ]
  },
  {
   "cell_type": "markdown",
   "metadata": {},
   "source": [
    "We observe that the violations are referenced using a 'number', a 'description' and a comment for more specificities. In our case, we don't need the comment part so we delete it. The 'Violations' column can as well contain more than one violation type, we can split those into arrays and create a new violation-based dataset."
   ]
  },
  {
   "cell_type": "code",
   "execution_count": 46,
   "metadata": {},
   "outputs": [],
   "source": [
    "food_inspections['Violations'] = food_inspections.Violations.apply(lambda x: x.split('- Comments:')[0])"
   ]
  },
  {
   "cell_type": "code",
   "execution_count": 47,
   "metadata": {},
   "outputs": [],
   "source": [
    "food_inspections['Violations'] = np.array(food_inspections.Violations.apply(lambda x: x.split('|')))"
   ]
  },
  {
   "cell_type": "code",
   "execution_count": 48,
   "metadata": {},
   "outputs": [],
   "source": [
    "food_inspections = pd.DataFrame(food_inspections)"
   ]
  },
  {
   "cell_type": "markdown",
   "metadata": {},
   "source": [
    "**Create Violation based dataset**"
   ]
  },
  {
   "cell_type": "code",
   "execution_count": 49,
   "metadata": {},
   "outputs": [],
   "source": [
    "violations = food_inspections.explode('Violations')\\\n",
    "                    .rename(columns={'Violations':'Violation'}) \\\n",
    "                    .reset_index(drop=True) \\\n",
    "                    .dropna(subset=['Violation']) \\\n",
    "                    .set_index('Violation') \\\n",
    "                    .reset_index()"
   ]
  },
  {
   "cell_type": "code",
   "execution_count": 50,
   "metadata": {},
   "outputs": [
    {
     "data": {
      "text/plain": [
       "165"
      ]
     },
     "execution_count": 50,
     "metadata": {},
     "output_type": "execute_result"
    }
   ],
   "source": [
    "len(violations.Violation.unique())"
   ]
  },
  {
   "cell_type": "markdown",
   "metadata": {},
   "source": [
    "**Violation ID and Delete No Violation**"
   ]
  },
  {
   "cell_type": "code",
   "execution_count": 51,
   "metadata": {},
   "outputs": [],
   "source": [
    "violations['Violation ID'] = violations['Violation']\n",
    "violations['Violation ID'] = violations['Violation ID'].apply(lambda x: x.split('.')[0])\n",
    "violations = violations[violations['Violation ID'] != 'No Violation']"
   ]
  },
  {
   "cell_type": "markdown",
   "metadata": {},
   "source": [
    "**Count using ID**"
   ]
  },
  {
   "cell_type": "code",
   "execution_count": 52,
   "metadata": {},
   "outputs": [],
   "source": [
    "def get_counts(df):\n",
    "    df_count = df[['Violation','Violation ID','Inspection ID']].groupby(['Violation','Violation ID'])\\\n",
    "                    .count()\\\n",
    "                    .sort_values(by='Inspection ID', ascending=False)\\\n",
    "                    .rename(columns={'Inspection ID':'Occurence'})\n",
    "\n",
    "    df_count.reset_index(inplace=True)\n",
    "    df_count.sort_values(by='Violation ID', ascending=True, inplace=True)\n",
    "    \n",
    "    df_count = df_count[['Violation ID','Occurence']]\n",
    "    df_count = df_count.groupby('Violation ID', as_index=False).sum()\n",
    "    sum_ = df_count['Occurence'].sum()\n",
    "    df_count['Frequency'] = df_count['Occurence']/sum_ \n",
    "    df_count.sort_values(by='Occurence', ascending=False, inplace=True)\n",
    "    return df_count"
   ]
  },
  {
   "cell_type": "code",
   "execution_count": 53,
   "metadata": {},
   "outputs": [
    {
     "data": {
      "text/html": [
       "<div>\n",
       "<style scoped>\n",
       "    .dataframe tbody tr th:only-of-type {\n",
       "        vertical-align: middle;\n",
       "    }\n",
       "\n",
       "    .dataframe tbody tr th {\n",
       "        vertical-align: top;\n",
       "    }\n",
       "\n",
       "    .dataframe thead th {\n",
       "        text-align: right;\n",
       "    }\n",
       "</style>\n",
       "<table border=\"1\" class=\"dataframe\">\n",
       "  <thead>\n",
       "    <tr style=\"text-align: right;\">\n",
       "      <th></th>\n",
       "      <th>Violation ID</th>\n",
       "      <th>Occurence</th>\n",
       "      <th>Frequency</th>\n",
       "    </tr>\n",
       "  </thead>\n",
       "  <tbody>\n",
       "    <tr>\n",
       "      <td>62</td>\n",
       "      <td>32</td>\n",
       "      <td>22826</td>\n",
       "      <td>0.181031</td>\n",
       "    </tr>\n",
       "    <tr>\n",
       "      <td>63</td>\n",
       "      <td>33</td>\n",
       "      <td>15555</td>\n",
       "      <td>0.123365</td>\n",
       "    </tr>\n",
       "    <tr>\n",
       "      <td>59</td>\n",
       "      <td>3</td>\n",
       "      <td>11930</td>\n",
       "      <td>0.094616</td>\n",
       "    </tr>\n",
       "    <tr>\n",
       "      <td>64</td>\n",
       "      <td>34</td>\n",
       "      <td>8966</td>\n",
       "      <td>0.071109</td>\n",
       "    </tr>\n",
       "    <tr>\n",
       "      <td>60</td>\n",
       "      <td>30</td>\n",
       "      <td>8735</td>\n",
       "      <td>0.069276</td>\n",
       "    </tr>\n",
       "  </tbody>\n",
       "</table>\n",
       "</div>"
      ],
      "text/plain": [
       "   Violation ID  Occurence  Frequency\n",
       "62           32      22826   0.181031\n",
       "63           33      15555   0.123365\n",
       "59            3      11930   0.094616\n",
       "64           34       8966   0.071109\n",
       "60           30       8735   0.069276"
      ]
     },
     "execution_count": 53,
     "metadata": {},
     "output_type": "execute_result"
    }
   ],
   "source": [
    "violation_count = get_counts(violations)\n",
    "violation_count.head()"
   ]
  },
  {
   "cell_type": "markdown",
   "metadata": {},
   "source": [
    "**Plotting Violations**"
   ]
  },
  {
   "cell_type": "code",
   "execution_count": 54,
   "metadata": {},
   "outputs": [
    {
     "data": {
      "image/png": "[encoded data removed]",
      "text/plain": [
       "<Figure size 864x576 with 1 Axes>"
      ]
     },
     "metadata": {
      "needs_background": "light"
     },
     "output_type": "display_data"
    }
   ],
   "source": [
    "# Plot 13 top values\n",
    "ax = violation_count.Occurence.iloc[0:12].plot(kind='bar',figsize = [12,8])\n",
    "ax.set_xlabel('Violation Types')\n",
    "ax.set_ylabel('Number of violations')\n",
    "plt.tight_layout()"
   ]
  },
  {
   "cell_type": "markdown",
   "metadata": {},
   "source": [
    "**Separe violations by results**"
   ]
  },
  {
   "cell_type": "code",
   "execution_count": 55,
   "metadata": {},
   "outputs": [
    {
     "data": {
      "text/plain": [
       "array(['Fail', 'Pass w/ Conditions', 'Pass'], dtype=object)"
      ]
     },
     "execution_count": 55,
     "metadata": {},
     "output_type": "execute_result"
    }
   ],
   "source": [
    "violations.Results.unique()"
   ]
  },
  {
   "cell_type": "code",
   "execution_count": 56,
   "metadata": {},
   "outputs": [],
   "source": [
    "violations_fail = violations[violations['Results'] == 'Fail']\n",
    "violations_pass = violations[violations['Results'] == 'Pass']\n",
    "violations_cond = violations[violations['Results'] == 'Pass w/ Conditions']"
   ]
  },
  {
   "cell_type": "code",
   "execution_count": 57,
   "metadata": {},
   "outputs": [],
   "source": [
    "violations_fail_count = get_counts(violations_fail)\n",
    "violations_pass_count = get_counts(violations_pass)\n",
    "violations_cond_count = get_counts(violations_cond)"
   ]
  },
  {
   "cell_type": "code",
   "execution_count": 58,
   "metadata": {},
   "outputs": [
    {
     "data": {
      "text/html": [
       "<div>\n",
       "<style scoped>\n",
       "    .dataframe tbody tr th:only-of-type {\n",
       "        vertical-align: middle;\n",
       "    }\n",
       "\n",
       "    .dataframe tbody tr th {\n",
       "        vertical-align: top;\n",
       "    }\n",
       "\n",
       "    .dataframe thead th {\n",
       "        text-align: right;\n",
       "    }\n",
       "</style>\n",
       "<table border=\"1\" class=\"dataframe\">\n",
       "  <thead>\n",
       "    <tr style=\"text-align: right;\">\n",
       "      <th></th>\n",
       "      <th>Violation ID</th>\n",
       "      <th>Occurence</th>\n",
       "      <th>Frequency</th>\n",
       "    </tr>\n",
       "  </thead>\n",
       "  <tbody>\n",
       "    <tr>\n",
       "      <td>36</td>\n",
       "      <td>18</td>\n",
       "      <td>8365</td>\n",
       "      <td>0.278332</td>\n",
       "    </tr>\n",
       "    <tr>\n",
       "      <td>49</td>\n",
       "      <td>3</td>\n",
       "      <td>3441</td>\n",
       "      <td>0.114494</td>\n",
       "    </tr>\n",
       "    <tr>\n",
       "      <td>38</td>\n",
       "      <td>2</td>\n",
       "      <td>3362</td>\n",
       "      <td>0.111865</td>\n",
       "    </tr>\n",
       "    <tr>\n",
       "      <td>34</td>\n",
       "      <td>16</td>\n",
       "      <td>1963</td>\n",
       "      <td>0.065316</td>\n",
       "    </tr>\n",
       "    <tr>\n",
       "      <td>48</td>\n",
       "      <td>29</td>\n",
       "      <td>1717</td>\n",
       "      <td>0.057130</td>\n",
       "    </tr>\n",
       "  </tbody>\n",
       "</table>\n",
       "</div>"
      ],
      "text/plain": [
       "   Violation ID  Occurence  Frequency\n",
       "36           18       8365   0.278332\n",
       "49            3       3441   0.114494\n",
       "38            2       3362   0.111865\n",
       "34           16       1963   0.065316\n",
       "48           29       1717   0.057130"
      ]
     },
     "execution_count": 58,
     "metadata": {},
     "output_type": "execute_result"
    }
   ],
   "source": [
    "violations_fail_count.head()"
   ]
  },
  {
   "cell_type": "code",
   "execution_count": 59,
   "metadata": {},
   "outputs": [
    {
     "data": {
      "text/html": [
       "<div>\n",
       "<style scoped>\n",
       "    .dataframe tbody tr th:only-of-type {\n",
       "        vertical-align: middle;\n",
       "    }\n",
       "\n",
       "    .dataframe tbody tr th {\n",
       "        vertical-align: top;\n",
       "    }\n",
       "\n",
       "    .dataframe thead th {\n",
       "        text-align: right;\n",
       "    }\n",
       "</style>\n",
       "<table border=\"1\" class=\"dataframe\">\n",
       "  <thead>\n",
       "    <tr style=\"text-align: right;\">\n",
       "      <th></th>\n",
       "      <th>Violation ID</th>\n",
       "      <th>Occurence</th>\n",
       "      <th>Frequency</th>\n",
       "    </tr>\n",
       "  </thead>\n",
       "  <tbody>\n",
       "    <tr>\n",
       "      <td>45</td>\n",
       "      <td>32</td>\n",
       "      <td>22318</td>\n",
       "      <td>0.308426</td>\n",
       "    </tr>\n",
       "    <tr>\n",
       "      <td>46</td>\n",
       "      <td>33</td>\n",
       "      <td>15360</td>\n",
       "      <td>0.212269</td>\n",
       "    </tr>\n",
       "    <tr>\n",
       "      <td>47</td>\n",
       "      <td>34</td>\n",
       "      <td>8854</td>\n",
       "      <td>0.122359</td>\n",
       "    </tr>\n",
       "    <tr>\n",
       "      <td>43</td>\n",
       "      <td>30</td>\n",
       "      <td>8603</td>\n",
       "      <td>0.118890</td>\n",
       "    </tr>\n",
       "    <tr>\n",
       "      <td>48</td>\n",
       "      <td>35</td>\n",
       "      <td>4493</td>\n",
       "      <td>0.062091</td>\n",
       "    </tr>\n",
       "  </tbody>\n",
       "</table>\n",
       "</div>"
      ],
      "text/plain": [
       "   Violation ID  Occurence  Frequency\n",
       "45           32      22318   0.308426\n",
       "46           33      15360   0.212269\n",
       "47           34       8854   0.122359\n",
       "43           30       8603   0.118890\n",
       "48           35       4493   0.062091"
      ]
     },
     "execution_count": 59,
     "metadata": {},
     "output_type": "execute_result"
    }
   ],
   "source": [
    "violations_pass_count.head()"
   ]
  },
  {
   "cell_type": "code",
   "execution_count": 60,
   "metadata": {},
   "outputs": [
    {
     "data": {
      "text/html": [
       "<div>\n",
       "<style scoped>\n",
       "    .dataframe tbody tr th:only-of-type {\n",
       "        vertical-align: middle;\n",
       "    }\n",
       "\n",
       "    .dataframe tbody tr th {\n",
       "        vertical-align: top;\n",
       "    }\n",
       "\n",
       "    .dataframe thead th {\n",
       "        text-align: right;\n",
       "    }\n",
       "</style>\n",
       "<table border=\"1\" class=\"dataframe\">\n",
       "  <thead>\n",
       "    <tr style=\"text-align: right;\">\n",
       "      <th></th>\n",
       "      <th>Violation ID</th>\n",
       "      <th>Occurence</th>\n",
       "      <th>Frequency</th>\n",
       "    </tr>\n",
       "  </thead>\n",
       "  <tbody>\n",
       "    <tr>\n",
       "      <td>43</td>\n",
       "      <td>3</td>\n",
       "      <td>8455</td>\n",
       "      <td>0.357143</td>\n",
       "    </tr>\n",
       "    <tr>\n",
       "      <td>34</td>\n",
       "      <td>21</td>\n",
       "      <td>3557</td>\n",
       "      <td>0.150249</td>\n",
       "    </tr>\n",
       "    <tr>\n",
       "      <td>32</td>\n",
       "      <td>2</td>\n",
       "      <td>2927</td>\n",
       "      <td>0.123638</td>\n",
       "    </tr>\n",
       "    <tr>\n",
       "      <td>64</td>\n",
       "      <td>5</td>\n",
       "      <td>1025</td>\n",
       "      <td>0.043296</td>\n",
       "    </tr>\n",
       "    <tr>\n",
       "      <td>28</td>\n",
       "      <td>16</td>\n",
       "      <td>920</td>\n",
       "      <td>0.038861</td>\n",
       "    </tr>\n",
       "  </tbody>\n",
       "</table>\n",
       "</div>"
      ],
      "text/plain": [
       "   Violation ID  Occurence  Frequency\n",
       "43            3       8455   0.357143\n",
       "34           21       3557   0.150249\n",
       "32            2       2927   0.123638\n",
       "64            5       1025   0.043296\n",
       "28           16        920   0.038861"
      ]
     },
     "execution_count": 60,
     "metadata": {},
     "output_type": "execute_result"
    }
   ],
   "source": [
    "violations_cond_count.head()"
   ]
  },
  {
   "cell_type": "code",
   "execution_count": 61,
   "metadata": {},
   "outputs": [
    {
     "data": {
      "image/png": "[encoded data removed]",
      "text/plain": [
       "<Figure size 864x576 with 1 Axes>"
      ]
     },
     "metadata": {
      "needs_background": "light"
     },
     "output_type": "display_data"
    }
   ],
   "source": [
    "# Plot 13 top values\n",
    "ax = violations_fail_count.Occurence.iloc[0:12].plot(kind='bar',figsize = [12,8])\n",
    "ax.set_xlabel('Violation Types')\n",
    "ax.set_ylabel('Number of violations')\n",
    "plt.tight_layout()"
   ]
  },
  {
   "cell_type": "code",
   "execution_count": 62,
   "metadata": {},
   "outputs": [],
   "source": [
    "labels_pass = np.array(violations_pass_count['Violation ID'])"
   ]
  },
  {
   "cell_type": "code",
   "execution_count": 63,
   "metadata": {},
   "outputs": [
    {
     "data": {
      "text/plain": [
       "array(['32', '33', '34', '30', '35', '31', '38', '36', '41', '37', '40',\n",
       "       '55', '45', '47', '51', '49', '10', '42', '43', '16', '39', '18',\n",
       "       '58', '2', '53', ' 35', '44', '56', ' 34', '57', '8', ' 38', '21',\n",
       "       '3', ' 33', '29', ' 41', '23', '25', ' 36', '24', ' 40', '48',\n",
       "       '52', ' 32', '5', '19', '11', '28', '54', '6', ' 37', '27', '12',\n",
       "       ' 43', ' 31', '26', '22', '1', ' 55', '9', '14', ' 42', '20', '15',\n",
       "       ' 30', '4', ' 25', '17', '13', ' 57', ' 53', ' 51', '59', ' 39',\n",
       "       ' 24'], dtype=object)"
      ]
     },
     "execution_count": 63,
     "metadata": {},
     "output_type": "execute_result"
    }
   ],
   "source": [
    "labels_pass"
   ]
  },
  {
   "cell_type": "code",
   "execution_count": 64,
   "metadata": {},
   "outputs": [
    {
     "data": {
      "text/html": [
       "<div>\n",
       "<style scoped>\n",
       "    .dataframe tbody tr th:only-of-type {\n",
       "        vertical-align: middle;\n",
       "    }\n",
       "\n",
       "    .dataframe tbody tr th {\n",
       "        vertical-align: top;\n",
       "    }\n",
       "\n",
       "    .dataframe thead th {\n",
       "        text-align: right;\n",
       "    }\n",
       "</style>\n",
       "<table border=\"1\" class=\"dataframe\">\n",
       "  <thead>\n",
       "    <tr style=\"text-align: right;\">\n",
       "      <th></th>\n",
       "      <th>Violation ID</th>\n",
       "      <th>Occurence All</th>\n",
       "      <th>Frequency All</th>\n",
       "      <th>Occurence Pass</th>\n",
       "      <th>Frequency Pass</th>\n",
       "      <th>Occurence Fail</th>\n",
       "      <th>Frequency Fail</th>\n",
       "      <th>Occurence w/ Cond.</th>\n",
       "      <th>Frequency w/ Cond.</th>\n",
       "    </tr>\n",
       "  </thead>\n",
       "  <tbody>\n",
       "    <tr>\n",
       "      <td>46</td>\n",
       "      <td>32</td>\n",
       "      <td>22826</td>\n",
       "      <td>0.181031</td>\n",
       "      <td>22318</td>\n",
       "      <td>0.308426</td>\n",
       "      <td>341</td>\n",
       "      <td>0.011346</td>\n",
       "      <td>167</td>\n",
       "      <td>0.007054</td>\n",
       "    </tr>\n",
       "    <tr>\n",
       "      <td>47</td>\n",
       "      <td>33</td>\n",
       "      <td>15555</td>\n",
       "      <td>0.123365</td>\n",
       "      <td>15360</td>\n",
       "      <td>0.212269</td>\n",
       "      <td>117</td>\n",
       "      <td>0.003893</td>\n",
       "      <td>78</td>\n",
       "      <td>0.003295</td>\n",
       "    </tr>\n",
       "    <tr>\n",
       "      <td>43</td>\n",
       "      <td>3</td>\n",
       "      <td>11930</td>\n",
       "      <td>0.094616</td>\n",
       "      <td>34</td>\n",
       "      <td>0.000470</td>\n",
       "      <td>3441</td>\n",
       "      <td>0.114494</td>\n",
       "      <td>8455</td>\n",
       "      <td>0.357143</td>\n",
       "    </tr>\n",
       "    <tr>\n",
       "      <td>48</td>\n",
       "      <td>34</td>\n",
       "      <td>8966</td>\n",
       "      <td>0.071109</td>\n",
       "      <td>8854</td>\n",
       "      <td>0.122359</td>\n",
       "      <td>71</td>\n",
       "      <td>0.002362</td>\n",
       "      <td>41</td>\n",
       "      <td>0.001732</td>\n",
       "    </tr>\n",
       "    <tr>\n",
       "      <td>44</td>\n",
       "      <td>30</td>\n",
       "      <td>8735</td>\n",
       "      <td>0.069276</td>\n",
       "      <td>8603</td>\n",
       "      <td>0.118890</td>\n",
       "      <td>63</td>\n",
       "      <td>0.002096</td>\n",
       "      <td>69</td>\n",
       "      <td>0.002915</td>\n",
       "    </tr>\n",
       "  </tbody>\n",
       "</table>\n",
       "</div>"
      ],
      "text/plain": [
       "   Violation ID  Occurence All  Frequency All  Occurence Pass  Frequency Pass  \\\n",
       "46           32          22826       0.181031           22318        0.308426   \n",
       "47           33          15555       0.123365           15360        0.212269   \n",
       "43            3          11930       0.094616              34        0.000470   \n",
       "48           34           8966       0.071109            8854        0.122359   \n",
       "44           30           8735       0.069276            8603        0.118890   \n",
       "\n",
       "    Occurence Fail  Frequency Fail  Occurence w/ Cond.  Frequency w/ Cond.  \n",
       "46             341        0.011346                 167            0.007054  \n",
       "47             117        0.003893                  78            0.003295  \n",
       "43            3441        0.114494                8455            0.357143  \n",
       "48              71        0.002362                  41            0.001732  \n",
       "44              63        0.002096                  69            0.002915  "
      ]
     },
     "execution_count": 64,
     "metadata": {},
     "output_type": "execute_result"
    }
   ],
   "source": [
    "merged = violation_count.merge(violations_pass_count, on='Violation ID', left_index=True)\n",
    "merged.rename(columns={\"Occurence_x\": \"Occurence All\", \"Frequency_x\": \"Frequency All\"}, inplace=True)\n",
    "merged.rename(columns={\"Occurence_y\": \"Occurence Pass\", \"Frequency_y\": \"Frequency Pass\"}, inplace=True)\n",
    "\n",
    "merged = merged.merge(violations_fail_count, on='Violation ID', left_index=True)\n",
    "merged.rename(columns={\"Occurence\": \"Occurence Fail\", \"Frequency\": \"Frequency Fail\"}, inplace=True)\n",
    "\n",
    "merged = merged.merge(violations_cond_count, on='Violation ID', left_index=True)\n",
    "merged.rename(columns={\"Occurence\": \"Occurence w/ Cond.\", \"Frequency\": \"Frequency w/ Cond.\"}, inplace=True)\n",
    "\n",
    "merged.head()"
   ]
  },
  {
   "cell_type": "code",
   "execution_count": 65,
   "metadata": {},
   "outputs": [
    {
     "data": {
      "text/html": [
       "<div>\n",
       "<style scoped>\n",
       "    .dataframe tbody tr th:only-of-type {\n",
       "        vertical-align: middle;\n",
       "    }\n",
       "\n",
       "    .dataframe tbody tr th {\n",
       "        vertical-align: top;\n",
       "    }\n",
       "\n",
       "    .dataframe thead th {\n",
       "        text-align: right;\n",
       "    }\n",
       "</style>\n",
       "<table border=\"1\" class=\"dataframe\">\n",
       "  <thead>\n",
       "    <tr style=\"text-align: right;\">\n",
       "      <th></th>\n",
       "      <th>Pass</th>\n",
       "      <th>Fail</th>\n",
       "      <th>Pass w/ cond</th>\n",
       "    </tr>\n",
       "  </thead>\n",
       "  <tbody>\n",
       "    <tr>\n",
       "      <td>46</td>\n",
       "      <td>22318</td>\n",
       "      <td>341</td>\n",
       "      <td>167</td>\n",
       "    </tr>\n",
       "    <tr>\n",
       "      <td>47</td>\n",
       "      <td>15360</td>\n",
       "      <td>117</td>\n",
       "      <td>78</td>\n",
       "    </tr>\n",
       "    <tr>\n",
       "      <td>43</td>\n",
       "      <td>34</td>\n",
       "      <td>3441</td>\n",
       "      <td>8455</td>\n",
       "    </tr>\n",
       "    <tr>\n",
       "      <td>48</td>\n",
       "      <td>8854</td>\n",
       "      <td>71</td>\n",
       "      <td>41</td>\n",
       "    </tr>\n",
       "    <tr>\n",
       "      <td>44</td>\n",
       "      <td>8603</td>\n",
       "      <td>63</td>\n",
       "      <td>69</td>\n",
       "    </tr>\n",
       "  </tbody>\n",
       "</table>\n",
       "</div>"
      ],
      "text/plain": [
       "     Pass  Fail  Pass w/ cond\n",
       "46  22318   341           167\n",
       "47  15360   117            78\n",
       "43     34  3441          8455\n",
       "48   8854    71            41\n",
       "44   8603    63            69"
      ]
     },
     "execution_count": 65,
     "metadata": {},
     "output_type": "execute_result"
    }
   ],
   "source": [
    "sub_merged = merged[['Occurence Pass','Occurence Fail', 'Occurence w/ Cond.']].copy()\n",
    "sub_merged.rename(columns={'Occurence Pass': \"Pass\", 'Occurence Fail': \"Fail\", \\\n",
    "                           \"Occurence w/ Cond.\":'Pass w/ cond'}, inplace=True)\n",
    "sub_merged.head()"
   ]
  },
  {
   "cell_type": "code",
   "execution_count": 66,
   "metadata": {},
   "outputs": [
    {
     "data": {
      "text/html": [
       "<div>\n",
       "<style scoped>\n",
       "    .dataframe tbody tr th:only-of-type {\n",
       "        vertical-align: middle;\n",
       "    }\n",
       "\n",
       "    .dataframe tbody tr th {\n",
       "        vertical-align: top;\n",
       "    }\n",
       "\n",
       "    .dataframe thead th {\n",
       "        text-align: right;\n",
       "    }\n",
       "</style>\n",
       "<table border=\"1\" class=\"dataframe\">\n",
       "  <thead>\n",
       "    <tr style=\"text-align: right;\">\n",
       "      <th></th>\n",
       "      <th>Pass</th>\n",
       "      <th>Fail</th>\n",
       "      <th>Pass w/ cond</th>\n",
       "    </tr>\n",
       "  </thead>\n",
       "  <tbody>\n",
       "    <tr>\n",
       "      <td>30</td>\n",
       "      <td>72</td>\n",
       "      <td>8365</td>\n",
       "      <td>101</td>\n",
       "    </tr>\n",
       "    <tr>\n",
       "      <td>43</td>\n",
       "      <td>34</td>\n",
       "      <td>3441</td>\n",
       "      <td>8455</td>\n",
       "    </tr>\n",
       "    <tr>\n",
       "      <td>32</td>\n",
       "      <td>54</td>\n",
       "      <td>3362</td>\n",
       "      <td>2927</td>\n",
       "    </tr>\n",
       "    <tr>\n",
       "      <td>28</td>\n",
       "      <td>86</td>\n",
       "      <td>1963</td>\n",
       "      <td>920</td>\n",
       "    </tr>\n",
       "    <tr>\n",
       "      <td>42</td>\n",
       "      <td>24</td>\n",
       "      <td>1717</td>\n",
       "      <td>207</td>\n",
       "    </tr>\n",
       "  </tbody>\n",
       "</table>\n",
       "</div>"
      ],
      "text/plain": [
       "    Pass  Fail  Pass w/ cond\n",
       "30    72  8365           101\n",
       "43    34  3441          8455\n",
       "32    54  3362          2927\n",
       "28    86  1963           920\n",
       "42    24  1717           207"
      ]
     },
     "execution_count": 66,
     "metadata": {},
     "output_type": "execute_result"
    }
   ],
   "source": [
    "sub_merged.sort_values(by='Fail', inplace=True, ascending=False)\n",
    "sub_merged.head()"
   ]
  },
  {
   "cell_type": "code",
   "execution_count": 67,
   "metadata": {},
   "outputs": [
    {
     "data": {
      "image/png": "[encoded data removed]",
      "text/plain": [
       "<Figure size 1080x720 with 12 Axes>"
      ]
     },
     "metadata": {},
     "output_type": "display_data"
    }
   ],
   "source": [
    "#plotting\n",
    "top = 5\n",
    "violation_list = sub_merged.index\n",
    "\n",
    "labels = ['Pass', 'Pass w/ cond', 'Fail']\n",
    "fig, ax= plt.subplots(3, 4, figsize=(15,10))\n",
    "\n",
    "first=0\n",
    "for i in range(3):\n",
    "    for j in range(4):\n",
    "        \n",
    "        ax[i,j].pie(sub_merged.iloc[first].to_list(), labels = labels, radius = 1.3,\n",
    "                    autopct='%1.1f%%', colors=[\"darkred\",\"orange\",\"blue\"])\n",
    "        ax[i,j].set_title(violation_list[first])\n",
    "        first += 1\n",
    "\n",
    "plt.show()"
   ]
  },
  {
   "cell_type": "code",
   "execution_count": 68,
   "metadata": {
    "scrolled": true
   },
   "outputs": [
    {
     "data": {
      "image/png": "[encoded data removed]",
      "text/plain": [
       "<Figure size 864x576 with 1 Axes>"
      ]
     },
     "metadata": {
      "needs_background": "light"
     },
     "output_type": "display_data"
    }
   ],
   "source": [
    "# Plot 13 top values\n",
    "ax = sub_merged.iloc[0:12].plot(kind='bar',figsize = [12,8], stacked=True)\n",
    "ax.set_xlabel('Violation Types')\n",
    "ax.set_ylabel('Number of violations')\n",
    "plt.tight_layout()"
   ]
  },
  {
   "cell_type": "code",
   "execution_count": 69,
   "metadata": {},
   "outputs": [
    {
     "data": {
      "image/png": "[encoded data removed]",
      "text/plain": [
       "<Figure size 864x576 with 1 Axes>"
      ]
     },
     "metadata": {
      "needs_background": "light"
     },
     "output_type": "display_data"
    }
   ],
   "source": [
    "# Plot 13 top values\n",
    "sub_merged.sort_values(by='Pass', inplace=True, ascending=False)\n",
    "ax = sub_merged.iloc[0:12].plot(kind='bar',figsize = [12,8], stacked=True)\n",
    "ax.set_xlabel('Violation Types')\n",
    "ax.set_ylabel('Number of violations')\n",
    "plt.tight_layout()"
   ]
  },
  {
   "cell_type": "markdown",
   "metadata": {},
   "source": [
    "**Violations per establishment**"
   ]
  },
  {
   "cell_type": "code",
   "execution_count": 75,
   "metadata": {},
   "outputs": [],
   "source": [
    "restaurants_top5 = pd.read_pickle(\"restaurants.pkl\")"
   ]
  },
  {
   "cell_type": "code",
   "execution_count": 79,
   "metadata": {},
   "outputs": [
    {
     "data": {
      "text/html": [
       "<div>\n",
       "<style scoped>\n",
       "    .dataframe tbody tr th:only-of-type {\n",
       "        vertical-align: middle;\n",
       "    }\n",
       "\n",
       "    .dataframe tbody tr th {\n",
       "        vertical-align: top;\n",
       "    }\n",
       "\n",
       "    .dataframe thead th {\n",
       "        text-align: right;\n",
       "    }\n",
       "</style>\n",
       "<table border=\"1\" class=\"dataframe\">\n",
       "  <thead>\n",
       "    <tr style=\"text-align: right;\">\n",
       "      <th></th>\n",
       "      <th>Inspection ID</th>\n",
       "      <th>DBA Name</th>\n",
       "      <th>AKA Name</th>\n",
       "      <th>License #</th>\n",
       "      <th>Facility Type</th>\n",
       "      <th>Risk</th>\n",
       "      <th>Zip</th>\n",
       "      <th>Inspection Date</th>\n",
       "      <th>Inspection Type</th>\n",
       "      <th>Results</th>\n",
       "      <th>Violations</th>\n",
       "      <th>Latitude</th>\n",
       "      <th>Longitude</th>\n",
       "      <th>Violation ID</th>\n",
       "    </tr>\n",
       "  </thead>\n",
       "  <tbody>\n",
       "    <tr>\n",
       "      <td>0</td>\n",
       "      <td>2320374</td>\n",
       "      <td>DUNKIN DONUTS/BASKIN ROBBINS</td>\n",
       "      <td>DUNKIN DONUTS</td>\n",
       "      <td>1909364.0</td>\n",
       "      <td>Restaurant</td>\n",
       "      <td>Risk 2 (Medium)</td>\n",
       "      <td>29</td>\n",
       "      <td>2019</td>\n",
       "      <td>Complaint Re-Inspection</td>\n",
       "      <td>Fail</td>\n",
       "      <td>38. INSECTS, RODENTS, &amp; ANIMALS NOT PRESENT - ...</td>\n",
       "      <td>41.766871</td>\n",
       "      <td>-87.722317</td>\n",
       "      <td>38</td>\n",
       "    </tr>\n",
       "    <tr>\n",
       "      <td>1</td>\n",
       "      <td>2320281</td>\n",
       "      <td>DUNKIN DONUTS</td>\n",
       "      <td>DUNKIN DONUTS</td>\n",
       "      <td>2698419.0</td>\n",
       "      <td>Restaurant</td>\n",
       "      <td>Risk 2 (Medium)</td>\n",
       "      <td>06</td>\n",
       "      <td>2019</td>\n",
       "      <td>License</td>\n",
       "      <td>Pass w/ Conditions</td>\n",
       "      <td>3. MANAGEMENT, FOOD EMPLOYEE AND CONDITIONAL E...</td>\n",
       "      <td>41.881835</td>\n",
       "      <td>-87.633897</td>\n",
       "      <td>3</td>\n",
       "    </tr>\n",
       "    <tr>\n",
       "      <td>2</td>\n",
       "      <td>2316183</td>\n",
       "      <td>MCDONALDS</td>\n",
       "      <td>MCDONALDS</td>\n",
       "      <td>64032.0</td>\n",
       "      <td>Restaurant</td>\n",
       "      <td>Risk 1 (High)</td>\n",
       "      <td>66</td>\n",
       "      <td>2019</td>\n",
       "      <td>Canvass</td>\n",
       "      <td>Pass</td>\n",
       "      <td>10. ADEQUATE HANDWASHING SINKS PROPERLY SUPPLI...</td>\n",
       "      <td>42.008536</td>\n",
       "      <td>-87.914428</td>\n",
       "      <td>10</td>\n",
       "    </tr>\n",
       "    <tr>\n",
       "      <td>3</td>\n",
       "      <td>2316196</td>\n",
       "      <td>MCDONALD'S RESTAURANT</td>\n",
       "      <td>MCDONALDS</td>\n",
       "      <td>51206.0</td>\n",
       "      <td>Restaurant</td>\n",
       "      <td>Risk 1 (High)</td>\n",
       "      <td>66</td>\n",
       "      <td>2019</td>\n",
       "      <td>Canvass</td>\n",
       "      <td>Pass</td>\n",
       "      <td>36. THERMOMETERS PROVIDED &amp; ACCURATE - Comment...</td>\n",
       "      <td>42.008536</td>\n",
       "      <td>-87.914428</td>\n",
       "      <td>36</td>\n",
       "    </tr>\n",
       "    <tr>\n",
       "      <td>4</td>\n",
       "      <td>2316054</td>\n",
       "      <td>SUBWAY</td>\n",
       "      <td>SUBWAY</td>\n",
       "      <td>2590201.0</td>\n",
       "      <td>Restaurant</td>\n",
       "      <td>Risk 1 (High)</td>\n",
       "      <td>47</td>\n",
       "      <td>2019</td>\n",
       "      <td>Complaint Re-Inspection</td>\n",
       "      <td>Pass</td>\n",
       "      <td>39. CONTAMINATION PREVENTED DURING FOOD PREPAR...</td>\n",
       "      <td>41.910399</td>\n",
       "      <td>-87.690207</td>\n",
       "      <td>39</td>\n",
       "    </tr>\n",
       "  </tbody>\n",
       "</table>\n",
       "</div>"
      ],
      "text/plain": [
       "   Inspection ID                      DBA Name       AKA Name  License #  \\\n",
       "0        2320374  DUNKIN DONUTS/BASKIN ROBBINS  DUNKIN DONUTS  1909364.0   \n",
       "1        2320281                 DUNKIN DONUTS  DUNKIN DONUTS  2698419.0   \n",
       "2        2316183                     MCDONALDS      MCDONALDS    64032.0   \n",
       "3        2316196         MCDONALD'S RESTAURANT      MCDONALDS    51206.0   \n",
       "4        2316054                        SUBWAY         SUBWAY  2590201.0   \n",
       "\n",
       "  Facility Type             Risk Zip Inspection Date          Inspection Type  \\\n",
       "0    Restaurant  Risk 2 (Medium)  29            2019  Complaint Re-Inspection   \n",
       "1    Restaurant  Risk 2 (Medium)  06            2019                  License   \n",
       "2    Restaurant    Risk 1 (High)  66            2019                  Canvass   \n",
       "3    Restaurant    Risk 1 (High)  66            2019                  Canvass   \n",
       "4    Restaurant    Risk 1 (High)  47            2019  Complaint Re-Inspection   \n",
       "\n",
       "              Results                                         Violations  \\\n",
       "0                Fail  38. INSECTS, RODENTS, & ANIMALS NOT PRESENT - ...   \n",
       "1  Pass w/ Conditions  3. MANAGEMENT, FOOD EMPLOYEE AND CONDITIONAL E...   \n",
       "2                Pass  10. ADEQUATE HANDWASHING SINKS PROPERLY SUPPLI...   \n",
       "3                Pass  36. THERMOMETERS PROVIDED & ACCURATE - Comment...   \n",
       "4                Pass  39. CONTAMINATION PREVENTED DURING FOOD PREPAR...   \n",
       "\n",
       "    Latitude  Longitude Violation ID  \n",
       "0  41.766871 -87.722317           38  \n",
       "1  41.881835 -87.633897            3  \n",
       "2  42.008536 -87.914428           10  \n",
       "3  42.008536 -87.914428           36  \n",
       "4  41.910399 -87.690207           39  "
      ]
     },
     "execution_count": 79,
     "metadata": {},
     "output_type": "execute_result"
    }
   ],
   "source": [
    "restaurants_top5 = restaurants_top5.merge(violations[['Inspection ID','Violation ID']], on='Inspection ID')\n",
    "restaurants_top5.head()"
   ]
  },
  {
   "cell_type": "code",
   "execution_count": 81,
   "metadata": {},
   "outputs": [],
   "source": [
    "violation_resto = restaurants_top5.groupby(['AKA Name','DBA Name', 'License #','Longitude', 'Latitude'])\\\n",
    "                    .count()\\\n",
    "                    .sort_values(by='Inspection ID', ascending=False)\n",
    "\n",
    "violation_resto = violation_resto[['Violation ID']]\n",
    "violation_resto.reset_index(inplace=True)\n",
    "violation_resto = violation_resto.rename(columns={'Violation ID':'Viol. Count'})"
   ]
  },
  {
   "cell_type": "code",
   "execution_count": 82,
   "metadata": {},
   "outputs": [
    {
     "data": {
      "text/html": [
       "<div>\n",
       "<style scoped>\n",
       "    .dataframe tbody tr th:only-of-type {\n",
       "        vertical-align: middle;\n",
       "    }\n",
       "\n",
       "    .dataframe tbody tr th {\n",
       "        vertical-align: top;\n",
       "    }\n",
       "\n",
       "    .dataframe thead th {\n",
       "        text-align: right;\n",
       "    }\n",
       "</style>\n",
       "<table border=\"1\" class=\"dataframe\">\n",
       "  <thead>\n",
       "    <tr style=\"text-align: right;\">\n",
       "      <th></th>\n",
       "      <th>AKA Name</th>\n",
       "      <th>DBA Name</th>\n",
       "      <th>License #</th>\n",
       "      <th>Longitude</th>\n",
       "      <th>Latitude</th>\n",
       "      <th>Viol. Count</th>\n",
       "    </tr>\n",
       "  </thead>\n",
       "  <tbody>\n",
       "    <tr>\n",
       "      <td>0</td>\n",
       "      <td>MCDONALDS</td>\n",
       "      <td>MCDONALD'S</td>\n",
       "      <td>1490035.0</td>\n",
       "      <td>-87.626813</td>\n",
       "      <td>41.769155</td>\n",
       "      <td>37</td>\n",
       "    </tr>\n",
       "    <tr>\n",
       "      <td>1</td>\n",
       "      <td>MCDONALDS</td>\n",
       "      <td>McDONALD'S</td>\n",
       "      <td>1302136.0</td>\n",
       "      <td>-87.622915</td>\n",
       "      <td>41.794794</td>\n",
       "      <td>32</td>\n",
       "    </tr>\n",
       "    <tr>\n",
       "      <td>2</td>\n",
       "      <td>SUBWAY</td>\n",
       "      <td>SUBWAY</td>\n",
       "      <td>1594765.0</td>\n",
       "      <td>-87.705855</td>\n",
       "      <td>41.867667</td>\n",
       "      <td>29</td>\n",
       "    </tr>\n",
       "    <tr>\n",
       "      <td>3</td>\n",
       "      <td>MCDONALDS</td>\n",
       "      <td>MCDONALD'S</td>\n",
       "      <td>33706.0</td>\n",
       "      <td>-87.705734</td>\n",
       "      <td>41.866514</td>\n",
       "      <td>27</td>\n",
       "    </tr>\n",
       "    <tr>\n",
       "      <td>4</td>\n",
       "      <td>MCDONALDS</td>\n",
       "      <td>McDONALDS</td>\n",
       "      <td>1519152.0</td>\n",
       "      <td>-87.615441</td>\n",
       "      <td>41.778597</td>\n",
       "      <td>27</td>\n",
       "    </tr>\n",
       "  </tbody>\n",
       "</table>\n",
       "</div>"
      ],
      "text/plain": [
       "    AKA Name    DBA Name  License #  Longitude   Latitude  Viol. Count\n",
       "0  MCDONALDS  MCDONALD'S  1490035.0 -87.626813  41.769155           37\n",
       "1  MCDONALDS  McDONALD'S  1302136.0 -87.622915  41.794794           32\n",
       "2     SUBWAY      SUBWAY  1594765.0 -87.705855  41.867667           29\n",
       "3  MCDONALDS  MCDONALD'S    33706.0 -87.705734  41.866514           27\n",
       "4  MCDONALDS   McDONALDS  1519152.0 -87.615441  41.778597           27"
      ]
     },
     "execution_count": 82,
     "metadata": {},
     "output_type": "execute_result"
    }
   ],
   "source": [
    "violation_resto.head()"
   ]
  },
  {
   "cell_type": "code",
   "execution_count": 84,
   "metadata": {},
   "outputs": [
    {
     "data": {
      "text/html": [
       "<div>\n",
       "<style scoped>\n",
       "    .dataframe tbody tr th:only-of-type {\n",
       "        vertical-align: middle;\n",
       "    }\n",
       "\n",
       "    .dataframe tbody tr th {\n",
       "        vertical-align: top;\n",
       "    }\n",
       "\n",
       "    .dataframe thead th {\n",
       "        text-align: right;\n",
       "    }\n",
       "</style>\n",
       "<table border=\"1\" class=\"dataframe\">\n",
       "  <thead>\n",
       "    <tr style=\"text-align: right;\">\n",
       "      <th></th>\n",
       "      <th>AKA Name</th>\n",
       "      <th>DBA Name</th>\n",
       "      <th>License #</th>\n",
       "      <th>Longitude</th>\n",
       "      <th>Latitude</th>\n",
       "      <th>Viol. Count</th>\n",
       "    </tr>\n",
       "  </thead>\n",
       "  <tbody>\n",
       "    <tr>\n",
       "      <td>0</td>\n",
       "      <td>MCDONALDS</td>\n",
       "      <td>MCDONALD'S</td>\n",
       "      <td>1490035.0</td>\n",
       "      <td>-87.626813</td>\n",
       "      <td>41.769155</td>\n",
       "      <td>37</td>\n",
       "    </tr>\n",
       "    <tr>\n",
       "      <td>3</td>\n",
       "      <td>MCDONALDS</td>\n",
       "      <td>MCDONALD'S</td>\n",
       "      <td>33706.0</td>\n",
       "      <td>-87.705734</td>\n",
       "      <td>41.866514</td>\n",
       "      <td>27</td>\n",
       "    </tr>\n",
       "    <tr>\n",
       "      <td>5</td>\n",
       "      <td>MCDONALDS</td>\n",
       "      <td>MCDONALD'S</td>\n",
       "      <td>1874347.0</td>\n",
       "      <td>-87.683386</td>\n",
       "      <td>41.775117</td>\n",
       "      <td>26</td>\n",
       "    </tr>\n",
       "    <tr>\n",
       "      <td>16</td>\n",
       "      <td>MCDONALDS</td>\n",
       "      <td>MCDONALD'S</td>\n",
       "      <td>1514130.0</td>\n",
       "      <td>-87.621449</td>\n",
       "      <td>41.830953</td>\n",
       "      <td>20</td>\n",
       "    </tr>\n",
       "    <tr>\n",
       "      <td>19</td>\n",
       "      <td>MCDONALDS</td>\n",
       "      <td>MCDONALD'S</td>\n",
       "      <td>1943516.0</td>\n",
       "      <td>-87.586437</td>\n",
       "      <td>41.775220</td>\n",
       "      <td>19</td>\n",
       "    </tr>\n",
       "  </tbody>\n",
       "</table>\n",
       "</div>"
      ],
      "text/plain": [
       "     AKA Name    DBA Name  License #  Longitude   Latitude  Viol. Count\n",
       "0   MCDONALDS  MCDONALD'S  1490035.0 -87.626813  41.769155           37\n",
       "3   MCDONALDS  MCDONALD'S    33706.0 -87.705734  41.866514           27\n",
       "5   MCDONALDS  MCDONALD'S  1874347.0 -87.683386  41.775117           26\n",
       "16  MCDONALDS  MCDONALD'S  1514130.0 -87.621449  41.830953           20\n",
       "19  MCDONALDS  MCDONALD'S  1943516.0 -87.586437  41.775220           19"
      ]
     },
     "execution_count": 84,
     "metadata": {},
     "output_type": "execute_result"
    }
   ],
   "source": [
    "violation_resto[violation_resto['DBA Name'] == 'MCDONALD\\'S'].head()"
   ]
  },
  {
   "cell_type": "code",
   "execution_count": null,
   "metadata": {},
   "outputs": [],
   "source": []
  }
 ],
 "metadata": {
  "kernelspec": {
   "display_name": "Python 3",
   "language": "python",
   "name": "python3"
  },
  "language_info": {
   "codemirror_mode": {
    "name": "ipython",
    "version": 3
   },
   "file_extension": ".py",
   "mimetype": "text/x-python",
   "name": "python",
   "nbconvert_exporter": "python",
   "pygments_lexer": "ipython3",
   "version": "3.7.4"
  }
 },
 "nbformat": 4,
 "nbformat_minor": 2
}
