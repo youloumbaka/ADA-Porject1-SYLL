{
 "cells": [
  {
   "cell_type": "markdown",
   "metadata": {},
   "source": [
    "**Data Loading**"
   ]
  },
  {
   "cell_type": "code",
   "execution_count": 143,
   "metadata": {},
   "outputs": [],
   "source": [
    "%matplotlib inline\n",
    "import pandas as pd\n",
    "import numpy as np\n",
    "import matplotlib.pyplot as plt\n",
    "from scipy import stats\n",
    "import warnings"
   ]
  },
  {
   "cell_type": "code",
   "execution_count": 144,
   "metadata": {},
   "outputs": [],
   "source": [
    "# Pre-processed Data\n",
    "food_inspections = pd.read_pickle(\"food.pkl\")"
   ]
  },
  {
   "cell_type": "markdown",
   "metadata": {},
   "source": [
    "### Studying the Violations"
   ]
  },
  {
   "cell_type": "markdown",
   "metadata": {},
   "source": [
    "We check if there are entries with no violations. If there is no violation, nothing was detected in those restaurants."
   ]
  },
  {
   "cell_type": "code",
   "execution_count": 145,
   "metadata": {},
   "outputs": [
    {
     "data": {
      "text/plain": [
       "True"
      ]
     },
     "execution_count": 145,
     "metadata": {},
     "output_type": "execute_result"
    }
   ],
   "source": [
    "food_inspections['Violations'].isnull().values.any()"
   ]
  },
  {
   "cell_type": "code",
   "execution_count": 146,
   "metadata": {},
   "outputs": [
    {
     "name": "stdout",
     "output_type": "stream",
     "text": [
      "Total number of entries in the dataset: 147455\n"
     ]
    }
   ],
   "source": [
    "print('Total number of entries in the dataset: {0}'.format(food_inspections.shape[0]))"
   ]
  },
  {
   "cell_type": "code",
   "execution_count": 147,
   "metadata": {},
   "outputs": [
    {
     "name": "stdout",
     "output_type": "stream",
     "text": [
      "Total number of entries with no violations in the dataset: 21814\n",
      "Corresponding the following percentage of entries: 0.15\n"
     ]
    }
   ],
   "source": [
    "print('Total number of entries with no violations in the dataset: {0}'\\\n",
    "      .format(food_inspections[food_inspections['Violations'].isnull()].shape[0]))\n",
    "per = food_inspections[food_inspections['Violations'].isnull()].shape[0]/food_inspections.shape[0]\n",
    "print('Corresponding the following percentage of entries: {0:.2f}'\\\n",
    "      .format(per))"
   ]
  },
  {
   "cell_type": "markdown",
   "metadata": {},
   "source": [
    "We fill those NaN values with the tag 'No Violation' for better readibility during counting. We will then inspect the violations data to see its shape."
   ]
  },
  {
   "cell_type": "code",
   "execution_count": 148,
   "metadata": {},
   "outputs": [],
   "source": [
    "food_inspections['Violations'].fillna('No Violation', inplace=True)"
   ]
  },
  {
   "cell_type": "markdown",
   "metadata": {},
   "source": [
    "We observe that the violations are referenced using a 'number', a 'description' and a comment for more specificities. In our case, we don't need the comment part so we delete it. The 'Violations' column can as well contain more than one violation type, we can split those into arrays and create a new violation-based dataset."
   ]
  },
  {
   "cell_type": "code",
   "execution_count": 149,
   "metadata": {},
   "outputs": [],
   "source": [
    "food_inspections['Violations'] = food_inspections.Violations.apply(lambda x: x.split('- Comments:')[0])"
   ]
  },
  {
   "cell_type": "code",
   "execution_count": 150,
   "metadata": {},
   "outputs": [],
   "source": [
    "food_inspections['Violations'] = np.array(food_inspections.Violations.apply(lambda x: x.split('|')))"
   ]
  },
  {
   "cell_type": "markdown",
   "metadata": {},
   "source": [
    "**Create Violation based dataset**"
   ]
  },
  {
   "cell_type": "code",
   "execution_count": 151,
   "metadata": {},
   "outputs": [],
   "source": [
    "# Convert from geopandas to pandas to use explode\n",
    "food_inspections = pd.DataFrame(food_inspections)"
   ]
  },
  {
   "cell_type": "code",
   "execution_count": 152,
   "metadata": {},
   "outputs": [],
   "source": [
    "violations = food_inspections.explode('Violations')\\\n",
    "                    .rename(columns={'Violations':'Violation'}) \\\n",
    "                    .reset_index(drop=True) \\\n",
    "                    .dropna(subset=['Violation']) \\\n",
    "                    .set_index('Violation') \\\n",
    "                    .reset_index()"
   ]
  },
  {
   "cell_type": "markdown",
   "metadata": {},
   "source": [
    "**Violation ID and Delete No Violation**"
   ]
  },
  {
   "cell_type": "code",
   "execution_count": 153,
   "metadata": {},
   "outputs": [],
   "source": [
    "# Create the Violation ID column. The number at beginning gives the type.\n",
    "violations['Violation ID'] = violations['Violation']\n",
    "violations['Violation ID'] = violations['Violation ID'].apply(lambda x: x.split('.')[0])\n",
    "violations = violations[violations['Violation ID'] != 'No Violation']"
   ]
  },
  {
   "cell_type": "markdown",
   "metadata": {},
   "source": [
    "**Count using ID**"
   ]
  },
  {
   "cell_type": "code",
   "execution_count": 154,
   "metadata": {},
   "outputs": [],
   "source": [
    "def get_counts(df):\n",
    "    \"\"\"\n",
    "    Get the number of violations per violation type \n",
    "    :param df: violations dataframe\n",
    "    :return: the counts with the frequency (frequency for each type)\n",
    "    \"\"\"\n",
    "    df_count = df[['Violation','Violation ID','Inspection ID']].groupby(['Violation','Violation ID'])\\\n",
    "                    .count()\\\n",
    "                    .sort_values(by='Inspection ID', ascending=False)\\\n",
    "                    .rename(columns={'Inspection ID':'Occurence'})\n",
    "\n",
    "    df_count.reset_index(inplace=True)\n",
    "    df_count.sort_values(by='Violation ID', ascending=True, inplace=True)\n",
    "    \n",
    "    df_count = df_count[['Violation ID','Occurence']]\n",
    "    df_count = df_count.groupby('Violation ID', as_index=False).sum()\n",
    "    sum_ = df_count['Occurence'].sum()\n",
    "    df_count['Frequency'] = df_count['Occurence']/sum_ \n",
    "    df_count.sort_values(by='Occurence', ascending=False, inplace=True)\n",
    "    df_count.index = df_count['Violation ID']\n",
    "    \n",
    "    return df_count"
   ]
  },
  {
   "cell_type": "code",
   "execution_count": 155,
   "metadata": {},
   "outputs": [
    {
     "data": {
      "text/html": [
       "<div>\n",
       "<style scoped>\n",
       "    .dataframe tbody tr th:only-of-type {\n",
       "        vertical-align: middle;\n",
       "    }\n",
       "\n",
       "    .dataframe tbody tr th {\n",
       "        vertical-align: top;\n",
       "    }\n",
       "\n",
       "    .dataframe thead th {\n",
       "        text-align: right;\n",
       "    }\n",
       "</style>\n",
       "<table border=\"1\" class=\"dataframe\">\n",
       "  <thead>\n",
       "    <tr style=\"text-align: right;\">\n",
       "      <th></th>\n",
       "      <th>Violation ID</th>\n",
       "      <th>Occurence</th>\n",
       "      <th>Frequency</th>\n",
       "    </tr>\n",
       "    <tr>\n",
       "      <th>Violation ID</th>\n",
       "      <th></th>\n",
       "      <th></th>\n",
       "      <th></th>\n",
       "    </tr>\n",
       "  </thead>\n",
       "  <tbody>\n",
       "    <tr>\n",
       "      <td>32</td>\n",
       "      <td>32</td>\n",
       "      <td>22826</td>\n",
       "      <td>0.181031</td>\n",
       "    </tr>\n",
       "    <tr>\n",
       "      <td>33</td>\n",
       "      <td>33</td>\n",
       "      <td>15555</td>\n",
       "      <td>0.123365</td>\n",
       "    </tr>\n",
       "    <tr>\n",
       "      <td>3</td>\n",
       "      <td>3</td>\n",
       "      <td>11930</td>\n",
       "      <td>0.094616</td>\n",
       "    </tr>\n",
       "    <tr>\n",
       "      <td>34</td>\n",
       "      <td>34</td>\n",
       "      <td>8966</td>\n",
       "      <td>0.071109</td>\n",
       "    </tr>\n",
       "    <tr>\n",
       "      <td>30</td>\n",
       "      <td>30</td>\n",
       "      <td>8735</td>\n",
       "      <td>0.069276</td>\n",
       "    </tr>\n",
       "  </tbody>\n",
       "</table>\n",
       "</div>"
      ],
      "text/plain": [
       "             Violation ID  Occurence  Frequency\n",
       "Violation ID                                   \n",
       "32                     32      22826   0.181031\n",
       "33                     33      15555   0.123365\n",
       "3                       3      11930   0.094616\n",
       "34                     34       8966   0.071109\n",
       "30                     30       8735   0.069276"
      ]
     },
     "execution_count": 155,
     "metadata": {},
     "output_type": "execute_result"
    }
   ],
   "source": [
    "violation_count = get_counts(violations)\n",
    "violation_count.head()"
   ]
  },
  {
   "cell_type": "markdown",
   "metadata": {},
   "source": [
    "**Plotting Violations**"
   ]
  },
  {
   "cell_type": "markdown",
   "metadata": {},
   "source": [
    "We find below the 12 Most common violation from the dataframe."
   ]
  },
  {
   "cell_type": "code",
   "execution_count": 156,
   "metadata": {},
   "outputs": [
    {
     "data": {
      "image/png": "[encoded data removed]",
      "text/plain": [
       "<Figure size 864x576 with 1 Axes>"
      ]
     },
     "metadata": {
      "needs_background": "light"
     },
     "output_type": "display_data"
    }
   ],
   "source": [
    "# Plot 13 top values\n",
    "ax = violation_count.Occurence.iloc[0:12].plot(kind='bar',figsize = [12,8])\n",
    "ax.set_xlabel('Violation Types')\n",
    "ax.set_ylabel('Number of violations')\n",
    "plt.tight_layout()"
   ]
  },
  {
   "cell_type": "markdown",
   "metadata": {},
   "source": [
    "We observe that some violations are much more frequent than others. We should see now the relation between the violations and the risks associated with each inspection. "
   ]
  },
  {
   "cell_type": "markdown",
   "metadata": {},
   "source": [
    "**Separe violations by results**"
   ]
  },
  {
   "cell_type": "markdown",
   "metadata": {},
   "source": [
    "We kept the inspections with the 'Fail', 'Pass' and 'Pass with Conditions' outcomes. We shall see now, how they are distributed among the violations types. As we have seen in the description of the dataset. Some of the violations are considered to be 'serious', 'critical' or 'not serious'."
   ]
  },
  {
   "cell_type": "code",
   "execution_count": 157,
   "metadata": {},
   "outputs": [
    {
     "data": {
      "text/plain": [
       "array(['Fail', 'Pass w/ Conditions', 'Pass'], dtype=object)"
      ]
     },
     "execution_count": 157,
     "metadata": {},
     "output_type": "execute_result"
    }
   ],
   "source": [
    "violations.Results.unique()"
   ]
  },
  {
   "cell_type": "code",
   "execution_count": 158,
   "metadata": {},
   "outputs": [],
   "source": [
    "# Create different datasets filtering by the results\n",
    "violations_fail = violations[violations['Results'] == 'Fail']\n",
    "violations_pass = violations[violations['Results'] == 'Pass']\n",
    "violations_cond = violations[violations['Results'] == 'Pass w/ Conditions']"
   ]
  },
  {
   "cell_type": "code",
   "execution_count": 159,
   "metadata": {},
   "outputs": [],
   "source": [
    "# Get the counts for each violation\n",
    "violations_fail_count = get_counts(violations_fail)\n",
    "violations_pass_count = get_counts(violations_pass)\n",
    "violations_cond_count = get_counts(violations_cond)"
   ]
  },
  {
   "cell_type": "code",
   "execution_count": 160,
   "metadata": {},
   "outputs": [
    {
     "data": {
      "text/html": [
       "<div>\n",
       "<style scoped>\n",
       "    .dataframe tbody tr th:only-of-type {\n",
       "        vertical-align: middle;\n",
       "    }\n",
       "\n",
       "    .dataframe tbody tr th {\n",
       "        vertical-align: top;\n",
       "    }\n",
       "\n",
       "    .dataframe thead th {\n",
       "        text-align: right;\n",
       "    }\n",
       "</style>\n",
       "<table border=\"1\" class=\"dataframe\">\n",
       "  <thead>\n",
       "    <tr style=\"text-align: right;\">\n",
       "      <th></th>\n",
       "      <th>Violation ID</th>\n",
       "      <th>Occurence</th>\n",
       "      <th>Frequency</th>\n",
       "    </tr>\n",
       "    <tr>\n",
       "      <th>Violation ID</th>\n",
       "      <th></th>\n",
       "      <th></th>\n",
       "      <th></th>\n",
       "    </tr>\n",
       "  </thead>\n",
       "  <tbody>\n",
       "    <tr>\n",
       "      <td>18</td>\n",
       "      <td>18</td>\n",
       "      <td>8365</td>\n",
       "      <td>0.278332</td>\n",
       "    </tr>\n",
       "    <tr>\n",
       "      <td>3</td>\n",
       "      <td>3</td>\n",
       "      <td>3441</td>\n",
       "      <td>0.114494</td>\n",
       "    </tr>\n",
       "    <tr>\n",
       "      <td>2</td>\n",
       "      <td>2</td>\n",
       "      <td>3362</td>\n",
       "      <td>0.111865</td>\n",
       "    </tr>\n",
       "    <tr>\n",
       "      <td>16</td>\n",
       "      <td>16</td>\n",
       "      <td>1963</td>\n",
       "      <td>0.065316</td>\n",
       "    </tr>\n",
       "    <tr>\n",
       "      <td>29</td>\n",
       "      <td>29</td>\n",
       "      <td>1717</td>\n",
       "      <td>0.057130</td>\n",
       "    </tr>\n",
       "  </tbody>\n",
       "</table>\n",
       "</div>"
      ],
      "text/plain": [
       "             Violation ID  Occurence  Frequency\n",
       "Violation ID                                   \n",
       "18                     18       8365   0.278332\n",
       "3                       3       3441   0.114494\n",
       "2                       2       3362   0.111865\n",
       "16                     16       1963   0.065316\n",
       "29                     29       1717   0.057130"
      ]
     },
     "execution_count": 160,
     "metadata": {},
     "output_type": "execute_result"
    }
   ],
   "source": [
    "violations_fail_count.head()"
   ]
  },
  {
   "cell_type": "code",
   "execution_count": 161,
   "metadata": {},
   "outputs": [
    {
     "data": {
      "text/html": [
       "<div>\n",
       "<style scoped>\n",
       "    .dataframe tbody tr th:only-of-type {\n",
       "        vertical-align: middle;\n",
       "    }\n",
       "\n",
       "    .dataframe tbody tr th {\n",
       "        vertical-align: top;\n",
       "    }\n",
       "\n",
       "    .dataframe thead th {\n",
       "        text-align: right;\n",
       "    }\n",
       "</style>\n",
       "<table border=\"1\" class=\"dataframe\">\n",
       "  <thead>\n",
       "    <tr style=\"text-align: right;\">\n",
       "      <th></th>\n",
       "      <th>Violation ID</th>\n",
       "      <th>Occurence</th>\n",
       "      <th>Frequency</th>\n",
       "    </tr>\n",
       "    <tr>\n",
       "      <th>Violation ID</th>\n",
       "      <th></th>\n",
       "      <th></th>\n",
       "      <th></th>\n",
       "    </tr>\n",
       "  </thead>\n",
       "  <tbody>\n",
       "    <tr>\n",
       "      <td>32</td>\n",
       "      <td>32</td>\n",
       "      <td>22318</td>\n",
       "      <td>0.308426</td>\n",
       "    </tr>\n",
       "    <tr>\n",
       "      <td>33</td>\n",
       "      <td>33</td>\n",
       "      <td>15360</td>\n",
       "      <td>0.212269</td>\n",
       "    </tr>\n",
       "    <tr>\n",
       "      <td>34</td>\n",
       "      <td>34</td>\n",
       "      <td>8854</td>\n",
       "      <td>0.122359</td>\n",
       "    </tr>\n",
       "    <tr>\n",
       "      <td>30</td>\n",
       "      <td>30</td>\n",
       "      <td>8603</td>\n",
       "      <td>0.118890</td>\n",
       "    </tr>\n",
       "    <tr>\n",
       "      <td>35</td>\n",
       "      <td>35</td>\n",
       "      <td>4493</td>\n",
       "      <td>0.062091</td>\n",
       "    </tr>\n",
       "  </tbody>\n",
       "</table>\n",
       "</div>"
      ],
      "text/plain": [
       "             Violation ID  Occurence  Frequency\n",
       "Violation ID                                   \n",
       "32                     32      22318   0.308426\n",
       "33                     33      15360   0.212269\n",
       "34                     34       8854   0.122359\n",
       "30                     30       8603   0.118890\n",
       "35                     35       4493   0.062091"
      ]
     },
     "execution_count": 161,
     "metadata": {},
     "output_type": "execute_result"
    }
   ],
   "source": [
    "violations_pass_count.head()"
   ]
  },
  {
   "cell_type": "code",
   "execution_count": 162,
   "metadata": {},
   "outputs": [
    {
     "data": {
      "text/html": [
       "<div>\n",
       "<style scoped>\n",
       "    .dataframe tbody tr th:only-of-type {\n",
       "        vertical-align: middle;\n",
       "    }\n",
       "\n",
       "    .dataframe tbody tr th {\n",
       "        vertical-align: top;\n",
       "    }\n",
       "\n",
       "    .dataframe thead th {\n",
       "        text-align: right;\n",
       "    }\n",
       "</style>\n",
       "<table border=\"1\" class=\"dataframe\">\n",
       "  <thead>\n",
       "    <tr style=\"text-align: right;\">\n",
       "      <th></th>\n",
       "      <th>Violation ID</th>\n",
       "      <th>Occurence</th>\n",
       "      <th>Frequency</th>\n",
       "    </tr>\n",
       "    <tr>\n",
       "      <th>Violation ID</th>\n",
       "      <th></th>\n",
       "      <th></th>\n",
       "      <th></th>\n",
       "    </tr>\n",
       "  </thead>\n",
       "  <tbody>\n",
       "    <tr>\n",
       "      <td>3</td>\n",
       "      <td>3</td>\n",
       "      <td>8455</td>\n",
       "      <td>0.357143</td>\n",
       "    </tr>\n",
       "    <tr>\n",
       "      <td>21</td>\n",
       "      <td>21</td>\n",
       "      <td>3557</td>\n",
       "      <td>0.150249</td>\n",
       "    </tr>\n",
       "    <tr>\n",
       "      <td>2</td>\n",
       "      <td>2</td>\n",
       "      <td>2927</td>\n",
       "      <td>0.123638</td>\n",
       "    </tr>\n",
       "    <tr>\n",
       "      <td>5</td>\n",
       "      <td>5</td>\n",
       "      <td>1025</td>\n",
       "      <td>0.043296</td>\n",
       "    </tr>\n",
       "    <tr>\n",
       "      <td>16</td>\n",
       "      <td>16</td>\n",
       "      <td>920</td>\n",
       "      <td>0.038861</td>\n",
       "    </tr>\n",
       "  </tbody>\n",
       "</table>\n",
       "</div>"
      ],
      "text/plain": [
       "             Violation ID  Occurence  Frequency\n",
       "Violation ID                                   \n",
       "3                       3       8455   0.357143\n",
       "21                     21       3557   0.150249\n",
       "2                       2       2927   0.123638\n",
       "5                       5       1025   0.043296\n",
       "16                     16        920   0.038861"
      ]
     },
     "execution_count": 162,
     "metadata": {},
     "output_type": "execute_result"
    }
   ],
   "source": [
    "violations_cond_count.head()"
   ]
  },
  {
   "cell_type": "code",
   "execution_count": 163,
   "metadata": {},
   "outputs": [
    {
     "data": {
      "image/png": "[encoded data removed]",
      "text/plain": [
       "<Figure size 864x576 with 1 Axes>"
      ]
     },
     "metadata": {
      "needs_background": "light"
     },
     "output_type": "display_data"
    }
   ],
   "source": [
    "# Plot 12 top values for the critical violations that caused the facility to fail the inspection \n",
    "ax = violations_fail_count.Occurence.iloc[0:11].plot(kind='bar',figsize = [12,8])\n",
    "ax.set_xlabel('Violation Types')\n",
    "ax.set_ylabel('Number of violations')\n",
    "plt.tight_layout()"
   ]
  },
  {
   "cell_type": "markdown",
   "metadata": {},
   "source": [
    "**Merge the results together for more plots**"
   ]
  },
  {
   "cell_type": "code",
   "execution_count": 164,
   "metadata": {},
   "outputs": [
    {
     "data": {
      "text/html": [
       "<div>\n",
       "<style scoped>\n",
       "    .dataframe tbody tr th:only-of-type {\n",
       "        vertical-align: middle;\n",
       "    }\n",
       "\n",
       "    .dataframe tbody tr th {\n",
       "        vertical-align: top;\n",
       "    }\n",
       "\n",
       "    .dataframe thead th {\n",
       "        text-align: right;\n",
       "    }\n",
       "</style>\n",
       "<table border=\"1\" class=\"dataframe\">\n",
       "  <thead>\n",
       "    <tr style=\"text-align: right;\">\n",
       "      <th></th>\n",
       "      <th>Occurence All</th>\n",
       "      <th>Frequency All</th>\n",
       "      <th>Occurence Pass</th>\n",
       "      <th>Frequency Pass</th>\n",
       "      <th>Occurence Fail</th>\n",
       "      <th>Frequency Fail</th>\n",
       "      <th>Occurence w/ Cond.</th>\n",
       "      <th>Frequency w/ Cond.</th>\n",
       "    </tr>\n",
       "    <tr>\n",
       "      <th>Violation ID</th>\n",
       "      <th></th>\n",
       "      <th></th>\n",
       "      <th></th>\n",
       "      <th></th>\n",
       "      <th></th>\n",
       "      <th></th>\n",
       "      <th></th>\n",
       "      <th></th>\n",
       "    </tr>\n",
       "  </thead>\n",
       "  <tbody>\n",
       "    <tr>\n",
       "      <td>32</td>\n",
       "      <td>22826</td>\n",
       "      <td>0.181031</td>\n",
       "      <td>22318</td>\n",
       "      <td>0.308426</td>\n",
       "      <td>341</td>\n",
       "      <td>0.011346</td>\n",
       "      <td>167</td>\n",
       "      <td>0.007054</td>\n",
       "    </tr>\n",
       "    <tr>\n",
       "      <td>33</td>\n",
       "      <td>15555</td>\n",
       "      <td>0.123365</td>\n",
       "      <td>15360</td>\n",
       "      <td>0.212269</td>\n",
       "      <td>117</td>\n",
       "      <td>0.003893</td>\n",
       "      <td>78</td>\n",
       "      <td>0.003295</td>\n",
       "    </tr>\n",
       "    <tr>\n",
       "      <td>3</td>\n",
       "      <td>11930</td>\n",
       "      <td>0.094616</td>\n",
       "      <td>34</td>\n",
       "      <td>0.000470</td>\n",
       "      <td>3441</td>\n",
       "      <td>0.114494</td>\n",
       "      <td>8455</td>\n",
       "      <td>0.357143</td>\n",
       "    </tr>\n",
       "    <tr>\n",
       "      <td>34</td>\n",
       "      <td>8966</td>\n",
       "      <td>0.071109</td>\n",
       "      <td>8854</td>\n",
       "      <td>0.122359</td>\n",
       "      <td>71</td>\n",
       "      <td>0.002362</td>\n",
       "      <td>41</td>\n",
       "      <td>0.001732</td>\n",
       "    </tr>\n",
       "    <tr>\n",
       "      <td>30</td>\n",
       "      <td>8735</td>\n",
       "      <td>0.069276</td>\n",
       "      <td>8603</td>\n",
       "      <td>0.118890</td>\n",
       "      <td>63</td>\n",
       "      <td>0.002096</td>\n",
       "      <td>69</td>\n",
       "      <td>0.002915</td>\n",
       "    </tr>\n",
       "  </tbody>\n",
       "</table>\n",
       "</div>"
      ],
      "text/plain": [
       "              Occurence All  Frequency All  Occurence Pass  Frequency Pass  \\\n",
       "Violation ID                                                                 \n",
       "32                    22826       0.181031           22318        0.308426   \n",
       "33                    15555       0.123365           15360        0.212269   \n",
       "3                     11930       0.094616              34        0.000470   \n",
       "34                     8966       0.071109            8854        0.122359   \n",
       "30                     8735       0.069276            8603        0.118890   \n",
       "\n",
       "              Occurence Fail  Frequency Fail  Occurence w/ Cond.  \\\n",
       "Violation ID                                                       \n",
       "32                       341        0.011346                 167   \n",
       "33                       117        0.003893                  78   \n",
       "3                       3441        0.114494                8455   \n",
       "34                        71        0.002362                  41   \n",
       "30                        63        0.002096                  69   \n",
       "\n",
       "              Frequency w/ Cond.  \n",
       "Violation ID                      \n",
       "32                      0.007054  \n",
       "33                      0.003295  \n",
       "3                       0.357143  \n",
       "34                      0.001732  \n",
       "30                      0.002915  "
      ]
     },
     "execution_count": 164,
     "metadata": {},
     "output_type": "execute_result"
    }
   ],
   "source": [
    "merged = violation_count.merge(violations_pass_count, left_index=True, right_index=True)\n",
    "merged.drop('Violation ID_x', inplace=True, axis=1)\n",
    "merged.drop('Violation ID_y', inplace=True, axis=1)\n",
    "merged.rename(columns={\"Occurence_x\": \"Occurence All\", \"Frequency_x\": \"Frequency All\"}, inplace=True)\n",
    "merged.rename(columns={\"Occurence_y\": \"Occurence Pass\", \"Frequency_y\": \"Frequency Pass\"}, inplace=True)\n",
    "\n",
    "merged = merged.merge(violations_fail_count, left_index=True, right_index=True)\n",
    "merged.drop('Violation ID', inplace=True, axis=1)\n",
    "merged.rename(columns={\"Occurence\": \"Occurence Fail\", \"Frequency\": \"Frequency Fail\"}, inplace=True)\n",
    "\n",
    "merged = merged.merge(violations_cond_count, left_index=True, right_index=True)\n",
    "merged.drop('Violation ID', inplace=True, axis=1)\n",
    "merged.rename(columns={\"Occurence\": \"Occurence w/ Cond.\", \"Frequency\": \"Frequency w/ Cond.\"}, inplace=True)\n",
    "\n",
    "merged.head()"
   ]
  },
  {
   "cell_type": "code",
   "execution_count": 165,
   "metadata": {},
   "outputs": [
    {
     "data": {
      "text/html": [
       "<div>\n",
       "<style scoped>\n",
       "    .dataframe tbody tr th:only-of-type {\n",
       "        vertical-align: middle;\n",
       "    }\n",
       "\n",
       "    .dataframe tbody tr th {\n",
       "        vertical-align: top;\n",
       "    }\n",
       "\n",
       "    .dataframe thead th {\n",
       "        text-align: right;\n",
       "    }\n",
       "</style>\n",
       "<table border=\"1\" class=\"dataframe\">\n",
       "  <thead>\n",
       "    <tr style=\"text-align: right;\">\n",
       "      <th></th>\n",
       "      <th>Pass</th>\n",
       "      <th>Fail</th>\n",
       "      <th>Pass w/ cond</th>\n",
       "    </tr>\n",
       "    <tr>\n",
       "      <th>Violation ID</th>\n",
       "      <th></th>\n",
       "      <th></th>\n",
       "      <th></th>\n",
       "    </tr>\n",
       "  </thead>\n",
       "  <tbody>\n",
       "    <tr>\n",
       "      <td>32</td>\n",
       "      <td>22318</td>\n",
       "      <td>341</td>\n",
       "      <td>167</td>\n",
       "    </tr>\n",
       "    <tr>\n",
       "      <td>33</td>\n",
       "      <td>15360</td>\n",
       "      <td>117</td>\n",
       "      <td>78</td>\n",
       "    </tr>\n",
       "    <tr>\n",
       "      <td>3</td>\n",
       "      <td>34</td>\n",
       "      <td>3441</td>\n",
       "      <td>8455</td>\n",
       "    </tr>\n",
       "    <tr>\n",
       "      <td>34</td>\n",
       "      <td>8854</td>\n",
       "      <td>71</td>\n",
       "      <td>41</td>\n",
       "    </tr>\n",
       "    <tr>\n",
       "      <td>30</td>\n",
       "      <td>8603</td>\n",
       "      <td>63</td>\n",
       "      <td>69</td>\n",
       "    </tr>\n",
       "  </tbody>\n",
       "</table>\n",
       "</div>"
      ],
      "text/plain": [
       "               Pass  Fail  Pass w/ cond\n",
       "Violation ID                           \n",
       "32            22318   341           167\n",
       "33            15360   117            78\n",
       "3                34  3441          8455\n",
       "34             8854    71            41\n",
       "30             8603    63            69"
      ]
     },
     "execution_count": 165,
     "metadata": {},
     "output_type": "execute_result"
    }
   ],
   "source": [
    "sub_merged = merged[['Occurence All','Occurence Pass','Occurence Fail', 'Occurence w/ Cond.']].copy()\n",
    "sub_merged.rename(columns={'Occurence All':'All', 'Occurence Pass': \"Pass\", 'Occurence Fail': \"Fail\", \\\n",
    "                           \"Occurence w/ Cond.\":'Pass w/ cond'}, inplace=True)\n",
    "sub_merged.head()"
   ]
  },
  {
   "cell_type": "code",
   "execution_count": 179,
   "metadata": {},
   "outputs": [
    {
     "data": {
      "image/png": "[encoded data removed]",
      "text/plain": [
       "<Figure size 864x576 with 1 Axes>"
      ]
     },
     "metadata": {
      "needs_background": "light"
     },
     "output_type": "display_data"
    }
   ],
   "source": [
    "# Same graph as earlier but with the decomposition\n",
    "sub_merged.sort_values(by='All', inplace=True, ascending=False)\n",
    "ax = sub_merged.iloc[0:11,1:].plot(kind='bar',figsize = [12,8], stacked=True)\n",
    "ax.set_xlabel('Violation Types')\n",
    "ax.set_ylabel('Number of violations')\n",
    "plt.tight_layout()"
   ]
  },
  {
   "cell_type": "code",
   "execution_count": 180,
   "metadata": {},
   "outputs": [
    {
     "data": {
      "image/png": "[encoded data removed]",
      "text/plain": [
       "<Figure size 1080x720 with 12 Axes>"
      ]
     },
     "metadata": {},
     "output_type": "display_data"
    }
   ],
   "source": [
    "# Sorting by most frequent fails. Top 12 charts below\n",
    "sub_merged.sort_values(by='Fail', inplace=True, ascending=False)\n",
    "violation_list = sub_merged.index\n",
    "\n",
    "labels = ['Pass', 'Pass w/ cond', 'Fail']\n",
    "fig, ax= plt.subplots(3, 4, figsize=(15,10))\n",
    "\n",
    "first=0\n",
    "for i in range(3):\n",
    "    for j in range(4):\n",
    "        \n",
    "        ax[i,j].pie(sub_merged.iloc[first,1:].to_list(), labels = labels, radius = 1.3,\n",
    "                    autopct='%1.1f%%', colors=[\"darkred\",\"orange\",\"blue\"])\n",
    "        ax[i,j].set_title(violation_list[first])\n",
    "        first += 1\n",
    "\n",
    "plt.show()"
   ]
  },
  {
   "cell_type": "markdown",
   "metadata": {},
   "source": [
    "Pie charts for the distributions of each associated results of the most frequent serious violations resulting in a 'Fail'"
   ]
  },
  {
   "cell_type": "code",
   "execution_count": 181,
   "metadata": {
    "scrolled": false
   },
   "outputs": [
    {
     "data": {
      "image/png": "[encoded data removed]",
      "text/plain": [
       "<Figure size 864x576 with 1 Axes>"
      ]
     },
     "metadata": {
      "needs_background": "light"
     },
     "output_type": "display_data"
    }
   ],
   "source": [
    "# Also two 12 for the most frequent 'fails'\n",
    "ax = sub_merged.iloc[0:11,1:].plot(kind='bar',figsize = [12,8], stacked=True)\n",
    "ax.set_xlabel('Violation Types')\n",
    "ax.set_ylabel('Number of violations')\n",
    "plt.tight_layout()"
   ]
  },
  {
   "cell_type": "code",
   "execution_count": 182,
   "metadata": {},
   "outputs": [
    {
     "data": {
      "image/png": "[encoded data removed]",
      "text/plain": [
       "<Figure size 864x576 with 1 Axes>"
      ]
     },
     "metadata": {
      "needs_background": "light"
     },
     "output_type": "display_data"
    }
   ],
   "source": [
    "# Plot for the most frequent 'Pass'\n",
    "sub_merged.sort_values(by='Pass', inplace=True, ascending=False)\n",
    "ax = sub_merged.iloc[0:11].plot(kind='bar',figsize = [12,8], stacked=True)\n",
    "ax.set_xlabel('Violation Types')\n",
    "ax.set_ylabel('Number of violations')\n",
    "plt.tight_layout()"
   ]
  },
  {
   "cell_type": "code",
   "execution_count": 184,
   "metadata": {},
   "outputs": [
    {
     "data": {
      "image/png": "[encoded data removed]",
      "text/plain": [
       "<Figure size 864x576 with 1 Axes>"
      ]
     },
     "metadata": {
      "needs_background": "light"
     },
     "output_type": "display_data"
    }
   ],
   "source": [
    "# Plot for the most frequent 'Pass with condition'\n",
    "sub_merged.sort_values(by='Pass w/ cond', inplace=True, ascending=False)\n",
    "ax = sub_merged.iloc[0:11,1:].plot(kind='bar',figsize = [12,8], stacked=True)\n",
    "ax.set_xlabel('Violation Types')\n",
    "ax.set_ylabel('Number of violations')\n",
    "plt.tight_layout()"
   ]
  },
  {
   "cell_type": "markdown",
   "metadata": {},
   "source": [
    "**Violations per establishment**"
   ]
  },
  {
   "cell_type": "code",
   "execution_count": 185,
   "metadata": {},
   "outputs": [],
   "source": [
    "# Loading the target dataset containing only the restaurants\n",
    "restaurants_top5 = pd.read_pickle(\"restaurants.pkl\")"
   ]
  },
  {
   "cell_type": "code",
   "execution_count": 186,
   "metadata": {},
   "outputs": [],
   "source": [
    "# Merge with the violations result from earlier\n",
    "restaurants_top5 = restaurants_top5.merge(violations[['Inspection ID','Violation ID']], on='Inspection ID')"
   ]
  },
  {
   "cell_type": "code",
   "execution_count": 195,
   "metadata": {},
   "outputs": [],
   "source": [
    "# Selection of the most useful parameters\n",
    "violation_resto = restaurants_top5.groupby(['AKA Name','DBA Name', 'License #','Longitude', 'Latitude'])\\\n",
    "                    .count()\\\n",
    "                    .sort_values(by='Inspection ID', ascending=False)\n",
    "\n",
    "# Taking only the 'Violation ID' count\n",
    "violation_resto = violation_resto[['Violation ID']]\n",
    "violation_resto.rename(columns={'Violation ID':'Viol. Count'},inplace=True)\n",
    "violation_resto.reset_index(inplace=True)"
   ]
  },
  {
   "cell_type": "code",
   "execution_count": 198,
   "metadata": {},
   "outputs": [
    {
     "data": {
      "text/html": [
       "<div>\n",
       "<style scoped>\n",
       "    .dataframe tbody tr th:only-of-type {\n",
       "        vertical-align: middle;\n",
       "    }\n",
       "\n",
       "    .dataframe tbody tr th {\n",
       "        vertical-align: top;\n",
       "    }\n",
       "\n",
       "    .dataframe thead th {\n",
       "        text-align: right;\n",
       "    }\n",
       "</style>\n",
       "<table border=\"1\" class=\"dataframe\">\n",
       "  <thead>\n",
       "    <tr style=\"text-align: right;\">\n",
       "      <th></th>\n",
       "      <th>AKA Name</th>\n",
       "      <th>DBA Name</th>\n",
       "      <th>License #</th>\n",
       "      <th>Longitude</th>\n",
       "      <th>Latitude</th>\n",
       "      <th>Viol. Count</th>\n",
       "    </tr>\n",
       "  </thead>\n",
       "  <tbody>\n",
       "    <tr>\n",
       "      <td>0</td>\n",
       "      <td>MCDONALDS</td>\n",
       "      <td>MCDONALD'S</td>\n",
       "      <td>1490035.0</td>\n",
       "      <td>-87.626813</td>\n",
       "      <td>41.769155</td>\n",
       "      <td>37</td>\n",
       "    </tr>\n",
       "    <tr>\n",
       "      <td>1</td>\n",
       "      <td>MCDONALDS</td>\n",
       "      <td>McDONALD'S</td>\n",
       "      <td>1302136.0</td>\n",
       "      <td>-87.622915</td>\n",
       "      <td>41.794794</td>\n",
       "      <td>32</td>\n",
       "    </tr>\n",
       "    <tr>\n",
       "      <td>2</td>\n",
       "      <td>SUBWAY</td>\n",
       "      <td>SUBWAY</td>\n",
       "      <td>1594765.0</td>\n",
       "      <td>-87.705855</td>\n",
       "      <td>41.867667</td>\n",
       "      <td>29</td>\n",
       "    </tr>\n",
       "    <tr>\n",
       "      <td>3</td>\n",
       "      <td>MCDONALDS</td>\n",
       "      <td>MCDONALD'S</td>\n",
       "      <td>33706.0</td>\n",
       "      <td>-87.705734</td>\n",
       "      <td>41.866514</td>\n",
       "      <td>27</td>\n",
       "    </tr>\n",
       "    <tr>\n",
       "      <td>4</td>\n",
       "      <td>MCDONALDS</td>\n",
       "      <td>McDONALDS</td>\n",
       "      <td>1519152.0</td>\n",
       "      <td>-87.615441</td>\n",
       "      <td>41.778597</td>\n",
       "      <td>27</td>\n",
       "    </tr>\n",
       "    <tr>\n",
       "      <td>5</td>\n",
       "      <td>MCDONALDS</td>\n",
       "      <td>MCDONALD'S</td>\n",
       "      <td>1874347.0</td>\n",
       "      <td>-87.683386</td>\n",
       "      <td>41.775117</td>\n",
       "      <td>26</td>\n",
       "    </tr>\n",
       "    <tr>\n",
       "      <td>6</td>\n",
       "      <td>DUNKIN DONUTS</td>\n",
       "      <td>DUNKIN DONUTS</td>\n",
       "      <td>32534.0</td>\n",
       "      <td>-87.667674</td>\n",
       "      <td>41.904524</td>\n",
       "      <td>26</td>\n",
       "    </tr>\n",
       "    <tr>\n",
       "      <td>7</td>\n",
       "      <td>MCDONALDS</td>\n",
       "      <td>MCDONALD'S RESTAURANT</td>\n",
       "      <td>1678414.0</td>\n",
       "      <td>-87.664337</td>\n",
       "      <td>41.778361</td>\n",
       "      <td>25</td>\n",
       "    </tr>\n",
       "  </tbody>\n",
       "</table>\n",
       "</div>"
      ],
      "text/plain": [
       "        AKA Name               DBA Name  License #  Longitude   Latitude  \\\n",
       "0      MCDONALDS             MCDONALD'S  1490035.0 -87.626813  41.769155   \n",
       "1      MCDONALDS             McDONALD'S  1302136.0 -87.622915  41.794794   \n",
       "2         SUBWAY                 SUBWAY  1594765.0 -87.705855  41.867667   \n",
       "3      MCDONALDS             MCDONALD'S    33706.0 -87.705734  41.866514   \n",
       "4      MCDONALDS              McDONALDS  1519152.0 -87.615441  41.778597   \n",
       "5      MCDONALDS             MCDONALD'S  1874347.0 -87.683386  41.775117   \n",
       "6  DUNKIN DONUTS          DUNKIN DONUTS    32534.0 -87.667674  41.904524   \n",
       "7      MCDONALDS  MCDONALD'S RESTAURANT  1678414.0 -87.664337  41.778361   \n",
       "\n",
       "   Viol. Count  \n",
       "0           37  \n",
       "1           32  \n",
       "2           29  \n",
       "3           27  \n",
       "4           27  \n",
       "5           26  \n",
       "6           26  \n",
       "7           25  "
      ]
     },
     "execution_count": 198,
     "metadata": {},
     "output_type": "execute_result"
    }
   ],
   "source": [
    "#Plotting the restaurants having the most violations\n",
    "violation_resto.head(8)"
   ]
  },
  {
   "cell_type": "markdown",
   "metadata": {},
   "source": [
    "'Mc Donalds' and 'Subway' have the restaurants with the higher violation counts."
   ]
  },
  {
   "cell_type": "code",
   "execution_count": 199,
   "metadata": {},
   "outputs": [
    {
     "data": {
      "text/html": [
       "<div>\n",
       "<style scoped>\n",
       "    .dataframe tbody tr th:only-of-type {\n",
       "        vertical-align: middle;\n",
       "    }\n",
       "\n",
       "    .dataframe tbody tr th {\n",
       "        vertical-align: top;\n",
       "    }\n",
       "\n",
       "    .dataframe thead th {\n",
       "        text-align: right;\n",
       "    }\n",
       "</style>\n",
       "<table border=\"1\" class=\"dataframe\">\n",
       "  <thead>\n",
       "    <tr style=\"text-align: right;\">\n",
       "      <th></th>\n",
       "      <th>AKA Name</th>\n",
       "      <th>DBA Name</th>\n",
       "      <th>License #</th>\n",
       "      <th>Longitude</th>\n",
       "      <th>Latitude</th>\n",
       "      <th>Viol. Count</th>\n",
       "    </tr>\n",
       "  </thead>\n",
       "  <tbody>\n",
       "    <tr>\n",
       "      <td>0</td>\n",
       "      <td>MCDONALDS</td>\n",
       "      <td>MCDONALD'S</td>\n",
       "      <td>1490035.0</td>\n",
       "      <td>-87.626813</td>\n",
       "      <td>41.769155</td>\n",
       "      <td>37</td>\n",
       "    </tr>\n",
       "    <tr>\n",
       "      <td>3</td>\n",
       "      <td>MCDONALDS</td>\n",
       "      <td>MCDONALD'S</td>\n",
       "      <td>33706.0</td>\n",
       "      <td>-87.705734</td>\n",
       "      <td>41.866514</td>\n",
       "      <td>27</td>\n",
       "    </tr>\n",
       "    <tr>\n",
       "      <td>5</td>\n",
       "      <td>MCDONALDS</td>\n",
       "      <td>MCDONALD'S</td>\n",
       "      <td>1874347.0</td>\n",
       "      <td>-87.683386</td>\n",
       "      <td>41.775117</td>\n",
       "      <td>26</td>\n",
       "    </tr>\n",
       "    <tr>\n",
       "      <td>16</td>\n",
       "      <td>MCDONALDS</td>\n",
       "      <td>MCDONALD'S</td>\n",
       "      <td>1514130.0</td>\n",
       "      <td>-87.621449</td>\n",
       "      <td>41.830953</td>\n",
       "      <td>20</td>\n",
       "    </tr>\n",
       "    <tr>\n",
       "      <td>19</td>\n",
       "      <td>MCDONALDS</td>\n",
       "      <td>MCDONALD'S</td>\n",
       "      <td>1943516.0</td>\n",
       "      <td>-87.586437</td>\n",
       "      <td>41.775220</td>\n",
       "      <td>19</td>\n",
       "    </tr>\n",
       "  </tbody>\n",
       "</table>\n",
       "</div>"
      ],
      "text/plain": [
       "     AKA Name    DBA Name  License #  Longitude   Latitude  Viol. Count\n",
       "0   MCDONALDS  MCDONALD'S  1490035.0 -87.626813  41.769155           37\n",
       "3   MCDONALDS  MCDONALD'S    33706.0 -87.705734  41.866514           27\n",
       "5   MCDONALDS  MCDONALD'S  1874347.0 -87.683386  41.775117           26\n",
       "16  MCDONALDS  MCDONALD'S  1514130.0 -87.621449  41.830953           20\n",
       "19  MCDONALDS  MCDONALD'S  1943516.0 -87.586437  41.775220           19"
      ]
     },
     "execution_count": 199,
     "metadata": {},
     "output_type": "execute_result"
    }
   ],
   "source": [
    "violation_resto[violation_resto['DBA Name'] == 'MCDONALD\\'S'].head()"
   ]
  }
 ],
 "metadata": {
  "kernelspec": {
   "display_name": "Python 3",
   "language": "python",
   "name": "python3"
  },
  "language_info": {
   "codemirror_mode": {
    "name": "ipython",
    "version": 3
   },
   "file_extension": ".py",
   "mimetype": "text/x-python",
   "name": "python",
   "nbconvert_exporter": "python",
   "pygments_lexer": "ipython3",
   "version": "3.7.4"
  }
 },
 "nbformat": 4,
 "nbformat_minor": 2
}
