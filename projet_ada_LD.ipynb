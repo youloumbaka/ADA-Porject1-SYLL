{
 "cells": [
  {
   "cell_type": "markdown",
   "metadata": {},
   "source": [
    "# Project Title"
   ]
  },
  {
   "cell_type": "markdown",
   "metadata": {},
   "source": [
    "## Introduction and description"
   ]
  },
  {
   "cell_type": "markdown",
   "metadata": {},
   "source": [
    " This dataset contains information from inspections of restaurants and other\n",
    "food establishments in Chicago from January 1, 2010 to the present. \n",
    "\n",
    "(...)"
   ]
  },
  {
   "cell_type": "markdown",
   "metadata": {},
   "source": [
    "## Exploratory Data Analysis"
   ]
  },
  {
   "cell_type": "markdown",
   "metadata": {},
   "source": [
    "**Data Loading**"
   ]
  },
  {
   "cell_type": "code",
   "execution_count": 380,
   "metadata": {},
   "outputs": [],
   "source": [
    "%matplotlib inline\n",
    "import pandas as pd\n",
    "import numpy as np\n",
    "import matplotlib.pyplot as plt\n",
    "from scipy import stats\n",
    "import warnings"
   ]
  },
  {
   "cell_type": "code",
   "execution_count": 381,
   "metadata": {},
   "outputs": [],
   "source": [
    "food_inspections = pd.read_csv('data/food-inspections.csv', sep=',')"
   ]
  },
  {
   "cell_type": "code",
   "execution_count": 382,
   "metadata": {},
   "outputs": [
    {
     "data": {
      "text/plain": [
       "Index(['Inspection ID', 'DBA Name', 'AKA Name', 'License #', 'Facility Type',\n",
       "       'Risk', 'Address', 'City', 'State', 'Zip', 'Inspection Date',\n",
       "       'Inspection Type', 'Results', 'Violations', 'Latitude', 'Longitude',\n",
       "       'Location', 'Historical Wards 2003-2015', 'Zip Codes',\n",
       "       'Community Areas', 'Census Tracts', 'Wards'],\n",
       "      dtype='object')"
      ]
     },
     "execution_count": 382,
     "metadata": {},
     "output_type": "execute_result"
    }
   ],
   "source": [
    "food_inspections.columns"
   ]
  },
  {
   "cell_type": "code",
   "execution_count": 383,
   "metadata": {},
   "outputs": [
    {
     "name": "stdout",
     "output_type": "stream",
     "text": [
      "[nan]\n",
      "[nan]\n",
      "[nan]\n",
      "[nan]\n",
      "[nan]\n"
     ]
    }
   ],
   "source": [
    "# Check format\n",
    "print(food_inspections['Historical Wards 2003-2015'].unique())\n",
    "print(food_inspections['Zip Codes'].unique())\n",
    "print(food_inspections['Community Areas'].unique())\n",
    "print(food_inspections['Census Tracts'].unique())\n",
    "print(food_inspections['Wards'].unique())\n",
    "#print(food_inspections['Zip'].unique())"
   ]
  },
  {
   "cell_type": "markdown",
   "metadata": {},
   "source": [
    "**Remove the columns containing only 'NaN'**\n",
    "\n",
    "We remove the 'Zip' column as well because it is not useful."
   ]
  },
  {
   "cell_type": "code",
   "execution_count": 384,
   "metadata": {},
   "outputs": [],
   "source": [
    "food_inspections.drop(['Zip', 'Zip Codes','Historical Wards 2003-2015', 'Community Areas', \n",
    "                       'Census Tracts','Wards'], axis=1, inplace=True)"
   ]
  },
  {
   "cell_type": "markdown",
   "metadata": {},
   "source": [
    "**Create Year Column**"
   ]
  },
  {
   "cell_type": "code",
   "execution_count": 385,
   "metadata": {},
   "outputs": [],
   "source": [
    "food_inspections['Year'] = food_inspections['Inspection Date'].apply(lambda x: x.split('-')[0])"
   ]
  },
  {
   "cell_type": "markdown",
   "metadata": {},
   "source": [
    "### Studying the Violations"
   ]
  },
  {
   "cell_type": "markdown",
   "metadata": {},
   "source": [
    "We check if there are entries with no violations. If there is no violation, nothing was detected in those restaurants."
   ]
  },
  {
   "cell_type": "code",
   "execution_count": 386,
   "metadata": {},
   "outputs": [
    {
     "data": {
      "text/plain": [
       "True"
      ]
     },
     "execution_count": 386,
     "metadata": {},
     "output_type": "execute_result"
    }
   ],
   "source": [
    "food_inspections['Violations'].isnull().values.any()"
   ]
  },
  {
   "cell_type": "code",
   "execution_count": 387,
   "metadata": {},
   "outputs": [
    {
     "name": "stdout",
     "output_type": "stream",
     "text": [
      "Total number of entries in the dataset: 194904\n"
     ]
    }
   ],
   "source": [
    "print('Total number of entries in the dataset: {0}'.format(food_inspections.shape[0]))"
   ]
  },
  {
   "cell_type": "code",
   "execution_count": 388,
   "metadata": {},
   "outputs": [
    {
     "name": "stdout",
     "output_type": "stream",
     "text": [
      "Total number of entries with no violations in the dataset: 51683\n",
      "Corresponding the following percentage of entries: 0.27\n"
     ]
    }
   ],
   "source": [
    "print('Total number of entries with no violations in the dataset: {0}'\\\n",
    "      .format(food_inspections[food_inspections['Violations'].isnull()].shape[0]))\n",
    "per = food_inspections[food_inspections['Violations'].isnull()].shape[0]/food_inspections.shape[0]\n",
    "print('Corresponding the following percentage of entries: {0:.2f}'\\\n",
    "      .format(per))"
   ]
  },
  {
   "cell_type": "markdown",
   "metadata": {},
   "source": [
    "We fill those NaN values with the tag 'No Violation' for better readibility during counting. We will then inspect the violations data to see its shape."
   ]
  },
  {
   "cell_type": "code",
   "execution_count": 389,
   "metadata": {},
   "outputs": [],
   "source": [
    "food_inspections['Violations'].fillna('No Violation', inplace=True)"
   ]
  },
  {
   "cell_type": "markdown",
   "metadata": {},
   "source": [
    "We observe that the violations are referenced using a 'number', a 'description' and a comment for more specificities. In our case, we don't need the comment part so we delete it. The 'Violations' column can as well contain more than one violation type, we can split those into arrays and create a new violation-based dataset."
   ]
  },
  {
   "cell_type": "code",
   "execution_count": 390,
   "metadata": {},
   "outputs": [],
   "source": [
    "food_inspections['Violations'] = food_inspections.Violations.apply(lambda x: x.split('- Comments:')[0])"
   ]
  },
  {
   "cell_type": "code",
   "execution_count": 391,
   "metadata": {},
   "outputs": [
    {
     "data": {
      "text/plain": [
       "235"
      ]
     },
     "execution_count": 391,
     "metadata": {},
     "output_type": "execute_result"
    }
   ],
   "source": [
    "len(food_inspections['Violations'].unique())"
   ]
  },
  {
   "cell_type": "code",
   "execution_count": 392,
   "metadata": {},
   "outputs": [],
   "source": [
    "food_inspections['Violations'] = np.array(food_inspections.Violations.apply(lambda x: x.split('|')))"
   ]
  },
  {
   "cell_type": "code",
   "execution_count": 393,
   "metadata": {},
   "outputs": [],
   "source": [
    "violations = food_inspections.explode('Violations')\\\n",
    "                    .rename(columns={'Violations':'Violation'}) \\\n",
    "                    .reset_index(drop=True) \\\n",
    "                    .dropna(subset=['Violation']) \\\n",
    "                    .set_index('Violation') \\\n",
    "                    .reset_index()"
   ]
  },
  {
   "cell_type": "code",
   "execution_count": 394,
   "metadata": {},
   "outputs": [
    {
     "data": {
      "text/plain": [
       "172"
      ]
     },
     "execution_count": 394,
     "metadata": {},
     "output_type": "execute_result"
    }
   ],
   "source": [
    "len(violations.Violation.unique())"
   ]
  },
  {
   "cell_type": "code",
   "execution_count": 395,
   "metadata": {},
   "outputs": [],
   "source": [
    "violations['Violation ID'] = violations['Violation']\n",
    "violations['Violation ID'] = violations['Violation ID'].apply(lambda x: x.split('.')[0])"
   ]
  },
  {
   "cell_type": "markdown",
   "metadata": {},
   "source": [
    "**Count using ID**"
   ]
  },
  {
   "cell_type": "code",
   "execution_count": 396,
   "metadata": {},
   "outputs": [],
   "source": [
    "violation_count = violations[['Violation ID','Inspection ID']].groupby('Violation ID')\\\n",
    "                    .count()\\\n",
    "                    .sort_values(by='Inspection ID', ascending=False)\\\n",
    "                    .rename(columns={'Inspection ID':'Occurence'})"
   ]
  },
  {
   "cell_type": "code",
   "execution_count": 397,
   "metadata": {
    "scrolled": true
   },
   "outputs": [
    {
     "data": {
      "text/html": [
       "<div>\n",
       "<style scoped>\n",
       "    .dataframe tbody tr th:only-of-type {\n",
       "        vertical-align: middle;\n",
       "    }\n",
       "\n",
       "    .dataframe tbody tr th {\n",
       "        vertical-align: top;\n",
       "    }\n",
       "\n",
       "    .dataframe thead th {\n",
       "        text-align: right;\n",
       "    }\n",
       "</style>\n",
       "<table border=\"1\" class=\"dataframe\">\n",
       "  <thead>\n",
       "    <tr style=\"text-align: right;\">\n",
       "      <th></th>\n",
       "      <th>Occurence</th>\n",
       "    </tr>\n",
       "    <tr>\n",
       "      <th>Violation ID</th>\n",
       "      <th></th>\n",
       "    </tr>\n",
       "  </thead>\n",
       "  <tbody>\n",
       "    <tr>\n",
       "      <td>No Violation</td>\n",
       "      <td>51683</td>\n",
       "    </tr>\n",
       "    <tr>\n",
       "      <td>32</td>\n",
       "      <td>25437</td>\n",
       "    </tr>\n",
       "    <tr>\n",
       "      <td>33</td>\n",
       "      <td>17456</td>\n",
       "    </tr>\n",
       "    <tr>\n",
       "      <td>3</td>\n",
       "      <td>13582</td>\n",
       "    </tr>\n",
       "    <tr>\n",
       "      <td>34</td>\n",
       "      <td>10589</td>\n",
       "    </tr>\n",
       "  </tbody>\n",
       "</table>\n",
       "</div>"
      ],
      "text/plain": [
       "              Occurence\n",
       "Violation ID           \n",
       "No Violation      51683\n",
       "32                25437\n",
       "33                17456\n",
       "3                 13582\n",
       "34                10589"
      ]
     },
     "execution_count": 397,
     "metadata": {},
     "output_type": "execute_result"
    }
   ],
   "source": [
    "violation_count.head()"
   ]
  },
  {
   "cell_type": "code",
   "execution_count": 398,
   "metadata": {},
   "outputs": [
    {
     "data": {
      "text/plain": [
       "(100, 1)"
      ]
     },
     "execution_count": 398,
     "metadata": {},
     "output_type": "execute_result"
    }
   ],
   "source": [
    "violation_count.shape"
   ]
  },
  {
   "cell_type": "markdown",
   "metadata": {},
   "source": [
    "**Count using Name**"
   ]
  },
  {
   "cell_type": "code",
   "execution_count": 399,
   "metadata": {},
   "outputs": [],
   "source": [
    "violation_count_name = violations[['Violation','Inspection ID']].groupby('Violation')\\\n",
    "                    .count()\\\n",
    "                    .sort_values(by='Inspection ID', ascending=False)\\\n",
    "                    .rename(columns={'Inspection ID':'Occurence'})"
   ]
  },
  {
   "cell_type": "code",
   "execution_count": 400,
   "metadata": {},
   "outputs": [
    {
     "data": {
      "text/html": [
       "<div>\n",
       "<style scoped>\n",
       "    .dataframe tbody tr th:only-of-type {\n",
       "        vertical-align: middle;\n",
       "    }\n",
       "\n",
       "    .dataframe tbody tr th {\n",
       "        vertical-align: top;\n",
       "    }\n",
       "\n",
       "    .dataframe thead th {\n",
       "        text-align: right;\n",
       "    }\n",
       "</style>\n",
       "<table border=\"1\" class=\"dataframe\">\n",
       "  <thead>\n",
       "    <tr style=\"text-align: right;\">\n",
       "      <th></th>\n",
       "      <th>Occurence</th>\n",
       "    </tr>\n",
       "    <tr>\n",
       "      <th>Violation</th>\n",
       "      <th></th>\n",
       "    </tr>\n",
       "  </thead>\n",
       "  <tbody>\n",
       "    <tr>\n",
       "      <td>No Violation</td>\n",
       "      <td>51683</td>\n",
       "    </tr>\n",
       "    <tr>\n",
       "      <td>32. FOOD AND NON-FOOD CONTACT SURFACES PROPERLY DESIGNED, CONSTRUCTED AND MAINTAINED</td>\n",
       "      <td>25434</td>\n",
       "    </tr>\n",
       "    <tr>\n",
       "      <td>33. FOOD AND NON-FOOD CONTACT EQUIPMENT UTENSILS CLEAN, FREE OF ABRASIVE DETERGENTS</td>\n",
       "      <td>17430</td>\n",
       "    </tr>\n",
       "    <tr>\n",
       "      <td>34. FLOORS: CONSTRUCTED PER CODE, CLEANED, GOOD REPAIR, COVING INSTALLED, DUST-LESS CLEANING METHODS USED</td>\n",
       "      <td>10587</td>\n",
       "    </tr>\n",
       "    <tr>\n",
       "      <td>18. NO EVIDENCE OF RODENT OR INSECT OUTER OPENINGS PROTECTED/RODENT PROOFED, A WRITTEN LOG SHALL BE MAINTAINED AVAILABLE TO THE INSPECTORS</td>\n",
       "      <td>10002</td>\n",
       "    </tr>\n",
       "  </tbody>\n",
       "</table>\n",
       "</div>"
      ],
      "text/plain": [
       "                                                    Occurence\n",
       "Violation                                                    \n",
       "No Violation                                            51683\n",
       "32. FOOD AND NON-FOOD CONTACT SURFACES PROPERLY...      25434\n",
       "33. FOOD AND NON-FOOD CONTACT EQUIPMENT UTENSIL...      17430\n",
       "34. FLOORS: CONSTRUCTED PER CODE, CLEANED, GOOD...      10587\n",
       "18. NO EVIDENCE OF RODENT OR INSECT OUTER OPENI...      10002"
      ]
     },
     "execution_count": 400,
     "metadata": {},
     "output_type": "execute_result"
    }
   ],
   "source": [
    "violation_count_name.head()"
   ]
  },
  {
   "cell_type": "code",
   "execution_count": 401,
   "metadata": {},
   "outputs": [
    {
     "data": {
      "text/plain": [
       "(172, 1)"
      ]
     },
     "execution_count": 401,
     "metadata": {},
     "output_type": "execute_result"
    }
   ],
   "source": [
    "violation_count_name.shape"
   ]
  },
  {
   "cell_type": "markdown",
   "metadata": {},
   "source": [
    "**Plotting Violations**"
   ]
  },
  {
   "cell_type": "code",
   "execution_count": 402,
   "metadata": {},
   "outputs": [
    {
     "data": {
      "image/png": "[encoded data removed]",
      "text/plain": [
       "<Figure size 1080x576 with 1 Axes>"
      ]
     },
     "metadata": {
      "needs_background": "light"
     },
     "output_type": "display_data"
    }
   ],
   "source": [
    "#Here we plot the number of ocurrences of each violations for a quick visualization of the situation\n",
    "ax = violation_count.plot(kind='bar',figsize = [15,8])\n",
    "ax.set_xlabel('Violation Types')\n",
    "ax.set_ylabel('Number of violations')\n",
    "plt.tight_layout()"
   ]
  },
  {
   "cell_type": "code",
   "execution_count": 403,
   "metadata": {},
   "outputs": [
    {
     "data": {
      "image/png": "[encoded data removed]",
      "text/plain": [
       "<Figure size 1080x576 with 1 Axes>"
      ]
     },
     "metadata": {
      "needs_background": "light"
     },
     "output_type": "display_data"
    }
   ],
   "source": [
    "# Plot 13 top values\n",
    "ax = violation_count.iloc[0:12].plot(kind='bar',figsize = [15,8])\n",
    "ax.set_xlabel('Violation Types')\n",
    "ax.set_ylabel('Number of violations')\n",
    "plt.tight_layout()"
   ]
  },
  {
   "cell_type": "code",
   "execution_count": 404,
   "metadata": {
    "scrolled": false
   },
   "outputs": [
    {
     "data": {
      "text/html": [
       "<div>\n",
       "<style scoped>\n",
       "    .dataframe tbody tr th:only-of-type {\n",
       "        vertical-align: middle;\n",
       "    }\n",
       "\n",
       "    .dataframe tbody tr th {\n",
       "        vertical-align: top;\n",
       "    }\n",
       "\n",
       "    .dataframe thead th {\n",
       "        text-align: right;\n",
       "    }\n",
       "</style>\n",
       "<table border=\"1\" class=\"dataframe\">\n",
       "  <thead>\n",
       "    <tr style=\"text-align: right;\">\n",
       "      <th></th>\n",
       "      <th>Violation</th>\n",
       "      <th>Inspection ID</th>\n",
       "      <th>DBA Name</th>\n",
       "      <th>AKA Name</th>\n",
       "      <th>License #</th>\n",
       "      <th>Facility Type</th>\n",
       "      <th>Risk</th>\n",
       "      <th>Address</th>\n",
       "      <th>City</th>\n",
       "      <th>State</th>\n",
       "      <th>Inspection Date</th>\n",
       "      <th>Inspection Type</th>\n",
       "      <th>Results</th>\n",
       "      <th>Latitude</th>\n",
       "      <th>Longitude</th>\n",
       "      <th>Location</th>\n",
       "      <th>Year</th>\n",
       "      <th>Violation ID</th>\n",
       "    </tr>\n",
       "  </thead>\n",
       "  <tbody>\n",
       "    <tr>\n",
       "      <td>22087</td>\n",
       "      <td>32. FOOD AND NON-FOOD CONTACT SURFACES PROPERL...</td>\n",
       "      <td>2182155</td>\n",
       "      <td>RAVENS</td>\n",
       "      <td>RAVENS</td>\n",
       "      <td>8638.0</td>\n",
       "      <td>TAVERN</td>\n",
       "      <td>Risk 3 (Low)</td>\n",
       "      <td>2326 N CLARK ST</td>\n",
       "      <td>CHICAGO</td>\n",
       "      <td>IL</td>\n",
       "      <td>2018-06-29T00:00:00.000</td>\n",
       "      <td>Complaint Re-Inspection</td>\n",
       "      <td>Pass</td>\n",
       "      <td>41.924442</td>\n",
       "      <td>-87.639932</td>\n",
       "      <td>{'latitude': '-87.63993233882339', 'longitude'...</td>\n",
       "      <td>2018</td>\n",
       "      <td>32</td>\n",
       "    </tr>\n",
       "    <tr>\n",
       "      <td>22089</td>\n",
       "      <td>32. FOOD AND NON-FOOD CONTACT SURFACES PROPERL...</td>\n",
       "      <td>2182159</td>\n",
       "      <td>J &amp; R COCKTAIL LOUNGE</td>\n",
       "      <td>J &amp; R COCKTAIL LOUNGE</td>\n",
       "      <td>946.0</td>\n",
       "      <td>Liquor</td>\n",
       "      <td>Risk 3 (Low)</td>\n",
       "      <td>612 E 79TH ST</td>\n",
       "      <td>CHICAGO</td>\n",
       "      <td>IL</td>\n",
       "      <td>2018-06-29T00:00:00.000</td>\n",
       "      <td>Complaint Re-Inspection</td>\n",
       "      <td>Pass</td>\n",
       "      <td>41.751319</td>\n",
       "      <td>-87.609522</td>\n",
       "      <td>{'latitude': '-87.60952232294443', 'longitude'...</td>\n",
       "      <td>2018</td>\n",
       "      <td>32</td>\n",
       "    </tr>\n",
       "    <tr>\n",
       "      <td>22093</td>\n",
       "      <td>32. FOOD AND NON-FOOD CONTACT SURFACES PROPERL...</td>\n",
       "      <td>2182165</td>\n",
       "      <td>WHIPPED &amp; BEATEN CULINARY WORKS</td>\n",
       "      <td>WHIPPED &amp; BEATEN CULINARY WORKS</td>\n",
       "      <td>2590079.0</td>\n",
       "      <td>COOKING SCHOOL</td>\n",
       "      <td>Risk 1 (High)</td>\n",
       "      <td>3611-3617 N BROADWAY</td>\n",
       "      <td>CHICAGO</td>\n",
       "      <td>IL</td>\n",
       "      <td>2018-06-29T00:00:00.000</td>\n",
       "      <td>License Re-Inspection</td>\n",
       "      <td>Pass</td>\n",
       "      <td>41.947732</td>\n",
       "      <td>-87.647343</td>\n",
       "      <td>{'latitude': '-87.64734303203468', 'longitude'...</td>\n",
       "      <td>2018</td>\n",
       "      <td>32</td>\n",
       "    </tr>\n",
       "    <tr>\n",
       "      <td>22094</td>\n",
       "      <td>32. FOOD AND NON-FOOD CONTACT SURFACES PROPERL...</td>\n",
       "      <td>2182160</td>\n",
       "      <td>CASA HERNANDEZ</td>\n",
       "      <td>CASA HERNANDEZ GROCERY STORE</td>\n",
       "      <td>1047126.0</td>\n",
       "      <td>Grocery Store</td>\n",
       "      <td>Risk 1 (High)</td>\n",
       "      <td>1725 W LUNT</td>\n",
       "      <td>CHICAGO</td>\n",
       "      <td>IL</td>\n",
       "      <td>2018-06-29T00:00:00.000</td>\n",
       "      <td>Canvass Re-Inspection</td>\n",
       "      <td>Pass</td>\n",
       "      <td>42.008897</td>\n",
       "      <td>-87.673311</td>\n",
       "      <td>{'latitude': '-87.67331123054235', 'longitude'...</td>\n",
       "      <td>2018</td>\n",
       "      <td>32</td>\n",
       "    </tr>\n",
       "    <tr>\n",
       "      <td>22095</td>\n",
       "      <td>32. FOOD AND NON-FOOD CONTACT SURFACES PROPERL...</td>\n",
       "      <td>2182172</td>\n",
       "      <td>PEPE'S RESTAURANT</td>\n",
       "      <td>PEPE'S RESTAURANT</td>\n",
       "      <td>7056.0</td>\n",
       "      <td>Restaurant</td>\n",
       "      <td>Risk 1 (High)</td>\n",
       "      <td>7026 W ARCHER AVE</td>\n",
       "      <td>CHICAGO</td>\n",
       "      <td>IL</td>\n",
       "      <td>2018-06-29T00:00:00.000</td>\n",
       "      <td>Complaint</td>\n",
       "      <td>Pass</td>\n",
       "      <td>41.792140</td>\n",
       "      <td>-87.797669</td>\n",
       "      <td>{'latitude': '-87.79766862419076', 'longitude'...</td>\n",
       "      <td>2018</td>\n",
       "      <td>32</td>\n",
       "    </tr>\n",
       "  </tbody>\n",
       "</table>\n",
       "</div>"
      ],
      "text/plain": [
       "                                               Violation  Inspection ID  \\\n",
       "22087  32. FOOD AND NON-FOOD CONTACT SURFACES PROPERL...        2182155   \n",
       "22089  32. FOOD AND NON-FOOD CONTACT SURFACES PROPERL...        2182159   \n",
       "22093  32. FOOD AND NON-FOOD CONTACT SURFACES PROPERL...        2182165   \n",
       "22094  32. FOOD AND NON-FOOD CONTACT SURFACES PROPERL...        2182160   \n",
       "22095  32. FOOD AND NON-FOOD CONTACT SURFACES PROPERL...        2182172   \n",
       "\n",
       "                              DBA Name                         AKA Name  \\\n",
       "22087                           RAVENS                           RAVENS   \n",
       "22089            J & R COCKTAIL LOUNGE            J & R COCKTAIL LOUNGE   \n",
       "22093  WHIPPED & BEATEN CULINARY WORKS  WHIPPED & BEATEN CULINARY WORKS   \n",
       "22094                   CASA HERNANDEZ     CASA HERNANDEZ GROCERY STORE   \n",
       "22095                PEPE'S RESTAURANT                PEPE'S RESTAURANT   \n",
       "\n",
       "       License #   Facility Type           Risk                Address  \\\n",
       "22087     8638.0          TAVERN   Risk 3 (Low)       2326 N CLARK ST    \n",
       "22089      946.0          Liquor   Risk 3 (Low)         612 E 79TH ST    \n",
       "22093  2590079.0  COOKING SCHOOL  Risk 1 (High)  3611-3617 N BROADWAY    \n",
       "22094  1047126.0   Grocery Store  Risk 1 (High)           1725 W LUNT    \n",
       "22095     7056.0      Restaurant  Risk 1 (High)     7026 W ARCHER AVE    \n",
       "\n",
       "          City State          Inspection Date          Inspection Type  \\\n",
       "22087  CHICAGO    IL  2018-06-29T00:00:00.000  Complaint Re-Inspection   \n",
       "22089  CHICAGO    IL  2018-06-29T00:00:00.000  Complaint Re-Inspection   \n",
       "22093  CHICAGO    IL  2018-06-29T00:00:00.000    License Re-Inspection   \n",
       "22094  CHICAGO    IL  2018-06-29T00:00:00.000    Canvass Re-Inspection   \n",
       "22095  CHICAGO    IL  2018-06-29T00:00:00.000                Complaint   \n",
       "\n",
       "      Results   Latitude  Longitude  \\\n",
       "22087    Pass  41.924442 -87.639932   \n",
       "22089    Pass  41.751319 -87.609522   \n",
       "22093    Pass  41.947732 -87.647343   \n",
       "22094    Pass  42.008897 -87.673311   \n",
       "22095    Pass  41.792140 -87.797669   \n",
       "\n",
       "                                                Location  Year Violation ID  \n",
       "22087  {'latitude': '-87.63993233882339', 'longitude'...  2018           32  \n",
       "22089  {'latitude': '-87.60952232294443', 'longitude'...  2018           32  \n",
       "22093  {'latitude': '-87.64734303203468', 'longitude'...  2018           32  \n",
       "22094  {'latitude': '-87.67331123054235', 'longitude'...  2018           32  \n",
       "22095  {'latitude': '-87.79766862419076', 'longitude'...  2018           32  "
      ]
     },
     "execution_count": 404,
     "metadata": {},
     "output_type": "execute_result"
    }
   ],
   "source": [
    "violations[violations['Violation ID'] == '32'].head()"
   ]
  },
  {
   "cell_type": "markdown",
   "metadata": {},
   "source": [
    "**Violation List**"
   ]
  },
  {
   "cell_type": "code",
   "execution_count": 411,
   "metadata": {},
   "outputs": [],
   "source": [
    "violation_list = violations[['Violation','Violation ID']]"
   ]
  },
  {
   "cell_type": "code",
   "execution_count": 412,
   "metadata": {},
   "outputs": [],
   "source": [
    "violation_list = violation_list.drop_duplicates()"
   ]
  },
  {
   "cell_type": "code",
   "execution_count": 413,
   "metadata": {},
   "outputs": [],
   "source": [
    "violation_list = violation_list.merge(violation_count, on='Violation ID')"
   ]
  },
  {
   "cell_type": "code",
   "execution_count": 414,
   "metadata": {},
   "outputs": [],
   "source": [
    "violation_list.sort_values(by='Occurence', ascending='False', inplace=True)"
   ]
  },
  {
   "cell_type": "code",
   "execution_count": 459,
   "metadata": {},
   "outputs": [
    {
     "data": {
      "text/html": [
       "<div>\n",
       "<style scoped>\n",
       "    .dataframe tbody tr th:only-of-type {\n",
       "        vertical-align: middle;\n",
       "    }\n",
       "\n",
       "    .dataframe tbody tr th {\n",
       "        vertical-align: top;\n",
       "    }\n",
       "\n",
       "    .dataframe thead th {\n",
       "        text-align: right;\n",
       "    }\n",
       "</style>\n",
       "<table border=\"1\" class=\"dataframe\">\n",
       "  <thead>\n",
       "    <tr style=\"text-align: right;\">\n",
       "      <th></th>\n",
       "      <th>Violation</th>\n",
       "      <th>Violation ID</th>\n",
       "      <th>Occurence</th>\n",
       "    </tr>\n",
       "  </thead>\n",
       "  <tbody>\n",
       "    <tr>\n",
       "      <td>171</td>\n",
       "      <td>27. TOILET ROOMS ENCLOSED CLEAN, PROVIDED WIT...</td>\n",
       "      <td>27</td>\n",
       "      <td>1</td>\n",
       "    </tr>\n",
       "    <tr>\n",
       "      <td>81</td>\n",
       "      <td>61. SUMMARY REPORT DISPLAYED AND VISIBLE TO TH...</td>\n",
       "      <td>61</td>\n",
       "      <td>1</td>\n",
       "    </tr>\n",
       "    <tr>\n",
       "      <td>82</td>\n",
       "      <td>51. PLUMBING INSTALLED; PROPER BACKFLOW DEVICES</td>\n",
       "      <td>51</td>\n",
       "      <td>1</td>\n",
       "    </tr>\n",
       "    <tr>\n",
       "      <td>101</td>\n",
       "      <td>63. REMOVAL OF SUSPENSION SIGN</td>\n",
       "      <td>63</td>\n",
       "      <td>1</td>\n",
       "    </tr>\n",
       "    <tr>\n",
       "      <td>105</td>\n",
       "      <td>49. NON-FOOD/FOOD CONTACT SURFACES CLEAN</td>\n",
       "      <td>49</td>\n",
       "      <td>1</td>\n",
       "    </tr>\n",
       "  </tbody>\n",
       "</table>\n",
       "</div>"
      ],
      "text/plain": [
       "                                             Violation Violation ID  Occurence\n",
       "171   27. TOILET ROOMS ENCLOSED CLEAN, PROVIDED WIT...           27          1\n",
       "81   61. SUMMARY REPORT DISPLAYED AND VISIBLE TO TH...           61          1\n",
       "82    51. PLUMBING INSTALLED; PROPER BACKFLOW DEVICES            51          1\n",
       "101                    63. REMOVAL OF SUSPENSION SIGN            63          1\n",
       "105          49. NON-FOOD/FOOD CONTACT SURFACES CLEAN            49          1"
      ]
     },
     "execution_count": 459,
     "metadata": {},
     "output_type": "execute_result"
    }
   ],
   "source": [
    "violation_list.head()"
   ]
  },
  {
   "cell_type": "code",
   "execution_count": 460,
   "metadata": {},
   "outputs": [
    {
     "data": {
      "text/plain": [
       "(172, 3)"
      ]
     },
     "execution_count": 460,
     "metadata": {},
     "output_type": "execute_result"
    }
   ],
   "source": [
    "violation_list.shape"
   ]
  },
  {
   "cell_type": "markdown",
   "metadata": {},
   "source": [
    "**Violations per establishment**"
   ]
  },
  {
   "cell_type": "code",
   "execution_count": 476,
   "metadata": {},
   "outputs": [],
   "source": [
    "violations_ = violations.copy()\n",
    "violations = violations[violations['Violation'] != 'No Violation']"
   ]
  },
  {
   "cell_type": "code",
   "execution_count": 477,
   "metadata": {},
   "outputs": [],
   "source": [
    "violation_resto = violations.groupby(['AKA Name','DBA Name', 'License #','Location'])\\\n",
    "                    .count()\\\n",
    "                    .sort_values(by='Inspection ID', ascending=False)"
   ]
  },
  {
   "cell_type": "code",
   "execution_count": 478,
   "metadata": {},
   "outputs": [],
   "source": [
    "violation_resto = violation_resto[['Violation','Violation ID']]\n",
    "violation_resto.reset_index(inplace=True)\n",
    "violation_resto = violation_resto.rename(columns={'Violation ID':'Viol. ID Count', 'Violation':'Viol. Count'})"
   ]
  },
  {
   "cell_type": "code",
   "execution_count": 479,
   "metadata": {},
   "outputs": [
    {
     "data": {
      "text/html": [
       "<div>\n",
       "<style scoped>\n",
       "    .dataframe tbody tr th:only-of-type {\n",
       "        vertical-align: middle;\n",
       "    }\n",
       "\n",
       "    .dataframe tbody tr th {\n",
       "        vertical-align: top;\n",
       "    }\n",
       "\n",
       "    .dataframe thead th {\n",
       "        text-align: right;\n",
       "    }\n",
       "</style>\n",
       "<table border=\"1\" class=\"dataframe\">\n",
       "  <thead>\n",
       "    <tr style=\"text-align: right;\">\n",
       "      <th></th>\n",
       "      <th>AKA Name</th>\n",
       "      <th>DBA Name</th>\n",
       "      <th>License #</th>\n",
       "      <th>Location</th>\n",
       "      <th>Viol. Count</th>\n",
       "      <th>Viol. ID Count</th>\n",
       "    </tr>\n",
       "  </thead>\n",
       "  <tbody>\n",
       "    <tr>\n",
       "      <td>0</td>\n",
       "      <td>JEWEL FOOD  STORE # 3345</td>\n",
       "      <td>JEWEL FOOD  STORE # 3345</td>\n",
       "      <td>1142451.0</td>\n",
       "      <td>{'latitude': '-87.62596114837754', 'longitude'...</td>\n",
       "      <td>43</td>\n",
       "      <td>43</td>\n",
       "    </tr>\n",
       "    <tr>\n",
       "      <td>1</td>\n",
       "      <td>FOOD 4 LESS</td>\n",
       "      <td>Food 4 Less Midwest #552</td>\n",
       "      <td>1596210.0</td>\n",
       "      <td>{'latitude': '-87.66396688645497', 'longitude'...</td>\n",
       "      <td>41</td>\n",
       "      <td>41</td>\n",
       "    </tr>\n",
       "    <tr>\n",
       "      <td>2</td>\n",
       "      <td>MARIANO'S FRESH MARKET</td>\n",
       "      <td>MARIANO'S FRESH MARKET #8503</td>\n",
       "      <td>2083833.0</td>\n",
       "      <td>{'latitude': '-87.61898671163952', 'longitude'...</td>\n",
       "      <td>39</td>\n",
       "      <td>39</td>\n",
       "    </tr>\n",
       "    <tr>\n",
       "      <td>3</td>\n",
       "      <td>TAQUERIA EL RANCHITO</td>\n",
       "      <td>TAQUERIA EL RANCHITO</td>\n",
       "      <td>60184.0</td>\n",
       "      <td>{'latitude': '-87.71305610116421', 'longitude'...</td>\n",
       "      <td>38</td>\n",
       "      <td>38</td>\n",
       "    </tr>\n",
       "    <tr>\n",
       "      <td>4</td>\n",
       "      <td>ONE STOP FOOD &amp; LIQUOR STORE</td>\n",
       "      <td>ONE STOP FOOD &amp; LIQUOR STORE</td>\n",
       "      <td>1094.0</td>\n",
       "      <td>{'latitude': '-87.59868884416672', 'longitude'...</td>\n",
       "      <td>38</td>\n",
       "      <td>38</td>\n",
       "    </tr>\n",
       "  </tbody>\n",
       "</table>\n",
       "</div>"
      ],
      "text/plain": [
       "                       AKA Name                      DBA Name  License #  \\\n",
       "0      JEWEL FOOD  STORE # 3345      JEWEL FOOD  STORE # 3345  1142451.0   \n",
       "1                   FOOD 4 LESS      Food 4 Less Midwest #552  1596210.0   \n",
       "2        MARIANO'S FRESH MARKET  MARIANO'S FRESH MARKET #8503  2083833.0   \n",
       "3          TAQUERIA EL RANCHITO          TAQUERIA EL RANCHITO    60184.0   \n",
       "4  ONE STOP FOOD & LIQUOR STORE  ONE STOP FOOD & LIQUOR STORE     1094.0   \n",
       "\n",
       "                                            Location  Viol. Count  \\\n",
       "0  {'latitude': '-87.62596114837754', 'longitude'...           43   \n",
       "1  {'latitude': '-87.66396688645497', 'longitude'...           41   \n",
       "2  {'latitude': '-87.61898671163952', 'longitude'...           39   \n",
       "3  {'latitude': '-87.71305610116421', 'longitude'...           38   \n",
       "4  {'latitude': '-87.59868884416672', 'longitude'...           38   \n",
       "\n",
       "   Viol. ID Count  \n",
       "0              43  \n",
       "1              41  \n",
       "2              39  \n",
       "3              38  \n",
       "4              38  "
      ]
     },
     "execution_count": 479,
     "metadata": {},
     "output_type": "execute_result"
    }
   ],
   "source": [
    "violation_resto.head()"
   ]
  },
  {
   "cell_type": "code",
   "execution_count": 481,
   "metadata": {},
   "outputs": [
    {
     "data": {
      "text/html": [
       "<div>\n",
       "<style scoped>\n",
       "    .dataframe tbody tr th:only-of-type {\n",
       "        vertical-align: middle;\n",
       "    }\n",
       "\n",
       "    .dataframe tbody tr th {\n",
       "        vertical-align: top;\n",
       "    }\n",
       "\n",
       "    .dataframe thead th {\n",
       "        text-align: right;\n",
       "    }\n",
       "</style>\n",
       "<table border=\"1\" class=\"dataframe\">\n",
       "  <thead>\n",
       "    <tr style=\"text-align: right;\">\n",
       "      <th></th>\n",
       "      <th>AKA Name</th>\n",
       "      <th>DBA Name</th>\n",
       "      <th>License #</th>\n",
       "      <th>Location</th>\n",
       "      <th>Viol. Count</th>\n",
       "      <th>Viol. ID Count</th>\n",
       "    </tr>\n",
       "  </thead>\n",
       "  <tbody>\n",
       "    <tr>\n",
       "      <td>5</td>\n",
       "      <td>MCDONALD'S</td>\n",
       "      <td>MCDONALD'S</td>\n",
       "      <td>1490035.0</td>\n",
       "      <td>{'latitude': '-87.62681267627248', 'longitude'...</td>\n",
       "      <td>37</td>\n",
       "      <td>37</td>\n",
       "    </tr>\n",
       "    <tr>\n",
       "      <td>39</td>\n",
       "      <td>MCDONALD'S</td>\n",
       "      <td>MCDONALD'S</td>\n",
       "      <td>33706.0</td>\n",
       "      <td>{'latitude': '-87.70573359902552', 'longitude'...</td>\n",
       "      <td>27</td>\n",
       "      <td>27</td>\n",
       "    </tr>\n",
       "    <tr>\n",
       "      <td>62</td>\n",
       "      <td>MCDONALD'S</td>\n",
       "      <td>MCDONALD'S</td>\n",
       "      <td>1874347.0</td>\n",
       "      <td>{'latitude': '-87.68338583887078', 'longitude'...</td>\n",
       "      <td>26</td>\n",
       "      <td>26</td>\n",
       "    </tr>\n",
       "    <tr>\n",
       "      <td>292</td>\n",
       "      <td>MCDONALD'S</td>\n",
       "      <td>MCDONALD'S</td>\n",
       "      <td>1514130.0</td>\n",
       "      <td>{'latitude': '-87.62144916300736', 'longitude'...</td>\n",
       "      <td>20</td>\n",
       "      <td>20</td>\n",
       "    </tr>\n",
       "    <tr>\n",
       "      <td>363</td>\n",
       "      <td>MCDONALD'S</td>\n",
       "      <td>MCDONALD'S RESTAURANTS</td>\n",
       "      <td>2423993.0</td>\n",
       "      <td>{'latitude': '-87.6630911433338', 'longitude':...</td>\n",
       "      <td>19</td>\n",
       "      <td>19</td>\n",
       "    </tr>\n",
       "  </tbody>\n",
       "</table>\n",
       "</div>"
      ],
      "text/plain": [
       "       AKA Name                DBA Name  License #  \\\n",
       "5    MCDONALD'S              MCDONALD'S  1490035.0   \n",
       "39   MCDONALD'S              MCDONALD'S    33706.0   \n",
       "62   MCDONALD'S              MCDONALD'S  1874347.0   \n",
       "292  MCDONALD'S              MCDONALD'S  1514130.0   \n",
       "363  MCDONALD'S  MCDONALD'S RESTAURANTS  2423993.0   \n",
       "\n",
       "                                              Location  Viol. Count  \\\n",
       "5    {'latitude': '-87.62681267627248', 'longitude'...           37   \n",
       "39   {'latitude': '-87.70573359902552', 'longitude'...           27   \n",
       "62   {'latitude': '-87.68338583887078', 'longitude'...           26   \n",
       "292  {'latitude': '-87.62144916300736', 'longitude'...           20   \n",
       "363  {'latitude': '-87.6630911433338', 'longitude':...           19   \n",
       "\n",
       "     Viol. ID Count  \n",
       "5                37  \n",
       "39               27  \n",
       "62               26  \n",
       "292              20  \n",
       "363              19  "
      ]
     },
     "execution_count": 481,
     "metadata": {},
     "output_type": "execute_result"
    }
   ],
   "source": [
    "violation_resto[violation_resto['AKA Name'] == 'MCDONALD\\'S'].head()"
   ]
  },
  {
   "cell_type": "code",
   "execution_count": 482,
   "metadata": {},
   "outputs": [],
   "source": [
    "violation_resto_ids = violations.groupby(['AKA Name','DBA Name', 'License #','Location'])[['Violation ID','AKA Name','DBA Name', 'License #','Location']]"
   ]
  },
  {
   "cell_type": "code",
   "execution_count": 484,
   "metadata": {},
   "outputs": [
    {
     "data": {
      "text/html": [
       "<div>\n",
       "<style scoped>\n",
       "    .dataframe tbody tr th:only-of-type {\n",
       "        vertical-align: middle;\n",
       "    }\n",
       "\n",
       "    .dataframe tbody tr th {\n",
       "        vertical-align: top;\n",
       "    }\n",
       "\n",
       "    .dataframe thead th {\n",
       "        text-align: right;\n",
       "    }\n",
       "</style>\n",
       "<table border=\"1\" class=\"dataframe\">\n",
       "  <thead>\n",
       "    <tr style=\"text-align: right;\">\n",
       "      <th></th>\n",
       "      <th>Violation ID</th>\n",
       "      <th>AKA Name</th>\n",
       "      <th>DBA Name</th>\n",
       "      <th>License #</th>\n",
       "      <th>Location</th>\n",
       "    </tr>\n",
       "  </thead>\n",
       "  <tbody>\n",
       "    <tr>\n",
       "      <td>1</td>\n",
       "      <td>3</td>\n",
       "      <td>TAQUERIA EL DORADO</td>\n",
       "      <td>TAQUERIA EL DORADO</td>\n",
       "      <td>2694960.0</td>\n",
       "      <td>{'latitude': '-87.6822915036914', 'longitude':...</td>\n",
       "    </tr>\n",
       "    <tr>\n",
       "      <td>2</td>\n",
       "      <td>38</td>\n",
       "      <td>DANTE'S PIZZA</td>\n",
       "      <td>DANTE'S PIZZA,INC.</td>\n",
       "      <td>2092884.0</td>\n",
       "      <td>{'latitude': '-87.70372788811352', 'longitude'...</td>\n",
       "    </tr>\n",
       "    <tr>\n",
       "      <td>3</td>\n",
       "      <td>3</td>\n",
       "      <td>LAO PENG YOU</td>\n",
       "      <td>LAO PENG YOU LLC</td>\n",
       "      <td>2694477.0</td>\n",
       "      <td>{'latitude': '-87.6779378973854', 'longitude':...</td>\n",
       "    </tr>\n",
       "    <tr>\n",
       "      <td>4</td>\n",
       "      <td>14</td>\n",
       "      <td>ARBOR</td>\n",
       "      <td>ARBOR</td>\n",
       "      <td>2363029.0</td>\n",
       "      <td>{'latitude': '-87.69216904438716', 'longitude'...</td>\n",
       "    </tr>\n",
       "    <tr>\n",
       "      <td>5</td>\n",
       "      <td>38</td>\n",
       "      <td>HARMONY RESTAURANT</td>\n",
       "      <td>HARMONY RESTAURANT</td>\n",
       "      <td>61757.0</td>\n",
       "      <td>{'latitude': '-87.78540566160221', 'longitude'...</td>\n",
       "    </tr>\n",
       "    <tr>\n",
       "      <td>...</td>\n",
       "      <td>...</td>\n",
       "      <td>...</td>\n",
       "      <td>...</td>\n",
       "      <td>...</td>\n",
       "      <td>...</td>\n",
       "    </tr>\n",
       "    <tr>\n",
       "      <td>195374</td>\n",
       "      <td>18</td>\n",
       "      <td>SUPER DOG'S SUBMARINES INC</td>\n",
       "      <td>SUPER DOG'S SUBMARINES INC</td>\n",
       "      <td>2008759.0</td>\n",
       "      <td>{'latitude': '-87.65894640986417', 'longitude'...</td>\n",
       "    </tr>\n",
       "    <tr>\n",
       "      <td>195375</td>\n",
       "      <td>33</td>\n",
       "      <td>ABE'S IN &amp; OUT</td>\n",
       "      <td>ABE'S IN &amp; OUT</td>\n",
       "      <td>1948539.0</td>\n",
       "      <td>{'latitude': '-87.71725428906686', 'longitude'...</td>\n",
       "    </tr>\n",
       "    <tr>\n",
       "      <td>195379</td>\n",
       "      <td>34</td>\n",
       "      <td>ST CHRYSOSTOM'S CHURCH DAY SCHOOL</td>\n",
       "      <td>ST CHRYSOSTOM'S CHURCH DAY SCHOOL</td>\n",
       "      <td>20575.0</td>\n",
       "      <td>{'latitude': '-87.6302719697274', 'longitude':...</td>\n",
       "    </tr>\n",
       "    <tr>\n",
       "      <td>195390</td>\n",
       "      <td>33</td>\n",
       "      <td>SAFAH FOOD &amp; LIQUOR INC</td>\n",
       "      <td>SAFAH FOOD &amp; LIQUOR INC</td>\n",
       "      <td>14103.0</td>\n",
       "      <td>{'latitude': '-87.65396483351302', 'longitude'...</td>\n",
       "    </tr>\n",
       "    <tr>\n",
       "      <td>195394</td>\n",
       "      <td>18</td>\n",
       "      <td>Dunkin Donuts</td>\n",
       "      <td>Dunkin Donuts</td>\n",
       "      <td>2013340.0</td>\n",
       "      <td>{'latitude': '-87.6987246165967', 'longitude':...</td>\n",
       "    </tr>\n",
       "  </tbody>\n",
       "</table>\n",
       "<p>90225 rows × 5 columns</p>\n",
       "</div>"
      ],
      "text/plain": [
       "       Violation ID                           AKA Name  \\\n",
       "1                 3                 TAQUERIA EL DORADO   \n",
       "2                38                      DANTE'S PIZZA   \n",
       "3                 3                       LAO PENG YOU   \n",
       "4                14                              ARBOR   \n",
       "5                38                 HARMONY RESTAURANT   \n",
       "...             ...                                ...   \n",
       "195374           18         SUPER DOG'S SUBMARINES INC   \n",
       "195375           33                     ABE'S IN & OUT   \n",
       "195379           34  ST CHRYSOSTOM'S CHURCH DAY SCHOOL   \n",
       "195390           33            SAFAH FOOD & LIQUOR INC   \n",
       "195394           18                      Dunkin Donuts   \n",
       "\n",
       "                                 DBA Name  License #  \\\n",
       "1                      TAQUERIA EL DORADO  2694960.0   \n",
       "2                      DANTE'S PIZZA,INC.  2092884.0   \n",
       "3                        LAO PENG YOU LLC  2694477.0   \n",
       "4                                   ARBOR  2363029.0   \n",
       "5                      HARMONY RESTAURANT    61757.0   \n",
       "...                                   ...        ...   \n",
       "195374         SUPER DOG'S SUBMARINES INC  2008759.0   \n",
       "195375                     ABE'S IN & OUT  1948539.0   \n",
       "195379  ST CHRYSOSTOM'S CHURCH DAY SCHOOL    20575.0   \n",
       "195390            SAFAH FOOD & LIQUOR INC    14103.0   \n",
       "195394                      Dunkin Donuts  2013340.0   \n",
       "\n",
       "                                                 Location  \n",
       "1       {'latitude': '-87.6822915036914', 'longitude':...  \n",
       "2       {'latitude': '-87.70372788811352', 'longitude'...  \n",
       "3       {'latitude': '-87.6779378973854', 'longitude':...  \n",
       "4       {'latitude': '-87.69216904438716', 'longitude'...  \n",
       "5       {'latitude': '-87.78540566160221', 'longitude'...  \n",
       "...                                                   ...  \n",
       "195374  {'latitude': '-87.65894640986417', 'longitude'...  \n",
       "195375  {'latitude': '-87.71725428906686', 'longitude'...  \n",
       "195379  {'latitude': '-87.6302719697274', 'longitude':...  \n",
       "195390  {'latitude': '-87.65396483351302', 'longitude'...  \n",
       "195394  {'latitude': '-87.6987246165967', 'longitude':...  \n",
       "\n",
       "[90225 rows x 5 columns]"
      ]
     },
     "execution_count": 484,
     "metadata": {},
     "output_type": "execute_result"
    }
   ],
   "source": [
    "violation_resto_ids.head()"
   ]
  },
  {
   "cell_type": "code",
   "execution_count": 474,
   "metadata": {},
   "outputs": [
    {
     "name": "stdout",
     "output_type": "stream",
     "text": [
      "hi\n"
     ]
    }
   ],
   "source": [
    "if 'a' in 'al':\n",
    "    print('hi')"
   ]
  },
  {
   "cell_type": "markdown",
   "metadata": {},
   "source": [
    "### Create Year Column"
   ]
  },
  {
   "cell_type": "code",
   "execution_count": 409,
   "metadata": {},
   "outputs": [],
   "source": [
    "food_inspections['Year'] = food_inspections['Inspection Date'].apply(lambda x: x.split('-')[0])"
   ]
  },
  {
   "cell_type": "code",
   "execution_count": 410,
   "metadata": {},
   "outputs": [
    {
     "data": {
      "text/html": [
       "<div>\n",
       "<style scoped>\n",
       "    .dataframe tbody tr th:only-of-type {\n",
       "        vertical-align: middle;\n",
       "    }\n",
       "\n",
       "    .dataframe tbody tr th {\n",
       "        vertical-align: top;\n",
       "    }\n",
       "\n",
       "    .dataframe thead th {\n",
       "        text-align: right;\n",
       "    }\n",
       "</style>\n",
       "<table border=\"1\" class=\"dataframe\">\n",
       "  <thead>\n",
       "    <tr style=\"text-align: right;\">\n",
       "      <th></th>\n",
       "      <th>Inspection ID</th>\n",
       "      <th>DBA Name</th>\n",
       "      <th>AKA Name</th>\n",
       "      <th>License #</th>\n",
       "      <th>Facility Type</th>\n",
       "      <th>Risk</th>\n",
       "      <th>Address</th>\n",
       "      <th>City</th>\n",
       "      <th>State</th>\n",
       "      <th>Inspection Date</th>\n",
       "      <th>Inspection Type</th>\n",
       "      <th>Results</th>\n",
       "      <th>Violations</th>\n",
       "      <th>Latitude</th>\n",
       "      <th>Longitude</th>\n",
       "      <th>Location</th>\n",
       "      <th>Year</th>\n",
       "    </tr>\n",
       "  </thead>\n",
       "  <tbody>\n",
       "    <tr>\n",
       "      <td>0</td>\n",
       "      <td>2320519</td>\n",
       "      <td>SALAM  RESTAURANT</td>\n",
       "      <td>SALAM RESTAURANT</td>\n",
       "      <td>2002822.0</td>\n",
       "      <td>Restaurant</td>\n",
       "      <td>Risk 1 (High)</td>\n",
       "      <td>4634-4636 N KEDZIE AVE</td>\n",
       "      <td>CHICAGO</td>\n",
       "      <td>IL</td>\n",
       "      <td>2019-10-25T00:00:00.000</td>\n",
       "      <td>Complaint Re-Inspection</td>\n",
       "      <td>Pass</td>\n",
       "      <td>[No Violation]</td>\n",
       "      <td>41.965719</td>\n",
       "      <td>-87.708538</td>\n",
       "      <td>{'latitude': '-87.70853756167853', 'longitude'...</td>\n",
       "      <td>2019</td>\n",
       "    </tr>\n",
       "    <tr>\n",
       "      <td>1</td>\n",
       "      <td>2320509</td>\n",
       "      <td>TAQUERIA EL DORADO</td>\n",
       "      <td>TAQUERIA EL DORADO</td>\n",
       "      <td>2694960.0</td>\n",
       "      <td>Restaurant</td>\n",
       "      <td>Risk 1 (High)</td>\n",
       "      <td>2114 W LAWRENCE AVE</td>\n",
       "      <td>CHICAGO</td>\n",
       "      <td>IL</td>\n",
       "      <td>2019-10-25T00:00:00.000</td>\n",
       "      <td>License Re-Inspection</td>\n",
       "      <td>Fail</td>\n",
       "      <td>[3. MANAGEMENT, FOOD EMPLOYEE AND CONDITIONAL ...</td>\n",
       "      <td>41.968820</td>\n",
       "      <td>-87.682292</td>\n",
       "      <td>{'latitude': '-87.6822915036914', 'longitude':...</td>\n",
       "      <td>2019</td>\n",
       "    </tr>\n",
       "    <tr>\n",
       "      <td>2</td>\n",
       "      <td>2320412</td>\n",
       "      <td>DANTE'S PIZZA,INC.</td>\n",
       "      <td>DANTE'S PIZZA</td>\n",
       "      <td>2092884.0</td>\n",
       "      <td>Restaurant</td>\n",
       "      <td>Risk 1 (High)</td>\n",
       "      <td>3028 W ARMITAGE AVE</td>\n",
       "      <td>CHICAGO</td>\n",
       "      <td>IL</td>\n",
       "      <td>2019-10-24T00:00:00.000</td>\n",
       "      <td>Canvass</td>\n",
       "      <td>Fail</td>\n",
       "      <td>[38. INSECTS, RODENTS, &amp; ANIMALS NOT PRESENT ]</td>\n",
       "      <td>41.917539</td>\n",
       "      <td>-87.703728</td>\n",
       "      <td>{'latitude': '-87.70372788811352', 'longitude'...</td>\n",
       "      <td>2019</td>\n",
       "    </tr>\n",
       "    <tr>\n",
       "      <td>3</td>\n",
       "      <td>2320430</td>\n",
       "      <td>LAO PENG YOU LLC</td>\n",
       "      <td>LAO PENG YOU</td>\n",
       "      <td>2694477.0</td>\n",
       "      <td>Restaurant</td>\n",
       "      <td>Risk 1 (High)</td>\n",
       "      <td>2020 W CHICAGO</td>\n",
       "      <td>CHICAGO</td>\n",
       "      <td>IL</td>\n",
       "      <td>2019-10-24T00:00:00.000</td>\n",
       "      <td>License Re-Inspection</td>\n",
       "      <td>Pass w/ Conditions</td>\n",
       "      <td>[3. MANAGEMENT, FOOD EMPLOYEE AND CONDITIONAL ...</td>\n",
       "      <td>41.896005</td>\n",
       "      <td>-87.677938</td>\n",
       "      <td>{'latitude': '-87.6779378973854', 'longitude':...</td>\n",
       "      <td>2019</td>\n",
       "    </tr>\n",
       "    <tr>\n",
       "      <td>4</td>\n",
       "      <td>2320384</td>\n",
       "      <td>ARBOR</td>\n",
       "      <td>ARBOR</td>\n",
       "      <td>2363029.0</td>\n",
       "      <td>Restaurant</td>\n",
       "      <td>Risk 1 (High)</td>\n",
       "      <td>2545 W DIVERSEY AVE</td>\n",
       "      <td>CHICAGO</td>\n",
       "      <td>IL</td>\n",
       "      <td>2019-10-24T00:00:00.000</td>\n",
       "      <td>Recent Inspection</td>\n",
       "      <td>Pass w/ Conditions</td>\n",
       "      <td>[14. REQUIRED RECORDS AVAILABLE: SHELLSTOCK TA...</td>\n",
       "      <td>41.932025</td>\n",
       "      <td>-87.692169</td>\n",
       "      <td>{'latitude': '-87.69216904438716', 'longitude'...</td>\n",
       "      <td>2019</td>\n",
       "    </tr>\n",
       "  </tbody>\n",
       "</table>\n",
       "</div>"
      ],
      "text/plain": [
       "   Inspection ID            DBA Name            AKA Name  License #  \\\n",
       "0        2320519   SALAM  RESTAURANT    SALAM RESTAURANT  2002822.0   \n",
       "1        2320509  TAQUERIA EL DORADO  TAQUERIA EL DORADO  2694960.0   \n",
       "2        2320412  DANTE'S PIZZA,INC.       DANTE'S PIZZA  2092884.0   \n",
       "3        2320430    LAO PENG YOU LLC        LAO PENG YOU  2694477.0   \n",
       "4        2320384               ARBOR               ARBOR  2363029.0   \n",
       "\n",
       "  Facility Type           Risk                  Address     City State  \\\n",
       "0    Restaurant  Risk 1 (High)  4634-4636 N KEDZIE AVE   CHICAGO    IL   \n",
       "1    Restaurant  Risk 1 (High)     2114 W LAWRENCE AVE   CHICAGO    IL   \n",
       "2    Restaurant  Risk 1 (High)     3028 W ARMITAGE AVE   CHICAGO    IL   \n",
       "3    Restaurant  Risk 1 (High)          2020 W CHICAGO   CHICAGO    IL   \n",
       "4    Restaurant  Risk 1 (High)     2545 W DIVERSEY AVE   CHICAGO    IL   \n",
       "\n",
       "           Inspection Date          Inspection Type             Results  \\\n",
       "0  2019-10-25T00:00:00.000  Complaint Re-Inspection                Pass   \n",
       "1  2019-10-25T00:00:00.000    License Re-Inspection                Fail   \n",
       "2  2019-10-24T00:00:00.000                  Canvass                Fail   \n",
       "3  2019-10-24T00:00:00.000    License Re-Inspection  Pass w/ Conditions   \n",
       "4  2019-10-24T00:00:00.000        Recent Inspection  Pass w/ Conditions   \n",
       "\n",
       "                                          Violations   Latitude  Longitude  \\\n",
       "0                                     [No Violation]  41.965719 -87.708538   \n",
       "1  [3. MANAGEMENT, FOOD EMPLOYEE AND CONDITIONAL ...  41.968820 -87.682292   \n",
       "2     [38. INSECTS, RODENTS, & ANIMALS NOT PRESENT ]  41.917539 -87.703728   \n",
       "3  [3. MANAGEMENT, FOOD EMPLOYEE AND CONDITIONAL ...  41.896005 -87.677938   \n",
       "4  [14. REQUIRED RECORDS AVAILABLE: SHELLSTOCK TA...  41.932025 -87.692169   \n",
       "\n",
       "                                            Location  Year  \n",
       "0  {'latitude': '-87.70853756167853', 'longitude'...  2019  \n",
       "1  {'latitude': '-87.6822915036914', 'longitude':...  2019  \n",
       "2  {'latitude': '-87.70372788811352', 'longitude'...  2019  \n",
       "3  {'latitude': '-87.6779378973854', 'longitude':...  2019  \n",
       "4  {'latitude': '-87.69216904438716', 'longitude'...  2019  "
      ]
     },
     "execution_count": 410,
     "metadata": {},
     "output_type": "execute_result"
    }
   ],
   "source": [
    "food_inspections.head()"
   ]
  }
 ],
 "metadata": {
  "kernelspec": {
   "display_name": "Python 3",
   "language": "python",
   "name": "python3"
  },
  "language_info": {
   "codemirror_mode": {
    "name": "ipython",
    "version": 3
   },
   "file_extension": ".py",
   "mimetype": "text/x-python",
   "name": "python",
   "nbconvert_exporter": "python",
   "pygments_lexer": "ipython3",
   "version": "3.7.4"
  }
 },
 "nbformat": 4,
 "nbformat_minor": 2
}
