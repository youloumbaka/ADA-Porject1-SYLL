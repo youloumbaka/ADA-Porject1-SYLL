{
 "cells": [
  {
   "cell_type": "markdown",
   "metadata": {},
   "source": [
    "# Chicago Food"
   ]
  },
  {
   "cell_type": "markdown",
   "metadata": {},
   "source": [
    "## Milestone 2 : Preprossessing"
   ]
  },
  {
   "cell_type": "markdown",
   "metadata": {},
   "source": [
    "In this milestone we will decribe what's inside our dataset. \n",
    "\n",
    "We will firstly make some cleaning process to be able to treat a coherous dataset for the following step. We will focus on four facilities type ; Restaurant, Grocery store, School and hospital. In the restaurant group, we will focus on the 5 biggest group company. We will enrich our database by adding a row with the area number of chicago. It will help us to do area analyse of our data.\n",
    "\n",
    "From this clean dataset we will do a brute analysis on the risk, type of violation and number of inspection. We will contextualyse our data trought an analyse over the different area, the four facility type and the time.\n",
    "\n",
    "Finaly, from the preprossing step we do, we will present what would be our analyse plan. "
   ]
  },
  {
   "cell_type": "markdown",
   "metadata": {},
   "source": [
    "#### Part 1. Cleaning the data"
   ]
  },
  {
   "cell_type": "code",
   "execution_count": 1,
   "metadata": {},
   "outputs": [],
   "source": [
    "%matplotlib inline\n",
    "import pandas as pd\n",
    "import numpy as np\n",
    "import re\n",
    "from matplotlib.ticker import MaxNLocator\n",
    "import matplotlib.pyplot as plt\n",
    "from scipy import stats\n",
    "import warnings\n",
    "warnings.filterwarnings('ignore')"
   ]
  },
  {
   "cell_type": "code",
   "execution_count": 2,
   "metadata": {},
   "outputs": [],
   "source": [
    "#Loading the data\n",
    "food = pd.read_csv('data/food-inspections.csv', sep=',')"
   ]
  },
  {
   "cell_type": "markdown",
   "metadata": {},
   "source": [
    "In the cleaning process of the data we made the assumption that an inspection with no latitude and longitude information is not useful. The feature license should be different that 0 otherwise it's impossible to differenciate the type of facility inspection."
   ]
  },
  {
   "cell_type": "markdown",
   "metadata": {},
   "source": [
    "**Cleaning steps**\n",
    "\n",
    "1) Drop column without any utility\n",
    "\n",
    "2) Drop rows without latitude or longitude.\n",
    "\n",
    "3) Drop the facilities having a license # equal to 0 \n",
    "\n",
    "4) Convert the date format to an analysis friendly format\n",
    "\n",
    "5) There are 3 risk levels (low, medium and high), any other value will be removed\n",
    "\n",
    "6) Filter only the 4 facility types we are going to analyse\n",
    "\n",
    "7) For restaurants, we are going to focus only the 5 most inspected chains of different types: McDonald's, Subway, Taco Bell, Satrbucks and Dunkin Donuts.\n",
    "\n",
    "8) We will add spatial coordinates to the dataframe using 'Geopandas' and a map of districts found online."
   ]
  },
  {
   "cell_type": "markdown",
   "metadata": {},
   "source": [
    "**Step 1.**  Drop column without any utility"
   ]
  },
  {
   "cell_type": "code",
   "execution_count": 3,
   "metadata": {},
   "outputs": [],
   "source": [
    "# Drop The columns whithout any links to our futher analyse \n",
    "# We will not use the zip code because some of them are wrong. We will only use latitude and longitude\n",
    "# to localisate the facility \n",
    "\n",
    "food.drop(['Zip Codes','Historical Wards 2003-2015', 'Community Areas', 'Census Tracts','Wards','Zip','State','Address','Location'], axis=1, inplace=True)\n"
   ]
  },
  {
   "cell_type": "markdown",
   "metadata": {},
   "source": [
    "**Step 2.** Drop row whitout latitude or longitude "
   ]
  },
  {
   "cell_type": "code",
   "execution_count": 4,
   "metadata": {},
   "outputs": [],
   "source": [
    "food.dropna(subset = [\"Latitude\", \"Longitude\"], inplace=True)"
   ]
  },
  {
   "cell_type": "markdown",
   "metadata": {},
   "source": [
    "**Step 3.** Drop row with 0 as licence number."
   ]
  },
  {
   "cell_type": "code",
   "execution_count": 5,
   "metadata": {},
   "outputs": [],
   "source": [
    "food.drop(food[food['License #'] == 0].index, inplace=True)"
   ]
  },
  {
   "cell_type": "markdown",
   "metadata": {},
   "source": [
    "**Step 4.** Convert the date format to an analysis friendly format"
   ]
  },
  {
   "cell_type": "code",
   "execution_count": 6,
   "metadata": {},
   "outputs": [],
   "source": [
    "# We only keep the year of the inspection\n",
    "food[\"Inspection Date\"] = food[\"Inspection Date\"].str.split(\"-\").str[0]"
   ]
  },
  {
   "cell_type": "code",
   "execution_count": 7,
   "metadata": {},
   "outputs": [
    {
     "data": {
      "text/plain": [
       "False"
      ]
     },
     "execution_count": 7,
     "metadata": {},
     "output_type": "execute_result"
    }
   ],
   "source": [
    "#Check for missing years\n",
    "food[\"Inspection Date\"].isna().any()"
   ]
  },
  {
   "cell_type": "markdown",
   "metadata": {},
   "source": [
    "**Step 5.** Drop risk different than high, medium, low"
   ]
  },
  {
   "cell_type": "code",
   "execution_count": 8,
   "metadata": {},
   "outputs": [
    {
     "data": {
      "text/plain": [
       "Risk 1 (High)      139244\n",
       "Risk 2 (Medium)     37831\n",
       "Risk 3 (Low)        16874\n",
       "All                    28\n",
       "Name: Risk, dtype: int64"
      ]
     },
     "execution_count": 8,
     "metadata": {},
     "output_type": "execute_result"
    }
   ],
   "source": [
    "#Checking for any other value than the 3 levels of risk\n",
    "food.Risk.value_counts()"
   ]
  },
  {
   "cell_type": "code",
   "execution_count": 9,
   "metadata": {},
   "outputs": [
    {
     "ename": "TypeError",
     "evalue": "bad operand type for unary ~: 'float'",
     "output_type": "error",
     "traceback": [
      "\u001b[1;31m---------------------------------------------------------------------------\u001b[0m",
      "\u001b[1;31mTypeError\u001b[0m                                 Traceback (most recent call last)",
      "\u001b[1;32m<ipython-input-9-06cfca37186d>\u001b[0m in \u001b[0;36m<module>\u001b[1;34m\u001b[0m\n\u001b[0;32m      1\u001b[0m \u001b[1;31m#cleaning\u001b[0m\u001b[1;33m\u001b[0m\u001b[1;33m\u001b[0m\u001b[1;33m\u001b[0m\u001b[0m\n\u001b[1;32m----> 2\u001b[1;33m \u001b[0mfood\u001b[0m \u001b[1;33m=\u001b[0m \u001b[0mfood\u001b[0m\u001b[1;33m[\u001b[0m\u001b[1;33m~\u001b[0m\u001b[0mfood\u001b[0m\u001b[1;33m[\u001b[0m\u001b[1;34m\"Risk\"\u001b[0m\u001b[1;33m]\u001b[0m\u001b[1;33m.\u001b[0m\u001b[0mstr\u001b[0m\u001b[1;33m.\u001b[0m\u001b[0mcontains\u001b[0m\u001b[1;33m(\u001b[0m\u001b[1;34m'|'\u001b[0m\u001b[1;33m.\u001b[0m\u001b[0mjoin\u001b[0m\u001b[1;33m(\u001b[0m\u001b[1;33m[\u001b[0m\u001b[1;34m\"All\"\u001b[0m\u001b[1;33m]\u001b[0m\u001b[1;33m)\u001b[0m\u001b[1;33m)\u001b[0m\u001b[1;33m]\u001b[0m\u001b[1;33m\u001b[0m\u001b[1;33m\u001b[0m\u001b[0m\n\u001b[0m\u001b[0;32m      3\u001b[0m \u001b[0mfood\u001b[0m\u001b[1;33m.\u001b[0m\u001b[0mRisk\u001b[0m\u001b[1;33m.\u001b[0m\u001b[0mvalue_counts\u001b[0m\u001b[1;33m(\u001b[0m\u001b[1;33m)\u001b[0m\u001b[1;33m\u001b[0m\u001b[1;33m\u001b[0m\u001b[0m\n",
      "\u001b[1;32m~\\AppData\\Local\\Continuum\\anaconda3\\envs\\ada\\lib\\site-packages\\pandas\\core\\generic.py\u001b[0m in \u001b[0;36m__invert__\u001b[1;34m(self)\u001b[0m\n\u001b[0;32m   1539\u001b[0m     \u001b[1;32mdef\u001b[0m \u001b[0m__invert__\u001b[0m\u001b[1;33m(\u001b[0m\u001b[0mself\u001b[0m\u001b[1;33m)\u001b[0m\u001b[1;33m:\u001b[0m\u001b[1;33m\u001b[0m\u001b[1;33m\u001b[0m\u001b[0m\n\u001b[0;32m   1540\u001b[0m         \u001b[1;32mtry\u001b[0m\u001b[1;33m:\u001b[0m\u001b[1;33m\u001b[0m\u001b[1;33m\u001b[0m\u001b[0m\n\u001b[1;32m-> 1541\u001b[1;33m             \u001b[0marr\u001b[0m \u001b[1;33m=\u001b[0m \u001b[0moperator\u001b[0m\u001b[1;33m.\u001b[0m\u001b[0minv\u001b[0m\u001b[1;33m(\u001b[0m\u001b[0mcom\u001b[0m\u001b[1;33m.\u001b[0m\u001b[0mvalues_from_object\u001b[0m\u001b[1;33m(\u001b[0m\u001b[0mself\u001b[0m\u001b[1;33m)\u001b[0m\u001b[1;33m)\u001b[0m\u001b[1;33m\u001b[0m\u001b[1;33m\u001b[0m\u001b[0m\n\u001b[0m\u001b[0;32m   1542\u001b[0m             \u001b[1;32mreturn\u001b[0m \u001b[0mself\u001b[0m\u001b[1;33m.\u001b[0m\u001b[0m__array_wrap__\u001b[0m\u001b[1;33m(\u001b[0m\u001b[0marr\u001b[0m\u001b[1;33m)\u001b[0m\u001b[1;33m\u001b[0m\u001b[1;33m\u001b[0m\u001b[0m\n\u001b[0;32m   1543\u001b[0m         \u001b[1;32mexcept\u001b[0m \u001b[0mException\u001b[0m\u001b[1;33m:\u001b[0m\u001b[1;33m\u001b[0m\u001b[1;33m\u001b[0m\u001b[0m\n",
      "\u001b[1;31mTypeError\u001b[0m: bad operand type for unary ~: 'float'"
     ]
    }
   ],
   "source": [
    "#cleaning\n",
    "food = food[~food[\"Risk\"].str.contains('|'.join([\"All\"]))]\n",
    "food.Risk.value_counts()"
   ]
  },
  {
   "cell_type": "markdown",
   "metadata": {},
   "source": [
    "**Step 6.** Focus on the facility type: Restaurant, Grocery, School and Hospital"
   ]
  },
  {
   "cell_type": "code",
   "execution_count": 10,
   "metadata": {},
   "outputs": [
    {
     "data": {
      "text/plain": [
       "Facility Type\n",
       "Restaurant                         129818\n",
       "Grocery Store                       24850\n",
       "School                              11816\n",
       "Children's Services Facility         3044\n",
       "Bakery                               2860\n",
       "Daycare (2 - 6 Years)                2685\n",
       "Daycare Above and Under 2 Years      2359\n",
       "Long Term Care                       1322\n",
       "Catering                             1181\n",
       "Liquor                                855\n",
       "Mobile Food Dispenser                 789\n",
       "Daycare Combo 1586                    745\n",
       "Mobile Food Preparer                  584\n",
       "Golden Diner                          553\n",
       "Wholesale                             534\n",
       "Hospital                              533\n",
       "TAVERN                                282\n",
       "Daycare (Under 2 Years)               249\n",
       "Shared Kitchen User (Long Term)       170\n",
       "BANQUET HALL                          147\n",
       "Name: Facility Type, dtype: int64"
      ]
     },
     "execution_count": 10,
     "metadata": {},
     "output_type": "execute_result"
    }
   ],
   "source": [
    "# Check number of inpection per facility Type\n",
    "food.groupby('Facility Type')['Facility Type'].count().sort_values(ascending=False).head(20)"
   ]
  },
  {
   "cell_type": "code",
   "execution_count": 11,
   "metadata": {},
   "outputs": [
    {
     "data": {
      "text/plain": [
       "Restaurant       129818\n",
       "Grocery Store     24850\n",
       "School            11816\n",
       "Hospital            533\n",
       "Name: Facility Type, dtype: int64"
      ]
     },
     "execution_count": 11,
     "metadata": {},
     "output_type": "execute_result"
    }
   ],
   "source": [
    "# We wil focus our analysis on the facility type: Restaurant, Grocery, School and Hospital.\n",
    "food = food[food[\"Facility Type\"].isin([\"Restaurant\",\"Grocery Store\", \"School\", \"Hospital\"])]\n",
    "food[\"Facility Type\"].value_counts()"
   ]
  },
  {
   "cell_type": "markdown",
   "metadata": {},
   "source": [
    "**Step 7.** For restaurant we focus only the 5 most inspected chains of different types of food "
   ]
  },
  {
   "cell_type": "code",
   "execution_count": 12,
   "metadata": {},
   "outputs": [
    {
     "data": {
      "text/plain": [
       "SUBWAY                          3429\n",
       "DUNKIN DONUTS                   1383\n",
       "MCDONALD'S                       908\n",
       "CHIPOTLE MEXICAN GRILL           422\n",
       "MCDONALDS                        406\n",
       "BURGER KING                      383\n",
       "DUNKIN DONUTS/BASKIN ROBBINS     320\n",
       "WENDY'S                          313\n",
       "STARBUCKS COFFEE                 301\n",
       "POTBELLY SANDWICH WORKS          271\n",
       "AU BON PAIN                      240\n",
       "CORNER BAKERY CAFE               240\n",
       "FRESHII                          237\n",
       "STARBUCKS                        236\n",
       "SUBWAY SANDWICHES                231\n",
       "JIMMY JOHN'S                     222\n",
       "PIZZA HUT                        220\n",
       "TACO BELL                        206\n",
       "DOMINO'S PIZZA                   201\n",
       "KFC                              199\n",
       "JIMMY JOHNS                      198\n",
       "SEE THRU CHINESE KITCHEN         180\n",
       "POTBELLY SANDWICH WORKS LLC      177\n",
       "HAROLD'S CHICKEN SHACK           170\n",
       "MC DONALD'S                      169\n",
       "Name: AKA Name, dtype: int64"
      ]
     },
     "execution_count": 12,
     "metadata": {},
     "output_type": "execute_result"
    }
   ],
   "source": [
    "#Preview of restaurants\n",
    "restaurants = food[food[\"Facility Type\"]==\"Restaurant\"].copy()\n",
    "#Drop NaN's\n",
    "restaurants.dropna(subset=[\"AKA Name\"], inplace=True)\n",
    "#Only uppercase\n",
    "restaurants[\"AKA Name\"] = restaurants[\"AKA Name\"].str.upper()\n",
    "\n",
    "restaurants[\"AKA Name\"].value_counts().head(25)"
   ]
  },
  {
   "cell_type": "markdown",
   "metadata": {},
   "source": [
    "We creat a new datafram with only McDonald's, Subway, Taco Bell, Satrbucks and Dunkin Donuts."
   ]
  },
  {
   "cell_type": "markdown",
   "metadata": {},
   "source": [
    "**McDonald's**"
   ]
  },
  {
   "cell_type": "code",
   "execution_count": 13,
   "metadata": {},
   "outputs": [
    {
     "data": {
      "text/plain": [
       "MCDONALD'S                908\n",
       "MCDONALDS                 406\n",
       "MC DONALD'S               169\n",
       "MC DONALDS                168\n",
       "MCDONALD'S RESTAURANT      87\n",
       "MCDONALDS RESTAURANT       43\n",
       "MCDONALD'S RESTAURANTS     24\n",
       "MCDONALD'S #490            20\n",
       "Name: AKA Name, dtype: int64"
      ]
     },
     "execution_count": 13,
     "metadata": {},
     "output_type": "execute_result"
    }
   ],
   "source": [
    "#Let's see if there is other restaurants with \"donald\" to avoid adding wrong data to McDonald's\n",
    "restaurants[restaurants[\"AKA Name\"].str.contains(\"DONALD\")][\"AKA Name\"].value_counts().head(8)"
   ]
  },
  {
   "cell_type": "code",
   "execution_count": 14,
   "metadata": {},
   "outputs": [
    {
     "data": {
      "text/plain": [
       "MCDONALDS    2221\n",
       "Name: AKA Name, dtype: int64"
      ]
     },
     "execution_count": 14,
     "metadata": {},
     "output_type": "execute_result"
    }
   ],
   "source": [
    "#removing \"Donald's famous hot dogs\" than unifying all McDonald's\n",
    "restaurants = restaurants[~restaurants[\"AKA Name\"].str.contains('|'.join([\"DOGS\"]))]\n",
    "restaurants.loc[restaurants[\"AKA Name\"].str.contains(\"DONALD\"), \"AKA Name\"] = \"MCDONALDS\"\n",
    "restaurants[restaurants[\"AKA Name\"].str.contains(\"DONALD\")][\"AKA Name\"].value_counts()"
   ]
  },
  {
   "cell_type": "markdown",
   "metadata": {},
   "source": [
    "**Subway**"
   ]
  },
  {
   "cell_type": "code",
   "execution_count": 15,
   "metadata": {},
   "outputs": [
    {
     "data": {
      "text/plain": [
       "SUBWAY                        3429\n",
       "SUBWAY SANDWICHES              231\n",
       "SUBWAY SANDWICH                 60\n",
       "SUBWAY SANDWICH & SALAD         30\n",
       "SUBWAY RESTAURANT               25\n",
       "SUBWAY (T3 ROTUNDA)             25\n",
       "SUBWAY #3333                    21\n",
       "SUBWAY SANDWICHES & SALADS      21\n",
       "Name: AKA Name, dtype: int64"
      ]
     },
     "execution_count": 15,
     "metadata": {},
     "output_type": "execute_result"
    }
   ],
   "source": [
    "#Let's see if there is other restaurants with \"subway\" to avoid adding wrong data to Subway\n",
    "restaurants[restaurants[\"AKA Name\"].str.contains(\"SUBWAY\")][\"AKA Name\"].value_counts().head(8)"
   ]
  },
  {
   "cell_type": "code",
   "execution_count": 16,
   "metadata": {},
   "outputs": [
    {
     "data": {
      "text/plain": [
       "SUBWAY    3990\n",
       "Name: AKA Name, dtype: int64"
      ]
     },
     "execution_count": 16,
     "metadata": {},
     "output_type": "execute_result"
    }
   ],
   "source": [
    "#removing restaurants with \"subway\" undesired than unifying all Subway's\n",
    "removable = [\"FULLERTON\",\"MADISON\", \"LALO\",\"LAKEVIEW\",\"SNAPPY\"]\n",
    "restaurants = restaurants[~restaurants[\"AKA Name\"].str.contains('|'.join(removable))]\n",
    "restaurants.loc[restaurants[\"AKA Name\"].str.contains(\"SUBWAY\"), \"AKA Name\"] = \"SUBWAY\"\n",
    "restaurants[restaurants[\"AKA Name\"].str.contains(\"SUBWAY\")][\"AKA Name\"].value_counts()"
   ]
  },
  {
   "cell_type": "markdown",
   "metadata": {},
   "source": [
    "**Starbucks**"
   ]
  },
  {
   "cell_type": "code",
   "execution_count": 17,
   "metadata": {},
   "outputs": [
    {
     "data": {
      "text/plain": [
       "STARBUCKS COFFEE                              301\n",
       "STARBUCKS                                     236\n",
       "MARKET PLACE/STARBUCKS COFFE/FRANGO/GODIVA     22\n",
       "STARBUCKS COFFEE #2370                         14\n",
       "STARBUCKS COFFEE #2334                         13\n",
       "STARBUCKS HK APEX (T3 HK FOODCOURT)            13\n",
       "STARBUCKS COFFEE (T1-B5)                       13\n",
       "STARBUCKS COFFEE #2410                         12\n",
       "Name: AKA Name, dtype: int64"
      ]
     },
     "execution_count": 17,
     "metadata": {},
     "output_type": "execute_result"
    }
   ],
   "source": [
    "restaurants[restaurants[\"AKA Name\"].str.contains(\"STARBUCKS\")][\"AKA Name\"].value_counts().head(8)"
   ]
  },
  {
   "cell_type": "code",
   "execution_count": 18,
   "metadata": {},
   "outputs": [
    {
     "data": {
      "text/plain": [
       "STARBUCKS    1452\n",
       "Name: AKA Name, dtype: int64"
      ]
     },
     "execution_count": 18,
     "metadata": {},
     "output_type": "execute_result"
    }
   ],
   "source": [
    "#we are going to assume \"starbucks\" is a very distinctive name and have negligible chance of being used in another restaurant\n",
    "restaurants.loc[restaurants[\"AKA Name\"].str.contains(\"STARBUCKS\"), \"AKA Name\"] = \"STARBUCKS\"\n",
    "restaurants[restaurants[\"AKA Name\"].str.contains(\"STARBUCKS\")][\"AKA Name\"].value_counts()"
   ]
  },
  {
   "cell_type": "markdown",
   "metadata": {},
   "source": [
    "**Taco Bell**"
   ]
  },
  {
   "cell_type": "code",
   "execution_count": 19,
   "metadata": {},
   "outputs": [
    {
     "data": {
      "text/plain": [
       "Series([], Name: AKA Name, dtype: int64)"
      ]
     },
     "execution_count": 19,
     "metadata": {},
     "output_type": "execute_result"
    }
   ],
   "source": [
    "#Checking a misspelled case\n",
    "restaurants[restaurants[\"AKA Name\"].str.contains(\"TACOBELL\")][\"AKA Name\"].value_counts()"
   ]
  },
  {
   "cell_type": "code",
   "execution_count": 20,
   "metadata": {},
   "outputs": [
    {
     "data": {
      "text/plain": [
       "TACO BELL                         206\n",
       "KFC/TACO BELL                      25\n",
       "TACO BELL #15855                   15\n",
       "TACO BELL & LONG JOHN SILVER'S     13\n",
       "TACO BELL #30407                   11\n",
       "TACO BELL CANTINA                  11\n",
       "TACO BELL_#4171                     9\n",
       "TACO BELL #15875                    9\n",
       "TACO BELL #2513                     9\n",
       "TACO BELL #5751                     8\n",
       "TACO BELL 32575                     3\n",
       "TACO BELL 34921                     2\n",
       "Name: AKA Name, dtype: int64"
      ]
     },
     "execution_count": 20,
     "metadata": {},
     "output_type": "execute_result"
    }
   ],
   "source": [
    "#Looks like Taco Bell is always written in separated words\n",
    "restaurants[restaurants[\"AKA Name\"].str.contains(\"TACO BELL\")][\"AKA Name\"].value_counts()"
   ]
  },
  {
   "cell_type": "code",
   "execution_count": 21,
   "metadata": {},
   "outputs": [
    {
     "data": {
      "text/plain": [
       "TACO BELL    321\n",
       "Name: AKA Name, dtype: int64"
      ]
     },
     "execution_count": 21,
     "metadata": {},
     "output_type": "execute_result"
    }
   ],
   "source": [
    "#And the name is luckly very unique\n",
    "restaurants.loc[restaurants[\"AKA Name\"].str.contains(\"TACO BELL\"), \"AKA Name\"] = \"TACO BELL\"\n",
    "restaurants[restaurants[\"AKA Name\"].str.contains(\"TACO BELL\")][\"AKA Name\"].value_counts()"
   ]
  },
  {
   "cell_type": "markdown",
   "metadata": {},
   "source": [
    "**Dunkin Donuts**"
   ]
  },
  {
   "cell_type": "code",
   "execution_count": 47,
   "metadata": {},
   "outputs": [
    {
     "data": {
      "text/plain": [
       "DUNKINDONUTS    7\n",
       "Name: AKA Name, dtype: int64"
      ]
     },
     "execution_count": 47,
     "metadata": {},
     "output_type": "execute_result"
    }
   ],
   "source": [
    "#Checking a misspelled case\n",
    "restaurants[restaurants[\"AKA Name\"].str.contains(\"DUNKINDONUTS\")][\"AKA Name\"].value_counts()"
   ]
  },
  {
   "cell_type": "markdown",
   "metadata": {},
   "source": [
    "When unifying all Dunkin Donuts we will also need to add the 7 \"DUNKINDONUTS\" from above"
   ]
  },
  {
   "cell_type": "code",
   "execution_count": 22,
   "metadata": {},
   "outputs": [
    {
     "data": {
      "text/plain": [
       "DUNKIN DONUTS                       1383\n",
       "DUNKIN DONUTS/BASKIN ROBBINS         320\n",
       "DUNKIN DONUTS BASKIN ROBBINS         122\n",
       "DUNKIN DONUTS / BASKIN ROBBINS       118\n",
       "DUNKIN DONUTS/ BASKIN ROBBINS         60\n",
       "DUNKIN DONUTS / BASKIN ROBINS         47\n",
       "DUNKIN DONUTS & BASKIN ROBBINS        28\n",
       "DUNKIN DONUTS / BASKIN & ROBBINS      25\n",
       "Name: AKA Name, dtype: int64"
      ]
     },
     "execution_count": 22,
     "metadata": {},
     "output_type": "execute_result"
    }
   ],
   "source": [
    "restaurants[restaurants[\"AKA Name\"].str.contains(\"DUNKIN DONUTS\")][\"AKA Name\"].value_counts().head(8)"
   ]
  },
  {
   "cell_type": "code",
   "execution_count": 23,
   "metadata": {},
   "outputs": [
    {
     "data": {
      "text/plain": [
       "DUNKIN DONUTS    2263\n",
       "Name: AKA Name, dtype: int64"
      ]
     },
     "execution_count": 23,
     "metadata": {},
     "output_type": "execute_result"
    }
   ],
   "source": [
    "#Dunkin Donuts is very unique too which helps us when unifying\n",
    "restaurants.loc[restaurants[\"AKA Name\"].str.contains(\"DUNKIN DONUTS\"), \"AKA Name\"] = \"DUNKIN DONUTS\"\n",
    "restaurants.loc[restaurants[\"AKA Name\"].str.contains(\"DUNKINDONUTS\"), \"AKA Name\"] = \"DUNKIN DONUTS\"\n",
    "restaurants[restaurants[\"AKA Name\"].str.contains(\"DUNKIN DONUTS\")][\"AKA Name\"].value_counts()"
   ]
  },
  {
   "cell_type": "markdown",
   "metadata": {},
   "source": [
    "**Removing any other restaurants**"
   ]
  },
  {
   "cell_type": "code",
   "execution_count": 24,
   "metadata": {},
   "outputs": [
    {
     "data": {
      "text/plain": [
       "SUBWAY           3990\n",
       "DUNKIN DONUTS    2263\n",
       "MCDONALDS        2221\n",
       "STARBUCKS        1452\n",
       "TACO BELL         321\n",
       "Name: AKA Name, dtype: int64"
      ]
     },
     "execution_count": 24,
     "metadata": {},
     "output_type": "execute_result"
    }
   ],
   "source": [
    "restaurant_list = [\"MCDONALDS\",\"SUBWAY\",\"STARBUCKS\",\"TACO BELL\",\"DUNKIN DONUTS\"]\n",
    "restaurants = restaurants[restaurants[\"AKA Name\"].isin(restaurant_list)]\n",
    "restaurants[\"AKA Name\"].value_counts()"
   ]
  },
  {
   "cell_type": "markdown",
   "metadata": {},
   "source": [
    "**Step 8.** Add spatial coordinates to the dataframe"
   ]
  },
  {
   "cell_type": "code",
   "execution_count": 11,
   "metadata": {},
   "outputs": [
    {
     "ename": "ModuleNotFoundError",
     "evalue": "No module named 'geopandas'",
     "output_type": "error",
     "traceback": [
      "\u001b[1;31m---------------------------------------------------------------------------\u001b[0m",
      "\u001b[1;31mModuleNotFoundError\u001b[0m                       Traceback (most recent call last)",
      "\u001b[1;32m<ipython-input-11-fc04bc171780>\u001b[0m in \u001b[0;36m<module>\u001b[1;34m\u001b[0m\n\u001b[0;32m      1\u001b[0m \u001b[1;32mfrom\u001b[0m \u001b[0mrequests\u001b[0m \u001b[1;32mimport\u001b[0m \u001b[0mget\u001b[0m\u001b[1;33m\u001b[0m\u001b[1;33m\u001b[0m\u001b[0m\n\u001b[0;32m      2\u001b[0m \u001b[1;32mimport\u001b[0m \u001b[0mjson\u001b[0m\u001b[1;33m\u001b[0m\u001b[1;33m\u001b[0m\u001b[0m\n\u001b[1;32m----> 3\u001b[1;33m \u001b[1;32mimport\u001b[0m \u001b[0mgeopandas\u001b[0m \u001b[1;32mas\u001b[0m \u001b[0mgpd\u001b[0m\u001b[1;33m\u001b[0m\u001b[1;33m\u001b[0m\u001b[0m\n\u001b[0m\u001b[0;32m      4\u001b[0m \u001b[1;32mfrom\u001b[0m \u001b[0mshapely\u001b[0m\u001b[1;33m.\u001b[0m\u001b[0mgeometry\u001b[0m \u001b[1;32mimport\u001b[0m \u001b[0mPoint\u001b[0m\u001b[1;33m,\u001b[0m \u001b[0mPolygon\u001b[0m\u001b[1;33m\u001b[0m\u001b[1;33m\u001b[0m\u001b[0m\n\u001b[0;32m      5\u001b[0m \u001b[1;32mimport\u001b[0m \u001b[0mfolium\u001b[0m\u001b[1;33m\u001b[0m\u001b[1;33m\u001b[0m\u001b[0m\n",
      "\u001b[1;31mModuleNotFoundError\u001b[0m: No module named 'geopandas'"
     ]
    }
   ],
   "source": [
    "from requests import get\n",
    "import json\n",
    "import geopandas as gpd\n",
    "from shapely.geometry import Point, Polygon\n",
    "import folium\n",
    "\n",
    "folium.__version__ == '0.10.0'"
   ]
  },
  {
   "cell_type": "code",
   "execution_count": null,
   "metadata": {},
   "outputs": [],
   "source": [
    "url='https://data.cityofchicago.org/api/geospatial/cauq-8yn6?method=export&format=GeoJSON'\n",
    "r = get(url)\n",
    "geojson_data = r.json()\n",
    "geojson = gpd.GeoDataFrame.from_features(geojson_data['features'])\n",
    "\n",
    "geojson.head()"
   ]
  },
  {
   "cell_type": "code",
   "execution_count": null,
   "metadata": {},
   "outputs": [],
   "source": [
    "geojson.drop(['perimeter', 'comarea_id','comarea'], axis=1, inplace=True)"
   ]
  },
  {
   "cell_type": "code",
   "execution_count": null,
   "metadata": {},
   "outputs": [],
   "source": [
    "geometry = [Point(xy) for xy in zip(food['Longitude'], food['Latitude'])]\n",
    "crs = {'init': 'epsg:4326'}\n",
    "gdf = gpd.GeoDataFrame(food, crs=crs, geometry=geometry)"
   ]
  },
  {
   "cell_type": "code",
   "execution_count": null,
   "metadata": {},
   "outputs": [],
   "source": [
    "food = gpd.sjoin(gdf, geojson, op='within', how='left')\n",
    "food.reset_index(inplace=True, drop=True)\n",
    "food.drop(['index_right'], axis=1, inplace=True)"
   ]
  },
  {
   "cell_type": "code",
   "execution_count": null,
   "metadata": {},
   "outputs": [],
   "source": [
    "chicago_coord = [41.85, -87.7]\n",
    "chicago_map = folium.Map(location=chicago_coord)"
   ]
  },
  {
   "cell_type": "code",
   "execution_count": null,
   "metadata": {},
   "outputs": [],
   "source": [
    "area_area10 = food[food['area_num_1'] == '10'].copy()\n",
    "area_area10.reset_index(drop=True, inplace=True)\n",
    "#shape = area_zip25.shape\n",
    "\n",
    "for index, row in area_area10.iterrows():\n",
    "    if index < 30:\n",
    "        folium.Marker([row[\"Latitude\"], row[\"Longitude\"]], popup=row['community'], \n",
    "                      icon=folium.Icon(color ='blue', icon = 'map-marker')).add_to(chicago_map)\n",
    "    else: \n",
    "        break"
   ]
  },
  {
   "cell_type": "code",
   "execution_count": null,
   "metadata": {},
   "outputs": [],
   "source": [
    "folium.GeoJson(geojson_data).add_to(chicago_map)"
   ]
  },
  {
   "cell_type": "code",
   "execution_count": null,
   "metadata": {},
   "outputs": [],
   "source": [
    "chicago_map"
   ]
  },
  {
   "cell_type": "markdown",
   "metadata": {},
   "source": [
    "**Final Step**"
   ]
  },
  {
   "cell_type": "code",
   "execution_count": 54,
   "metadata": {},
   "outputs": [],
   "source": [
    "#Reset Indexes after cleaning\n",
    "food.reset_index(drop=True, inplace=True)\n",
    "restaurants.reset_index(drop=True, inplace=True)"
   ]
  },
  {
   "cell_type": "code",
   "execution_count": 55,
   "metadata": {},
   "outputs": [],
   "source": [
    "#save pickles for use in analysis\n",
    "food.to_pickle(\"food.pkl\")\n",
    "restaurants.to_pickle(\"restaurants.pkl\")"
   ]
  },
  {
   "cell_type": "markdown",
   "metadata": {},
   "source": [
    "#### Part 2. Brute Data analysis"
   ]
  },
  {
   "cell_type": "markdown",
   "metadata": {},
   "source": [
    "#### Part 3. Context Data analysis"
   ]
  },
  {
   "cell_type": "markdown",
   "metadata": {},
   "source": [
    "#### Part 4. What's next ?"
   ]
  },
  {
   "cell_type": "code",
   "execution_count": null,
   "metadata": {},
   "outputs": [],
   "source": []
  }
 ],
 "metadata": {
  "kernelspec": {
   "display_name": "Python [conda env:ada] *",
   "language": "python",
   "name": "conda-env-ada-py"
  },
  "language_info": {
   "codemirror_mode": {
    "name": "ipython",
    "version": 3
   },
   "file_extension": ".py",
   "mimetype": "text/x-python",
   "name": "python",
   "nbconvert_exporter": "python",
   "pygments_lexer": "ipython3",
   "version": "3.7.4"
  }
 },
 "nbformat": 4,
 "nbformat_minor": 4
}
