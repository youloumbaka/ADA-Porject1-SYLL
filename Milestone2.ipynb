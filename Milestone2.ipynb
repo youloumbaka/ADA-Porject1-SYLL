{
 "cells": [
  {
   "cell_type": "markdown",
   "metadata": {},
   "source": [
    "# Chicago Food"
   ]
  },
  {
   "cell_type": "markdown",
   "metadata": {},
   "source": [
    "## Milestone 2 : Preprossessing"
   ]
  },
  {
   "cell_type": "markdown",
   "metadata": {},
   "source": [
    "In this milestone we will decribe what's inside our dataset. \n",
    "\n",
    "We will firstly make some cleaning process to be able to treat a coherous dataset for the following step. We will focus on four facilities type ; Restaurant, Grocery store, School and hospital. In the restaurant group, we will focus on the 5 biggest group company. We will enrich our database by adding a row with the area number of chicago. It will help us to do area analyse of our data.\n",
    "\n",
    "From this clean dataset we will do a brute analysis on the risk, type of violation and number of inspection. We will contextualyse our data trought an analyse over the different area, the four facility type and the time.\n",
    "\n",
    "Finaly, from the preprossing step we do, we will present what would be our analyse plan. "
   ]
  },
  {
   "cell_type": "markdown",
   "metadata": {},
   "source": [
    "#### Part 1. Cleaning the data"
   ]
  },
  {
   "cell_type": "code",
   "execution_count": 3,
   "metadata": {},
   "outputs": [],
   "source": [
    "%matplotlib inline\n",
    "import pandas as pd\n",
    "import numpy as np\n",
    "import re\n",
    "from matplotlib.ticker import MaxNLocator\n",
    "import matplotlib.pyplot as plt\n",
    "from scipy import stats\n",
    "import warnings\n",
    "warnings.filterwarnings('ignore')"
   ]
  },
  {
   "cell_type": "code",
   "execution_count": 4,
   "metadata": {},
   "outputs": [],
   "source": [
    "#Loading the data\n",
    "food = pd.read_csv('data/food-inspections.csv', sep=',')"
   ]
  },
  {
   "cell_type": "markdown",
   "metadata": {},
   "source": [
    "In the cleaning process of the data we made the assumption that an inspection with no latitude and longitude information is not useful. The feature license should be different that 0 otherwise it's impossible to differenciate the type of facility inspection."
   ]
  },
  {
   "cell_type": "markdown",
   "metadata": {},
   "source": [
    "**Cleaning steps**\n",
    "\n",
    "1) Drop column without any utility\n",
    "\n",
    "2) Drop rows without latitude or longitude.\n",
    "\n",
    "3) Drop the facilities having a license # equal to 0 \n",
    "\n",
    "4) Convert the date format to an analysis friendly format\n",
    "\n",
    "5) There are 3 risk levels (low, medium and high), any other value will be removed\n",
    "\n",
    "6) Filter only the 4 facility types we are going to analyse\n",
    "\n",
    "7) For restaurants, we are going to focus only the 5 most inspected chains of different types: McDonald's, Subway, Taco Bell, Satrbucks and Dunkin Donuts.\n",
    "\n",
    "8) We will add spatial coordinates to the dataframe using 'Geopandas' and a map of districts found online."
   ]
  },
  {
   "cell_type": "markdown",
   "metadata": {},
   "source": [
    "**Step 1.**  Drop column without any utility"
   ]
  },
  {
   "cell_type": "code",
   "execution_count": 5,
   "metadata": {},
   "outputs": [],
   "source": [
    "# Drop The columns whithout any links to our futher analyse \n",
    "# We will not use the zip code because some of them are wrong. We will only use latitude and longitude\n",
    "# to localisate the facility \n",
    "\n",
    "food.drop(['Zip Codes','Historical Wards 2003-2015', 'Community Areas', 'Census Tracts','Wards','Zip','State','Address','Location'], axis=1, inplace=True)\n"
   ]
  },
  {
   "cell_type": "markdown",
   "metadata": {},
   "source": [
    "**Step 2.** Drop row whitout latitude or longitude "
   ]
  },
  {
   "cell_type": "code",
   "execution_count": 7,
   "metadata": {},
   "outputs": [],
   "source": [
    "food.dropna(subset = [\"Latitude\", \"Longitude\"], inplace=True)"
   ]
  },
  {
   "cell_type": "markdown",
   "metadata": {},
   "source": [
    "**Step 3.** Drop row with 0 as licence number."
   ]
  },
  {
   "cell_type": "code",
   "execution_count": 8,
   "metadata": {},
   "outputs": [],
   "source": [
    "food.drop(food[food['License #'] == 0].index, inplace=True)"
   ]
  },
  {
   "cell_type": "markdown",
   "metadata": {},
   "source": [
    "**Step 4.** Convert the date format to an analysis friendly format"
   ]
  },
  {
   "cell_type": "code",
   "execution_count": null,
   "metadata": {},
   "outputs": [],
   "source": [
    "# We only keep the year of the inspection\n",
    "food[\"Inspection Date\"] = food[\"Inspection Date\"].str.split(\"-\").str[0]"
   ]
  },
  {
   "cell_type": "code",
   "execution_count": null,
   "metadata": {},
   "outputs": [],
   "source": [
    "#Check for missing years\n",
    "food[\"Inspection Date\"].isna().any()"
   ]
  },
  {
   "cell_type": "markdown",
   "metadata": {},
   "source": [
    "**Step 5.** Drop risk different than high, medium, low"
   ]
  },
  {
   "cell_type": "code",
   "execution_count": null,
   "metadata": {},
   "outputs": [],
   "source": [
    "#Checking for any other value than the 3 levels of risk\n",
    "food.Risk.value_counts()"
   ]
  },
  {
   "cell_type": "code",
   "execution_count": null,
   "metadata": {},
   "outputs": [],
   "source": [
    "#cleaning\n",
    "food = food[~food[\"Risk\"].str.contains('|'.join([\"All\"]))]\n",
    "food.Risk.value_counts()"
   ]
  },
  {
   "cell_type": "markdown",
   "metadata": {},
   "source": [
    "**Step 6.** Focus on the facility type: Restaurant, Grocery, School and Hospital"
   ]
  },
  {
   "cell_type": "code",
   "execution_count": null,
   "metadata": {},
   "outputs": [],
   "source": [
    "# Check number of inpection per facility Type\n",
    "food.groupby('Facility Type')['Facility Type'].count().sort_values(ascending=False).head(20)"
   ]
  },
  {
   "cell_type": "code",
   "execution_count": null,
   "metadata": {},
   "outputs": [],
   "source": [
    "# We wil focus our analysis on the facility type: Restaurant, Grocery, School and Hospital.\n",
    "food = food[food[\"Facility Type\"].isin([\"Restaurant\",\"Grocery Store\", \"School\", \"Hospital\"])]\n",
    "food[\"Facility Type\"].value_counts()"
   ]
  },
  {
   "cell_type": "markdown",
   "metadata": {},
   "source": [
    "**Step 7.** For restaurant we focus only the 5 most inspected chains of different types of food "
   ]
  },
  {
   "cell_type": "code",
   "execution_count": null,
   "metadata": {},
   "outputs": [],
   "source": [
    "#Preview of restaurants\n",
    "restaurants = food[food[\"Facility Type\"]==\"Restaurant\"].copy()\n",
    "#Drop NaN's\n",
    "restaurants.dropna(subset=[\"AKA Name\"], inplace=True)\n",
    "#Only uppercase\n",
    "restaurants[\"AKA Name\"] = restaurants[\"AKA Name\"].str.upper()\n",
    "\n",
    "restaurants[\"AKA Name\"].value_counts().head(25)"
   ]
  },
  {
   "cell_type": "markdown",
   "metadata": {},
   "source": [
    "We creat a new datafram with only McDonald's, Subway, Taco Bell, Satrbucks and Dunkin Donuts."
   ]
  },
  {
   "cell_type": "markdown",
   "metadata": {},
   "source": [
    "**Step 8.** Add spatial coordinates to the dataframe"
   ]
  },
  {
   "cell_type": "code",
   "execution_count": 11,
   "metadata": {},
   "outputs": [
    {
     "ename": "ModuleNotFoundError",
     "evalue": "No module named 'geopandas'",
     "output_type": "error",
     "traceback": [
      "\u001b[1;31m---------------------------------------------------------------------------\u001b[0m",
      "\u001b[1;31mModuleNotFoundError\u001b[0m                       Traceback (most recent call last)",
      "\u001b[1;32m<ipython-input-11-fc04bc171780>\u001b[0m in \u001b[0;36m<module>\u001b[1;34m\u001b[0m\n\u001b[0;32m      1\u001b[0m \u001b[1;32mfrom\u001b[0m \u001b[0mrequests\u001b[0m \u001b[1;32mimport\u001b[0m \u001b[0mget\u001b[0m\u001b[1;33m\u001b[0m\u001b[1;33m\u001b[0m\u001b[0m\n\u001b[0;32m      2\u001b[0m \u001b[1;32mimport\u001b[0m \u001b[0mjson\u001b[0m\u001b[1;33m\u001b[0m\u001b[1;33m\u001b[0m\u001b[0m\n\u001b[1;32m----> 3\u001b[1;33m \u001b[1;32mimport\u001b[0m \u001b[0mgeopandas\u001b[0m \u001b[1;32mas\u001b[0m \u001b[0mgpd\u001b[0m\u001b[1;33m\u001b[0m\u001b[1;33m\u001b[0m\u001b[0m\n\u001b[0m\u001b[0;32m      4\u001b[0m \u001b[1;32mfrom\u001b[0m \u001b[0mshapely\u001b[0m\u001b[1;33m.\u001b[0m\u001b[0mgeometry\u001b[0m \u001b[1;32mimport\u001b[0m \u001b[0mPoint\u001b[0m\u001b[1;33m,\u001b[0m \u001b[0mPolygon\u001b[0m\u001b[1;33m\u001b[0m\u001b[1;33m\u001b[0m\u001b[0m\n\u001b[0;32m      5\u001b[0m \u001b[1;32mimport\u001b[0m \u001b[0mfolium\u001b[0m\u001b[1;33m\u001b[0m\u001b[1;33m\u001b[0m\u001b[0m\n",
      "\u001b[1;31mModuleNotFoundError\u001b[0m: No module named 'geopandas'"
     ]
    }
   ],
   "source": [
    "from requests import get\n",
    "import json\n",
    "import geopandas as gpd\n",
    "from shapely.geometry import Point, Polygon\n",
    "import folium\n",
    "\n",
    "folium.__version__ == '0.10.0'"
   ]
  },
  {
   "cell_type": "code",
   "execution_count": null,
   "metadata": {},
   "outputs": [],
   "source": [
    "url='https://data.cityofchicago.org/api/geospatial/cauq-8yn6?method=export&format=GeoJSON'\n",
    "r = get(url)\n",
    "geojson_data = r.json()\n",
    "geojson = gpd.GeoDataFrame.from_features(geojson_data['features'])\n",
    "\n",
    "geojson.head()"
   ]
  },
  {
   "cell_type": "code",
   "execution_count": null,
   "metadata": {},
   "outputs": [],
   "source": [
    "geojson.drop(['perimeter', 'comarea_id','comarea'], axis=1, inplace=True)"
   ]
  },
  {
   "cell_type": "code",
   "execution_count": null,
   "metadata": {},
   "outputs": [],
   "source": [
    "geometry = [Point(xy) for xy in zip(food['Longitude'], food['Latitude'])]\n",
    "crs = {'init': 'epsg:4326'}\n",
    "gdf = gpd.GeoDataFrame(food, crs=crs, geometry=geometry)"
   ]
  },
  {
   "cell_type": "code",
   "execution_count": null,
   "metadata": {},
   "outputs": [],
   "source": [
    "food = gpd.sjoin(gdf, geojson, op='within', how='left')\n",
    "food.reset_index(inplace=True, drop=True)\n",
    "food.drop(['index_right'], axis=1, inplace=True)"
   ]
  },
  {
   "cell_type": "code",
   "execution_count": null,
   "metadata": {},
   "outputs": [],
   "source": [
    "chicago_coord = [41.85, -87.7]\n",
    "chicago_map = folium.Map(location=chicago_coord)"
   ]
  },
  {
   "cell_type": "code",
   "execution_count": null,
   "metadata": {},
   "outputs": [],
   "source": [
    "area_area10 = food[food['area_num_1'] == '10'].copy()\n",
    "area_area10.reset_index(drop=True, inplace=True)\n",
    "#shape = area_zip25.shape\n",
    "\n",
    "for index, row in area_area10.iterrows():\n",
    "    if index < 30:\n",
    "        folium.Marker([row[\"Latitude\"], row[\"Longitude\"]], popup=row['community'], \n",
    "                      icon=folium.Icon(color ='blue', icon = 'map-marker')).add_to(chicago_map)\n",
    "    else: \n",
    "        break"
   ]
  },
  {
   "cell_type": "code",
   "execution_count": null,
   "metadata": {},
   "outputs": [],
   "source": [
    "folium.GeoJson(geojson_data).add_to(chicago_map)"
   ]
  },
  {
   "cell_type": "code",
   "execution_count": null,
   "metadata": {},
   "outputs": [],
   "source": [
    "chicago_map"
   ]
  },
  {
   "cell_type": "markdown",
   "metadata": {},
   "source": [
    "#### Part 2. Brute Data analysis"
   ]
  },
  {
   "cell_type": "markdown",
   "metadata": {},
   "source": [
    "#### Part 3. Context Data analysis"
   ]
  },
  {
   "cell_type": "markdown",
   "metadata": {},
   "source": [
    "#### Part 4. What's next ?"
   ]
  },
  {
   "cell_type": "code",
   "execution_count": null,
   "metadata": {},
   "outputs": [],
   "source": []
  }
 ],
 "metadata": {
  "kernelspec": {
   "display_name": "Python [conda env:ada] *",
   "language": "python",
   "name": "conda-env-ada-py"
  },
  "language_info": {
   "codemirror_mode": {
    "name": "ipython",
    "version": 3
   },
   "file_extension": ".py",
   "mimetype": "text/x-python",
   "name": "python",
   "nbconvert_exporter": "python",
   "pygments_lexer": "ipython3",
   "version": "3.7.4"
  }
 },
 "nbformat": 4,
 "nbformat_minor": 2
}
