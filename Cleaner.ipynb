{
 "cells": [
  {
   "cell_type": "markdown",
   "metadata": {},
   "source": [
    "**Here we are going to clean the data for manipulating the dataset later by saving/loading a dataframe**"
   ]
  },
  {
   "cell_type": "markdown",
   "metadata": {},
   "source": [
    "Finish with thi sline of code:"
   ]
  },
  {
   "cell_type": "code",
   "execution_count": 142,
   "metadata": {},
   "outputs": [],
   "source": [
    "%matplotlib inline\n",
    "import pandas as pd\n",
    "import numpy as np\n",
    "import re\n",
    "from matplotlib.ticker import MaxNLocator\n",
    "import matplotlib.pyplot as plt\n",
    "from requests import get\n",
    "from bs4 import BeautifulSoup\n",
    "from scipy import stats\n",
    "import warnings\n",
    "warnings.filterwarnings('ignore')"
   ]
  },
  {
   "cell_type": "markdown",
   "metadata": {},
   "source": [
    "**Dataframe Preparation**"
   ]
  },
  {
   "cell_type": "code",
   "execution_count": 143,
   "metadata": {},
   "outputs": [],
   "source": [
    "food = pd.read_csv('data/food-inspections.csv', sep=',')"
   ]
  },
  {
   "cell_type": "code",
   "execution_count": 144,
   "metadata": {},
   "outputs": [],
   "source": [
    "food = food.drop(['DBA Name','Address','City', 'State','Zip', 'Zip Codes','Historical Wards 2003-2015', 'Community Areas', 'Census Tracts','Wards','Location'], axis=1)"
   ]
  },
  {
   "cell_type": "code",
   "execution_count": 145,
   "metadata": {},
   "outputs": [
    {
     "data": {
      "text/html": [
       "<div>\n",
       "<style scoped>\n",
       "    .dataframe tbody tr th:only-of-type {\n",
       "        vertical-align: middle;\n",
       "    }\n",
       "\n",
       "    .dataframe tbody tr th {\n",
       "        vertical-align: top;\n",
       "    }\n",
       "\n",
       "    .dataframe thead th {\n",
       "        text-align: right;\n",
       "    }\n",
       "</style>\n",
       "<table border=\"1\" class=\"dataframe\">\n",
       "  <thead>\n",
       "    <tr style=\"text-align: right;\">\n",
       "      <th></th>\n",
       "      <th>Inspection ID</th>\n",
       "      <th>AKA Name</th>\n",
       "      <th>License #</th>\n",
       "      <th>Facility Type</th>\n",
       "      <th>Risk</th>\n",
       "      <th>Inspection Date</th>\n",
       "      <th>Inspection Type</th>\n",
       "      <th>Results</th>\n",
       "      <th>Violations</th>\n",
       "      <th>Latitude</th>\n",
       "      <th>Longitude</th>\n",
       "    </tr>\n",
       "  </thead>\n",
       "  <tbody>\n",
       "    <tr>\n",
       "      <td>0</td>\n",
       "      <td>2320830</td>\n",
       "      <td>THE HOXTON, CHICAGO</td>\n",
       "      <td>2694640.0</td>\n",
       "      <td>Restaurant</td>\n",
       "      <td>Risk 2 (Medium)</td>\n",
       "      <td>2019-10-31T00:00:00.000</td>\n",
       "      <td>License</td>\n",
       "      <td>Pass</td>\n",
       "      <td>36. THERMOMETERS PROVIDED &amp; ACCURATE - Comment...</td>\n",
       "      <td>41.885699</td>\n",
       "      <td>-87.648789</td>\n",
       "    </tr>\n",
       "    <tr>\n",
       "      <td>1</td>\n",
       "      <td>2320831</td>\n",
       "      <td>OGDEN PLAZA INC.</td>\n",
       "      <td>2475982.0</td>\n",
       "      <td>Grocery Store</td>\n",
       "      <td>Risk 3 (Low)</td>\n",
       "      <td>2019-10-31T00:00:00.000</td>\n",
       "      <td>Canvass</td>\n",
       "      <td>Out of Business</td>\n",
       "      <td>NaN</td>\n",
       "      <td>41.855266</td>\n",
       "      <td>-87.712402</td>\n",
       "    </tr>\n",
       "    <tr>\n",
       "      <td>2</td>\n",
       "      <td>2320829</td>\n",
       "      <td>PLAZA FOOD AND LIQUOR</td>\n",
       "      <td>2689756.0</td>\n",
       "      <td>Grocery Store</td>\n",
       "      <td>Risk 3 (Low)</td>\n",
       "      <td>2019-10-31T00:00:00.000</td>\n",
       "      <td>License</td>\n",
       "      <td>Not Ready</td>\n",
       "      <td>NaN</td>\n",
       "      <td>NaN</td>\n",
       "      <td>NaN</td>\n",
       "    </tr>\n",
       "    <tr>\n",
       "      <td>3</td>\n",
       "      <td>2320813</td>\n",
       "      <td>PLAZA FOOD AND LIQUOR</td>\n",
       "      <td>2689757.0</td>\n",
       "      <td>Grocery Store</td>\n",
       "      <td>Risk 3 (Low)</td>\n",
       "      <td>2019-10-31T00:00:00.000</td>\n",
       "      <td>License</td>\n",
       "      <td>Fail</td>\n",
       "      <td>5. PROCEDURES FOR RESPONDING TO VOMITING AND D...</td>\n",
       "      <td>NaN</td>\n",
       "      <td>NaN</td>\n",
       "    </tr>\n",
       "    <tr>\n",
       "      <td>4</td>\n",
       "      <td>2320757</td>\n",
       "      <td>GADS HILL CENTER</td>\n",
       "      <td>2698627.0</td>\n",
       "      <td>Daycare Above and Under 2 Years</td>\n",
       "      <td>Risk 1 (High)</td>\n",
       "      <td>2019-10-30T00:00:00.000</td>\n",
       "      <td>License</td>\n",
       "      <td>Fail</td>\n",
       "      <td>5. PROCEDURES FOR RESPONDING TO VOMITING AND D...</td>\n",
       "      <td>41.816005</td>\n",
       "      <td>-87.700893</td>\n",
       "    </tr>\n",
       "  </tbody>\n",
       "</table>\n",
       "</div>"
      ],
      "text/plain": [
       "   Inspection ID               AKA Name  License #  \\\n",
       "0        2320830    THE HOXTON, CHICAGO  2694640.0   \n",
       "1        2320831       OGDEN PLAZA INC.  2475982.0   \n",
       "2        2320829  PLAZA FOOD AND LIQUOR  2689756.0   \n",
       "3        2320813  PLAZA FOOD AND LIQUOR  2689757.0   \n",
       "4        2320757       GADS HILL CENTER  2698627.0   \n",
       "\n",
       "                     Facility Type             Risk          Inspection Date  \\\n",
       "0                       Restaurant  Risk 2 (Medium)  2019-10-31T00:00:00.000   \n",
       "1                    Grocery Store     Risk 3 (Low)  2019-10-31T00:00:00.000   \n",
       "2                    Grocery Store     Risk 3 (Low)  2019-10-31T00:00:00.000   \n",
       "3                    Grocery Store     Risk 3 (Low)  2019-10-31T00:00:00.000   \n",
       "4  Daycare Above and Under 2 Years    Risk 1 (High)  2019-10-30T00:00:00.000   \n",
       "\n",
       "  Inspection Type          Results  \\\n",
       "0         License             Pass   \n",
       "1         Canvass  Out of Business   \n",
       "2         License        Not Ready   \n",
       "3         License             Fail   \n",
       "4         License             Fail   \n",
       "\n",
       "                                          Violations   Latitude  Longitude  \n",
       "0  36. THERMOMETERS PROVIDED & ACCURATE - Comment...  41.885699 -87.648789  \n",
       "1                                                NaN  41.855266 -87.712402  \n",
       "2                                                NaN        NaN        NaN  \n",
       "3  5. PROCEDURES FOR RESPONDING TO VOMITING AND D...        NaN        NaN  \n",
       "4  5. PROCEDURES FOR RESPONDING TO VOMITING AND D...  41.816005 -87.700893  "
      ]
     },
     "execution_count": 145,
     "metadata": {},
     "output_type": "execute_result"
    }
   ],
   "source": [
    "food.head()"
   ]
  },
  {
   "cell_type": "markdown",
   "metadata": {},
   "source": [
    "**Cleaning steps**\n",
    "\n",
    "1) Drop rows without location.\n",
    "\n",
    "2) Filter only the 4 facility types we are going to analyse: restaurants, grocery stores, schools and hospitals.\n",
    "\n",
    "3) Convert the date format to an analysis friendly format\n",
    "\n",
    "4) There are 3 risk levels (low, medium and high), any other value will be removed\n",
    "\n",
    "5) For restaurants, we are going to focus only the 5 most inspected chains of different types: McDonald's, Subway, Taco Bell, Satrbucks and Dunkin Donuts."
   ]
  },
  {
   "cell_type": "markdown",
   "metadata": {},
   "source": [
    "**Step 1**"
   ]
  },
  {
   "cell_type": "code",
   "execution_count": 146,
   "metadata": {},
   "outputs": [
    {
     "data": {
      "text/plain": [
       "True"
      ]
     },
     "execution_count": 146,
     "metadata": {},
     "output_type": "execute_result"
    }
   ],
   "source": [
    "food.Latitude.isna().any() or food.Longitude.isna().any()"
   ]
  },
  {
   "cell_type": "code",
   "execution_count": 147,
   "metadata": {},
   "outputs": [
    {
     "data": {
      "text/plain": [
       "False"
      ]
     },
     "execution_count": 147,
     "metadata": {},
     "output_type": "execute_result"
    }
   ],
   "source": [
    "food.dropna(subset = [\"Latitude\", \"Longitude\"], inplace=True)\n",
    "food.Latitude.isna().any() or food.Longitude.isna().any()"
   ]
  },
  {
   "cell_type": "markdown",
   "metadata": {},
   "source": [
    "**Step 2**"
   ]
  },
  {
   "cell_type": "code",
   "execution_count": 148,
   "metadata": {},
   "outputs": [
    {
     "data": {
      "text/plain": [
       "Restaurant       129891\n",
       "Grocery Store     24838\n",
       "School            11808\n",
       "Hospital            537\n",
       "Name: Facility Type, dtype: int64"
      ]
     },
     "execution_count": 148,
     "metadata": {},
     "output_type": "execute_result"
    }
   ],
   "source": [
    "food = food[food[\"Facility Type\"].isin([\"Restaurant\",\"Grocery Store\", \"School\", \"Hospital\"])]\n",
    "food[\"Facility Type\"].value_counts()"
   ]
  },
  {
   "cell_type": "markdown",
   "metadata": {},
   "source": [
    "**Step 3**"
   ]
  },
  {
   "cell_type": "code",
   "execution_count": 149,
   "metadata": {},
   "outputs": [
    {
     "data": {
      "text/html": [
       "<div>\n",
       "<style scoped>\n",
       "    .dataframe tbody tr th:only-of-type {\n",
       "        vertical-align: middle;\n",
       "    }\n",
       "\n",
       "    .dataframe tbody tr th {\n",
       "        vertical-align: top;\n",
       "    }\n",
       "\n",
       "    .dataframe thead th {\n",
       "        text-align: right;\n",
       "    }\n",
       "</style>\n",
       "<table border=\"1\" class=\"dataframe\">\n",
       "  <thead>\n",
       "    <tr style=\"text-align: right;\">\n",
       "      <th></th>\n",
       "      <th>Inspection ID</th>\n",
       "      <th>AKA Name</th>\n",
       "      <th>License #</th>\n",
       "      <th>Facility Type</th>\n",
       "      <th>Risk</th>\n",
       "      <th>Inspection Date</th>\n",
       "      <th>Inspection Type</th>\n",
       "      <th>Results</th>\n",
       "      <th>Violations</th>\n",
       "      <th>Latitude</th>\n",
       "      <th>Longitude</th>\n",
       "    </tr>\n",
       "  </thead>\n",
       "  <tbody>\n",
       "    <tr>\n",
       "      <td>0</td>\n",
       "      <td>2320830</td>\n",
       "      <td>THE HOXTON, CHICAGO</td>\n",
       "      <td>2694640.0</td>\n",
       "      <td>Restaurant</td>\n",
       "      <td>Risk 2 (Medium)</td>\n",
       "      <td>2019</td>\n",
       "      <td>License</td>\n",
       "      <td>Pass</td>\n",
       "      <td>36. THERMOMETERS PROVIDED &amp; ACCURATE - Comment...</td>\n",
       "      <td>41.885699</td>\n",
       "      <td>-87.648789</td>\n",
       "    </tr>\n",
       "    <tr>\n",
       "      <td>1</td>\n",
       "      <td>2320831</td>\n",
       "      <td>OGDEN PLAZA INC.</td>\n",
       "      <td>2475982.0</td>\n",
       "      <td>Grocery Store</td>\n",
       "      <td>Risk 3 (Low)</td>\n",
       "      <td>2019</td>\n",
       "      <td>Canvass</td>\n",
       "      <td>Out of Business</td>\n",
       "      <td>NaN</td>\n",
       "      <td>41.855266</td>\n",
       "      <td>-87.712402</td>\n",
       "    </tr>\n",
       "    <tr>\n",
       "      <td>6</td>\n",
       "      <td>2320795</td>\n",
       "      <td>THE EXCHANGE</td>\n",
       "      <td>2698572.0</td>\n",
       "      <td>Restaurant</td>\n",
       "      <td>Risk 1 (High)</td>\n",
       "      <td>2019</td>\n",
       "      <td>License</td>\n",
       "      <td>Pass</td>\n",
       "      <td>NaN</td>\n",
       "      <td>41.887529</td>\n",
       "      <td>-87.632647</td>\n",
       "    </tr>\n",
       "    <tr>\n",
       "      <td>7</td>\n",
       "      <td>2320768</td>\n",
       "      <td>The Manor</td>\n",
       "      <td>22971.0</td>\n",
       "      <td>Restaurant</td>\n",
       "      <td>Risk 1 (High)</td>\n",
       "      <td>2019</td>\n",
       "      <td>Canvass</td>\n",
       "      <td>No Entry</td>\n",
       "      <td>NaN</td>\n",
       "      <td>41.807924</td>\n",
       "      <td>-87.728164</td>\n",
       "    </tr>\n",
       "    <tr>\n",
       "      <td>9</td>\n",
       "      <td>2320719</td>\n",
       "      <td>4884 S ARCHER INC,.</td>\n",
       "      <td>2678088.0</td>\n",
       "      <td>Grocery Store</td>\n",
       "      <td>Risk 3 (Low)</td>\n",
       "      <td>2019</td>\n",
       "      <td>License</td>\n",
       "      <td>Fail</td>\n",
       "      <td>NaN</td>\n",
       "      <td>41.804621</td>\n",
       "      <td>-87.719907</td>\n",
       "    </tr>\n",
       "  </tbody>\n",
       "</table>\n",
       "</div>"
      ],
      "text/plain": [
       "   Inspection ID             AKA Name  License #  Facility Type  \\\n",
       "0        2320830  THE HOXTON, CHICAGO  2694640.0     Restaurant   \n",
       "1        2320831     OGDEN PLAZA INC.  2475982.0  Grocery Store   \n",
       "6        2320795         THE EXCHANGE  2698572.0     Restaurant   \n",
       "7        2320768            The Manor    22971.0     Restaurant   \n",
       "9        2320719  4884 S ARCHER INC,.  2678088.0  Grocery Store   \n",
       "\n",
       "              Risk Inspection Date Inspection Type          Results  \\\n",
       "0  Risk 2 (Medium)            2019         License             Pass   \n",
       "1     Risk 3 (Low)            2019         Canvass  Out of Business   \n",
       "6    Risk 1 (High)            2019         License             Pass   \n",
       "7    Risk 1 (High)            2019         Canvass         No Entry   \n",
       "9     Risk 3 (Low)            2019         License             Fail   \n",
       "\n",
       "                                          Violations   Latitude  Longitude  \n",
       "0  36. THERMOMETERS PROVIDED & ACCURATE - Comment...  41.885699 -87.648789  \n",
       "1                                                NaN  41.855266 -87.712402  \n",
       "6                                                NaN  41.887529 -87.632647  \n",
       "7                                                NaN  41.807924 -87.728164  \n",
       "9                                                NaN  41.804621 -87.719907  "
      ]
     },
     "execution_count": 149,
     "metadata": {},
     "output_type": "execute_result"
    }
   ],
   "source": [
    "food[\"Inspection Date\"] = food[\"Inspection Date\"].str.split(\"-\").str[0]\n",
    "food.head()"
   ]
  },
  {
   "cell_type": "code",
   "execution_count": 150,
   "metadata": {},
   "outputs": [
    {
     "data": {
      "text/plain": [
       "False"
      ]
     },
     "execution_count": 150,
     "metadata": {},
     "output_type": "execute_result"
    }
   ],
   "source": [
    "#Check for missing years\n",
    "food[\"Inspection Date\"].isna().any()"
   ]
  },
  {
   "cell_type": "markdown",
   "metadata": {},
   "source": [
    "**Step 4**"
   ]
  },
  {
   "cell_type": "code",
   "execution_count": 151,
   "metadata": {},
   "outputs": [
    {
     "data": {
      "text/plain": [
       "False"
      ]
     },
     "execution_count": 151,
     "metadata": {},
     "output_type": "execute_result"
    }
   ],
   "source": [
    "#checking for NaN's\n",
    "food.dropna(subset = [\"Risk\"], inplace = True)\n",
    "food.Risk.isna().any()"
   ]
  },
  {
   "cell_type": "code",
   "execution_count": 152,
   "metadata": {},
   "outputs": [
    {
     "data": {
      "text/plain": [
       "Risk 1 (High)      123056\n",
       "Risk 2 (Medium)     33625\n",
       "Risk 3 (Low)        10378\n",
       "All                    10\n",
       "Name: Risk, dtype: int64"
      ]
     },
     "execution_count": 152,
     "metadata": {},
     "output_type": "execute_result"
    }
   ],
   "source": [
    "#Checking for any other value than the 3 levels of risk\n",
    "food.Risk.value_counts()"
   ]
  },
  {
   "cell_type": "code",
   "execution_count": 153,
   "metadata": {},
   "outputs": [
    {
     "data": {
      "text/plain": [
       "Risk 1 (High)      123056\n",
       "Risk 2 (Medium)     33625\n",
       "Risk 3 (Low)        10378\n",
       "Name: Risk, dtype: int64"
      ]
     },
     "execution_count": 153,
     "metadata": {},
     "output_type": "execute_result"
    }
   ],
   "source": [
    "#cleaning\n",
    "food = food[~food[\"Risk\"].str.contains('|'.join([\"All\"]))]\n",
    "food.Risk.value_counts()"
   ]
  },
  {
   "cell_type": "markdown",
   "metadata": {},
   "source": [
    "**Step 5**"
   ]
  },
  {
   "cell_type": "code",
   "execution_count": 154,
   "metadata": {},
   "outputs": [
    {
     "data": {
      "text/plain": [
       "SUBWAY                          3203\n",
       "DUNKIN DONUTS                   1327\n",
       "MCDONALD'S                       758\n",
       "BURGER KING                      372\n",
       "MCDONALDS                        335\n",
       "CHIPOTLE MEXICAN GRILL           319\n",
       "DUNKIN DONUTS/BASKIN ROBBINS     319\n",
       "WENDY'S                          296\n",
       "STARBUCKS COFFEE                 288\n",
       "POTBELLY SANDWICH WORKS          271\n",
       "CORNER BAKERY CAFE               240\n",
       "FRESHII                          237\n",
       "STARBUCKS                        235\n",
       "JIMMY JOHN'S                     223\n",
       "Subway                           223\n",
       "PIZZA HUT                        213\n",
       "SUBWAY SANDWICHES                206\n",
       "DOMINO'S PIZZA                   201\n",
       "TACO BELL                        200\n",
       "KFC                              197\n",
       "AU BON PAIN                      185\n",
       "POTBELLY SANDWICH WORKS LLC      177\n",
       "HAROLD'S CHICKEN SHACK           170\n",
       "MC DONALD'S                      169\n",
       "SEE THRU CHINESE KITCHEN         169\n",
       "Name: AKA Name, dtype: int64"
      ]
     },
     "execution_count": 154,
     "metadata": {},
     "output_type": "execute_result"
    }
   ],
   "source": [
    "#Preview of restaurants\n",
    "restaurants = food[food[\"Facility Type\"]==\"Restaurant\"].copy()\n",
    "restaurants[\"AKA Name\"].value_counts().head(25)"
   ]
  },
  {
   "cell_type": "code",
   "execution_count": 155,
   "metadata": {},
   "outputs": [
    {
     "data": {
      "text/plain": [
       "False"
      ]
     },
     "execution_count": 155,
     "metadata": {},
     "output_type": "execute_result"
    }
   ],
   "source": [
    "#Drop NaN's\n",
    "restaurants.dropna(subset=[\"AKA Name\"], inplace=True)\n",
    "restaurants[\"AKA Name\"].isna().any()"
   ]
  },
  {
   "cell_type": "code",
   "execution_count": 156,
   "metadata": {},
   "outputs": [],
   "source": [
    "#Only uppercase\n",
    "restaurants[\"AKA Name\"] = restaurants[\"AKA Name\"].str.upper()"
   ]
  },
  {
   "cell_type": "markdown",
   "metadata": {},
   "source": [
    "Now that a first cleaning was done, we will concentrate on the 5 restaurants chosen and mentioned before"
   ]
  },
  {
   "cell_type": "markdown",
   "metadata": {},
   "source": [
    "**McDonald's**"
   ]
  },
  {
   "cell_type": "code",
   "execution_count": 157,
   "metadata": {},
   "outputs": [
    {
     "data": {
      "text/plain": [
       "MCDONALD'S                           906\n",
       "MCDONALDS                            404\n",
       "MC DONALD'S                          169\n",
       "MC DONALDS                           168\n",
       "MCDONALD'S RESTAURANT                 87\n",
       "MCDONALDS RESTAURANT                  43\n",
       "MCDONALD'S RESTAURANTS                24\n",
       "MCDONALD'S #490                       20\n",
       "DONALDS FAMOUS HOT DOGS               19\n",
       "MCDONALD'S RESTAURANT  (T3 H9)        18\n",
       "MCDONALD'S  (T3 HK FOOD COURT)        17\n",
       "MCDONALD'S CORPORATION                17\n",
       "MC DONALDS # 6771                     16\n",
       "MCDONALDS #27672                      15\n",
       "MCDONALDS  (T3  K9)                   15\n",
       "MCDONALD' S # 5618                    15\n",
       "MCDONALDS #4655                       14\n",
       "MCDONALD'S   (T3- L4)                 13\n",
       "MCDONALDS #7069                       13\n",
       "MCDONALDS#6337                        12\n",
       "MCDONALD'S #20104                     11\n",
       "MCDONALD'S  (T2   E/F)                11\n",
       "MCDONALD'S  (T1-B11)                  11\n",
       "MCDONALD'S STORE #4061                11\n",
       "MC DONALDS-MCCORMICK PLACE NORTH      11\n",
       "MCDONALD'S  (T1-C10)                  11\n",
       "MCDONALD'S #5813                      11\n",
       "MCDONALD'S REST. OF ILLINOIS, INC     10\n",
       "ROCK & ROLL MCDONALDS                 10\n",
       "MCDONALD'S (T5/ARRIVAL)               10\n",
       "MCDONALD'S #26364                     10\n",
       "MCDONALD'S #11290                      9\n",
       "MCDONALD'S  (T2  E/F)                  9\n",
       "MC DONALD' S  # 6888                   8\n",
       "MCDONALDS #12003                       8\n",
       "MC DONALD' S # 22100                   8\n",
       "MCDONALD'S  (T5 ARRIVAL)               8\n",
       "MC DONALDS # 25509                     8\n",
       "MC DONALDS RESTAURANT                  7\n",
       "MC DONALD'S  (T3  L4)                  6\n",
       "MCDONALD'S  (T1  B11)                  6\n",
       "MCDONALD'S #6310                       6\n",
       "MCDONALD?S 28128                       5\n",
       "MCDONALDS (T1 C10)                     5\n",
       "MCDONALD'S EXPRESS                     5\n",
       "MCDONALDS #7463                        4\n",
       "MC DONALD'S RESTAURANT                 3\n",
       "MCDONALD?S                             3\n",
       "MCDONALD' S RESTAURANT                 2\n",
       "MCDONALD'S - MCCAFE'                   2\n",
       "MCDONALD'S #6337                       1\n",
       "MCDONALDÏ¿½S 28128                     1\n",
       "MCDONALDÏ¿½S                           1\n",
       "Name: AKA Name, dtype: int64"
      ]
     },
     "execution_count": 157,
     "metadata": {},
     "output_type": "execute_result"
    }
   ],
   "source": [
    "#Let's see if there is other restaurants with \"donald\" to avoid adding wrong data to McDonald's\n",
    "restaurants[restaurants[\"AKA Name\"].str.contains(\"DONALD\")][\"AKA Name\"].value_counts()"
   ]
  },
  {
   "cell_type": "code",
   "execution_count": 158,
   "metadata": {},
   "outputs": [
    {
     "data": {
      "text/plain": [
       "MCDONALDS    2218\n",
       "Name: AKA Name, dtype: int64"
      ]
     },
     "execution_count": 158,
     "metadata": {},
     "output_type": "execute_result"
    }
   ],
   "source": [
    "#removing \"Donald's famous hot dogs\" than unifying all McDonald's\n",
    "restaurants = restaurants[~restaurants[\"AKA Name\"].str.contains('|'.join([\"DOGS\"]))]\n",
    "restaurants.loc[restaurants[\"AKA Name\"].str.contains(\"DONALD\"), \"AKA Name\"] = \"MCDONALDS\"\n",
    "restaurants[restaurants[\"AKA Name\"].str.contains(\"DONALD\")][\"AKA Name\"].value_counts()"
   ]
  },
  {
   "cell_type": "markdown",
   "metadata": {},
   "source": [
    "**Subway**"
   ]
  },
  {
   "cell_type": "code",
   "execution_count": 159,
   "metadata": {},
   "outputs": [
    {
     "data": {
      "text/plain": [
       "SUBWAY                                           3426\n",
       "SUBWAY SANDWICHES                                 232\n",
       "SUBWAY SANDWICH                                    60\n",
       "SUBWAY SANDWICH & SALAD                            30\n",
       "SUBWAY (T3 ROTUNDA)                                25\n",
       "SUBWAY RESTAURANT                                  25\n",
       "SUBWAY #3333                                       21\n",
       "SUBWAY SANDWICHES & SALADS                         21\n",
       "SUBWAY 28330                                       18\n",
       "SNAPPY CONVENIENCE CENTER/SUBWAY/DUNKIN DONUT      18\n",
       "BP/SUBWAY                                          17\n",
       "SUBWAY #45927                                      16\n",
       "SUBWAY SANDWICH STORE                              16\n",
       "SUBWAY 48735                                       14\n",
       "SHELL SUBWAY                                       12\n",
       "ROAD RANGER/SUBWAY                                 11\n",
       "LALO SUBWAY INC                                    10\n",
       "LAKEVIEW SUBWAY                                     9\n",
       "MADISON SUBWAY LLC                                  8\n",
       "SUBWAY 24028                                        8\n",
       "SUBWAY #267771                                      6\n",
       "BP GAS & SUBWAY                                     6\n",
       "SUBWAY #25917                                       5\n",
       "SUBWAY SANDWICH & SALADS                            4\n",
       "SUBWAY #23983                                       3\n",
       "SUBWAY SANDWICHES & SALAD                           3\n",
       "SUBWAY # 23333                                      3\n",
       "SUBWAY #23340                                       2\n",
       "SUBWAY 47512                                        2\n",
       "SUBWAY 24454                                        1\n",
       "SUBWAY #42676                                       1\n",
       "SUBWAY FULLERTON & ASHLAND                          1\n",
       "Name: AKA Name, dtype: int64"
      ]
     },
     "execution_count": 159,
     "metadata": {},
     "output_type": "execute_result"
    }
   ],
   "source": [
    "#Let's see if there is other restaurants with \"subway\" to avoid adding wrong data to Subway\n",
    "restaurants[restaurants[\"AKA Name\"].str.contains(\"SUBWAY\")][\"AKA Name\"].value_counts()"
   ]
  },
  {
   "cell_type": "code",
   "execution_count": 160,
   "metadata": {},
   "outputs": [
    {
     "data": {
      "text/plain": [
       "SUBWAY    3988\n",
       "Name: AKA Name, dtype: int64"
      ]
     },
     "execution_count": 160,
     "metadata": {},
     "output_type": "execute_result"
    }
   ],
   "source": [
    "#removing restaurants with \"subway\" undesired than unifying all Subway's\n",
    "removable = [\"FULLERTON\",\"MADISON\", \"LALO\",\"LAKEVIEW\",\"SNAPPY\"]\n",
    "restaurants = restaurants[~restaurants[\"AKA Name\"].str.contains('|'.join(removable))]\n",
    "restaurants.loc[restaurants[\"AKA Name\"].str.contains(\"SUBWAY\"), \"AKA Name\"] = \"SUBWAY\"\n",
    "restaurants[restaurants[\"AKA Name\"].str.contains(\"SUBWAY\")][\"AKA Name\"].value_counts()"
   ]
  },
  {
   "cell_type": "markdown",
   "metadata": {},
   "source": [
    "**Starbucks**"
   ]
  },
  {
   "cell_type": "code",
   "execution_count": 161,
   "metadata": {},
   "outputs": [
    {
     "data": {
      "text/plain": [
       "STARBUCKS COFFEE                                   301\n",
       "STARBUCKS                                          235\n",
       "MARKET PLACE/STARBUCKS COFFE/FRANGO/GODIVA          22\n",
       "STARBUCKS COFFEE #2370                              14\n",
       "STARBUCKS COFFEE #2334                              13\n",
       "STARBUCKS HK APEX (T3 HK FOODCOURT)                 13\n",
       "STARBUCKS COFFEE (T1-B5)                            13\n",
       "STARBUCKS (T1/B CONCOURSE-BAGGAGE CLAIM)            12\n",
       "STARBUCKS/ W KITCHEN/ F1,F2 POD/WAREHSE/LA BREA     12\n",
       "STARBUCKS (T2 LL ARRIVAL)                           12\n",
       "STARBUCKS (T3  G14 LL)                              12\n",
       "STARBUCKS COFFEE #2410                              12\n",
       "MAIN KITCHEN/STARBUCKS /ETA/ EMPL CAFE              11\n",
       "STARBUCKS COFFEE #228                               11\n",
       "STARBUCKS COFFEE  #2635                             11\n",
       "STARBUCKS COFFEE #2527                              11\n",
       "STARBUCKS COFFEE #9942                              11\n",
       "STARBUCKS  (T3 H6)                                  11\n",
       "STARBUCKS COFFEE #233                               11\n",
       "STARBUCKS (T3 K15 FOOD COURT)                       11\n",
       "STARBUCKS  (T1-C27)                                 11\n",
       "STARBUCKS COFFEE #13439                             11\n",
       "STARBUCKS COFFEE (T1-B14)                           11\n",
       "STARBUCKS COFFEE #8954                              11\n",
       "STARBUCKS # 2483                                    10\n",
       "STARBUCKS & 23RD STREET CAFE MARKET                 10\n",
       "STARBUCKS (T3/BAGGAGE CLAIM)                        10\n",
       "STARBUCKS COFFEE #2827                              10\n",
       "STARBUCKS COFFEE #2428                              10\n",
       "STARBUCKS  (T3 H2)                                  10\n",
       "STARBUCKS   T3 H-13                                 10\n",
       "STARBUCKS COFFEE # 2624                             10\n",
       "STARBUCKS COFFEE #2479                              10\n",
       "STARBUCKS COFFEE #2639                              10\n",
       "STARBUCKS COFFEE #2689                              10\n",
       "STARBUCKS COFFEE #212                               10\n",
       "STARBUCKS COFFEE #2412                              10\n",
       "STARBUCKS COFFEE #2224                              10\n",
       "STARBUCKS COFFEE #2565                              10\n",
       "STARBUCKS COFFEE #2252                              10\n",
       "Name: AKA Name, dtype: int64"
      ]
     },
     "execution_count": 161,
     "metadata": {},
     "output_type": "execute_result"
    }
   ],
   "source": [
    "restaurants[restaurants[\"AKA Name\"].str.contains(\"STARBUCKS\")][\"AKA Name\"].value_counts().head(40)"
   ]
  },
  {
   "cell_type": "code",
   "execution_count": 162,
   "metadata": {},
   "outputs": [
    {
     "data": {
      "text/plain": [
       "STARBUCKS    1451\n",
       "Name: AKA Name, dtype: int64"
      ]
     },
     "execution_count": 162,
     "metadata": {},
     "output_type": "execute_result"
    }
   ],
   "source": [
    "#we are going to assume \"starbucks\" is a very distinctive name and have negligible chance of being used in another restaurant\n",
    "restaurants.loc[restaurants[\"AKA Name\"].str.contains(\"STARBUCKS\"), \"AKA Name\"] = \"STARBUCKS\"\n",
    "restaurants[restaurants[\"AKA Name\"].str.contains(\"STARBUCKS\")][\"AKA Name\"].value_counts()"
   ]
  },
  {
   "cell_type": "markdown",
   "metadata": {},
   "source": [
    "**Taco Bell**"
   ]
  },
  {
   "cell_type": "code",
   "execution_count": 163,
   "metadata": {},
   "outputs": [
    {
     "data": {
      "text/plain": [
       "Series([], Name: AKA Name, dtype: int64)"
      ]
     },
     "execution_count": 163,
     "metadata": {},
     "output_type": "execute_result"
    }
   ],
   "source": [
    "#Checking a misspelled case\n",
    "restaurants[restaurants[\"AKA Name\"].str.contains(\"TACOBELL\")][\"AKA Name\"].value_counts()"
   ]
  },
  {
   "cell_type": "code",
   "execution_count": 164,
   "metadata": {},
   "outputs": [
    {
     "data": {
      "text/plain": [
       "TACO BELL                         206\n",
       "KFC/TACO BELL                      25\n",
       "TACO BELL #15855                   15\n",
       "TACO BELL & LONG JOHN SILVER'S     13\n",
       "TACO BELL #30407                   11\n",
       "TACO BELL CANTINA                  11\n",
       "TACO BELL #2513                     9\n",
       "TACO BELL_#4171                     9\n",
       "TACO BELL #15875                    9\n",
       "TACO BELL #5751                     8\n",
       "TACO BELL 32575                     3\n",
       "TACO BELL 34921                     2\n",
       "Name: AKA Name, dtype: int64"
      ]
     },
     "execution_count": 164,
     "metadata": {},
     "output_type": "execute_result"
    }
   ],
   "source": [
    "#Looks like Taco Bell is always written in separated words\n",
    "restaurants[restaurants[\"AKA Name\"].str.contains(\"TACO BELL\")][\"AKA Name\"].value_counts()"
   ]
  },
  {
   "cell_type": "code",
   "execution_count": 165,
   "metadata": {},
   "outputs": [
    {
     "data": {
      "text/plain": [
       "TACO BELL    321\n",
       "Name: AKA Name, dtype: int64"
      ]
     },
     "execution_count": 165,
     "metadata": {},
     "output_type": "execute_result"
    }
   ],
   "source": [
    "#And the name is luckly very unique\n",
    "restaurants.loc[restaurants[\"AKA Name\"].str.contains(\"TACO BELL\"), \"AKA Name\"] = \"TACO BELL\"\n",
    "restaurants[restaurants[\"AKA Name\"].str.contains(\"TACO BELL\")][\"AKA Name\"].value_counts()"
   ]
  },
  {
   "cell_type": "markdown",
   "metadata": {},
   "source": [
    "**Dunkin Donuts**"
   ]
  },
  {
   "cell_type": "code",
   "execution_count": 166,
   "metadata": {},
   "outputs": [
    {
     "data": {
      "text/plain": [
       "DUNKINDONUTS    7\n",
       "Name: AKA Name, dtype: int64"
      ]
     },
     "execution_count": 166,
     "metadata": {},
     "output_type": "execute_result"
    }
   ],
   "source": [
    "#Checking a misspelled case\n",
    "restaurants[restaurants[\"AKA Name\"].str.contains(\"DUNKINDONUTS\")][\"AKA Name\"].value_counts()"
   ]
  },
  {
   "cell_type": "markdown",
   "metadata": {},
   "source": [
    "When unifying all Dunkin Donuts we will also need to add the 7 \"DUNKINDONUTS\" from above"
   ]
  },
  {
   "cell_type": "code",
   "execution_count": 167,
   "metadata": {},
   "outputs": [
    {
     "data": {
      "text/plain": [
       "DUNKIN DONUTS                           1380\n",
       "DUNKIN DONUTS/BASKIN ROBBINS             319\n",
       "DUNKIN DONUTS BASKIN ROBBINS             122\n",
       "DUNKIN DONUTS / BASKIN ROBBINS           117\n",
       "DUNKIN DONUTS/ BASKIN ROBBINS             60\n",
       "DUNKIN DONUTS / BASKIN ROBINS             47\n",
       "DUNKIN DONUTS & BASKIN ROBBINS            28\n",
       "DUNKIN DONUTS / BASKIN & ROBBINS          25\n",
       "DUNKIN DONUTS & BASKIN ROBINS             15\n",
       "HALSTED SHELL, DUNKIN DONUTS, MR SUB      14\n",
       "DUNKIN DONUTS-BASKIN ROBBINS              14\n",
       "BASKIN ROBBINS/ DUNKIN DONUTS             13\n",
       "DUNKIN DONUTS BASKIN ROBBINS TOGO'S       12\n",
       "DUNKIN DONUTS (T3 HK FOODCOURT)           11\n",
       "GRAND CITGO/ MR. SUB / DUNKIN DONUTS      10\n",
       "BASKIN ROBBINS/DUNKIN DONUTS              10\n",
       "DUNKIN DONUTS/BASKIN ROBINS               10\n",
       "DUNKIN DONUTS /  BASKIN ROBBINS           10\n",
       "DUNKIN DONUTS INC                          9\n",
       "DUNKIN DONUTS/BASKIN  ROBBINS              8\n",
       "DUNKIN DONUTS AND BASKIN ROBBINS           4\n",
       "DUNKIN DONUTS /  BASKIN ROBINS             4\n",
       "JETBOX WITH DUNKIN DONUTS                  3\n",
       "DUNKIN DONUTS/BASKIN-ROBBINS               3\n",
       "DUNKIN DONUTS/BR/TOGO'S                    1\n",
       "CITGO/DUNKIN DONUTS                        1\n",
       "DUNKIN DONUTS  BASKIN ROBBINS              1\n",
       "Name: AKA Name, dtype: int64"
      ]
     },
     "execution_count": 167,
     "metadata": {},
     "output_type": "execute_result"
    }
   ],
   "source": [
    "restaurants[restaurants[\"AKA Name\"].str.contains(\"DUNKIN DONUTS\")][\"AKA Name\"].value_counts()"
   ]
  },
  {
   "cell_type": "code",
   "execution_count": 168,
   "metadata": {},
   "outputs": [
    {
     "data": {
      "text/plain": [
       "DUNKIN DONUTS    2258\n",
       "Name: AKA Name, dtype: int64"
      ]
     },
     "execution_count": 168,
     "metadata": {},
     "output_type": "execute_result"
    }
   ],
   "source": [
    "#Dunkin Donuts is very unique too which helps us when unifying\n",
    "restaurants.loc[restaurants[\"AKA Name\"].str.contains(\"DUNKIN DONUTS\"), \"AKA Name\"] = \"DUNKIN DONUTS\"\n",
    "restaurants.loc[restaurants[\"AKA Name\"].str.contains(\"DUNKINDONUTS\"), \"AKA Name\"] = \"DUNKIN DONUTS\"\n",
    "restaurants[restaurants[\"AKA Name\"].str.contains(\"DUNKIN DONUTS\")][\"AKA Name\"].value_counts()"
   ]
  },
  {
   "cell_type": "markdown",
   "metadata": {},
   "source": [
    "**Removing any other restaurants**"
   ]
  },
  {
   "cell_type": "code",
   "execution_count": 169,
   "metadata": {},
   "outputs": [
    {
     "data": {
      "text/plain": [
       "SUBWAY           3988\n",
       "DUNKIN DONUTS    2258\n",
       "MCDONALDS        2218\n",
       "STARBUCKS        1451\n",
       "TACO BELL         321\n",
       "Name: AKA Name, dtype: int64"
      ]
     },
     "execution_count": 169,
     "metadata": {},
     "output_type": "execute_result"
    }
   ],
   "source": [
    "restaurant_list = [\"MCDONALDS\",\"SUBWAY\",\"STARBUCKS\",\"TACO BELL\",\"DUNKIN DONUTS\"]\n",
    "restaurants = restaurants[restaurants[\"AKA Name\"].isin(restaurant_list)]\n",
    "restaurants[\"AKA Name\"].value_counts()"
   ]
  },
  {
   "cell_type": "markdown",
   "metadata": {},
   "source": [
    "**Final Step**"
   ]
  },
  {
   "cell_type": "code",
   "execution_count": 170,
   "metadata": {},
   "outputs": [],
   "source": [
    "#Reset Indexes after cleaning\n",
    "food.reset_index(drop=True, inplace=True)\n",
    "restaurants.reset_index(drop=True, inplace=True)"
   ]
  },
  {
   "cell_type": "code",
   "execution_count": 171,
   "metadata": {},
   "outputs": [],
   "source": [
    "#save pickles for use in analysis\n",
    "food.to_pickle(\"food.pkl\")\n",
    "restaurants.to_pickle(\"restaurants.pkl\")"
   ]
  }
 ],
 "metadata": {
  "kernelspec": {
   "display_name": "Python 3",
   "language": "python",
   "name": "python3"
  },
  "language_info": {
   "codemirror_mode": {
    "name": "ipython",
    "version": 3
   },
   "file_extension": ".py",
   "mimetype": "text/x-python",
   "name": "python",
   "nbconvert_exporter": "python",
   "pygments_lexer": "ipython3",
   "version": "3.7.4"
  }
 },
 "nbformat": 4,
 "nbformat_minor": 4
}
