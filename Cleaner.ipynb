{
 "cells": [
  {
   "cell_type": "code",
   "execution_count": 1,
   "metadata": {},
   "outputs": [],
   "source": [
    "%matplotlib inline\n",
    "import pandas as pd\n",
    "import numpy as np\n",
    "import re\n",
    "from matplotlib.ticker import MaxNLocator\n",
    "import matplotlib.pyplot as plt\n",
    "from requests import get\n",
    "from bs4 import BeautifulSoup\n",
    "from scipy import stats\n",
    "import warnings\n",
    "warnings.filterwarnings('ignore')"
   ]
  },
  {
   "cell_type": "markdown",
   "metadata": {},
   "source": [
    "**Dataframe Preparation**"
   ]
  },
  {
   "cell_type": "code",
   "execution_count": 6,
   "metadata": {},
   "outputs": [],
   "source": [
    "food = pd.read_csv('data/food-inspections.csv', sep=',')"
   ]
  },
  {
   "cell_type": "code",
   "execution_count": 7,
   "metadata": {},
   "outputs": [],
   "source": [
    "food = food.drop(['Address','City', 'State','Zip', 'Zip Codes','Historical Wards 2003-2015', 'Community Areas', 'Census Tracts','Wards','Location'], axis=1)"
   ]
  },
  {
   "cell_type": "code",
   "execution_count": 8,
   "metadata": {},
   "outputs": [
    {
     "data": {
      "text/html": [
       "<div>\n",
       "<style scoped>\n",
       "    .dataframe tbody tr th:only-of-type {\n",
       "        vertical-align: middle;\n",
       "    }\n",
       "\n",
       "    .dataframe tbody tr th {\n",
       "        vertical-align: top;\n",
       "    }\n",
       "\n",
       "    .dataframe thead th {\n",
       "        text-align: right;\n",
       "    }\n",
       "</style>\n",
       "<table border=\"1\" class=\"dataframe\">\n",
       "  <thead>\n",
       "    <tr style=\"text-align: right;\">\n",
       "      <th></th>\n",
       "      <th>Inspection ID</th>\n",
       "      <th>DBA Name</th>\n",
       "      <th>AKA Name</th>\n",
       "      <th>License #</th>\n",
       "      <th>Facility Type</th>\n",
       "      <th>Risk</th>\n",
       "      <th>Inspection Date</th>\n",
       "      <th>Inspection Type</th>\n",
       "      <th>Results</th>\n",
       "      <th>Violations</th>\n",
       "      <th>Latitude</th>\n",
       "      <th>Longitude</th>\n",
       "    </tr>\n",
       "  </thead>\n",
       "  <tbody>\n",
       "    <tr>\n",
       "      <td>0</td>\n",
       "      <td>2320830</td>\n",
       "      <td>THE HOXTON, CHICAGO</td>\n",
       "      <td>THE HOXTON, CHICAGO</td>\n",
       "      <td>2694640.0</td>\n",
       "      <td>Restaurant</td>\n",
       "      <td>Risk 2 (Medium)</td>\n",
       "      <td>2019-10-31T00:00:00.000</td>\n",
       "      <td>License</td>\n",
       "      <td>Pass</td>\n",
       "      <td>36. THERMOMETERS PROVIDED &amp; ACCURATE - Comment...</td>\n",
       "      <td>41.885699</td>\n",
       "      <td>-87.648789</td>\n",
       "    </tr>\n",
       "    <tr>\n",
       "      <td>1</td>\n",
       "      <td>2320831</td>\n",
       "      <td>OGDEN PLAZA INC.</td>\n",
       "      <td>OGDEN PLAZA INC.</td>\n",
       "      <td>2475982.0</td>\n",
       "      <td>Grocery Store</td>\n",
       "      <td>Risk 3 (Low)</td>\n",
       "      <td>2019-10-31T00:00:00.000</td>\n",
       "      <td>Canvass</td>\n",
       "      <td>Out of Business</td>\n",
       "      <td>NaN</td>\n",
       "      <td>41.855266</td>\n",
       "      <td>-87.712402</td>\n",
       "    </tr>\n",
       "    <tr>\n",
       "      <td>2</td>\n",
       "      <td>2320829</td>\n",
       "      <td>PLAZA FOOD AND LIQUOR</td>\n",
       "      <td>PLAZA FOOD AND LIQUOR</td>\n",
       "      <td>2689756.0</td>\n",
       "      <td>Grocery Store</td>\n",
       "      <td>Risk 3 (Low)</td>\n",
       "      <td>2019-10-31T00:00:00.000</td>\n",
       "      <td>License</td>\n",
       "      <td>Not Ready</td>\n",
       "      <td>NaN</td>\n",
       "      <td>NaN</td>\n",
       "      <td>NaN</td>\n",
       "    </tr>\n",
       "    <tr>\n",
       "      <td>3</td>\n",
       "      <td>2320813</td>\n",
       "      <td>PLAZA FOOD AND LIQUOR</td>\n",
       "      <td>PLAZA FOOD AND LIQUOR</td>\n",
       "      <td>2689757.0</td>\n",
       "      <td>Grocery Store</td>\n",
       "      <td>Risk 3 (Low)</td>\n",
       "      <td>2019-10-31T00:00:00.000</td>\n",
       "      <td>License</td>\n",
       "      <td>Fail</td>\n",
       "      <td>5. PROCEDURES FOR RESPONDING TO VOMITING AND D...</td>\n",
       "      <td>NaN</td>\n",
       "      <td>NaN</td>\n",
       "    </tr>\n",
       "    <tr>\n",
       "      <td>4</td>\n",
       "      <td>2320757</td>\n",
       "      <td>GADS HILL CENTER</td>\n",
       "      <td>GADS HILL CENTER</td>\n",
       "      <td>2698627.0</td>\n",
       "      <td>Daycare Above and Under 2 Years</td>\n",
       "      <td>Risk 1 (High)</td>\n",
       "      <td>2019-10-30T00:00:00.000</td>\n",
       "      <td>License</td>\n",
       "      <td>Fail</td>\n",
       "      <td>5. PROCEDURES FOR RESPONDING TO VOMITING AND D...</td>\n",
       "      <td>41.816005</td>\n",
       "      <td>-87.700893</td>\n",
       "    </tr>\n",
       "  </tbody>\n",
       "</table>\n",
       "</div>"
      ],
      "text/plain": [
       "   Inspection ID               DBA Name               AKA Name  License #  \\\n",
       "0        2320830    THE HOXTON, CHICAGO    THE HOXTON, CHICAGO  2694640.0   \n",
       "1        2320831       OGDEN PLAZA INC.       OGDEN PLAZA INC.  2475982.0   \n",
       "2        2320829  PLAZA FOOD AND LIQUOR  PLAZA FOOD AND LIQUOR  2689756.0   \n",
       "3        2320813  PLAZA FOOD AND LIQUOR  PLAZA FOOD AND LIQUOR  2689757.0   \n",
       "4        2320757       GADS HILL CENTER       GADS HILL CENTER  2698627.0   \n",
       "\n",
       "                     Facility Type             Risk          Inspection Date  \\\n",
       "0                       Restaurant  Risk 2 (Medium)  2019-10-31T00:00:00.000   \n",
       "1                    Grocery Store     Risk 3 (Low)  2019-10-31T00:00:00.000   \n",
       "2                    Grocery Store     Risk 3 (Low)  2019-10-31T00:00:00.000   \n",
       "3                    Grocery Store     Risk 3 (Low)  2019-10-31T00:00:00.000   \n",
       "4  Daycare Above and Under 2 Years    Risk 1 (High)  2019-10-30T00:00:00.000   \n",
       "\n",
       "  Inspection Type          Results  \\\n",
       "0         License             Pass   \n",
       "1         Canvass  Out of Business   \n",
       "2         License        Not Ready   \n",
       "3         License             Fail   \n",
       "4         License             Fail   \n",
       "\n",
       "                                          Violations   Latitude  Longitude  \n",
       "0  36. THERMOMETERS PROVIDED & ACCURATE - Comment...  41.885699 -87.648789  \n",
       "1                                                NaN  41.855266 -87.712402  \n",
       "2                                                NaN        NaN        NaN  \n",
       "3  5. PROCEDURES FOR RESPONDING TO VOMITING AND D...        NaN        NaN  \n",
       "4  5. PROCEDURES FOR RESPONDING TO VOMITING AND D...  41.816005 -87.700893  "
      ]
     },
     "execution_count": 8,
     "metadata": {},
     "output_type": "execute_result"
    }
   ],
   "source": [
    "food.head()"
   ]
  },
  {
   "cell_type": "markdown",
   "metadata": {},
   "source": [
    "**Cleaning steps**\n",
    "\n",
    "1) Drop rows without location.\n",
    "\n",
    "2) Filter only the 4 facility types we are going to analyse: restaurants, grocery stores, schools and hospitals.\n",
    "\n",
    "3) Convert the date format to an analysis friendly format\n",
    "\n",
    "4) For restaurants, we are going to focus only the 5 most inspected chains of different types: McDonald's, Subway, Taco Bell, Satrbucks and Dunkin Donuts."
   ]
  },
  {
   "cell_type": "markdown",
   "metadata": {},
   "source": [
    "**Step 1**"
   ]
  },
  {
   "cell_type": "code",
   "execution_count": 9,
   "metadata": {},
   "outputs": [
    {
     "data": {
      "text/plain": [
       "True"
      ]
     },
     "execution_count": 9,
     "metadata": {},
     "output_type": "execute_result"
    }
   ],
   "source": [
    "food.Latitude.isna().any() or food.Longitude.isna().any()"
   ]
  },
  {
   "cell_type": "code",
   "execution_count": 10,
   "metadata": {},
   "outputs": [
    {
     "data": {
      "text/plain": [
       "False"
      ]
     },
     "execution_count": 10,
     "metadata": {},
     "output_type": "execute_result"
    }
   ],
   "source": [
    "food.dropna(subset = [\"Latitude\", \"Longitude\"], inplace=True)\n",
    "food.Latitude.isna().any() or food.Longitude.isna().any()"
   ]
  },
  {
   "cell_type": "markdown",
   "metadata": {},
   "source": [
    "**Step 2**"
   ]
  },
  {
   "cell_type": "code",
   "execution_count": 26,
   "metadata": {},
   "outputs": [
    {
     "data": {
      "text/plain": [
       "Restaurant       129891\n",
       "Grocery Store     24838\n",
       "School            11808\n",
       "Hospital            537\n",
       "Name: Facility Type, dtype: int64"
      ]
     },
     "execution_count": 26,
     "metadata": {},
     "output_type": "execute_result"
    }
   ],
   "source": [
    "food = food[food[\"Facility Type\"].isin([\"Restaurant\",\"Grocery Store\", \"School\", \"Hospital\"])]\n",
    "food[\"Facility Type\"].value_counts()"
   ]
  },
  {
   "cell_type": "markdown",
   "metadata": {},
   "source": [
    "**Step 3**"
   ]
  },
  {
   "cell_type": "code",
   "execution_count": 27,
   "metadata": {},
   "outputs": [
    {
     "data": {
      "text/html": [
       "<div>\n",
       "<style scoped>\n",
       "    .dataframe tbody tr th:only-of-type {\n",
       "        vertical-align: middle;\n",
       "    }\n",
       "\n",
       "    .dataframe tbody tr th {\n",
       "        vertical-align: top;\n",
       "    }\n",
       "\n",
       "    .dataframe thead th {\n",
       "        text-align: right;\n",
       "    }\n",
       "</style>\n",
       "<table border=\"1\" class=\"dataframe\">\n",
       "  <thead>\n",
       "    <tr style=\"text-align: right;\">\n",
       "      <th></th>\n",
       "      <th>Inspection ID</th>\n",
       "      <th>DBA Name</th>\n",
       "      <th>AKA Name</th>\n",
       "      <th>License #</th>\n",
       "      <th>Facility Type</th>\n",
       "      <th>Risk</th>\n",
       "      <th>Inspection Date</th>\n",
       "      <th>Inspection Type</th>\n",
       "      <th>Results</th>\n",
       "      <th>Violations</th>\n",
       "      <th>Latitude</th>\n",
       "      <th>Longitude</th>\n",
       "    </tr>\n",
       "  </thead>\n",
       "  <tbody>\n",
       "    <tr>\n",
       "      <td>0</td>\n",
       "      <td>2320830</td>\n",
       "      <td>THE HOXTON, CHICAGO</td>\n",
       "      <td>THE HOXTON, CHICAGO</td>\n",
       "      <td>2694640.0</td>\n",
       "      <td>Restaurant</td>\n",
       "      <td>Risk 2 (Medium)</td>\n",
       "      <td>2019</td>\n",
       "      <td>License</td>\n",
       "      <td>Pass</td>\n",
       "      <td>36. THERMOMETERS PROVIDED &amp; ACCURATE - Comment...</td>\n",
       "      <td>41.885699</td>\n",
       "      <td>-87.648789</td>\n",
       "    </tr>\n",
       "    <tr>\n",
       "      <td>1</td>\n",
       "      <td>2320831</td>\n",
       "      <td>OGDEN PLAZA INC.</td>\n",
       "      <td>OGDEN PLAZA INC.</td>\n",
       "      <td>2475982.0</td>\n",
       "      <td>Grocery Store</td>\n",
       "      <td>Risk 3 (Low)</td>\n",
       "      <td>2019</td>\n",
       "      <td>Canvass</td>\n",
       "      <td>Out of Business</td>\n",
       "      <td>NaN</td>\n",
       "      <td>41.855266</td>\n",
       "      <td>-87.712402</td>\n",
       "    </tr>\n",
       "    <tr>\n",
       "      <td>6</td>\n",
       "      <td>2320795</td>\n",
       "      <td>TBD</td>\n",
       "      <td>THE EXCHANGE</td>\n",
       "      <td>2698572.0</td>\n",
       "      <td>Restaurant</td>\n",
       "      <td>Risk 1 (High)</td>\n",
       "      <td>2019</td>\n",
       "      <td>License</td>\n",
       "      <td>Pass</td>\n",
       "      <td>NaN</td>\n",
       "      <td>41.887529</td>\n",
       "      <td>-87.632647</td>\n",
       "    </tr>\n",
       "    <tr>\n",
       "      <td>7</td>\n",
       "      <td>2320768</td>\n",
       "      <td>The Manor</td>\n",
       "      <td>The Manor</td>\n",
       "      <td>22971.0</td>\n",
       "      <td>Restaurant</td>\n",
       "      <td>Risk 1 (High)</td>\n",
       "      <td>2019</td>\n",
       "      <td>Canvass</td>\n",
       "      <td>No Entry</td>\n",
       "      <td>NaN</td>\n",
       "      <td>41.807924</td>\n",
       "      <td>-87.728164</td>\n",
       "    </tr>\n",
       "    <tr>\n",
       "      <td>9</td>\n",
       "      <td>2320719</td>\n",
       "      <td>4884 S ARCHER INC,.</td>\n",
       "      <td>4884 S ARCHER INC,.</td>\n",
       "      <td>2678088.0</td>\n",
       "      <td>Grocery Store</td>\n",
       "      <td>Risk 3 (Low)</td>\n",
       "      <td>2019</td>\n",
       "      <td>License</td>\n",
       "      <td>Fail</td>\n",
       "      <td>NaN</td>\n",
       "      <td>41.804621</td>\n",
       "      <td>-87.719907</td>\n",
       "    </tr>\n",
       "  </tbody>\n",
       "</table>\n",
       "</div>"
      ],
      "text/plain": [
       "   Inspection ID             DBA Name             AKA Name  License #  \\\n",
       "0        2320830  THE HOXTON, CHICAGO  THE HOXTON, CHICAGO  2694640.0   \n",
       "1        2320831     OGDEN PLAZA INC.     OGDEN PLAZA INC.  2475982.0   \n",
       "6        2320795                  TBD         THE EXCHANGE  2698572.0   \n",
       "7        2320768            The Manor            The Manor    22971.0   \n",
       "9        2320719  4884 S ARCHER INC,.  4884 S ARCHER INC,.  2678088.0   \n",
       "\n",
       "   Facility Type             Risk Inspection Date Inspection Type  \\\n",
       "0     Restaurant  Risk 2 (Medium)            2019         License   \n",
       "1  Grocery Store     Risk 3 (Low)            2019         Canvass   \n",
       "6     Restaurant    Risk 1 (High)            2019         License   \n",
       "7     Restaurant    Risk 1 (High)            2019         Canvass   \n",
       "9  Grocery Store     Risk 3 (Low)            2019         License   \n",
       "\n",
       "           Results                                         Violations  \\\n",
       "0             Pass  36. THERMOMETERS PROVIDED & ACCURATE - Comment...   \n",
       "1  Out of Business                                                NaN   \n",
       "6             Pass                                                NaN   \n",
       "7         No Entry                                                NaN   \n",
       "9             Fail                                                NaN   \n",
       "\n",
       "    Latitude  Longitude  \n",
       "0  41.885699 -87.648789  \n",
       "1  41.855266 -87.712402  \n",
       "6  41.887529 -87.632647  \n",
       "7  41.807924 -87.728164  \n",
       "9  41.804621 -87.719907  "
      ]
     },
     "execution_count": 27,
     "metadata": {},
     "output_type": "execute_result"
    }
   ],
   "source": [
    "food[\"Inspection Date\"] = food[\"Inspection Date\"].str.split(\"-\").str[0]\n",
    "food.head()"
   ]
  },
  {
   "cell_type": "code",
   "execution_count": 28,
   "metadata": {},
   "outputs": [
    {
     "data": {
      "text/plain": [
       "False"
      ]
     },
     "execution_count": 28,
     "metadata": {},
     "output_type": "execute_result"
    }
   ],
   "source": [
    "#Check for missing years\n",
    "food[\"Inspection Date\"].isna().any()"
   ]
  },
  {
   "cell_type": "markdown",
   "metadata": {},
   "source": [
    "**Step 4**"
   ]
  },
  {
   "cell_type": "code",
   "execution_count": null,
   "metadata": {},
   "outputs": [],
   "source": []
  },
  {
   "cell_type": "code",
   "execution_count": null,
   "metadata": {},
   "outputs": [],
   "source": []
  },
  {
   "cell_type": "code",
   "execution_count": null,
   "metadata": {},
   "outputs": [],
   "source": []
  },
  {
   "cell_type": "code",
   "execution_count": null,
   "metadata": {},
   "outputs": [],
   "source": []
  }
 ],
 "metadata": {
  "kernelspec": {
   "display_name": "Python 3",
   "language": "python",
   "name": "python3"
  },
  "language_info": {
   "codemirror_mode": {
    "name": "ipython",
    "version": 3
   },
   "file_extension": ".py",
   "mimetype": "text/x-python",
   "name": "python",
   "nbconvert_exporter": "python",
   "pygments_lexer": "ipython3",
   "version": "3.7.4"
  }
 },
 "nbformat": 4,
 "nbformat_minor": 4
}
