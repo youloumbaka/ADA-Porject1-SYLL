{
 "cells": [
  {
   "cell_type": "markdown",
   "metadata": {},
   "source": [
    "# Project "
   ]
  },
  {
   "cell_type": "code",
   "execution_count": 83,
   "metadata": {},
   "outputs": [],
   "source": [
    "%matplotlib inline\n",
    "import pandas as pd\n",
    "import numpy as np\n",
    "import re\n",
    "from matplotlib.ticker import MaxNLocator\n",
    "import matplotlib.pyplot as plt\n",
    "from requests import get\n",
    "from bs4 import BeautifulSoup\n",
    "from scipy import stats\n",
    "import warnings\n",
    "warnings.filterwarnings('ignore')"
   ]
  },
  {
   "cell_type": "markdown",
   "metadata": {},
   "source": [
    "**Data Description...**"
   ]
  },
  {
   "cell_type": "code",
   "execution_count": 84,
   "metadata": {},
   "outputs": [],
   "source": [
    "food_inspections = pd.read_csv('data/food-inspections.csv', sep=',')"
   ]
  },
  {
   "cell_type": "markdown",
   "metadata": {},
   "source": [
    "**Drop the columns we don't need**\n",
    "\n",
    "We don't need the location since we already have the latitude and longitude columns. \n",
    "The Zip codes are not required either."
   ]
  },
  {
   "cell_type": "code",
   "execution_count": 85,
   "metadata": {},
   "outputs": [],
   "source": [
    "food_inspections = food_inspections.drop(['Location', 'Zip', 'Zip Codes','Historical Wards 2003-2015', 'Community Areas', 'Census Tracts','Wards'], axis=1)"
   ]
  },
  {
   "cell_type": "code",
   "execution_count": 86,
   "metadata": {},
   "outputs": [
    {
     "data": {
      "text/html": [
       "<div>\n",
       "<style scoped>\n",
       "    .dataframe tbody tr th:only-of-type {\n",
       "        vertical-align: middle;\n",
       "    }\n",
       "\n",
       "    .dataframe tbody tr th {\n",
       "        vertical-align: top;\n",
       "    }\n",
       "\n",
       "    .dataframe thead th {\n",
       "        text-align: right;\n",
       "    }\n",
       "</style>\n",
       "<table border=\"1\" class=\"dataframe\">\n",
       "  <thead>\n",
       "    <tr style=\"text-align: right;\">\n",
       "      <th></th>\n",
       "      <th>Inspection ID</th>\n",
       "      <th>DBA Name</th>\n",
       "      <th>AKA Name</th>\n",
       "      <th>License #</th>\n",
       "      <th>Facility Type</th>\n",
       "      <th>Risk</th>\n",
       "      <th>Address</th>\n",
       "      <th>City</th>\n",
       "      <th>State</th>\n",
       "      <th>Inspection Date</th>\n",
       "      <th>Inspection Type</th>\n",
       "      <th>Results</th>\n",
       "      <th>Violations</th>\n",
       "      <th>Latitude</th>\n",
       "      <th>Longitude</th>\n",
       "    </tr>\n",
       "  </thead>\n",
       "  <tbody>\n",
       "    <tr>\n",
       "      <td>0</td>\n",
       "      <td>2320830</td>\n",
       "      <td>THE HOXTON, CHICAGO</td>\n",
       "      <td>THE HOXTON, CHICAGO</td>\n",
       "      <td>2694640.0</td>\n",
       "      <td>Restaurant</td>\n",
       "      <td>Risk 2 (Medium)</td>\n",
       "      <td>200 N GREEN ST</td>\n",
       "      <td>CHICAGO</td>\n",
       "      <td>IL</td>\n",
       "      <td>2019-10-31T00:00:00.000</td>\n",
       "      <td>License</td>\n",
       "      <td>Pass</td>\n",
       "      <td>36. THERMOMETERS PROVIDED &amp; ACCURATE - Comment...</td>\n",
       "      <td>41.885699</td>\n",
       "      <td>-87.648789</td>\n",
       "    </tr>\n",
       "    <tr>\n",
       "      <td>1</td>\n",
       "      <td>2320831</td>\n",
       "      <td>OGDEN PLAZA INC.</td>\n",
       "      <td>OGDEN PLAZA INC.</td>\n",
       "      <td>2475982.0</td>\n",
       "      <td>Grocery Store</td>\n",
       "      <td>Risk 3 (Low)</td>\n",
       "      <td>3459 W OGDEN AVE</td>\n",
       "      <td>CHICAGO</td>\n",
       "      <td>IL</td>\n",
       "      <td>2019-10-31T00:00:00.000</td>\n",
       "      <td>Canvass</td>\n",
       "      <td>Out of Business</td>\n",
       "      <td>NaN</td>\n",
       "      <td>41.855266</td>\n",
       "      <td>-87.712402</td>\n",
       "    </tr>\n",
       "    <tr>\n",
       "      <td>2</td>\n",
       "      <td>2320829</td>\n",
       "      <td>PLAZA FOOD AND LIQUOR</td>\n",
       "      <td>PLAZA FOOD AND LIQUOR</td>\n",
       "      <td>2689756.0</td>\n",
       "      <td>Grocery Store</td>\n",
       "      <td>Risk 3 (Low)</td>\n",
       "      <td>3455-3459 S OGDEN AVE</td>\n",
       "      <td>CHICAGO</td>\n",
       "      <td>IL</td>\n",
       "      <td>2019-10-31T00:00:00.000</td>\n",
       "      <td>License</td>\n",
       "      <td>Not Ready</td>\n",
       "      <td>NaN</td>\n",
       "      <td>NaN</td>\n",
       "      <td>NaN</td>\n",
       "    </tr>\n",
       "    <tr>\n",
       "      <td>3</td>\n",
       "      <td>2320813</td>\n",
       "      <td>PLAZA FOOD AND LIQUOR</td>\n",
       "      <td>PLAZA FOOD AND LIQUOR</td>\n",
       "      <td>2689757.0</td>\n",
       "      <td>Grocery Store</td>\n",
       "      <td>Risk 3 (Low)</td>\n",
       "      <td>3455-3459 S OGDEN AVE</td>\n",
       "      <td>CHICAGO</td>\n",
       "      <td>IL</td>\n",
       "      <td>2019-10-31T00:00:00.000</td>\n",
       "      <td>License</td>\n",
       "      <td>Fail</td>\n",
       "      <td>5. PROCEDURES FOR RESPONDING TO VOMITING AND D...</td>\n",
       "      <td>NaN</td>\n",
       "      <td>NaN</td>\n",
       "    </tr>\n",
       "    <tr>\n",
       "      <td>4</td>\n",
       "      <td>2320757</td>\n",
       "      <td>GADS HILL CENTER</td>\n",
       "      <td>GADS HILL CENTER</td>\n",
       "      <td>2698627.0</td>\n",
       "      <td>Daycare Above and Under 2 Years</td>\n",
       "      <td>Risk 1 (High)</td>\n",
       "      <td>4255-4259 S ARCHER AVE</td>\n",
       "      <td>CHICAGO</td>\n",
       "      <td>IL</td>\n",
       "      <td>2019-10-30T00:00:00.000</td>\n",
       "      <td>License</td>\n",
       "      <td>Fail</td>\n",
       "      <td>5. PROCEDURES FOR RESPONDING TO VOMITING AND D...</td>\n",
       "      <td>41.816005</td>\n",
       "      <td>-87.700893</td>\n",
       "    </tr>\n",
       "  </tbody>\n",
       "</table>\n",
       "</div>"
      ],
      "text/plain": [
       "   Inspection ID               DBA Name               AKA Name  License #  \\\n",
       "0        2320830    THE HOXTON, CHICAGO    THE HOXTON, CHICAGO  2694640.0   \n",
       "1        2320831       OGDEN PLAZA INC.       OGDEN PLAZA INC.  2475982.0   \n",
       "2        2320829  PLAZA FOOD AND LIQUOR  PLAZA FOOD AND LIQUOR  2689756.0   \n",
       "3        2320813  PLAZA FOOD AND LIQUOR  PLAZA FOOD AND LIQUOR  2689757.0   \n",
       "4        2320757       GADS HILL CENTER       GADS HILL CENTER  2698627.0   \n",
       "\n",
       "                     Facility Type             Risk                  Address  \\\n",
       "0                       Restaurant  Risk 2 (Medium)          200 N GREEN ST    \n",
       "1                    Grocery Store     Risk 3 (Low)        3459 W OGDEN AVE    \n",
       "2                    Grocery Store     Risk 3 (Low)   3455-3459 S OGDEN AVE    \n",
       "3                    Grocery Store     Risk 3 (Low)   3455-3459 S OGDEN AVE    \n",
       "4  Daycare Above and Under 2 Years    Risk 1 (High)  4255-4259 S ARCHER AVE    \n",
       "\n",
       "      City State          Inspection Date Inspection Type          Results  \\\n",
       "0  CHICAGO    IL  2019-10-31T00:00:00.000         License             Pass   \n",
       "1  CHICAGO    IL  2019-10-31T00:00:00.000         Canvass  Out of Business   \n",
       "2  CHICAGO    IL  2019-10-31T00:00:00.000         License        Not Ready   \n",
       "3  CHICAGO    IL  2019-10-31T00:00:00.000         License             Fail   \n",
       "4  CHICAGO    IL  2019-10-30T00:00:00.000         License             Fail   \n",
       "\n",
       "                                          Violations   Latitude  Longitude  \n",
       "0  36. THERMOMETERS PROVIDED & ACCURATE - Comment...  41.885699 -87.648789  \n",
       "1                                                NaN  41.855266 -87.712402  \n",
       "2                                                NaN        NaN        NaN  \n",
       "3  5. PROCEDURES FOR RESPONDING TO VOMITING AND D...        NaN        NaN  \n",
       "4  5. PROCEDURES FOR RESPONDING TO VOMITING AND D...  41.816005 -87.700893  "
      ]
     },
     "execution_count": 86,
     "metadata": {},
     "output_type": "execute_result"
    }
   ],
   "source": [
    "food_inspections.head()"
   ]
  },
  {
   "cell_type": "code",
   "execution_count": 87,
   "metadata": {},
   "outputs": [
    {
     "data": {
      "text/plain": [
       "False"
      ]
     },
     "execution_count": 87,
     "metadata": {},
     "output_type": "execute_result"
    }
   ],
   "source": [
    "food_inspections['DBA Name'].isnull().values.any()"
   ]
  },
  {
   "cell_type": "markdown",
   "metadata": {},
   "source": [
    "**Check the cities**\n",
    "\n",
    "We see that chicago is there several times. "
   ]
  },
  {
   "cell_type": "code",
   "execution_count": 88,
   "metadata": {},
   "outputs": [
    {
     "data": {
      "text/plain": [
       "City\n",
       "CHICAGO               194278\n",
       "Chicago                  320\n",
       "chicago                   97\n",
       "CCHICAGO                  46\n",
       "SCHAUMBURG                24\n",
       "                       ...  \n",
       "COUNTRY CLUB HILLS         1\n",
       "DES PLAINES                1\n",
       "GRIFFITH                   1\n",
       "alsip                      1\n",
       "GLENCOE                    1\n",
       "Name: DBA Name, Length: 71, dtype: int64"
      ]
     },
     "execution_count": 88,
     "metadata": {},
     "output_type": "execute_result"
    }
   ],
   "source": [
    "food_inspections.groupby('City')['DBA Name'].count().sort_values(ascending=False)"
   ]
  },
  {
   "cell_type": "code",
   "execution_count": 89,
   "metadata": {},
   "outputs": [],
   "source": [
    "def city_clear(city):\n",
    "    city = str(city).lower()\n",
    "    if city == 'cchicago':\n",
    "        city = 'chicago'\n",
    "    return city  \n",
    "\n",
    "food_inspections.City = food_inspections.City.apply(city_clear)"
   ]
  },
  {
   "cell_type": "code",
   "execution_count": 90,
   "metadata": {},
   "outputs": [
    {
     "data": {
      "text/plain": [
       "City\n",
       "chicago               194753\n",
       "nan                      138\n",
       "schaumburg                24\n",
       "maywood                   16\n",
       "elk grove village         13\n",
       "                       ...  \n",
       "country club hills         1\n",
       "des plaines                1\n",
       "griffith                   1\n",
       "wilmette                   1\n",
       "glencoe                    1\n",
       "Name: DBA Name, Length: 66, dtype: int64"
      ]
     },
     "execution_count": 90,
     "metadata": {},
     "output_type": "execute_result"
    }
   ],
   "source": [
    "food_inspections.groupby('City')['DBA Name'].count().sort_values(ascending=False)"
   ]
  },
  {
   "cell_type": "markdown",
   "metadata": {},
   "source": [
    "**Deleting other cities than Chicago**\n",
    "\n",
    "We keep only chicago. Most data is overthere and the rest is not required. We check the state as well (different Chicago ?). At the end, we are sure to work only with restaurants in Chicago, Illinois."
   ]
  },
  {
   "cell_type": "code",
   "execution_count": 91,
   "metadata": {},
   "outputs": [],
   "source": [
    "food_inspections = food_inspections[food_inspections.City == 'chicago']"
   ]
  },
  {
   "cell_type": "code",
   "execution_count": 92,
   "metadata": {},
   "outputs": [
    {
     "data": {
      "text/plain": [
       "City\n",
       "chicago    194753\n",
       "Name: DBA Name, dtype: int64"
      ]
     },
     "execution_count": 92,
     "metadata": {},
     "output_type": "execute_result"
    }
   ],
   "source": [
    "food_inspections.groupby('City')['DBA Name'].count().sort_values(ascending=False)"
   ]
  },
  {
   "cell_type": "code",
   "execution_count": 93,
   "metadata": {},
   "outputs": [
    {
     "data": {
      "text/plain": [
       "State\n",
       "IL    194730\n",
       "Name: DBA Name, dtype: int64"
      ]
     },
     "execution_count": 93,
     "metadata": {},
     "output_type": "execute_result"
    }
   ],
   "source": [
    "food_inspections.groupby('State')['DBA Name'].count().sort_values(ascending=False)"
   ]
  },
  {
   "cell_type": "code",
   "execution_count": 94,
   "metadata": {},
   "outputs": [],
   "source": [
    "food_inspections = food_inspections.drop(['City','State'], axis=1)"
   ]
  },
  {
   "cell_type": "code",
   "execution_count": 95,
   "metadata": {},
   "outputs": [
    {
     "data": {
      "text/html": [
       "<div>\n",
       "<style scoped>\n",
       "    .dataframe tbody tr th:only-of-type {\n",
       "        vertical-align: middle;\n",
       "    }\n",
       "\n",
       "    .dataframe tbody tr th {\n",
       "        vertical-align: top;\n",
       "    }\n",
       "\n",
       "    .dataframe thead th {\n",
       "        text-align: right;\n",
       "    }\n",
       "</style>\n",
       "<table border=\"1\" class=\"dataframe\">\n",
       "  <thead>\n",
       "    <tr style=\"text-align: right;\">\n",
       "      <th></th>\n",
       "      <th>Inspection ID</th>\n",
       "      <th>DBA Name</th>\n",
       "      <th>AKA Name</th>\n",
       "      <th>License #</th>\n",
       "      <th>Facility Type</th>\n",
       "      <th>Risk</th>\n",
       "      <th>Address</th>\n",
       "      <th>Inspection Date</th>\n",
       "      <th>Inspection Type</th>\n",
       "      <th>Results</th>\n",
       "      <th>Violations</th>\n",
       "      <th>Latitude</th>\n",
       "      <th>Longitude</th>\n",
       "    </tr>\n",
       "  </thead>\n",
       "  <tbody>\n",
       "    <tr>\n",
       "      <td>0</td>\n",
       "      <td>2320830</td>\n",
       "      <td>THE HOXTON, CHICAGO</td>\n",
       "      <td>THE HOXTON, CHICAGO</td>\n",
       "      <td>2694640.0</td>\n",
       "      <td>Restaurant</td>\n",
       "      <td>Risk 2 (Medium)</td>\n",
       "      <td>200 N GREEN ST</td>\n",
       "      <td>2019-10-31T00:00:00.000</td>\n",
       "      <td>License</td>\n",
       "      <td>Pass</td>\n",
       "      <td>36. THERMOMETERS PROVIDED &amp; ACCURATE - Comment...</td>\n",
       "      <td>41.885699</td>\n",
       "      <td>-87.648789</td>\n",
       "    </tr>\n",
       "    <tr>\n",
       "      <td>1</td>\n",
       "      <td>2320831</td>\n",
       "      <td>OGDEN PLAZA INC.</td>\n",
       "      <td>OGDEN PLAZA INC.</td>\n",
       "      <td>2475982.0</td>\n",
       "      <td>Grocery Store</td>\n",
       "      <td>Risk 3 (Low)</td>\n",
       "      <td>3459 W OGDEN AVE</td>\n",
       "      <td>2019-10-31T00:00:00.000</td>\n",
       "      <td>Canvass</td>\n",
       "      <td>Out of Business</td>\n",
       "      <td>NaN</td>\n",
       "      <td>41.855266</td>\n",
       "      <td>-87.712402</td>\n",
       "    </tr>\n",
       "    <tr>\n",
       "      <td>2</td>\n",
       "      <td>2320829</td>\n",
       "      <td>PLAZA FOOD AND LIQUOR</td>\n",
       "      <td>PLAZA FOOD AND LIQUOR</td>\n",
       "      <td>2689756.0</td>\n",
       "      <td>Grocery Store</td>\n",
       "      <td>Risk 3 (Low)</td>\n",
       "      <td>3455-3459 S OGDEN AVE</td>\n",
       "      <td>2019-10-31T00:00:00.000</td>\n",
       "      <td>License</td>\n",
       "      <td>Not Ready</td>\n",
       "      <td>NaN</td>\n",
       "      <td>NaN</td>\n",
       "      <td>NaN</td>\n",
       "    </tr>\n",
       "    <tr>\n",
       "      <td>3</td>\n",
       "      <td>2320813</td>\n",
       "      <td>PLAZA FOOD AND LIQUOR</td>\n",
       "      <td>PLAZA FOOD AND LIQUOR</td>\n",
       "      <td>2689757.0</td>\n",
       "      <td>Grocery Store</td>\n",
       "      <td>Risk 3 (Low)</td>\n",
       "      <td>3455-3459 S OGDEN AVE</td>\n",
       "      <td>2019-10-31T00:00:00.000</td>\n",
       "      <td>License</td>\n",
       "      <td>Fail</td>\n",
       "      <td>5. PROCEDURES FOR RESPONDING TO VOMITING AND D...</td>\n",
       "      <td>NaN</td>\n",
       "      <td>NaN</td>\n",
       "    </tr>\n",
       "    <tr>\n",
       "      <td>4</td>\n",
       "      <td>2320757</td>\n",
       "      <td>GADS HILL CENTER</td>\n",
       "      <td>GADS HILL CENTER</td>\n",
       "      <td>2698627.0</td>\n",
       "      <td>Daycare Above and Under 2 Years</td>\n",
       "      <td>Risk 1 (High)</td>\n",
       "      <td>4255-4259 S ARCHER AVE</td>\n",
       "      <td>2019-10-30T00:00:00.000</td>\n",
       "      <td>License</td>\n",
       "      <td>Fail</td>\n",
       "      <td>5. PROCEDURES FOR RESPONDING TO VOMITING AND D...</td>\n",
       "      <td>41.816005</td>\n",
       "      <td>-87.700893</td>\n",
       "    </tr>\n",
       "  </tbody>\n",
       "</table>\n",
       "</div>"
      ],
      "text/plain": [
       "   Inspection ID               DBA Name               AKA Name  License #  \\\n",
       "0        2320830    THE HOXTON, CHICAGO    THE HOXTON, CHICAGO  2694640.0   \n",
       "1        2320831       OGDEN PLAZA INC.       OGDEN PLAZA INC.  2475982.0   \n",
       "2        2320829  PLAZA FOOD AND LIQUOR  PLAZA FOOD AND LIQUOR  2689756.0   \n",
       "3        2320813  PLAZA FOOD AND LIQUOR  PLAZA FOOD AND LIQUOR  2689757.0   \n",
       "4        2320757       GADS HILL CENTER       GADS HILL CENTER  2698627.0   \n",
       "\n",
       "                     Facility Type             Risk                  Address  \\\n",
       "0                       Restaurant  Risk 2 (Medium)          200 N GREEN ST    \n",
       "1                    Grocery Store     Risk 3 (Low)        3459 W OGDEN AVE    \n",
       "2                    Grocery Store     Risk 3 (Low)   3455-3459 S OGDEN AVE    \n",
       "3                    Grocery Store     Risk 3 (Low)   3455-3459 S OGDEN AVE    \n",
       "4  Daycare Above and Under 2 Years    Risk 1 (High)  4255-4259 S ARCHER AVE    \n",
       "\n",
       "           Inspection Date Inspection Type          Results  \\\n",
       "0  2019-10-31T00:00:00.000         License             Pass   \n",
       "1  2019-10-31T00:00:00.000         Canvass  Out of Business   \n",
       "2  2019-10-31T00:00:00.000         License        Not Ready   \n",
       "3  2019-10-31T00:00:00.000         License             Fail   \n",
       "4  2019-10-30T00:00:00.000         License             Fail   \n",
       "\n",
       "                                          Violations   Latitude  Longitude  \n",
       "0  36. THERMOMETERS PROVIDED & ACCURATE - Comment...  41.885699 -87.648789  \n",
       "1                                                NaN  41.855266 -87.712402  \n",
       "2                                                NaN        NaN        NaN  \n",
       "3  5. PROCEDURES FOR RESPONDING TO VOMITING AND D...        NaN        NaN  \n",
       "4  5. PROCEDURES FOR RESPONDING TO VOMITING AND D...  41.816005 -87.700893  "
      ]
     },
     "execution_count": 95,
     "metadata": {},
     "output_type": "execute_result"
    }
   ],
   "source": [
    "food_inspections.head()"
   ]
  },
  {
   "cell_type": "markdown",
   "metadata": {},
   "source": [
    "**Checking the license numbers of restaurants**\n",
    "\n",
    "We check if don't have duplicates. Some places were inspected several times and have thus multiple rows in the dataset. We want to count the number of inspections done on each establishment so we will transform the data set to make 'Establishment'-centric."
   ]
  },
  {
   "cell_type": "code",
   "execution_count": 96,
   "metadata": {},
   "outputs": [],
   "source": [
    "license_count = food_inspections.groupby(\"License #\").count().sort_values(by='DBA Name', ascending=False)"
   ]
  },
  {
   "cell_type": "code",
   "execution_count": 97,
   "metadata": {},
   "outputs": [
    {
     "data": {
      "text/plain": [
       "License #\n",
       "0.0          506\n",
       "1354323.0    192\n",
       "14616.0      176\n",
       "1574001.0     83\n",
       "1974745.0     59\n",
       "Name: Inspection ID, dtype: int64"
      ]
     },
     "execution_count": 97,
     "metadata": {},
     "output_type": "execute_result"
    }
   ],
   "source": [
    "license_count['Inspection ID'].head()"
   ]
  },
  {
   "cell_type": "code",
   "execution_count": 98,
   "metadata": {},
   "outputs": [
    {
     "data": {
      "text/plain": [
       "License #\n",
       "0.0          506\n",
       "1354323.0    192\n",
       "14616.0      176\n",
       "1574001.0     83\n",
       "1974745.0     59\n",
       "            ... \n",
       "1621893.0      1\n",
       "1621842.0      1\n",
       "1621769.0      1\n",
       "1621703.0      1\n",
       "9999999.0      1\n",
       "Name: Inspection Date, Length: 37125, dtype: int64"
      ]
     },
     "execution_count": 98,
     "metadata": {},
     "output_type": "execute_result"
    }
   ],
   "source": [
    "food_inspections.groupby(\"License #\")['Inspection Date'].count().sort_values(ascending=False)"
   ]
  },
  {
   "cell_type": "markdown",
   "metadata": {},
   "source": [
    "**New Year format ?**"
   ]
  },
  {
   "cell_type": "code",
   "execution_count": 99,
   "metadata": {},
   "outputs": [],
   "source": [
    "food_inspections['year'] = food_inspections['Inspection Date'].apply(lambda x: x.split('-')[0])\n",
    "food_inspections['month'] = food_inspections['Inspection Date'].apply(lambda x: x.split('-')[1])\n",
    "food_inspections['date'] = food_inspections['month'] + '/' + food_inspections['year']\n",
    "food_inspections = food_inspections.drop(['Inspection Date','year','month'], axis=1)"
   ]
  },
  {
   "cell_type": "code",
   "execution_count": 100,
   "metadata": {},
   "outputs": [
    {
     "data": {
      "text/html": [
       "<div>\n",
       "<style scoped>\n",
       "    .dataframe tbody tr th:only-of-type {\n",
       "        vertical-align: middle;\n",
       "    }\n",
       "\n",
       "    .dataframe tbody tr th {\n",
       "        vertical-align: top;\n",
       "    }\n",
       "\n",
       "    .dataframe thead th {\n",
       "        text-align: right;\n",
       "    }\n",
       "</style>\n",
       "<table border=\"1\" class=\"dataframe\">\n",
       "  <thead>\n",
       "    <tr style=\"text-align: right;\">\n",
       "      <th></th>\n",
       "      <th>Inspection ID</th>\n",
       "      <th>DBA Name</th>\n",
       "      <th>AKA Name</th>\n",
       "      <th>License #</th>\n",
       "      <th>Facility Type</th>\n",
       "      <th>Risk</th>\n",
       "      <th>Address</th>\n",
       "      <th>Inspection Type</th>\n",
       "      <th>Results</th>\n",
       "      <th>Violations</th>\n",
       "      <th>Latitude</th>\n",
       "      <th>Longitude</th>\n",
       "      <th>date</th>\n",
       "    </tr>\n",
       "  </thead>\n",
       "  <tbody>\n",
       "    <tr>\n",
       "      <td>0</td>\n",
       "      <td>2320830</td>\n",
       "      <td>THE HOXTON, CHICAGO</td>\n",
       "      <td>THE HOXTON, CHICAGO</td>\n",
       "      <td>2694640.0</td>\n",
       "      <td>Restaurant</td>\n",
       "      <td>Risk 2 (Medium)</td>\n",
       "      <td>200 N GREEN ST</td>\n",
       "      <td>License</td>\n",
       "      <td>Pass</td>\n",
       "      <td>36. THERMOMETERS PROVIDED &amp; ACCURATE - Comment...</td>\n",
       "      <td>41.885699</td>\n",
       "      <td>-87.648789</td>\n",
       "      <td>10/2019</td>\n",
       "    </tr>\n",
       "    <tr>\n",
       "      <td>1</td>\n",
       "      <td>2320831</td>\n",
       "      <td>OGDEN PLAZA INC.</td>\n",
       "      <td>OGDEN PLAZA INC.</td>\n",
       "      <td>2475982.0</td>\n",
       "      <td>Grocery Store</td>\n",
       "      <td>Risk 3 (Low)</td>\n",
       "      <td>3459 W OGDEN AVE</td>\n",
       "      <td>Canvass</td>\n",
       "      <td>Out of Business</td>\n",
       "      <td>NaN</td>\n",
       "      <td>41.855266</td>\n",
       "      <td>-87.712402</td>\n",
       "      <td>10/2019</td>\n",
       "    </tr>\n",
       "    <tr>\n",
       "      <td>2</td>\n",
       "      <td>2320829</td>\n",
       "      <td>PLAZA FOOD AND LIQUOR</td>\n",
       "      <td>PLAZA FOOD AND LIQUOR</td>\n",
       "      <td>2689756.0</td>\n",
       "      <td>Grocery Store</td>\n",
       "      <td>Risk 3 (Low)</td>\n",
       "      <td>3455-3459 S OGDEN AVE</td>\n",
       "      <td>License</td>\n",
       "      <td>Not Ready</td>\n",
       "      <td>NaN</td>\n",
       "      <td>NaN</td>\n",
       "      <td>NaN</td>\n",
       "      <td>10/2019</td>\n",
       "    </tr>\n",
       "    <tr>\n",
       "      <td>3</td>\n",
       "      <td>2320813</td>\n",
       "      <td>PLAZA FOOD AND LIQUOR</td>\n",
       "      <td>PLAZA FOOD AND LIQUOR</td>\n",
       "      <td>2689757.0</td>\n",
       "      <td>Grocery Store</td>\n",
       "      <td>Risk 3 (Low)</td>\n",
       "      <td>3455-3459 S OGDEN AVE</td>\n",
       "      <td>License</td>\n",
       "      <td>Fail</td>\n",
       "      <td>5. PROCEDURES FOR RESPONDING TO VOMITING AND D...</td>\n",
       "      <td>NaN</td>\n",
       "      <td>NaN</td>\n",
       "      <td>10/2019</td>\n",
       "    </tr>\n",
       "    <tr>\n",
       "      <td>4</td>\n",
       "      <td>2320757</td>\n",
       "      <td>GADS HILL CENTER</td>\n",
       "      <td>GADS HILL CENTER</td>\n",
       "      <td>2698627.0</td>\n",
       "      <td>Daycare Above and Under 2 Years</td>\n",
       "      <td>Risk 1 (High)</td>\n",
       "      <td>4255-4259 S ARCHER AVE</td>\n",
       "      <td>License</td>\n",
       "      <td>Fail</td>\n",
       "      <td>5. PROCEDURES FOR RESPONDING TO VOMITING AND D...</td>\n",
       "      <td>41.816005</td>\n",
       "      <td>-87.700893</td>\n",
       "      <td>10/2019</td>\n",
       "    </tr>\n",
       "  </tbody>\n",
       "</table>\n",
       "</div>"
      ],
      "text/plain": [
       "   Inspection ID               DBA Name               AKA Name  License #  \\\n",
       "0        2320830    THE HOXTON, CHICAGO    THE HOXTON, CHICAGO  2694640.0   \n",
       "1        2320831       OGDEN PLAZA INC.       OGDEN PLAZA INC.  2475982.0   \n",
       "2        2320829  PLAZA FOOD AND LIQUOR  PLAZA FOOD AND LIQUOR  2689756.0   \n",
       "3        2320813  PLAZA FOOD AND LIQUOR  PLAZA FOOD AND LIQUOR  2689757.0   \n",
       "4        2320757       GADS HILL CENTER       GADS HILL CENTER  2698627.0   \n",
       "\n",
       "                     Facility Type             Risk                  Address  \\\n",
       "0                       Restaurant  Risk 2 (Medium)          200 N GREEN ST    \n",
       "1                    Grocery Store     Risk 3 (Low)        3459 W OGDEN AVE    \n",
       "2                    Grocery Store     Risk 3 (Low)   3455-3459 S OGDEN AVE    \n",
       "3                    Grocery Store     Risk 3 (Low)   3455-3459 S OGDEN AVE    \n",
       "4  Daycare Above and Under 2 Years    Risk 1 (High)  4255-4259 S ARCHER AVE    \n",
       "\n",
       "  Inspection Type          Results  \\\n",
       "0         License             Pass   \n",
       "1         Canvass  Out of Business   \n",
       "2         License        Not Ready   \n",
       "3         License             Fail   \n",
       "4         License             Fail   \n",
       "\n",
       "                                          Violations   Latitude  Longitude  \\\n",
       "0  36. THERMOMETERS PROVIDED & ACCURATE - Comment...  41.885699 -87.648789   \n",
       "1                                                NaN  41.855266 -87.712402   \n",
       "2                                                NaN        NaN        NaN   \n",
       "3  5. PROCEDURES FOR RESPONDING TO VOMITING AND D...        NaN        NaN   \n",
       "4  5. PROCEDURES FOR RESPONDING TO VOMITING AND D...  41.816005 -87.700893   \n",
       "\n",
       "      date  \n",
       "0  10/2019  \n",
       "1  10/2019  \n",
       "2  10/2019  \n",
       "3  10/2019  \n",
       "4  10/2019  "
      ]
     },
     "execution_count": 100,
     "metadata": {},
     "output_type": "execute_result"
    }
   ],
   "source": [
    "food_inspections.head()"
   ]
  },
  {
   "cell_type": "code",
   "execution_count": 101,
   "metadata": {},
   "outputs": [
    {
     "data": {
      "text/plain": [
       "False"
      ]
     },
     "execution_count": 101,
     "metadata": {},
     "output_type": "execute_result"
    }
   ],
   "source": [
    "food_inspections['test'] = food_inspections['Inspection ID'].astype(str) + food_inspections['License #'].astype(str) + food_inspections['date'].astype(str)\n",
    "food_inspections.test.is_unique"
   ]
  },
  {
   "cell_type": "code",
   "execution_count": 102,
   "metadata": {},
   "outputs": [
    {
     "name": "stdout",
     "output_type": "stream",
     "text": [
      "Number of rows in dataset before deleting the duplicates: (194753, 14)\n",
      "Number of rows in dataset after deleting the duplicates: (194495, 14)\n"
     ]
    }
   ],
   "source": [
    "print('Number of rows in dataset before deleting the duplicates: {}'.format(food_inspections.shape))\n",
    "food_inspections = food_inspections.drop_duplicates(subset=['test'], keep=False)\n",
    "print('Number of rows in dataset after deleting the duplicates: {}'.format(food_inspections.shape))"
   ]
  },
  {
   "cell_type": "code",
   "execution_count": 103,
   "metadata": {},
   "outputs": [],
   "source": [
    "food_inspections = food_inspections.drop(['test'], axis=1)"
   ]
  },
  {
   "cell_type": "markdown",
   "metadata": {},
   "source": [
    "**Creating working dataset**\n",
    "\n"
   ]
  },
  {
   "cell_type": "code",
   "execution_count": 104,
   "metadata": {},
   "outputs": [],
   "source": [
    "food_inspections_resto = food_inspections.copy()"
   ]
  },
  {
   "cell_type": "code",
   "execution_count": 105,
   "metadata": {},
   "outputs": [],
   "source": [
    "count = food_inspections_resto.groupby('License #')['Inspection ID'].count()\n",
    "food_inspections_resto = pd.merge(food_inspections_resto, count, left_on='License #',right_on='License #')\n",
    "food_inspections_resto = food_inspections_resto.rename(columns={'Inspection ID_y':'# of Inspections','Inspection ID_x':'Inspection ID'})"
   ]
  },
  {
   "cell_type": "code",
   "execution_count": 106,
   "metadata": {},
   "outputs": [],
   "source": [
    "food_inspections_resto = food_inspections_resto.drop(['date','Inspection ID','DBA Name','AKA Name','Violations','Results','Inspection Type'], axis=1)"
   ]
  },
  {
   "cell_type": "code",
   "execution_count": 107,
   "metadata": {},
   "outputs": [
    {
     "data": {
      "text/html": [
       "<div>\n",
       "<style scoped>\n",
       "    .dataframe tbody tr th:only-of-type {\n",
       "        vertical-align: middle;\n",
       "    }\n",
       "\n",
       "    .dataframe tbody tr th {\n",
       "        vertical-align: top;\n",
       "    }\n",
       "\n",
       "    .dataframe thead th {\n",
       "        text-align: right;\n",
       "    }\n",
       "</style>\n",
       "<table border=\"1\" class=\"dataframe\">\n",
       "  <thead>\n",
       "    <tr style=\"text-align: right;\">\n",
       "      <th></th>\n",
       "      <th>License #</th>\n",
       "      <th>Facility Type</th>\n",
       "      <th>Risk</th>\n",
       "      <th>Address</th>\n",
       "      <th>Latitude</th>\n",
       "      <th>Longitude</th>\n",
       "      <th># of Inspections</th>\n",
       "    </tr>\n",
       "  </thead>\n",
       "  <tbody>\n",
       "    <tr>\n",
       "      <td>0</td>\n",
       "      <td>2694640.0</td>\n",
       "      <td>Restaurant</td>\n",
       "      <td>Risk 2 (Medium)</td>\n",
       "      <td>200 N GREEN ST</td>\n",
       "      <td>41.885699</td>\n",
       "      <td>-87.648789</td>\n",
       "      <td>1</td>\n",
       "    </tr>\n",
       "    <tr>\n",
       "      <td>1</td>\n",
       "      <td>2475982.0</td>\n",
       "      <td>Grocery Store</td>\n",
       "      <td>Risk 3 (Low)</td>\n",
       "      <td>3459 W OGDEN AVE</td>\n",
       "      <td>41.855266</td>\n",
       "      <td>-87.712402</td>\n",
       "      <td>2</td>\n",
       "    </tr>\n",
       "    <tr>\n",
       "      <td>2</td>\n",
       "      <td>2475982.0</td>\n",
       "      <td>Grocery Store</td>\n",
       "      <td>Risk 3 (Low)</td>\n",
       "      <td>3459 W OGDEN AVE</td>\n",
       "      <td>41.855266</td>\n",
       "      <td>-87.712402</td>\n",
       "      <td>2</td>\n",
       "    </tr>\n",
       "    <tr>\n",
       "      <td>3</td>\n",
       "      <td>2689756.0</td>\n",
       "      <td>Grocery Store</td>\n",
       "      <td>Risk 3 (Low)</td>\n",
       "      <td>3455-3459 S OGDEN AVE</td>\n",
       "      <td>NaN</td>\n",
       "      <td>NaN</td>\n",
       "      <td>1</td>\n",
       "    </tr>\n",
       "    <tr>\n",
       "      <td>4</td>\n",
       "      <td>2689757.0</td>\n",
       "      <td>Grocery Store</td>\n",
       "      <td>Risk 3 (Low)</td>\n",
       "      <td>3455-3459 S OGDEN AVE</td>\n",
       "      <td>NaN</td>\n",
       "      <td>NaN</td>\n",
       "      <td>1</td>\n",
       "    </tr>\n",
       "  </tbody>\n",
       "</table>\n",
       "</div>"
      ],
      "text/plain": [
       "   License #  Facility Type             Risk                 Address  \\\n",
       "0  2694640.0     Restaurant  Risk 2 (Medium)         200 N GREEN ST    \n",
       "1  2475982.0  Grocery Store     Risk 3 (Low)       3459 W OGDEN AVE    \n",
       "2  2475982.0  Grocery Store     Risk 3 (Low)       3459 W OGDEN AVE    \n",
       "3  2689756.0  Grocery Store     Risk 3 (Low)  3455-3459 S OGDEN AVE    \n",
       "4  2689757.0  Grocery Store     Risk 3 (Low)  3455-3459 S OGDEN AVE    \n",
       "\n",
       "    Latitude  Longitude  # of Inspections  \n",
       "0  41.885699 -87.648789                 1  \n",
       "1  41.855266 -87.712402                 2  \n",
       "2  41.855266 -87.712402                 2  \n",
       "3        NaN        NaN                 1  \n",
       "4        NaN        NaN                 1  "
      ]
     },
     "execution_count": 107,
     "metadata": {},
     "output_type": "execute_result"
    }
   ],
   "source": [
    "food_inspections_resto.head()"
   ]
  },
  {
   "cell_type": "code",
   "execution_count": 108,
   "metadata": {},
   "outputs": [
    {
     "name": "stdout",
     "output_type": "stream",
     "text": [
      "Number of rows to be deleted: (156633, 7)\n",
      "Number of rows in dataset after deletion: (37845, 7)\n"
     ]
    }
   ],
   "source": [
    "print('Number of rows to be deleted: {}'.format(food_inspections_resto[food_inspections_resto.duplicated()].shape))\n",
    "food_inspections_resto = food_inspections_resto.drop_duplicates()\n",
    "print('Number of rows in dataset after deletion: {}'.format(food_inspections_resto.shape))"
   ]
  },
  {
   "cell_type": "code",
   "execution_count": 109,
   "metadata": {},
   "outputs": [
    {
     "data": {
      "text/html": [
       "<div>\n",
       "<style scoped>\n",
       "    .dataframe tbody tr th:only-of-type {\n",
       "        vertical-align: middle;\n",
       "    }\n",
       "\n",
       "    .dataframe tbody tr th {\n",
       "        vertical-align: top;\n",
       "    }\n",
       "\n",
       "    .dataframe thead th {\n",
       "        text-align: right;\n",
       "    }\n",
       "</style>\n",
       "<table border=\"1\" class=\"dataframe\">\n",
       "  <thead>\n",
       "    <tr style=\"text-align: right;\">\n",
       "      <th></th>\n",
       "      <th>License #</th>\n",
       "      <th>Facility Type</th>\n",
       "      <th>Risk</th>\n",
       "      <th>Address</th>\n",
       "      <th>Latitude</th>\n",
       "      <th>Longitude</th>\n",
       "      <th># of Inspections</th>\n",
       "    </tr>\n",
       "  </thead>\n",
       "  <tbody>\n",
       "    <tr>\n",
       "      <td>0</td>\n",
       "      <td>2694640.0</td>\n",
       "      <td>Restaurant</td>\n",
       "      <td>Risk 2 (Medium)</td>\n",
       "      <td>200 N GREEN ST</td>\n",
       "      <td>41.885699</td>\n",
       "      <td>-87.648789</td>\n",
       "      <td>1</td>\n",
       "    </tr>\n",
       "    <tr>\n",
       "      <td>1</td>\n",
       "      <td>2475982.0</td>\n",
       "      <td>Grocery Store</td>\n",
       "      <td>Risk 3 (Low)</td>\n",
       "      <td>3459 W OGDEN AVE</td>\n",
       "      <td>41.855266</td>\n",
       "      <td>-87.712402</td>\n",
       "      <td>2</td>\n",
       "    </tr>\n",
       "    <tr>\n",
       "      <td>3</td>\n",
       "      <td>2689756.0</td>\n",
       "      <td>Grocery Store</td>\n",
       "      <td>Risk 3 (Low)</td>\n",
       "      <td>3455-3459 S OGDEN AVE</td>\n",
       "      <td>NaN</td>\n",
       "      <td>NaN</td>\n",
       "      <td>1</td>\n",
       "    </tr>\n",
       "    <tr>\n",
       "      <td>4</td>\n",
       "      <td>2689757.0</td>\n",
       "      <td>Grocery Store</td>\n",
       "      <td>Risk 3 (Low)</td>\n",
       "      <td>3455-3459 S OGDEN AVE</td>\n",
       "      <td>NaN</td>\n",
       "      <td>NaN</td>\n",
       "      <td>1</td>\n",
       "    </tr>\n",
       "    <tr>\n",
       "      <td>5</td>\n",
       "      <td>2698627.0</td>\n",
       "      <td>Daycare Above and Under 2 Years</td>\n",
       "      <td>Risk 1 (High)</td>\n",
       "      <td>4255-4259 S ARCHER AVE</td>\n",
       "      <td>41.816005</td>\n",
       "      <td>-87.700893</td>\n",
       "      <td>1</td>\n",
       "    </tr>\n",
       "  </tbody>\n",
       "</table>\n",
       "</div>"
      ],
      "text/plain": [
       "   License #                    Facility Type             Risk  \\\n",
       "0  2694640.0                       Restaurant  Risk 2 (Medium)   \n",
       "1  2475982.0                    Grocery Store     Risk 3 (Low)   \n",
       "3  2689756.0                    Grocery Store     Risk 3 (Low)   \n",
       "4  2689757.0                    Grocery Store     Risk 3 (Low)   \n",
       "5  2698627.0  Daycare Above and Under 2 Years    Risk 1 (High)   \n",
       "\n",
       "                   Address   Latitude  Longitude  # of Inspections  \n",
       "0          200 N GREEN ST   41.885699 -87.648789                 1  \n",
       "1        3459 W OGDEN AVE   41.855266 -87.712402                 2  \n",
       "3   3455-3459 S OGDEN AVE         NaN        NaN                 1  \n",
       "4   3455-3459 S OGDEN AVE         NaN        NaN                 1  \n",
       "5  4255-4259 S ARCHER AVE   41.816005 -87.700893                 1  "
      ]
     },
     "execution_count": 109,
     "metadata": {},
     "output_type": "execute_result"
    }
   ],
   "source": [
    "food_inspections_resto.head()"
   ]
  },
  {
   "cell_type": "markdown",
   "metadata": {},
   "source": [
    "**Plot Geographical loc of restaurants**"
   ]
  },
  {
   "cell_type": "code",
   "execution_count": 110,
   "metadata": {},
   "outputs": [],
   "source": [
    "import os\n",
    "import pandas as pd\n",
    "import json\n",
    "\n",
    "import folium"
   ]
  },
  {
   "cell_type": "code",
   "execution_count": 111,
   "metadata": {},
   "outputs": [
    {
     "data": {
      "text/plain": [
       "True"
      ]
     },
     "execution_count": 111,
     "metadata": {},
     "output_type": "execute_result"
    }
   ],
   "source": [
    "folium.__version__ == '0.10.0'"
   ]
  },
  {
   "cell_type": "code",
   "execution_count": 112,
   "metadata": {},
   "outputs": [],
   "source": [
    "chicago_coord = [41.85, -87.7]"
   ]
  },
  {
   "cell_type": "code",
   "execution_count": 113,
   "metadata": {},
   "outputs": [
    {
     "data": {
      "text/html": [
       "<div style=\"width:100%;\"><div style=\"position:relative;width:100%;height:0;padding-bottom:60%;\"><iframe src=\"data:text/html;charset=utf-8;base64,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\" style=\"position:absolute;width:100%;height:100%;left:0;top:0;border:none !important;\" allowfullscreen webkitallowfullscreen mozallowfullscreen></iframe></div></div>"
      ],
      "text/plain": [
       "<folium.folium.Map at 0x236d81a3bc8>"
      ]
     },
     "execution_count": 113,
     "metadata": {},
     "output_type": "execute_result"
    }
   ],
   "source": [
    "m = folium.Map(location=chicago_coord)\n",
    "m"
   ]
  },
  {
   "cell_type": "code",
   "execution_count": 114,
   "metadata": {},
   "outputs": [
    {
     "data": {
      "text/plain": [
       "<matplotlib.collections.PathCollection at 0x236d81a3208>"
      ]
     },
     "execution_count": 114,
     "metadata": {},
     "output_type": "execute_result"
    },
    {
     "data": {
      "image/png": "[encoded data removed]",
      "text/plain": [
       "<Figure size 432x288 with 1 Axes>"
      ]
     },
     "metadata": {
      "needs_background": "light"
     },
     "output_type": "display_data"
    }
   ],
   "source": [
    "latitudes = food_inspections_resto.Latitude\n",
    "longitudes = food_inspections_resto.Longitude\n",
    "\n",
    "plt.figure()\n",
    "plt.scatter(latitudes,longitudes)"
   ]
  },
  {
   "cell_type": "code",
   "execution_count": 115,
   "metadata": {},
   "outputs": [],
   "source": [
    "# Need more data cleaning\n",
    "food_inspections_resto = food_inspections_resto.dropna()"
   ]
  },
  {
   "cell_type": "code",
   "execution_count": 116,
   "metadata": {},
   "outputs": [],
   "source": [
    "for index, row in food_inspections_resto.iterrows():\n",
    "    if index < 1000:\n",
    "        folium.Marker([row[\"Latitude\"], row[\"Longitude\"]], popup=str(index)).add_to(m)\n",
    "    else: \n",
    "        break"
   ]
  },
  {
   "cell_type": "code",
   "execution_count": 117,
   "metadata": {},
   "outputs": [
    {
     "data": {
      "text/html": [
       "<div style=\"width:100%;\"><div style=\"position:relative;width:100%;height:0;padding-bottom:60%;\"><iframe src=\"data:text/html;charset=utf-8;base64,PCFET0NUWVBFIGh0bWw+CjxoZWFkPiAgICAKICAgIDxtZXRhIGh0dHAtZXF1aXY9ImNvbnRlbnQtdHlwZSIgY29udGVudD0idGV4dC9odG1sOyBjaGFyc2V0PVVURi04IiAvPgogICAgCiAgICAgICAgPHNjcmlwdD4KICAgICAgICAgICAgTF9OT19UT1VDSCA9IGZhbHNlOwogICAgICAgICAgICBMX0RJU0FCTEVfM0QgPSBmYWxzZTsKICAgICAgICA8L3NjcmlwdD4KICAgIAogICAgPHNjcmlwdCBzcmM9Imh0dHBzOi8vY2RuLmpzZGVsaXZyLm5ldC9ucG0vbGVhZmxldEAxLjUuMS9kaXN0L2xlYWZsZXQuanMiPjwvc2NyaXB0PgogICAgPHNjcmlwdCBzcmM9Imh0dHBzOi8vY29kZS5qcXVlcnkuY29tL2pxdWVyeS0xLjEyLjQubWluLmpzIj48L3NjcmlwdD4KICAgIDxzY3JpcHQgc3JjPSJodHRwczovL21heGNkbi5ib290c3RyYXBjZG4uY29tL2Jvb3RzdHJhcC8zLjIuMC9qcy9ib290c3RyYXAubWluLmpzIj48L3NjcmlwdD4KICAgIDxzY3JpcHQgc3JjPSJodHRwczovL2NkbmpzLmNsb3VkZmxhcmUuY29tL2FqYXgvbGlicy9MZWFmbGV0LmF3ZXNvbWUtbWFya2Vycy8yLjAuMi9sZWFmbGV0LmF3ZXNvbWUtbWFya2Vycy5qcyI+PC9zY3JpcHQ+CiAgICA8bGluayByZWw9InN0eWxlc2hlZXQiIGhyZWY9Imh0dHBzOi8vY2RuLmpzZGVsaXZyLm5ldC9ucG0vbGVhZmxldEAxLjUuMS9kaXN0L2xlYWZsZXQuY3NzIi8+CiAgICA8bGluayByZWw9InN0eWxlc2hlZXQiIGhyZWY9Imh0dHBzOi8vbWF4Y2RuLmJvb3RzdHJhcGNkbi5jb20vYm9vdHN0cmFwLzMuMi4wL2Nzcy9ib290c3RyYXAubWluLmNzcyIvPgogICAgPGxpbmsgcmVsPSJzdHlsZXNoZWV0IiBocmVmPSJodHRwczovL21heGNkbi5ib290c3RyYXBjZG4uY29tL2Jvb3RzdHJhcC8zLjIuMC9jc3MvYm9vdHN0cmFwLXRoZW1lLm1pbi5jc3MiLz4KICAgIDxsaW5rIHJlbD0ic3R5bGVzaGVldCIgaHJlZj0iaHR0cHM6Ly9tYXhjZG4uYm9vdHN0cmFwY2RuLmNvbS9mb250LWF3ZXNvbWUvNC42LjMvY3NzL2ZvbnQtYXdlc29tZS5taW4uY3NzIi8+CiAgICA8bGluayByZWw9InN0eWxlc2hlZXQiIGhyZWY9Imh0dHBzOi8vY2RuanMuY2xvdWRmbGFyZS5jb20vYWpheC9saWJzL0xlYWZsZXQuYXdlc29tZS1tYXJrZXJzLzIuMC4yL2xlYWZsZXQuYXdlc29tZS1tYXJrZXJzLmNzcyIvPgogICAgPGxpbmsgcmVsPSJzdHlsZXNoZWV0IiBocmVmPSJodHRwczovL3Jhd2Nkbi5naXRoYWNrLmNvbS9weXRob24tdmlzdWFsaXphdGlvbi9mb2xpdW0vbWFzdGVyL2ZvbGl1bS90ZW1wbGF0ZXMvbGVhZmxldC5hd2Vzb21lLnJvdGF0ZS5jc3MiLz4KICAgIDxzdHlsZT5odG1sLCBib2R5IHt3aWR0aDogMTAwJTtoZWlnaHQ6IDEwMCU7bWFyZ2luOiAwO3BhZGRpbmc6IDA7fTwvc3R5bGU+CiAgICA8c3R5bGU+I21hcCB7cG9zaXRpb246YWJzb2x1dGU7dG9wOjA7Ym90dG9tOjA7cmlnaHQ6MDtsZWZ0OjA7fTwvc3R5bGU+CiAgICAKICAgICAgICAgICAgPG1ldGEgbmFtZT0idmlld3BvcnQiIGNvbnRlbnQ9IndpZHRoPWRldmljZS13aWR0aCwKICAgICAgICAgICAgICAgIGluaXRpYWwtc2NhbGU9MS4wLCBtYXhpbXVtLXNjYWxlPTEuMCwgdXNlci1zY2FsYWJsZT1ubyIgLz4KICAgICAgICAgICAgPHN0eWxlPgogICAgICAgICAgICAgICAgI21hcF9iZTRjZmNiYTc1OTk0ZjMwODQ4ZDViMTg0MmVkNjU5ZCB7CiAgICAgICAgICAgICAgICAgICAgcG9zaXRpb246IHJlbGF0aXZlOwogICAgICAgICAgICAgICAgICAgIHdpZHRoOiAxMDAuMCU7CiAgICAgICAgICAgICAgICAgICAgaGVpZ2h0OiAxMDAuMCU7CiAgICAgICAgICAgICAgICAgICAgbGVmdDogMC4wJTsKICAgICAgICAgICAgICAgICAgICB0b3A6IDAuMCU7CiAgICAgICAgICAgICAgICB9CiAgICAgICAgICAgIDwvc3R5bGU+CiAgICAgICAgCjwvaGVhZD4KPGJvZHk+ICAgIAogICAgCiAgICAgICAgICAgIDxkaXYgY2xhc3M9ImZvbGl1bS1tYXAiIGlkPSJtYXBfYmU0Y2ZjYmE3NTk5NGYzMDg0OGQ1YjE4NDJlZDY1OWQiID48L2Rpdj4KICAgICAgICAKPC9ib2R5Pgo8c2NyaXB0PiAgICAKICAgIAogICAgICAgICAgICB2YXIgbWFwX2JlNGNmY2JhNzU5OTRmMzA4NDhkNWIxODQyZWQ2NTlkID0gTC5tYXAoCiAgICAgICAgICAgICAgICAibWFwX2JlNGNmY2JhNzU5OTRmMzA4NDhkNWIxODQyZWQ2NTlkIiwKICAgICAgICAgICAgICAgIHsKICAgICAgICAgICAgICAgICAgICBjZW50ZXI6IFs0MS44NSwgLTg3LjddLAogICAgICAgICAgICAgICAgICAgIGNyczogTC5DUlMuRVBTRzM4NTcsCiAgICAgICAgICAgICAgICAgICAgem9vbTogMTAsCiAgICAgICAgICAgICAgICAgICAgem9vbUNvbnRyb2w6IHRydWUsCiAgICAgICAgICAgICAgICAgICAgcHJlZmVyQ2FudmFzOiBmYWxzZSwKICAgICAgICAgICAgICAgIH0KICAgICAgICAgICAgKTsKCiAgICAgICAgICAgIAoKICAgICAgICAKICAgIAogICAgICAgICAgICB2YXIgdGlsZV9sYXllcl81MTczMDY1ZjM1YmI0OWQ5ODk3MDQ5ZDdmYzZiOGU5MyA9IEwudGlsZUxheWVyKAogICAgICAgICAgICAgICAgImh0dHBzOi8ve3N9LnRpbGUub3BlbnN0cmVldG1hcC5vcmcve3p9L3t4fS97eX0ucG5nIiwKICAgICAgICAgICAgICAgIHsiYXR0cmlidXRpb24iOiAiRGF0YSBieSBcdTAwMjZjb3B5OyBcdTAwM2NhIGhyZWY9XCJodHRwOi8vb3BlbnN0cmVldG1hcC5vcmdcIlx1MDAzZU9wZW5TdHJlZXRNYXBcdTAwM2MvYVx1MDAzZSwgdW5kZXIgXHUwMDNjYSBocmVmPVwiaHR0cDovL3d3dy5vcGVuc3RyZWV0bWFwLm9yZy9jb3B5cmlnaHRcIlx1MDAzZU9EYkxcdTAwM2MvYVx1MDAzZS4iLCAiZGV0ZWN0UmV0aW5hIjogZmFsc2UsICJtYXhOYXRpdmVab29tIjogMTgsICJtYXhab29tIjogMTgsICJtaW5ab29tIjogMCwgIm5vV3JhcCI6IGZhbHNlLCAib3BhY2l0eSI6IDEsICJzdWJkb21haW5zIjogImFiYyIsICJ0bXMiOiBmYWxzZX0KICAgICAgICAgICAgKS5hZGRUbyhtYXBfYmU0Y2ZjYmE3NTk5NGYzMDg0OGQ1YjE4NDJlZDY1OWQpOwogICAgICAgIAogICAgCiAgICAgICAgICAgIHZhciBtYXJrZXJfNjAxMTEwYTM5Yjg5NDcwN2JkZGZjMmUwZjIyOGM3ZWUgPSBMLm1hcmtlcigKICAgICAgICAgICAgICAgIFs0MS44ODU2OTkxOTcxNjMzNTUsIC04Ny42NDg3ODkwODkzNzkxNl0sCiAgICAgICAgICAgICAgICB7fQogICAgICAgICAgICApLmFkZFRvKG1hcF9iZTRjZmNiYTc1OTk0ZjMwODQ4ZDViMTg0MmVkNjU5ZCk7CiAgICAgICAgCiAgICAKICAgICAgICB2YXIgcG9wdXBfYjdjN2UwMWMwMmI4NGRhZGJlNzM3NTUzNjBjMmQzYWIgPSBMLnBvcHVwKHsibWF4V2lkdGgiOiAiMTAwJSJ9KTsKCiAgICAgICAgCiAgICAgICAgICAgIHZhciBodG1sX2I4ODc0NjU1YTA4ZDQ3YWU4YzczZjliOTdiMWZmNGQyID0gJChgPGRpdiBpZD0iaHRtbF9iODg3NDY1NWEwOGQ0N2FlOGM3M2Y5Yjk3YjFmZjRkMiIgc3R5bGU9IndpZHRoOiAxMDAuMCU7IGhlaWdodDogMTAwLjAlOyI+MDwvZGl2PmApWzBdOwogICAgICAgICAgICBwb3B1cF9iN2M3ZTAxYzAyYjg0ZGFkYmU3Mzc1NTM2MGMyZDNhYi5zZXRDb250ZW50KGh0bWxfYjg4NzQ2NTVhMDhkNDdhZThjNzNmOWI5N2IxZmY0ZDIpOwogICAgICAgIAoKICAgICAgICBtYXJrZXJfNjAxMTEwYTM5Yjg5NDcwN2JkZGZjMmUwZjIyOGM3ZWUuYmluZFBvcHVwKHBvcHVwX2I3YzdlMDFjMDJiODRkYWRiZTczNzU1MzYwYzJkM2FiKQogICAgICAgIDsKCiAgICAgICAgCiAgICAKICAgIAogICAgICAgICAgICB2YXIgbWFya2VyX2U0OTczNGIyOThkNTRkODJhMTg4NWU2OTZiZmYwNWM4ID0gTC5tYXJrZXIoCiAgICAgICAgICAgICAgICBbNDEuODU1MjY1OTA5MjI2NjksIC04Ny43MTI0MDE1NjI0MDAzMl0sCiAgICAgICAgICAgICAgICB7fQogICAgICAgICAgICApLmFkZFRvKG1hcF9iZTRjZmNiYTc1OTk0ZjMwODQ4ZDViMTg0MmVkNjU5ZCk7CiAgICAgICAgCiAgICAKICAgICAgICB2YXIgcG9wdXBfZDIwZjQ4OTdlOGEwNGM5MGEwZjFlOTRmODEwN2Q1ZmUgPSBMLnBvcHVwKHsibWF4V2lkdGgiOiAiMTAwJSJ9KTsKCiAgICAgICAgCiAgICAgICAgICAgIHZhciBodG1sX2NkNDI5ZWQ3ZjJlNzRkNTI4ZDViZTgwM2YzMjIyNDAwID0gJChgPGRpdiBpZD0iaHRtbF9jZDQyOWVkN2YyZTc0ZDUyOGQ1YmU4MDNmMzIyMjQwMCIgc3R5bGU9IndpZHRoOiAxMDAuMCU7IGhlaWdodDogMTAwLjAlOyI+MTwvZGl2PmApWzBdOwogICAgICAgICAgICBwb3B1cF9kMjBmNDg5N2U4YTA0YzkwYTBmMWU5NGY4MTA3ZDVmZS5zZXRDb250ZW50KGh0bWxfY2Q0MjllZDdmMmU3NGQ1MjhkNWJlODAzZjMyMjI0MDApOwogICAgICAgIAoKICAgICAgICBtYXJrZXJfZTQ5NzM0YjI5OGQ1NGQ4MmExODg1ZTY5NmJmZjA1YzguYmluZFBvcHVwKHBvcHVwX2QyMGY0ODk3ZThhMDRjOTBhMGYxZTk0ZjgxMDdkNWZlKQogICAgICAgIDsKCiAgICAgICAgCiAgICAKICAgIAogICAgICAgICAgICB2YXIgbWFya2VyXzk1ZTI2ODRjNmRhODQ5MmE4ZThmYTljYTUwMGI4ZDJjID0gTC5tYXJrZXIoCiAgICAgICAgICAgICAgICBbNDEuODE2MDA1MTk4MTUxNjUsIC04Ny43MDA4OTMzODkxNzIzOF0sCiAgICAgICAgICAgICAgICB7fQogICAgICAgICAgICApLmFkZFRvKG1hcF9iZTRjZmNiYTc1OTk0ZjMwODQ4ZDViMTg0MmVkNjU5ZCk7CiAgICAgICAgCiAgICAKICAgICAgICB2YXIgcG9wdXBfMTFlNTY2NTE4NmEwNDFmMTk5ZDM5MDQxOGY0N2U2YjQgPSBMLnBvcHVwKHsibWF4V2lkdGgiOiAiMTAwJSJ9KTsKCiAgICAgICAgCiAgICAgICAgICAgIHZhciBodG1sX2NkMjg1MzkxZGEwNDQ0YWE5M2EzNDc5NzYzMDA0NDhmID0gJChgPGRpdiBpZD0iaHRtbF9jZDI4NTM5MWRhMDQ0NGFhOTNhMzQ3OTc2MzAwNDQ4ZiIgc3R5bGU9IndpZHRoOiAxMDAuMCU7IGhlaWdodDogMTAwLjAlOyI+NTwvZGl2PmApWzBdOwogICAgICAgICAgICBwb3B1cF8xMWU1NjY1MTg2YTA0MWYxOTlkMzkwNDE4ZjQ3ZTZiNC5zZXRDb250ZW50KGh0bWxfY2QyODUzOTFkYTA0NDRhYTkzYTM0Nzk3NjMwMDQ0OGYpOwogICAgICAgIAoKICAgICAgICBtYXJrZXJfOTVlMjY4NGM2ZGE4NDkyYThlOGZhOWNhNTAwYjhkMmMuYmluZFBvcHVwKHBvcHVwXzExZTU2NjUxODZhMDQxZjE5OWQzOTA0MThmNDdlNmI0KQogICAgICAgIDsKCiAgICAgICAgCiAgICAKICAgIAogICAgICAgICAgICB2YXIgbWFya2VyXzc5OWRkYzM1MzE5ZjQwYmM5YTc4NmZhZDY3OGY5M2JjID0gTC5tYXJrZXIoCiAgICAgICAgICAgICAgICBbNDEuODUwNDUxMDI0MjcsIC04Ny42NTg3OTc4NTU2Nzg2OV0sCiAgICAgICAgICAgICAgICB7fQogICAgICAgICAgICApLmFkZFRvKG1hcF9iZTRjZmNiYTc1OTk0ZjMwODQ4ZDViMTg0MmVkNjU5ZCk7CiAgICAgICAgCiAgICAKICAgICAgICB2YXIgcG9wdXBfMTgxYjlkMzY2ZjJmNDczMTk4YmJjNmM1ZTlmZmU4Y2YgPSBMLnBvcHVwKHsibWF4V2lkdGgiOiAiMTAwJSJ9KTsKCiAgICAgICAgCiAgICAgICAgICAgIHZhciBodG1sXzRlZDNhMDllYTU5ZDQ2Y2ZiZGI3YzI5MWZiNjY4MGU3ID0gJChgPGRpdiBpZD0iaHRtbF80ZWQzYTA5ZWE1OWQ0NmNmYmRiN2MyOTFmYjY2ODBlNyIgc3R5bGU9IndpZHRoOiAxMDAuMCU7IGhlaWdodDogMTAwLjAlOyI+NjwvZGl2PmApWzBdOwogICAgICAgICAgICBwb3B1cF8xODFiOWQzNjZmMmY0NzMxOThiYmM2YzVlOWZmZThjZi5zZXRDb250ZW50KGh0bWxfNGVkM2EwOWVhNTlkNDZjZmJkYjdjMjkxZmI2NjgwZTcpOwogICAgICAgIAoKICAgICAgICBtYXJrZXJfNzk5ZGRjMzUzMTlmNDBiYzlhNzg2ZmFkNjc4ZjkzYmMuYmluZFBvcHVwKHBvcHVwXzE4MWI5ZDM2NmYyZjQ3MzE5OGJiYzZjNWU5ZmZlOGNmKQogICAgICAgIDsKCiAgICAgICAgCiAgICAKICAgIAogICAgICAgICAgICB2YXIgbWFya2VyXzU3ODg0ZWNjNDVhYTQ0NDI4ODhmMDAyNzZkYTkxODc2ID0gTC5tYXJrZXIoCiAgICAgICAgICAgICAgICBbNDEuODg3NTI4NjM5NjU2OTQsIC04Ny42MzI2NDY4MzY1MjQ0NF0sCiAgICAgICAgICAgICAgICB7fQogICAgICAgICAgICApLmFkZFRvKG1hcF9iZTRjZmNiYTc1OTk0ZjMwODQ4ZDViMTg0MmVkNjU5ZCk7CiAgICAgICAgCiAgICAKICAgICAgICB2YXIgcG9wdXBfZjBlYThiM2QwNmIyNDRjOGJhODNkZTU4MDUyNzk5YTEgPSBMLnBvcHVwKHsibWF4V2lkdGgiOiAiMTAwJSJ9KTsKCiAgICAgICAgCiAgICAgICAgICAgIHZhciBodG1sXzg4ODY4NGVhN2E3MTQ1YmJhYTZkZTE1ZDEyMmJlMzUyID0gJChgPGRpdiBpZD0iaHRtbF84ODg2ODRlYTdhNzE0NWJiYWE2ZGUxNWQxMjJiZTM1MiIgc3R5bGU9IndpZHRoOiAxMDAuMCU7IGhlaWdodDogMTAwLjAlOyI+OTwvZGl2PmApWzBdOwogICAgICAgICAgICBwb3B1cF9mMGVhOGIzZDA2YjI0NGM4YmE4M2RlNTgwNTI3OTlhMS5zZXRDb250ZW50KGh0bWxfODg4Njg0ZWE3YTcxNDViYmFhNmRlMTVkMTIyYmUzNTIpOwogICAgICAgIAoKICAgICAgICBtYXJrZXJfNTc4ODRlY2M0NWFhNDQ0Mjg4OGYwMDI3NmRhOTE4NzYuYmluZFBvcHVwKHBvcHVwX2YwZWE4YjNkMDZiMjQ0YzhiYTgzZGU1ODA1Mjc5OWExKQogICAgICAgIDsKCiAgICAgICAgCiAgICAKICAgIAogICAgICAgICAgICB2YXIgbWFya2VyXzQxMjI5NzgzYzM2YTRkN2NhNDYxMThlYjliMGIxNzhlID0gTC5tYXJrZXIoCiAgICAgICAgICAgICAgICBbNDEuODA3OTI0NDk3Mjk5OTIsIC04Ny43MjgxNjM5NDg3NzM4OF0sCiAgICAgICAgICAgICAgICB7fQogICAgICAgICAgICApLmFkZFRvKG1hcF9iZTRjZmNiYTc1OTk0ZjMwODQ4ZDViMTg0MmVkNjU5ZCk7CiAgICAgICAgCiAgICAKICAgICAgICB2YXIgcG9wdXBfNDRjZjg2ODVlMDYzNGU5MjlkMDlhOTQwMjY5MDZhZjAgPSBMLnBvcHVwKHsibWF4V2lkdGgiOiAiMTAwJSJ9KTsKCiAgICAgICAgCiAgICAgICAgICAgIHZhciBodG1sXzgwMDY1NmNlZmZlYjRlMzE4ZDYzMjM2ZTE4YTMyZGQ4ID0gJChgPGRpdiBpZD0iaHRtbF84MDA2NTZjZWZmZWI0ZTMxOGQ2MzIzNmUxOGEzMmRkOCIgc3R5bGU9IndpZHRoOiAxMDAuMCU7IGhlaWdodDogMTAwLjAlOyI+MTA8L2Rpdj5gKVswXTsKICAgICAgICAgICAgcG9wdXBfNDRjZjg2ODVlMDYzNGU5MjlkMDlhOTQwMjY5MDZhZjAuc2V0Q29udGVudChodG1sXzgwMDY1NmNlZmZlYjRlMzE4ZDYzMjM2ZTE4YTMyZGQ4KTsKICAgICAgICAKCiAgICAgICAgbWFya2VyXzQxMjI5NzgzYzM2YTRkN2NhNDYxMThlYjliMGIxNzhlLmJpbmRQb3B1cChwb3B1cF80NGNmODY4NWUwNjM0ZTkyOWQwOWE5NDAyNjkwNmFmMCkKICAgICAgICA7CgogICAgICAgIAogICAgCiAgICAKICAgICAgICAgICAgdmFyIG1hcmtlcl8xM2QxZGM3NjRiZjY0Y2ZmODdhMWUzMTFmMzliYzcxYSA9IEwubWFya2VyKAogICAgICAgICAgICAgICAgWzQxLjc0MzY1Nzc2MzYwNTE5LCAtODcuNjEwMDE1MTUyMDczMDVdLAogICAgICAgICAgICAgICAge30KICAgICAgICAgICAgKS5hZGRUbyhtYXBfYmU0Y2ZjYmE3NTk5NGYzMDg0OGQ1YjE4NDJlZDY1OWQpOwogICAgICAgIAogICAgCiAgICAgICAgdmFyIHBvcHVwX2Q5MDdjZWQ2NDU4YTQzNGZhY2YwMDkwOGRkYTRkM2Q2ID0gTC5wb3B1cCh7Im1heFdpZHRoIjogIjEwMCUifSk7CgogICAgICAgIAogICAgICAgICAgICB2YXIgaHRtbF82YmUzMGFlNmEzMzU0NTM1YjBjNjk5YTdmNTYzYjBjMCA9ICQoYDxkaXYgaWQ9Imh0bWxfNmJlMzBhZTZhMzM1NDUzNWIwYzY5OWE3ZjU2M2IwYzAiIHN0eWxlPSJ3aWR0aDogMTAwLjAlOyBoZWlnaHQ6IDEwMC4wJTsiPjExPC9kaXY+YClbMF07CiAgICAgICAgICAgIHBvcHVwX2Q5MDdjZWQ2NDU4YTQzNGZhY2YwMDkwOGRkYTRkM2Q2LnNldENvbnRlbnQoaHRtbF82YmUzMGFlNmEzMzU0NTM1YjBjNjk5YTdmNTYzYjBjMCk7CiAgICAgICAgCgogICAgICAgIG1hcmtlcl8xM2QxZGM3NjRiZjY0Y2ZmODdhMWUzMTFmMzliYzcxYS5iaW5kUG9wdXAocG9wdXBfZDkwN2NlZDY0NThhNDM0ZmFjZjAwOTA4ZGRhNGQzZDYpCiAgICAgICAgOwoKICAgICAgICAKICAgIAogICAgCiAgICAgICAgICAgIHZhciBtYXJrZXJfMjgzNjJkNjIzMGJkNDc1ZWI2OTc3Mzg5ZGFhOTYxNzYgPSBMLm1hcmtlcigKICAgICAgICAgICAgICAgIFs0MS44MDExMzQxNDM1NzYxNSwgLTg3LjY3MzQ0NDAxNDQ2MzFdLAogICAgICAgICAgICAgICAge30KICAgICAgICAgICAgKS5hZGRUbyhtYXBfYmU0Y2ZjYmE3NTk5NGYzMDg0OGQ1YjE4NDJlZDY1OWQpOwogICAgICAgIAogICAgCiAgICAgICAgdmFyIHBvcHVwX2JmZGU2ODNlZjhjYzQ5MDhhMzQ1OTJhMWE0NzE0N2QwID0gTC5wb3B1cCh7Im1heFdpZHRoIjogIjEwMCUifSk7CgogICAgICAgIAogICAgICAgICAgICB2YXIgaHRtbF84ZmFiYmE5MWY4YWY0YTJkODBjMjU1ZjJjNTRmMjkwMyA9ICQoYDxkaXYgaWQ9Imh0bWxfOGZhYmJhOTFmOGFmNGEyZDgwYzI1NWYyYzU0ZjI5MDMiIHN0eWxlPSJ3aWR0aDogMTAwLjAlOyBoZWlnaHQ6IDEwMC4wJTsiPjQxPC9kaXY+YClbMF07CiAgICAgICAgICAgIHBvcHVwX2JmZGU2ODNlZjhjYzQ5MDhhMzQ1OTJhMWE0NzE0N2QwLnNldENvbnRlbnQoaHRtbF84ZmFiYmE5MWY4YWY0YTJkODBjMjU1ZjJjNTRmMjkwMyk7CiAgICAgICAgCgogICAgICAgIG1hcmtlcl8yODM2MmQ2MjMwYmQ0NzVlYjY5NzczODlkYWE5NjE3Ni5iaW5kUG9wdXAocG9wdXBfYmZkZTY4M2VmOGNjNDkwOGEzNDU5MmExYTQ3MTQ3ZDApCiAgICAgICAgOwoKICAgICAgICAKICAgIAogICAgCiAgICAgICAgICAgIHZhciBtYXJrZXJfYzVmNzg4Njg2NzExNGVlMjg1ZjRjMTlmZjE2YmU4Y2QgPSBMLm1hcmtlcigKICAgICAgICAgICAgICAgIFs0MS44MDQ2MjExNTA1OTAxNSwgLTg3LjcxOTkwNzA2NTQ5Njk0XSwKICAgICAgICAgICAgICAgIHt9CiAgICAgICAgICAgICkuYWRkVG8obWFwX2JlNGNmY2JhNzU5OTRmMzA4NDhkNWIxODQyZWQ2NTlkKTsKICAgICAgICAKICAgIAogICAgICAgIHZhciBwb3B1cF83YjhlY2E5OWI3OWI0YmU0OTM5MDk5NjY2MzkxNTFmNiA9IEwucG9wdXAoeyJtYXhXaWR0aCI6ICIxMDAlIn0pOwoKICAgICAgICAKICAgICAgICAgICAgdmFyIGh0bWxfYjUwNTA2MGZiNDFhNDEwOTk4YzFmMTViMTQxZmI4OWIgPSAkKGA8ZGl2IGlkPSJodG1sX2I1MDUwNjBmYjQxYTQxMDk5OGMxZjE1YjE0MWZiODliIiBzdHlsZT0id2lkdGg6IDEwMC4wJTsgaGVpZ2h0OiAxMDAuMCU7Ij41MjwvZGl2PmApWzBdOwogICAgICAgICAgICBwb3B1cF83YjhlY2E5OWI3OWI0YmU0OTM5MDk5NjY2MzkxNTFmNi5zZXRDb250ZW50KGh0bWxfYjUwNTA2MGZiNDFhNDEwOTk4YzFmMTViMTQxZmI4OWIpOwogICAgICAgIAoKICAgICAgICBtYXJrZXJfYzVmNzg4Njg2NzExNGVlMjg1ZjRjMTlmZjE2YmU4Y2QuYmluZFBvcHVwKHBvcHVwXzdiOGVjYTk5Yjc5YjRiZTQ5MzkwOTk2NjYzOTE1MWY2KQogICAgICAgIDsKCiAgICAgICAgCiAgICAKICAgIAogICAgICAgICAgICB2YXIgbWFya2VyX2M0YTM3NWZiMTFkZDQ0Zjc5NDJiYjZlNmQzMmM4MTQwID0gTC5tYXJrZXIoCiAgICAgICAgICAgICAgICBbNDEuODg2NTY3MzcwODg2OTQ0LCAtODcuNjI0Mzg0NjcwNTk3MTRdLAogICAgICAgICAgICAgICAge30KICAgICAgICAgICAgKS5hZGRUbyhtYXBfYmU0Y2ZjYmE3NTk5NGYzMDg0OGQ1YjE4NDJlZDY1OWQpOwogICAgICAgIAogICAgCiAgICAgICAgdmFyIHBvcHVwX2M2OWJjN2YwZmFkNTRjNWQ4NDFkODM0ODcwZWEyMDgwID0gTC5wb3B1cCh7Im1heFdpZHRoIjogIjEwMCUifSk7CgogICAgICAgIAogICAgICAgICAgICB2YXIgaHRtbF8yMDMwN2QxY2VjMWM0NDhlODc1NmQyNThmNjJlMDQ4ZiA9ICQoYDxkaXYgaWQ9Imh0bWxfMjAzMDdkMWNlYzFjNDQ4ZTg3NTZkMjU4ZjYyZTA0OGYiIHN0eWxlPSJ3aWR0aDogMTAwLjAlOyBoZWlnaHQ6IDEwMC4wJTsiPjUzPC9kaXY+YClbMF07CiAgICAgICAgICAgIHBvcHVwX2M2OWJjN2YwZmFkNTRjNWQ4NDFkODM0ODcwZWEyMDgwLnNldENvbnRlbnQoaHRtbF8yMDMwN2QxY2VjMWM0NDhlODc1NmQyNThmNjJlMDQ4Zik7CiAgICAgICAgCgogICAgICAgIG1hcmtlcl9jNGEzNzVmYjExZGQ0NGY3OTQyYmI2ZTZkMzJjODE0MC5iaW5kUG9wdXAocG9wdXBfYzY5YmM3ZjBmYWQ1NGM1ZDg0MWQ4MzQ4NzBlYTIwODApCiAgICAgICAgOwoKICAgICAgICAKICAgIAogICAgCiAgICAgICAgICAgIHZhciBtYXJrZXJfYWVmYzk5NmZlOWVlNGJiY2E4NzE0ZjkyYjRjODJmNzMgPSBMLm1hcmtlcigKICAgICAgICAgICAgICAgIFs0MS45MzEwOTQ4Njg2ODI2NTYsIC04Ny43NzEzNDQzODI3MjMxMV0sCiAgICAgICAgICAgICAgICB7fQogICAgICAgICAgICApLmFkZFRvKG1hcF9iZTRjZmNiYTc1OTk0ZjMwODQ4ZDViMTg0MmVkNjU5ZCk7CiAgICAgICAgCiAgICAKICAgICAgICB2YXIgcG9wdXBfZmM5ZDVlMTIxZjY2NGJkOGFjZTI3YjQ1OWFiMWUzMmMgPSBMLnBvcHVwKHsibWF4V2lkdGgiOiAiMTAwJSJ9KTsKCiAgICAgICAgCiAgICAgICAgICAgIHZhciBodG1sX2UwZjU3ZWQ5MzcwZjRhZDA5NjJiNDBiOTFjZjk5NWEwID0gJChgPGRpdiBpZD0iaHRtbF9lMGY1N2VkOTM3MGY0YWQwOTYyYjQwYjkxY2Y5OTVhMCIgc3R5bGU9IndpZHRoOiAxMDAuMCU7IGhlaWdodDogMTAwLjAlOyI+NTc8L2Rpdj5gKVswXTsKICAgICAgICAgICAgcG9wdXBfZmM5ZDVlMTIxZjY2NGJkOGFjZTI3YjQ1OWFiMWUzMmMuc2V0Q29udGVudChodG1sX2UwZjU3ZWQ5MzcwZjRhZDA5NjJiNDBiOTFjZjk5NWEwKTsKICAgICAgICAKCiAgICAgICAgbWFya2VyX2FlZmM5OTZmZTllZTRiYmNhODcxNGY5MmI0YzgyZjczLmJpbmRQb3B1cChwb3B1cF9mYzlkNWUxMjFmNjY0YmQ4YWNlMjdiNDU5YWIxZTMyYykKICAgICAgICA7CgogICAgICAgIAogICAgCiAgICAKICAgICAgICAgICAgdmFyIG1hcmtlcl9kN2RiODBkOWJhNGY0ODZiYTA1NjFiYmU4MWFhMWM4NiA9IEwubWFya2VyKAogICAgICAgICAgICAgICAgWzQxLjk2MTY4MDkyMzU4MjQwNiwgLTg3LjY3MDc2MTYyNzEwNDI3XSwKICAgICAgICAgICAgICAgIHt9CiAgICAgICAgICAgICkuYWRkVG8obWFwX2JlNGNmY2JhNzU5OTRmMzA4NDhkNWIxODQyZWQ2NTlkKTsKICAgICAgICAKICAgIAogICAgICAgIHZhciBwb3B1cF84MGY1YzQ3YWU5YzA0M2RkYTQ4ZmVlYzYwMjgwZWQ5YyA9IEwucG9wdXAoeyJtYXhXaWR0aCI6ICIxMDAlIn0pOwoKICAgICAgICAKICAgICAgICAgICAgdmFyIGh0bWxfMDkzMDE5ZjVjMTU5NDhkZWFjNjZjYTE1YjBmNDcxZTkgPSAkKGA8ZGl2IGlkPSJodG1sXzA5MzAxOWY1YzE1OTQ4ZGVhYzY2Y2ExNWIwZjQ3MWU5IiBzdHlsZT0id2lkdGg6IDEwMC4wJTsgaGVpZ2h0OiAxMDAuMCU7Ij42NjwvZGl2PmApWzBdOwogICAgICAgICAgICBwb3B1cF84MGY1YzQ3YWU5YzA0M2RkYTQ4ZmVlYzYwMjgwZWQ5Yy5zZXRDb250ZW50KGh0bWxfMDkzMDE5ZjVjMTU5NDhkZWFjNjZjYTE1YjBmNDcxZTkpOwogICAgICAgIAoKICAgICAgICBtYXJrZXJfZDdkYjgwZDliYTRmNDg2YmEwNTYxYmJlODFhYTFjODYuYmluZFBvcHVwKHBvcHVwXzgwZjVjNDdhZTljMDQzZGRhNDhmZWVjNjAyODBlZDljKQogICAgICAgIDsKCiAgICAgICAgCiAgICAKICAgIAogICAgICAgICAgICB2YXIgbWFya2VyXzVjOTg1YjQyNGY4YzQ4OTdhMzBmYTM4YjJiZGM5Yzg2ID0gTC5tYXJrZXIoCiAgICAgICAgICAgICAgICBbNDEuODg0NjQ2MzY1NDM0NSwgLTg3LjYxNzI0ODQ5NjIzOTQ1XSwKICAgICAgICAgICAgICAgIHt9CiAgICAgICAgICAgICkuYWRkVG8obWFwX2JlNGNmY2JhNzU5OTRmMzA4NDhkNWIxODQyZWQ2NTlkKTsKICAgICAgICAKICAgIAogICAgICAgIHZhciBwb3B1cF84ZGFkNzU0ODE4MWI0MzY2Yjg3N2NiNDAyNjM5Yjg0NiA9IEwucG9wdXAoeyJtYXhXaWR0aCI6ICIxMDAlIn0pOwoKICAgICAgICAKICAgICAgICAgICAgdmFyIGh0bWxfMjM0NmNjMmY5ZDgzNGYzZDg2MWQxYmUxYjZiNmViNzEgPSAkKGA8ZGl2IGlkPSJodG1sXzIzNDZjYzJmOWQ4MzRmM2Q4NjFkMWJlMWI2YjZlYjcxIiBzdHlsZT0id2lkdGg6IDEwMC4wJTsgaGVpZ2h0OiAxMDAuMCU7Ij42ODwvZGl2PmApWzBdOwogICAgICAgICAgICBwb3B1cF84ZGFkNzU0ODE4MWI0MzY2Yjg3N2NiNDAyNjM5Yjg0Ni5zZXRDb250ZW50KGh0bWxfMjM0NmNjMmY5ZDgzNGYzZDg2MWQxYmUxYjZiNmViNzEpOwogICAgICAgIAoKICAgICAgICBtYXJrZXJfNWM5ODViNDI0ZjhjNDg5N2EzMGZhMzhiMmJkYzljODYuYmluZFBvcHVwKHBvcHVwXzhkYWQ3NTQ4MTgxYjQzNjZiODc3Y2I0MDI2MzliODQ2KQogICAgICAgIDsKCiAgICAgICAgCiAgICAKICAgIAogICAgICAgICAgICB2YXIgbWFya2VyX2FhYTk2YzZlMWFhZTQ5NDg4MTcwZmEzYjFhM2I3MzhkID0gTC5tYXJrZXIoCiAgICAgICAgICAgICAgICBbNDEuODkyNzc4OTIxMTgzNjg0LCAtODcuNjI5NTM5MjI4MDI4NjZdLAogICAgICAgICAgICAgICAge30KICAgICAgICAgICAgKS5hZGRUbyhtYXBfYmU0Y2ZjYmE3NTk5NGYzMDg0OGQ1YjE4NDJlZDY1OWQpOwogICAgICAgIAogICAgCiAgICAgICAgdmFyIHBvcHVwXzFiNDM2MDQwNzUwNjQ2Y2M4MTA1M2MxZTE4ZDAzOGM4ID0gTC5wb3B1cCh7Im1heFdpZHRoIjogIjEwMCUifSk7CgogICAgICAgIAogICAgICAgICAgICB2YXIgaHRtbF9iNDY3YjA0OGEyNmY0OTI3YjU4MzRiMzM0MWQ3OTdkMSA9ICQoYDxkaXYgaWQ9Imh0bWxfYjQ2N2IwNDhhMjZmNDkyN2I1ODM0YjMzNDFkNzk3ZDEiIHN0eWxlPSJ3aWR0aDogMTAwLjAlOyBoZWlnaHQ6IDEwMC4wJTsiPjc0PC9kaXY+YClbMF07CiAgICAgICAgICAgIHBvcHVwXzFiNDM2MDQwNzUwNjQ2Y2M4MTA1M2MxZTE4ZDAzOGM4LnNldENvbnRlbnQoaHRtbF9iNDY3YjA0OGEyNmY0OTI3YjU4MzRiMzM0MWQ3OTdkMSk7CiAgICAgICAgCgogICAgICAgIG1hcmtlcl9hYWE5NmM2ZTFhYWU0OTQ4ODE3MGZhM2IxYTNiNzM4ZC5iaW5kUG9wdXAocG9wdXBfMWI0MzYwNDA3NTA2NDZjYzgxMDUzYzFlMThkMDM4YzgpCiAgICAgICAgOwoKICAgICAgICAKICAgIAogICAgCiAgICAgICAgICAgIHZhciBtYXJrZXJfM2Q4MjU1OTc5MGU4NGUxM2IzOTAwY2FlYTI5NTcyZjMgPSBMLm1hcmtlcigKICAgICAgICAgICAgICAgIFs0MS43MzYwNzk3Njg3MzgzLCAtODcuNjUwODU4Nzc3NzY1NjldLAogICAgICAgICAgICAgICAge30KICAgICAgICAgICAgKS5hZGRUbyhtYXBfYmU0Y2ZjYmE3NTk5NGYzMDg0OGQ1YjE4NDJlZDY1OWQpOwogICAgICAgIAogICAgCiAgICAgICAgdmFyIHBvcHVwX2EwZTZkNGU5YWUyODQ4NzU4OWIwZWZjODZlYTk5NDQ1ID0gTC5wb3B1cCh7Im1heFdpZHRoIjogIjEwMCUifSk7CgogICAgICAgIAogICAgICAgICAgICB2YXIgaHRtbF9kMTVhOTkyOTRkYzE0NzVlYWMzNmU3YTU2MGVhMjhjOCA9ICQoYDxkaXYgaWQ9Imh0bWxfZDE1YTk5Mjk0ZGMxNDc1ZWFjMzZlN2E1NjBlYTI4YzgiIHN0eWxlPSJ3aWR0aDogMTAwLjAlOyBoZWlnaHQ6IDEwMC4wJTsiPjc1PC9kaXY+YClbMF07CiAgICAgICAgICAgIHBvcHVwX2EwZTZkNGU5YWUyODQ4NzU4OWIwZWZjODZlYTk5NDQ1LnNldENvbnRlbnQoaHRtbF9kMTVhOTkyOTRkYzE0NzVlYWMzNmU3YTU2MGVhMjhjOCk7CiAgICAgICAgCgogICAgICAgIG1hcmtlcl8zZDgyNTU5NzkwZTg0ZTEzYjM5MDBjYWVhMjk1NzJmMy5iaW5kUG9wdXAocG9wdXBfYTBlNmQ0ZTlhZTI4NDg3NTg5YjBlZmM4NmVhOTk0NDUpCiAgICAgICAgOwoKICAgICAgICAKICAgIAogICAgCiAgICAgICAgICAgIHZhciBtYXJrZXJfM2NjOGE4YzU2ZTIzNDRiZGJlZGYyMDA1OTY4OTA2YjEgPSBMLm1hcmtlcigKICAgICAgICAgICAgICAgIFs0MS45Mjg2ODI0MDg2Nzg2OCwgLTg3LjY2ODQxNDkyNzgyMjE3XSwKICAgICAgICAgICAgICAgIHt9CiAgICAgICAgICAgICkuYWRkVG8obWFwX2JlNGNmY2JhNzU5OTRmMzA4NDhkNWIxODQyZWQ2NTlkKTsKICAgICAgICAKICAgIAogICAgICAgIHZhciBwb3B1cF9iOGE2MDg3OGFiMTU0MTY1OTg3NDM0OGRjZTU0M2Q4MSA9IEwucG9wdXAoeyJtYXhXaWR0aCI6ICIxMDAlIn0pOwoKICAgICAgICAKICAgICAgICAgICAgdmFyIGh0bWxfMmRmZDA5MDA4NTlkNDA2Zjg3MDBmN2UwZDZjMDcxMWEgPSAkKGA8ZGl2IGlkPSJodG1sXzJkZmQwOTAwODU5ZDQwNmY4NzAwZjdlMGQ2YzA3MTFhIiBzdHlsZT0id2lkdGg6IDEwMC4wJTsgaGVpZ2h0OiAxMDAuMCU7Ij44MjwvZGl2PmApWzBdOwogICAgICAgICAgICBwb3B1cF9iOGE2MDg3OGFiMTU0MTY1OTg3NDM0OGRjZTU0M2Q4MS5zZXRDb250ZW50KGh0bWxfMmRmZDA5MDA4NTlkNDA2Zjg3MDBmN2UwZDZjMDcxMWEpOwogICAgICAgIAoKICAgICAgICBtYXJrZXJfM2NjOGE4YzU2ZTIzNDRiZGJlZGYyMDA1OTY4OTA2YjEuYmluZFBvcHVwKHBvcHVwX2I4YTYwODc4YWIxNTQxNjU5ODc0MzQ4ZGNlNTQzZDgxKQogICAgICAgIDsKCiAgICAgICAgCiAgICAKICAgIAogICAgICAgICAgICB2YXIgbWFya2VyXzRlMTA5MmY2NjlmMDRkNTA5MWIxMmUwMWFmMzNkYTllID0gTC5tYXJrZXIoCiAgICAgICAgICAgICAgICBbNDEuODkyNzc4OTIxMTgzNjg0LCAtODcuNjI5NTM5MjI4MDI4NjZdLAogICAgICAgICAgICAgICAge30KICAgICAgICAgICAgKS5hZGRUbyhtYXBfYmU0Y2ZjYmE3NTk5NGYzMDg0OGQ1YjE4NDJlZDY1OWQpOwogICAgICAgIAogICAgCiAgICAgICAgdmFyIHBvcHVwXzlhNWI3YTMyZDg2ODQ1MjZiZGMwZDVlYzIzODg2NzExID0gTC5wb3B1cCh7Im1heFdpZHRoIjogIjEwMCUifSk7CgogICAgICAgIAogICAgICAgICAgICB2YXIgaHRtbF8xNTU3MDBhOGIwNTU0YzliYmJiYTY3YTFhNGZkMjhlYyA9ICQoYDxkaXYgaWQ9Imh0bWxfMTU1NzAwYThiMDU1NGM5YmJiYmE2N2ExYTRmZDI4ZWMiIHN0eWxlPSJ3aWR0aDogMTAwLjAlOyBoZWlnaHQ6IDEwMC4wJTsiPjEwNTwvZGl2PmApWzBdOwogICAgICAgICAgICBwb3B1cF85YTViN2EzMmQ4Njg0NTI2YmRjMGQ1ZWMyMzg4NjcxMS5zZXRDb250ZW50KGh0bWxfMTU1NzAwYThiMDU1NGM5YmJiYmE2N2ExYTRmZDI4ZWMpOwogICAgICAgIAoKICAgICAgICBtYXJrZXJfNGUxMDkyZjY2OWYwNGQ1MDkxYjEyZTAxYWYzM2RhOWUuYmluZFBvcHVwKHBvcHVwXzlhNWI3YTMyZDg2ODQ1MjZiZGMwZDVlYzIzODg2NzExKQogICAgICAgIDsKCiAgICAgICAgCiAgICAKICAgIAogICAgICAgICAgICB2YXIgbWFya2VyXzY4ZGVmZDMxODMxMTQ4MGQ4MDU4ZTRlMDQ4MjAzOGNlID0gTC5tYXJrZXIoCiAgICAgICAgICAgICAgICBbNDEuODQ0NTk3MTg3NTk4NjEsIC04Ny43MTgzMTI1NTA1Mzg5OF0sCiAgICAgICAgICAgICAgICB7fQogICAgICAgICAgICApLmFkZFRvKG1hcF9iZTRjZmNiYTc1OTk0ZjMwODQ4ZDViMTg0MmVkNjU5ZCk7CiAgICAgICAgCiAgICAKICAgICAgICB2YXIgcG9wdXBfOTZmM2FlZTljZTUzNDNjMjhkODA0M2FjZDdiMTE1N2UgPSBMLnBvcHVwKHsibWF4V2lkdGgiOiAiMTAwJSJ9KTsKCiAgICAgICAgCiAgICAgICAgICAgIHZhciBodG1sXzA4Y2FmZDg5NzA3ZjQ1MjY5YzNjYTIwYmQ1YWRlZjFlID0gJChgPGRpdiBpZD0iaHRtbF8wOGNhZmQ4OTcwN2Y0NTI2OWMzY2EyMGJkNWFkZWYxZSIgc3R5bGU9IndpZHRoOiAxMDAuMCU7IGhlaWdodDogMTAwLjAlOyI+MTA2PC9kaXY+YClbMF07CiAgICAgICAgICAgIHBvcHVwXzk2ZjNhZWU5Y2U1MzQzYzI4ZDgwNDNhY2Q3YjExNTdlLnNldENvbnRlbnQoaHRtbF8wOGNhZmQ4OTcwN2Y0NTI2OWMzY2EyMGJkNWFkZWYxZSk7CiAgICAgICAgCgogICAgICAgIG1hcmtlcl82OGRlZmQzMTgzMTE0ODBkODA1OGU0ZTA0ODIwMzhjZS5iaW5kUG9wdXAocG9wdXBfOTZmM2FlZTljZTUzNDNjMjhkODA0M2FjZDdiMTE1N2UpCiAgICAgICAgOwoKICAgICAgICAKICAgIAogICAgCiAgICAgICAgICAgIHZhciBtYXJrZXJfM2QwMjk1ZTNiNmI3NDc0NjlkN2Q4YWRjZThiMGZjY2IgPSBMLm1hcmtlcigKICAgICAgICAgICAgICAgIFs0MS45NzU5MTI4OTg5OTM1MywgLTg3LjY5MjQ5NDE3NDY2MzJdLAogICAgICAgICAgICAgICAge30KICAgICAgICAgICAgKS5hZGRUbyhtYXBfYmU0Y2ZjYmE3NTk5NGYzMDg0OGQ1YjE4NDJlZDY1OWQpOwogICAgICAgIAogICAgCiAgICAgICAgdmFyIHBvcHVwXzdlNGY4ZjBiZTNkNTRlOWM4OGE2ZmRkZjgxNjZjZWFlID0gTC5wb3B1cCh7Im1heFdpZHRoIjogIjEwMCUifSk7CgogICAgICAgIAogICAgICAgICAgICB2YXIgaHRtbF8zNjc4MGE1N2Y4OWM0YWE0YmZiZDRkYmY2NjY0NWRlOCA9ICQoYDxkaXYgaWQ9Imh0bWxfMzY3ODBhNTdmODljNGFhNGJmYmQ0ZGJmNjY2NDVkZTgiIHN0eWxlPSJ3aWR0aDogMTAwLjAlOyBoZWlnaHQ6IDEwMC4wJTsiPjEwNzwvZGl2PmApWzBdOwogICAgICAgICAgICBwb3B1cF83ZTRmOGYwYmUzZDU0ZTljODhhNmZkZGY4MTY2Y2VhZS5zZXRDb250ZW50KGh0bWxfMzY3ODBhNTdmODljNGFhNGJmYmQ0ZGJmNjY2NDVkZTgpOwogICAgICAgIAoKICAgICAgICBtYXJrZXJfM2QwMjk1ZTNiNmI3NDc0NjlkN2Q4YWRjZThiMGZjY2IuYmluZFBvcHVwKHBvcHVwXzdlNGY4ZjBiZTNkNTRlOWM4OGE2ZmRkZjgxNjZjZWFlKQogICAgICAgIDsKCiAgICAgICAgCiAgICAKICAgIAogICAgICAgICAgICB2YXIgbWFya2VyX2Q5ODhhY2U3ZmQyZDRiNDU4MmRjNmZkN2Y4OGZkNmI2ID0gTC5tYXJrZXIoCiAgICAgICAgICAgICAgICBbNDEuOTk3NTUyMTUxMjIyODEsIC04Ny43MDYyOTgwNzkzNTY2OV0sCiAgICAgICAgICAgICAgICB7fQogICAgICAgICAgICApLmFkZFRvKG1hcF9iZTRjZmNiYTc1OTk0ZjMwODQ4ZDViMTg0MmVkNjU5ZCk7CiAgICAgICAgCiAgICAKICAgICAgICB2YXIgcG9wdXBfYWM0NjQ0YjFjZGUzNDJjMjkxMGU5ZmMzZjhmNDNkNTEgPSBMLnBvcHVwKHsibWF4V2lkdGgiOiAiMTAwJSJ9KTsKCiAgICAgICAgCiAgICAgICAgICAgIHZhciBodG1sXzQxYTI4YWIyYTBlMzQwYzQ5MzBhY2VkYzNjYTQyOWQzID0gJChgPGRpdiBpZD0iaHRtbF80MWEyOGFiMmEwZTM0MGM0OTMwYWNlZGMzY2E0MjlkMyIgc3R5bGU9IndpZHRoOiAxMDAuMCU7IGhlaWdodDogMTAwLjAlOyI+MTE5PC9kaXY+YClbMF07CiAgICAgICAgICAgIHBvcHVwX2FjNDY0NGIxY2RlMzQyYzI5MTBlOWZjM2Y4ZjQzZDUxLnNldENvbnRlbnQoaHRtbF80MWEyOGFiMmEwZTM0MGM0OTMwYWNlZGMzY2E0MjlkMyk7CiAgICAgICAgCgogICAgICAgIG1hcmtlcl9kOTg4YWNlN2ZkMmQ0YjQ1ODJkYzZmZDdmODhmZDZiNi5iaW5kUG9wdXAocG9wdXBfYWM0NjQ0YjFjZGUzNDJjMjkxMGU5ZmMzZjhmNDNkNTEpCiAgICAgICAgOwoKICAgICAgICAKICAgIAogICAgCiAgICAgICAgICAgIHZhciBtYXJrZXJfN2UyOGI4NGIxYjQ5NDNmYWE2MDU0MjA2OGFhNmU1OTkgPSBMLm1hcmtlcigKICAgICAgICAgICAgICAgIFs0MS45NjgzOTkxOTA1ODMyMDYsIC04Ny43MjM1NTExNTc5NjkwNl0sCiAgICAgICAgICAgICAgICB7fQogICAgICAgICAgICApLmFkZFRvKG1hcF9iZTRjZmNiYTc1OTk0ZjMwODQ4ZDViMTg0MmVkNjU5ZCk7CiAgICAgICAgCiAgICAKICAgICAgICB2YXIgcG9wdXBfY2RmOGViYjY3NGVmNDRkZmJiOTg0YjVjZGVkZDIwMjcgPSBMLnBvcHVwKHsibWF4V2lkdGgiOiAiMTAwJSJ9KTsKCiAgICAgICAgCiAgICAgICAgICAgIHZhciBodG1sX2UzYzM1ZDNlZGE3MzQwYmNhYTc1ZmI1Y2JiNTcyNDYxID0gJChgPGRpdiBpZD0iaHRtbF9lM2MzNWQzZWRhNzM0MGJjYWE3NWZiNWNiYjU3MjQ2MSIgc3R5bGU9IndpZHRoOiAxMDAuMCU7IGhlaWdodDogMTAwLjAlOyI+MTIwPC9kaXY+YClbMF07CiAgICAgICAgICAgIHBvcHVwX2NkZjhlYmI2NzRlZjQ0ZGZiYjk4NGI1Y2RlZGQyMDI3LnNldENvbnRlbnQoaHRtbF9lM2MzNWQzZWRhNzM0MGJjYWE3NWZiNWNiYjU3MjQ2MSk7CiAgICAgICAgCgogICAgICAgIG1hcmtlcl83ZTI4Yjg0YjFiNDk0M2ZhYTYwNTQyMDY4YWE2ZTU5OS5iaW5kUG9wdXAocG9wdXBfY2RmOGViYjY3NGVmNDRkZmJiOTg0YjVjZGVkZDIwMjcpCiAgICAgICAgOwoKICAgICAgICAKICAgIAogICAgCiAgICAgICAgICAgIHZhciBtYXJrZXJfYmU5MmM5YmFmNzUzNGUzMjk2MWI4ZWFlZGY2ZGI3NzAgPSBMLm1hcmtlcigKICAgICAgICAgICAgICAgIFs0MS45MjM3NjkzNTM0MzcxNiwgLTg3Ljc4NzYyNjA5ODk3MTk4XSwKICAgICAgICAgICAgICAgIHt9CiAgICAgICAgICAgICkuYWRkVG8obWFwX2JlNGNmY2JhNzU5OTRmMzA4NDhkNWIxODQyZWQ2NTlkKTsKICAgICAgICAKICAgIAogICAgICAgIHZhciBwb3B1cF85OWE3N2RlN2E1MjM0MjY2YWIxMjY0NmMxZTUyMzIwNyA9IEwucG9wdXAoeyJtYXhXaWR0aCI6ICIxMDAlIn0pOwoKICAgICAgICAKICAgICAgICAgICAgdmFyIGh0bWxfODRlZmM1ZTgzZjZlNDU3Y2EwNDlhMWU5NDQzZDRmZTggPSAkKGA8ZGl2IGlkPSJodG1sXzg0ZWZjNWU4M2Y2ZTQ1N2NhMDQ5YTFlOTQ0M2Q0ZmU4IiBzdHlsZT0id2lkdGg6IDEwMC4wJTsgaGVpZ2h0OiAxMDAuMCU7Ij4xMjI8L2Rpdj5gKVswXTsKICAgICAgICAgICAgcG9wdXBfOTlhNzdkZTdhNTIzNDI2NmFiMTI2NDZjMWU1MjMyMDcuc2V0Q29udGVudChodG1sXzg0ZWZjNWU4M2Y2ZTQ1N2NhMDQ5YTFlOTQ0M2Q0ZmU4KTsKICAgICAgICAKCiAgICAgICAgbWFya2VyX2JlOTJjOWJhZjc1MzRlMzI5NjFiOGVhZWRmNmRiNzcwLmJpbmRQb3B1cChwb3B1cF85OWE3N2RlN2E1MjM0MjY2YWIxMjY0NmMxZTUyMzIwNykKICAgICAgICA7CgogICAgICAgIAogICAgCiAgICAKICAgICAgICAgICAgdmFyIG1hcmtlcl80ZDg2YTQzMWZhNjQ0ZmU0YjI2N2FmZDM3MzIzOGZhYSA9IEwubWFya2VyKAogICAgICAgICAgICAgICAgWzQxLjk2ODExMTc4NjU4MDg4NCwgLTg3LjcyOTg2Nzg4MjUxNTM0XSwKICAgICAgICAgICAgICAgIHt9CiAgICAgICAgICAgICkuYWRkVG8obWFwX2JlNGNmY2JhNzU5OTRmMzA4NDhkNWIxODQyZWQ2NTlkKTsKICAgICAgICAKICAgIAogICAgICAgIHZhciBwb3B1cF9jN2UyZjI4MTQzY2Y0YjY5YjZkOTIxMzIzMzJjNDRmNCA9IEwucG9wdXAoeyJtYXhXaWR0aCI6ICIxMDAlIn0pOwoKICAgICAgICAKICAgICAgICAgICAgdmFyIGh0bWxfZTAxZjYxMjRjZjU1NDk2M2EyYjdkZjZkNjhhZWE3YjMgPSAkKGA8ZGl2IGlkPSJodG1sX2UwMWY2MTI0Y2Y1NTQ5NjNhMmI3ZGY2ZDY4YWVhN2IzIiBzdHlsZT0id2lkdGg6IDEwMC4wJTsgaGVpZ2h0OiAxMDAuMCU7Ij4xMjU8L2Rpdj5gKVswXTsKICAgICAgICAgICAgcG9wdXBfYzdlMmYyODE0M2NmNGI2OWI2ZDkyMTMyMzMyYzQ0ZjQuc2V0Q29udGVudChodG1sX2UwMWY2MTI0Y2Y1NTQ5NjNhMmI3ZGY2ZDY4YWVhN2IzKTsKICAgICAgICAKCiAgICAgICAgbWFya2VyXzRkODZhNDMxZmE2NDRmZTRiMjY3YWZkMzczMjM4ZmFhLmJpbmRQb3B1cChwb3B1cF9jN2UyZjI4MTQzY2Y0YjY5YjZkOTIxMzIzMzJjNDRmNCkKICAgICAgICA7CgogICAgICAgIAogICAgCiAgICAKICAgICAgICAgICAgdmFyIG1hcmtlcl8xZWQxYThkMjJiZTc0YjFhODI0NmMwZTBiMTRiODc3MCA9IEwubWFya2VyKAogICAgICAgICAgICAgICAgWzQxLjkzMTUyMzA3NTg2NDI0LCAtODcuNzM5MDI3ODYwNDM0MjZdLAogICAgICAgICAgICAgICAge30KICAgICAgICAgICAgKS5hZGRUbyhtYXBfYmU0Y2ZjYmE3NTk5NGYzMDg0OGQ1YjE4NDJlZDY1OWQpOwogICAgICAgIAogICAgCiAgICAgICAgdmFyIHBvcHVwXzYwMDliMzg0ZTI4YjQ2N2RiMzVlNDkwN2M3N2U0NzY2ID0gTC5wb3B1cCh7Im1heFdpZHRoIjogIjEwMCUifSk7CgogICAgICAgIAogICAgICAgICAgICB2YXIgaHRtbF85ZGNjZTFkNjM4MWE0YjBhYWM3NWIwOGQ4NGFjYTZjOCA9ICQoYDxkaXYgaWQ9Imh0bWxfOWRjY2UxZDYzODFhNGIwYWFjNzViMDhkODRhY2E2YzgiIHN0eWxlPSJ3aWR0aDogMTAwLjAlOyBoZWlnaHQ6IDEwMC4wJTsiPjE0NjwvZGl2PmApWzBdOwogICAgICAgICAgICBwb3B1cF82MDA5YjM4NGUyOGI0NjdkYjM1ZTQ5MDdjNzdlNDc2Ni5zZXRDb250ZW50KGh0bWxfOWRjY2UxZDYzODFhNGIwYWFjNzViMDhkODRhY2E2YzgpOwogICAgICAgIAoKICAgICAgICBtYXJrZXJfMWVkMWE4ZDIyYmU3NGIxYTgyNDZjMGUwYjE0Yjg3NzAuYmluZFBvcHVwKHBvcHVwXzYwMDliMzg0ZTI4YjQ2N2RiMzVlNDkwN2M3N2U0NzY2KQogICAgICAgIDsKCiAgICAgICAgCiAgICAKICAgIAogICAgICAgICAgICB2YXIgbWFya2VyXzdkNDY1YjFlYmExMTRlNzNhM2QyNDE3ZDU1ZWMyZTA4ID0gTC5tYXJrZXIoCiAgICAgICAgICAgICAgICBbNDEuODA0NjIxMTUwNTkwMTUsIC04Ny43MTk5MDcwNjU0OTY5NF0sCiAgICAgICAgICAgICAgICB7fQogICAgICAgICAgICApLmFkZFRvKG1hcF9iZTRjZmNiYTc1OTk0ZjMwODQ4ZDViMTg0MmVkNjU5ZCk7CiAgICAgICAgCiAgICAKICAgICAgICB2YXIgcG9wdXBfNzkxZmUyN2U4NTdmNDg4NGE2ZTgwOGVjODA3NWM1MzcgPSBMLnBvcHVwKHsibWF4V2lkdGgiOiAiMTAwJSJ9KTsKCiAgICAgICAgCiAgICAgICAgICAgIHZhciBodG1sX2UzMDE1ODZlNWRiOTRhYmQ5MDAwYzQ3NzRiMjg0ZDg2ID0gJChgPGRpdiBpZD0iaHRtbF9lMzAxNTg2ZTVkYjk0YWJkOTAwMGM0Nzc0YjI4NGQ4NiIgc3R5bGU9IndpZHRoOiAxMDAuMCU7IGhlaWdodDogMTAwLjAlOyI+MTQ3PC9kaXY+YClbMF07CiAgICAgICAgICAgIHBvcHVwXzc5MWZlMjdlODU3ZjQ4ODRhNmU4MDhlYzgwNzVjNTM3LnNldENvbnRlbnQoaHRtbF9lMzAxNTg2ZTVkYjk0YWJkOTAwMGM0Nzc0YjI4NGQ4Nik7CiAgICAgICAgCgogICAgICAgIG1hcmtlcl83ZDQ2NWIxZWJhMTE0ZTczYTNkMjQxN2Q1NWVjMmUwOC5iaW5kUG9wdXAocG9wdXBfNzkxZmUyN2U4NTdmNDg4NGE2ZTgwOGVjODA3NWM1MzcpCiAgICAgICAgOwoKICAgICAgICAKICAgIAogICAgCiAgICAgICAgICAgIHZhciBtYXJrZXJfM2JlYmMyNjdmMDA1NDg5ZGExOGIwODE5ZDU5MzUwYTQgPSBMLm1hcmtlcigKICAgICAgICAgICAgICAgIFs0MS45MzE1MjMwNzU4NjQyNCwgLTg3LjczOTAyNzg2MDQzNDI2XSwKICAgICAgICAgICAgICAgIHt9CiAgICAgICAgICAgICkuYWRkVG8obWFwX2JlNGNmY2JhNzU5OTRmMzA4NDhkNWIxODQyZWQ2NTlkKTsKICAgICAgICAKICAgIAogICAgICAgIHZhciBwb3B1cF81ZGUwNzIxZjAxYjM0YjFlOGUwOTczYzI2NDNkYzc0YyA9IEwucG9wdXAoeyJtYXhXaWR0aCI6ICIxMDAlIn0pOwoKICAgICAgICAKICAgICAgICAgICAgdmFyIGh0bWxfNDRlZjllY2M4M2IzNGJhZTllMDdjNTQ1ZGY5NzJjMjkgPSAkKGA8ZGl2IGlkPSJodG1sXzQ0ZWY5ZWNjODNiMzRiYWU5ZTA3YzU0NWRmOTcyYzI5IiBzdHlsZT0id2lkdGg6IDEwMC4wJTsgaGVpZ2h0OiAxMDAuMCU7Ij4xNDk8L2Rpdj5gKVswXTsKICAgICAgICAgICAgcG9wdXBfNWRlMDcyMWYwMWIzNGIxZThlMDk3M2MyNjQzZGM3NGMuc2V0Q29udGVudChodG1sXzQ0ZWY5ZWNjODNiMzRiYWU5ZTA3YzU0NWRmOTcyYzI5KTsKICAgICAgICAKCiAgICAgICAgbWFya2VyXzNiZWJjMjY3ZjAwNTQ4OWRhMThiMDgxOWQ1OTM1MGE0LmJpbmRQb3B1cChwb3B1cF81ZGUwNzIxZjAxYjM0YjFlOGUwOTczYzI2NDNkYzc0YykKICAgICAgICA7CgogICAgICAgIAogICAgCiAgICAKICAgICAgICAgICAgdmFyIG1hcmtlcl82MTc5N2EyMTk4YjI0YjlmYTY0NWNjZThjNDVlNGIwNyA9IEwubWFya2VyKAogICAgICAgICAgICAgICAgWzQxLjg2MjU3NzYxNjMyOTQ3LCAtODcuNjIzODk1MTYxNTI3NzddLAogICAgICAgICAgICAgICAge30KICAgICAgICAgICAgKS5hZGRUbyhtYXBfYmU0Y2ZjYmE3NTk5NGYzMDg0OGQ1YjE4NDJlZDY1OWQpOwogICAgICAgIAogICAgCiAgICAgICAgdmFyIHBvcHVwX2FlMmM3YmI4MTc3MDQ4OTI5MmRhMTY3MmY1ZGFmZGE2ID0gTC5wb3B1cCh7Im1heFdpZHRoIjogIjEwMCUifSk7CgogICAgICAgIAogICAgICAgICAgICB2YXIgaHRtbF83NmRlMmZmNDAwODY0ZDIyYTk1NzUwODg2MjhmNDZkNiA9ICQoYDxkaXYgaWQ9Imh0bWxfNzZkZTJmZjQwMDg2NGQyMmE5NTc1MDg4NjI4ZjQ2ZDYiIHN0eWxlPSJ3aWR0aDogMTAwLjAlOyBoZWlnaHQ6IDEwMC4wJTsiPjE1MDwvZGl2PmApWzBdOwogICAgICAgICAgICBwb3B1cF9hZTJjN2JiODE3NzA0ODkyOTJkYTE2NzJmNWRhZmRhNi5zZXRDb250ZW50KGh0bWxfNzZkZTJmZjQwMDg2NGQyMmE5NTc1MDg4NjI4ZjQ2ZDYpOwogICAgICAgIAoKICAgICAgICBtYXJrZXJfNjE3OTdhMjE5OGIyNGI5ZmE2NDVjY2U4YzQ1ZTRiMDcuYmluZFBvcHVwKHBvcHVwX2FlMmM3YmI4MTc3MDQ4OTI5MmRhMTY3MmY1ZGFmZGE2KQogICAgICAgIDsKCiAgICAgICAgCiAgICAKICAgIAogICAgICAgICAgICB2YXIgbWFya2VyXzAzY2JiMjcxNTAxMDQwZGRhNmY3NTk0MTEyYmQ5YWMwID0gTC5tYXJrZXIoCiAgICAgICAgICAgICAgICBbNDEuODQ0NTk3MTg3NTk4NjEsIC04Ny43MTgzMTI1NTA1Mzg5OF0sCiAgICAgICAgICAgICAgICB7fQogICAgICAgICAgICApLmFkZFRvKG1hcF9iZTRjZmNiYTc1OTk0ZjMwODQ4ZDViMTg0MmVkNjU5ZCk7CiAgICAgICAgCiAgICAKICAgICAgICB2YXIgcG9wdXBfOWNlYWE3OGU4NzVkNDRkOWIzZDU4NjYzNDhiYjMyZjQgPSBMLnBvcHVwKHsibWF4V2lkdGgiOiAiMTAwJSJ9KTsKCiAgICAgICAgCiAgICAgICAgICAgIHZhciBodG1sX2I2ZDYyYmU5OTVkNzQ0MWY5YzYwMDIzMTU5NDY2NjgxID0gJChgPGRpdiBpZD0iaHRtbF9iNmQ2MmJlOTk1ZDc0NDFmOWM2MDAyMzE1OTQ2NjY4MSIgc3R5bGU9IndpZHRoOiAxMDAuMCU7IGhlaWdodDogMTAwLjAlOyI+MTU3PC9kaXY+YClbMF07CiAgICAgICAgICAgIHBvcHVwXzljZWFhNzhlODc1ZDQ0ZDliM2Q1ODY2MzQ4YmIzMmY0LnNldENvbnRlbnQoaHRtbF9iNmQ2MmJlOTk1ZDc0NDFmOWM2MDAyMzE1OTQ2NjY4MSk7CiAgICAgICAgCgogICAgICAgIG1hcmtlcl8wM2NiYjI3MTUwMTA0MGRkYTZmNzU5NDExMmJkOWFjMC5iaW5kUG9wdXAocG9wdXBfOWNlYWE3OGU4NzVkNDRkOWIzZDU4NjYzNDhiYjMyZjQpCiAgICAgICAgOwoKICAgICAgICAKICAgIAogICAgCiAgICAgICAgICAgIHZhciBtYXJrZXJfMzczYzNiZjgyMDU0NDRmZTlhMzBiNGNlMDgwMTBkNzkgPSBMLm1hcmtlcigKICAgICAgICAgICAgICAgIFs0MS45MzEwOTQ4Njg2ODI2NTYsIC04Ny43NzEzNDQzODI3MjMxMV0sCiAgICAgICAgICAgICAgICB7fQogICAgICAgICAgICApLmFkZFRvKG1hcF9iZTRjZmNiYTc1OTk0ZjMwODQ4ZDViMTg0MmVkNjU5ZCk7CiAgICAgICAgCiAgICAKICAgICAgICB2YXIgcG9wdXBfNzY0M2M2MWVkNDAxNGNjMDk3MjNhZDEwZDczZTBlYjMgPSBMLnBvcHVwKHsibWF4V2lkdGgiOiAiMTAwJSJ9KTsKCiAgICAgICAgCiAgICAgICAgICAgIHZhciBodG1sX2QxNDU2YTk2Nzc0NDRkYTY4MjhhYTY1ZTgzNjRjNTljID0gJChgPGRpdiBpZD0iaHRtbF9kMTQ1NmE5Njc3NDQ0ZGE2ODI4YWE2NWU4MzY0YzU5YyIgc3R5bGU9IndpZHRoOiAxMDAuMCU7IGhlaWdodDogMTAwLjAlOyI+MTU4PC9kaXY+YClbMF07CiAgICAgICAgICAgIHBvcHVwXzc2NDNjNjFlZDQwMTRjYzA5NzIzYWQxMGQ3M2UwZWIzLnNldENvbnRlbnQoaHRtbF9kMTQ1NmE5Njc3NDQ0ZGE2ODI4YWE2NWU4MzY0YzU5Yyk7CiAgICAgICAgCgogICAgICAgIG1hcmtlcl8zNzNjM2JmODIwNTQ0NGZlOWEzMGI0Y2UwODAxMGQ3OS5iaW5kUG9wdXAocG9wdXBfNzY0M2M2MWVkNDAxNGNjMDk3MjNhZDEwZDczZTBlYjMpCiAgICAgICAgOwoKICAgICAgICAKICAgIAogICAgCiAgICAgICAgICAgIHZhciBtYXJrZXJfNmJiZmFhMDU5MGM1NDAzOGJhOTZmMjhmNjBlOWNiMzMgPSBMLm1hcmtlcigKICAgICAgICAgICAgICAgIFs0MS44MDE0NjA3ODEyNDI1NiwgLTg3LjY2MjI4OTEwOTI0MTkxXSwKICAgICAgICAgICAgICAgIHt9CiAgICAgICAgICAgICkuYWRkVG8obWFwX2JlNGNmY2JhNzU5OTRmMzA4NDhkNWIxODQyZWQ2NTlkKTsKICAgICAgICAKICAgIAogICAgICAgIHZhciBwb3B1cF85YTA2NTNmODVkZTU0ZTViODY5OGU3NTE1YTAxM2IxZCA9IEwucG9wdXAoeyJtYXhXaWR0aCI6ICIxMDAlIn0pOwoKICAgICAgICAKICAgICAgICAgICAgdmFyIGh0bWxfY2Y4Yjg1YmVhNmFiNGUwNGIxZmY1YTc3ZjJiMTk0ZTEgPSAkKGA8ZGl2IGlkPSJodG1sX2NmOGI4NWJlYTZhYjRlMDRiMWZmNWE3N2YyYjE5NGUxIiBzdHlsZT0id2lkdGg6IDEwMC4wJTsgaGVpZ2h0OiAxMDAuMCU7Ij4xNTk8L2Rpdj5gKVswXTsKICAgICAgICAgICAgcG9wdXBfOWEwNjUzZjg1ZGU1NGU1Yjg2OThlNzUxNWEwMTNiMWQuc2V0Q29udGVudChodG1sX2NmOGI4NWJlYTZhYjRlMDRiMWZmNWE3N2YyYjE5NGUxKTsKICAgICAgICAKCiAgICAgICAgbWFya2VyXzZiYmZhYTA1OTBjNTQwMzhiYTk2ZjI4ZjYwZTljYjMzLmJpbmRQb3B1cChwb3B1cF85YTA2NTNmODVkZTU0ZTViODY5OGU3NTE1YTAxM2IxZCkKICAgICAgICA7CgogICAgICAgIAogICAgCiAgICAKICAgICAgICAgICAgdmFyIG1hcmtlcl82NDY0YjQzZTBiMTQ0MDhmOTRjN2ZmNTFhNzQxOGUzYyA9IEwubWFya2VyKAogICAgICAgICAgICAgICAgWzQxLjk2ODgxOTcyMzU2ODM5NCwgLTg3LjY4MjI5MTUwMzY5MTRdLAogICAgICAgICAgICAgICAge30KICAgICAgICAgICAgKS5hZGRUbyhtYXBfYmU0Y2ZjYmE3NTk5NGYzMDg0OGQ1YjE4NDJlZDY1OWQpOwogICAgICAgIAogICAgCiAgICAgICAgdmFyIHBvcHVwX2Y1ZmIwYTgxYzhkMjRmNzg5OGUxMTg4OGJiN2E5YzVhID0gTC5wb3B1cCh7Im1heFdpZHRoIjogIjEwMCUifSk7CgogICAgICAgIAogICAgICAgICAgICB2YXIgaHRtbF8yNDFlZWQ5NGZmNjg0OGFjYjVkNjI3Mjk2ODhlZTU0NSA9ICQoYDxkaXYgaWQ9Imh0bWxfMjQxZWVkOTRmZjY4NDhhY2I1ZDYyNzI5Njg4ZWU1NDUiIHN0eWxlPSJ3aWR0aDogMTAwLjAlOyBoZWlnaHQ6IDEwMC4wJTsiPjE2MDwvZGl2PmApWzBdOwogICAgICAgICAgICBwb3B1cF9mNWZiMGE4MWM4ZDI0Zjc4OThlMTE4ODhiYjdhOWM1YS5zZXRDb250ZW50KGh0bWxfMjQxZWVkOTRmZjY4NDhhY2I1ZDYyNzI5Njg4ZWU1NDUpOwogICAgICAgIAoKICAgICAgICBtYXJrZXJfNjQ2NGI0M2UwYjE0NDA4Zjk0YzdmZjUxYTc0MThlM2MuYmluZFBvcHVwKHBvcHVwX2Y1ZmIwYTgxYzhkMjRmNzg5OGUxMTg4OGJiN2E5YzVhKQogICAgICAgIDsKCiAgICAgICAgCiAgICAKICAgIAogICAgICAgICAgICB2YXIgbWFya2VyX2ViMDViNGE4YTRmYzQ0ZTViN2FhYTkzOGRjYTc2ODg4ID0gTC5tYXJrZXIoCiAgICAgICAgICAgICAgICBbNDEuOTQ0OTc0MTcxNDUwNjIsIC04Ny42NDU2NTk3NTU4NzY0Ml0sCiAgICAgICAgICAgICAgICB7fQogICAgICAgICAgICApLmFkZFRvKG1hcF9iZTRjZmNiYTc1OTk0ZjMwODQ4ZDViMTg0MmVkNjU5ZCk7CiAgICAgICAgCiAgICAKICAgICAgICB2YXIgcG9wdXBfOTljNTBhMmRmOWUxNDhkOTlmZWJlYTQzN2JkNjFjZjQgPSBMLnBvcHVwKHsibWF4V2lkdGgiOiAiMTAwJSJ9KTsKCiAgICAgICAgCiAgICAgICAgICAgIHZhciBodG1sX2Y5NDZlZGI0YTE3ODQwZTBhOGYxOGY0ZmQyNjc3ZWQxID0gJChgPGRpdiBpZD0iaHRtbF9mOTQ2ZWRiNGExNzg0MGUwYThmMThmNGZkMjY3N2VkMSIgc3R5bGU9IndpZHRoOiAxMDAuMCU7IGhlaWdodDogMTAwLjAlOyI+MTYzPC9kaXY+YClbMF07CiAgICAgICAgICAgIHBvcHVwXzk5YzUwYTJkZjllMTQ4ZDk5ZmViZWE0MzdiZDYxY2Y0LnNldENvbnRlbnQoaHRtbF9mOTQ2ZWRiNGExNzg0MGUwYThmMThmNGZkMjY3N2VkMSk7CiAgICAgICAgCgogICAgICAgIG1hcmtlcl9lYjA1YjRhOGE0ZmM0NGU1YjdhYWE5MzhkY2E3Njg4OC5iaW5kUG9wdXAocG9wdXBfOTljNTBhMmRmOWUxNDhkOTlmZWJlYTQzN2JkNjFjZjQpCiAgICAgICAgOwoKICAgICAgICAKICAgIAogICAgCiAgICAgICAgICAgIHZhciBtYXJrZXJfYTM5ZTYzMWQ0ZDAyNDhkMDkzMWI4NTU0ZDllZmYwMmEgPSBMLm1hcmtlcigKICAgICAgICAgICAgICAgIFs0MS44MTg0NjQzNDQ4MzQxMywgLTg3LjY5Njg4MDAzNzUwNDMzXSwKICAgICAgICAgICAgICAgIHt9CiAgICAgICAgICAgICkuYWRkVG8obWFwX2JlNGNmY2JhNzU5OTRmMzA4NDhkNWIxODQyZWQ2NTlkKTsKICAgICAgICAKICAgIAogICAgICAgIHZhciBwb3B1cF8xMWJhZDYwYzE3Y2Y0M2MxODhmZjgzYzg0ZWFlNTc2NiA9IEwucG9wdXAoeyJtYXhXaWR0aCI6ICIxMDAlIn0pOwoKICAgICAgICAKICAgICAgICAgICAgdmFyIGh0bWxfNzBmZjcwNjkxMTIxNDYwNmE0YTE0MGU4YTFmZDI3MWMgPSAkKGA8ZGl2IGlkPSJodG1sXzcwZmY3MDY5MTEyMTQ2MDZhNGExNDBlOGExZmQyNzFjIiBzdHlsZT0id2lkdGg6IDEwMC4wJTsgaGVpZ2h0OiAxMDAuMCU7Ij4xNzQ8L2Rpdj5gKVswXTsKICAgICAgICAgICAgcG9wdXBfMTFiYWQ2MGMxN2NmNDNjMTg4ZmY4M2M4NGVhZTU3NjYuc2V0Q29udGVudChodG1sXzcwZmY3MDY5MTEyMTQ2MDZhNGExNDBlOGExZmQyNzFjKTsKICAgICAgICAKCiAgICAgICAgbWFya2VyX2EzOWU2MzFkNGQwMjQ4ZDA5MzFiODU1NGQ5ZWZmMDJhLmJpbmRQb3B1cChwb3B1cF8xMWJhZDYwYzE3Y2Y0M2MxODhmZjgzYzg0ZWFlNTc2NikKICAgICAgICA7CgogICAgICAgIAogICAgCiAgICAKICAgICAgICAgICAgdmFyIG1hcmtlcl85NDc4MTdiNmFlYzE0NDY0OGRlYjhkMjJiZWIwOGYxZiA9IEwubWFya2VyKAogICAgICAgICAgICAgICAgWzQxLjkzMTA5NDg2ODY4MjY1NiwgLTg3Ljc3MTM0NDM4MjcyMzExXSwKICAgICAgICAgICAgICAgIHt9CiAgICAgICAgICAgICkuYWRkVG8obWFwX2JlNGNmY2JhNzU5OTRmMzA4NDhkNWIxODQyZWQ2NTlkKTsKICAgICAgICAKICAgIAogICAgICAgIHZhciBwb3B1cF8zNjg1NmRlOGIxMjY0MjgzYTI1ZjdmZDUzOGNlZWVjZSA9IEwucG9wdXAoeyJtYXhXaWR0aCI6ICIxMDAlIn0pOwoKICAgICAgICAKICAgICAgICAgICAgdmFyIGh0bWxfMzZkZDQ3ZDFmZDc2NDQ0ZGIxNDAzNDRmYjA0NTYzMzMgPSAkKGA8ZGl2IGlkPSJodG1sXzM2ZGQ0N2QxZmQ3NjQ0NGRiMTQwMzQ0ZmIwNDU2MzMzIiBzdHlsZT0id2lkdGg6IDEwMC4wJTsgaGVpZ2h0OiAxMDAuMCU7Ij4xODA8L2Rpdj5gKVswXTsKICAgICAgICAgICAgcG9wdXBfMzY4NTZkZThiMTI2NDI4M2EyNWY3ZmQ1MzhjZWVlY2Uuc2V0Q29udGVudChodG1sXzM2ZGQ0N2QxZmQ3NjQ0NGRiMTQwMzQ0ZmIwNDU2MzMzKTsKICAgICAgICAKCiAgICAgICAgbWFya2VyXzk0NzgxN2I2YWVjMTQ0NjQ4ZGViOGQyMmJlYjA4ZjFmLmJpbmRQb3B1cChwb3B1cF8zNjg1NmRlOGIxMjY0MjgzYTI1ZjdmZDUzOGNlZWVjZSkKICAgICAgICA7CgogICAgICAgIAogICAgCiAgICAKICAgICAgICAgICAgdmFyIG1hcmtlcl9hMzRkMWNlZTljZDM0YzU1OGFlZGQyNjExZDIxNTNjYiA9IEwubWFya2VyKAogICAgICAgICAgICAgICAgWzQxLjkxMDIwNTEyOTM5MTM4NiwgLTg3LjY4NzcwMjI5MzY4OTE2XSwKICAgICAgICAgICAgICAgIHt9CiAgICAgICAgICAgICkuYWRkVG8obWFwX2JlNGNmY2JhNzU5OTRmMzA4NDhkNWIxODQyZWQ2NTlkKTsKICAgICAgICAKICAgIAogICAgICAgIHZhciBwb3B1cF9iM2Q4ZWI3ZDE1NTY0OWU0YTE1ZjM4OGM5ODZkNWZlYyA9IEwucG9wdXAoeyJtYXhXaWR0aCI6ICIxMDAlIn0pOwoKICAgICAgICAKICAgICAgICAgICAgdmFyIGh0bWxfMWIwMzU3ZWYwN2RhNGFmMjgxODdkNDUwOTlkYzJhOWUgPSAkKGA8ZGl2IGlkPSJodG1sXzFiMDM1N2VmMDdkYTRhZjI4MTg3ZDQ1MDk5ZGMyYTllIiBzdHlsZT0id2lkdGg6IDEwMC4wJTsgaGVpZ2h0OiAxMDAuMCU7Ij4xODE8L2Rpdj5gKVswXTsKICAgICAgICAgICAgcG9wdXBfYjNkOGViN2QxNTU2NDllNGExNWYzODhjOTg2ZDVmZWMuc2V0Q29udGVudChodG1sXzFiMDM1N2VmMDdkYTRhZjI4MTg3ZDQ1MDk5ZGMyYTllKTsKICAgICAgICAKCiAgICAgICAgbWFya2VyX2EzNGQxY2VlOWNkMzRjNTU4YWVkZDI2MTFkMjE1M2NiLmJpbmRQb3B1cChwb3B1cF9iM2Q4ZWI3ZDE1NTY0OWU0YTE1ZjM4OGM5ODZkNWZlYykKICAgICAgICA7CgogICAgICAgIAogICAgCiAgICAKICAgICAgICAgICAgdmFyIG1hcmtlcl82Mjc2MGY3ZGRhN2Y0ZGMxODA3ZGU5ZmQ1NmFkZDY1NCA9IEwubWFya2VyKAogICAgICAgICAgICAgICAgWzQxLjgwNDYyMTE1MDU5MDE1LCAtODcuNzE5OTA3MDY1NDk2OTRdLAogICAgICAgICAgICAgICAge30KICAgICAgICAgICAgKS5hZGRUbyhtYXBfYmU0Y2ZjYmE3NTk5NGYzMDg0OGQ1YjE4NDJlZDY1OWQpOwogICAgICAgIAogICAgCiAgICAgICAgdmFyIHBvcHVwX2E0NTk0ZDI3ODRmMzRhZTg4MWE4YzFhNmYxYmJhM2I4ID0gTC5wb3B1cCh7Im1heFdpZHRoIjogIjEwMCUifSk7CgogICAgICAgIAogICAgICAgICAgICB2YXIgaHRtbF8yODc5YTdjMmIxODc0ZWM0OGNkZGQ2OTgyMDk0MmU4ZCA9ICQoYDxkaXYgaWQ9Imh0bWxfMjg3OWE3YzJiMTg3NGVjNDhjZGRkNjk4MjA5NDJlOGQiIHN0eWxlPSJ3aWR0aDogMTAwLjAlOyBoZWlnaHQ6IDEwMC4wJTsiPjE4OTwvZGl2PmApWzBdOwogICAgICAgICAgICBwb3B1cF9hNDU5NGQyNzg0ZjM0YWU4ODFhOGMxYTZmMWJiYTNiOC5zZXRDb250ZW50KGh0bWxfMjg3OWE3YzJiMTg3NGVjNDhjZGRkNjk4MjA5NDJlOGQpOwogICAgICAgIAoKICAgICAgICBtYXJrZXJfNjI3NjBmN2RkYTdmNGRjMTgwN2RlOWZkNTZhZGQ2NTQuYmluZFBvcHVwKHBvcHVwX2E0NTk0ZDI3ODRmMzRhZTg4MWE4YzFhNmYxYmJhM2I4KQogICAgICAgIDsKCiAgICAgICAgCiAgICAKICAgIAogICAgICAgICAgICB2YXIgbWFya2VyX2NjZDdmM2RmMjUzZDRlOTliYWM2MGUxNjZjMGQ1NGI5ID0gTC5tYXJrZXIoCiAgICAgICAgICAgICAgICBbNDEuNzM1NjE2OTQ2MDgwNiwgLTg3LjY2Nzc4MzI5NzkwNTQzXSwKICAgICAgICAgICAgICAgIHt9CiAgICAgICAgICAgICkuYWRkVG8obWFwX2JlNGNmY2JhNzU5OTRmMzA4NDhkNWIxODQyZWQ2NTlkKTsKICAgICAgICAKICAgIAogICAgICAgIHZhciBwb3B1cF9hMWViYzUzZjQ0YmI0NzkwOTQ3M2ZiNTc2NDgxYmRmZiA9IEwucG9wdXAoeyJtYXhXaWR0aCI6ICIxMDAlIn0pOwoKICAgICAgICAKICAgICAgICAgICAgdmFyIGh0bWxfYWZjNDQwZDBmMzhkNDhkNjljYzQ4MTRkYjkzYzVmYTAgPSAkKGA8ZGl2IGlkPSJodG1sX2FmYzQ0MGQwZjM4ZDQ4ZDY5Y2M0ODE0ZGI5M2M1ZmEwIiBzdHlsZT0id2lkdGg6IDEwMC4wJTsgaGVpZ2h0OiAxMDAuMCU7Ij4xOTA8L2Rpdj5gKVswXTsKICAgICAgICAgICAgcG9wdXBfYTFlYmM1M2Y0NGJiNDc5MDk0NzNmYjU3NjQ4MWJkZmYuc2V0Q29udGVudChodG1sX2FmYzQ0MGQwZjM4ZDQ4ZDY5Y2M0ODE0ZGI5M2M1ZmEwKTsKICAgICAgICAKCiAgICAgICAgbWFya2VyX2NjZDdmM2RmMjUzZDRlOTliYWM2MGUxNjZjMGQ1NGI5LmJpbmRQb3B1cChwb3B1cF9hMWViYzUzZjQ0YmI0NzkwOTQ3M2ZiNTc2NDgxYmRmZikKICAgICAgICA7CgogICAgICAgIAogICAgCiAgICAKICAgICAgICAgICAgdmFyIG1hcmtlcl82MmMxZjA2ODM3OWQ0ZTUxYWE3NjRhNDg1MjIwYWQyZCA9IEwubWFya2VyKAogICAgICAgICAgICAgICAgWzQxLjkxMDE4NTM1OTkwMzk3LCAtODcuNzA5OTA3MDUxNzA1MDJdLAogICAgICAgICAgICAgICAge30KICAgICAgICAgICAgKS5hZGRUbyhtYXBfYmU0Y2ZjYmE3NTk5NGYzMDg0OGQ1YjE4NDJlZDY1OWQpOwogICAgICAgIAogICAgCiAgICAgICAgdmFyIHBvcHVwXzQzOTgxMjNmZjc1MTQ1Njc5Y2E2NjczNTk1MDk0ZWQ5ID0gTC5wb3B1cCh7Im1heFdpZHRoIjogIjEwMCUifSk7CgogICAgICAgIAogICAgICAgICAgICB2YXIgaHRtbF83OWJkMjI2MThlNDI0ZGVhOTk2YjAzMDUxOTkzMDA4OCA9ICQoYDxkaXYgaWQ9Imh0bWxfNzliZDIyNjE4ZTQyNGRlYTk5NmIwMzA1MTk5MzAwODgiIHN0eWxlPSJ3aWR0aDogMTAwLjAlOyBoZWlnaHQ6IDEwMC4wJTsiPjE5NDwvZGl2PmApWzBdOwogICAgICAgICAgICBwb3B1cF80Mzk4MTIzZmY3NTE0NTY3OWNhNjY3MzU5NTA5NGVkOS5zZXRDb250ZW50KGh0bWxfNzliZDIyNjE4ZTQyNGRlYTk5NmIwMzA1MTk5MzAwODgpOwogICAgICAgIAoKICAgICAgICBtYXJrZXJfNjJjMWYwNjgzNzlkNGU1MWFhNzY0YTQ4NTIyMGFkMmQuYmluZFBvcHVwKHBvcHVwXzQzOTgxMjNmZjc1MTQ1Njc5Y2E2NjczNTk1MDk0ZWQ5KQogICAgICAgIDsKCiAgICAgICAgCiAgICAKICAgIAogICAgICAgICAgICB2YXIgbWFya2VyXzk5MzIyOGI5MjZhNzRmY2ZiMjcxNzRiOTMzNTA3MDA2ID0gTC5tYXJrZXIoCiAgICAgICAgICAgICAgICBbNDEuODUwNDUxMDI0MjcsIC04Ny42NTg3OTc4NTU2Nzg2OV0sCiAgICAgICAgICAgICAgICB7fQogICAgICAgICAgICApLmFkZFRvKG1hcF9iZTRjZmNiYTc1OTk0ZjMwODQ4ZDViMTg0MmVkNjU5ZCk7CiAgICAgICAgCiAgICAKICAgICAgICB2YXIgcG9wdXBfZGM0ZjA5NDFkN2FjNDljZmEyNDc4MmQ1MzNkMDAxZmYgPSBMLnBvcHVwKHsibWF4V2lkdGgiOiAiMTAwJSJ9KTsKCiAgICAgICAgCiAgICAgICAgICAgIHZhciBodG1sX2UzMDM4NzEyMWVjYTQ3OGE4ODk1ZmQ4MWZiNWIxYmZlID0gJChgPGRpdiBpZD0iaHRtbF9lMzAzODcxMjFlY2E0NzhhODg5NWZkODFmYjViMWJmZSIgc3R5bGU9IndpZHRoOiAxMDAuMCU7IGhlaWdodDogMTAwLjAlOyI+MjAyPC9kaXY+YClbMF07CiAgICAgICAgICAgIHBvcHVwX2RjNGYwOTQxZDdhYzQ5Y2ZhMjQ3ODJkNTMzZDAwMWZmLnNldENvbnRlbnQoaHRtbF9lMzAzODcxMjFlY2E0NzhhODg5NWZkODFmYjViMWJmZSk7CiAgICAgICAgCgogICAgICAgIG1hcmtlcl85OTMyMjhiOTI2YTc0ZmNmYjI3MTc0YjkzMzUwNzAwNi5iaW5kUG9wdXAocG9wdXBfZGM0ZjA5NDFkN2FjNDljZmEyNDc4MmQ1MzNkMDAxZmYpCiAgICAgICAgOwoKICAgICAgICAKICAgIAogICAgCiAgICAgICAgICAgIHZhciBtYXJrZXJfYzk3NWI3Y2QwOTMwNGQyN2IwNzkyNzQ2NDBiMzBlODUgPSBMLm1hcmtlcigKICAgICAgICAgICAgICAgIFs0MS44OTY1ODUxOTExOTk1NiwgLTg3LjY0Mjk5NjE4MTcyNTAxXSwKICAgICAgICAgICAgICAgIHt9CiAgICAgICAgICAgICkuYWRkVG8obWFwX2JlNGNmY2JhNzU5OTRmMzA4NDhkNWIxODQyZWQ2NTlkKTsKICAgICAgICAKICAgIAogICAgICAgIHZhciBwb3B1cF9kZWIyM2Q2ZjQwMzE0NDUwYTEyMWVkMjQwMjNmMTg1MCA9IEwucG9wdXAoeyJtYXhXaWR0aCI6ICIxMDAlIn0pOwoKICAgICAgICAKICAgICAgICAgICAgdmFyIGh0bWxfNGY3OGQ3MzIxMjQ4NGQwNWJlZDRjMDcxOWRkZjRmMTQgPSAkKGA8ZGl2IGlkPSJodG1sXzRmNzhkNzMyMTI0ODRkMDViZWQ0YzA3MTlkZGY0ZjE0IiBzdHlsZT0id2lkdGg6IDEwMC4wJTsgaGVpZ2h0OiAxMDAuMCU7Ij4yMDM8L2Rpdj5gKVswXTsKICAgICAgICAgICAgcG9wdXBfZGViMjNkNmY0MDMxNDQ1MGExMjFlZDI0MDIzZjE4NTAuc2V0Q29udGVudChodG1sXzRmNzhkNzMyMTI0ODRkMDViZWQ0YzA3MTlkZGY0ZjE0KTsKICAgICAgICAKCiAgICAgICAgbWFya2VyX2M5NzViN2NkMDkzMDRkMjdiMDc5Mjc0NjQwYjMwZTg1LmJpbmRQb3B1cChwb3B1cF9kZWIyM2Q2ZjQwMzE0NDUwYTEyMWVkMjQwMjNmMTg1MCkKICAgICAgICA7CgogICAgICAgIAogICAgCiAgICAKICAgICAgICAgICAgdmFyIG1hcmtlcl8zM2M3MjQzMjE3MWU0NDk2OGI5MDkzODZiZTU1NWUyNCA9IEwubWFya2VyKAogICAgICAgICAgICAgICAgWzQxLjc5Mzk4MjQxNjg2NDI4LCAtODcuNzIzMzI3ODAxNzU5OTVdLAogICAgICAgICAgICAgICAge30KICAgICAgICAgICAgKS5hZGRUbyhtYXBfYmU0Y2ZjYmE3NTk5NGYzMDg0OGQ1YjE4NDJlZDY1OWQpOwogICAgICAgIAogICAgCiAgICAgICAgdmFyIHBvcHVwX2Y0NzkwYzViZjVkMTRkYzdhZmI0YTI2NDM3YmY3MDFhID0gTC5wb3B1cCh7Im1heFdpZHRoIjogIjEwMCUifSk7CgogICAgICAgIAogICAgICAgICAgICB2YXIgaHRtbF8yOTFjOTBjZGY2N2I0NDgyYjg3NzlkOGMxNDMxZTkxMiA9ICQoYDxkaXYgaWQ9Imh0bWxfMjkxYzkwY2RmNjdiNDQ4MmI4Nzc5ZDhjMTQzMWU5MTIiIHN0eWxlPSJ3aWR0aDogMTAwLjAlOyBoZWlnaHQ6IDEwMC4wJTsiPjIwNjwvZGl2PmApWzBdOwogICAgICAgICAgICBwb3B1cF9mNDc5MGM1YmY1ZDE0ZGM3YWZiNGEyNjQzN2JmNzAxYS5zZXRDb250ZW50KGh0bWxfMjkxYzkwY2RmNjdiNDQ4MmI4Nzc5ZDhjMTQzMWU5MTIpOwogICAgICAgIAoKICAgICAgICBtYXJrZXJfMzNjNzI0MzIxNzFlNDQ5NjhiOTA5Mzg2YmU1NTVlMjQuYmluZFBvcHVwKHBvcHVwX2Y0NzkwYzViZjVkMTRkYzdhZmI0YTI2NDM3YmY3MDFhKQogICAgICAgIDsKCiAgICAgICAgCiAgICAKICAgIAogICAgICAgICAgICB2YXIgbWFya2VyXzViYmY5MTdkYzQwMzRiMWE4Y2ZiOTc5N2MyMzU1YTFmID0gTC5tYXJrZXIoCiAgICAgICAgICAgICAgICBbNDEuODk3MzMyMzczMjQ5OTc0LCAtODcuNzUwNjE0MTY2MDM3NTZdLAogICAgICAgICAgICAgICAge30KICAgICAgICAgICAgKS5hZGRUbyhtYXBfYmU0Y2ZjYmE3NTk5NGYzMDg0OGQ1YjE4NDJlZDY1OWQpOwogICAgICAgIAogICAgCiAgICAgICAgdmFyIHBvcHVwXzA5NzUwNTU2MWY4MTQwZDc4NTg1NDAyY2QyZjkwODc0ID0gTC5wb3B1cCh7Im1heFdpZHRoIjogIjEwMCUifSk7CgogICAgICAgIAogICAgICAgICAgICB2YXIgaHRtbF8zOGMwYzcwMjM3MTY0OTE5ODcwZmU1MGE5ZGNlZjNmNSA9ICQoYDxkaXYgaWQ9Imh0bWxfMzhjMGM3MDIzNzE2NDkxOTg3MGZlNTBhOWRjZWYzZjUiIHN0eWxlPSJ3aWR0aDogMTAwLjAlOyBoZWlnaHQ6IDEwMC4wJTsiPjIxOTwvZGl2PmApWzBdOwogICAgICAgICAgICBwb3B1cF8wOTc1MDU1NjFmODE0MGQ3ODU4NTQwMmNkMmY5MDg3NC5zZXRDb250ZW50KGh0bWxfMzhjMGM3MDIzNzE2NDkxOTg3MGZlNTBhOWRjZWYzZjUpOwogICAgICAgIAoKICAgICAgICBtYXJrZXJfNWJiZjkxN2RjNDAzNGIxYThjZmI5Nzk3YzIzNTVhMWYuYmluZFBvcHVwKHBvcHVwXzA5NzUwNTU2MWY4MTQwZDc4NTg1NDAyY2QyZjkwODc0KQogICAgICAgIDsKCiAgICAgICAgCiAgICAKICAgIAogICAgICAgICAgICB2YXIgbWFya2VyXzRkYTcwODcxYjYyZDQ0YTY4MmMxMWZiMGVlZGQ1Yjg5ID0gTC5tYXJrZXIoCiAgICAgICAgICAgICAgICBbNDEuOTIxNjU0OTg0NzI5NDUsIC04Ny42ODczOTEyODExMzE0XSwKICAgICAgICAgICAgICAgIHt9CiAgICAgICAgICAgICkuYWRkVG8obWFwX2JlNGNmY2JhNzU5OTRmMzA4NDhkNWIxODQyZWQ2NTlkKTsKICAgICAgICAKICAgIAogICAgICAgIHZhciBwb3B1cF82YjYyMjk3ODM4NTQ0NDhhYjkyZTI3NTEwNThkZmRjOSA9IEwucG9wdXAoeyJtYXhXaWR0aCI6ICIxMDAlIn0pOwoKICAgICAgICAKICAgICAgICAgICAgdmFyIGh0bWxfZjlmNWI5MjE0NDA0NDlmODhmNTRhMmJkOGFiOTA4ZmUgPSAkKGA8ZGl2IGlkPSJodG1sX2Y5ZjViOTIxNDQwNDQ5Zjg4ZjU0YTJiZDhhYjkwOGZlIiBzdHlsZT0id2lkdGg6IDEwMC4wJTsgaGVpZ2h0OiAxMDAuMCU7Ij4yMjU8L2Rpdj5gKVswXTsKICAgICAgICAgICAgcG9wdXBfNmI2MjI5NzgzODU0NDQ4YWI5MmUyNzUxMDU4ZGZkYzkuc2V0Q29udGVudChodG1sX2Y5ZjViOTIxNDQwNDQ5Zjg4ZjU0YTJiZDhhYjkwOGZlKTsKICAgICAgICAKCiAgICAgICAgbWFya2VyXzRkYTcwODcxYjYyZDQ0YTY4MmMxMWZiMGVlZGQ1Yjg5LmJpbmRQb3B1cChwb3B1cF82YjYyMjk3ODM4NTQ0NDhhYjkyZTI3NTEwNThkZmRjOSkKICAgICAgICA7CgogICAgICAgIAogICAgCiAgICAKICAgICAgICAgICAgdmFyIG1hcmtlcl9jZWExOTc2YTdmYWU0ZjNhOTE3ZDVmZTlmYzg1NjRmYSA9IEwubWFya2VyKAogICAgICAgICAgICAgICAgWzQxLjkyMzk5MDg4Nzc2ODMyNiwgLTg3Ljc1NjUxOTE0MTExMjg4XSwKICAgICAgICAgICAgICAgIHt9CiAgICAgICAgICAgICkuYWRkVG8obWFwX2JlNGNmY2JhNzU5OTRmMzA4NDhkNWIxODQyZWQ2NTlkKTsKICAgICAgICAKICAgIAogICAgICAgIHZhciBwb3B1cF9hMDYxYTc2MzA3Nzk0MjJkYTZjYzZiZTZhOGU0MjdjNCA9IEwucG9wdXAoeyJtYXhXaWR0aCI6ICIxMDAlIn0pOwoKICAgICAgICAKICAgICAgICAgICAgdmFyIGh0bWxfM2RiNjVkYjAyZWJhNGUwYWEwZWFjYWI0ZWZjNjBjZjMgPSAkKGA8ZGl2IGlkPSJodG1sXzNkYjY1ZGIwMmViYTRlMGFhMGVhY2FiNGVmYzYwY2YzIiBzdHlsZT0id2lkdGg6IDEwMC4wJTsgaGVpZ2h0OiAxMDAuMCU7Ij4yMjg8L2Rpdj5gKVswXTsKICAgICAgICAgICAgcG9wdXBfYTA2MWE3NjMwNzc5NDIyZGE2Y2M2YmU2YThlNDI3YzQuc2V0Q29udGVudChodG1sXzNkYjY1ZGIwMmViYTRlMGFhMGVhY2FiNGVmYzYwY2YzKTsKICAgICAgICAKCiAgICAgICAgbWFya2VyX2NlYTE5NzZhN2ZhZTRmM2E5MTdkNWZlOWZjODU2NGZhLmJpbmRQb3B1cChwb3B1cF9hMDYxYTc2MzA3Nzk0MjJkYTZjYzZiZTZhOGU0MjdjNCkKICAgICAgICA7CgogICAgICAgIAogICAgCiAgICAKICAgICAgICAgICAgdmFyIG1hcmtlcl80YmRiYzA3OGMxNWY0NGI5YWIyM2M4MWE0ZGFjY2E4OCA9IEwubWFya2VyKAogICAgICAgICAgICAgICAgWzQxLjkwMzMxNDQ0MTA5NjQ5LCAtODcuNjc2NDE2NzE5MTAwM10sCiAgICAgICAgICAgICAgICB7fQogICAgICAgICAgICApLmFkZFRvKG1hcF9iZTRjZmNiYTc1OTk0ZjMwODQ4ZDViMTg0MmVkNjU5ZCk7CiAgICAgICAgCiAgICAKICAgICAgICB2YXIgcG9wdXBfYmM5Y2UzMTkyZDE3NGMyMzgwNmFkOGE0OTRmYWZjMmYgPSBMLnBvcHVwKHsibWF4V2lkdGgiOiAiMTAwJSJ9KTsKCiAgICAgICAgCiAgICAgICAgICAgIHZhciBodG1sXzIzNDZmODhlYWUzNzQ5OGQ5NmFjZDM3YjYyZjJiMDVkID0gJChgPGRpdiBpZD0iaHRtbF8yMzQ2Zjg4ZWFlMzc0OThkOTZhY2QzN2I2MmYyYjA1ZCIgc3R5bGU9IndpZHRoOiAxMDAuMCU7IGhlaWdodDogMTAwLjAlOyI+MjMxPC9kaXY+YClbMF07CiAgICAgICAgICAgIHBvcHVwX2JjOWNlMzE5MmQxNzRjMjM4MDZhZDhhNDk0ZmFmYzJmLnNldENvbnRlbnQoaHRtbF8yMzQ2Zjg4ZWFlMzc0OThkOTZhY2QzN2I2MmYyYjA1ZCk7CiAgICAgICAgCgogICAgICAgIG1hcmtlcl80YmRiYzA3OGMxNWY0NGI5YWIyM2M4MWE0ZGFjY2E4OC5iaW5kUG9wdXAocG9wdXBfYmM5Y2UzMTkyZDE3NGMyMzgwNmFkOGE0OTRmYWZjMmYpCiAgICAgICAgOwoKICAgICAgICAKICAgIAogICAgCiAgICAgICAgICAgIHZhciBtYXJrZXJfNTNkYWY3MTBkMTFkNDcxODkzZGM5MjFkYTNlMWYyMGIgPSBMLm1hcmtlcigKICAgICAgICAgICAgICAgIFs0MS44MzI0NDgzMTY2MDA0NSwgLTg3LjY2NTc1MzgyMjcwMDMxXSwKICAgICAgICAgICAgICAgIHt9CiAgICAgICAgICAgICkuYWRkVG8obWFwX2JlNGNmY2JhNzU5OTRmMzA4NDhkNWIxODQyZWQ2NTlkKTsKICAgICAgICAKICAgIAogICAgICAgIHZhciBwb3B1cF82ZWM1MzNkMWZkMmM0NGU3OWMyNDEyNDRiNDgyNmRhNCA9IEwucG9wdXAoeyJtYXhXaWR0aCI6ICIxMDAlIn0pOwoKICAgICAgICAKICAgICAgICAgICAgdmFyIGh0bWxfNDdiNjI1NzliNWZhNDk1ZWExM2JlOGYzNjUzNjM2OTUgPSAkKGA8ZGl2IGlkPSJodG1sXzQ3YjYyNTc5YjVmYTQ5NWVhMTNiZThmMzY1MzYzNjk1IiBzdHlsZT0id2lkdGg6IDEwMC4wJTsgaGVpZ2h0OiAxMDAuMCU7Ij4yMzM8L2Rpdj5gKVswXTsKICAgICAgICAgICAgcG9wdXBfNmVjNTMzZDFmZDJjNDRlNzljMjQxMjQ0YjQ4MjZkYTQuc2V0Q29udGVudChodG1sXzQ3YjYyNTc5YjVmYTQ5NWVhMTNiZThmMzY1MzYzNjk1KTsKICAgICAgICAKCiAgICAgICAgbWFya2VyXzUzZGFmNzEwZDExZDQ3MTg5M2RjOTIxZGEzZTFmMjBiLmJpbmRQb3B1cChwb3B1cF82ZWM1MzNkMWZkMmM0NGU3OWMyNDEyNDRiNDgyNmRhNCkKICAgICAgICA7CgogICAgICAgIAogICAgCiAgICAKICAgICAgICAgICAgdmFyIG1hcmtlcl9kOWMxNDc1Y2Q3ZjE0ZWNhYTk2YWYzMzFjM2I4N2FkZCA9IEwubWFya2VyKAogICAgICAgICAgICAgICAgWzQxLjc2Njg3MTQ0OTM5OTY0NSwgLTg3LjcyMjMxNjgzOTIyNTE3XSwKICAgICAgICAgICAgICAgIHt9CiAgICAgICAgICAgICkuYWRkVG8obWFwX2JlNGNmY2JhNzU5OTRmMzA4NDhkNWIxODQyZWQ2NTlkKTsKICAgICAgICAKICAgIAogICAgICAgIHZhciBwb3B1cF9lMWFiM2EwNjE0Yzg0ZmVlOTVjNTNkZGRjOGFlYTNlYSA9IEwucG9wdXAoeyJtYXhXaWR0aCI6ICIxMDAlIn0pOwoKICAgICAgICAKICAgICAgICAgICAgdmFyIGh0bWxfNGQ4NjJjNmFjNzQzNGY1ODkzYmQ4NTljYzM1MjQ3MjQgPSAkKGA8ZGl2IGlkPSJodG1sXzRkODYyYzZhYzc0MzRmNTg5M2JkODU5Y2MzNTI0NzI0IiBzdHlsZT0id2lkdGg6IDEwMC4wJTsgaGVpZ2h0OiAxMDAuMCU7Ij4yNDE8L2Rpdj5gKVswXTsKICAgICAgICAgICAgcG9wdXBfZTFhYjNhMDYxNGM4NGZlZTk1YzUzZGRkYzhhZWEzZWEuc2V0Q29udGVudChodG1sXzRkODYyYzZhYzc0MzRmNTg5M2JkODU5Y2MzNTI0NzI0KTsKICAgICAgICAKCiAgICAgICAgbWFya2VyX2Q5YzE0NzVjZDdmMTRlY2FhOTZhZjMzMWMzYjg3YWRkLmJpbmRQb3B1cChwb3B1cF9lMWFiM2EwNjE0Yzg0ZmVlOTVjNTNkZGRjOGFlYTNlYSkKICAgICAgICA7CgogICAgICAgIAogICAgCiAgICAKICAgICAgICAgICAgdmFyIG1hcmtlcl8wNjQ1MTNiMzhhZTE0NDljYmJjMGM2NTA3MjE0YzY3YyA9IEwubWFya2VyKAogICAgICAgICAgICAgICAgWzQxLjg2NDAxODczNzMxOTY1NCwgLTg3LjcxMTEyNjI4NDM1NTk4XSwKICAgICAgICAgICAgICAgIHt9CiAgICAgICAgICAgICkuYWRkVG8obWFwX2JlNGNmY2JhNzU5OTRmMzA4NDhkNWIxODQyZWQ2NTlkKTsKICAgICAgICAKICAgIAogICAgICAgIHZhciBwb3B1cF9lZDQ3YzIyNTczZDg0Njc0YjY4ODhkOGY0NjllOWRhMSA9IEwucG9wdXAoeyJtYXhXaWR0aCI6ICIxMDAlIn0pOwoKICAgICAgICAKICAgICAgICAgICAgdmFyIGh0bWxfOThlYzQ5ZjZkMzhkNGU5ZGExNTBhOGRmMDkxODViNTQgPSAkKGA8ZGl2IGlkPSJodG1sXzk4ZWM0OWY2ZDM4ZDRlOWRhMTUwYThkZjA5MTg1YjU0IiBzdHlsZT0id2lkdGg6IDEwMC4wJTsgaGVpZ2h0OiAxMDAuMCU7Ij4yNTI8L2Rpdj5gKVswXTsKICAgICAgICAgICAgcG9wdXBfZWQ0N2MyMjU3M2Q4NDY3NGI2ODg4ZDhmNDY5ZTlkYTEuc2V0Q29udGVudChodG1sXzk4ZWM0OWY2ZDM4ZDRlOWRhMTUwYThkZjA5MTg1YjU0KTsKICAgICAgICAKCiAgICAgICAgbWFya2VyXzA2NDUxM2IzOGFlMTQ0OWNiYmMwYzY1MDcyMTRjNjdjLmJpbmRQb3B1cChwb3B1cF9lZDQ3YzIyNTczZDg0Njc0YjY4ODhkOGY0NjllOWRhMSkKICAgICAgICA7CgogICAgICAgIAogICAgCiAgICAKICAgICAgICAgICAgdmFyIG1hcmtlcl83ZWMzY2QzMTI2YTU0N2QyYWJkNDI1N2FlNGQ4M2RmMyA9IEwubWFya2VyKAogICAgICAgICAgICAgICAgWzQxLjg2NDAxODczNzMxOTY1NCwgLTg3LjcxMTEyNjI4NDM1NTk4XSwKICAgICAgICAgICAgICAgIHt9CiAgICAgICAgICAgICkuYWRkVG8obWFwX2JlNGNmY2JhNzU5OTRmMzA4NDhkNWIxODQyZWQ2NTlkKTsKICAgICAgICAKICAgIAogICAgICAgIHZhciBwb3B1cF8zOTI0ZmFhZDM4Nzk0NGVmODRkMmU5MTM1OTJmNWViZiA9IEwucG9wdXAoeyJtYXhXaWR0aCI6ICIxMDAlIn0pOwoKICAgICAgICAKICAgICAgICAgICAgdmFyIGh0bWxfNDM2NWQ3ZGU2NzBhNGM2NzhiZTg1ZDU1OWVjNzhiOTggPSAkKGA8ZGl2IGlkPSJodG1sXzQzNjVkN2RlNjcwYTRjNjc4YmU4NWQ1NTllYzc4Yjk4IiBzdHlsZT0id2lkdGg6IDEwMC4wJTsgaGVpZ2h0OiAxMDAuMCU7Ij4yNTU8L2Rpdj5gKVswXTsKICAgICAgICAgICAgcG9wdXBfMzkyNGZhYWQzODc5NDRlZjg0ZDJlOTEzNTkyZjVlYmYuc2V0Q29udGVudChodG1sXzQzNjVkN2RlNjcwYTRjNjc4YmU4NWQ1NTllYzc4Yjk4KTsKICAgICAgICAKCiAgICAgICAgbWFya2VyXzdlYzNjZDMxMjZhNTQ3ZDJhYmQ0MjU3YWU0ZDgzZGYzLmJpbmRQb3B1cChwb3B1cF8zOTI0ZmFhZDM4Nzk0NGVmODRkMmU5MTM1OTJmNWViZikKICAgICAgICA7CgogICAgICAgIAogICAgCiAgICAKICAgICAgICAgICAgdmFyIG1hcmtlcl9lOWFiZWVlYzEyNmM0NDYxYTFlZTgxOGRiZjIyYTFkNCA9IEwubWFya2VyKAogICAgICAgICAgICAgICAgWzQxLjc3NzUwOTQxMzY4OTUyLCAtODcuNjgzNDQ5NTkzNTcxOTRdLAogICAgICAgICAgICAgICAge30KICAgICAgICAgICAgKS5hZGRUbyhtYXBfYmU0Y2ZjYmE3NTk5NGYzMDg0OGQ1YjE4NDJlZDY1OWQpOwogICAgICAgIAogICAgCiAgICAgICAgdmFyIHBvcHVwXzkyM2U5OTlkY2VkZjQ3ZTViNDBhZDY4YTU4NWE2YTFmID0gTC5wb3B1cCh7Im1heFdpZHRoIjogIjEwMCUifSk7CgogICAgICAgIAogICAgICAgICAgICB2YXIgaHRtbF85YjM1MmVjNTI0YTY0NTExOWZlMGNjM2RmMjY1MDY2NiA9ICQoYDxkaXYgaWQ9Imh0bWxfOWIzNTJlYzUyNGE2NDUxMTlmZTBjYzNkZjI2NTA2NjYiIHN0eWxlPSJ3aWR0aDogMTAwLjAlOyBoZWlnaHQ6IDEwMC4wJTsiPjI2MzwvZGl2PmApWzBdOwogICAgICAgICAgICBwb3B1cF85MjNlOTk5ZGNlZGY0N2U1YjQwYWQ2OGE1ODVhNmExZi5zZXRDb250ZW50KGh0bWxfOWIzNTJlYzUyNGE2NDUxMTlmZTBjYzNkZjI2NTA2NjYpOwogICAgICAgIAoKICAgICAgICBtYXJrZXJfZTlhYmVlZWMxMjZjNDQ2MWExZWU4MThkYmYyMmExZDQuYmluZFBvcHVwKHBvcHVwXzkyM2U5OTlkY2VkZjQ3ZTViNDBhZDY4YTU4NWE2YTFmKQogICAgICAgIDsKCiAgICAgICAgCiAgICAKICAgIAogICAgICAgICAgICB2YXIgbWFya2VyXzQ3YTViNjZkZTdlMTQ1NzM4NDY0ZTAzZDY2ZWZkY2Y1ID0gTC5tYXJrZXIoCiAgICAgICAgICAgICAgICBbNDEuODExOTg5NTk5OTg3MTE1LCAtODcuNzQzMTI4MjQ4MzUzNjNdLAogICAgICAgICAgICAgICAge30KICAgICAgICAgICAgKS5hZGRUbyhtYXBfYmU0Y2ZjYmE3NTk5NGYzMDg0OGQ1YjE4NDJlZDY1OWQpOwogICAgICAgIAogICAgCiAgICAgICAgdmFyIHBvcHVwXzNiODY5YzYwNDRkMDRjZThiMzA4YTE2OTgxODk3YTY2ID0gTC5wb3B1cCh7Im1heFdpZHRoIjogIjEwMCUifSk7CgogICAgICAgIAogICAgICAgICAgICB2YXIgaHRtbF81ZWY0ODZmMzZjYTY0OWE3OTZkYTBhZWE0ZDdjZTY4OSA9ICQoYDxkaXYgaWQ9Imh0bWxfNWVmNDg2ZjM2Y2E2NDlhNzk2ZGEwYWVhNGQ3Y2U2ODkiIHN0eWxlPSJ3aWR0aDogMTAwLjAlOyBoZWlnaHQ6IDEwMC4wJTsiPjI2NTwvZGl2PmApWzBdOwogICAgICAgICAgICBwb3B1cF8zYjg2OWM2MDQ0ZDA0Y2U4YjMwOGExNjk4MTg5N2E2Ni5zZXRDb250ZW50KGh0bWxfNWVmNDg2ZjM2Y2E2NDlhNzk2ZGEwYWVhNGQ3Y2U2ODkpOwogICAgICAgIAoKICAgICAgICBtYXJrZXJfNDdhNWI2NmRlN2UxNDU3Mzg0NjRlMDNkNjZlZmRjZjUuYmluZFBvcHVwKHBvcHVwXzNiODY5YzYwNDRkMDRjZThiMzA4YTE2OTgxODk3YTY2KQogICAgICAgIDsKCiAgICAgICAgCiAgICAKICAgIAogICAgICAgICAgICB2YXIgbWFya2VyXzhmN2I2YzY0ZmQ4MzQ5ODhhNTg4YTJhMDBhMTNhNjRkID0gTC5tYXJrZXIoCiAgICAgICAgICAgICAgICBbNDEuOTE3NTU3MzE3NzI1NTQ2LCAtODcuNjgyNjY0Mzk1Mzk0OTJdLAogICAgICAgICAgICAgICAge30KICAgICAgICAgICAgKS5hZGRUbyhtYXBfYmU0Y2ZjYmE3NTk5NGYzMDg0OGQ1YjE4NDJlZDY1OWQpOwogICAgICAgIAogICAgCiAgICAgICAgdmFyIHBvcHVwXzk5ZGRjY2U5ZTkyODRjZDI5NjBjNzUyZTkzYTZjMzg1ID0gTC5wb3B1cCh7Im1heFdpZHRoIjogIjEwMCUifSk7CgogICAgICAgIAogICAgICAgICAgICB2YXIgaHRtbF9kZWViOGY0MWU3NmU0YjkzYWFlNjIyYWQ5MWM5Yzk0MCA9ICQoYDxkaXYgaWQ9Imh0bWxfZGVlYjhmNDFlNzZlNGI5M2FhZTYyMmFkOTFjOWM5NDAiIHN0eWxlPSJ3aWR0aDogMTAwLjAlOyBoZWlnaHQ6IDEwMC4wJTsiPjI3NzwvZGl2PmApWzBdOwogICAgICAgICAgICBwb3B1cF85OWRkY2NlOWU5Mjg0Y2QyOTYwYzc1MmU5M2E2YzM4NS5zZXRDb250ZW50KGh0bWxfZGVlYjhmNDFlNzZlNGI5M2FhZTYyMmFkOTFjOWM5NDApOwogICAgICAgIAoKICAgICAgICBtYXJrZXJfOGY3YjZjNjRmZDgzNDk4OGE1ODhhMmEwMGExM2E2NGQuYmluZFBvcHVwKHBvcHVwXzk5ZGRjY2U5ZTkyODRjZDI5NjBjNzUyZTkzYTZjMzg1KQogICAgICAgIDsKCiAgICAgICAgCiAgICAKICAgIAogICAgICAgICAgICB2YXIgbWFya2VyX2ExNzA1NmM2YWY5NjQ1M2ZiNDAxNGNmZTIzNzRjZDNjID0gTC5tYXJrZXIoCiAgICAgICAgICAgICAgICBbNDEuOTY2NzQwOTg1NDIxMTU0LCAtODcuNjg3MTUzNTU3MDM3NzldLAogICAgICAgICAgICAgICAge30KICAgICAgICAgICAgKS5hZGRUbyhtYXBfYmU0Y2ZjYmE3NTk5NGYzMDg0OGQ1YjE4NDJlZDY1OWQpOwogICAgICAgIAogICAgCiAgICAgICAgdmFyIHBvcHVwX2RlYWU3ZTRiMTRlNDQ4OGQ5YTIzOGRlNDU0ZmJkZGEzID0gTC5wb3B1cCh7Im1heFdpZHRoIjogIjEwMCUifSk7CgogICAgICAgIAogICAgICAgICAgICB2YXIgaHRtbF83YTRlMmFiMmE3NzQ0ZjY1OGU3MjNlMDk0NmUzZmFkZiA9ICQoYDxkaXYgaWQ9Imh0bWxfN2E0ZTJhYjJhNzc0NGY2NThlNzIzZTA5NDZlM2ZhZGYiIHN0eWxlPSJ3aWR0aDogMTAwLjAlOyBoZWlnaHQ6IDEwMC4wJTsiPjI5MzwvZGl2PmApWzBdOwogICAgICAgICAgICBwb3B1cF9kZWFlN2U0YjE0ZTQ0ODhkOWEyMzhkZTQ1NGZiZGRhMy5zZXRDb250ZW50KGh0bWxfN2E0ZTJhYjJhNzc0NGY2NThlNzIzZTA5NDZlM2ZhZGYpOwogICAgICAgIAoKICAgICAgICBtYXJrZXJfYTE3MDU2YzZhZjk2NDUzZmI0MDE0Y2ZlMjM3NGNkM2MuYmluZFBvcHVwKHBvcHVwX2RlYWU3ZTRiMTRlNDQ4OGQ5YTIzOGRlNDU0ZmJkZGEzKQogICAgICAgIDsKCiAgICAgICAgCiAgICAKICAgIAogICAgICAgICAgICB2YXIgbWFya2VyXzE5OGNhNmI4ZjZiMjRiOTVhZWZmNzUxYjEyYWJkZWViID0gTC5tYXJrZXIoCiAgICAgICAgICAgICAgICBbNDEuODg1NTMzNTUxMDIxMTU1LCAtODcuNzI1OTUyOTA2NzY4M10sCiAgICAgICAgICAgICAgICB7fQogICAgICAgICAgICApLmFkZFRvKG1hcF9iZTRjZmNiYTc1OTk0ZjMwODQ4ZDViMTg0MmVkNjU5ZCk7CiAgICAgICAgCiAgICAKICAgICAgICB2YXIgcG9wdXBfMTA4ODA1OWI2NTA1NDFiZDk3ZTAyOWE0NjJhZjY0NjUgPSBMLnBvcHVwKHsibWF4V2lkdGgiOiAiMTAwJSJ9KTsKCiAgICAgICAgCiAgICAgICAgICAgIHZhciBodG1sX2IwZGFmOTRhYmRlYzRjOGRiMTcxYTFjMTViZjg1OTQ0ID0gJChgPGRpdiBpZD0iaHRtbF9iMGRhZjk0YWJkZWM0YzhkYjE3MWExYzE1YmY4NTk0NCIgc3R5bGU9IndpZHRoOiAxMDAuMCU7IGhlaWdodDogMTAwLjAlOyI+Mjk4PC9kaXY+YClbMF07CiAgICAgICAgICAgIHBvcHVwXzEwODgwNTliNjUwNTQxYmQ5N2UwMjlhNDYyYWY2NDY1LnNldENvbnRlbnQoaHRtbF9iMGRhZjk0YWJkZWM0YzhkYjE3MWExYzE1YmY4NTk0NCk7CiAgICAgICAgCgogICAgICAgIG1hcmtlcl8xOThjYTZiOGY2YjI0Yjk1YWVmZjc1MWIxMmFiZGVlYi5iaW5kUG9wdXAocG9wdXBfMTA4ODA1OWI2NTA1NDFiZDk3ZTAyOWE0NjJhZjY0NjUpCiAgICAgICAgOwoKICAgICAgICAKICAgIAogICAgCiAgICAgICAgICAgIHZhciBtYXJrZXJfYWQyYTIxOWM3ZTI0NDA3MWI1MjUwNmVkYjIyZjIzMDkgPSBMLm1hcmtlcigKICAgICAgICAgICAgICAgIFs0MS45MTcyODgwMjA2NTk5MywgLTg3LjcwNzM3MjcwMTIyNjQ1XSwKICAgICAgICAgICAgICAgIHt9CiAgICAgICAgICAgICkuYWRkVG8obWFwX2JlNGNmY2JhNzU5OTRmMzA4NDhkNWIxODQyZWQ2NTlkKTsKICAgICAgICAKICAgIAogICAgICAgIHZhciBwb3B1cF83YjY4YmVhNmE2N2Q0NmMxODk1ODY5YTU5NTRkNmY3ZSA9IEwucG9wdXAoeyJtYXhXaWR0aCI6ICIxMDAlIn0pOwoKICAgICAgICAKICAgICAgICAgICAgdmFyIGh0bWxfMWFjNTVkMGQ4OTZkNGU0MWEyMjc3YjE5MjhiN2RiMmMgPSAkKGA8ZGl2IGlkPSJodG1sXzFhYzU1ZDBkODk2ZDRlNDFhMjI3N2IxOTI4YjdkYjJjIiBzdHlsZT0id2lkdGg6IDEwMC4wJTsgaGVpZ2h0OiAxMDAuMCU7Ij4yOTk8L2Rpdj5gKVswXTsKICAgICAgICAgICAgcG9wdXBfN2I2OGJlYTZhNjdkNDZjMTg5NTg2OWE1OTU0ZDZmN2Uuc2V0Q29udGVudChodG1sXzFhYzU1ZDBkODk2ZDRlNDFhMjI3N2IxOTI4YjdkYjJjKTsKICAgICAgICAKCiAgICAgICAgbWFya2VyX2FkMmEyMTljN2UyNDQwNzFiNTI1MDZlZGIyMmYyMzA5LmJpbmRQb3B1cChwb3B1cF83YjY4YmVhNmE2N2Q0NmMxODk1ODY5YTU5NTRkNmY3ZSkKICAgICAgICA7CgogICAgICAgIAogICAgCiAgICAKICAgICAgICAgICAgdmFyIG1hcmtlcl8zMjkxY2Y2YWZmYTQ0OGMyOWMzMTA2OTVlYmY1M2YzYiA9IEwubWFya2VyKAogICAgICAgICAgICAgICAgWzQyLjAwODUzNjQwMDg2ODczNSwgLTg3LjkxNDQyODQzOTI3MDQ4XSwKICAgICAgICAgICAgICAgIHt9CiAgICAgICAgICAgICkuYWRkVG8obWFwX2JlNGNmY2JhNzU5OTRmMzA4NDhkNWIxODQyZWQ2NTlkKTsKICAgICAgICAKICAgIAogICAgICAgIHZhciBwb3B1cF81YTY4NzFkMzNiNDg0MGUzYjU1NDZmMjQ1YjkzYWQ1MSA9IEwucG9wdXAoeyJtYXhXaWR0aCI6ICIxMDAlIn0pOwoKICAgICAgICAKICAgICAgICAgICAgdmFyIGh0bWxfZmVlOTI0YTYwMTM3NGExYjhjM2VmY2RjZDU1NzU2NTUgPSAkKGA8ZGl2IGlkPSJodG1sX2ZlZTkyNGE2MDEzNzRhMWI4YzNlZmNkY2Q1NTc1NjU1IiBzdHlsZT0id2lkdGg6IDEwMC4wJTsgaGVpZ2h0OiAxMDAuMCU7Ij4zMDc8L2Rpdj5gKVswXTsKICAgICAgICAgICAgcG9wdXBfNWE2ODcxZDMzYjQ4NDBlM2I1NTQ2ZjI0NWI5M2FkNTEuc2V0Q29udGVudChodG1sX2ZlZTkyNGE2MDEzNzRhMWI4YzNlZmNkY2Q1NTc1NjU1KTsKICAgICAgICAKCiAgICAgICAgbWFya2VyXzMyOTFjZjZhZmZhNDQ4YzI5YzMxMDY5NWViZjUzZjNiLmJpbmRQb3B1cChwb3B1cF81YTY4NzFkMzNiNDg0MGUzYjU1NDZmMjQ1YjkzYWQ1MSkKICAgICAgICA7CgogICAgICAgIAogICAgCiAgICAKICAgICAgICAgICAgdmFyIG1hcmtlcl9mODg3YzZjNjU5ZTQ0ZGMzOWI1MDk4YTlhNzk4ZTI3MiA9IEwubWFya2VyKAogICAgICAgICAgICAgICAgWzQxLjkyMTg0ODM4NDQ1ODQzLCAtODcuNjk3MTc4MTkxMTY4MjldLAogICAgICAgICAgICAgICAge30KICAgICAgICAgICAgKS5hZGRUbyhtYXBfYmU0Y2ZjYmE3NTk5NGYzMDg0OGQ1YjE4NDJlZDY1OWQpOwogICAgICAgIAogICAgCiAgICAgICAgdmFyIHBvcHVwXzg2Y2U0OWJiNjFhZjQwMDA5NGM4ZjA1NDU3YzgzYWZjID0gTC5wb3B1cCh7Im1heFdpZHRoIjogIjEwMCUifSk7CgogICAgICAgIAogICAgICAgICAgICB2YXIgaHRtbF81YzRiMjg3M2RmZDI0MjU5YjI1YmFmYzQ1NmVkNjU1NiA9ICQoYDxkaXYgaWQ9Imh0bWxfNWM0YjI4NzNkZmQyNDI1OWIyNWJhZmM0NTZlZDY1NTYiIHN0eWxlPSJ3aWR0aDogMTAwLjAlOyBoZWlnaHQ6IDEwMC4wJTsiPjMxMjwvZGl2PmApWzBdOwogICAgICAgICAgICBwb3B1cF84NmNlNDliYjYxYWY0MDAwOTRjOGYwNTQ1N2M4M2FmYy5zZXRDb250ZW50KGh0bWxfNWM0YjI4NzNkZmQyNDI1OWIyNWJhZmM0NTZlZDY1NTYpOwogICAgICAgIAoKICAgICAgICBtYXJrZXJfZjg4N2M2YzY1OWU0NGRjMzliNTA5OGE5YTc5OGUyNzIuYmluZFBvcHVwKHBvcHVwXzg2Y2U0OWJiNjFhZjQwMDA5NGM4ZjA1NDU3YzgzYWZjKQogICAgICAgIDsKCiAgICAgICAgCiAgICAKICAgIAogICAgICAgICAgICB2YXIgbWFya2VyX2FkMWM1ZjI1ZjQ1ZDQ5MDA5ODdhNTdlMzM0MTYwNTBjID0gTC5tYXJrZXIoCiAgICAgICAgICAgICAgICBbNDIuMDA4NTM2NDAwODY4NzM1LCAtODcuOTE0NDI4NDM5MjcwNDhdLAogICAgICAgICAgICAgICAge30KICAgICAgICAgICAgKS5hZGRUbyhtYXBfYmU0Y2ZjYmE3NTk5NGYzMDg0OGQ1YjE4NDJlZDY1OWQpOwogICAgICAgIAogICAgCiAgICAgICAgdmFyIHBvcHVwX2Y2MzUzMDY4MmI4ZDQ2OTFhMGVlZDcyNzE1MTJhYzU1ID0gTC5wb3B1cCh7Im1heFdpZHRoIjogIjEwMCUifSk7CgogICAgICAgIAogICAgICAgICAgICB2YXIgaHRtbF8zYWQ3YjM5ODk5YTM0YWRhOTRmYzQzMjA5YjYyYjRkMyA9ICQoYDxkaXYgaWQ9Imh0bWxfM2FkN2IzOTg5OWEzNGFkYTk0ZmM0MzIwOWI2MmI0ZDMiIHN0eWxlPSJ3aWR0aDogMTAwLjAlOyBoZWlnaHQ6IDEwMC4wJTsiPjMyMjwvZGl2PmApWzBdOwogICAgICAgICAgICBwb3B1cF9mNjM1MzA2ODJiOGQ0NjkxYTBlZWQ3MjcxNTEyYWM1NS5zZXRDb250ZW50KGh0bWxfM2FkN2IzOTg5OWEzNGFkYTk0ZmM0MzIwOWI2MmI0ZDMpOwogICAgICAgIAoKICAgICAgICBtYXJrZXJfYWQxYzVmMjVmNDVkNDkwMDk4N2E1N2UzMzQxNjA1MGMuYmluZFBvcHVwKHBvcHVwX2Y2MzUzMDY4MmI4ZDQ2OTFhMGVlZDcyNzE1MTJhYzU1KQogICAgICAgIDsKCiAgICAgICAgCiAgICAKICAgIAogICAgICAgICAgICB2YXIgbWFya2VyXzAwYzM5MzI5NzA2YzQxOGFiYjJiMTkxMzNlMTMxODIwID0gTC5tYXJrZXIoCiAgICAgICAgICAgICAgICBbNDEuODUxOTM0NTc1NjczOTQsIC04Ny43MjQ2MjI1NDM2MTE3M10sCiAgICAgICAgICAgICAgICB7fQogICAgICAgICAgICApLmFkZFRvKG1hcF9iZTRjZmNiYTc1OTk0ZjMwODQ4ZDViMTg0MmVkNjU5ZCk7CiAgICAgICAgCiAgICAKICAgICAgICB2YXIgcG9wdXBfY2Q1NDczZWM3OWQwNDE5ZWE0Y2E2ZjkxNTNiYzViMTEgPSBMLnBvcHVwKHsibWF4V2lkdGgiOiAiMTAwJSJ9KTsKCiAgICAgICAgCiAgICAgICAgICAgIHZhciBodG1sXzhhM2VjZGJkNDYyZDQ5YmE5ODg1YjA2YWYyNDVlMjJhID0gJChgPGRpdiBpZD0iaHRtbF84YTNlY2RiZDQ2MmQ0OWJhOTg4NWIwNmFmMjQ1ZTIyYSIgc3R5bGU9IndpZHRoOiAxMDAuMCU7IGhlaWdodDogMTAwLjAlOyI+MzI2PC9kaXY+YClbMF07CiAgICAgICAgICAgIHBvcHVwX2NkNTQ3M2VjNzlkMDQxOWVhNGNhNmY5MTUzYmM1YjExLnNldENvbnRlbnQoaHRtbF84YTNlY2RiZDQ2MmQ0OWJhOTg4NWIwNmFmMjQ1ZTIyYSk7CiAgICAgICAgCgogICAgICAgIG1hcmtlcl8wMGMzOTMyOTcwNmM0MThhYmIyYjE5MTMzZTEzMTgyMC5iaW5kUG9wdXAocG9wdXBfY2Q1NDczZWM3OWQwNDE5ZWE0Y2E2ZjkxNTNiYzViMTEpCiAgICAgICAgOwoKICAgICAgICAKICAgIAogICAgCiAgICAgICAgICAgIHZhciBtYXJrZXJfOWFkNjFlNTZmZjk4NGUyMmExMWQ3MWEzOTYzYTUxYWYgPSBMLm1hcmtlcigKICAgICAgICAgICAgICAgIFs0MS45MTcxNzU1MDU2OTEyMjYsIC04Ny43MTY1NDMzNjM1Mzc2MV0sCiAgICAgICAgICAgICAgICB7fQogICAgICAgICAgICApLmFkZFRvKG1hcF9iZTRjZmNiYTc1OTk0ZjMwODQ4ZDViMTg0MmVkNjU5ZCk7CiAgICAgICAgCiAgICAKICAgICAgICB2YXIgcG9wdXBfNGQyM2I3ZGFkMDBhNDI2ZWJhY2ZhYmQxYmExOGFhNDIgPSBMLnBvcHVwKHsibWF4V2lkdGgiOiAiMTAwJSJ9KTsKCiAgICAgICAgCiAgICAgICAgICAgIHZhciBodG1sX2UwNTBmMGU3MGU3ZDQ5ODNiMWUxMzAwZjYyM2FmMjEyID0gJChgPGRpdiBpZD0iaHRtbF9lMDUwZjBlNzBlN2Q0OTgzYjFlMTMwMGY2MjNhZjIxMiIgc3R5bGU9IndpZHRoOiAxMDAuMCU7IGhlaWdodDogMTAwLjAlOyI+MzQxPC9kaXY+YClbMF07CiAgICAgICAgICAgIHBvcHVwXzRkMjNiN2RhZDAwYTQyNmViYWNmYWJkMWJhMThhYTQyLnNldENvbnRlbnQoaHRtbF9lMDUwZjBlNzBlN2Q0OTgzYjFlMTMwMGY2MjNhZjIxMik7CiAgICAgICAgCgogICAgICAgIG1hcmtlcl85YWQ2MWU1NmZmOTg0ZTIyYTExZDcxYTM5NjNhNTFhZi5iaW5kUG9wdXAocG9wdXBfNGQyM2I3ZGFkMDBhNDI2ZWJhY2ZhYmQxYmExOGFhNDIpCiAgICAgICAgOwoKICAgICAgICAKICAgIAogICAgCiAgICAgICAgICAgIHZhciBtYXJrZXJfZmFhM2I0MTU1NDIzNDNhOTg1Y2Q3OTUyYzM4MjcwZjIgPSBMLm1hcmtlcigKICAgICAgICAgICAgICAgIFs0MS45MTk2NDY5MzA3MjksIC04Ny42OTcxMTU2NjI4NzYwN10sCiAgICAgICAgICAgICAgICB7fQogICAgICAgICAgICApLmFkZFRvKG1hcF9iZTRjZmNiYTc1OTk0ZjMwODQ4ZDViMTg0MmVkNjU5ZCk7CiAgICAgICAgCiAgICAKICAgICAgICB2YXIgcG9wdXBfNzE2NGI2MWVkMzU1NDg0Mzg4MDFmOThiNzY3NTJkZTAgPSBMLnBvcHVwKHsibWF4V2lkdGgiOiAiMTAwJSJ9KTsKCiAgICAgICAgCiAgICAgICAgICAgIHZhciBodG1sX2ZlOTA2NDA1YjUyODQxOTRiZjZmNTI2MDJlOWJmNTc3ID0gJChgPGRpdiBpZD0iaHRtbF9mZTkwNjQwNWI1Mjg0MTk0YmY2ZjUyNjAyZTliZjU3NyIgc3R5bGU9IndpZHRoOiAxMDAuMCU7IGhlaWdodDogMTAwLjAlOyI+MzUzPC9kaXY+YClbMF07CiAgICAgICAgICAgIHBvcHVwXzcxNjRiNjFlZDM1NTQ4NDM4ODAxZjk4Yjc2NzUyZGUwLnNldENvbnRlbnQoaHRtbF9mZTkwNjQwNWI1Mjg0MTk0YmY2ZjUyNjAyZTliZjU3Nyk7CiAgICAgICAgCgogICAgICAgIG1hcmtlcl9mYWEzYjQxNTU0MjM0M2E5ODVjZDc5NTJjMzgyNzBmMi5iaW5kUG9wdXAocG9wdXBfNzE2NGI2MWVkMzU1NDg0Mzg4MDFmOThiNzY3NTJkZTApCiAgICAgICAgOwoKICAgICAgICAKICAgIAogICAgCiAgICAgICAgICAgIHZhciBtYXJrZXJfNDg0MmQ2OGIzNjgwNGFhZWE0NWQzMzE1N2Q0NWU2YmYgPSBMLm1hcmtlcigKICAgICAgICAgICAgICAgIFs0Mi4wMDg1MzY0MDA4Njg3MzUsIC04Ny45MTQ0Mjg0MzkyNzA0OF0sCiAgICAgICAgICAgICAgICB7fQogICAgICAgICAgICApLmFkZFRvKG1hcF9iZTRjZmNiYTc1OTk0ZjMwODQ4ZDViMTg0MmVkNjU5ZCk7CiAgICAgICAgCiAgICAKICAgICAgICB2YXIgcG9wdXBfYzllY2JiYTE0NjE4NDRiMGJhODExMzk4MzczNTFkZDMgPSBMLnBvcHVwKHsibWF4V2lkdGgiOiAiMTAwJSJ9KTsKCiAgICAgICAgCiAgICAgICAgICAgIHZhciBodG1sXzg5NmE5NjlkYzE2ZjRkMGViNGM3NzU1MzFhNDg5OGM2ID0gJChgPGRpdiBpZD0iaHRtbF84OTZhOTY5ZGMxNmY0ZDBlYjRjNzc1NTMxYTQ4OThjNiIgc3R5bGU9IndpZHRoOiAxMDAuMCU7IGhlaWdodDogMTAwLjAlOyI+MzU5PC9kaXY+YClbMF07CiAgICAgICAgICAgIHBvcHVwX2M5ZWNiYmExNDYxODQ0YjBiYTgxMTM5ODM3MzUxZGQzLnNldENvbnRlbnQoaHRtbF84OTZhOTY5ZGMxNmY0ZDBlYjRjNzc1NTMxYTQ4OThjNik7CiAgICAgICAgCgogICAgICAgIG1hcmtlcl80ODQyZDY4YjM2ODA0YWFlYTQ1ZDMzMTU3ZDQ1ZTZiZi5iaW5kUG9wdXAocG9wdXBfYzllY2JiYTE0NjE4NDRiMGJhODExMzk4MzczNTFkZDMpCiAgICAgICAgOwoKICAgICAgICAKICAgIAogICAgCiAgICAgICAgICAgIHZhciBtYXJrZXJfZmU2NGUxM2ZmNGVkNGQzZGIwMWVhMjg4MTg5OWNmY2QgPSBMLm1hcmtlcigKICAgICAgICAgICAgICAgIFs0MS43NTEzMTA4ODc1NzUxNCwgLTg3LjU5NDEyMzUxODk1NTA2XSwKICAgICAgICAgICAgICAgIHt9CiAgICAgICAgICAgICkuYWRkVG8obWFwX2JlNGNmY2JhNzU5OTRmMzA4NDhkNWIxODQyZWQ2NTlkKTsKICAgICAgICAKICAgIAogICAgICAgIHZhciBwb3B1cF8zNzM5YmZjYjc3ZjM0ODk4ODdhZmE5MTgwODg1MDU5YyA9IEwucG9wdXAoeyJtYXhXaWR0aCI6ICIxMDAlIn0pOwoKICAgICAgICAKICAgICAgICAgICAgdmFyIGh0bWxfYTFhMTcxNjhhYTY5NGFlMTgwNWEyMDZkYjI5MmEwNWUgPSAkKGA8ZGl2IGlkPSJodG1sX2ExYTE3MTY4YWE2OTRhZTE4MDVhMjA2ZGIyOTJhMDVlIiBzdHlsZT0id2lkdGg6IDEwMC4wJTsgaGVpZ2h0OiAxMDAuMCU7Ij4zNzA8L2Rpdj5gKVswXTsKICAgICAgICAgICAgcG9wdXBfMzczOWJmY2I3N2YzNDg5ODg3YWZhOTE4MDg4NTA1OWMuc2V0Q29udGVudChodG1sX2ExYTE3MTY4YWE2OTRhZTE4MDVhMjA2ZGIyOTJhMDVlKTsKICAgICAgICAKCiAgICAgICAgbWFya2VyX2ZlNjRlMTNmZjRlZDRkM2RiMDFlYTI4ODE4OTljZmNkLmJpbmRQb3B1cChwb3B1cF8zNzM5YmZjYjc3ZjM0ODk4ODdhZmE5MTgwODg1MDU5YykKICAgICAgICA7CgogICAgICAgIAogICAgCiAgICAKICAgICAgICAgICAgdmFyIG1hcmtlcl8xOGRiYmU1YmFiYTY0YWZhOTEyNWI4YzhhMDdkOWYyNCA9IEwubWFya2VyKAogICAgICAgICAgICAgICAgWzQxLjkwMzMxNDQ0MTA5NjQ5LCAtODcuNjc2NDE2NzE5MTAwM10sCiAgICAgICAgICAgICAgICB7fQogICAgICAgICAgICApLmFkZFRvKG1hcF9iZTRjZmNiYTc1OTk0ZjMwODQ4ZDViMTg0MmVkNjU5ZCk7CiAgICAgICAgCiAgICAKICAgICAgICB2YXIgcG9wdXBfMjllODQ3ODY4NWZlNDk3MmI5YzFlOWU0NWM3MzYwMTIgPSBMLnBvcHVwKHsibWF4V2lkdGgiOiAiMTAwJSJ9KTsKCiAgICAgICAgCiAgICAgICAgICAgIHZhciBodG1sXzA2NDdhZTlmMDI1ZjRlZTliOTVhNjJkM2VhNTk0YTFjID0gJChgPGRpdiBpZD0iaHRtbF8wNjQ3YWU5ZjAyNWY0ZWU5Yjk1YTYyZDNlYTU5NGExYyIgc3R5bGU9IndpZHRoOiAxMDAuMCU7IGhlaWdodDogMTAwLjAlOyI+MzcyPC9kaXY+YClbMF07CiAgICAgICAgICAgIHBvcHVwXzI5ZTg0Nzg2ODVmZTQ5NzJiOWMxZTllNDVjNzM2MDEyLnNldENvbnRlbnQoaHRtbF8wNjQ3YWU5ZjAyNWY0ZWU5Yjk1YTYyZDNlYTU5NGExYyk7CiAgICAgICAgCgogICAgICAgIG1hcmtlcl8xOGRiYmU1YmFiYTY0YWZhOTEyNWI4YzhhMDdkOWYyNC5iaW5kUG9wdXAocG9wdXBfMjllODQ3ODY4NWZlNDk3MmI5YzFlOWU0NWM3MzYwMTIpCiAgICAgICAgOwoKICAgICAgICAKICAgIAogICAgCiAgICAgICAgICAgIHZhciBtYXJrZXJfZDMzNDJiNDZkM2RjNDNmYTlmYTgzZTdiNmQwOTBjNzIgPSBMLm1hcmtlcigKICAgICAgICAgICAgICAgIFs0MS45Nzk3NjI0MzcxNjY3MSwgLTg3LjY4MDU1MTc0MDQ5NDhdLAogICAgICAgICAgICAgICAge30KICAgICAgICAgICAgKS5hZGRUbyhtYXBfYmU0Y2ZjYmE3NTk5NGYzMDg0OGQ1YjE4NDJlZDY1OWQpOwogICAgICAgIAogICAgCiAgICAgICAgdmFyIHBvcHVwXzBmZjJmMTI2ZWFjYTQyN2NhNzg2MjZlZjg4M2I4ODIxID0gTC5wb3B1cCh7Im1heFdpZHRoIjogIjEwMCUifSk7CgogICAgICAgIAogICAgICAgICAgICB2YXIgaHRtbF9mNzBmNjFjZjA3OTU0MzhkYWU3NGY5NTg1NzZmZDE0NiA9ICQoYDxkaXYgaWQ9Imh0bWxfZjcwZjYxY2YwNzk1NDM4ZGFlNzRmOTU4NTc2ZmQxNDYiIHN0eWxlPSJ3aWR0aDogMTAwLjAlOyBoZWlnaHQ6IDEwMC4wJTsiPjM3NDwvZGl2PmApWzBdOwogICAgICAgICAgICBwb3B1cF8wZmYyZjEyNmVhY2E0MjdjYTc4NjI2ZWY4ODNiODgyMS5zZXRDb250ZW50KGh0bWxfZjcwZjYxY2YwNzk1NDM4ZGFlNzRmOTU4NTc2ZmQxNDYpOwogICAgICAgIAoKICAgICAgICBtYXJrZXJfZDMzNDJiNDZkM2RjNDNmYTlmYTgzZTdiNmQwOTBjNzIuYmluZFBvcHVwKHBvcHVwXzBmZjJmMTI2ZWFjYTQyN2NhNzg2MjZlZjg4M2I4ODIxKQogICAgICAgIDsKCiAgICAgICAgCiAgICAKICAgIAogICAgICAgICAgICB2YXIgbWFya2VyXzAxYzIxNTExNjZmMzQ2ZGFhZGU2NDc3ZWI4NTYwNjA3ID0gTC5tYXJrZXIoCiAgICAgICAgICAgICAgICBbNDEuOTE3Njc2NDk3OTgwMDk2LCAtODcuNjg3MjY1NzAxNzk3N10sCiAgICAgICAgICAgICAgICB7fQogICAgICAgICAgICApLmFkZFRvKG1hcF9iZTRjZmNiYTc1OTk0ZjMwODQ4ZDViMTg0MmVkNjU5ZCk7CiAgICAgICAgCiAgICAKICAgICAgICB2YXIgcG9wdXBfZTA0ZGIzMGUyNzFmNGM5NWFlMmI1ODRmZGJmZDcyM2IgPSBMLnBvcHVwKHsibWF4V2lkdGgiOiAiMTAwJSJ9KTsKCiAgICAgICAgCiAgICAgICAgICAgIHZhciBodG1sXzlmNTg5YjgzMzE3MjQxYzc5OTM1OWRjNjVjOTY5OWVhID0gJChgPGRpdiBpZD0iaHRtbF85ZjU4OWI4MzMxNzI0MWM3OTkzNTlkYzY1Yzk2OTllYSIgc3R5bGU9IndpZHRoOiAxMDAuMCU7IGhlaWdodDogMTAwLjAlOyI+Mzc1PC9kaXY+YClbMF07CiAgICAgICAgICAgIHBvcHVwX2UwNGRiMzBlMjcxZjRjOTVhZTJiNTg0ZmRiZmQ3MjNiLnNldENvbnRlbnQoaHRtbF85ZjU4OWI4MzMxNzI0MWM3OTkzNTlkYzY1Yzk2OTllYSk7CiAgICAgICAgCgogICAgICAgIG1hcmtlcl8wMWMyMTUxMTY2ZjM0NmRhYWRlNjQ3N2ViODU2MDYwNy5iaW5kUG9wdXAocG9wdXBfZTA0ZGIzMGUyNzFmNGM5NWFlMmI1ODRmZGJmZDcyM2IpCiAgICAgICAgOwoKICAgICAgICAKICAgIAogICAgCiAgICAgICAgICAgIHZhciBtYXJrZXJfOTMxNzJkOTczZmY5NDU5MWEzOGRkMDhhMDliNmE2MDIgPSBMLm1hcmtlcigKICAgICAgICAgICAgICAgIFs0MS42ODQ4OTI2MDU4MTk1MDYsIC04Ny42NjM2NDAyOTI5MTU1OV0sCiAgICAgICAgICAgICAgICB7fQogICAgICAgICAgICApLmFkZFRvKG1hcF9iZTRjZmNiYTc1OTk0ZjMwODQ4ZDViMTg0MmVkNjU5ZCk7CiAgICAgICAgCiAgICAKICAgICAgICB2YXIgcG9wdXBfNzgxOTZlNTVlMjJiNGRiMDg0OGNlMDAwYmRmZjEyNjggPSBMLnBvcHVwKHsibWF4V2lkdGgiOiAiMTAwJSJ9KTsKCiAgICAgICAgCiAgICAgICAgICAgIHZhciBodG1sXzgzOTNmODI0NTk5YjRlMzY4YjljYThjYTRhMzA0YjFiID0gJChgPGRpdiBpZD0iaHRtbF84MzkzZjgyNDU5OWI0ZTM2OGI5Y2E4Y2E0YTMwNGIxYiIgc3R5bGU9IndpZHRoOiAxMDAuMCU7IGhlaWdodDogMTAwLjAlOyI+Mzg3PC9kaXY+YClbMF07CiAgICAgICAgICAgIHBvcHVwXzc4MTk2ZTU1ZTIyYjRkYjA4NDhjZTAwMGJkZmYxMjY4LnNldENvbnRlbnQoaHRtbF84MzkzZjgyNDU5OWI0ZTM2OGI5Y2E4Y2E0YTMwNGIxYik7CiAgICAgICAgCgogICAgICAgIG1hcmtlcl85MzE3MmQ5NzNmZjk0NTkxYTM4ZGQwOGEwOWI2YTYwMi5iaW5kUG9wdXAocG9wdXBfNzgxOTZlNTVlMjJiNGRiMDg0OGNlMDAwYmRmZjEyNjgpCiAgICAgICAgOwoKICAgICAgICAKICAgIAogICAgCiAgICAgICAgICAgIHZhciBtYXJrZXJfMDcyOTUyNThhODY0NDExMGJhNDA4MGVjMTIyZTg5YTIgPSBMLm1hcmtlcigKICAgICAgICAgICAgICAgIFs0MS45OTAyNjYzNDE1NTU1MywgLTg3LjczMjk5NzM0MzgzODk3XSwKICAgICAgICAgICAgICAgIHt9CiAgICAgICAgICAgICkuYWRkVG8obWFwX2JlNGNmY2JhNzU5OTRmMzA4NDhkNWIxODQyZWQ2NTlkKTsKICAgICAgICAKICAgIAogICAgICAgIHZhciBwb3B1cF8zOTIxMjk3YTEzYjE0ZDM2ODIwMWQwZTBkNGJjNWJiOSA9IEwucG9wdXAoeyJtYXhXaWR0aCI6ICIxMDAlIn0pOwoKICAgICAgICAKICAgICAgICAgICAgdmFyIGh0bWxfZWY0NzZlNzIwM2VhNDFhM2FiYzkxMWM0Y2ViYTI2Y2UgPSAkKGA8ZGl2IGlkPSJodG1sX2VmNDc2ZTcyMDNlYTQxYTNhYmM5MTFjNGNlYmEyNmNlIiBzdHlsZT0id2lkdGg6IDEwMC4wJTsgaGVpZ2h0OiAxMDAuMCU7Ij40MTU8L2Rpdj5gKVswXTsKICAgICAgICAgICAgcG9wdXBfMzkyMTI5N2ExM2IxNGQzNjgyMDFkMGUwZDRiYzViYjkuc2V0Q29udGVudChodG1sX2VmNDc2ZTcyMDNlYTQxYTNhYmM5MTFjNGNlYmEyNmNlKTsKICAgICAgICAKCiAgICAgICAgbWFya2VyXzA3Mjk1MjU4YTg2NDQxMTBiYTQwODBlYzEyMmU4OWEyLmJpbmRQb3B1cChwb3B1cF8zOTIxMjk3YTEzYjE0ZDM2ODIwMWQwZTBkNGJjNWJiOSkKICAgICAgICA7CgogICAgICAgIAogICAgCiAgICAKICAgICAgICAgICAgdmFyIG1hcmtlcl9kMTAzM2NkZjUwNmM0YmI3OGVhYjM1MzQxYzk3NGJhOCA9IEwubWFya2VyKAogICAgICAgICAgICAgICAgWzQxLjg1ODAyNzU4OTcxMzA5LCAtODcuNjU4MzkzOTY1NzQxNTVdLAogICAgICAgICAgICAgICAge30KICAgICAgICAgICAgKS5hZGRUbyhtYXBfYmU0Y2ZjYmE3NTk5NGYzMDg0OGQ1YjE4NDJlZDY1OWQpOwogICAgICAgIAogICAgCiAgICAgICAgdmFyIHBvcHVwXzQwOGY3MWNlMjMzYTQxMjE5ZTFhZWZlYmFjM2I5NWMyID0gTC5wb3B1cCh7Im1heFdpZHRoIjogIjEwMCUifSk7CgogICAgICAgIAogICAgICAgICAgICB2YXIgaHRtbF9mM2Y2MDViZGE5MWE0NGQ3OTcwNGMyZmE3MTc1YTVlYSA9ICQoYDxkaXYgaWQ9Imh0bWxfZjNmNjA1YmRhOTFhNDRkNzk3MDRjMmZhNzE3NWE1ZWEiIHN0eWxlPSJ3aWR0aDogMTAwLjAlOyBoZWlnaHQ6IDEwMC4wJTsiPjQyODwvZGl2PmApWzBdOwogICAgICAgICAgICBwb3B1cF80MDhmNzFjZTIzM2E0MTIxOWUxYWVmZWJhYzNiOTVjMi5zZXRDb250ZW50KGh0bWxfZjNmNjA1YmRhOTFhNDRkNzk3MDRjMmZhNzE3NWE1ZWEpOwogICAgICAgIAoKICAgICAgICBtYXJrZXJfZDEwMzNjZGY1MDZjNGJiNzhlYWIzNTM0MWM5NzRiYTguYmluZFBvcHVwKHBvcHVwXzQwOGY3MWNlMjMzYTQxMjE5ZTFhZWZlYmFjM2I5NWMyKQogICAgICAgIDsKCiAgICAgICAgCiAgICAKICAgIAogICAgICAgICAgICB2YXIgbWFya2VyXzljNzRmMWNmOGJmNTQyYzU5MGFlOTg2N2Q2YmY3Y2UzID0gTC5tYXJrZXIoCiAgICAgICAgICAgICAgICBbNDIuMDE0MTgzOTgyODUyNDQsIC04Ny42OTAzNzgzNDk4MTk4N10sCiAgICAgICAgICAgICAgICB7fQogICAgICAgICAgICApLmFkZFRvKG1hcF9iZTRjZmNiYTc1OTk0ZjMwODQ4ZDViMTg0MmVkNjU5ZCk7CiAgICAgICAgCiAgICAKICAgICAgICB2YXIgcG9wdXBfZTVhN2M1MjUwMjU1NGFjOGE1YTY5ZmM3ZGFlNTM4ZjkgPSBMLnBvcHVwKHsibWF4V2lkdGgiOiAiMTAwJSJ9KTsKCiAgICAgICAgCiAgICAgICAgICAgIHZhciBodG1sX2E3Y2U4NDhiNDIzMTRiNjY5Y2Q5MDY0ZGFlNTBmYTQ4ID0gJChgPGRpdiBpZD0iaHRtbF9hN2NlODQ4YjQyMzE0YjY2OWNkOTA2NGRhZTUwZmE0OCIgc3R5bGU9IndpZHRoOiAxMDAuMCU7IGhlaWdodDogMTAwLjAlOyI+NDMxPC9kaXY+YClbMF07CiAgICAgICAgICAgIHBvcHVwX2U1YTdjNTI1MDI1NTRhYzhhNWE2OWZjN2RhZTUzOGY5LnNldENvbnRlbnQoaHRtbF9hN2NlODQ4YjQyMzE0YjY2OWNkOTA2NGRhZTUwZmE0OCk7CiAgICAgICAgCgogICAgICAgIG1hcmtlcl85Yzc0ZjFjZjhiZjU0MmM1OTBhZTk4NjdkNmJmN2NlMy5iaW5kUG9wdXAocG9wdXBfZTVhN2M1MjUwMjU1NGFjOGE1YTY5ZmM3ZGFlNTM4ZjkpCiAgICAgICAgOwoKICAgICAgICAKICAgIAogICAgCiAgICAgICAgICAgIHZhciBtYXJrZXJfYzJhYTkzZWRkYzAwNDZhZWI2MTYwZWEwZGM0NDBjYzcgPSBMLm1hcmtlcigKICAgICAgICAgICAgICAgIFs0MS44ODU3MDA3Njc2NjQsIC04Ny42NTE3NjMxMTg1NDY5NF0sCiAgICAgICAgICAgICAgICB7fQogICAgICAgICAgICApLmFkZFRvKG1hcF9iZTRjZmNiYTc1OTk0ZjMwODQ4ZDViMTg0MmVkNjU5ZCk7CiAgICAgICAgCiAgICAKICAgICAgICB2YXIgcG9wdXBfOTRiYTlhY2Q3Mjc5NDA0MTg0YWQ1ZDg3NDk0YWU0YjYgPSBMLnBvcHVwKHsibWF4V2lkdGgiOiAiMTAwJSJ9KTsKCiAgICAgICAgCiAgICAgICAgICAgIHZhciBodG1sX2M4MWZlODU4OWNhMjRiOTA4MWFkMmJiNjk4MDI0NmIwID0gJChgPGRpdiBpZD0iaHRtbF9jODFmZTg1ODljYTI0YjkwODFhZDJiYjY5ODAyNDZiMCIgc3R5bGU9IndpZHRoOiAxMDAuMCU7IGhlaWdodDogMTAwLjAlOyI+NDMzPC9kaXY+YClbMF07CiAgICAgICAgICAgIHBvcHVwXzk0YmE5YWNkNzI3OTQwNDE4NGFkNWQ4NzQ5NGFlNGI2LnNldENvbnRlbnQoaHRtbF9jODFmZTg1ODljYTI0YjkwODFhZDJiYjY5ODAyNDZiMCk7CiAgICAgICAgCgogICAgICAgIG1hcmtlcl9jMmFhOTNlZGRjMDA0NmFlYjYxNjBlYTBkYzQ0MGNjNy5iaW5kUG9wdXAocG9wdXBfOTRiYTlhY2Q3Mjc5NDA0MTg0YWQ1ZDg3NDk0YWU0YjYpCiAgICAgICAgOwoKICAgICAgICAKICAgIAogICAgCiAgICAgICAgICAgIHZhciBtYXJrZXJfOTJlMjYzMmMzNTU3NDc3YThmMzU5YmUxYWE4MzUwODEgPSBMLm1hcmtlcigKICAgICAgICAgICAgICAgIFs0MS43Nzg2MzEyNTQ1NDg0MiwgLTg3LjcxNzQyNDM3NjA0OTY1XSwKICAgICAgICAgICAgICAgIHt9CiAgICAgICAgICAgICkuYWRkVG8obWFwX2JlNGNmY2JhNzU5OTRmMzA4NDhkNWIxODQyZWQ2NTlkKTsKICAgICAgICAKICAgIAogICAgICAgIHZhciBwb3B1cF9jZjVhNjhkZDJmYzU0ZDE4OTE1OTc3OTUwYWE3OGVlYyA9IEwucG9wdXAoeyJtYXhXaWR0aCI6ICIxMDAlIn0pOwoKICAgICAgICAKICAgICAgICAgICAgdmFyIGh0bWxfMTM4OWYwMGQ1NDE4NGY1NDk1ZWMwMjAyZGVkYWE5YTEgPSAkKGA8ZGl2IGlkPSJodG1sXzEzODlmMDBkNTQxODRmNTQ5NWVjMDIwMmRlZGFhOWExIiBzdHlsZT0id2lkdGg6IDEwMC4wJTsgaGVpZ2h0OiAxMDAuMCU7Ij40MzY8L2Rpdj5gKVswXTsKICAgICAgICAgICAgcG9wdXBfY2Y1YTY4ZGQyZmM1NGQxODkxNTk3Nzk1MGFhNzhlZWMuc2V0Q29udGVudChodG1sXzEzODlmMDBkNTQxODRmNTQ5NWVjMDIwMmRlZGFhOWExKTsKICAgICAgICAKCiAgICAgICAgbWFya2VyXzkyZTI2MzJjMzU1NzQ3N2E4ZjM1OWJlMWFhODM1MDgxLmJpbmRQb3B1cChwb3B1cF9jZjVhNjhkZDJmYzU0ZDE4OTE1OTc3OTUwYWE3OGVlYykKICAgICAgICA7CgogICAgICAgIAogICAgCiAgICAKICAgICAgICAgICAgdmFyIG1hcmtlcl8zZjdmNjVjODIzNjI0Njg1YTQyZGVkNDFmYjQ4YWY1OCA9IEwubWFya2VyKAogICAgICAgICAgICAgICAgWzQxLjk0NDU3OTk3MjAwMjY0LCAtODcuNjU0MTAxNjUzNTA4OTNdLAogICAgICAgICAgICAgICAge30KICAgICAgICAgICAgKS5hZGRUbyhtYXBfYmU0Y2ZjYmE3NTk5NGYzMDg0OGQ1YjE4NDJlZDY1OWQpOwogICAgICAgIAogICAgCiAgICAgICAgdmFyIHBvcHVwX2MzMzIyNjYyZTZkNjQxYjA5NDQwNjBiMGJhODcwYTFkID0gTC5wb3B1cCh7Im1heFdpZHRoIjogIjEwMCUifSk7CgogICAgICAgIAogICAgICAgICAgICB2YXIgaHRtbF82YWQ4NWNmZGVhZjI0ZWE3OGU1NWFmNDUyOTIzYjU1NSA9ICQoYDxkaXYgaWQ9Imh0bWxfNmFkODVjZmRlYWYyNGVhNzhlNTVhZjQ1MjkyM2I1NTUiIHN0eWxlPSJ3aWR0aDogMTAwLjAlOyBoZWlnaHQ6IDEwMC4wJTsiPjQ1MDwvZGl2PmApWzBdOwogICAgICAgICAgICBwb3B1cF9jMzMyMjY2MmU2ZDY0MWIwOTQ0MDYwYjBiYTg3MGExZC5zZXRDb250ZW50KGh0bWxfNmFkODVjZmRlYWYyNGVhNzhlNTVhZjQ1MjkyM2I1NTUpOwogICAgICAgIAoKICAgICAgICBtYXJrZXJfM2Y3ZjY1YzgyMzYyNDY4NWE0MmRlZDQxZmI0OGFmNTguYmluZFBvcHVwKHBvcHVwX2MzMzIyNjYyZTZkNjQxYjA5NDQwNjBiMGJhODcwYTFkKQogICAgICAgIDsKCiAgICAgICAgCiAgICAKICAgIAogICAgICAgICAgICB2YXIgbWFya2VyX2VjN2EyZmU1MGZiYTQ1ZDg5NmM5ZGMxNGMzNjZkMGE4ID0gTC5tYXJrZXIoCiAgICAgICAgICAgICAgICBbNDEuOTEyMDE4ODE4NTczMjgsIC04Ny42Nzk3NzU2MzI2MDY1XSwKICAgICAgICAgICAgICAgIHt9CiAgICAgICAgICAgICkuYWRkVG8obWFwX2JlNGNmY2JhNzU5OTRmMzA4NDhkNWIxODQyZWQ2NTlkKTsKICAgICAgICAKICAgIAogICAgICAgIHZhciBwb3B1cF8wNmM3YTMyOTE0YTk0MTI3YjlhMDcyYjY4ZDVjMjRjYSA9IEwucG9wdXAoeyJtYXhXaWR0aCI6ICIxMDAlIn0pOwoKICAgICAgICAKICAgICAgICAgICAgdmFyIGh0bWxfOGM2Y2MxN2Q5YTUzNDVmMjljYzFiYTFkMDRmYjM4NDIgPSAkKGA8ZGl2IGlkPSJodG1sXzhjNmNjMTdkOWE1MzQ1ZjI5Y2MxYmExZDA0ZmIzODQyIiBzdHlsZT0id2lkdGg6IDEwMC4wJTsgaGVpZ2h0OiAxMDAuMCU7Ij40NTY8L2Rpdj5gKVswXTsKICAgICAgICAgICAgcG9wdXBfMDZjN2EzMjkxNGE5NDEyN2I5YTA3MmI2OGQ1YzI0Y2Euc2V0Q29udGVudChodG1sXzhjNmNjMTdkOWE1MzQ1ZjI5Y2MxYmExZDA0ZmIzODQyKTsKICAgICAgICAKCiAgICAgICAgbWFya2VyX2VjN2EyZmU1MGZiYTQ1ZDg5NmM5ZGMxNGMzNjZkMGE4LmJpbmRQb3B1cChwb3B1cF8wNmM3YTMyOTE0YTk0MTI3YjlhMDcyYjY4ZDVjMjRjYSkKICAgICAgICA7CgogICAgICAgIAogICAgCiAgICAKICAgICAgICAgICAgdmFyIG1hcmtlcl8xNzI2MWMxNjEyNjc0NTIzYWMzMGJiN2FiM2I2NmIwYyA9IEwubWFya2VyKAogICAgICAgICAgICAgICAgWzQxLjg1NzkwMjY5Mjc3NDM5LCAtODcuNjUyMTU2MjA4NjEyMDZdLAogICAgICAgICAgICAgICAge30KICAgICAgICAgICAgKS5hZGRUbyhtYXBfYmU0Y2ZjYmE3NTk5NGYzMDg0OGQ1YjE4NDJlZDY1OWQpOwogICAgICAgIAogICAgCiAgICAgICAgdmFyIHBvcHVwX2Y4OWI4MjFmODMwMjQ1ODU5N2ZhMzJkZjc2MmZiOGRjID0gTC5wb3B1cCh7Im1heFdpZHRoIjogIjEwMCUifSk7CgogICAgICAgIAogICAgICAgICAgICB2YXIgaHRtbF8yYjU3M2Y5ZmNjZjc0Y2FjYmMzOWI2NTQ3YThjNDA2OSA9ICQoYDxkaXYgaWQ9Imh0bWxfMmI1NzNmOWZjY2Y3NGNhY2JjMzliNjU0N2E4YzQwNjkiIHN0eWxlPSJ3aWR0aDogMTAwLjAlOyBoZWlnaHQ6IDEwMC4wJTsiPjQ2MjwvZGl2PmApWzBdOwogICAgICAgICAgICBwb3B1cF9mODliODIxZjgzMDI0NTg1OTdmYTMyZGY3NjJmYjhkYy5zZXRDb250ZW50KGh0bWxfMmI1NzNmOWZjY2Y3NGNhY2JjMzliNjU0N2E4YzQwNjkpOwogICAgICAgIAoKICAgICAgICBtYXJrZXJfMTcyNjFjMTYxMjY3NDUyM2FjMzBiYjdhYjNiNjZiMGMuYmluZFBvcHVwKHBvcHVwX2Y4OWI4MjFmODMwMjQ1ODU5N2ZhMzJkZjc2MmZiOGRjKQogICAgICAgIDsKCiAgICAgICAgCiAgICAKICAgIAogICAgICAgICAgICB2YXIgbWFya2VyX2M3MDVlZjA0MDU1YzQ2YWE5YTJmNDBkMTE3NTU3MzE4ID0gTC5tYXJrZXIoCiAgICAgICAgICAgICAgICBbNDEuOTk1NTE3MTU1NzI5NDMsIC04Ny43MTI4MzMxNTE1NDc0XSwKICAgICAgICAgICAgICAgIHt9CiAgICAgICAgICAgICkuYWRkVG8obWFwX2JlNGNmY2JhNzU5OTRmMzA4NDhkNWIxODQyZWQ2NTlkKTsKICAgICAgICAKICAgIAogICAgICAgIHZhciBwb3B1cF8wMmMxZjFiZjJmOWE0ZTZjYmQ4YmRiZDMwMzRjNWI5ZSA9IEwucG9wdXAoeyJtYXhXaWR0aCI6ICIxMDAlIn0pOwoKICAgICAgICAKICAgICAgICAgICAgdmFyIGh0bWxfZDg5ZDg1MjkwNjdjNDU5MGEyZmRhMzk3NWI2YTlhYjkgPSAkKGA8ZGl2IGlkPSJodG1sX2Q4OWQ4NTI5MDY3YzQ1OTBhMmZkYTM5NzViNmE5YWI5IiBzdHlsZT0id2lkdGg6IDEwMC4wJTsgaGVpZ2h0OiAxMDAuMCU7Ij40Njg8L2Rpdj5gKVswXTsKICAgICAgICAgICAgcG9wdXBfMDJjMWYxYmYyZjlhNGU2Y2JkOGJkYmQzMDM0YzViOWUuc2V0Q29udGVudChodG1sX2Q4OWQ4NTI5MDY3YzQ1OTBhMmZkYTM5NzViNmE5YWI5KTsKICAgICAgICAKCiAgICAgICAgbWFya2VyX2M3MDVlZjA0MDU1YzQ2YWE5YTJmNDBkMTE3NTU3MzE4LmJpbmRQb3B1cChwb3B1cF8wMmMxZjFiZjJmOWE0ZTZjYmQ4YmRiZDMwMzRjNWI5ZSkKICAgICAgICA7CgogICAgICAgIAogICAgCiAgICAKICAgICAgICAgICAgdmFyIG1hcmtlcl9iNGZkYmE4MzkxZmE0ZWM2OTI2NGJiNmU0NDQwOTFhYyA9IEwubWFya2VyKAogICAgICAgICAgICAgICAgWzQxLjkxMDM0OTkwODMxOTY1LCAtODcuNjc4ODUwNTQyNTMyMzJdLAogICAgICAgICAgICAgICAge30KICAgICAgICAgICAgKS5hZGRUbyhtYXBfYmU0Y2ZjYmE3NTk5NGYzMDg0OGQ1YjE4NDJlZDY1OWQpOwogICAgICAgIAogICAgCiAgICAgICAgdmFyIHBvcHVwX2FlZGU2YTc4YzY4ZTQwZjA5NDhiNWQzMmQ4Y2JkYzU5ID0gTC5wb3B1cCh7Im1heFdpZHRoIjogIjEwMCUifSk7CgogICAgICAgIAogICAgICAgICAgICB2YXIgaHRtbF9jNDRmMGM3NTA1YjY0MDg4YmI2MGI0MTk4ZDQwODY4NyA9ICQoYDxkaXYgaWQ9Imh0bWxfYzQ0ZjBjNzUwNWI2NDA4OGJiNjBiNDE5OGQ0MDg2ODciIHN0eWxlPSJ3aWR0aDogMTAwLjAlOyBoZWlnaHQ6IDEwMC4wJTsiPjQ3MDwvZGl2PmApWzBdOwogICAgICAgICAgICBwb3B1cF9hZWRlNmE3OGM2OGU0MGYwOTQ4YjVkMzJkOGNiZGM1OS5zZXRDb250ZW50KGh0bWxfYzQ0ZjBjNzUwNWI2NDA4OGJiNjBiNDE5OGQ0MDg2ODcpOwogICAgICAgIAoKICAgICAgICBtYXJrZXJfYjRmZGJhODM5MWZhNGVjNjkyNjRiYjZlNDQ0MDkxYWMuYmluZFBvcHVwKHBvcHVwX2FlZGU2YTc4YzY4ZTQwZjA5NDhiNWQzMmQ4Y2JkYzU5KQogICAgICAgIDsKCiAgICAgICAgCiAgICAKICAgIAogICAgICAgICAgICB2YXIgbWFya2VyXzk1NzE1MWQ3MGFhYTRjYzU4Mjk4NThhMzk5NDhjYzIxID0gTC5tYXJrZXIoCiAgICAgICAgICAgICAgICBbNDEuODQ0NDMyOTI3Mjc5NjUsIC04Ny43MDI4MTI4OTQ1MTI0NV0sCiAgICAgICAgICAgICAgICB7fQogICAgICAgICAgICApLmFkZFRvKG1hcF9iZTRjZmNiYTc1OTk0ZjMwODQ4ZDViMTg0MmVkNjU5ZCk7CiAgICAgICAgCiAgICAKICAgICAgICB2YXIgcG9wdXBfMTQ3NDg2OTIyMjZmNDdkMDgyZTljMGUyOTE4MzZiMDkgPSBMLnBvcHVwKHsibWF4V2lkdGgiOiAiMTAwJSJ9KTsKCiAgICAgICAgCiAgICAgICAgICAgIHZhciBodG1sXzE0NmMwZWYwODZjYTQ0ZmRhOTU0OWVmYzgyODJjYTkxID0gJChgPGRpdiBpZD0iaHRtbF8xNDZjMGVmMDg2Y2E0NGZkYTk1NDllZmM4MjgyY2E5MSIgc3R5bGU9IndpZHRoOiAxMDAuMCU7IGhlaWdodDogMTAwLjAlOyI+NDgyPC9kaXY+YClbMF07CiAgICAgICAgICAgIHBvcHVwXzE0NzQ4NjkyMjI2ZjQ3ZDA4MmU5YzBlMjkxODM2YjA5LnNldENvbnRlbnQoaHRtbF8xNDZjMGVmMDg2Y2E0NGZkYTk1NDllZmM4MjgyY2E5MSk7CiAgICAgICAgCgogICAgICAgIG1hcmtlcl85NTcxNTFkNzBhYWE0Y2M1ODI5ODU4YTM5OTQ4Y2MyMS5iaW5kUG9wdXAocG9wdXBfMTQ3NDg2OTIyMjZmNDdkMDgyZTljMGUyOTE4MzZiMDkpCiAgICAgICAgOwoKICAgICAgICAKICAgIAogICAgCiAgICAgICAgICAgIHZhciBtYXJrZXJfZWFjNTJmYzVhOWY3NDExNjg1Yjc4YTI3MjQ0MDc3MzggPSBMLm1hcmtlcigKICAgICAgICAgICAgICAgIFs0MS45MTcyNjcxNzY3MjY0MiwgLTg3LjcyNzI2Mzk5NzI3NDU4XSwKICAgICAgICAgICAgICAgIHt9CiAgICAgICAgICAgICkuYWRkVG8obWFwX2JlNGNmY2JhNzU5OTRmMzA4NDhkNWIxODQyZWQ2NTlkKTsKICAgICAgICAKICAgIAogICAgICAgIHZhciBwb3B1cF84ZTAzYWU3ZDVjY2Y0YzEzOTJjYzJiMDgwYjc4ZTE3YiA9IEwucG9wdXAoeyJtYXhXaWR0aCI6ICIxMDAlIn0pOwoKICAgICAgICAKICAgICAgICAgICAgdmFyIGh0bWxfOGVmNWNhOTkxZjBhNDU3YWJlMzU2YTM0MGMyZmU0MzIgPSAkKGA8ZGl2IGlkPSJodG1sXzhlZjVjYTk5MWYwYTQ1N2FiZTM1NmEzNDBjMmZlNDMyIiBzdHlsZT0id2lkdGg6IDEwMC4wJTsgaGVpZ2h0OiAxMDAuMCU7Ij41MTA8L2Rpdj5gKVswXTsKICAgICAgICAgICAgcG9wdXBfOGUwM2FlN2Q1Y2NmNGMxMzkyY2MyYjA4MGI3OGUxN2Iuc2V0Q29udGVudChodG1sXzhlZjVjYTk5MWYwYTQ1N2FiZTM1NmEzNDBjMmZlNDMyKTsKICAgICAgICAKCiAgICAgICAgbWFya2VyX2VhYzUyZmM1YTlmNzQxMTY4NWI3OGEyNzI0NDA3NzM4LmJpbmRQb3B1cChwb3B1cF84ZTAzYWU3ZDVjY2Y0YzEzOTJjYzJiMDgwYjc4ZTE3YikKICAgICAgICA7CgogICAgICAgIAogICAgCiAgICAKICAgICAgICAgICAgdmFyIG1hcmtlcl82MmJjZDQ1ZGVmZmE0Zjc3YjA0OTdlNTA1NTRkZTFlYiA9IEwubWFya2VyKAogICAgICAgICAgICAgICAgWzQxLjk4OTcyMjc5MDMyMDkzLCAtODcuNzc3MTczMDc2MjkxODldLAogICAgICAgICAgICAgICAge30KICAgICAgICAgICAgKS5hZGRUbyhtYXBfYmU0Y2ZjYmE3NTk5NGYzMDg0OGQ1YjE4NDJlZDY1OWQpOwogICAgICAgIAogICAgCiAgICAgICAgdmFyIHBvcHVwX2QyZmMwYjJhNDhiYTQwYjg5ZTJjNjNhMDRhMTM5NTE1ID0gTC5wb3B1cCh7Im1heFdpZHRoIjogIjEwMCUifSk7CgogICAgICAgIAogICAgICAgICAgICB2YXIgaHRtbF83NWM2YmQ4NDU0Njk0ZjE2YjM0MjQ1MTM5YTQzYWYzNCA9ICQoYDxkaXYgaWQ9Imh0bWxfNzVjNmJkODQ1NDY5NGYxNmIzNDI0NTEzOWE0M2FmMzQiIHN0eWxlPSJ3aWR0aDogMTAwLjAlOyBoZWlnaHQ6IDEwMC4wJTsiPjUyMDwvZGl2PmApWzBdOwogICAgICAgICAgICBwb3B1cF9kMmZjMGIyYTQ4YmE0MGI4OWUyYzYzYTA0YTEzOTUxNS5zZXRDb250ZW50KGh0bWxfNzVjNmJkODQ1NDY5NGYxNmIzNDI0NTEzOWE0M2FmMzQpOwogICAgICAgIAoKICAgICAgICBtYXJrZXJfNjJiY2Q0NWRlZmZhNGY3N2IwNDk3ZTUwNTU0ZGUxZWIuYmluZFBvcHVwKHBvcHVwX2QyZmMwYjJhNDhiYTQwYjg5ZTJjNjNhMDRhMTM5NTE1KQogICAgICAgIDsKCiAgICAgICAgCiAgICAKICAgIAogICAgICAgICAgICB2YXIgbWFya2VyXzI0Yzk4MTY5NDQzMDQzM2RhYjM0NjAzYjVjYTY0ZWQ4ID0gTC5tYXJrZXIoCiAgICAgICAgICAgICAgICBbNDEuODU3OTIzMDU3NTkyNjM2LCAtODcuNjY1MjExODcxMjcxMTddLAogICAgICAgICAgICAgICAge30KICAgICAgICAgICAgKS5hZGRUbyhtYXBfYmU0Y2ZjYmE3NTk5NGYzMDg0OGQ1YjE4NDJlZDY1OWQpOwogICAgICAgIAogICAgCiAgICAgICAgdmFyIHBvcHVwXzgyNTI2NTVkMGRlZjRmMmZiMTkyYjIzMjJmZGIzYmJhID0gTC5wb3B1cCh7Im1heFdpZHRoIjogIjEwMCUifSk7CgogICAgICAgIAogICAgICAgICAgICB2YXIgaHRtbF82OTRiMTNhODhlNjY0ZDI0YmE2M2VkNWZhZGFkYjIzOCA9ICQoYDxkaXYgaWQ9Imh0bWxfNjk0YjEzYTg4ZTY2NGQyNGJhNjNlZDVmYWRhZGIyMzgiIHN0eWxlPSJ3aWR0aDogMTAwLjAlOyBoZWlnaHQ6IDEwMC4wJTsiPjUzNTwvZGl2PmApWzBdOwogICAgICAgICAgICBwb3B1cF84MjUyNjU1ZDBkZWY0ZjJmYjE5MmIyMzIyZmRiM2JiYS5zZXRDb250ZW50KGh0bWxfNjk0YjEzYTg4ZTY2NGQyNGJhNjNlZDVmYWRhZGIyMzgpOwogICAgICAgIAoKICAgICAgICBtYXJrZXJfMjRjOTgxNjk0NDMwNDMzZGFiMzQ2MDNiNWNhNjRlZDguYmluZFBvcHVwKHBvcHVwXzgyNTI2NTVkMGRlZjRmMmZiMTkyYjIzMjJmZGIzYmJhKQogICAgICAgIDsKCiAgICAgICAgCiAgICAKICAgIAogICAgICAgICAgICB2YXIgbWFya2VyX2ViOWRlYjkzMDI5YjQ2YzI5Y2U3YWNhMDQwZjU0Y2IwID0gTC5tYXJrZXIoCiAgICAgICAgICAgICAgICBbNDEuNjkyMDk4MDcxMTA4MTA2LCAtODcuNjU0ODA5MTE4OTk2OF0sCiAgICAgICAgICAgICAgICB7fQogICAgICAgICAgICApLmFkZFRvKG1hcF9iZTRjZmNiYTc1OTk0ZjMwODQ4ZDViMTg0MmVkNjU5ZCk7CiAgICAgICAgCiAgICAKICAgICAgICB2YXIgcG9wdXBfYTY2MTBkZjY5Mjg2NDA1M2ExNWYwOGFlZGQ1OTk1NmEgPSBMLnBvcHVwKHsibWF4V2lkdGgiOiAiMTAwJSJ9KTsKCiAgICAgICAgCiAgICAgICAgICAgIHZhciBodG1sXzBjYWRjMzFhZDJlMTQxMzA4Njg5NjI1YTdjY2FjNzFhID0gJChgPGRpdiBpZD0iaHRtbF8wY2FkYzMxYWQyZTE0MTMwODY4OTYyNWE3Y2NhYzcxYSIgc3R5bGU9IndpZHRoOiAxMDAuMCU7IGhlaWdodDogMTAwLjAlOyI+NTQ0PC9kaXY+YClbMF07CiAgICAgICAgICAgIHBvcHVwX2E2NjEwZGY2OTI4NjQwNTNhMTVmMDhhZWRkNTk5NTZhLnNldENvbnRlbnQoaHRtbF8wY2FkYzMxYWQyZTE0MTMwODY4OTYyNWE3Y2NhYzcxYSk7CiAgICAgICAgCgogICAgICAgIG1hcmtlcl9lYjlkZWI5MzAyOWI0NmMyOWNlN2FjYTA0MGY1NGNiMC5iaW5kUG9wdXAocG9wdXBfYTY2MTBkZjY5Mjg2NDA1M2ExNWYwOGFlZGQ1OTk1NmEpCiAgICAgICAgOwoKICAgICAgICAKICAgIAogICAgCiAgICAgICAgICAgIHZhciBtYXJrZXJfYzVlYzVhYjEzNjQ3NDZkYTljODE3Y2Q1YWM4NGQ2NmMgPSBMLm1hcmtlcigKICAgICAgICAgICAgICAgIFs0MS45MTgwODg2MjQzNDMxLCAtODcuNjQ3MDgzMTQ3OTc5NDJdLAogICAgICAgICAgICAgICAge30KICAgICAgICAgICAgKS5hZGRUbyhtYXBfYmU0Y2ZjYmE3NTk5NGYzMDg0OGQ1YjE4NDJlZDY1OWQpOwogICAgICAgIAogICAgCiAgICAgICAgdmFyIHBvcHVwX2UzNDhmM2I3NWE4NDQ1ODE4MTk5ODg1NjAxYmY4MzUyID0gTC5wb3B1cCh7Im1heFdpZHRoIjogIjEwMCUifSk7CgogICAgICAgIAogICAgICAgICAgICB2YXIgaHRtbF9hNTExOTBmMzA4NGM0ZGZiODdiYjExNjljMjUxM2ZjMiA9ICQoYDxkaXYgaWQ9Imh0bWxfYTUxMTkwZjMwODRjNGRmYjg3YmIxMTY5YzI1MTNmYzIiIHN0eWxlPSJ3aWR0aDogMTAwLjAlOyBoZWlnaHQ6IDEwMC4wJTsiPjU1NTwvZGl2PmApWzBdOwogICAgICAgICAgICBwb3B1cF9lMzQ4ZjNiNzVhODQ0NTgxODE5OTg4NTYwMWJmODM1Mi5zZXRDb250ZW50KGh0bWxfYTUxMTkwZjMwODRjNGRmYjg3YmIxMTY5YzI1MTNmYzIpOwogICAgICAgIAoKICAgICAgICBtYXJrZXJfYzVlYzVhYjEzNjQ3NDZkYTljODE3Y2Q1YWM4NGQ2NmMuYmluZFBvcHVwKHBvcHVwX2UzNDhmM2I3NWE4NDQ1ODE4MTk5ODg1NjAxYmY4MzUyKQogICAgICAgIDsKCiAgICAgICAgCiAgICAKICAgIAogICAgICAgICAgICB2YXIgbWFya2VyXzIyYjRiNDI2OGYxNzQwNWRiMjkxMjBkNmE4NjBiMWVlID0gTC5tYXJrZXIoCiAgICAgICAgICAgICAgICBbNDEuOTc1ODU5Njk0MjAyOTksIC04Ny43MDg0NjQ5Njc3Mjk5Ml0sCiAgICAgICAgICAgICAgICB7fQogICAgICAgICAgICApLmFkZFRvKG1hcF9iZTRjZmNiYTc1OTk0ZjMwODQ4ZDViMTg0MmVkNjU5ZCk7CiAgICAgICAgCiAgICAKICAgICAgICB2YXIgcG9wdXBfZmNhNDU5Y2NlNDEyNDYzZmExZTZjNTMyOTQzYTQ5YWMgPSBMLnBvcHVwKHsibWF4V2lkdGgiOiAiMTAwJSJ9KTsKCiAgICAgICAgCiAgICAgICAgICAgIHZhciBodG1sXzFkZDMxNTg1NjY2ZjQzNDhhNGNhM2FhNDk2M2Q2MTdmID0gJChgPGRpdiBpZD0iaHRtbF8xZGQzMTU4NTY2NmY0MzQ4YTRjYTNhYTQ5NjNkNjE3ZiIgc3R5bGU9IndpZHRoOiAxMDAuMCU7IGhlaWdodDogMTAwLjAlOyI+NTU3PC9kaXY+YClbMF07CiAgICAgICAgICAgIHBvcHVwX2ZjYTQ1OWNjZTQxMjQ2M2ZhMWU2YzUzMjk0M2E0OWFjLnNldENvbnRlbnQoaHRtbF8xZGQzMTU4NTY2NmY0MzQ4YTRjYTNhYTQ5NjNkNjE3Zik7CiAgICAgICAgCgogICAgICAgIG1hcmtlcl8yMmI0YjQyNjhmMTc0MDVkYjI5MTIwZDZhODYwYjFlZS5iaW5kUG9wdXAocG9wdXBfZmNhNDU5Y2NlNDEyNDYzZmExZTZjNTMyOTQzYTQ5YWMpCiAgICAgICAgOwoKICAgICAgICAKICAgIAogICAgCiAgICAgICAgICAgIHZhciBtYXJrZXJfNWFiMmRjMjA4MTI5NGI2OWE4NTI4OTAxMzg0ZmNlOTQgPSBMLm1hcmtlcigKICAgICAgICAgICAgICAgIFs0MS43OTIxNjM4NDg2NTQ3OTUsIC04Ny43ODU0MDU2NjE2MDIyMV0sCiAgICAgICAgICAgICAgICB7fQogICAgICAgICAgICApLmFkZFRvKG1hcF9iZTRjZmNiYTc1OTk0ZjMwODQ4ZDViMTg0MmVkNjU5ZCk7CiAgICAgICAgCiAgICAKICAgICAgICB2YXIgcG9wdXBfYmJhM2YwNjIxODA2NDYwMmI5NmQ0MmIwNmUzMjdmMmMgPSBMLnBvcHVwKHsibWF4V2lkdGgiOiAiMTAwJSJ9KTsKCiAgICAgICAgCiAgICAgICAgICAgIHZhciBodG1sXzAwNTdkZDcwYTVjOTQwZDg5NWI3M2JiMDgzODc0YzNiID0gJChgPGRpdiBpZD0iaHRtbF8wMDU3ZGQ3MGE1Yzk0MGQ4OTViNzNiYjA4Mzg3NGMzYiIgc3R5bGU9IndpZHRoOiAxMDAuMCU7IGhlaWdodDogMTAwLjAlOyI+NTY0PC9kaXY+YClbMF07CiAgICAgICAgICAgIHBvcHVwX2JiYTNmMDYyMTgwNjQ2MDJiOTZkNDJiMDZlMzI3ZjJjLnNldENvbnRlbnQoaHRtbF8wMDU3ZGQ3MGE1Yzk0MGQ4OTViNzNiYjA4Mzg3NGMzYik7CiAgICAgICAgCgogICAgICAgIG1hcmtlcl81YWIyZGMyMDgxMjk0YjY5YTg1Mjg5MDEzODRmY2U5NC5iaW5kUG9wdXAocG9wdXBfYmJhM2YwNjIxODA2NDYwMmI5NmQ0MmIwNmUzMjdmMmMpCiAgICAgICAgOwoKICAgICAgICAKICAgIAogICAgCiAgICAgICAgICAgIHZhciBtYXJrZXJfNzQ3OTFhNzFlMmY3NDBlY2IwMzZjNWU1ZDUwMDgzNTMgPSBMLm1hcmtlcigKICAgICAgICAgICAgICAgIFs0MS43Njg3MTE2OTcxMTU1OSwgLTg3LjY0NTU3Nzc4MDY1NTQ5XSwKICAgICAgICAgICAgICAgIHt9CiAgICAgICAgICAgICkuYWRkVG8obWFwX2JlNGNmY2JhNzU5OTRmMzA4NDhkNWIxODQyZWQ2NTlkKTsKICAgICAgICAKICAgIAogICAgICAgIHZhciBwb3B1cF85OWVmYzI3YTg3MjQ0YjMwOWU0ZjhjMGQxZjQ4NDgzMCA9IEwucG9wdXAoeyJtYXhXaWR0aCI6ICIxMDAlIn0pOwoKICAgICAgICAKICAgICAgICAgICAgdmFyIGh0bWxfNDE1ZTEzZGY2M2YwNDMwNjhiZjExNjZlMDIwYWI2NjMgPSAkKGA8ZGl2IGlkPSJodG1sXzQxNWUxM2RmNjNmMDQzMDY4YmYxMTY2ZTAyMGFiNjYzIiBzdHlsZT0id2lkdGg6IDEwMC4wJTsgaGVpZ2h0OiAxMDAuMCU7Ij41ODU8L2Rpdj5gKVswXTsKICAgICAgICAgICAgcG9wdXBfOTllZmMyN2E4NzI0NGIzMDllNGY4YzBkMWY0ODQ4MzAuc2V0Q29udGVudChodG1sXzQxNWUxM2RmNjNmMDQzMDY4YmYxMTY2ZTAyMGFiNjYzKTsKICAgICAgICAKCiAgICAgICAgbWFya2VyXzc0NzkxYTcxZTJmNzQwZWNiMDM2YzVlNWQ1MDA4MzUzLmJpbmRQb3B1cChwb3B1cF85OWVmYzI3YTg3MjQ0YjMwOWU0ZjhjMGQxZjQ4NDgzMCkKICAgICAgICA7CgogICAgICAgIAogICAgCiAgICAKICAgICAgICAgICAgdmFyIG1hcmtlcl80ZTFkZWE5ODM2NDI0MTBkODA0MDFkMWVlNTQ2NmYzNCA9IEwubWFya2VyKAogICAgICAgICAgICAgICAgWzQxLjkxMTgxMjE4MjY3Mzg5LCAtODcuNjc5NDU1NzUxNzMxNzRdLAogICAgICAgICAgICAgICAge30KICAgICAgICAgICAgKS5hZGRUbyhtYXBfYmU0Y2ZjYmE3NTk5NGYzMDg0OGQ1YjE4NDJlZDY1OWQpOwogICAgICAgIAogICAgCiAgICAgICAgdmFyIHBvcHVwXzhiMmEwNzc5YzkxZDQyYjk5OGVkYjQzYzA5MDAzYWEyID0gTC5wb3B1cCh7Im1heFdpZHRoIjogIjEwMCUifSk7CgogICAgICAgIAogICAgICAgICAgICB2YXIgaHRtbF84Njk0ZTFhMzM4YTA0Y2MzYTFlZmRjMmIwOTU1MmEzOSA9ICQoYDxkaXYgaWQ9Imh0bWxfODY5NGUxYTMzOGEwNGNjM2ExZWZkYzJiMDk1NTJhMzkiIHN0eWxlPSJ3aWR0aDogMTAwLjAlOyBoZWlnaHQ6IDEwMC4wJTsiPjU5NDwvZGl2PmApWzBdOwogICAgICAgICAgICBwb3B1cF84YjJhMDc3OWM5MWQ0MmI5OThlZGI0M2MwOTAwM2FhMi5zZXRDb250ZW50KGh0bWxfODY5NGUxYTMzOGEwNGNjM2ExZWZkYzJiMDk1NTJhMzkpOwogICAgICAgIAoKICAgICAgICBtYXJrZXJfNGUxZGVhOTgzNjQyNDEwZDgwNDAxZDFlZTU0NjZmMzQuYmluZFBvcHVwKHBvcHVwXzhiMmEwNzc5YzkxZDQyYjk5OGVkYjQzYzA5MDAzYWEyKQogICAgICAgIDsKCiAgICAgICAgCiAgICAKICAgIAogICAgICAgICAgICB2YXIgbWFya2VyX2Y3ZTljOWI1Zjk3MzRjODA5OWI1M2Q2MDMyYjAyMDE4ID0gTC5tYXJrZXIoCiAgICAgICAgICAgICAgICBbNDEuODM1MzQwNTIwODE3NzUsIC04Ny42NjU1MzczNjE2OTU2MV0sCiAgICAgICAgICAgICAgICB7fQogICAgICAgICAgICApLmFkZFRvKG1hcF9iZTRjZmNiYTc1OTk0ZjMwODQ4ZDViMTg0MmVkNjU5ZCk7CiAgICAgICAgCiAgICAKICAgICAgICB2YXIgcG9wdXBfMzc0ZmJlZTY3MWRiNDBiMWFlOTg0ZThhMjJiNmFjMmUgPSBMLnBvcHVwKHsibWF4V2lkdGgiOiAiMTAwJSJ9KTsKCiAgICAgICAgCiAgICAgICAgICAgIHZhciBodG1sXzhmM2Y2MjQ0ZTVhNjQ4ZTU5MzJkMDkyNTE0N2M4OGQyID0gJChgPGRpdiBpZD0iaHRtbF84ZjNmNjI0NGU1YTY0OGU1OTMyZDA5MjUxNDdjODhkMiIgc3R5bGU9IndpZHRoOiAxMDAuMCU7IGhlaWdodDogMTAwLjAlOyI+NjAwPC9kaXY+YClbMF07CiAgICAgICAgICAgIHBvcHVwXzM3NGZiZWU2NzFkYjQwYjFhZTk4NGU4YTIyYjZhYzJlLnNldENvbnRlbnQoaHRtbF84ZjNmNjI0NGU1YTY0OGU1OTMyZDA5MjUxNDdjODhkMik7CiAgICAgICAgCgogICAgICAgIG1hcmtlcl9mN2U5YzliNWY5NzM0YzgwOTliNTNkNjAzMmIwMjAxOC5iaW5kUG9wdXAocG9wdXBfMzc0ZmJlZTY3MWRiNDBiMWFlOTg0ZThhMjJiNmFjMmUpCiAgICAgICAgOwoKICAgICAgICAKICAgIAogICAgCiAgICAgICAgICAgIHZhciBtYXJrZXJfZTRjM2VkMzQ0YmRmNGQyOWE5ZjA5ZTkyMzE0NGZjZGYgPSBMLm1hcmtlcigKICAgICAgICAgICAgICAgIFs0MS44NTc5MDE1OTY1MDgyMSwgLTg3LjY1MjIzODQwOTI4MzY0XSwKICAgICAgICAgICAgICAgIHt9CiAgICAgICAgICAgICkuYWRkVG8obWFwX2JlNGNmY2JhNzU5OTRmMzA4NDhkNWIxODQyZWQ2NTlkKTsKICAgICAgICAKICAgIAogICAgICAgIHZhciBwb3B1cF9kZDFlZGMxZGIwODA0MTRhYjk5MjY0OWJhNDdhZjVlZSA9IEwucG9wdXAoeyJtYXhXaWR0aCI6ICIxMDAlIn0pOwoKICAgICAgICAKICAgICAgICAgICAgdmFyIGh0bWxfMTY0ZjM3MWUyOThkNDE2Y2IxMWJhNTRhZmRjMWZmMDggPSAkKGA8ZGl2IGlkPSJodG1sXzE2NGYzNzFlMjk4ZDQxNmNiMTFiYTU0YWZkYzFmZjA4IiBzdHlsZT0id2lkdGg6IDEwMC4wJTsgaGVpZ2h0OiAxMDAuMCU7Ij42MDk8L2Rpdj5gKVswXTsKICAgICAgICAgICAgcG9wdXBfZGQxZWRjMWRiMDgwNDE0YWI5OTI2NDliYTQ3YWY1ZWUuc2V0Q29udGVudChodG1sXzE2NGYzNzFlMjk4ZDQxNmNiMTFiYTU0YWZkYzFmZjA4KTsKICAgICAgICAKCiAgICAgICAgbWFya2VyX2U0YzNlZDM0NGJkZjRkMjlhOWYwOWU5MjMxNDRmY2RmLmJpbmRQb3B1cChwb3B1cF9kZDFlZGMxZGIwODA0MTRhYjk5MjY0OWJhNDdhZjVlZSkKICAgICAgICA7CgogICAgICAgIAogICAgCiAgICAKICAgICAgICAgICAgdmFyIG1hcmtlcl81YWMwMTllYTk5NzA0ZjE3YWI4ZDI4NGVhNzg4MWNiZiA9IEwubWFya2VyKAogICAgICAgICAgICAgICAgWzQxLjk2NTcxOTAxNzQyMzAxLCAtODcuNzA4NTM3NTYxNjc4NTNdLAogICAgICAgICAgICAgICAge30KICAgICAgICAgICAgKS5hZGRUbyhtYXBfYmU0Y2ZjYmE3NTk5NGYzMDg0OGQ1YjE4NDJlZDY1OWQpOwogICAgICAgIAogICAgCiAgICAgICAgdmFyIHBvcHVwXzAzYmJkYTA1ZTJiMjQzNjJhNDNiNzJmZTY1OWU4YWI2ID0gTC5wb3B1cCh7Im1heFdpZHRoIjogIjEwMCUifSk7CgogICAgICAgIAogICAgICAgICAgICB2YXIgaHRtbF9iNzlmMGFkZTE4NGE0MmU3OThhM2ExMDhlOGY3MDc5MiA9ICQoYDxkaXYgaWQ9Imh0bWxfYjc5ZjBhZGUxODRhNDJlNzk4YTNhMTA4ZThmNzA3OTIiIHN0eWxlPSJ3aWR0aDogMTAwLjAlOyBoZWlnaHQ6IDEwMC4wJTsiPjYxNTwvZGl2PmApWzBdOwogICAgICAgICAgICBwb3B1cF8wM2JiZGEwNWUyYjI0MzYyYTQzYjcyZmU2NTllOGFiNi5zZXRDb250ZW50KGh0bWxfYjc5ZjBhZGUxODRhNDJlNzk4YTNhMTA4ZThmNzA3OTIpOwogICAgICAgIAoKICAgICAgICBtYXJrZXJfNWFjMDE5ZWE5OTcwNGYxN2FiOGQyODRlYTc4ODFjYmYuYmluZFBvcHVwKHBvcHVwXzAzYmJkYTA1ZTJiMjQzNjJhNDNiNzJmZTY1OWU4YWI2KQogICAgICAgIDsKCiAgICAgICAgCiAgICAKICAgIAogICAgICAgICAgICB2YXIgbWFya2VyX2RjNWY4MmNlMWJhODQ5YzY4OWY2MzA3ZWJlZTI0ZmQ0ID0gTC5tYXJrZXIoCiAgICAgICAgICAgICAgICBbNDEuODg3NzA1Mzc5Mzc4MjU0LCAtODcuNjIwNTg4MTQzOTI3OTldLAogICAgICAgICAgICAgICAge30KICAgICAgICAgICAgKS5hZGRUbyhtYXBfYmU0Y2ZjYmE3NTk5NGYzMDg0OGQ1YjE4NDJlZDY1OWQpOwogICAgICAgIAogICAgCiAgICAgICAgdmFyIHBvcHVwX2U1MzI3NDY0N2NmYTRlYTliNmJlOWYyNzI3MzdiMjc4ID0gTC5wb3B1cCh7Im1heFdpZHRoIjogIjEwMCUifSk7CgogICAgICAgIAogICAgICAgICAgICB2YXIgaHRtbF82OWM1ZWRhMDAwM2I0MDdjYmI4ZmNiYjc5MTk1NTdiMSA9ICQoYDxkaXYgaWQ9Imh0bWxfNjljNWVkYTAwMDNiNDA3Y2JiOGZjYmI3OTE5NTU3YjEiIHN0eWxlPSJ3aWR0aDogMTAwLjAlOyBoZWlnaHQ6IDEwMC4wJTsiPjYzODwvZGl2PmApWzBdOwogICAgICAgICAgICBwb3B1cF9lNTMyNzQ2NDdjZmE0ZWE5YjZiZTlmMjcyNzM3YjI3OC5zZXRDb250ZW50KGh0bWxfNjljNWVkYTAwMDNiNDA3Y2JiOGZjYmI3OTE5NTU3YjEpOwogICAgICAgIAoKICAgICAgICBtYXJrZXJfZGM1ZjgyY2UxYmE4NDljNjg5ZjYzMDdlYmVlMjRmZDQuYmluZFBvcHVwKHBvcHVwX2U1MzI3NDY0N2NmYTRlYTliNmJlOWYyNzI3MzdiMjc4KQogICAgICAgIDsKCiAgICAgICAgCiAgICAKICAgIAogICAgICAgICAgICB2YXIgbWFya2VyXzdhZmIzYzFjOTgzYjQzMzBhMmU4NmMwMGVjZDMyOTBhID0gTC5tYXJrZXIoCiAgICAgICAgICAgICAgICBbNDIuMDA4NTM2NDAwODY4NzM1LCAtODcuOTE0NDI4NDM5MjcwNDhdLAogICAgICAgICAgICAgICAge30KICAgICAgICAgICAgKS5hZGRUbyhtYXBfYmU0Y2ZjYmE3NTk5NGYzMDg0OGQ1YjE4NDJlZDY1OWQpOwogICAgICAgIAogICAgCiAgICAgICAgdmFyIHBvcHVwX2Q2YmMxMTBmYzcxMjQ0NDM5ZTRlYmRjMDlkMzlhZTMzID0gTC5wb3B1cCh7Im1heFdpZHRoIjogIjEwMCUifSk7CgogICAgICAgIAogICAgICAgICAgICB2YXIgaHRtbF9iOTRkMDRmNTM2OWI0ZDc5OTg2NmVmNmUwMDIyOWU1NyA9ICQoYDxkaXYgaWQ9Imh0bWxfYjk0ZDA0ZjUzNjliNGQ3OTk4NjZlZjZlMDAyMjllNTciIHN0eWxlPSJ3aWR0aDogMTAwLjAlOyBoZWlnaHQ6IDEwMC4wJTsiPjY0MDwvZGl2PmApWzBdOwogICAgICAgICAgICBwb3B1cF9kNmJjMTEwZmM3MTI0NDQzOWU0ZWJkYzA5ZDM5YWUzMy5zZXRDb250ZW50KGh0bWxfYjk0ZDA0ZjUzNjliNGQ3OTk4NjZlZjZlMDAyMjllNTcpOwogICAgICAgIAoKICAgICAgICBtYXJrZXJfN2FmYjNjMWM5ODNiNDMzMGEyZTg2YzAwZWNkMzI5MGEuYmluZFBvcHVwKHBvcHVwX2Q2YmMxMTBmYzcxMjQ0NDM5ZTRlYmRjMDlkMzlhZTMzKQogICAgICAgIDsKCiAgICAgICAgCiAgICAKICAgIAogICAgICAgICAgICB2YXIgbWFya2VyX2IwNTgyMWZjZGI0NTQ4MWRiZGVkMWQwZDY3OWE1OWNjID0gTC5tYXJrZXIoCiAgICAgICAgICAgICAgICBbNDEuNzY0MjkwMjc1MDkxNjQsIC04Ny43MDE4MjE3Mjk5MzE2OF0sCiAgICAgICAgICAgICAgICB7fQogICAgICAgICAgICApLmFkZFRvKG1hcF9iZTRjZmNiYTc1OTk0ZjMwODQ4ZDViMTg0MmVkNjU5ZCk7CiAgICAgICAgCiAgICAKICAgICAgICB2YXIgcG9wdXBfZDEzOGM1NmQ4YzE5NDYxODgwMDRiZjJmYTBkZmFhYWIgPSBMLnBvcHVwKHsibWF4V2lkdGgiOiAiMTAwJSJ9KTsKCiAgICAgICAgCiAgICAgICAgICAgIHZhciBodG1sX2FjM2ZhNjk4OWNlZjQyYTI5ODQzOGMwY2JiYjI5YjQ5ID0gJChgPGRpdiBpZD0iaHRtbF9hYzNmYTY5ODljZWY0MmEyOTg0MzhjMGNiYmIyOWI0OSIgc3R5bGU9IndpZHRoOiAxMDAuMCU7IGhlaWdodDogMTAwLjAlOyI+NjU2PC9kaXY+YClbMF07CiAgICAgICAgICAgIHBvcHVwX2QxMzhjNTZkOGMxOTQ2MTg4MDA0YmYyZmEwZGZhYWFiLnNldENvbnRlbnQoaHRtbF9hYzNmYTY5ODljZWY0MmEyOTg0MzhjMGNiYmIyOWI0OSk7CiAgICAgICAgCgogICAgICAgIG1hcmtlcl9iMDU4MjFmY2RiNDU0ODFkYmRlZDFkMGQ2NzlhNTljYy5iaW5kUG9wdXAocG9wdXBfZDEzOGM1NmQ4YzE5NDYxODgwMDRiZjJmYTBkZmFhYWIpCiAgICAgICAgOwoKICAgICAgICAKICAgIAogICAgCiAgICAgICAgICAgIHZhciBtYXJrZXJfNzA2MTE3NTVhYWViNDMxMDhkNzRiOGUyZDBkNjM1NGMgPSBMLm1hcmtlcigKICAgICAgICAgICAgICAgIFs0MS44NjkxNzU0ODQ4MjIxODYsIC04Ny42NjUwNjYzMjQwODUyNl0sCiAgICAgICAgICAgICAgICB7fQogICAgICAgICAgICApLmFkZFRvKG1hcF9iZTRjZmNiYTc1OTk0ZjMwODQ4ZDViMTg0MmVkNjU5ZCk7CiAgICAgICAgCiAgICAKICAgICAgICB2YXIgcG9wdXBfY2E0MGFiMmEyMmE1NGFjYWI2NjE5YjBlMjJmNzk4YzQgPSBMLnBvcHVwKHsibWF4V2lkdGgiOiAiMTAwJSJ9KTsKCiAgICAgICAgCiAgICAgICAgICAgIHZhciBodG1sX2ExMjNiYmE2ZGJlMDRmNDY5NDFiN2Q5OTk4MmVkM2I5ID0gJChgPGRpdiBpZD0iaHRtbF9hMTIzYmJhNmRiZTA0ZjQ2OTQxYjdkOTk5ODJlZDNiOSIgc3R5bGU9IndpZHRoOiAxMDAuMCU7IGhlaWdodDogMTAwLjAlOyI+NjYzPC9kaXY+YClbMF07CiAgICAgICAgICAgIHBvcHVwX2NhNDBhYjJhMjJhNTRhY2FiNjYxOWIwZTIyZjc5OGM0LnNldENvbnRlbnQoaHRtbF9hMTIzYmJhNmRiZTA0ZjQ2OTQxYjdkOTk5ODJlZDNiOSk7CiAgICAgICAgCgogICAgICAgIG1hcmtlcl83MDYxMTc1NWFhZWI0MzEwOGQ3NGI4ZTJkMGQ2MzU0Yy5iaW5kUG9wdXAocG9wdXBfY2E0MGFiMmEyMmE1NGFjYWI2NjE5YjBlMjJmNzk4YzQpCiAgICAgICAgOwoKICAgICAgICAKICAgIAogICAgCiAgICAgICAgICAgIHZhciBtYXJrZXJfNDM0MDYwZDk2NTA2NDU0NWIzOTY1MDYzZTdmYzlhZTYgPSBMLm1hcmtlcigKICAgICAgICAgICAgICAgIFs0MS45NjgzMzYyNzQ1NDYsIC04Ny43MDg3ODI3MjQ4MzMxN10sCiAgICAgICAgICAgICAgICB7fQogICAgICAgICAgICApLmFkZFRvKG1hcF9iZTRjZmNiYTc1OTk0ZjMwODQ4ZDViMTg0MmVkNjU5ZCk7CiAgICAgICAgCiAgICAKICAgICAgICB2YXIgcG9wdXBfNGYzYTlmMWY5MTU1NDU1OWEzNzkwZDY5YWNjMTVjYzQgPSBMLnBvcHVwKHsibWF4V2lkdGgiOiAiMTAwJSJ9KTsKCiAgICAgICAgCiAgICAgICAgICAgIHZhciBodG1sXzViNmM5YzBlMDIxYTQzZGQ5ZDE1ZjAyZWI5NmNmNDE5ID0gJChgPGRpdiBpZD0iaHRtbF81YjZjOWMwZTAyMWE0M2RkOWQxNWYwMmViOTZjZjQxOSIgc3R5bGU9IndpZHRoOiAxMDAuMCU7IGhlaWdodDogMTAwLjAlOyI+NjY3PC9kaXY+YClbMF07CiAgICAgICAgICAgIHBvcHVwXzRmM2E5ZjFmOTE1NTQ1NTlhMzc5MGQ2OWFjYzE1Y2M0LnNldENvbnRlbnQoaHRtbF81YjZjOWMwZTAyMWE0M2RkOWQxNWYwMmViOTZjZjQxOSk7CiAgICAgICAgCgogICAgICAgIG1hcmtlcl80MzQwNjBkOTY1MDY0NTQ1YjM5NjUwNjNlN2ZjOWFlNi5iaW5kUG9wdXAocG9wdXBfNGYzYTlmMWY5MTU1NDU1OWEzNzkwZDY5YWNjMTVjYzQpCiAgICAgICAgOwoKICAgICAgICAKICAgIAogICAgCiAgICAgICAgICAgIHZhciBtYXJrZXJfYWQzYTQ5NDFiOTkwNGFhYmE0ODZhZjQyZTlhODQ5OTAgPSBMLm1hcmtlcigKICAgICAgICAgICAgICAgIFs0MS45MTcyMjM1MTYyNjUyOCwgLTg3LjczMDU5OTY5MTY2MDE2XSwKICAgICAgICAgICAgICAgIHt9CiAgICAgICAgICAgICkuYWRkVG8obWFwX2JlNGNmY2JhNzU5OTRmMzA4NDhkNWIxODQyZWQ2NTlkKTsKICAgICAgICAKICAgIAogICAgICAgIHZhciBwb3B1cF8wZTUzMzI5YjI0OTk0MGY3OWEyNmI2ZTIwMjM0YmRiYyA9IEwucG9wdXAoeyJtYXhXaWR0aCI6ICIxMDAlIn0pOwoKICAgICAgICAKICAgICAgICAgICAgdmFyIGh0bWxfYjEzNDQ1ZDJhZDYwNDgwZjhmYWVmYmVlNmEwYzQ2NjAgPSAkKGA8ZGl2IGlkPSJodG1sX2IxMzQ0NWQyYWQ2MDQ4MGY4ZmFlZmJlZTZhMGM0NjYwIiBzdHlsZT0id2lkdGg6IDEwMC4wJTsgaGVpZ2h0OiAxMDAuMCU7Ij42Njk8L2Rpdj5gKVswXTsKICAgICAgICAgICAgcG9wdXBfMGU1MzMyOWIyNDk5NDBmNzlhMjZiNmUyMDIzNGJkYmMuc2V0Q29udGVudChodG1sX2IxMzQ0NWQyYWQ2MDQ4MGY4ZmFlZmJlZTZhMGM0NjYwKTsKICAgICAgICAKCiAgICAgICAgbWFya2VyX2FkM2E0OTQxYjk5MDRhYWJhNDg2YWY0MmU5YTg0OTkwLmJpbmRQb3B1cChwb3B1cF8wZTUzMzI5YjI0OTk0MGY3OWEyNmI2ZTIwMjM0YmRiYykKICAgICAgICA7CgogICAgICAgIAogICAgCiAgICAKICAgICAgICAgICAgdmFyIG1hcmtlcl8zZTkyYjY2YjczY2U0NmQyOWJjOGViYTgxOWEyYWFlNCA9IEwubWFya2VyKAogICAgICAgICAgICAgICAgWzQxLjg1NzczMTI3MzM2MzU4LCAtODcuNjYzMzU1Nzc2MzEyNTZdLAogICAgICAgICAgICAgICAge30KICAgICAgICAgICAgKS5hZGRUbyhtYXBfYmU0Y2ZjYmE3NTk5NGYzMDg0OGQ1YjE4NDJlZDY1OWQpOwogICAgICAgIAogICAgCiAgICAgICAgdmFyIHBvcHVwX2Q2Mzc0OGRhZGRkYjQ2MjJiYTJiNjY5MjU0MDNlMDhmID0gTC5wb3B1cCh7Im1heFdpZHRoIjogIjEwMCUifSk7CgogICAgICAgIAogICAgICAgICAgICB2YXIgaHRtbF9kNjEyZDRlNzJjNWM0NjU0OTM3NmQ2NGI2ZDg5YTM5NCA9ICQoYDxkaXYgaWQ9Imh0bWxfZDYxMmQ0ZTcyYzVjNDY1NDkzNzZkNjRiNmQ4OWEzOTQiIHN0eWxlPSJ3aWR0aDogMTAwLjAlOyBoZWlnaHQ6IDEwMC4wJTsiPjY3NDwvZGl2PmApWzBdOwogICAgICAgICAgICBwb3B1cF9kNjM3NDhkYWRkZGI0NjIyYmEyYjY2OTI1NDAzZTA4Zi5zZXRDb250ZW50KGh0bWxfZDYxMmQ0ZTcyYzVjNDY1NDkzNzZkNjRiNmQ4OWEzOTQpOwogICAgICAgIAoKICAgICAgICBtYXJrZXJfM2U5MmI2NmI3M2NlNDZkMjliYzhlYmE4MTlhMmFhZTQuYmluZFBvcHVwKHBvcHVwX2Q2Mzc0OGRhZGRkYjQ2MjJiYTJiNjY5MjU0MDNlMDhmKQogICAgICAgIDsKCiAgICAgICAgCiAgICAKICAgIAogICAgICAgICAgICB2YXIgbWFya2VyXzM4NGNlNDk4YzMzODRkNmRiYjQ5ZmZhODk5MzFkODc3ID0gTC5tYXJrZXIoCiAgICAgICAgICAgICAgICBbNDEuNzUwNTM0OTgxMjU4MTU2LCAtODcuNjU4NjUyMDYyMjg5NjldLAogICAgICAgICAgICAgICAge30KICAgICAgICAgICAgKS5hZGRUbyhtYXBfYmU0Y2ZjYmE3NTk5NGYzMDg0OGQ1YjE4NDJlZDY1OWQpOwogICAgICAgIAogICAgCiAgICAgICAgdmFyIHBvcHVwX2JhZjY4YmE1OWI4MzQzODM5ZDA2MjAyZmQ1ODYxZmUwID0gTC5wb3B1cCh7Im1heFdpZHRoIjogIjEwMCUifSk7CgogICAgICAgIAogICAgICAgICAgICB2YXIgaHRtbF85NmFmZGFkYjJlMTk0NjFmODNiNGU4NzdjMTE4MWU0MSA9ICQoYDxkaXYgaWQ9Imh0bWxfOTZhZmRhZGIyZTE5NDYxZjgzYjRlODc3YzExODFlNDEiIHN0eWxlPSJ3aWR0aDogMTAwLjAlOyBoZWlnaHQ6IDEwMC4wJTsiPjY4MTwvZGl2PmApWzBdOwogICAgICAgICAgICBwb3B1cF9iYWY2OGJhNTliODM0MzgzOWQwNjIwMmZkNTg2MWZlMC5zZXRDb250ZW50KGh0bWxfOTZhZmRhZGIyZTE5NDYxZjgzYjRlODc3YzExODFlNDEpOwogICAgICAgIAoKICAgICAgICBtYXJrZXJfMzg0Y2U0OThjMzM4NGQ2ZGJiNDlmZmE4OTkzMWQ4NzcuYmluZFBvcHVwKHBvcHVwX2JhZjY4YmE1OWI4MzQzODM5ZDA2MjAyZmQ1ODYxZmUwKQogICAgICAgIDsKCiAgICAgICAgCiAgICAKICAgIAogICAgICAgICAgICB2YXIgbWFya2VyXzM2MjRmMmNjNjFiZjQwZjBhMjc2NzM0ZjQ4ZmQ4ZWEzID0gTC5tYXJrZXIoCiAgICAgICAgICAgICAgICBbNDEuNjkxNjc5MjA0MDMwNjgsIC04Ny42Nzk3NzkxNzI1MjU1N10sCiAgICAgICAgICAgICAgICB7fQogICAgICAgICAgICApLmFkZFRvKG1hcF9iZTRjZmNiYTc1OTk0ZjMwODQ4ZDViMTg0MmVkNjU5ZCk7CiAgICAgICAgCiAgICAKICAgICAgICB2YXIgcG9wdXBfMTIzYmUxOTQ0NjI5NGVjOWE4ZjcwMzYyMWY1YzVjODQgPSBMLnBvcHVwKHsibWF4V2lkdGgiOiAiMTAwJSJ9KTsKCiAgICAgICAgCiAgICAgICAgICAgIHZhciBodG1sX2Q5YTA3OGM5YjM0NjRlNDBiNTM1MTI0N2YyMzNkM2MzID0gJChgPGRpdiBpZD0iaHRtbF9kOWEwNzhjOWIzNDY0ZTQwYjUzNTEyNDdmMjMzZDNjMyIgc3R5bGU9IndpZHRoOiAxMDAuMCU7IGhlaWdodDogMTAwLjAlOyI+Njg5PC9kaXY+YClbMF07CiAgICAgICAgICAgIHBvcHVwXzEyM2JlMTk0NDYyOTRlYzlhOGY3MDM2MjFmNWM1Yzg0LnNldENvbnRlbnQoaHRtbF9kOWEwNzhjOWIzNDY0ZTQwYjUzNTEyNDdmMjMzZDNjMyk7CiAgICAgICAgCgogICAgICAgIG1hcmtlcl8zNjI0ZjJjYzYxYmY0MGYwYTI3NjczNGY0OGZkOGVhMy5iaW5kUG9wdXAocG9wdXBfMTIzYmUxOTQ0NjI5NGVjOWE4ZjcwMzYyMWY1YzVjODQpCiAgICAgICAgOwoKICAgICAgICAKICAgIAogICAgCiAgICAgICAgICAgIHZhciBtYXJrZXJfM2Y1YzE2Y2FiZTdkNDQ0OGE1MjQ3NjFmOGJhNGVhMWQgPSBMLm1hcmtlcigKICAgICAgICAgICAgICAgIFs0MS45MDA4OTE1NzA2Mjk4NDUsIC04Ny42MjYyMjI5MjMwNzEyXSwKICAgICAgICAgICAgICAgIHt9CiAgICAgICAgICAgICkuYWRkVG8obWFwX2JlNGNmY2JhNzU5OTRmMzA4NDhkNWIxODQyZWQ2NTlkKTsKICAgICAgICAKICAgIAogICAgICAgIHZhciBwb3B1cF8xODVhZDM3YzQyOWU0MWJlOGUxYzlkOGEyZjZhMDIwMCA9IEwucG9wdXAoeyJtYXhXaWR0aCI6ICIxMDAlIn0pOwoKICAgICAgICAKICAgICAgICAgICAgdmFyIGh0bWxfNmUyMTM0N2JhM2U2NDFhN2E2ODA5NDg3OTI5NDA4NGMgPSAkKGA8ZGl2IGlkPSJodG1sXzZlMjEzNDdiYTNlNjQxYTdhNjgwOTQ4NzkyOTQwODRjIiBzdHlsZT0id2lkdGg6IDEwMC4wJTsgaGVpZ2h0OiAxMDAuMCU7Ij43MTE8L2Rpdj5gKVswXTsKICAgICAgICAgICAgcG9wdXBfMTg1YWQzN2M0MjllNDFiZThlMWM5ZDhhMmY2YTAyMDAuc2V0Q29udGVudChodG1sXzZlMjEzNDdiYTNlNjQxYTdhNjgwOTQ4NzkyOTQwODRjKTsKICAgICAgICAKCiAgICAgICAgbWFya2VyXzNmNWMxNmNhYmU3ZDQ0NDhhNTI0NzYxZjhiYTRlYTFkLmJpbmRQb3B1cChwb3B1cF8xODVhZDM3YzQyOWU0MWJlOGUxYzlkOGEyZjZhMDIwMCkKICAgICAgICA7CgogICAgICAgIAogICAgCiAgICAKICAgICAgICAgICAgdmFyIG1hcmtlcl80MmRiOGFkN2Y4MzU0ZWViYmM0ZGRlYTlkMmQ3ZDBhZiA9IEwubWFya2VyKAogICAgICAgICAgICAgICAgWzQxLjk2NDkxNDA5ODM5NTA1LCAtODcuNjYxMTU3NzM4NzQ5M10sCiAgICAgICAgICAgICAgICB7fQogICAgICAgICAgICApLmFkZFRvKG1hcF9iZTRjZmNiYTc1OTk0ZjMwODQ4ZDViMTg0MmVkNjU5ZCk7CiAgICAgICAgCiAgICAKICAgICAgICB2YXIgcG9wdXBfYzJiOTc1MzBiYTc0NGVkODk5YmUxOGRmZjYzY2UzNzEgPSBMLnBvcHVwKHsibWF4V2lkdGgiOiAiMTAwJSJ9KTsKCiAgICAgICAgCiAgICAgICAgICAgIHZhciBodG1sXzlmNTRkNmE1OTM1MDRhMTY5NzhiZTY2OTBhMWZlMDdmID0gJChgPGRpdiBpZD0iaHRtbF85ZjU0ZDZhNTkzNTA0YTE2OTc4YmU2NjkwYTFmZTA3ZiIgc3R5bGU9IndpZHRoOiAxMDAuMCU7IGhlaWdodDogMTAwLjAlOyI+NzEyPC9kaXY+YClbMF07CiAgICAgICAgICAgIHBvcHVwX2MyYjk3NTMwYmE3NDRlZDg5OWJlMThkZmY2M2NlMzcxLnNldENvbnRlbnQoaHRtbF85ZjU0ZDZhNTkzNTA0YTE2OTc4YmU2NjkwYTFmZTA3Zik7CiAgICAgICAgCgogICAgICAgIG1hcmtlcl80MmRiOGFkN2Y4MzU0ZWViYmM0ZGRlYTlkMmQ3ZDBhZi5iaW5kUG9wdXAocG9wdXBfYzJiOTc1MzBiYTc0NGVkODk5YmUxOGRmZjYzY2UzNzEpCiAgICAgICAgOwoKICAgICAgICAKICAgIAogICAgCiAgICAgICAgICAgIHZhciBtYXJrZXJfZGM5MzgzZWE4YTUzNGVkMjhhZTEwOWI4YzY1Y2JlOTMgPSBMLm1hcmtlcigKICAgICAgICAgICAgICAgIFs0MS44NDY5NDQ4Njg5MDQwOTYsIC04Ny42MjUyMTM2MTA5MTA1OV0sCiAgICAgICAgICAgICAgICB7fQogICAgICAgICAgICApLmFkZFRvKG1hcF9iZTRjZmNiYTc1OTk0ZjMwODQ4ZDViMTg0MmVkNjU5ZCk7CiAgICAgICAgCiAgICAKICAgICAgICB2YXIgcG9wdXBfOGUzNTMxMjQzMTZkNDBkNzgwZWFhOTg0ODJkYjcxZjggPSBMLnBvcHVwKHsibWF4V2lkdGgiOiAiMTAwJSJ9KTsKCiAgICAgICAgCiAgICAgICAgICAgIHZhciBodG1sXzQzOGE5ZTc4NWVjMzRlMjhiNDY1N2I0NjBmZDZiODdhID0gJChgPGRpdiBpZD0iaHRtbF80MzhhOWU3ODVlYzM0ZTI4YjQ2NTdiNDYwZmQ2Yjg3YSIgc3R5bGU9IndpZHRoOiAxMDAuMCU7IGhlaWdodDogMTAwLjAlOyI+NzI0PC9kaXY+YClbMF07CiAgICAgICAgICAgIHBvcHVwXzhlMzUzMTI0MzE2ZDQwZDc4MGVhYTk4NDgyZGI3MWY4LnNldENvbnRlbnQoaHRtbF80MzhhOWU3ODVlYzM0ZTI4YjQ2NTdiNDYwZmQ2Yjg3YSk7CiAgICAgICAgCgogICAgICAgIG1hcmtlcl9kYzkzODNlYThhNTM0ZWQyOGFlMTA5YjhjNjVjYmU5My5iaW5kUG9wdXAocG9wdXBfOGUzNTMxMjQzMTZkNDBkNzgwZWFhOTg0ODJkYjcxZjgpCiAgICAgICAgOwoKICAgICAgICAKICAgIAogICAgCiAgICAgICAgICAgIHZhciBtYXJrZXJfMmQ0ZmJlZTdhMjdlNGRiNWEyMTBiMGU2N2ZhMTljNzggPSBMLm1hcmtlcigKICAgICAgICAgICAgICAgIFs0MS45NDk4ODI2NDkzNjEwOSwgLTg3LjY2NDI0MTc3ODU4Njc4XSwKICAgICAgICAgICAgICAgIHt9CiAgICAgICAgICAgICkuYWRkVG8obWFwX2JlNGNmY2JhNzU5OTRmMzA4NDhkNWIxODQyZWQ2NTlkKTsKICAgICAgICAKICAgIAogICAgICAgIHZhciBwb3B1cF9hZDdlODQ1Mjc1YTc0ZTU2YTk4Mjc0NDQ2NGNlODUwMSA9IEwucG9wdXAoeyJtYXhXaWR0aCI6ICIxMDAlIn0pOwoKICAgICAgICAKICAgICAgICAgICAgdmFyIGh0bWxfM2VlYWVhNDUxZjZjNDg0OGE1YTE1ZjVjZDk1Y2Y3NmYgPSAkKGA8ZGl2IGlkPSJodG1sXzNlZWFlYTQ1MWY2YzQ4NDhhNWExNWY1Y2Q5NWNmNzZmIiBzdHlsZT0id2lkdGg6IDEwMC4wJTsgaGVpZ2h0OiAxMDAuMCU7Ij43MjU8L2Rpdj5gKVswXTsKICAgICAgICAgICAgcG9wdXBfYWQ3ZTg0NTI3NWE3NGU1NmE5ODI3NDQ0NjRjZTg1MDEuc2V0Q29udGVudChodG1sXzNlZWFlYTQ1MWY2YzQ4NDhhNWExNWY1Y2Q5NWNmNzZmKTsKICAgICAgICAKCiAgICAgICAgbWFya2VyXzJkNGZiZWU3YTI3ZTRkYjVhMjEwYjBlNjdmYTE5Yzc4LmJpbmRQb3B1cChwb3B1cF9hZDdlODQ1Mjc1YTc0ZTU2YTk4Mjc0NDQ2NGNlODUwMSkKICAgICAgICA7CgogICAgICAgIAogICAgCiAgICAKICAgICAgICAgICAgdmFyIG1hcmtlcl8wNWUxZGRjMDc5YmE0ZDc5OTJkN2RjMjJjYWFmNjBjOCA9IEwubWFya2VyKAogICAgICAgICAgICAgICAgWzQxLjkxNzA3MzM5MzY5MDI1LCAtODcuNzAxOTMwNDM5OTc1NDNdLAogICAgICAgICAgICAgICAge30KICAgICAgICAgICAgKS5hZGRUbyhtYXBfYmU0Y2ZjYmE3NTk5NGYzMDg0OGQ1YjE4NDJlZDY1OWQpOwogICAgICAgIAogICAgCiAgICAgICAgdmFyIHBvcHVwX2Y4YWNhNGNhMDJmMjQzYmNhZDg0MWM2OWI0NjMyZTRjID0gTC5wb3B1cCh7Im1heFdpZHRoIjogIjEwMCUifSk7CgogICAgICAgIAogICAgICAgICAgICB2YXIgaHRtbF83YjNmMGEwYmQ5MmY0YTk4OTVhMjA5ZTdjY2RjNzg0NiA9ICQoYDxkaXYgaWQ9Imh0bWxfN2IzZjBhMGJkOTJmNGE5ODk1YTIwOWU3Y2NkYzc4NDYiIHN0eWxlPSJ3aWR0aDogMTAwLjAlOyBoZWlnaHQ6IDEwMC4wJTsiPjcyNjwvZGl2PmApWzBdOwogICAgICAgICAgICBwb3B1cF9mOGFjYTRjYTAyZjI0M2JjYWQ4NDFjNjliNDYzMmU0Yy5zZXRDb250ZW50KGh0bWxfN2IzZjBhMGJkOTJmNGE5ODk1YTIwOWU3Y2NkYzc4NDYpOwogICAgICAgIAoKICAgICAgICBtYXJrZXJfMDVlMWRkYzA3OWJhNGQ3OTkyZDdkYzIyY2FhZjYwYzguYmluZFBvcHVwKHBvcHVwX2Y4YWNhNGNhMDJmMjQzYmNhZDg0MWM2OWI0NjMyZTRjKQogICAgICAgIDsKCiAgICAgICAgCiAgICAKICAgIAogICAgICAgICAgICB2YXIgbWFya2VyX2ViZjk0MzcyYjgwYTRmYTNiYTQ5ZWI1ZjRiYzU5ZjNjID0gTC5tYXJrZXIoCiAgICAgICAgICAgICAgICBbNDEuNjc3ODYyNTkxMjM1MDA1LCAtODcuNjI3NDAxMDA2OTIxNF0sCiAgICAgICAgICAgICAgICB7fQogICAgICAgICAgICApLmFkZFRvKG1hcF9iZTRjZmNiYTc1OTk0ZjMwODQ4ZDViMTg0MmVkNjU5ZCk7CiAgICAgICAgCiAgICAKICAgICAgICB2YXIgcG9wdXBfNGI3NDE2ZGQ3MjFiNGViNmI3MDRhNzlmN2YzZjgwOGQgPSBMLnBvcHVwKHsibWF4V2lkdGgiOiAiMTAwJSJ9KTsKCiAgICAgICAgCiAgICAgICAgICAgIHZhciBodG1sXzVhYTUyZDk4NTM1NTQwZTc5MTQ2YmNmMzQzOTk4MDNiID0gJChgPGRpdiBpZD0iaHRtbF81YWE1MmQ5ODUzNTU0MGU3OTE0NmJjZjM0Mzk5ODAzYiIgc3R5bGU9IndpZHRoOiAxMDAuMCU7IGhlaWdodDogMTAwLjAlOyI+NzM3PC9kaXY+YClbMF07CiAgICAgICAgICAgIHBvcHVwXzRiNzQxNmRkNzIxYjRlYjZiNzA0YTc5ZjdmM2Y4MDhkLnNldENvbnRlbnQoaHRtbF81YWE1MmQ5ODUzNTU0MGU3OTE0NmJjZjM0Mzk5ODAzYik7CiAgICAgICAgCgogICAgICAgIG1hcmtlcl9lYmY5NDM3MmI4MGE0ZmEzYmE0OWViNWY0YmM1OWYzYy5iaW5kUG9wdXAocG9wdXBfNGI3NDE2ZGQ3MjFiNGViNmI3MDRhNzlmN2YzZjgwOGQpCiAgICAgICAgOwoKICAgICAgICAKICAgIAogICAgCiAgICAgICAgICAgIHZhciBtYXJrZXJfMjc3Y2IxMmNlMzNmNDQwNGJlMzJiNjYxMjE4Y2I0OTkgPSBMLm1hcmtlcigKICAgICAgICAgICAgICAgIFs0MS45MTAyMTg5NTIzNDQ2MSwgLTg3LjY2NzUzNDUzNzQ4MzUzXSwKICAgICAgICAgICAgICAgIHt9CiAgICAgICAgICAgICkuYWRkVG8obWFwX2JlNGNmY2JhNzU5OTRmMzA4NDhkNWIxODQyZWQ2NTlkKTsKICAgICAgICAKICAgIAogICAgICAgIHZhciBwb3B1cF8wMGFlZWFhM2VhODc0MGFjYjNkOTkzYTk5ZjAyZWYyNSA9IEwucG9wdXAoeyJtYXhXaWR0aCI6ICIxMDAlIn0pOwoKICAgICAgICAKICAgICAgICAgICAgdmFyIGh0bWxfMDFjZjg0OGE3MWJiNDJhNDk2MzQ3OWM1YmNhNDBiM2YgPSAkKGA8ZGl2IGlkPSJodG1sXzAxY2Y4NDhhNzFiYjQyYTQ5NjM0NzljNWJjYTQwYjNmIiBzdHlsZT0id2lkdGg6IDEwMC4wJTsgaGVpZ2h0OiAxMDAuMCU7Ij43NTA8L2Rpdj5gKVswXTsKICAgICAgICAgICAgcG9wdXBfMDBhZWVhYTNlYTg3NDBhY2IzZDk5M2E5OWYwMmVmMjUuc2V0Q29udGVudChodG1sXzAxY2Y4NDhhNzFiYjQyYTQ5NjM0NzljNWJjYTQwYjNmKTsKICAgICAgICAKCiAgICAgICAgbWFya2VyXzI3N2NiMTJjZTMzZjQ0MDRiZTMyYjY2MTIxOGNiNDk5LmJpbmRQb3B1cChwb3B1cF8wMGFlZWFhM2VhODc0MGFjYjNkOTkzYTk5ZjAyZWYyNSkKICAgICAgICA7CgogICAgICAgIAogICAgCiAgICAKICAgICAgICAgICAgdmFyIG1hcmtlcl9lNDZjZDg0NzBjM2E0NzJhYTg1ZDlhMDVlZDQ2NWJlNCA9IEwubWFya2VyKAogICAgICAgICAgICAgICAgWzQyLjAwODUzNjQwMDg2ODczNSwgLTg3LjkxNDQyODQzOTI3MDQ4XSwKICAgICAgICAgICAgICAgIHt9CiAgICAgICAgICAgICkuYWRkVG8obWFwX2JlNGNmY2JhNzU5OTRmMzA4NDhkNWIxODQyZWQ2NTlkKTsKICAgICAgICAKICAgIAogICAgICAgIHZhciBwb3B1cF8zZjM5NzYwM2VjZDY0MTQ5YWViZTIwZjUwMmE1MDQ5NCA9IEwucG9wdXAoeyJtYXhXaWR0aCI6ICIxMDAlIn0pOwoKICAgICAgICAKICAgICAgICAgICAgdmFyIGh0bWxfNjhkMTI3MWIwMDNmNGNjOWE0ZGRjZTkyNTlkODc2ZDggPSAkKGA8ZGl2IGlkPSJodG1sXzY4ZDEyNzFiMDAzZjRjYzlhNGRkY2U5MjU5ZDg3NmQ4IiBzdHlsZT0id2lkdGg6IDEwMC4wJTsgaGVpZ2h0OiAxMDAuMCU7Ij43NTE8L2Rpdj5gKVswXTsKICAgICAgICAgICAgcG9wdXBfM2YzOTc2MDNlY2Q2NDE0OWFlYmUyMGY1MDJhNTA0OTQuc2V0Q29udGVudChodG1sXzY4ZDEyNzFiMDAzZjRjYzlhNGRkY2U5MjU5ZDg3NmQ4KTsKICAgICAgICAKCiAgICAgICAgbWFya2VyX2U0NmNkODQ3MGMzYTQ3MmFhODVkOWEwNWVkNDY1YmU0LmJpbmRQb3B1cChwb3B1cF8zZjM5NzYwM2VjZDY0MTQ5YWViZTIwZjUwMmE1MDQ5NCkKICAgICAgICA7CgogICAgICAgIAogICAgCiAgICAKICAgICAgICAgICAgdmFyIG1hcmtlcl81MmEzMTYzM2MxNmI0YjA2YmZjOWYyMmU5NTU0MmQzYSA9IEwubWFya2VyKAogICAgICAgICAgICAgICAgWzQxLjY5MTQwNjE4OTIzMzc3NCwgLTg3LjcxODMwNjA3ODA4MTYyXSwKICAgICAgICAgICAgICAgIHt9CiAgICAgICAgICAgICkuYWRkVG8obWFwX2JlNGNmY2JhNzU5OTRmMzA4NDhkNWIxODQyZWQ2NTlkKTsKICAgICAgICAKICAgIAogICAgICAgIHZhciBwb3B1cF9mYjE3NmE1MDkzMTc0ZmI0YTFhZmFlOGM5YzlhM2MwNCA9IEwucG9wdXAoeyJtYXhXaWR0aCI6ICIxMDAlIn0pOwoKICAgICAgICAKICAgICAgICAgICAgdmFyIGh0bWxfNjcwZTRkN2FlMWY3NDQ4OGExMTUxMjYwZjQ1NWUzODEgPSAkKGA8ZGl2IGlkPSJodG1sXzY3MGU0ZDdhZTFmNzQ0ODhhMTE1MTI2MGY0NTVlMzgxIiBzdHlsZT0id2lkdGg6IDEwMC4wJTsgaGVpZ2h0OiAxMDAuMCU7Ij43ODE8L2Rpdj5gKVswXTsKICAgICAgICAgICAgcG9wdXBfZmIxNzZhNTA5MzE3NGZiNGExYWZhZThjOWM5YTNjMDQuc2V0Q29udGVudChodG1sXzY3MGU0ZDdhZTFmNzQ0ODhhMTE1MTI2MGY0NTVlMzgxKTsKICAgICAgICAKCiAgICAgICAgbWFya2VyXzUyYTMxNjMzYzE2YjRiMDZiZmM5ZjIyZTk1NTQyZDNhLmJpbmRQb3B1cChwb3B1cF9mYjE3NmE1MDkzMTc0ZmI0YTFhZmFlOGM5YzlhM2MwNCkKICAgICAgICA7CgogICAgICAgIAogICAgCiAgICAKICAgICAgICAgICAgdmFyIG1hcmtlcl80YWFhYzI3NzE1NDQ0NmYxOWMyNDk5ZGIwYzBmZmU5MyA9IEwubWFya2VyKAogICAgICAgICAgICAgICAgWzQxLjY5MTQwNjE4OTIzMzc3NCwgLTg3LjcxODMwNjA3ODA4MTYyXSwKICAgICAgICAgICAgICAgIHt9CiAgICAgICAgICAgICkuYWRkVG8obWFwX2JlNGNmY2JhNzU5OTRmMzA4NDhkNWIxODQyZWQ2NTlkKTsKICAgICAgICAKICAgIAogICAgICAgIHZhciBwb3B1cF84ZTFiNGM3MDMxYzY0MDNkOTVhYjM0ODE5OTZiODZiNCA9IEwucG9wdXAoeyJtYXhXaWR0aCI6ICIxMDAlIn0pOwoKICAgICAgICAKICAgICAgICAgICAgdmFyIGh0bWxfZmJjOTM0MWEwN2E4NGY1MGI2OTc0YTUzMDgwOTExZjQgPSAkKGA8ZGl2IGlkPSJodG1sX2ZiYzkzNDFhMDdhODRmNTBiNjk3NGE1MzA4MDkxMWY0IiBzdHlsZT0id2lkdGg6IDEwMC4wJTsgaGVpZ2h0OiAxMDAuMCU7Ij43ODY8L2Rpdj5gKVswXTsKICAgICAgICAgICAgcG9wdXBfOGUxYjRjNzAzMWM2NDAzZDk1YWIzNDgxOTk2Yjg2YjQuc2V0Q29udGVudChodG1sX2ZiYzkzNDFhMDdhODRmNTBiNjk3NGE1MzA4MDkxMWY0KTsKICAgICAgICAKCiAgICAgICAgbWFya2VyXzRhYWFjMjc3MTU0NDQ2ZjE5YzI0OTlkYjBjMGZmZTkzLmJpbmRQb3B1cChwb3B1cF84ZTFiNGM3MDMxYzY0MDNkOTVhYjM0ODE5OTZiODZiNCkKICAgICAgICA7CgogICAgICAgIAogICAgCiAgICAKICAgICAgICAgICAgdmFyIG1hcmtlcl85MTc0NzNmMTljNWM0MmIxOTU4MzE1NDliZDgxYjgwNyA9IEwubWFya2VyKAogICAgICAgICAgICAgICAgWzQxLjc1MDgyNDM3OTA3ODE1LCAtODcuNjI2NTQzNzkzNjI3MTRdLAogICAgICAgICAgICAgICAge30KICAgICAgICAgICAgKS5hZGRUbyhtYXBfYmU0Y2ZjYmE3NTk5NGYzMDg0OGQ1YjE4NDJlZDY1OWQpOwogICAgICAgIAogICAgCiAgICAgICAgdmFyIHBvcHVwXzZkNjBiMzBhYzQ3YzQyZTdhZmY1Y2ZmYjY0MWM1YjQzID0gTC5wb3B1cCh7Im1heFdpZHRoIjogIjEwMCUifSk7CgogICAgICAgIAogICAgICAgICAgICB2YXIgaHRtbF9mMzhjNzViYTM5NWM0ODg3YjNkMTE3NDc4ZTc4NzE0YSA9ICQoYDxkaXYgaWQ9Imh0bWxfZjM4Yzc1YmEzOTVjNDg4N2IzZDExNzQ3OGU3ODcxNGEiIHN0eWxlPSJ3aWR0aDogMTAwLjAlOyBoZWlnaHQ6IDEwMC4wJTsiPjc5MjwvZGl2PmApWzBdOwogICAgICAgICAgICBwb3B1cF82ZDYwYjMwYWM0N2M0MmU3YWZmNWNmZmI2NDFjNWI0My5zZXRDb250ZW50KGh0bWxfZjM4Yzc1YmEzOTVjNDg4N2IzZDExNzQ3OGU3ODcxNGEpOwogICAgICAgIAoKICAgICAgICBtYXJrZXJfOTE3NDczZjE5YzVjNDJiMTk1ODMxNTQ5YmQ4MWI4MDcuYmluZFBvcHVwKHBvcHVwXzZkNjBiMzBhYzQ3YzQyZTdhZmY1Y2ZmYjY0MWM1YjQzKQogICAgICAgIDsKCiAgICAgICAgCiAgICAKICAgIAogICAgICAgICAgICB2YXIgbWFya2VyXzg4NDhjMTMwOTY1NzQ3NGRiYTk2OWRiMDE0ZjU5ZmM1ID0gTC5tYXJrZXIoCiAgICAgICAgICAgICAgICBbNDEuOTc3MDg5OTQ0OTYzMjQsIC04Ny42NjAwMzM2ODcwMTA0NV0sCiAgICAgICAgICAgICAgICB7fQogICAgICAgICAgICApLmFkZFRvKG1hcF9iZTRjZmNiYTc1OTk0ZjMwODQ4ZDViMTg0MmVkNjU5ZCk7CiAgICAgICAgCiAgICAKICAgICAgICB2YXIgcG9wdXBfNDk5NTI5YWYxZjBkNDJlMWJiN2FkMDBkMjNhYjkxNGEgPSBMLnBvcHVwKHsibWF4V2lkdGgiOiAiMTAwJSJ9KTsKCiAgICAgICAgCiAgICAgICAgICAgIHZhciBodG1sXzcyNGVmYzU5ZTQwMzRiYjhhOWVjNjE1NjliNmNmZTVhID0gJChgPGRpdiBpZD0iaHRtbF83MjRlZmM1OWU0MDM0YmI4YTllYzYxNTY5YjZjZmU1YSIgc3R5bGU9IndpZHRoOiAxMDAuMCU7IGhlaWdodDogMTAwLjAlOyI+Nzk0PC9kaXY+YClbMF07CiAgICAgICAgICAgIHBvcHVwXzQ5OTUyOWFmMWYwZDQyZTFiYjdhZDAwZDIzYWI5MTRhLnNldENvbnRlbnQoaHRtbF83MjRlZmM1OWU0MDM0YmI4YTllYzYxNTY5YjZjZmU1YSk7CiAgICAgICAgCgogICAgICAgIG1hcmtlcl84ODQ4YzEzMDk2NTc0NzRkYmE5NjlkYjAxNGY1OWZjNS5iaW5kUG9wdXAocG9wdXBfNDk5NTI5YWYxZjBkNDJlMWJiN2FkMDBkMjNhYjkxNGEpCiAgICAgICAgOwoKICAgICAgICAKICAgIAogICAgCiAgICAgICAgICAgIHZhciBtYXJrZXJfYWMzNmU2NWY1ZmI1NDdmMzkwMmJmMzRhM2MwZTU1MzYgPSBMLm1hcmtlcigKICAgICAgICAgICAgICAgIFs0MS45MzE2Mzk2OTIwNTg0LCAtODcuNzQ2ODcyNjg0NDU1NzVdLAogICAgICAgICAgICAgICAge30KICAgICAgICAgICAgKS5hZGRUbyhtYXBfYmU0Y2ZjYmE3NTk5NGYzMDg0OGQ1YjE4NDJlZDY1OWQpOwogICAgICAgIAogICAgCiAgICAgICAgdmFyIHBvcHVwXzNkN2ZjYzJmNjIxNjQwOWVhZDQ2MTk4MTEwMDY2ZWEyID0gTC5wb3B1cCh7Im1heFdpZHRoIjogIjEwMCUifSk7CgogICAgICAgIAogICAgICAgICAgICB2YXIgaHRtbF9jMTAwZTRjN2JmYjk0MmIzYTM1ZjA0M2Y0ODAwMzMzMiA9ICQoYDxkaXYgaWQ9Imh0bWxfYzEwMGU0YzdiZmI5NDJiM2EzNWYwNDNmNDgwMDMzMzIiIHN0eWxlPSJ3aWR0aDogMTAwLjAlOyBoZWlnaHQ6IDEwMC4wJTsiPjgwNDwvZGl2PmApWzBdOwogICAgICAgICAgICBwb3B1cF8zZDdmY2MyZjYyMTY0MDllYWQ0NjE5ODExMDA2NmVhMi5zZXRDb250ZW50KGh0bWxfYzEwMGU0YzdiZmI5NDJiM2EzNWYwNDNmNDgwMDMzMzIpOwogICAgICAgIAoKICAgICAgICBtYXJrZXJfYWMzNmU2NWY1ZmI1NDdmMzkwMmJmMzRhM2MwZTU1MzYuYmluZFBvcHVwKHBvcHVwXzNkN2ZjYzJmNjIxNjQwOWVhZDQ2MTk4MTEwMDY2ZWEyKQogICAgICAgIDsKCiAgICAgICAgCiAgICAKICAgIAogICAgICAgICAgICB2YXIgbWFya2VyX2FhOGE2ZjhiMjhiNzQ3YTA4YTgxZDNhOTdiMzA2M2IyID0gTC5tYXJrZXIoCiAgICAgICAgICAgICAgICBbNDEuODgwNDU0OTc0MzA1MTgsIC04Ny43NTcyODk3NjUzNjU3NF0sCiAgICAgICAgICAgICAgICB7fQogICAgICAgICAgICApLmFkZFRvKG1hcF9iZTRjZmNiYTc1OTk0ZjMwODQ4ZDViMTg0MmVkNjU5ZCk7CiAgICAgICAgCiAgICAKICAgICAgICB2YXIgcG9wdXBfYjIzY2Q5MzkzODZmNDZhNzliYTIxNTllYjAxMTIxNWIgPSBMLnBvcHVwKHsibWF4V2lkdGgiOiAiMTAwJSJ9KTsKCiAgICAgICAgCiAgICAgICAgICAgIHZhciBodG1sX2M5YjVmYzJmNThhZTQ5MTdhNDYyNzQyNDdmMTc5ZmRkID0gJChgPGRpdiBpZD0iaHRtbF9jOWI1ZmMyZjU4YWU0OTE3YTQ2Mjc0MjQ3ZjE3OWZkZCIgc3R5bGU9IndpZHRoOiAxMDAuMCU7IGhlaWdodDogMTAwLjAlOyI+ODA3PC9kaXY+YClbMF07CiAgICAgICAgICAgIHBvcHVwX2IyM2NkOTM5Mzg2ZjQ2YTc5YmEyMTU5ZWIwMTEyMTViLnNldENvbnRlbnQoaHRtbF9jOWI1ZmMyZjU4YWU0OTE3YTQ2Mjc0MjQ3ZjE3OWZkZCk7CiAgICAgICAgCgogICAgICAgIG1hcmtlcl9hYThhNmY4YjI4Yjc0N2EwOGE4MWQzYTk3YjMwNjNiMi5iaW5kUG9wdXAocG9wdXBfYjIzY2Q5MzkzODZmNDZhNzliYTIxNTllYjAxMTIxNWIpCiAgICAgICAgOwoKICAgICAgICAKICAgIAogICAgCiAgICAgICAgICAgIHZhciBtYXJrZXJfZTkyNmJjOWZlMTIyNDY4YmIxMWYxMmZkNTliZWU0NGUgPSBMLm1hcmtlcigKICAgICAgICAgICAgICAgIFs0MS45MTM4NzM3MzA4MDY2MiwgLTg3LjY1NTA5NTczMTY2NDk0XSwKICAgICAgICAgICAgICAgIHt9CiAgICAgICAgICAgICkuYWRkVG8obWFwX2JlNGNmY2JhNzU5OTRmMzA4NDhkNWIxODQyZWQ2NTlkKTsKICAgICAgICAKICAgIAogICAgICAgIHZhciBwb3B1cF85NzAwNmNiOWE1ZjI0MDE5ODUxODJhNjAzOTdkMzM1YiA9IEwucG9wdXAoeyJtYXhXaWR0aCI6ICIxMDAlIn0pOwoKICAgICAgICAKICAgICAgICAgICAgdmFyIGh0bWxfZDZkNWFlNDE3OGVjNDcwODg1YWEwM2MzNjI5NTZiNDEgPSAkKGA8ZGl2IGlkPSJodG1sX2Q2ZDVhZTQxNzhlYzQ3MDg4NWFhMDNjMzYyOTU2YjQxIiBzdHlsZT0id2lkdGg6IDEwMC4wJTsgaGVpZ2h0OiAxMDAuMCU7Ij44MDk8L2Rpdj5gKVswXTsKICAgICAgICAgICAgcG9wdXBfOTcwMDZjYjlhNWYyNDAxOTg1MTgyYTYwMzk3ZDMzNWIuc2V0Q29udGVudChodG1sX2Q2ZDVhZTQxNzhlYzQ3MDg4NWFhMDNjMzYyOTU2YjQxKTsKICAgICAgICAKCiAgICAgICAgbWFya2VyX2U5MjZiYzlmZTEyMjQ2OGJiMTFmMTJmZDU5YmVlNDRlLmJpbmRQb3B1cChwb3B1cF85NzAwNmNiOWE1ZjI0MDE5ODUxODJhNjAzOTdkMzM1YikKICAgICAgICA7CgogICAgICAgIAogICAgCiAgICAKICAgICAgICAgICAgdmFyIG1hcmtlcl83YzI2ZGJhYzI4NjU0MjQ2YmI5ZWJiNDIxODM0ODc2MCA9IEwubWFya2VyKAogICAgICAgICAgICAgICAgWzQxLjkyOTY3MDIyMDM1MTEzNCwgLTg3LjcwODYyNDA3MzgyNjFdLAogICAgICAgICAgICAgICAge30KICAgICAgICAgICAgKS5hZGRUbyhtYXBfYmU0Y2ZjYmE3NTk5NGYzMDg0OGQ1YjE4NDJlZDY1OWQpOwogICAgICAgIAogICAgCiAgICAgICAgdmFyIHBvcHVwXzg5Mzc3MDllM2ZlMzRiZDViN2M0NmYzODc3NzI3MGQ3ID0gTC5wb3B1cCh7Im1heFdpZHRoIjogIjEwMCUifSk7CgogICAgICAgIAogICAgICAgICAgICB2YXIgaHRtbF84NTAzNGU0MjEyODg0NzBlODNjZjlkMTZkMjlmYzJmNyA9ICQoYDxkaXYgaWQ9Imh0bWxfODUwMzRlNDIxMjg4NDcwZTgzY2Y5ZDE2ZDI5ZmMyZjciIHN0eWxlPSJ3aWR0aDogMTAwLjAlOyBoZWlnaHQ6IDEwMC4wJTsiPjgxODwvZGl2PmApWzBdOwogICAgICAgICAgICBwb3B1cF84OTM3NzA5ZTNmZTM0YmQ1YjdjNDZmMzg3NzcyNzBkNy5zZXRDb250ZW50KGh0bWxfODUwMzRlNDIxMjg4NDcwZTgzY2Y5ZDE2ZDI5ZmMyZjcpOwogICAgICAgIAoKICAgICAgICBtYXJrZXJfN2MyNmRiYWMyODY1NDI0NmJiOWViYjQyMTgzNDg3NjAuYmluZFBvcHVwKHBvcHVwXzg5Mzc3MDllM2ZlMzRiZDViN2M0NmYzODc3NzI3MGQ3KQogICAgICAgIDsKCiAgICAgICAgCiAgICAKICAgIAogICAgICAgICAgICB2YXIgbWFya2VyX2RhNTRiNDRiYWVlODQyODM5YzhmN2M1MjU1NTEzNWIxID0gTC5tYXJrZXIoCiAgICAgICAgICAgICAgICBbNDEuNzc4MTE3NTc0NzQxNDksIC04Ny43Njg5MTIwNjMyODQ4XSwKICAgICAgICAgICAgICAgIHt9CiAgICAgICAgICAgICkuYWRkVG8obWFwX2JlNGNmY2JhNzU5OTRmMzA4NDhkNWIxODQyZWQ2NTlkKTsKICAgICAgICAKICAgIAogICAgICAgIHZhciBwb3B1cF8yMTlkNWJlNmQ1NTI0MDU3ODRlYWIwYjhiYjZjZGNhNyA9IEwucG9wdXAoeyJtYXhXaWR0aCI6ICIxMDAlIn0pOwoKICAgICAgICAKICAgICAgICAgICAgdmFyIGh0bWxfYTM4ZTRhN2I1YjVmNDRjZGE0OTYxYjk3YzY0OGVlMWQgPSAkKGA8ZGl2IGlkPSJodG1sX2EzOGU0YTdiNWI1ZjQ0Y2RhNDk2MWI5N2M2NDhlZTFkIiBzdHlsZT0id2lkdGg6IDEwMC4wJTsgaGVpZ2h0OiAxMDAuMCU7Ij44MjE8L2Rpdj5gKVswXTsKICAgICAgICAgICAgcG9wdXBfMjE5ZDViZTZkNTUyNDA1Nzg0ZWFiMGI4YmI2Y2RjYTcuc2V0Q29udGVudChodG1sX2EzOGU0YTdiNWI1ZjQ0Y2RhNDk2MWI5N2M2NDhlZTFkKTsKICAgICAgICAKCiAgICAgICAgbWFya2VyX2RhNTRiNDRiYWVlODQyODM5YzhmN2M1MjU1NTEzNWIxLmJpbmRQb3B1cChwb3B1cF8yMTlkNWJlNmQ1NTI0MDU3ODRlYWIwYjhiYjZjZGNhNykKICAgICAgICA7CgogICAgICAgIAogICAgCiAgICAKICAgICAgICAgICAgdmFyIG1hcmtlcl80YWE1M2Y4MzUzYWM0OTMyOWYzOWQwODljODc2MDdlNCA9IEwubWFya2VyKAogICAgICAgICAgICAgICAgWzQxLjkzMjAyNDkyMDEwMzgxNCwgLTg3LjY5MjE2OTA0NDM4NzE2XSwKICAgICAgICAgICAgICAgIHt9CiAgICAgICAgICAgICkuYWRkVG8obWFwX2JlNGNmY2JhNzU5OTRmMzA4NDhkNWIxODQyZWQ2NTlkKTsKICAgICAgICAKICAgIAogICAgICAgIHZhciBwb3B1cF80ZGNiMzAwNjVhNWE0ZDkzODNlMzkxMTAwMzRmYjAzYiA9IEwucG9wdXAoeyJtYXhXaWR0aCI6ICIxMDAlIn0pOwoKICAgICAgICAKICAgICAgICAgICAgdmFyIGh0bWxfOTNmYzk5NjhlMGZjNDZmMzliMDgxYTQzYmJmNjM0OGIgPSAkKGA8ZGl2IGlkPSJodG1sXzkzZmM5OTY4ZTBmYzQ2ZjM5YjA4MWE0M2JiZjYzNDhiIiBzdHlsZT0id2lkdGg6IDEwMC4wJTsgaGVpZ2h0OiAxMDAuMCU7Ij44Mjg8L2Rpdj5gKVswXTsKICAgICAgICAgICAgcG9wdXBfNGRjYjMwMDY1YTVhNGQ5MzgzZTM5MTEwMDM0ZmIwM2Iuc2V0Q29udGVudChodG1sXzkzZmM5OTY4ZTBmYzQ2ZjM5YjA4MWE0M2JiZjYzNDhiKTsKICAgICAgICAKCiAgICAgICAgbWFya2VyXzRhYTUzZjgzNTNhYzQ5MzI5ZjM5ZDA4OWM4NzYwN2U0LmJpbmRQb3B1cChwb3B1cF80ZGNiMzAwNjVhNWE0ZDkzODNlMzkxMTAwMzRmYjAzYikKICAgICAgICA7CgogICAgICAgIAogICAgCiAgICAKICAgICAgICAgICAgdmFyIG1hcmtlcl8wMjJhZmRjNDNiYjE0NTc5OWIzN2FhY2JjOGQ0YWZkZiA9IEwubWFya2VyKAogICAgICAgICAgICAgICAgWzQxLjk2MjEwNDEzMjIzNzQ2LCAtODcuNjU1MjAzODI5NjAzMzVdLAogICAgICAgICAgICAgICAge30KICAgICAgICAgICAgKS5hZGRUbyhtYXBfYmU0Y2ZjYmE3NTk5NGYzMDg0OGQ1YjE4NDJlZDY1OWQpOwogICAgICAgIAogICAgCiAgICAgICAgdmFyIHBvcHVwX2NjMTdkNzc3ZTdiNTRhNWRiNmEwOGI1NTZlODk3Yzc0ID0gTC5wb3B1cCh7Im1heFdpZHRoIjogIjEwMCUifSk7CgogICAgICAgIAogICAgICAgICAgICB2YXIgaHRtbF9jMDU5Nzc5OGUwMzE0YTQ0Yjk4YTlkOTA5MDMwNWJlMyA9ICQoYDxkaXYgaWQ9Imh0bWxfYzA1OTc3OThlMDMxNGE0NGI5OGE5ZDkwOTAzMDViZTMiIHN0eWxlPSJ3aWR0aDogMTAwLjAlOyBoZWlnaHQ6IDEwMC4wJTsiPjgzNDwvZGl2PmApWzBdOwogICAgICAgICAgICBwb3B1cF9jYzE3ZDc3N2U3YjU0YTVkYjZhMDhiNTU2ZTg5N2M3NC5zZXRDb250ZW50KGh0bWxfYzA1OTc3OThlMDMxNGE0NGI5OGE5ZDkwOTAzMDViZTMpOwogICAgICAgIAoKICAgICAgICBtYXJrZXJfMDIyYWZkYzQzYmIxNDU3OTliMzdhYWNiYzhkNGFmZGYuYmluZFBvcHVwKHBvcHVwX2NjMTdkNzc3ZTdiNTRhNWRiNmEwOGI1NTZlODk3Yzc0KQogICAgICAgIDsKCiAgICAgICAgCiAgICAKICAgIAogICAgICAgICAgICB2YXIgbWFya2VyXzRjMzg3OTNmZDM2NTRjYmI5ZWE4MTkzOTFlNzFjY2JjID0gTC5tYXJrZXIoCiAgICAgICAgICAgICAgICBbNDEuOTgwMjA1NTE5ODAyMzU0LCAtODcuNjkyNjAwMzc3NzY2MV0sCiAgICAgICAgICAgICAgICB7fQogICAgICAgICAgICApLmFkZFRvKG1hcF9iZTRjZmNiYTc1OTk0ZjMwODQ4ZDViMTg0MmVkNjU5ZCk7CiAgICAgICAgCiAgICAKICAgICAgICB2YXIgcG9wdXBfYjdkYzVjNmMyMGU4NDBhNWFmZTU4MmUyNmEzYmIxYTAgPSBMLnBvcHVwKHsibWF4V2lkdGgiOiAiMTAwJSJ9KTsKCiAgICAgICAgCiAgICAgICAgICAgIHZhciBodG1sXzQ4NDkxNTcxNDdkMzRmZmE5YzlmNDQ3NzUzYjJiYjgyID0gJChgPGRpdiBpZD0iaHRtbF80ODQ5MTU3MTQ3ZDM0ZmZhOWM5ZjQ0Nzc1M2IyYmI4MiIgc3R5bGU9IndpZHRoOiAxMDAuMCU7IGhlaWdodDogMTAwLjAlOyI+ODM1PC9kaXY+YClbMF07CiAgICAgICAgICAgIHBvcHVwX2I3ZGM1YzZjMjBlODQwYTVhZmU1ODJlMjZhM2JiMWEwLnNldENvbnRlbnQoaHRtbF80ODQ5MTU3MTQ3ZDM0ZmZhOWM5ZjQ0Nzc1M2IyYmI4Mik7CiAgICAgICAgCgogICAgICAgIG1hcmtlcl80YzM4NzkzZmQzNjU0Y2JiOWVhODE5MzkxZTcxY2NiYy5iaW5kUG9wdXAocG9wdXBfYjdkYzVjNmMyMGU4NDBhNWFmZTU4MmUyNmEzYmIxYTApCiAgICAgICAgOwoKICAgICAgICAKICAgIAogICAgCiAgICAgICAgICAgIHZhciBtYXJrZXJfZTQ2ODUxOWRlYWE2NDY5ZWE2MjUwZDQxNzFlNGRkNzcgPSBMLm1hcmtlcigKICAgICAgICAgICAgICAgIFs0MS45MDMzMTQ0NDEwOTY0OSwgLTg3LjY3NjQxNjcxOTEwMDNdLAogICAgICAgICAgICAgICAge30KICAgICAgICAgICAgKS5hZGRUbyhtYXBfYmU0Y2ZjYmE3NTk5NGYzMDg0OGQ1YjE4NDJlZDY1OWQpOwogICAgICAgIAogICAgCiAgICAgICAgdmFyIHBvcHVwX2E3ODVmMzZjODI1OTQ2OGZiMzE4NmIwYTBiYWY0MzY4ID0gTC5wb3B1cCh7Im1heFdpZHRoIjogIjEwMCUifSk7CgogICAgICAgIAogICAgICAgICAgICB2YXIgaHRtbF85ZjY0YTJiNjEwYjk0MTMzODRlM2E0ZDc0NmMzNjc5NCA9ICQoYDxkaXYgaWQ9Imh0bWxfOWY2NGEyYjYxMGI5NDEzMzg0ZTNhNGQ3NDZjMzY3OTQiIHN0eWxlPSJ3aWR0aDogMTAwLjAlOyBoZWlnaHQ6IDEwMC4wJTsiPjg0NDwvZGl2PmApWzBdOwogICAgICAgICAgICBwb3B1cF9hNzg1ZjM2YzgyNTk0NjhmYjMxODZiMGEwYmFmNDM2OC5zZXRDb250ZW50KGh0bWxfOWY2NGEyYjYxMGI5NDEzMzg0ZTNhNGQ3NDZjMzY3OTQpOwogICAgICAgIAoKICAgICAgICBtYXJrZXJfZTQ2ODUxOWRlYWE2NDY5ZWE2MjUwZDQxNzFlNGRkNzcuYmluZFBvcHVwKHBvcHVwX2E3ODVmMzZjODI1OTQ2OGZiMzE4NmIwYTBiYWY0MzY4KQogICAgICAgIDsKCiAgICAgICAgCiAgICAKICAgIAogICAgICAgICAgICB2YXIgbWFya2VyXzA2ZDZlYWM0OWVjYTQwNDNiMjIxMDAwM2E2YTgyZDFlID0gTC5tYXJrZXIoCiAgICAgICAgICAgICAgICBbNDEuOTk4MTM1MDI0NDI5ODUsIC04Ny42OTQ2MzUwNTExNDU0XSwKICAgICAgICAgICAgICAgIHt9CiAgICAgICAgICAgICkuYWRkVG8obWFwX2JlNGNmY2JhNzU5OTRmMzA4NDhkNWIxODQyZWQ2NTlkKTsKICAgICAgICAKICAgIAogICAgICAgIHZhciBwb3B1cF9jNmVjYjMyMDZjYWE0Zjk3OWMwODVhN2Y0YzcxZDJiYSA9IEwucG9wdXAoeyJtYXhXaWR0aCI6ICIxMDAlIn0pOwoKICAgICAgICAKICAgICAgICAgICAgdmFyIGh0bWxfOWUxMjIyZGRmN2MzNDM2Mjg5ZjFkNDNmNGI1NDM3NjAgPSAkKGA8ZGl2IGlkPSJodG1sXzllMTIyMmRkZjdjMzQzNjI4OWYxZDQzZjRiNTQzNzYwIiBzdHlsZT0id2lkdGg6IDEwMC4wJTsgaGVpZ2h0OiAxMDAuMCU7Ij44NjQ8L2Rpdj5gKVswXTsKICAgICAgICAgICAgcG9wdXBfYzZlY2IzMjA2Y2FhNGY5NzljMDg1YTdmNGM3MWQyYmEuc2V0Q29udGVudChodG1sXzllMTIyMmRkZjdjMzQzNjI4OWYxZDQzZjRiNTQzNzYwKTsKICAgICAgICAKCiAgICAgICAgbWFya2VyXzA2ZDZlYWM0OWVjYTQwNDNiMjIxMDAwM2E2YTgyZDFlLmJpbmRQb3B1cChwb3B1cF9jNmVjYjMyMDZjYWE0Zjk3OWMwODVhN2Y0YzcxZDJiYSkKICAgICAgICA7CgogICAgICAgIAogICAgCiAgICAKICAgICAgICAgICAgdmFyIG1hcmtlcl9lM2U3YzA0OTVkMzE0YmNkODk3YTBiOGQ4NDgyZTMzNyA9IEwubWFya2VyKAogICAgICAgICAgICAgICAgWzQxLjk5NzIyMjQ1MjA2OTA2LCAtODcuNjk0NTk5MzAwMTY5N10sCiAgICAgICAgICAgICAgICB7fQogICAgICAgICAgICApLmFkZFRvKG1hcF9iZTRjZmNiYTc1OTk0ZjMwODQ4ZDViMTg0MmVkNjU5ZCk7CiAgICAgICAgCiAgICAKICAgICAgICB2YXIgcG9wdXBfMmUyYjBmZTQ1MjI1NDc3OTk0ZWRiZTk1NmYxOTUzNDUgPSBMLnBvcHVwKHsibWF4V2lkdGgiOiAiMTAwJSJ9KTsKCiAgICAgICAgCiAgICAgICAgICAgIHZhciBodG1sX2E3MDRkZTA0NDY4YzQ5ZGM5YzFkNTQyNWFkMzFlMGViID0gJChgPGRpdiBpZD0iaHRtbF9hNzA0ZGUwNDQ2OGM0OWRjOWMxZDU0MjVhZDMxZTBlYiIgc3R5bGU9IndpZHRoOiAxMDAuMCU7IGhlaWdodDogMTAwLjAlOyI+ODY3PC9kaXY+YClbMF07CiAgICAgICAgICAgIHBvcHVwXzJlMmIwZmU0NTIyNTQ3Nzk5NGVkYmU5NTZmMTk1MzQ1LnNldENvbnRlbnQoaHRtbF9hNzA0ZGUwNDQ2OGM0OWRjOWMxZDU0MjVhZDMxZTBlYik7CiAgICAgICAgCgogICAgICAgIG1hcmtlcl9lM2U3YzA0OTVkMzE0YmNkODk3YTBiOGQ4NDgyZTMzNy5iaW5kUG9wdXAocG9wdXBfMmUyYjBmZTQ1MjI1NDc3OTk0ZWRiZTk1NmYxOTUzNDUpCiAgICAgICAgOwoKICAgICAgICAKICAgIAogICAgCiAgICAgICAgICAgIHZhciBtYXJrZXJfYjZjMzQ4YTA3ZWQ2NDBiMWFhZTZjOTQ3ZTUzYzE0NDAgPSBMLm1hcmtlcigKICAgICAgICAgICAgICAgIFs0MS44Nzk2MDgxMjU0MDUwNiwgLTg3LjYyNjk5OTExMjk3MzQxXSwKICAgICAgICAgICAgICAgIHt9CiAgICAgICAgICAgICkuYWRkVG8obWFwX2JlNGNmY2JhNzU5OTRmMzA4NDhkNWIxODQyZWQ2NTlkKTsKICAgICAgICAKICAgIAogICAgICAgIHZhciBwb3B1cF83NDFiYzE1NjI0ODU0MzJiOGEwMTY2NjNjZTUzMmIxZiA9IEwucG9wdXAoeyJtYXhXaWR0aCI6ICIxMDAlIn0pOwoKICAgICAgICAKICAgICAgICAgICAgdmFyIGh0bWxfYWYxOGU4OGI2YTMyNGZhY2JlM2NjNTZjY2YzYjg2OGIgPSAkKGA8ZGl2IGlkPSJodG1sX2FmMThlODhiNmEzMjRmYWNiZTNjYzU2Y2NmM2I4NjhiIiBzdHlsZT0id2lkdGg6IDEwMC4wJTsgaGVpZ2h0OiAxMDAuMCU7Ij44NzE8L2Rpdj5gKVswXTsKICAgICAgICAgICAgcG9wdXBfNzQxYmMxNTYyNDg1NDMyYjhhMDE2NjYzY2U1MzJiMWYuc2V0Q29udGVudChodG1sX2FmMThlODhiNmEzMjRmYWNiZTNjYzU2Y2NmM2I4NjhiKTsKICAgICAgICAKCiAgICAgICAgbWFya2VyX2I2YzM0OGEwN2VkNjQwYjFhYWU2Yzk0N2U1M2MxNDQwLmJpbmRQb3B1cChwb3B1cF83NDFiYzE1NjI0ODU0MzJiOGEwMTY2NjNjZTUzMmIxZikKICAgICAgICA7CgogICAgICAgIAogICAgCiAgICAKICAgICAgICAgICAgdmFyIG1hcmtlcl80MzRmMmRiYzE5NmE0MTE0OGM3Y2E4NGZjMGMyZjQzMCA9IEwubWFya2VyKAogICAgICAgICAgICAgICAgWzQxLjkyODYwMzc0NTAzMjQzLCAtODcuNjQ4NzI0NzAyNzg0MjldLAogICAgICAgICAgICAgICAge30KICAgICAgICAgICAgKS5hZGRUbyhtYXBfYmU0Y2ZjYmE3NTk5NGYzMDg0OGQ1YjE4NDJlZDY1OWQpOwogICAgICAgIAogICAgCiAgICAgICAgdmFyIHBvcHVwX2I1OTY3NDg5MGZhYzRkYjRhMmVhMjBmMzk0Y2Y5YjRkID0gTC5wb3B1cCh7Im1heFdpZHRoIjogIjEwMCUifSk7CgogICAgICAgIAogICAgICAgICAgICB2YXIgaHRtbF83NzVmMmQzOGYwOGM0MmQ2YTM2YzI3OTM4MTlkMzhmYyA9ICQoYDxkaXYgaWQ9Imh0bWxfNzc1ZjJkMzhmMDhjNDJkNmEzNmMyNzkzODE5ZDM4ZmMiIHN0eWxlPSJ3aWR0aDogMTAwLjAlOyBoZWlnaHQ6IDEwMC4wJTsiPjg4OTwvZGl2PmApWzBdOwogICAgICAgICAgICBwb3B1cF9iNTk2NzQ4OTBmYWM0ZGI0YTJlYTIwZjM5NGNmOWI0ZC5zZXRDb250ZW50KGh0bWxfNzc1ZjJkMzhmMDhjNDJkNmEzNmMyNzkzODE5ZDM4ZmMpOwogICAgICAgIAoKICAgICAgICBtYXJrZXJfNDM0ZjJkYmMxOTZhNDExNDhjN2NhODRmYzBjMmY0MzAuYmluZFBvcHVwKHBvcHVwX2I1OTY3NDg5MGZhYzRkYjRhMmVhMjBmMzk0Y2Y5YjRkKQogICAgICAgIDsKCiAgICAgICAgCiAgICAKICAgIAogICAgICAgICAgICB2YXIgbWFya2VyX2M3OTZlZDdhMGQwNTQzNmE5ZDlmNGNlZTMyMzM5OTFmID0gTC5tYXJrZXIoCiAgICAgICAgICAgICAgICBbNDEuOTI5MTEwMDA5MjYzMjI2LCAtODcuNzA3MjM4OTk3Mjg5ODZdLAogICAgICAgICAgICAgICAge30KICAgICAgICAgICAgKS5hZGRUbyhtYXBfYmU0Y2ZjYmE3NTk5NGYzMDg0OGQ1YjE4NDJlZDY1OWQpOwogICAgICAgIAogICAgCiAgICAgICAgdmFyIHBvcHVwXzYzOWYwYWRhYjEzNDQ2MDc5ZWYzYWFkODZmZmFlNjBiID0gTC5wb3B1cCh7Im1heFdpZHRoIjogIjEwMCUifSk7CgogICAgICAgIAogICAgICAgICAgICB2YXIgaHRtbF80N2Q1ZDliMDliYzI0ZjRhOWViMjk4Y2Q3ZTA2MjVmNiA9ICQoYDxkaXYgaWQ9Imh0bWxfNDdkNWQ5YjA5YmMyNGY0YTllYjI5OGNkN2UwNjI1ZjYiIHN0eWxlPSJ3aWR0aDogMTAwLjAlOyBoZWlnaHQ6IDEwMC4wJTsiPjkxMzwvZGl2PmApWzBdOwogICAgICAgICAgICBwb3B1cF82MzlmMGFkYWIxMzQ0NjA3OWVmM2FhZDg2ZmZhZTYwYi5zZXRDb250ZW50KGh0bWxfNDdkNWQ5YjA5YmMyNGY0YTllYjI5OGNkN2UwNjI1ZjYpOwogICAgICAgIAoKICAgICAgICBtYXJrZXJfYzc5NmVkN2EwZDA1NDM2YTlkOWY0Y2VlMzIzMzk5MWYuYmluZFBvcHVwKHBvcHVwXzYzOWYwYWRhYjEzNDQ2MDc5ZWYzYWFkODZmZmFlNjBiKQogICAgICAgIDsKCiAgICAgICAgCiAgICAKICAgIAogICAgICAgICAgICB2YXIgbWFya2VyXzBiZDMxNThjMzI3YjQ1NGU4ZTkzZDY2MDBmZGRmZDQ1ID0gTC5tYXJrZXIoCiAgICAgICAgICAgICAgICBbNDEuNjcwMzk0NDI4NDg5NjQ0LCAtODcuNjQxNTEzNzI5OTE2OV0sCiAgICAgICAgICAgICAgICB7fQogICAgICAgICAgICApLmFkZFRvKG1hcF9iZTRjZmNiYTc1OTk0ZjMwODQ4ZDViMTg0MmVkNjU5ZCk7CiAgICAgICAgCiAgICAKICAgICAgICB2YXIgcG9wdXBfYzAwNmM1MjFhZTZkNDZhZDgyNWMwYmQwNjA3YmMzNmUgPSBMLnBvcHVwKHsibWF4V2lkdGgiOiAiMTAwJSJ9KTsKCiAgICAgICAgCiAgICAgICAgICAgIHZhciBodG1sXzBkMTBjYzJlMjllYzRiOTE4MDEwNzQ1ODA3ODk2ZmViID0gJChgPGRpdiBpZD0iaHRtbF8wZDEwY2MyZTI5ZWM0YjkxODAxMDc0NTgwNzg5NmZlYiIgc3R5bGU9IndpZHRoOiAxMDAuMCU7IGhlaWdodDogMTAwLjAlOyI+OTI2PC9kaXY+YClbMF07CiAgICAgICAgICAgIHBvcHVwX2MwMDZjNTIxYWU2ZDQ2YWQ4MjVjMGJkMDYwN2JjMzZlLnNldENvbnRlbnQoaHRtbF8wZDEwY2MyZTI5ZWM0YjkxODAxMDc0NTgwNzg5NmZlYik7CiAgICAgICAgCgogICAgICAgIG1hcmtlcl8wYmQzMTU4YzMyN2I0NTRlOGU5M2Q2NjAwZmRkZmQ0NS5iaW5kUG9wdXAocG9wdXBfYzAwNmM1MjFhZTZkNDZhZDgyNWMwYmQwNjA3YmMzNmUpCiAgICAgICAgOwoKICAgICAgICAKICAgIAogICAgCiAgICAgICAgICAgIHZhciBtYXJrZXJfMjAxZDlmYTA4NGU2NDNlMjg1MDE1OWI1MDUzYjdhMmUgPSBMLm1hcmtlcigKICAgICAgICAgICAgICAgIFs0Mi4wMDg1MzY0MDA4Njg3MzUsIC04Ny45MTQ0Mjg0MzkyNzA0OF0sCiAgICAgICAgICAgICAgICB7fQogICAgICAgICAgICApLmFkZFRvKG1hcF9iZTRjZmNiYTc1OTk0ZjMwODQ4ZDViMTg0MmVkNjU5ZCk7CiAgICAgICAgCiAgICAKICAgICAgICB2YXIgcG9wdXBfN2E4NDAwNWQ4YjkxNDRjODlkNmE1N2VlYjhlYWFjMDYgPSBMLnBvcHVwKHsibWF4V2lkdGgiOiAiMTAwJSJ9KTsKCiAgICAgICAgCiAgICAgICAgICAgIHZhciBodG1sXzgzOGZlNTlhODJmMDRlNDk5ZTdmYjgzMDY5YzMwMmE5ID0gJChgPGRpdiBpZD0iaHRtbF84MzhmZTU5YTgyZjA0ZTQ5OWU3ZmI4MzA2OWMzMDJhOSIgc3R5bGU9IndpZHRoOiAxMDAuMCU7IGhlaWdodDogMTAwLjAlOyI+OTI3PC9kaXY+YClbMF07CiAgICAgICAgICAgIHBvcHVwXzdhODQwMDVkOGI5MTQ0Yzg5ZDZhNTdlZWI4ZWFhYzA2LnNldENvbnRlbnQoaHRtbF84MzhmZTU5YTgyZjA0ZTQ5OWU3ZmI4MzA2OWMzMDJhOSk7CiAgICAgICAgCgogICAgICAgIG1hcmtlcl8yMDFkOWZhMDg0ZTY0M2UyODUwMTU5YjUwNTNiN2EyZS5iaW5kUG9wdXAocG9wdXBfN2E4NDAwNWQ4YjkxNDRjODlkNmE1N2VlYjhlYWFjMDYpCiAgICAgICAgOwoKICAgICAgICAKICAgIAogICAgCiAgICAgICAgICAgIHZhciBtYXJrZXJfOTZmZTk2N2QzZTBiNDZjODk4NDU3M2UzZmFiMWE3OTkgPSBMLm1hcmtlcigKICAgICAgICAgICAgICAgIFs0MS44OTEwODU5NDE3MTkzNiwgLTg3LjYyMTcwMzgxMTg5OV0sCiAgICAgICAgICAgICAgICB7fQogICAgICAgICAgICApLmFkZFRvKG1hcF9iZTRjZmNiYTc1OTk0ZjMwODQ4ZDViMTg0MmVkNjU5ZCk7CiAgICAgICAgCiAgICAKICAgICAgICB2YXIgcG9wdXBfN2I4MGRlOWRlYmY0NDQ5MWI3YTAyODY0OGViNDNhNTEgPSBMLnBvcHVwKHsibWF4V2lkdGgiOiAiMTAwJSJ9KTsKCiAgICAgICAgCiAgICAgICAgICAgIHZhciBodG1sXzliNjJiYzNlN2IyNDQzNjU5MDRiZjkzYjJjODk4OTAwID0gJChgPGRpdiBpZD0iaHRtbF85YjYyYmMzZTdiMjQ0MzY1OTA0YmY5M2IyYzg5ODkwMCIgc3R5bGU9IndpZHRoOiAxMDAuMCU7IGhlaWdodDogMTAwLjAlOyI+OTUwPC9kaXY+YClbMF07CiAgICAgICAgICAgIHBvcHVwXzdiODBkZTlkZWJmNDQ0OTFiN2EwMjg2NDhlYjQzYTUxLnNldENvbnRlbnQoaHRtbF85YjYyYmMzZTdiMjQ0MzY1OTA0YmY5M2IyYzg5ODkwMCk7CiAgICAgICAgCgogICAgICAgIG1hcmtlcl85NmZlOTY3ZDNlMGI0NmM4OTg0NTczZTNmYWIxYTc5OS5iaW5kUG9wdXAocG9wdXBfN2I4MGRlOWRlYmY0NDQ5MWI3YTAyODY0OGViNDNhNTEpCiAgICAgICAgOwoKICAgICAgICAKICAgIAogICAgCiAgICAgICAgICAgIHZhciBtYXJrZXJfNDBkZWQ0ZDliY2QwNGFkOWEwNDQ1MjY3Mzc4MGU5ZTYgPSBMLm1hcmtlcigKICAgICAgICAgICAgICAgIFs0MS45MjQzNjI4MjE1Njc3OCwgLTg3LjY5NzI1NTM5NTY3MzM3XSwKICAgICAgICAgICAgICAgIHt9CiAgICAgICAgICAgICkuYWRkVG8obWFwX2JlNGNmY2JhNzU5OTRmMzA4NDhkNWIxODQyZWQ2NTlkKTsKICAgICAgICAKICAgIAogICAgICAgIHZhciBwb3B1cF9iOWY0NjJiZTUzODM0YjNlYWQxNmQxMDkwMzAzODVlNCA9IEwucG9wdXAoeyJtYXhXaWR0aCI6ICIxMDAlIn0pOwoKICAgICAgICAKICAgICAgICAgICAgdmFyIGh0bWxfMjRlOThhYTE5NTc2NDgxMzhhNjBiNjQ3OTk3MjU2YjIgPSAkKGA8ZGl2IGlkPSJodG1sXzI0ZTk4YWExOTU3NjQ4MTM4YTYwYjY0Nzk5NzI1NmIyIiBzdHlsZT0id2lkdGg6IDEwMC4wJTsgaGVpZ2h0OiAxMDAuMCU7Ij45NTE8L2Rpdj5gKVswXTsKICAgICAgICAgICAgcG9wdXBfYjlmNDYyYmU1MzgzNGIzZWFkMTZkMTA5MDMwMzg1ZTQuc2V0Q29udGVudChodG1sXzI0ZTk4YWExOTU3NjQ4MTM4YTYwYjY0Nzk5NzI1NmIyKTsKICAgICAgICAKCiAgICAgICAgbWFya2VyXzQwZGVkNGQ5YmNkMDRhZDlhMDQ0NTI2NzM3ODBlOWU2LmJpbmRQb3B1cChwb3B1cF9iOWY0NjJiZTUzODM0YjNlYWQxNmQxMDkwMzAzODVlNCkKICAgICAgICA7CgogICAgICAgIAogICAgCiAgICAKICAgICAgICAgICAgdmFyIG1hcmtlcl9kNWU4OTIyMDI3NzQ0YjJiYmZkNjJlZGI5MWUxNWM3NCA9IEwubWFya2VyKAogICAgICAgICAgICAgICAgWzQxLjkxMTUxNjI2ODc0ODc4LCAtODcuNjc3MzQwNjk1Mjg1OTNdLAogICAgICAgICAgICAgICAge30KICAgICAgICAgICAgKS5hZGRUbyhtYXBfYmU0Y2ZjYmE3NTk5NGYzMDg0OGQ1YjE4NDJlZDY1OWQpOwogICAgICAgIAogICAgCiAgICAgICAgdmFyIHBvcHVwXzlhNGI0ZjI5YzY1YjQ3NGI4MzgyZmY0OTY4ZjMyOTUwID0gTC5wb3B1cCh7Im1heFdpZHRoIjogIjEwMCUifSk7CgogICAgICAgIAogICAgICAgICAgICB2YXIgaHRtbF8yMWExYmZkMTg0NjA0ZjBkOGE2NDA5ZjU2MmEwMTgzNCA9ICQoYDxkaXYgaWQ9Imh0bWxfMjFhMWJmZDE4NDYwNGYwZDhhNjQwOWY1NjJhMDE4MzQiIHN0eWxlPSJ3aWR0aDogMTAwLjAlOyBoZWlnaHQ6IDEwMC4wJTsiPjk1MzwvZGl2PmApWzBdOwogICAgICAgICAgICBwb3B1cF85YTRiNGYyOWM2NWI0NzRiODM4MmZmNDk2OGYzMjk1MC5zZXRDb250ZW50KGh0bWxfMjFhMWJmZDE4NDYwNGYwZDhhNjQwOWY1NjJhMDE4MzQpOwogICAgICAgIAoKICAgICAgICBtYXJrZXJfZDVlODkyMjAyNzc0NGIyYmJmZDYyZWRiOTFlMTVjNzQuYmluZFBvcHVwKHBvcHVwXzlhNGI0ZjI5YzY1YjQ3NGI4MzgyZmY0OTY4ZjMyOTUwKQogICAgICAgIDsKCiAgICAgICAgCiAgICAKICAgIAogICAgICAgICAgICB2YXIgbWFya2VyX2FiY2U4ZDI2OWYzMjQ3MDdiMGNjNGRiMGQ2ODlhMGIyID0gTC5tYXJrZXIoCiAgICAgICAgICAgICAgICBbNDEuOTAwODkxNTcwNjI5ODQ1LCAtODcuNjI2MjIyOTIzMDcxMl0sCiAgICAgICAgICAgICAgICB7fQogICAgICAgICAgICApLmFkZFRvKG1hcF9iZTRjZmNiYTc1OTk0ZjMwODQ4ZDViMTg0MmVkNjU5ZCk7CiAgICAgICAgCiAgICAKICAgICAgICB2YXIgcG9wdXBfY2FhMTkyZGRkOTBjNDM0MDg2MmYzN2ZiMjkyOWU4MjIgPSBMLnBvcHVwKHsibWF4V2lkdGgiOiAiMTAwJSJ9KTsKCiAgICAgICAgCiAgICAgICAgICAgIHZhciBodG1sX2NhMmU5MTQ3Y2VlMjQ0MmE4MmRlODU2ODE4YjlkMzQ5ID0gJChgPGRpdiBpZD0iaHRtbF9jYTJlOTE0N2NlZTI0NDJhODJkZTg1NjgxOGI5ZDM0OSIgc3R5bGU9IndpZHRoOiAxMDAuMCU7IGhlaWdodDogMTAwLjAlOyI+OTc1PC9kaXY+YClbMF07CiAgICAgICAgICAgIHBvcHVwX2NhYTE5MmRkZDkwYzQzNDA4NjJmMzdmYjI5MjllODIyLnNldENvbnRlbnQoaHRtbF9jYTJlOTE0N2NlZTI0NDJhODJkZTg1NjgxOGI5ZDM0OSk7CiAgICAgICAgCgogICAgICAgIG1hcmtlcl9hYmNlOGQyNjlmMzI0NzA3YjBjYzRkYjBkNjg5YTBiMi5iaW5kUG9wdXAocG9wdXBfY2FhMTkyZGRkOTBjNDM0MDg2MmYzN2ZiMjkyOWU4MjIpCiAgICAgICAgOwoKICAgICAgICAKICAgIAogICAgCiAgICAgICAgICAgIHZhciBtYXJrZXJfZGY5ZDJlYTA3MTJkNDY3ZGI3MTBkNjQ4MjhlNDMwMDUgPSBMLm1hcmtlcigKICAgICAgICAgICAgICAgIFs0MS45MjQ5MTYxNzAyMTA2MzYsIC04Ny43MDA4NjE2NTkxMTQ0OF0sCiAgICAgICAgICAgICAgICB7fQogICAgICAgICAgICApLmFkZFRvKG1hcF9iZTRjZmNiYTc1OTk0ZjMwODQ4ZDViMTg0MmVkNjU5ZCk7CiAgICAgICAgCiAgICAKICAgICAgICB2YXIgcG9wdXBfZGFhMzA5OTljOTk3NDlhMmJkZTBkMTQzMzhiYzc3YjUgPSBMLnBvcHVwKHsibWF4V2lkdGgiOiAiMTAwJSJ9KTsKCiAgICAgICAgCiAgICAgICAgICAgIHZhciBodG1sX2YwM2Y3MDg0MzMyODQyYmQ4MmU2ZDM3OTcyYmY1MTY0ID0gJChgPGRpdiBpZD0iaHRtbF9mMDNmNzA4NDMzMjg0MmJkODJlNmQzNzk3MmJmNTE2NCIgc3R5bGU9IndpZHRoOiAxMDAuMCU7IGhlaWdodDogMTAwLjAlOyI+OTc3PC9kaXY+YClbMF07CiAgICAgICAgICAgIHBvcHVwX2RhYTMwOTk5Yzk5NzQ5YTJiZGUwZDE0MzM4YmM3N2I1LnNldENvbnRlbnQoaHRtbF9mMDNmNzA4NDMzMjg0MmJkODJlNmQzNzk3MmJmNTE2NCk7CiAgICAgICAgCgogICAgICAgIG1hcmtlcl9kZjlkMmVhMDcxMmQ0NjdkYjcxMGQ2NDgyOGU0MzAwNS5iaW5kUG9wdXAocG9wdXBfZGFhMzA5OTljOTk3NDlhMmJkZTBkMTQzMzhiYzc3YjUpCiAgICAgICAgOwoKICAgICAgICAKICAgIAogICAgCiAgICAgICAgICAgIHZhciBtYXJrZXJfNzE2YWZjZWQyNGFhNDM3Zjg2NjM3YjY0NzU0ZmQyMzMgPSBMLm1hcmtlcigKICAgICAgICAgICAgICAgIFs0MS45NTI5NTc5OTYyMjQ3MjUsIC04Ny43NzU5MjgyNDA2NDldLAogICAgICAgICAgICAgICAge30KICAgICAgICAgICAgKS5hZGRUbyhtYXBfYmU0Y2ZjYmE3NTk5NGYzMDg0OGQ1YjE4NDJlZDY1OWQpOwogICAgICAgIAogICAgCiAgICAgICAgdmFyIHBvcHVwX2IyZTNhMjEyNDgwNjRkOGM4MTk1Y2FmZTgxZjZkZjJiID0gTC5wb3B1cCh7Im1heFdpZHRoIjogIjEwMCUifSk7CgogICAgICAgIAogICAgICAgICAgICB2YXIgaHRtbF9jZDVkYmY0NGMzYTQ0NjU4YTg0OWIxODcyNzMzZDM1NCA9ICQoYDxkaXYgaWQ9Imh0bWxfY2Q1ZGJmNDRjM2E0NDY1OGE4NDliMTg3MjczM2QzNTQiIHN0eWxlPSJ3aWR0aDogMTAwLjAlOyBoZWlnaHQ6IDEwMC4wJTsiPjk4MzwvZGl2PmApWzBdOwogICAgICAgICAgICBwb3B1cF9iMmUzYTIxMjQ4MDY0ZDhjODE5NWNhZmU4MWY2ZGYyYi5zZXRDb250ZW50KGh0bWxfY2Q1ZGJmNDRjM2E0NDY1OGE4NDliMTg3MjczM2QzNTQpOwogICAgICAgIAoKICAgICAgICBtYXJrZXJfNzE2YWZjZWQyNGFhNDM3Zjg2NjM3YjY0NzU0ZmQyMzMuYmluZFBvcHVwKHBvcHVwX2IyZTNhMjEyNDgwNjRkOGM4MTk1Y2FmZTgxZjZkZjJiKQogICAgICAgIDsKCiAgICAgICAgCiAgICAKICAgIAogICAgICAgICAgICB2YXIgbWFya2VyXzRjNjMyNWQwZTY0NjQyZTNhMDZhNjA3NjQ3MWMwODc2ID0gTC5tYXJrZXIoCiAgICAgICAgICAgICAgICBbNDEuOTk3NTcxODk0NDIzODY0LCAtODcuNjkyNjMzMDUwODc5OTZdLAogICAgICAgICAgICAgICAge30KICAgICAgICAgICAgKS5hZGRUbyhtYXBfYmU0Y2ZjYmE3NTk5NGYzMDg0OGQ1YjE4NDJlZDY1OWQpOwogICAgICAgIAogICAgCiAgICAgICAgdmFyIHBvcHVwXzdlMDE3ZDE0MDYxODQyZmQ5MjkwMWM5MGIyNjIzZTFhID0gTC5wb3B1cCh7Im1heFdpZHRoIjogIjEwMCUifSk7CgogICAgICAgIAogICAgICAgICAgICB2YXIgaHRtbF8zODViNjkzNjEzN2I0MmE5ODIyZWIxZDk5YTI0NDhjYSA9ICQoYDxkaXYgaWQ9Imh0bWxfMzg1YjY5MzYxMzdiNDJhOTgyMmViMWQ5OWEyNDQ4Y2EiIHN0eWxlPSJ3aWR0aDogMTAwLjAlOyBoZWlnaHQ6IDEwMC4wJTsiPjk4NjwvZGl2PmApWzBdOwogICAgICAgICAgICBwb3B1cF83ZTAxN2QxNDA2MTg0MmZkOTI5MDFjOTBiMjYyM2UxYS5zZXRDb250ZW50KGh0bWxfMzg1YjY5MzYxMzdiNDJhOTgyMmViMWQ5OWEyNDQ4Y2EpOwogICAgICAgIAoKICAgICAgICBtYXJrZXJfNGM2MzI1ZDBlNjQ2NDJlM2EwNmE2MDc2NDcxYzA4NzYuYmluZFBvcHVwKHBvcHVwXzdlMDE3ZDE0MDYxODQyZmQ5MjkwMWM5MGIyNjIzZTFhKQogICAgICAgIDsKCiAgICAgICAgCiAgICAKICAgIAogICAgICAgICAgICB2YXIgbWFya2VyXzQyMTFkNTdiN2ZlZDRjYTZiMTIwNjNhNzAyOGExMjUwID0gTC5tYXJrZXIoCiAgICAgICAgICAgICAgICBbNDEuOTE4OTMxNDI0MDI1Njg2LCAtODcuNjYwODk0MjE3MDg2NTVdLAogICAgICAgICAgICAgICAge30KICAgICAgICAgICAgKS5hZGRUbyhtYXBfYmU0Y2ZjYmE3NTk5NGYzMDg0OGQ1YjE4NDJlZDY1OWQpOwogICAgICAgIAogICAgCiAgICAgICAgdmFyIHBvcHVwXzRhM2Q4MTkxZDI1NTQzODQ4YjA0ZjE2YzcxNDJlMzhiID0gTC5wb3B1cCh7Im1heFdpZHRoIjogIjEwMCUifSk7CgogICAgICAgIAogICAgICAgICAgICB2YXIgaHRtbF80NjI4YzQxZjRjOTc0MDU1OTk5ZGZiNTljZjYxM2Y1ZiA9ICQoYDxkaXYgaWQ9Imh0bWxfNDYyOGM0MWY0Yzk3NDA1NTk5OWRmYjU5Y2Y2MTNmNWYiIHN0eWxlPSJ3aWR0aDogMTAwLjAlOyBoZWlnaHQ6IDEwMC4wJTsiPjk5MjwvZGl2PmApWzBdOwogICAgICAgICAgICBwb3B1cF80YTNkODE5MWQyNTU0Mzg0OGIwNGYxNmM3MTQyZTM4Yi5zZXRDb250ZW50KGh0bWxfNDYyOGM0MWY0Yzk3NDA1NTk5OWRmYjU5Y2Y2MTNmNWYpOwogICAgICAgIAoKICAgICAgICBtYXJrZXJfNDIxMWQ1N2I3ZmVkNGNhNmIxMjA2M2E3MDI4YTEyNTAuYmluZFBvcHVwKHBvcHVwXzRhM2Q4MTkxZDI1NTQzODQ4YjA0ZjE2YzcxNDJlMzhiKQogICAgICAgIDsKCiAgICAgICAgCiAgICAKPC9zY3JpcHQ+\" style=\"position:absolute;width:100%;height:100%;left:0;top:0;border:none !important;\" allowfullscreen webkitallowfullscreen mozallowfullscreen></iframe></div></div>"
      ],
      "text/plain": [
       "<folium.folium.Map at 0x236d81a3bc8>"
      ]
     },
     "execution_count": 117,
     "metadata": {},
     "output_type": "execute_result"
    }
   ],
   "source": [
    "m"
   ]
  },
  {
   "cell_type": "code",
   "execution_count": null,
   "metadata": {},
   "outputs": [],
   "source": []
  }
 ],
 "metadata": {
  "kernelspec": {
   "display_name": "Python 3",
   "language": "python",
   "name": "python3"
  },
  "language_info": {
   "codemirror_mode": {
    "name": "ipython",
    "version": 3
   },
   "file_extension": ".py",
   "mimetype": "text/x-python",
   "name": "python",
   "nbconvert_exporter": "python",
   "pygments_lexer": "ipython3",
   "version": "3.7.4"
  }
 },
 "nbformat": 4,
 "nbformat_minor": 2
}
