{
 "cells": [
  {
   "cell_type": "code",
   "execution_count": 437,
   "metadata": {},
   "outputs": [],
   "source": [
    "%matplotlib inline\n",
    "import pandas as pd\n",
    "import numpy as np\n",
    "import re\n",
    "from matplotlib.ticker import MaxNLocator\n",
    "import matplotlib.pyplot as plt\n",
    "from requests import get\n",
    "from bs4 import BeautifulSoup\n",
    "from scipy import stats\n",
    "import warnings\n",
    "warnings.filterwarnings('ignore')"
   ]
  },
  {
   "cell_type": "markdown",
   "metadata": {},
   "source": [
    "**Dataframe Preparation**"
   ]
  },
  {
   "cell_type": "code",
   "execution_count": 438,
   "metadata": {},
   "outputs": [],
   "source": [
    "food = pd.read_csv('data/food-inspections.csv', sep=',')"
   ]
  },
  {
   "cell_type": "code",
   "execution_count": 439,
   "metadata": {},
   "outputs": [],
   "source": [
    "food = food.drop(['Address','City', 'State','Zip', 'Zip Codes','Historical Wards 2003-2015', 'Community Areas', 'Census Tracts','Wards','Location'], axis=1)"
   ]
  },
  {
   "cell_type": "code",
   "execution_count": 440,
   "metadata": {},
   "outputs": [
    {
     "data": {
      "text/html": [
       "<div>\n",
       "<style scoped>\n",
       "    .dataframe tbody tr th:only-of-type {\n",
       "        vertical-align: middle;\n",
       "    }\n",
       "\n",
       "    .dataframe tbody tr th {\n",
       "        vertical-align: top;\n",
       "    }\n",
       "\n",
       "    .dataframe thead th {\n",
       "        text-align: right;\n",
       "    }\n",
       "</style>\n",
       "<table border=\"1\" class=\"dataframe\">\n",
       "  <thead>\n",
       "    <tr style=\"text-align: right;\">\n",
       "      <th></th>\n",
       "      <th>Inspection ID</th>\n",
       "      <th>DBA Name</th>\n",
       "      <th>Name</th>\n",
       "      <th>License #</th>\n",
       "      <th>Facility</th>\n",
       "      <th>Risk</th>\n",
       "      <th>Year</th>\n",
       "      <th>Type</th>\n",
       "      <th>Results</th>\n",
       "      <th>Violations</th>\n",
       "      <th>Latitude</th>\n",
       "      <th>Longitude</th>\n",
       "    </tr>\n",
       "  </thead>\n",
       "  <tbody>\n",
       "    <tr>\n",
       "      <td>0</td>\n",
       "      <td>2320830</td>\n",
       "      <td>THE HOXTON, CHICAGO</td>\n",
       "      <td>THE HOXTON, CHICAGO</td>\n",
       "      <td>2694640.0</td>\n",
       "      <td>Restaurant</td>\n",
       "      <td>Risk 2 (Medium)</td>\n",
       "      <td>2019-10-31T00:00:00.000</td>\n",
       "      <td>License</td>\n",
       "      <td>Pass</td>\n",
       "      <td>36. THERMOMETERS PROVIDED &amp; ACCURATE - Comment...</td>\n",
       "      <td>41.885699</td>\n",
       "      <td>-87.648789</td>\n",
       "    </tr>\n",
       "    <tr>\n",
       "      <td>1</td>\n",
       "      <td>2320831</td>\n",
       "      <td>OGDEN PLAZA INC.</td>\n",
       "      <td>OGDEN PLAZA INC.</td>\n",
       "      <td>2475982.0</td>\n",
       "      <td>Grocery Store</td>\n",
       "      <td>Risk 3 (Low)</td>\n",
       "      <td>2019-10-31T00:00:00.000</td>\n",
       "      <td>Canvass</td>\n",
       "      <td>Out of Business</td>\n",
       "      <td>NaN</td>\n",
       "      <td>41.855266</td>\n",
       "      <td>-87.712402</td>\n",
       "    </tr>\n",
       "    <tr>\n",
       "      <td>2</td>\n",
       "      <td>2320829</td>\n",
       "      <td>PLAZA FOOD AND LIQUOR</td>\n",
       "      <td>PLAZA FOOD AND LIQUOR</td>\n",
       "      <td>2689756.0</td>\n",
       "      <td>Grocery Store</td>\n",
       "      <td>Risk 3 (Low)</td>\n",
       "      <td>2019-10-31T00:00:00.000</td>\n",
       "      <td>License</td>\n",
       "      <td>Not Ready</td>\n",
       "      <td>NaN</td>\n",
       "      <td>NaN</td>\n",
       "      <td>NaN</td>\n",
       "    </tr>\n",
       "    <tr>\n",
       "      <td>3</td>\n",
       "      <td>2320813</td>\n",
       "      <td>PLAZA FOOD AND LIQUOR</td>\n",
       "      <td>PLAZA FOOD AND LIQUOR</td>\n",
       "      <td>2689757.0</td>\n",
       "      <td>Grocery Store</td>\n",
       "      <td>Risk 3 (Low)</td>\n",
       "      <td>2019-10-31T00:00:00.000</td>\n",
       "      <td>License</td>\n",
       "      <td>Fail</td>\n",
       "      <td>5. PROCEDURES FOR RESPONDING TO VOMITING AND D...</td>\n",
       "      <td>NaN</td>\n",
       "      <td>NaN</td>\n",
       "    </tr>\n",
       "    <tr>\n",
       "      <td>4</td>\n",
       "      <td>2320757</td>\n",
       "      <td>GADS HILL CENTER</td>\n",
       "      <td>GADS HILL CENTER</td>\n",
       "      <td>2698627.0</td>\n",
       "      <td>Daycare Above and Under 2 Years</td>\n",
       "      <td>Risk 1 (High)</td>\n",
       "      <td>2019-10-30T00:00:00.000</td>\n",
       "      <td>License</td>\n",
       "      <td>Fail</td>\n",
       "      <td>5. PROCEDURES FOR RESPONDING TO VOMITING AND D...</td>\n",
       "      <td>41.816005</td>\n",
       "      <td>-87.700893</td>\n",
       "    </tr>\n",
       "  </tbody>\n",
       "</table>\n",
       "</div>"
      ],
      "text/plain": [
       "   Inspection ID               DBA Name                   Name  License #  \\\n",
       "0        2320830    THE HOXTON, CHICAGO    THE HOXTON, CHICAGO  2694640.0   \n",
       "1        2320831       OGDEN PLAZA INC.       OGDEN PLAZA INC.  2475982.0   \n",
       "2        2320829  PLAZA FOOD AND LIQUOR  PLAZA FOOD AND LIQUOR  2689756.0   \n",
       "3        2320813  PLAZA FOOD AND LIQUOR  PLAZA FOOD AND LIQUOR  2689757.0   \n",
       "4        2320757       GADS HILL CENTER       GADS HILL CENTER  2698627.0   \n",
       "\n",
       "                          Facility             Risk                     Year  \\\n",
       "0                       Restaurant  Risk 2 (Medium)  2019-10-31T00:00:00.000   \n",
       "1                    Grocery Store     Risk 3 (Low)  2019-10-31T00:00:00.000   \n",
       "2                    Grocery Store     Risk 3 (Low)  2019-10-31T00:00:00.000   \n",
       "3                    Grocery Store     Risk 3 (Low)  2019-10-31T00:00:00.000   \n",
       "4  Daycare Above and Under 2 Years    Risk 1 (High)  2019-10-30T00:00:00.000   \n",
       "\n",
       "      Type          Results  \\\n",
       "0  License             Pass   \n",
       "1  Canvass  Out of Business   \n",
       "2  License        Not Ready   \n",
       "3  License             Fail   \n",
       "4  License             Fail   \n",
       "\n",
       "                                          Violations   Latitude  Longitude  \n",
       "0  36. THERMOMETERS PROVIDED & ACCURATE - Comment...  41.885699 -87.648789  \n",
       "1                                                NaN  41.855266 -87.712402  \n",
       "2                                                NaN        NaN        NaN  \n",
       "3  5. PROCEDURES FOR RESPONDING TO VOMITING AND D...        NaN        NaN  \n",
       "4  5. PROCEDURES FOR RESPONDING TO VOMITING AND D...  41.816005 -87.700893  "
      ]
     },
     "execution_count": 440,
     "metadata": {},
     "output_type": "execute_result"
    }
   ],
   "source": [
    "food.rename(columns={\"Inspection Date\": \"Year\", \"Inspection Type\": \"Type\", \"Facility Type\": \"Facility\", \"AKA Name\": \"Name\"}, inplace=True)\n",
    "food.head()"
   ]
  },
  {
   "cell_type": "markdown",
   "metadata": {},
   "source": [
    "**Risk analysis:**\n",
    "\n",
    "1) Pourcentage de 1, 2 et 3 sur chaque année\n",
    "\n",
    "2) Différences niveaux pour même chaîne (lié à la position?)\n",
    "\n",
    "3) Notes des chaînes/écoles\n",
    "\n",
    "4) Distributions des notes par année"
   ]
  },
  {
   "cell_type": "markdown",
   "metadata": {},
   "source": [
    "**1. Percentage distribution of risk level throughout the years** "
   ]
  },
  {
   "cell_type": "code",
   "execution_count": 441,
   "metadata": {},
   "outputs": [
    {
     "data": {
      "text/html": [
       "<div>\n",
       "<style scoped>\n",
       "    .dataframe tbody tr th:only-of-type {\n",
       "        vertical-align: middle;\n",
       "    }\n",
       "\n",
       "    .dataframe tbody tr th {\n",
       "        vertical-align: top;\n",
       "    }\n",
       "\n",
       "    .dataframe thead th {\n",
       "        text-align: right;\n",
       "    }\n",
       "</style>\n",
       "<table border=\"1\" class=\"dataframe\">\n",
       "  <thead>\n",
       "    <tr style=\"text-align: right;\">\n",
       "      <th></th>\n",
       "      <th>Inspection ID</th>\n",
       "      <th>DBA Name</th>\n",
       "      <th>Name</th>\n",
       "      <th>License #</th>\n",
       "      <th>Facility</th>\n",
       "      <th>Risk</th>\n",
       "      <th>Year</th>\n",
       "      <th>Type</th>\n",
       "      <th>Results</th>\n",
       "      <th>Violations</th>\n",
       "      <th>Latitude</th>\n",
       "      <th>Longitude</th>\n",
       "    </tr>\n",
       "  </thead>\n",
       "  <tbody>\n",
       "    <tr>\n",
       "      <td>0</td>\n",
       "      <td>2320830</td>\n",
       "      <td>THE HOXTON, CHICAGO</td>\n",
       "      <td>THE HOXTON, CHICAGO</td>\n",
       "      <td>2694640.0</td>\n",
       "      <td>Restaurant</td>\n",
       "      <td>Risk 2 (Medium)</td>\n",
       "      <td>2019</td>\n",
       "      <td>License</td>\n",
       "      <td>Pass</td>\n",
       "      <td>36. THERMOMETERS PROVIDED &amp; ACCURATE - Comment...</td>\n",
       "      <td>41.885699</td>\n",
       "      <td>-87.648789</td>\n",
       "    </tr>\n",
       "    <tr>\n",
       "      <td>1</td>\n",
       "      <td>2320831</td>\n",
       "      <td>OGDEN PLAZA INC.</td>\n",
       "      <td>OGDEN PLAZA INC.</td>\n",
       "      <td>2475982.0</td>\n",
       "      <td>Grocery Store</td>\n",
       "      <td>Risk 3 (Low)</td>\n",
       "      <td>2019</td>\n",
       "      <td>Canvass</td>\n",
       "      <td>Out of Business</td>\n",
       "      <td>NaN</td>\n",
       "      <td>41.855266</td>\n",
       "      <td>-87.712402</td>\n",
       "    </tr>\n",
       "    <tr>\n",
       "      <td>2</td>\n",
       "      <td>2320829</td>\n",
       "      <td>PLAZA FOOD AND LIQUOR</td>\n",
       "      <td>PLAZA FOOD AND LIQUOR</td>\n",
       "      <td>2689756.0</td>\n",
       "      <td>Grocery Store</td>\n",
       "      <td>Risk 3 (Low)</td>\n",
       "      <td>2019</td>\n",
       "      <td>License</td>\n",
       "      <td>Not Ready</td>\n",
       "      <td>NaN</td>\n",
       "      <td>NaN</td>\n",
       "      <td>NaN</td>\n",
       "    </tr>\n",
       "    <tr>\n",
       "      <td>3</td>\n",
       "      <td>2320813</td>\n",
       "      <td>PLAZA FOOD AND LIQUOR</td>\n",
       "      <td>PLAZA FOOD AND LIQUOR</td>\n",
       "      <td>2689757.0</td>\n",
       "      <td>Grocery Store</td>\n",
       "      <td>Risk 3 (Low)</td>\n",
       "      <td>2019</td>\n",
       "      <td>License</td>\n",
       "      <td>Fail</td>\n",
       "      <td>5. PROCEDURES FOR RESPONDING TO VOMITING AND D...</td>\n",
       "      <td>NaN</td>\n",
       "      <td>NaN</td>\n",
       "    </tr>\n",
       "    <tr>\n",
       "      <td>4</td>\n",
       "      <td>2320757</td>\n",
       "      <td>GADS HILL CENTER</td>\n",
       "      <td>GADS HILL CENTER</td>\n",
       "      <td>2698627.0</td>\n",
       "      <td>Daycare Above and Under 2 Years</td>\n",
       "      <td>Risk 1 (High)</td>\n",
       "      <td>2019</td>\n",
       "      <td>License</td>\n",
       "      <td>Fail</td>\n",
       "      <td>5. PROCEDURES FOR RESPONDING TO VOMITING AND D...</td>\n",
       "      <td>41.816005</td>\n",
       "      <td>-87.700893</td>\n",
       "    </tr>\n",
       "  </tbody>\n",
       "</table>\n",
       "</div>"
      ],
      "text/plain": [
       "   Inspection ID               DBA Name                   Name  License #  \\\n",
       "0        2320830    THE HOXTON, CHICAGO    THE HOXTON, CHICAGO  2694640.0   \n",
       "1        2320831       OGDEN PLAZA INC.       OGDEN PLAZA INC.  2475982.0   \n",
       "2        2320829  PLAZA FOOD AND LIQUOR  PLAZA FOOD AND LIQUOR  2689756.0   \n",
       "3        2320813  PLAZA FOOD AND LIQUOR  PLAZA FOOD AND LIQUOR  2689757.0   \n",
       "4        2320757       GADS HILL CENTER       GADS HILL CENTER  2698627.0   \n",
       "\n",
       "                          Facility             Risk  Year     Type  \\\n",
       "0                       Restaurant  Risk 2 (Medium)  2019  License   \n",
       "1                    Grocery Store     Risk 3 (Low)  2019  Canvass   \n",
       "2                    Grocery Store     Risk 3 (Low)  2019  License   \n",
       "3                    Grocery Store     Risk 3 (Low)  2019  License   \n",
       "4  Daycare Above and Under 2 Years    Risk 1 (High)  2019  License   \n",
       "\n",
       "           Results                                         Violations  \\\n",
       "0             Pass  36. THERMOMETERS PROVIDED & ACCURATE - Comment...   \n",
       "1  Out of Business                                                NaN   \n",
       "2        Not Ready                                                NaN   \n",
       "3             Fail  5. PROCEDURES FOR RESPONDING TO VOMITING AND D...   \n",
       "4             Fail  5. PROCEDURES FOR RESPONDING TO VOMITING AND D...   \n",
       "\n",
       "    Latitude  Longitude  \n",
       "0  41.885699 -87.648789  \n",
       "1  41.855266 -87.712402  \n",
       "2        NaN        NaN  \n",
       "3        NaN        NaN  \n",
       "4  41.816005 -87.700893  "
      ]
     },
     "execution_count": 441,
     "metadata": {},
     "output_type": "execute_result"
    }
   ],
   "source": [
    "#Year cleaning (keep only the year value)\n",
    "food.Year = food.Year.str.split(\"-\").str[0]\n",
    "food.head()"
   ]
  },
  {
   "cell_type": "code",
   "execution_count": 442,
   "metadata": {},
   "outputs": [
    {
     "data": {
      "text/plain": [
       "False"
      ]
     },
     "execution_count": 442,
     "metadata": {},
     "output_type": "execute_result"
    }
   ],
   "source": [
    "#Check for missing years\n",
    "food.Year.isna().any()"
   ]
  },
  {
   "cell_type": "markdown",
   "metadata": {},
   "source": [
    "We see that we have every year from 2010 to 2019 present"
   ]
  },
  {
   "cell_type": "code",
   "execution_count": 443,
   "metadata": {},
   "outputs": [],
   "source": [
    "#risk distribution for every year\n",
    "year_list = food.Year.unique().tolist()\n",
    "year_list.sort()\n",
    "all_risks =  [[0 for _ in range(3)] for _ in range(len(year_list))]\n",
    "year = 0\n",
    "for i in year_list:\n",
    "    all_risks[year] = food[food.Year==i].Risk.value_counts().sort_index().tail(3).tolist()\n",
    "    year += 1"
   ]
  },
  {
   "cell_type": "code",
   "execution_count": 444,
   "metadata": {},
   "outputs": [
    {
     "data": {
      "image/png": "[encoded data removed]",
      "text/plain": [
       "<Figure size 1080x360 with 10 Axes>"
      ]
     },
     "metadata": {},
     "output_type": "display_data"
    }
   ],
   "source": [
    "#plotting\n",
    "labels = ['High Risk', 'Medium Risk', 'Low Risk']\n",
    "fig, ax= plt.subplots(2,int(len(year_list)/2),figsize=(15,5))\n",
    "\n",
    "year = 0\n",
    "for i in range(2):\n",
    "    for j in range(int(len(year_list)/2)):\n",
    "        ax[i,j].pie(all_risks[year], labels = labels, autopct='%1.1f%%')\n",
    "        ax[i,j].set_title(year_list[year])\n",
    "        year += 1\n",
    "\n",
    "plt.show()"
   ]
  },
  {
   "cell_type": "markdown",
   "metadata": {},
   "source": [
    "**Discussion**\n",
    "\n",
    "We see that the distribution of different risk levels has slowly changed since 2010. There is a slow increase in high risk aka fast foods "
   ]
  },
  {
   "cell_type": "markdown",
   "metadata": {},
   "source": [
    "**2. Most inspected facilities analysis**"
   ]
  },
  {
   "cell_type": "markdown",
   "metadata": {},
   "source": [
    "First we need a visualization of the facilities to identify the cleaning needed. We will also concentrate only on data from the two last years to avoid the creation of any outlier or irrelevant data"
   ]
  },
  {
   "cell_type": "code",
   "execution_count": 445,
   "metadata": {},
   "outputs": [
    {
     "data": {
      "text/plain": [
       "SUBWAY                          528\n",
       "DUNKIN DONUTS                   204\n",
       "MCDONALD'S                      112\n",
       "7-ELEVEN                        102\n",
       "BURGER KING                      79\n",
       "TACO BELL                        78\n",
       "WENDY'S                          76\n",
       "DUNKIN DONUTS/BASKIN ROBBINS     59\n",
       "FRESHII                          56\n",
       "WINGSTOP                         56\n",
       "POTBELLY SANDWICH WORKS          51\n",
       "MARIANO'S                        51\n",
       "STARBUCKS COFFEE                 50\n",
       "CHIPOTLE MEXICAN GRILL           47\n",
       "CITGO                            46\n",
       "JIMMY JOHN'S                     46\n",
       "MCDONALDS                        45\n",
       "POPEYES                          43\n",
       "STARBUCKS                        40\n",
       "CORNER BAKERY CAFE               36\n",
       "PIZZA HUT                        35\n",
       "MC DONALDS                       34\n",
       "SUBWAY SANDWICHES                32\n",
       "KFC                              32\n",
       "WHOLE FOODS MARKET               31\n",
       "HAROLD'S CHICKEN                 29\n",
       "DOLLAR TREE                      28\n",
       "KENTUCKY FRIED CHICKEN           27\n",
       "JIMMY JOHNS                      27\n",
       "AU BON PAIN                      27\n",
       "POPEYE'S                         26\n",
       "Subway                           26\n",
       "POTBELLY SANDWICH WORKS LLC      25\n",
       "DOMINO'S                         24\n",
       "JEWEL FOOD STORE                 24\n",
       "LA MICHOACANA                    23\n",
       "PRET A MANGER                    23\n",
       "LAS ISLAS MARIAS                 23\n",
       "SEE THRU CHINESE KITCHEN         22\n",
       "PROTEIN BAR                      20\n",
       "POTBELLY SANDWICH SHOP           20\n",
       "JERK TACO MAN                    20\n",
       "IHOP                             20\n",
       "LAO SZE CHUAN                    20\n",
       "PANDA EXPRESS                    20\n",
       "PANERA BREAD                     20\n",
       "MC DONALD'S                      18\n",
       "ARGO TEA                         18\n",
       "WOW BAO                          18\n",
       "SENOR PAN CAFE                   18\n",
       "Name: Name, dtype: int64"
      ]
     },
     "execution_count": 445,
     "metadata": {},
     "output_type": "execute_result"
    }
   ],
   "source": [
    "newfood = food[food.Year.isin(['2018','2019'])].copy()\n",
    "newfood.Name.value_counts().head(50)"
   ]
  },
  {
   "cell_type": "markdown",
   "metadata": {},
   "source": [
    "We see here some facilities are the same but with names slightly changed, so we need to adapt the data accordingly then we are going to make a deeper analysis on the these chains: McDonald's, Subway, Dunkin Donuts, Starbucks and Taco Bell. Why these restaurants ? Because they are all big chains which means they would normally follow the same standards but identifying different levels of risk might give us a clue of the quality of different locations in Chicago."
   ]
  },
  {
   "cell_type": "code",
   "execution_count": 446,
   "metadata": {},
   "outputs": [
    {
     "data": {
      "text/plain": [
       "False"
      ]
     },
     "execution_count": 446,
     "metadata": {},
     "output_type": "execute_result"
    }
   ],
   "source": [
    "#Drop NaN's\n",
    "newfood.dropna(subset=['Name'], inplace=True)\n",
    "newfood.Name.isna().any()"
   ]
  },
  {
   "cell_type": "code",
   "execution_count": 447,
   "metadata": {},
   "outputs": [],
   "source": [
    "#Top facilities cleaning (we will not take on account the cleaning of any facility other than the top 5)\n",
    "newfood.Name = newfood.Name.str.upper()"
   ]
  },
  {
   "cell_type": "code",
   "execution_count": 448,
   "metadata": {},
   "outputs": [
    {
     "data": {
      "text/plain": [
       "MCDONALD'S                               131\n",
       "MCDONALDS                                 51\n",
       "MC DONALDS                                41\n",
       "MC DONALD'S                               18\n",
       "MCDONALD'S  (T3 HK FOOD COURT)             6\n",
       "MCDONALD'S RESTAURANT                      6\n",
       "MCDONALD?S 28128                           5\n",
       "MCDONALD'S RESTAURANT  (T3 H9)             5\n",
       "MCDONALD'S  (T5 ARRIVAL)                   5\n",
       "MCDONALDS  (T3  K9)                        5\n",
       "MCDONALD'S  (T2  E/F)                      4\n",
       "MCDONALDS RESTAURANT                       4\n",
       "MCDONALD'S RESTAURANTS                     4\n",
       "MCDONALD'S #5813                           3\n",
       "MCDONALD?S                                 3\n",
       "DONALDS FAMOUS HOT DOGS                    3\n",
       "MC DONALD'S  (T3  L4)                      3\n",
       "MCDONALD'S  (T1  B11)                      2\n",
       "MCDONALDS #4655                            2\n",
       "MCDONALD'S - MCCAFE'                       2\n",
       "MCDONALDS (T1 C10)                         2\n",
       "MCDONALD'S #490                            2\n",
       "OFFICER DONALD MARQUEZ CHARTER SCHOOL      2\n",
       "MCDONALD'S #20104                          2\n",
       "MC DONALDS # 25509                         1\n",
       "MC DONALD'S RESTAURANT                     1\n",
       "MC DONALD' S  # 6888                       1\n",
       "MC DONALDS # 6771                          1\n",
       "MC DONALDS-MCCORMICK PLACE NORTH           1\n",
       "MCDONALDS #27672                           1\n",
       "MCDONALDÏ¿½S                               1\n",
       "MCDONALDÏ¿½S 28128                         1\n",
       "MCDONALD'S #5293                           1\n",
       "OFFICER DONALD MARQUEZ                     1\n",
       "MCDONALD'S #26364                          1\n",
       "Name: Name, dtype: int64"
      ]
     },
     "execution_count": 448,
     "metadata": {},
     "output_type": "execute_result"
    }
   ],
   "source": [
    "#Let's see if there is other restaurants with \"donald\" to avoid adding wrong data to McDonald's\n",
    "newfood[newfood[\"Name\"].str.contains(\"DONALD\")].Name.value_counts()"
   ]
  },
  {
   "cell_type": "code",
   "execution_count": 449,
   "metadata": {},
   "outputs": [],
   "source": [
    "#removing other restaurants than McDonald's than unifying all McDonald's\n",
    "removable = ['MARQUEZ', 'DOGS']\n",
    "newfood = newfood[~newfood.Name.str.contains('|'.join(removable))]\n",
    "newfood.loc[newfood.Name.str.contains(\"DONALD\"), 'Name'] = \"MCDONALDS\""
   ]
  },
  {
   "cell_type": "code",
   "execution_count": 450,
   "metadata": {},
   "outputs": [
    {
     "data": {
      "text/plain": [
       "SUBWAY                          554\n",
       "MCDONALDS                       316\n",
       "DUNKIN DONUTS                   207\n",
       "7-ELEVEN                        107\n",
       "BURGER KING                      79\n",
       "TACO BELL                        78\n",
       "WENDY'S                          78\n",
       "CHIPOTLE MEXICAN GRILL           63\n",
       "DUNKIN DONUTS/BASKIN ROBBINS     59\n",
       "WINGSTOP                         58\n",
       "Name: Name, dtype: int64"
      ]
     },
     "execution_count": 450,
     "metadata": {},
     "output_type": "execute_result"
    }
   ],
   "source": [
    "newfood.Name.value_counts().head(10)"
   ]
  },
  {
   "cell_type": "code",
   "execution_count": null,
   "metadata": {},
   "outputs": [],
   "source": []
  }
 ],
 "metadata": {
  "kernelspec": {
   "display_name": "Python 3",
   "language": "python",
   "name": "python3"
  },
  "language_info": {
   "codemirror_mode": {
    "name": "ipython",
    "version": 3
   },
   "file_extension": ".py",
   "mimetype": "text/x-python",
   "name": "python",
   "nbconvert_exporter": "python",
   "pygments_lexer": "ipython3",
   "version": "3.7.4"
  }
 },
 "nbformat": 4,
 "nbformat_minor": 4
}
