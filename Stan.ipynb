{
 "cells": [
  {
   "cell_type": "markdown",
   "metadata": {},
   "source": [
    "# Project "
   ]
  },
  {
   "cell_type": "code",
   "execution_count": 111,
   "metadata": {},
   "outputs": [],
   "source": [
    "%matplotlib inline\n",
    "import pandas as pd\n",
    "import numpy as np\n",
    "import re\n",
    "from matplotlib.ticker import MaxNLocator\n",
    "import matplotlib.pyplot as plt\n",
    "from requests import get\n",
    "from bs4 import BeautifulSoup\n",
    "from scipy import stats\n",
    "import warnings\n",
    "warnings.filterwarnings('ignore')"
   ]
  },
  {
   "cell_type": "markdown",
   "metadata": {},
   "source": [
    "**Part 1.**\n",
    "\n",
    "Loading the data :"
   ]
  },
  {
   "cell_type": "code",
   "execution_count": 112,
   "metadata": {},
   "outputs": [],
   "source": [
    "food_inspections = pd.read_csv('data/food-inspections.csv', sep=',')"
   ]
  },
  {
   "cell_type": "markdown",
   "metadata": {},
   "source": [
    "**Part 2.**\n",
    "\n",
    "Drop column we don't need :"
   ]
  },
  {
   "cell_type": "code",
   "execution_count": 113,
   "metadata": {},
   "outputs": [],
   "source": [
    "food_inspections = food_inspections.drop(['Zip', 'Zip Codes','Historical Wards 2003-2015', 'Community Areas', 'Census Tracts','Wards','AKA Name','State','City','Address'], axis=1)"
   ]
  },
  {
   "cell_type": "code",
   "execution_count": 114,
   "metadata": {},
   "outputs": [
    {
     "data": {
      "text/html": [
       "<div>\n",
       "<style scoped>\n",
       "    .dataframe tbody tr th:only-of-type {\n",
       "        vertical-align: middle;\n",
       "    }\n",
       "\n",
       "    .dataframe tbody tr th {\n",
       "        vertical-align: top;\n",
       "    }\n",
       "\n",
       "    .dataframe thead th {\n",
       "        text-align: right;\n",
       "    }\n",
       "</style>\n",
       "<table border=\"1\" class=\"dataframe\">\n",
       "  <thead>\n",
       "    <tr style=\"text-align: right;\">\n",
       "      <th></th>\n",
       "      <th>Inspection ID</th>\n",
       "      <th>DBA Name</th>\n",
       "      <th>License #</th>\n",
       "      <th>Facility Type</th>\n",
       "      <th>Risk</th>\n",
       "      <th>Inspection Date</th>\n",
       "      <th>Inspection Type</th>\n",
       "      <th>Results</th>\n",
       "      <th>Violations</th>\n",
       "      <th>Latitude</th>\n",
       "      <th>Longitude</th>\n",
       "      <th>Location</th>\n",
       "    </tr>\n",
       "  </thead>\n",
       "  <tbody>\n",
       "    <tr>\n",
       "      <td>0</td>\n",
       "      <td>2320977</td>\n",
       "      <td>TODD APPEL BAR AND COCKTAIL</td>\n",
       "      <td>2589615.0</td>\n",
       "      <td>Grocery Store</td>\n",
       "      <td>Risk 2 (Medium)</td>\n",
       "      <td>2019-11-01T00:00:00.000</td>\n",
       "      <td>Canvass</td>\n",
       "      <td>No Entry</td>\n",
       "      <td>NaN</td>\n",
       "      <td>41.988060</td>\n",
       "      <td>-87.703704</td>\n",
       "      <td>{'latitude': '-87.70370445181302', 'longitude'...</td>\n",
       "    </tr>\n",
       "    <tr>\n",
       "      <td>1</td>\n",
       "      <td>2320927</td>\n",
       "      <td>Sayre Language Acad.</td>\n",
       "      <td>29271.0</td>\n",
       "      <td>School</td>\n",
       "      <td>Risk 1 (High)</td>\n",
       "      <td>2019-11-01T00:00:00.000</td>\n",
       "      <td>Canvass</td>\n",
       "      <td>Fail</td>\n",
       "      <td>10. ADEQUATE HANDWASHING SINKS PROPERLY SUPPLI...</td>\n",
       "      <td>41.914124</td>\n",
       "      <td>-87.798757</td>\n",
       "      <td>{'latitude': '-87.79875666766955', 'longitude'...</td>\n",
       "    </tr>\n",
       "    <tr>\n",
       "      <td>2</td>\n",
       "      <td>2320911</td>\n",
       "      <td>Hitch Elementary School</td>\n",
       "      <td>23811.0</td>\n",
       "      <td>School</td>\n",
       "      <td>Risk 1 (High)</td>\n",
       "      <td>2019-11-01T00:00:00.000</td>\n",
       "      <td>Canvass Re-Inspection</td>\n",
       "      <td>Fail</td>\n",
       "      <td>10. ADEQUATE HANDWASHING SINKS PROPERLY SUPPLI...</td>\n",
       "      <td>41.983678</td>\n",
       "      <td>-87.779086</td>\n",
       "      <td>{'latitude': '-87.77908614427155', 'longitude'...</td>\n",
       "    </tr>\n",
       "    <tr>\n",
       "      <td>3</td>\n",
       "      <td>2320918</td>\n",
       "      <td>BEEFSTEAK</td>\n",
       "      <td>2698445.0</td>\n",
       "      <td>Restaurant</td>\n",
       "      <td>Risk 1 (High)</td>\n",
       "      <td>2019-11-01T00:00:00.000</td>\n",
       "      <td>License</td>\n",
       "      <td>Pass</td>\n",
       "      <td>39. CONTAMINATION PREVENTED DURING FOOD PREPAR...</td>\n",
       "      <td>41.895692</td>\n",
       "      <td>-87.620143</td>\n",
       "      <td>{'latitude': '-87.62014286048188', 'longitude'...</td>\n",
       "    </tr>\n",
       "    <tr>\n",
       "      <td>4</td>\n",
       "      <td>2320916</td>\n",
       "      <td>ST. CONSTANCE ELEMENTARY SCHOOL</td>\n",
       "      <td>1878492.0</td>\n",
       "      <td>School</td>\n",
       "      <td>Risk 1 (High)</td>\n",
       "      <td>2019-11-01T00:00:00.000</td>\n",
       "      <td>Canvass</td>\n",
       "      <td>No Entry</td>\n",
       "      <td>NaN</td>\n",
       "      <td>41.970176</td>\n",
       "      <td>-87.775099</td>\n",
       "      <td>{'latitude': '-87.77509944904432', 'longitude'...</td>\n",
       "    </tr>\n",
       "  </tbody>\n",
       "</table>\n",
       "</div>"
      ],
      "text/plain": [
       "   Inspection ID                         DBA Name  License #  Facility Type  \\\n",
       "0        2320977      TODD APPEL BAR AND COCKTAIL  2589615.0  Grocery Store   \n",
       "1        2320927             Sayre Language Acad.    29271.0         School   \n",
       "2        2320911          Hitch Elementary School    23811.0         School   \n",
       "3        2320918                        BEEFSTEAK  2698445.0     Restaurant   \n",
       "4        2320916  ST. CONSTANCE ELEMENTARY SCHOOL  1878492.0         School   \n",
       "\n",
       "              Risk          Inspection Date        Inspection Type   Results  \\\n",
       "0  Risk 2 (Medium)  2019-11-01T00:00:00.000                Canvass  No Entry   \n",
       "1    Risk 1 (High)  2019-11-01T00:00:00.000                Canvass      Fail   \n",
       "2    Risk 1 (High)  2019-11-01T00:00:00.000  Canvass Re-Inspection      Fail   \n",
       "3    Risk 1 (High)  2019-11-01T00:00:00.000                License      Pass   \n",
       "4    Risk 1 (High)  2019-11-01T00:00:00.000                Canvass  No Entry   \n",
       "\n",
       "                                          Violations   Latitude  Longitude  \\\n",
       "0                                                NaN  41.988060 -87.703704   \n",
       "1  10. ADEQUATE HANDWASHING SINKS PROPERLY SUPPLI...  41.914124 -87.798757   \n",
       "2  10. ADEQUATE HANDWASHING SINKS PROPERLY SUPPLI...  41.983678 -87.779086   \n",
       "3  39. CONTAMINATION PREVENTED DURING FOOD PREPAR...  41.895692 -87.620143   \n",
       "4                                                NaN  41.970176 -87.775099   \n",
       "\n",
       "                                            Location  \n",
       "0  {'latitude': '-87.70370445181302', 'longitude'...  \n",
       "1  {'latitude': '-87.79875666766955', 'longitude'...  \n",
       "2  {'latitude': '-87.77908614427155', 'longitude'...  \n",
       "3  {'latitude': '-87.62014286048188', 'longitude'...  \n",
       "4  {'latitude': '-87.77509944904432', 'longitude'...  "
      ]
     },
     "execution_count": 114,
     "metadata": {},
     "output_type": "execute_result"
    }
   ],
   "source": [
    "food_inspections.head()"
   ]
  },
  {
   "cell_type": "code",
   "execution_count": 115,
   "metadata": {},
   "outputs": [
    {
     "data": {
      "text/plain": [
       "False"
      ]
     },
     "execution_count": 115,
     "metadata": {},
     "output_type": "execute_result"
    }
   ],
   "source": [
    "food_inspections['Inspection ID'].isnull().values.any()"
   ]
  },
  {
   "cell_type": "code",
   "execution_count": 116,
   "metadata": {},
   "outputs": [
    {
     "data": {
      "text/plain": [
       "195212"
      ]
     },
     "execution_count": 116,
     "metadata": {},
     "output_type": "execute_result"
    }
   ],
   "source": [
    "food_inspections['Inspection ID'].count()"
   ]
  },
  {
   "cell_type": "code",
   "execution_count": null,
   "metadata": {},
   "outputs": [],
   "source": []
  },
  {
   "cell_type": "markdown",
   "metadata": {},
   "source": [
    "**Part 3.**\n",
    "\n",
    "Analyse facilities :\n",
    "\n",
    "Remarque :\n",
    "Selon Le food Inspection, seul ces facilites devrais être enregistrée.\n",
    "\n",
    "    1.bakery, \n",
    "    2.banquet hall\n",
    "    3.candy store\n",
    "    4.caterer\n",
    "    5.coffee shop\n",
    "    6.day care center (for ages less than 2)\n",
    "    7.day care center (for ages 2 – 6)\n",
    "    8.day care center (combo, for ages less than 2 and 2 – 6 combined)\n",
    "    9.gas station\n",
    "    10.Golden Diner\n",
    "    11.grocery store\n",
    "    12.hospital\n",
    "    13.long term care center(nursing home)\n",
    "    14.liquor store\n",
    "    15.mobile food dispenser\n",
    "    16.restaurant\n",
    "    17.paleteria\n",
    "    18.school\n",
    "    19.shelter\n",
    "    20.tavern\n",
    "    21.social club\n",
    "    22.wholesaler\n",
    "    23.Wrigley Field Rooftop. \n",
    "\n"
   ]
  },
  {
   "cell_type": "code",
   "execution_count": 117,
   "metadata": {},
   "outputs": [
    {
     "data": {
      "text/plain": [
       "Facility Type\n",
       "Restaurant                                        19822\n",
       "Grocery Store                                      6167\n",
       "School                                             1166\n",
       "Children's Services Facility                        636\n",
       "Daycare (2 - 6 Years)                               584\n",
       "Daycare Above and Under 2 Years                     496\n",
       "Bakery                                              488\n",
       "Mobile Food Dispenser                               468\n",
       "Liquor                                              407\n",
       "Wholesale                                           260\n",
       "Long Term Care                                      257\n",
       "Catering                                            218\n",
       "Daycare Combo 1586                                  182\n",
       "Shared Kitchen User (Long Term)                     176\n",
       "Mobile Food Preparer                                160\n",
       "TAVERN                                              123\n",
       "Hospital                                             98\n",
       "Golden Diner                                         75\n",
       "Daycare (Under 2 Years)                              62\n",
       "Mobile Prepared Food Vendor                          59\n",
       "GAS STATION                                          45\n",
       "Special Event                                        39\n",
       "Shared Kitchen User (Short Term)                     38\n",
       "Mobile Frozen Desserts Vendor                        26\n",
       "Shared Kitchen                                       24\n",
       "BANQUET HALL                                         21\n",
       "Pop-Up Establishment Host-Tier II                    19\n",
       "STORE                                                19\n",
       "CHARTER SCHOOL                                       16\n",
       "DAYCARE                                              15\n",
       "CONVENIENCE STORE                                    13\n",
       "CONVENIENCE                                          13\n",
       "Shelter                                              11\n",
       "MOBILE FROZEN DESSERTS DISPENSER-NON-MOTORIZED       11\n",
       "Navy Pier Kiosk                                      11\n",
       "Daycare (2 Years)                                    10\n",
       "BREWERY                                              10\n",
       "PRIVATE SCHOOL                                        9\n",
       "convenience store                                     9\n",
       "LIVE POULTRY                                          9\n",
       "GROCERY/RESTAURANT                                    8\n",
       "tavern                                                8\n",
       "BANQUET                                               8\n",
       "ICE CREAM SHOP                                        7\n",
       "THEATRE                                               7\n",
       "1023 CHILDERN'S SERVICES FACILITY                     7\n",
       "THEATER                                               7\n",
       "HERBALIFE                                             7\n",
       "gas station                                           7\n",
       "MOBILE DESSERTS VENDOR                                7\n",
       "Name: Facility Type, dtype: int64"
      ]
     },
     "execution_count": 117,
     "metadata": {},
     "output_type": "execute_result"
    }
   ],
   "source": [
    "Unique_license = food_inspections.drop_duplicates(subset=\"License #\")\n",
    "Unique_license.groupby('Facility Type')['Facility Type'].count().sort_values(ascending=False).head(50)"
   ]
  },
  {
   "cell_type": "markdown",
   "metadata": {},
   "source": [
    "On ne vas s'interesser que au Facility type : Restaurant,Grocery Store, School et hopital"
   ]
  },
  {
   "cell_type": "code",
   "execution_count": 118,
   "metadata": {},
   "outputs": [],
   "source": [
    "Facility_list =  ['Restaurant', 'Grocery Store', 'School', 'Hospital']\n",
    "Unique_license = Unique_license[Unique_license['Facility Type'].isin(Facility_list)]\n",
    "Unique_license = Unique_license[Unique_license.duplicated(subset='Location')]"
   ]
  },
  {
   "cell_type": "code",
   "execution_count": 121,
   "metadata": {},
   "outputs": [
    {
     "data": {
      "text/plain": [
       "Facility Type\n",
       "Restaurant       10628\n",
       "Grocery Store     2820\n",
       "School             202\n",
       "Hospital            64\n",
       "Name: Facility Type, dtype: int64"
      ]
     },
     "execution_count": 121,
     "metadata": {},
     "output_type": "execute_result"
    }
   ],
   "source": [
    "Unique_license.groupby('Facility Type')['Facility Type'].count().sort_values(ascending=False).head()"
   ]
  },
  {
   "cell_type": "markdown",
   "metadata": {},
   "source": [
    "Il s'agit d'un dataset ne comprenant que les Unique commerce."
   ]
  },
  {
   "cell_type": "code",
   "execution_count": 123,
   "metadata": {},
   "outputs": [],
   "source": [
    "Facility_Type_Db = Unique_license[['Facility Type','Latitude','Longitude']]"
   ]
  },
  {
   "cell_type": "code",
   "execution_count": 125,
   "metadata": {},
   "outputs": [
    {
     "data": {
      "text/html": [
       "<div>\n",
       "<style scoped>\n",
       "    .dataframe tbody tr th:only-of-type {\n",
       "        vertical-align: middle;\n",
       "    }\n",
       "\n",
       "    .dataframe tbody tr th {\n",
       "        vertical-align: top;\n",
       "    }\n",
       "\n",
       "    .dataframe thead th {\n",
       "        text-align: right;\n",
       "    }\n",
       "</style>\n",
       "<table border=\"1\" class=\"dataframe\">\n",
       "  <thead>\n",
       "    <tr style=\"text-align: right;\">\n",
       "      <th></th>\n",
       "      <th>Facility Type</th>\n",
       "      <th>Latitude</th>\n",
       "      <th>Longitude</th>\n",
       "    </tr>\n",
       "  </thead>\n",
       "  <tbody>\n",
       "    <tr>\n",
       "      <td>11</td>\n",
       "      <td>Restaurant</td>\n",
       "      <td>41.895692</td>\n",
       "      <td>-87.620143</td>\n",
       "    </tr>\n",
       "    <tr>\n",
       "      <td>28</td>\n",
       "      <td>Restaurant</td>\n",
       "      <td>42.008536</td>\n",
       "      <td>-87.914428</td>\n",
       "    </tr>\n",
       "    <tr>\n",
       "      <td>32</td>\n",
       "      <td>Restaurant</td>\n",
       "      <td>42.008536</td>\n",
       "      <td>-87.914428</td>\n",
       "    </tr>\n",
       "    <tr>\n",
       "      <td>38</td>\n",
       "      <td>Restaurant</td>\n",
       "      <td>41.966148</td>\n",
       "      <td>-87.688683</td>\n",
       "    </tr>\n",
       "    <tr>\n",
       "      <td>41</td>\n",
       "      <td>Restaurant</td>\n",
       "      <td>41.931918</td>\n",
       "      <td>-87.725545</td>\n",
       "    </tr>\n",
       "  </tbody>\n",
       "</table>\n",
       "</div>"
      ],
      "text/plain": [
       "   Facility Type   Latitude  Longitude\n",
       "11    Restaurant  41.895692 -87.620143\n",
       "28    Restaurant  42.008536 -87.914428\n",
       "32    Restaurant  42.008536 -87.914428\n",
       "38    Restaurant  41.966148 -87.688683\n",
       "41    Restaurant  41.931918 -87.725545"
      ]
     },
     "execution_count": 125,
     "metadata": {},
     "output_type": "execute_result"
    }
   ],
   "source": [
    "#Drop la ou y a pas de latitude et longitude\n",
    "Facility_Type_Db.dropna(subset=['Latitude'], inplace=True)\n",
    "Facility_Type_Db.head()"
   ]
  },
  {
   "cell_type": "markdown",
   "metadata": {},
   "source": [
    "**Facility_type_Db:** Est un dataset Avec uniquement les Facility Unique"
   ]
  },
  {
   "cell_type": "markdown",
   "metadata": {},
   "source": [
    "**Part 3** : Inspection\n",
    "\n",
    "1. Moyenne Inspection Pour chaque Facility type\n",
    "2. Moyenne Inspection pour chaque Facility type au cours des année\n",
    "3. Moyenne Inspection des 5 plus grandes institutions\n"
   ]
  },
  {
   "cell_type": "markdown",
   "metadata": {},
   "source": [
    "0) Drop Nan dans localisation\n",
    "   \n",
    "1) Moyenne Inspection pour chaque facility type\n",
    "\n",
    "Facility_filtered dataset = {restaurant, Grocery Store, School, Hospital}\n",
    "Nbrs Inspection / Nbrs Facility  = Moyenne Inspection pour Facility\n",
    "\n",
    "2) Au cours des année\n",
    "\n",
    "To_date\n",
    "\n",
    "3) Moyenne inspection des 5 plus grandes institutions\n",
    "\n",
    "Institution_filtered dataset = {1...,2...,3...,4...,5...}\n",
    "-> Unifier les noms"
   ]
  },
  {
   "cell_type": "code",
   "execution_count": null,
   "metadata": {},
   "outputs": [],
   "source": [
    " "
   ]
  }
 ],
 "metadata": {
  "kernelspec": {
   "display_name": "Python [conda env:ada] *",
   "language": "python",
   "name": "conda-env-ada-py"
  },
  "language_info": {
   "codemirror_mode": {
    "name": "ipython",
    "version": 3
   },
   "file_extension": ".py",
   "mimetype": "text/x-python",
   "name": "python",
   "nbconvert_exporter": "python",
   "pygments_lexer": "ipython3",
   "version": "3.7.4"
  }
 },
 "nbformat": 4,
 "nbformat_minor": 2
}
