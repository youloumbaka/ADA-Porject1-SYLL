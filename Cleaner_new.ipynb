{
 "cells": [
  {
   "cell_type": "markdown",
   "metadata": {},
   "source": [
    "**Here we are going to clean the data for manipulating the dataset later by saving/loading a dataframe**"
   ]
  },
  {
   "cell_type": "markdown",
   "metadata": {},
   "source": [
    "Finish with thi sline of code:"
   ]
  },
  {
   "cell_type": "code",
   "execution_count": 206,
   "metadata": {},
   "outputs": [],
   "source": [
    "%matplotlib inline\n",
    "import pandas as pd\n",
    "import numpy as np\n",
    "import re\n",
    "from matplotlib.ticker import MaxNLocator\n",
    "import matplotlib.pyplot as plt\n",
    "from requests import get\n",
    "from bs4 import BeautifulSoup\n",
    "from scipy import stats\n",
    "import warnings\n",
    "warnings.filterwarnings('ignore')"
   ]
  },
  {
   "cell_type": "markdown",
   "metadata": {},
   "source": [
    "**Dataframe Preparation**"
   ]
  },
  {
   "cell_type": "code",
   "execution_count": 207,
   "metadata": {},
   "outputs": [],
   "source": [
    "food = pd.read_csv('data/food-inspections.csv', sep=',')"
   ]
  },
  {
   "cell_type": "code",
   "execution_count": 208,
   "metadata": {},
   "outputs": [],
   "source": [
    "# Drop The columns containing only 'NaN'\n",
    "food.drop(['Zip Codes','Historical Wards 2003-2015', 'Community Areas', 'Census Tracts','Wards'], axis=1, inplace=True)\n",
    "\n",
    "# Drop because the State is either 'NaN' or 'IL' for Illinois and remove the Address because it is not useful.\n",
    "food.drop(['State','Address'], axis=1, inplace=True)"
   ]
  },
  {
   "cell_type": "code",
   "execution_count": 209,
   "metadata": {},
   "outputs": [
    {
     "data": {
      "text/html": [
       "<div>\n",
       "<style scoped>\n",
       "    .dataframe tbody tr th:only-of-type {\n",
       "        vertical-align: middle;\n",
       "    }\n",
       "\n",
       "    .dataframe tbody tr th {\n",
       "        vertical-align: top;\n",
       "    }\n",
       "\n",
       "    .dataframe thead th {\n",
       "        text-align: right;\n",
       "    }\n",
       "</style>\n",
       "<table border=\"1\" class=\"dataframe\">\n",
       "  <thead>\n",
       "    <tr style=\"text-align: right;\">\n",
       "      <th></th>\n",
       "      <th>Inspection ID</th>\n",
       "      <th>DBA Name</th>\n",
       "      <th>AKA Name</th>\n",
       "      <th>License #</th>\n",
       "      <th>Facility Type</th>\n",
       "      <th>Risk</th>\n",
       "      <th>City</th>\n",
       "      <th>Zip</th>\n",
       "      <th>Inspection Date</th>\n",
       "      <th>Inspection Type</th>\n",
       "      <th>Results</th>\n",
       "      <th>Violations</th>\n",
       "      <th>Latitude</th>\n",
       "      <th>Longitude</th>\n",
       "      <th>Location</th>\n",
       "    </tr>\n",
       "  </thead>\n",
       "  <tbody>\n",
       "    <tr>\n",
       "      <td>0</td>\n",
       "      <td>2320519</td>\n",
       "      <td>SALAM  RESTAURANT</td>\n",
       "      <td>SALAM RESTAURANT</td>\n",
       "      <td>2002822.0</td>\n",
       "      <td>Restaurant</td>\n",
       "      <td>Risk 1 (High)</td>\n",
       "      <td>CHICAGO</td>\n",
       "      <td>60625.0</td>\n",
       "      <td>2019-10-25T00:00:00.000</td>\n",
       "      <td>Complaint Re-Inspection</td>\n",
       "      <td>Pass</td>\n",
       "      <td>NaN</td>\n",
       "      <td>41.965719</td>\n",
       "      <td>-87.708538</td>\n",
       "      <td>{'latitude': '-87.70853756167853', 'longitude'...</td>\n",
       "    </tr>\n",
       "    <tr>\n",
       "      <td>1</td>\n",
       "      <td>2320509</td>\n",
       "      <td>TAQUERIA EL DORADO</td>\n",
       "      <td>TAQUERIA EL DORADO</td>\n",
       "      <td>2694960.0</td>\n",
       "      <td>Restaurant</td>\n",
       "      <td>Risk 1 (High)</td>\n",
       "      <td>CHICAGO</td>\n",
       "      <td>60625.0</td>\n",
       "      <td>2019-10-25T00:00:00.000</td>\n",
       "      <td>License Re-Inspection</td>\n",
       "      <td>Fail</td>\n",
       "      <td>3. MANAGEMENT, FOOD EMPLOYEE AND CONDITIONAL E...</td>\n",
       "      <td>41.968820</td>\n",
       "      <td>-87.682292</td>\n",
       "      <td>{'latitude': '-87.6822915036914', 'longitude':...</td>\n",
       "    </tr>\n",
       "    <tr>\n",
       "      <td>2</td>\n",
       "      <td>2320412</td>\n",
       "      <td>DANTE'S PIZZA,INC.</td>\n",
       "      <td>DANTE'S PIZZA</td>\n",
       "      <td>2092884.0</td>\n",
       "      <td>Restaurant</td>\n",
       "      <td>Risk 1 (High)</td>\n",
       "      <td>CHICAGO</td>\n",
       "      <td>60647.0</td>\n",
       "      <td>2019-10-24T00:00:00.000</td>\n",
       "      <td>Canvass</td>\n",
       "      <td>Fail</td>\n",
       "      <td>38. INSECTS, RODENTS, &amp; ANIMALS NOT PRESENT - ...</td>\n",
       "      <td>41.917539</td>\n",
       "      <td>-87.703728</td>\n",
       "      <td>{'latitude': '-87.70372788811352', 'longitude'...</td>\n",
       "    </tr>\n",
       "    <tr>\n",
       "      <td>3</td>\n",
       "      <td>2320430</td>\n",
       "      <td>LAO PENG YOU LLC</td>\n",
       "      <td>LAO PENG YOU</td>\n",
       "      <td>2694477.0</td>\n",
       "      <td>Restaurant</td>\n",
       "      <td>Risk 1 (High)</td>\n",
       "      <td>CHICAGO</td>\n",
       "      <td>60622.0</td>\n",
       "      <td>2019-10-24T00:00:00.000</td>\n",
       "      <td>License Re-Inspection</td>\n",
       "      <td>Pass w/ Conditions</td>\n",
       "      <td>3. MANAGEMENT, FOOD EMPLOYEE AND CONDITIONAL E...</td>\n",
       "      <td>41.896005</td>\n",
       "      <td>-87.677938</td>\n",
       "      <td>{'latitude': '-87.6779378973854', 'longitude':...</td>\n",
       "    </tr>\n",
       "    <tr>\n",
       "      <td>4</td>\n",
       "      <td>2320384</td>\n",
       "      <td>ARBOR</td>\n",
       "      <td>ARBOR</td>\n",
       "      <td>2363029.0</td>\n",
       "      <td>Restaurant</td>\n",
       "      <td>Risk 1 (High)</td>\n",
       "      <td>CHICAGO</td>\n",
       "      <td>60647.0</td>\n",
       "      <td>2019-10-24T00:00:00.000</td>\n",
       "      <td>Recent Inspection</td>\n",
       "      <td>Pass w/ Conditions</td>\n",
       "      <td>14. REQUIRED RECORDS AVAILABLE: SHELLSTOCK TAG...</td>\n",
       "      <td>41.932025</td>\n",
       "      <td>-87.692169</td>\n",
       "      <td>{'latitude': '-87.69216904438716', 'longitude'...</td>\n",
       "    </tr>\n",
       "  </tbody>\n",
       "</table>\n",
       "</div>"
      ],
      "text/plain": [
       "   Inspection ID            DBA Name            AKA Name  License #  \\\n",
       "0        2320519   SALAM  RESTAURANT    SALAM RESTAURANT  2002822.0   \n",
       "1        2320509  TAQUERIA EL DORADO  TAQUERIA EL DORADO  2694960.0   \n",
       "2        2320412  DANTE'S PIZZA,INC.       DANTE'S PIZZA  2092884.0   \n",
       "3        2320430    LAO PENG YOU LLC        LAO PENG YOU  2694477.0   \n",
       "4        2320384               ARBOR               ARBOR  2363029.0   \n",
       "\n",
       "  Facility Type           Risk     City      Zip          Inspection Date  \\\n",
       "0    Restaurant  Risk 1 (High)  CHICAGO  60625.0  2019-10-25T00:00:00.000   \n",
       "1    Restaurant  Risk 1 (High)  CHICAGO  60625.0  2019-10-25T00:00:00.000   \n",
       "2    Restaurant  Risk 1 (High)  CHICAGO  60647.0  2019-10-24T00:00:00.000   \n",
       "3    Restaurant  Risk 1 (High)  CHICAGO  60622.0  2019-10-24T00:00:00.000   \n",
       "4    Restaurant  Risk 1 (High)  CHICAGO  60647.0  2019-10-24T00:00:00.000   \n",
       "\n",
       "           Inspection Type             Results  \\\n",
       "0  Complaint Re-Inspection                Pass   \n",
       "1    License Re-Inspection                Fail   \n",
       "2                  Canvass                Fail   \n",
       "3    License Re-Inspection  Pass w/ Conditions   \n",
       "4        Recent Inspection  Pass w/ Conditions   \n",
       "\n",
       "                                          Violations   Latitude  Longitude  \\\n",
       "0                                                NaN  41.965719 -87.708538   \n",
       "1  3. MANAGEMENT, FOOD EMPLOYEE AND CONDITIONAL E...  41.968820 -87.682292   \n",
       "2  38. INSECTS, RODENTS, & ANIMALS NOT PRESENT - ...  41.917539 -87.703728   \n",
       "3  3. MANAGEMENT, FOOD EMPLOYEE AND CONDITIONAL E...  41.896005 -87.677938   \n",
       "4  14. REQUIRED RECORDS AVAILABLE: SHELLSTOCK TAG...  41.932025 -87.692169   \n",
       "\n",
       "                                            Location  \n",
       "0  {'latitude': '-87.70853756167853', 'longitude'...  \n",
       "1  {'latitude': '-87.6822915036914', 'longitude':...  \n",
       "2  {'latitude': '-87.70372788811352', 'longitude'...  \n",
       "3  {'latitude': '-87.6779378973854', 'longitude':...  \n",
       "4  {'latitude': '-87.69216904438716', 'longitude'...  "
      ]
     },
     "execution_count": 209,
     "metadata": {},
     "output_type": "execute_result"
    }
   ],
   "source": [
    "food.head()"
   ]
  },
  {
   "cell_type": "markdown",
   "metadata": {},
   "source": [
    "**Cleaning steps**\n",
    "\n",
    "1) Drop rows without location, check Zips and cities.\n",
    "\n",
    "2) Drop the facilities having a license # equal to 0 and filter only the 4 facility types we are going to analyse: restaurants, grocery stores, schools and hospitals.\n",
    "\n",
    "3) Convert the date format to an analysis friendly format\n",
    "\n",
    "4) There are 3 risk levels (low, medium and high), any other value will be removed\n",
    "\n",
    "5) For restaurants, we are going to focus only the 5 most inspected chains of different types: McDonald's, Subway, Taco Bell, Satrbucks and Dunkin Donuts."
   ]
  },
  {
   "cell_type": "markdown",
   "metadata": {},
   "source": [
    "**Step 1**"
   ]
  },
  {
   "cell_type": "markdown",
   "metadata": {},
   "source": [
    "We remove the rows without Longitudes/Latitudes because those are absolutely necessary for our work."
   ]
  },
  {
   "cell_type": "code",
   "execution_count": 210,
   "metadata": {},
   "outputs": [
    {
     "data": {
      "text/plain": [
       "True"
      ]
     },
     "execution_count": 210,
     "metadata": {},
     "output_type": "execute_result"
    }
   ],
   "source": [
    "food.Latitude.isna().any() or food.Longitude.isna().any()"
   ]
  },
  {
   "cell_type": "code",
   "execution_count": 211,
   "metadata": {},
   "outputs": [
    {
     "data": {
      "text/plain": [
       "False"
      ]
     },
     "execution_count": 211,
     "metadata": {},
     "output_type": "execute_result"
    }
   ],
   "source": [
    "food.dropna(subset = [\"Latitude\", \"Longitude\"], inplace=True)\n",
    "food.Latitude.isna().any() or food.Longitude.isna().any() or food.Location.isna().any()"
   ]
  },
  {
   "cell_type": "code",
   "execution_count": 212,
   "metadata": {},
   "outputs": [],
   "source": [
    "# Drop Location because it is no more necessary\n",
    "food.drop(['Location'], axis=1, inplace=True)"
   ]
  },
  {
   "cell_type": "markdown",
   "metadata": {},
   "source": [
    "Zip will be useful to look at the district location in Chicago"
   ]
  },
  {
   "cell_type": "code",
   "execution_count": 213,
   "metadata": {},
   "outputs": [],
   "source": [
    "def zip_cleaner(npa):\n",
    "    npa = str(npa)\n",
    "    if npa.startswith('606'):\n",
    "        npa = npa.split('606')[1]\n",
    "        npa = npa.split('.')[0]\n",
    "    else:\n",
    "        npa = 'check'\n",
    "    return npa"
   ]
  },
  {
   "cell_type": "code",
   "execution_count": 214,
   "metadata": {},
   "outputs": [],
   "source": [
    "food['Zip'] = food['Zip'].apply(zip_cleaner)"
   ]
  },
  {
   "cell_type": "code",
   "execution_count": 215,
   "metadata": {},
   "outputs": [
    {
     "data": {
      "text/plain": [
       "array(['25', '47', '22', '38', '55', '28', '51', '03', '13', '40', '29',\n",
       "       '39', '44', '08', '66', '11', '32', '45', '54', '23', '30', '43',\n",
       "       '20', '49', 'check', '06', '19', '42', '60', '07', '59', '34',\n",
       "       '52', '09', '41', '26', '57', '46', '21', '02', '05', '61', '14',\n",
       "       '16', '12', '31', '36', '18', '04', '56', '24', '15', '37', '01',\n",
       "       '10', '17', '33', '53', '27'], dtype=object)"
      ]
     },
     "execution_count": 215,
     "metadata": {},
     "output_type": "execute_result"
    }
   ],
   "source": [
    "food.Zip.unique()"
   ]
  },
  {
   "cell_type": "code",
   "execution_count": 216,
   "metadata": {},
   "outputs": [
    {
     "data": {
      "text/plain": [
       "(1300, 14)"
      ]
     },
     "execution_count": 216,
     "metadata": {},
     "output_type": "execute_result"
    }
   ],
   "source": [
    "food[food['Zip'] == 'check'].shape"
   ]
  },
  {
   "cell_type": "markdown",
   "metadata": {},
   "source": [
    "We delete the rows with unknown Zip (not a lot) and drop as well the column 'City' because we know now that all facilities remaining in the dataframe are located in Chicago."
   ]
  },
  {
   "cell_type": "code",
   "execution_count": 217,
   "metadata": {},
   "outputs": [],
   "source": [
    "food.drop(food[food['Zip'] == 'check'].index, inplace=True)\n",
    "food.drop(['City'], axis=1, inplace=True)"
   ]
  },
  {
   "cell_type": "markdown",
   "metadata": {},
   "source": [
    "**Step 2**"
   ]
  },
  {
   "cell_type": "code",
   "execution_count": 218,
   "metadata": {},
   "outputs": [],
   "source": [
    "food.drop(food[food['License #'] == 0].index, inplace=True)"
   ]
  },
  {
   "cell_type": "code",
   "execution_count": 219,
   "metadata": {},
   "outputs": [
    {
     "data": {
      "text/plain": [
       "Restaurant       128862\n",
       "Grocery Store     24678\n",
       "School            11688\n",
       "Hospital            517\n",
       "Name: Facility Type, dtype: int64"
      ]
     },
     "execution_count": 219,
     "metadata": {},
     "output_type": "execute_result"
    }
   ],
   "source": [
    "food = food[food[\"Facility Type\"].isin([\"Restaurant\",\"Grocery Store\", \"School\", \"Hospital\"])]\n",
    "food[\"Facility Type\"].value_counts()"
   ]
  },
  {
   "cell_type": "markdown",
   "metadata": {},
   "source": [
    "**Step 3**"
   ]
  },
  {
   "cell_type": "code",
   "execution_count": 220,
   "metadata": {},
   "outputs": [
    {
     "data": {
      "text/html": [
       "<div>\n",
       "<style scoped>\n",
       "    .dataframe tbody tr th:only-of-type {\n",
       "        vertical-align: middle;\n",
       "    }\n",
       "\n",
       "    .dataframe tbody tr th {\n",
       "        vertical-align: top;\n",
       "    }\n",
       "\n",
       "    .dataframe thead th {\n",
       "        text-align: right;\n",
       "    }\n",
       "</style>\n",
       "<table border=\"1\" class=\"dataframe\">\n",
       "  <thead>\n",
       "    <tr style=\"text-align: right;\">\n",
       "      <th></th>\n",
       "      <th>Inspection ID</th>\n",
       "      <th>DBA Name</th>\n",
       "      <th>AKA Name</th>\n",
       "      <th>License #</th>\n",
       "      <th>Facility Type</th>\n",
       "      <th>Risk</th>\n",
       "      <th>Zip</th>\n",
       "      <th>Inspection Date</th>\n",
       "      <th>Inspection Type</th>\n",
       "      <th>Results</th>\n",
       "      <th>Violations</th>\n",
       "      <th>Latitude</th>\n",
       "      <th>Longitude</th>\n",
       "    </tr>\n",
       "  </thead>\n",
       "  <tbody>\n",
       "    <tr>\n",
       "      <td>0</td>\n",
       "      <td>2320519</td>\n",
       "      <td>SALAM  RESTAURANT</td>\n",
       "      <td>SALAM RESTAURANT</td>\n",
       "      <td>2002822.0</td>\n",
       "      <td>Restaurant</td>\n",
       "      <td>Risk 1 (High)</td>\n",
       "      <td>25</td>\n",
       "      <td>2019</td>\n",
       "      <td>Complaint Re-Inspection</td>\n",
       "      <td>Pass</td>\n",
       "      <td>NaN</td>\n",
       "      <td>41.965719</td>\n",
       "      <td>-87.708538</td>\n",
       "    </tr>\n",
       "    <tr>\n",
       "      <td>1</td>\n",
       "      <td>2320509</td>\n",
       "      <td>TAQUERIA EL DORADO</td>\n",
       "      <td>TAQUERIA EL DORADO</td>\n",
       "      <td>2694960.0</td>\n",
       "      <td>Restaurant</td>\n",
       "      <td>Risk 1 (High)</td>\n",
       "      <td>25</td>\n",
       "      <td>2019</td>\n",
       "      <td>License Re-Inspection</td>\n",
       "      <td>Fail</td>\n",
       "      <td>3. MANAGEMENT, FOOD EMPLOYEE AND CONDITIONAL E...</td>\n",
       "      <td>41.968820</td>\n",
       "      <td>-87.682292</td>\n",
       "    </tr>\n",
       "    <tr>\n",
       "      <td>2</td>\n",
       "      <td>2320412</td>\n",
       "      <td>DANTE'S PIZZA,INC.</td>\n",
       "      <td>DANTE'S PIZZA</td>\n",
       "      <td>2092884.0</td>\n",
       "      <td>Restaurant</td>\n",
       "      <td>Risk 1 (High)</td>\n",
       "      <td>47</td>\n",
       "      <td>2019</td>\n",
       "      <td>Canvass</td>\n",
       "      <td>Fail</td>\n",
       "      <td>38. INSECTS, RODENTS, &amp; ANIMALS NOT PRESENT - ...</td>\n",
       "      <td>41.917539</td>\n",
       "      <td>-87.703728</td>\n",
       "    </tr>\n",
       "    <tr>\n",
       "      <td>3</td>\n",
       "      <td>2320430</td>\n",
       "      <td>LAO PENG YOU LLC</td>\n",
       "      <td>LAO PENG YOU</td>\n",
       "      <td>2694477.0</td>\n",
       "      <td>Restaurant</td>\n",
       "      <td>Risk 1 (High)</td>\n",
       "      <td>22</td>\n",
       "      <td>2019</td>\n",
       "      <td>License Re-Inspection</td>\n",
       "      <td>Pass w/ Conditions</td>\n",
       "      <td>3. MANAGEMENT, FOOD EMPLOYEE AND CONDITIONAL E...</td>\n",
       "      <td>41.896005</td>\n",
       "      <td>-87.677938</td>\n",
       "    </tr>\n",
       "    <tr>\n",
       "      <td>4</td>\n",
       "      <td>2320384</td>\n",
       "      <td>ARBOR</td>\n",
       "      <td>ARBOR</td>\n",
       "      <td>2363029.0</td>\n",
       "      <td>Restaurant</td>\n",
       "      <td>Risk 1 (High)</td>\n",
       "      <td>47</td>\n",
       "      <td>2019</td>\n",
       "      <td>Recent Inspection</td>\n",
       "      <td>Pass w/ Conditions</td>\n",
       "      <td>14. REQUIRED RECORDS AVAILABLE: SHELLSTOCK TAG...</td>\n",
       "      <td>41.932025</td>\n",
       "      <td>-87.692169</td>\n",
       "    </tr>\n",
       "  </tbody>\n",
       "</table>\n",
       "</div>"
      ],
      "text/plain": [
       "   Inspection ID            DBA Name            AKA Name  License #  \\\n",
       "0        2320519   SALAM  RESTAURANT    SALAM RESTAURANT  2002822.0   \n",
       "1        2320509  TAQUERIA EL DORADO  TAQUERIA EL DORADO  2694960.0   \n",
       "2        2320412  DANTE'S PIZZA,INC.       DANTE'S PIZZA  2092884.0   \n",
       "3        2320430    LAO PENG YOU LLC        LAO PENG YOU  2694477.0   \n",
       "4        2320384               ARBOR               ARBOR  2363029.0   \n",
       "\n",
       "  Facility Type           Risk Zip Inspection Date          Inspection Type  \\\n",
       "0    Restaurant  Risk 1 (High)  25            2019  Complaint Re-Inspection   \n",
       "1    Restaurant  Risk 1 (High)  25            2019    License Re-Inspection   \n",
       "2    Restaurant  Risk 1 (High)  47            2019                  Canvass   \n",
       "3    Restaurant  Risk 1 (High)  22            2019    License Re-Inspection   \n",
       "4    Restaurant  Risk 1 (High)  47            2019        Recent Inspection   \n",
       "\n",
       "              Results                                         Violations  \\\n",
       "0                Pass                                                NaN   \n",
       "1                Fail  3. MANAGEMENT, FOOD EMPLOYEE AND CONDITIONAL E...   \n",
       "2                Fail  38. INSECTS, RODENTS, & ANIMALS NOT PRESENT - ...   \n",
       "3  Pass w/ Conditions  3. MANAGEMENT, FOOD EMPLOYEE AND CONDITIONAL E...   \n",
       "4  Pass w/ Conditions  14. REQUIRED RECORDS AVAILABLE: SHELLSTOCK TAG...   \n",
       "\n",
       "    Latitude  Longitude  \n",
       "0  41.965719 -87.708538  \n",
       "1  41.968820 -87.682292  \n",
       "2  41.917539 -87.703728  \n",
       "3  41.896005 -87.677938  \n",
       "4  41.932025 -87.692169  "
      ]
     },
     "execution_count": 220,
     "metadata": {},
     "output_type": "execute_result"
    }
   ],
   "source": [
    "food[\"Inspection Date\"] = food[\"Inspection Date\"].str.split(\"-\").str[0]\n",
    "food.head()"
   ]
  },
  {
   "cell_type": "code",
   "execution_count": 221,
   "metadata": {},
   "outputs": [
    {
     "data": {
      "text/plain": [
       "False"
      ]
     },
     "execution_count": 221,
     "metadata": {},
     "output_type": "execute_result"
    }
   ],
   "source": [
    "#Check for missing years\n",
    "food[\"Inspection Date\"].isna().any()"
   ]
  },
  {
   "cell_type": "markdown",
   "metadata": {},
   "source": [
    "**Step 4**"
   ]
  },
  {
   "cell_type": "code",
   "execution_count": 222,
   "metadata": {},
   "outputs": [
    {
     "data": {
      "text/plain": [
       "False"
      ]
     },
     "execution_count": 222,
     "metadata": {},
     "output_type": "execute_result"
    }
   ],
   "source": [
    "#checking for NaN's\n",
    "food.dropna(subset = [\"Risk\"], inplace = True)\n",
    "food.Risk.isna().any()"
   ]
  },
  {
   "cell_type": "code",
   "execution_count": 223,
   "metadata": {},
   "outputs": [
    {
     "data": {
      "text/plain": [
       "Risk 1 (High)      122183\n",
       "Risk 2 (Medium)     33251\n",
       "Risk 3 (Low)        10297\n",
       "All                    11\n",
       "Name: Risk, dtype: int64"
      ]
     },
     "execution_count": 223,
     "metadata": {},
     "output_type": "execute_result"
    }
   ],
   "source": [
    "#Checking for any other value than the 3 levels of risk\n",
    "food.Risk.value_counts()"
   ]
  },
  {
   "cell_type": "code",
   "execution_count": 224,
   "metadata": {},
   "outputs": [
    {
     "data": {
      "text/plain": [
       "Risk 1 (High)      122183\n",
       "Risk 2 (Medium)     33251\n",
       "Risk 3 (Low)        10297\n",
       "Name: Risk, dtype: int64"
      ]
     },
     "execution_count": 224,
     "metadata": {},
     "output_type": "execute_result"
    }
   ],
   "source": [
    "#cleaning\n",
    "food = food[~food[\"Risk\"].str.contains('|'.join([\"All\"]))]\n",
    "food.Risk.value_counts()"
   ]
  },
  {
   "cell_type": "markdown",
   "metadata": {},
   "source": [
    "**Step 5**"
   ]
  },
  {
   "cell_type": "code",
   "execution_count": 225,
   "metadata": {},
   "outputs": [
    {
     "data": {
      "text/plain": [
       "SUBWAY                          3198\n",
       "DUNKIN DONUTS                   1322\n",
       "MCDONALD'S                       758\n",
       "BURGER KING                      365\n",
       "MCDONALDS                        336\n",
       "DUNKIN DONUTS/BASKIN ROBBINS     320\n",
       "CHIPOTLE MEXICAN GRILL           318\n",
       "WENDY'S                          293\n",
       "STARBUCKS COFFEE                 279\n",
       "POTBELLY SANDWICH WORKS          271\n",
       "CORNER BAKERY CAFE               240\n",
       "FRESHII                          236\n",
       "STARBUCKS                        233\n",
       "JIMMY JOHN'S                     222\n",
       "PIZZA HUT                        212\n",
       "Subway                           209\n",
       "SUBWAY SANDWICHES                204\n",
       "DOMINO'S PIZZA                   201\n",
       "TACO BELL                        199\n",
       "KFC                              198\n",
       "AU BON PAIN                      187\n",
       "POTBELLY SANDWICH WORKS LLC      177\n",
       "HAROLD'S CHICKEN SHACK           170\n",
       "SEE THRU CHINESE KITCHEN         169\n",
       "MC DONALD'S                      169\n",
       "Name: AKA Name, dtype: int64"
      ]
     },
     "execution_count": 225,
     "metadata": {},
     "output_type": "execute_result"
    }
   ],
   "source": [
    "#Preview of restaurants\n",
    "restaurants = food[food[\"Facility Type\"]==\"Restaurant\"].copy()\n",
    "restaurants[\"AKA Name\"].value_counts().head(25)"
   ]
  },
  {
   "cell_type": "code",
   "execution_count": 226,
   "metadata": {},
   "outputs": [
    {
     "data": {
      "text/plain": [
       "False"
      ]
     },
     "execution_count": 226,
     "metadata": {},
     "output_type": "execute_result"
    }
   ],
   "source": [
    "#Drop NaN's\n",
    "restaurants.dropna(subset=[\"AKA Name\"], inplace=True)\n",
    "restaurants[\"AKA Name\"].isna().any()"
   ]
  },
  {
   "cell_type": "code",
   "execution_count": 227,
   "metadata": {},
   "outputs": [],
   "source": [
    "#Only uppercase\n",
    "restaurants[\"AKA Name\"] = restaurants[\"AKA Name\"].str.upper()"
   ]
  },
  {
   "cell_type": "markdown",
   "metadata": {},
   "source": [
    "Now that a first cleaning was done, we will concentrate on the 5 restaurants chosen and mentioned before"
   ]
  },
  {
   "cell_type": "markdown",
   "metadata": {},
   "source": [
    "**McDonald's**"
   ]
  },
  {
   "cell_type": "code",
   "execution_count": 228,
   "metadata": {},
   "outputs": [
    {
     "data": {
      "text/plain": [
       "MCDONALD'S                           906\n",
       "MCDONALDS                            405\n",
       "MC DONALD'S                          169\n",
       "MC DONALDS                           168\n",
       "MCDONALD'S RESTAURANT                 87\n",
       "MCDONALDS RESTAURANT                  42\n",
       "MCDONALD'S RESTAURANTS                24\n",
       "MCDONALD'S #490                       20\n",
       "DONALDS FAMOUS HOT DOGS               19\n",
       "MCDONALD'S RESTAURANT  (T3 H9)        18\n",
       "MCDONALD'S CORPORATION                17\n",
       "MCDONALD'S  (T3 HK FOOD COURT)        17\n",
       "MC DONALDS # 6771                     16\n",
       "MCDONALDS #27672                      15\n",
       "MCDONALDS  (T3  K9)                   15\n",
       "MCDONALD' S # 5618                    15\n",
       "MCDONALDS #4655                       14\n",
       "MCDONALDS #7069                       13\n",
       "MCDONALD'S   (T3- L4)                 13\n",
       "MCDONALDS#6337                        12\n",
       "MC DONALDS-MCCORMICK PLACE NORTH      11\n",
       "MCDONALD'S  (T1-B11)                  11\n",
       "MCDONALD'S #5813                      11\n",
       "MCDONALD'S  (T1-C10)                  11\n",
       "MCDONALD'S  (T2   E/F)                11\n",
       "MCDONALD'S STORE #4061                11\n",
       "MCDONALD'S REST. OF ILLINOIS, INC     10\n",
       "MCDONALD'S (T5/ARRIVAL)               10\n",
       "MCDONALD'S #20104                     10\n",
       "ROCK & ROLL MCDONALDS                 10\n",
       "MCDONALD'S #26364                     10\n",
       "MCDONALD'S #11290                      9\n",
       "MCDONALD'S  (T2  E/F)                  9\n",
       "MC DONALD' S  # 6888                   8\n",
       "MCDONALD'S  (T5 ARRIVAL)               8\n",
       "MC DONALDS # 25509                     8\n",
       "MCDONALDS #12003                       8\n",
       "MC DONALD' S # 22100                   8\n",
       "MC DONALDS RESTAURANT                  7\n",
       "MCDONALD'S #6310                       6\n",
       "MC DONALD'S  (T3  L4)                  6\n",
       "MCDONALD'S  (T1  B11)                  6\n",
       "MCDONALD?S 28128                       5\n",
       "MCDONALD'S EXPRESS                     5\n",
       "MCDONALDS (T1 C10)                     5\n",
       "MCDONALDS #7463                        4\n",
       "MC DONALD'S RESTAURANT                 3\n",
       "MCDONALD?S                             3\n",
       "MCDONALD'S - MCCAFE'                   2\n",
       "MCDONALD' S RESTAURANT                 2\n",
       "MCDONALD'S #6337                       1\n",
       "MCDONALDÏ¿½S 28128                     1\n",
       "Name: AKA Name, dtype: int64"
      ]
     },
     "execution_count": 228,
     "metadata": {},
     "output_type": "execute_result"
    }
   ],
   "source": [
    "#Let's see if there is other restaurants with \"donald\" to avoid adding wrong data to McDonald's\n",
    "restaurants[restaurants[\"AKA Name\"].str.contains(\"DONALD\")][\"AKA Name\"].value_counts()"
   ]
  },
  {
   "cell_type": "code",
   "execution_count": 229,
   "metadata": {},
   "outputs": [
    {
     "data": {
      "text/plain": [
       "MCDONALDS    2216\n",
       "Name: AKA Name, dtype: int64"
      ]
     },
     "execution_count": 229,
     "metadata": {},
     "output_type": "execute_result"
    }
   ],
   "source": [
    "#removing \"Donald's famous hot dogs\" than unifying all McDonald's\n",
    "restaurants = restaurants[~restaurants[\"AKA Name\"].str.contains('|'.join([\"DOGS\"]))]\n",
    "restaurants.loc[restaurants[\"AKA Name\"].str.contains(\"DONALD\"), \"AKA Name\"] = \"MCDONALDS\"\n",
    "restaurants[restaurants[\"AKA Name\"].str.contains(\"DONALD\")][\"AKA Name\"].value_counts()"
   ]
  },
  {
   "cell_type": "markdown",
   "metadata": {},
   "source": [
    "**Subway**"
   ]
  },
  {
   "cell_type": "code",
   "execution_count": 230,
   "metadata": {},
   "outputs": [
    {
     "data": {
      "text/plain": [
       "SUBWAY                                           3407\n",
       "SUBWAY SANDWICHES                                 231\n",
       "SUBWAY SANDWICH                                    61\n",
       "SUBWAY SANDWICH & SALAD                            29\n",
       "SUBWAY RESTAURANT                                  25\n",
       "SUBWAY (T3 ROTUNDA)                                25\n",
       "SUBWAY #3333                                       21\n",
       "SUBWAY SANDWICHES & SALADS                         21\n",
       "SUBWAY 28330                                       19\n",
       "SNAPPY CONVENIENCE CENTER/SUBWAY/DUNKIN DONUT      18\n",
       "BP/SUBWAY                                          17\n",
       "SUBWAY SANDWICH STORE                              16\n",
       "SUBWAY #45927                                      16\n",
       "SUBWAY 48735                                       14\n",
       "SHELL SUBWAY                                       13\n",
       "ROAD RANGER/SUBWAY                                 11\n",
       "LALO SUBWAY INC                                    10\n",
       "LAKEVIEW SUBWAY                                     9\n",
       "MADISON SUBWAY LLC                                  8\n",
       "SUBWAY 24028                                        8\n",
       "SUBWAY #267771                                      6\n",
       "BP GAS & SUBWAY                                     6\n",
       "SUBWAY #25917                                       5\n",
       "SUBWAY SANDWICH & SALADS                            4\n",
       "SUBWAY # 23333                                      3\n",
       "SUBWAY #23983                                       3\n",
       "SUBWAY SANDWICHES & SALAD                           3\n",
       "SUBWAY 47512                                        2\n",
       "SUBWAY #23340                                       2\n",
       "SUBWAY #42676                                       1\n",
       "SUBWAY FULLERTON & ASHLAND                          1\n",
       "SUBWAY 24454                                        1\n",
       "Name: AKA Name, dtype: int64"
      ]
     },
     "execution_count": 230,
     "metadata": {},
     "output_type": "execute_result"
    }
   ],
   "source": [
    "#Let's see if there is other restaurants with \"subway\" to avoid adding wrong data to Subway\n",
    "restaurants[restaurants[\"AKA Name\"].str.contains(\"SUBWAY\")][\"AKA Name\"].value_counts()"
   ]
  },
  {
   "cell_type": "code",
   "execution_count": 231,
   "metadata": {},
   "outputs": [
    {
     "data": {
      "text/plain": [
       "SUBWAY    3970\n",
       "Name: AKA Name, dtype: int64"
      ]
     },
     "execution_count": 231,
     "metadata": {},
     "output_type": "execute_result"
    }
   ],
   "source": [
    "#removing restaurants with \"subway\" undesired than unifying all Subway's\n",
    "removable = [\"FULLERTON\",\"MADISON\", \"LALO\",\"LAKEVIEW\",\"SNAPPY\"]\n",
    "restaurants = restaurants[~restaurants[\"AKA Name\"].str.contains('|'.join(removable))]\n",
    "restaurants.loc[restaurants[\"AKA Name\"].str.contains(\"SUBWAY\"), \"AKA Name\"] = \"SUBWAY\"\n",
    "restaurants[restaurants[\"AKA Name\"].str.contains(\"SUBWAY\")][\"AKA Name\"].value_counts()"
   ]
  },
  {
   "cell_type": "markdown",
   "metadata": {},
   "source": [
    "**Starbucks**"
   ]
  },
  {
   "cell_type": "code",
   "execution_count": 232,
   "metadata": {},
   "outputs": [
    {
     "data": {
      "text/plain": [
       "STARBUCKS COFFEE                                   292\n",
       "STARBUCKS                                          233\n",
       "MARKET PLACE/STARBUCKS COFFE/FRANGO/GODIVA          22\n",
       "STARBUCKS COFFEE #2370                              14\n",
       "STARBUCKS HK APEX (T3 HK FOODCOURT)                 13\n",
       "STARBUCKS COFFEE (T1-B5)                            13\n",
       "STARBUCKS COFFEE #2334                              13\n",
       "STARBUCKS COFFEE #2410                              12\n",
       "STARBUCKS (T2 LL ARRIVAL)                           12\n",
       "STARBUCKS (T1/B CONCOURSE-BAGGAGE CLAIM)            12\n",
       "STARBUCKS (T3  G14 LL)                              12\n",
       "STARBUCKS/ W KITCHEN/ F1,F2 POD/WAREHSE/LA BREA     12\n",
       "STARBUCKS COFFEE #233                               11\n",
       "STARBUCKS COFFEE #13439                             11\n",
       "MAIN KITCHEN/STARBUCKS /ETA/ EMPL CAFE              11\n",
       "STARBUCKS COFFEE (T1-B14)                           11\n",
       "STARBUCKS (T3 K15 FOOD COURT)                       11\n",
       "STARBUCKS COFFEE #2527                              11\n",
       "STARBUCKS COFFEE #8954                              11\n",
       "STARBUCKS  (T3 H6)                                  11\n",
       "STARBUCKS COFFEE  #2635                             11\n",
       "STARBUCKS COFFEE #228                               11\n",
       "STARBUCKS  (T1-C27)                                 11\n",
       "STARBUCKS COFFEE # 2624                             10\n",
       "STARBUCKS COFFEE #2224                              10\n",
       "STARBUCKS COFFEE #2689                              10\n",
       "STARBUCKS COFFEE #212                               10\n",
       "STARBUCKS COFFEE #2252                              10\n",
       "STARBUCKS COFFEE #9942                              10\n",
       "STARBUCKS   T3 H-13                                 10\n",
       "STARBUCKS COFFEE #2428                              10\n",
       "STARBUCKS # 2483                                    10\n",
       "STARBUCKS COFFEE #2827                              10\n",
       "STARBUCKS COFFEE #2565                              10\n",
       "STARBUCKS COFFEE #2479                              10\n",
       "STARBUCKS  (T3 H2)                                  10\n",
       "STARBUCKS COFFEE #2412                              10\n",
       "STARBUCKS & 23RD STREET CAFE MARKET                 10\n",
       "STARBUCKS (T3/BAGGAGE CLAIM)                        10\n",
       "STARBUCKS COFFEE #2639                              10\n",
       "Name: AKA Name, dtype: int64"
      ]
     },
     "execution_count": 232,
     "metadata": {},
     "output_type": "execute_result"
    }
   ],
   "source": [
    "restaurants[restaurants[\"AKA Name\"].str.contains(\"STARBUCKS\")][\"AKA Name\"].value_counts().head(40)"
   ]
  },
  {
   "cell_type": "code",
   "execution_count": 233,
   "metadata": {},
   "outputs": [
    {
     "data": {
      "text/plain": [
       "STARBUCKS    1426\n",
       "Name: AKA Name, dtype: int64"
      ]
     },
     "execution_count": 233,
     "metadata": {},
     "output_type": "execute_result"
    }
   ],
   "source": [
    "#we are going to assume \"starbucks\" is a very distinctive name and have negligible chance of being used in another restaurant\n",
    "restaurants.loc[restaurants[\"AKA Name\"].str.contains(\"STARBUCKS\"), \"AKA Name\"] = \"STARBUCKS\"\n",
    "restaurants[restaurants[\"AKA Name\"].str.contains(\"STARBUCKS\")][\"AKA Name\"].value_counts()"
   ]
  },
  {
   "cell_type": "markdown",
   "metadata": {},
   "source": [
    "**Taco Bell**"
   ]
  },
  {
   "cell_type": "code",
   "execution_count": 234,
   "metadata": {},
   "outputs": [
    {
     "data": {
      "text/plain": [
       "Series([], Name: AKA Name, dtype: int64)"
      ]
     },
     "execution_count": 234,
     "metadata": {},
     "output_type": "execute_result"
    }
   ],
   "source": [
    "#Checking a misspelled case\n",
    "restaurants[restaurants[\"AKA Name\"].str.contains(\"TACOBELL\")][\"AKA Name\"].value_counts()"
   ]
  },
  {
   "cell_type": "code",
   "execution_count": 235,
   "metadata": {},
   "outputs": [
    {
     "data": {
      "text/plain": [
       "TACO BELL            205\n",
       "KFC/TACO BELL         25\n",
       "TACO BELL #15855      15\n",
       "TACO BELL CANTINA     11\n",
       "TACO BELL #30407      11\n",
       "TACO BELL #15875       9\n",
       "TACO BELL_#4171        9\n",
       "TACO BELL #2513        9\n",
       "TACO BELL #5751        8\n",
       "TACO BELL 32575        3\n",
       "TACO BELL 34921        2\n",
       "Name: AKA Name, dtype: int64"
      ]
     },
     "execution_count": 235,
     "metadata": {},
     "output_type": "execute_result"
    }
   ],
   "source": [
    "#Looks like Taco Bell is always written in separated words\n",
    "restaurants[restaurants[\"AKA Name\"].str.contains(\"TACO BELL\")][\"AKA Name\"].value_counts()"
   ]
  },
  {
   "cell_type": "code",
   "execution_count": 236,
   "metadata": {},
   "outputs": [
    {
     "data": {
      "text/plain": [
       "TACO BELL    307\n",
       "Name: AKA Name, dtype: int64"
      ]
     },
     "execution_count": 236,
     "metadata": {},
     "output_type": "execute_result"
    }
   ],
   "source": [
    "#And the name is luckly very unique\n",
    "restaurants.loc[restaurants[\"AKA Name\"].str.contains(\"TACO BELL\"), \"AKA Name\"] = \"TACO BELL\"\n",
    "restaurants[restaurants[\"AKA Name\"].str.contains(\"TACO BELL\")][\"AKA Name\"].value_counts()"
   ]
  },
  {
   "cell_type": "markdown",
   "metadata": {},
   "source": [
    "**Dunkin Donuts**"
   ]
  },
  {
   "cell_type": "code",
   "execution_count": 237,
   "metadata": {},
   "outputs": [
    {
     "data": {
      "text/plain": [
       "DUNKINDONUTS    7\n",
       "Name: AKA Name, dtype: int64"
      ]
     },
     "execution_count": 237,
     "metadata": {},
     "output_type": "execute_result"
    }
   ],
   "source": [
    "#Checking a misspelled case\n",
    "restaurants[restaurants[\"AKA Name\"].str.contains(\"DUNKINDONUTS\")][\"AKA Name\"].value_counts()"
   ]
  },
  {
   "cell_type": "markdown",
   "metadata": {},
   "source": [
    "When unifying all Dunkin Donuts we will also need to add the 7 \"DUNKINDONUTS\" from above"
   ]
  },
  {
   "cell_type": "code",
   "execution_count": 238,
   "metadata": {},
   "outputs": [
    {
     "data": {
      "text/plain": [
       "DUNKIN DONUTS                           1375\n",
       "DUNKIN DONUTS/BASKIN ROBBINS             320\n",
       "DUNKIN DONUTS BASKIN ROBBINS             121\n",
       "DUNKIN DONUTS / BASKIN ROBBINS           116\n",
       "DUNKIN DONUTS/ BASKIN ROBBINS             60\n",
       "DUNKIN DONUTS / BASKIN ROBINS             47\n",
       "DUNKIN DONUTS & BASKIN ROBBINS            28\n",
       "DUNKIN DONUTS / BASKIN & ROBBINS          25\n",
       "DUNKIN DONUTS & BASKIN ROBINS             15\n",
       "DUNKIN DONUTS-BASKIN ROBBINS              14\n",
       "HALSTED SHELL, DUNKIN DONUTS, MR SUB      14\n",
       "BASKIN ROBBINS/ DUNKIN DONUTS             13\n",
       "DUNKIN DONUTS BASKIN ROBBINS TOGO'S       12\n",
       "DUNKIN DONUTS (T3 HK FOODCOURT)           11\n",
       "DUNKIN DONUTS /  BASKIN ROBBINS           10\n",
       "BASKIN ROBBINS/DUNKIN DONUTS              10\n",
       "DUNKIN DONUTS/BASKIN ROBINS               10\n",
       "GRAND CITGO/ MR. SUB / DUNKIN DONUTS      10\n",
       "DUNKIN DONUTS INC                          9\n",
       "DUNKIN DONUTS/BASKIN  ROBBINS              8\n",
       "DUNKIN DONUTS AND BASKIN ROBBINS           4\n",
       "DUNKIN DONUTS /  BASKIN ROBINS             4\n",
       "JETBOX WITH DUNKIN DONUTS                  3\n",
       "DUNKIN DONUTS/BASKIN-ROBBINS               3\n",
       "CITGO/DUNKIN DONUTS                        1\n",
       "DUNKIN DONUTS/BR/TOGO'S                    1\n",
       "Name: AKA Name, dtype: int64"
      ]
     },
     "execution_count": 238,
     "metadata": {},
     "output_type": "execute_result"
    }
   ],
   "source": [
    "restaurants[restaurants[\"AKA Name\"].str.contains(\"DUNKIN DONUTS\")][\"AKA Name\"].value_counts()"
   ]
  },
  {
   "cell_type": "code",
   "execution_count": 239,
   "metadata": {},
   "outputs": [
    {
     "data": {
      "text/plain": [
       "DUNKIN DONUTS    2251\n",
       "Name: AKA Name, dtype: int64"
      ]
     },
     "execution_count": 239,
     "metadata": {},
     "output_type": "execute_result"
    }
   ],
   "source": [
    "#Dunkin Donuts is very unique too which helps us when unifying\n",
    "restaurants.loc[restaurants[\"AKA Name\"].str.contains(\"DUNKIN DONUTS\"), \"AKA Name\"] = \"DUNKIN DONUTS\"\n",
    "restaurants.loc[restaurants[\"AKA Name\"].str.contains(\"DUNKINDONUTS\"), \"AKA Name\"] = \"DUNKIN DONUTS\"\n",
    "restaurants[restaurants[\"AKA Name\"].str.contains(\"DUNKIN DONUTS\")][\"AKA Name\"].value_counts()"
   ]
  },
  {
   "cell_type": "markdown",
   "metadata": {},
   "source": [
    "**Removing any other restaurants**"
   ]
  },
  {
   "cell_type": "code",
   "execution_count": 240,
   "metadata": {},
   "outputs": [
    {
     "data": {
      "text/plain": [
       "SUBWAY           3970\n",
       "DUNKIN DONUTS    2251\n",
       "MCDONALDS        2216\n",
       "STARBUCKS        1426\n",
       "TACO BELL         307\n",
       "Name: AKA Name, dtype: int64"
      ]
     },
     "execution_count": 240,
     "metadata": {},
     "output_type": "execute_result"
    }
   ],
   "source": [
    "restaurant_list = [\"MCDONALDS\",\"SUBWAY\",\"STARBUCKS\",\"TACO BELL\",\"DUNKIN DONUTS\"]\n",
    "restaurants = restaurants[restaurants[\"AKA Name\"].isin(restaurant_list)]\n",
    "restaurants[\"AKA Name\"].value_counts()"
   ]
  },
  {
   "cell_type": "markdown",
   "metadata": {},
   "source": [
    "**Final Step**"
   ]
  },
  {
   "cell_type": "code",
   "execution_count": 241,
   "metadata": {},
   "outputs": [],
   "source": [
    "#Reset Indexes after cleaning\n",
    "food.reset_index(drop=True, inplace=True)\n",
    "restaurants.reset_index(drop=True, inplace=True)"
   ]
  },
  {
   "cell_type": "code",
   "execution_count": 242,
   "metadata": {},
   "outputs": [],
   "source": [
    "#save pickles for use in analysis\n",
    "food.to_pickle(\"food.pkl\")\n",
    "restaurants.to_pickle(\"restaurants.pkl\")"
   ]
  },
  {
   "cell_type": "code",
   "execution_count": null,
   "metadata": {},
   "outputs": [],
   "source": []
  }
 ],
 "metadata": {
  "kernelspec": {
   "display_name": "Python 3",
   "language": "python",
   "name": "python3"
  },
  "language_info": {
   "codemirror_mode": {
    "name": "ipython",
    "version": 3
   },
   "file_extension": ".py",
   "mimetype": "text/x-python",
   "name": "python",
   "nbconvert_exporter": "python",
   "pygments_lexer": "ipython3",
   "version": "3.7.4"
  }
 },
 "nbformat": 4,
 "nbformat_minor": 4
}
