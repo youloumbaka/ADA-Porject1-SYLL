{
 "cells": [
  {
   "cell_type": "markdown",
   "metadata": {},
   "source": [
    "# Project "
   ]
  },
  {
   "cell_type": "code",
   "execution_count": 451,
   "metadata": {},
   "outputs": [],
   "source": [
    "%matplotlib inline\n",
    "import pandas as pd\n",
    "import numpy as np\n",
    "import re\n",
    "from matplotlib.ticker import MaxNLocator\n",
    "import matplotlib.pyplot as plt\n",
    "from requests import get\n",
    "from bs4 import BeautifulSoup\n",
    "from scipy import stats\n",
    "import warnings\n",
    "warnings.filterwarnings('ignore')"
   ]
  },
  {
   "cell_type": "markdown",
   "metadata": {},
   "source": [
    "**Data Description...**"
   ]
  },
  {
   "cell_type": "code",
   "execution_count": 452,
   "metadata": {},
   "outputs": [],
   "source": [
    "food_inspections = pd.read_csv('data/food-inspections.csv', sep=',')"
   ]
  },
  {
   "cell_type": "markdown",
   "metadata": {},
   "source": [
    "**Drop the columns we don't need**\n",
    "\n",
    "We don't need the location since we already have the latitude and longitude columns. \n",
    "The Zip codes are not required either."
   ]
  },
  {
   "cell_type": "code",
   "execution_count": 453,
   "metadata": {},
   "outputs": [],
   "source": [
    "food_inspections = food_inspections.drop(['Location', 'Zip', 'Zip Codes','Historical Wards 2003-2015', 'Community Areas', 'Census Tracts','Wards'], axis=1)"
   ]
  },
  {
   "cell_type": "code",
   "execution_count": 454,
   "metadata": {},
   "outputs": [
    {
     "data": {
      "text/html": [
       "<div>\n",
       "<style scoped>\n",
       "    .dataframe tbody tr th:only-of-type {\n",
       "        vertical-align: middle;\n",
       "    }\n",
       "\n",
       "    .dataframe tbody tr th {\n",
       "        vertical-align: top;\n",
       "    }\n",
       "\n",
       "    .dataframe thead th {\n",
       "        text-align: right;\n",
       "    }\n",
       "</style>\n",
       "<table border=\"1\" class=\"dataframe\">\n",
       "  <thead>\n",
       "    <tr style=\"text-align: right;\">\n",
       "      <th></th>\n",
       "      <th>Inspection ID</th>\n",
       "      <th>DBA Name</th>\n",
       "      <th>AKA Name</th>\n",
       "      <th>License #</th>\n",
       "      <th>Facility Type</th>\n",
       "      <th>Risk</th>\n",
       "      <th>Address</th>\n",
       "      <th>City</th>\n",
       "      <th>State</th>\n",
       "      <th>Inspection Date</th>\n",
       "      <th>Inspection Type</th>\n",
       "      <th>Results</th>\n",
       "      <th>Violations</th>\n",
       "      <th>Latitude</th>\n",
       "      <th>Longitude</th>\n",
       "    </tr>\n",
       "  </thead>\n",
       "  <tbody>\n",
       "    <tr>\n",
       "      <td>0</td>\n",
       "      <td>2320519</td>\n",
       "      <td>SALAM  RESTAURANT</td>\n",
       "      <td>SALAM RESTAURANT</td>\n",
       "      <td>2002822.0</td>\n",
       "      <td>Restaurant</td>\n",
       "      <td>Risk 1 (High)</td>\n",
       "      <td>4634-4636 N KEDZIE AVE</td>\n",
       "      <td>CHICAGO</td>\n",
       "      <td>IL</td>\n",
       "      <td>2019-10-25T00:00:00.000</td>\n",
       "      <td>Complaint Re-Inspection</td>\n",
       "      <td>Pass</td>\n",
       "      <td>NaN</td>\n",
       "      <td>41.965719</td>\n",
       "      <td>-87.708538</td>\n",
       "    </tr>\n",
       "    <tr>\n",
       "      <td>1</td>\n",
       "      <td>2320509</td>\n",
       "      <td>TAQUERIA EL DORADO</td>\n",
       "      <td>TAQUERIA EL DORADO</td>\n",
       "      <td>2694960.0</td>\n",
       "      <td>Restaurant</td>\n",
       "      <td>Risk 1 (High)</td>\n",
       "      <td>2114 W LAWRENCE AVE</td>\n",
       "      <td>CHICAGO</td>\n",
       "      <td>IL</td>\n",
       "      <td>2019-10-25T00:00:00.000</td>\n",
       "      <td>License Re-Inspection</td>\n",
       "      <td>Fail</td>\n",
       "      <td>3. MANAGEMENT, FOOD EMPLOYEE AND CONDITIONAL E...</td>\n",
       "      <td>41.968820</td>\n",
       "      <td>-87.682292</td>\n",
       "    </tr>\n",
       "    <tr>\n",
       "      <td>2</td>\n",
       "      <td>2320412</td>\n",
       "      <td>DANTE'S PIZZA,INC.</td>\n",
       "      <td>DANTE'S PIZZA</td>\n",
       "      <td>2092884.0</td>\n",
       "      <td>Restaurant</td>\n",
       "      <td>Risk 1 (High)</td>\n",
       "      <td>3028 W ARMITAGE AVE</td>\n",
       "      <td>CHICAGO</td>\n",
       "      <td>IL</td>\n",
       "      <td>2019-10-24T00:00:00.000</td>\n",
       "      <td>Canvass</td>\n",
       "      <td>Fail</td>\n",
       "      <td>38. INSECTS, RODENTS, &amp; ANIMALS NOT PRESENT - ...</td>\n",
       "      <td>41.917539</td>\n",
       "      <td>-87.703728</td>\n",
       "    </tr>\n",
       "    <tr>\n",
       "      <td>3</td>\n",
       "      <td>2320430</td>\n",
       "      <td>LAO PENG YOU LLC</td>\n",
       "      <td>LAO PENG YOU</td>\n",
       "      <td>2694477.0</td>\n",
       "      <td>Restaurant</td>\n",
       "      <td>Risk 1 (High)</td>\n",
       "      <td>2020 W CHICAGO</td>\n",
       "      <td>CHICAGO</td>\n",
       "      <td>IL</td>\n",
       "      <td>2019-10-24T00:00:00.000</td>\n",
       "      <td>License Re-Inspection</td>\n",
       "      <td>Pass w/ Conditions</td>\n",
       "      <td>3. MANAGEMENT, FOOD EMPLOYEE AND CONDITIONAL E...</td>\n",
       "      <td>41.896005</td>\n",
       "      <td>-87.677938</td>\n",
       "    </tr>\n",
       "    <tr>\n",
       "      <td>4</td>\n",
       "      <td>2320384</td>\n",
       "      <td>ARBOR</td>\n",
       "      <td>ARBOR</td>\n",
       "      <td>2363029.0</td>\n",
       "      <td>Restaurant</td>\n",
       "      <td>Risk 1 (High)</td>\n",
       "      <td>2545 W DIVERSEY AVE</td>\n",
       "      <td>CHICAGO</td>\n",
       "      <td>IL</td>\n",
       "      <td>2019-10-24T00:00:00.000</td>\n",
       "      <td>Recent Inspection</td>\n",
       "      <td>Pass w/ Conditions</td>\n",
       "      <td>14. REQUIRED RECORDS AVAILABLE: SHELLSTOCK TAG...</td>\n",
       "      <td>41.932025</td>\n",
       "      <td>-87.692169</td>\n",
       "    </tr>\n",
       "  </tbody>\n",
       "</table>\n",
       "</div>"
      ],
      "text/plain": [
       "   Inspection ID            DBA Name            AKA Name  License #  \\\n",
       "0        2320519   SALAM  RESTAURANT    SALAM RESTAURANT  2002822.0   \n",
       "1        2320509  TAQUERIA EL DORADO  TAQUERIA EL DORADO  2694960.0   \n",
       "2        2320412  DANTE'S PIZZA,INC.       DANTE'S PIZZA  2092884.0   \n",
       "3        2320430    LAO PENG YOU LLC        LAO PENG YOU  2694477.0   \n",
       "4        2320384               ARBOR               ARBOR  2363029.0   \n",
       "\n",
       "  Facility Type           Risk                  Address     City State  \\\n",
       "0    Restaurant  Risk 1 (High)  4634-4636 N KEDZIE AVE   CHICAGO    IL   \n",
       "1    Restaurant  Risk 1 (High)     2114 W LAWRENCE AVE   CHICAGO    IL   \n",
       "2    Restaurant  Risk 1 (High)     3028 W ARMITAGE AVE   CHICAGO    IL   \n",
       "3    Restaurant  Risk 1 (High)          2020 W CHICAGO   CHICAGO    IL   \n",
       "4    Restaurant  Risk 1 (High)     2545 W DIVERSEY AVE   CHICAGO    IL   \n",
       "\n",
       "           Inspection Date          Inspection Type             Results  \\\n",
       "0  2019-10-25T00:00:00.000  Complaint Re-Inspection                Pass   \n",
       "1  2019-10-25T00:00:00.000    License Re-Inspection                Fail   \n",
       "2  2019-10-24T00:00:00.000                  Canvass                Fail   \n",
       "3  2019-10-24T00:00:00.000    License Re-Inspection  Pass w/ Conditions   \n",
       "4  2019-10-24T00:00:00.000        Recent Inspection  Pass w/ Conditions   \n",
       "\n",
       "                                          Violations   Latitude  Longitude  \n",
       "0                                                NaN  41.965719 -87.708538  \n",
       "1  3. MANAGEMENT, FOOD EMPLOYEE AND CONDITIONAL E...  41.968820 -87.682292  \n",
       "2  38. INSECTS, RODENTS, & ANIMALS NOT PRESENT - ...  41.917539 -87.703728  \n",
       "3  3. MANAGEMENT, FOOD EMPLOYEE AND CONDITIONAL E...  41.896005 -87.677938  \n",
       "4  14. REQUIRED RECORDS AVAILABLE: SHELLSTOCK TAG...  41.932025 -87.692169  "
      ]
     },
     "execution_count": 454,
     "metadata": {},
     "output_type": "execute_result"
    }
   ],
   "source": [
    "food_inspections.head()"
   ]
  },
  {
   "cell_type": "code",
   "execution_count": 455,
   "metadata": {},
   "outputs": [
    {
     "data": {
      "text/plain": [
       "False"
      ]
     },
     "execution_count": 455,
     "metadata": {},
     "output_type": "execute_result"
    }
   ],
   "source": [
    "food_inspections['DBA Name'].isnull().values.any()"
   ]
  },
  {
   "cell_type": "markdown",
   "metadata": {},
   "source": [
    "**Check the cities**\n",
    "\n",
    "We see that chicago is there several times. "
   ]
  },
  {
   "cell_type": "code",
   "execution_count": 456,
   "metadata": {},
   "outputs": [
    {
     "data": {
      "text/plain": [
       "City\n",
       "CHICAGO               194066\n",
       "Chicago                  319\n",
       "chicago                   97\n",
       "CCHICAGO                  46\n",
       "SCHAUMBURG                24\n",
       "                       ...  \n",
       "COUNTRY CLUB HILLS         1\n",
       "DES PLAINES                1\n",
       "GRIFFITH                   1\n",
       "alsip                      1\n",
       "GLENCOE                    1\n",
       "Name: DBA Name, Length: 71, dtype: int64"
      ]
     },
     "execution_count": 456,
     "metadata": {},
     "output_type": "execute_result"
    }
   ],
   "source": [
    "food_inspections.groupby('City')['DBA Name'].count().sort_values(ascending=False)"
   ]
  },
  {
   "cell_type": "code",
   "execution_count": 457,
   "metadata": {},
   "outputs": [],
   "source": [
    "def city_clear(city):\n",
    "    city = str(city).lower()\n",
    "    if city == 'cchicago':\n",
    "        city = 'chicago'\n",
    "    return city  \n",
    "\n",
    "food_inspections.City = food_inspections.City.apply(city_clear)"
   ]
  },
  {
   "cell_type": "code",
   "execution_count": 458,
   "metadata": {},
   "outputs": [
    {
     "data": {
      "text/plain": [
       "City\n",
       "chicago               194540\n",
       "nan                      139\n",
       "schaumburg                24\n",
       "maywood                   16\n",
       "elk grove village         13\n",
       "                       ...  \n",
       "country club hills         1\n",
       "des plaines                1\n",
       "griffith                   1\n",
       "wilmette                   1\n",
       "glencoe                    1\n",
       "Name: DBA Name, Length: 66, dtype: int64"
      ]
     },
     "execution_count": 458,
     "metadata": {},
     "output_type": "execute_result"
    }
   ],
   "source": [
    "food_inspections.groupby('City')['DBA Name'].count().sort_values(ascending=False)"
   ]
  },
  {
   "cell_type": "markdown",
   "metadata": {},
   "source": [
    "**Deleting other cities than Chicago**\n",
    "\n",
    "We keep only chicago. Most data is overthere and the rest is not required. We check the state as well (different Chicago ?). At the end, we are sure to work only with restaurants in Chicago, Illinois."
   ]
  },
  {
   "cell_type": "code",
   "execution_count": 459,
   "metadata": {},
   "outputs": [],
   "source": [
    "food_inspections = food_inspections[food_inspections.City == 'chicago']"
   ]
  },
  {
   "cell_type": "code",
   "execution_count": 460,
   "metadata": {},
   "outputs": [
    {
     "data": {
      "text/plain": [
       "City\n",
       "chicago    194540\n",
       "Name: DBA Name, dtype: int64"
      ]
     },
     "execution_count": 460,
     "metadata": {},
     "output_type": "execute_result"
    }
   ],
   "source": [
    "food_inspections.groupby('City')['DBA Name'].count().sort_values(ascending=False)"
   ]
  },
  {
   "cell_type": "code",
   "execution_count": 461,
   "metadata": {},
   "outputs": [
    {
     "data": {
      "text/plain": [
       "State\n",
       "IL    194517\n",
       "Name: DBA Name, dtype: int64"
      ]
     },
     "execution_count": 461,
     "metadata": {},
     "output_type": "execute_result"
    }
   ],
   "source": [
    "food_inspections.groupby('State')['DBA Name'].count().sort_values(ascending=False)"
   ]
  },
  {
   "cell_type": "code",
   "execution_count": 462,
   "metadata": {},
   "outputs": [],
   "source": [
    "food_inspections = food_inspections.drop(['City','State'], axis=1)"
   ]
  },
  {
   "cell_type": "code",
   "execution_count": 463,
   "metadata": {},
   "outputs": [
    {
     "data": {
      "text/html": [
       "<div>\n",
       "<style scoped>\n",
       "    .dataframe tbody tr th:only-of-type {\n",
       "        vertical-align: middle;\n",
       "    }\n",
       "\n",
       "    .dataframe tbody tr th {\n",
       "        vertical-align: top;\n",
       "    }\n",
       "\n",
       "    .dataframe thead th {\n",
       "        text-align: right;\n",
       "    }\n",
       "</style>\n",
       "<table border=\"1\" class=\"dataframe\">\n",
       "  <thead>\n",
       "    <tr style=\"text-align: right;\">\n",
       "      <th></th>\n",
       "      <th>Inspection ID</th>\n",
       "      <th>DBA Name</th>\n",
       "      <th>AKA Name</th>\n",
       "      <th>License #</th>\n",
       "      <th>Facility Type</th>\n",
       "      <th>Risk</th>\n",
       "      <th>Address</th>\n",
       "      <th>Inspection Date</th>\n",
       "      <th>Inspection Type</th>\n",
       "      <th>Results</th>\n",
       "      <th>Violations</th>\n",
       "      <th>Latitude</th>\n",
       "      <th>Longitude</th>\n",
       "    </tr>\n",
       "  </thead>\n",
       "  <tbody>\n",
       "    <tr>\n",
       "      <td>0</td>\n",
       "      <td>2320519</td>\n",
       "      <td>SALAM  RESTAURANT</td>\n",
       "      <td>SALAM RESTAURANT</td>\n",
       "      <td>2002822.0</td>\n",
       "      <td>Restaurant</td>\n",
       "      <td>Risk 1 (High)</td>\n",
       "      <td>4634-4636 N KEDZIE AVE</td>\n",
       "      <td>2019-10-25T00:00:00.000</td>\n",
       "      <td>Complaint Re-Inspection</td>\n",
       "      <td>Pass</td>\n",
       "      <td>NaN</td>\n",
       "      <td>41.965719</td>\n",
       "      <td>-87.708538</td>\n",
       "    </tr>\n",
       "    <tr>\n",
       "      <td>1</td>\n",
       "      <td>2320509</td>\n",
       "      <td>TAQUERIA EL DORADO</td>\n",
       "      <td>TAQUERIA EL DORADO</td>\n",
       "      <td>2694960.0</td>\n",
       "      <td>Restaurant</td>\n",
       "      <td>Risk 1 (High)</td>\n",
       "      <td>2114 W LAWRENCE AVE</td>\n",
       "      <td>2019-10-25T00:00:00.000</td>\n",
       "      <td>License Re-Inspection</td>\n",
       "      <td>Fail</td>\n",
       "      <td>3. MANAGEMENT, FOOD EMPLOYEE AND CONDITIONAL E...</td>\n",
       "      <td>41.968820</td>\n",
       "      <td>-87.682292</td>\n",
       "    </tr>\n",
       "    <tr>\n",
       "      <td>2</td>\n",
       "      <td>2320412</td>\n",
       "      <td>DANTE'S PIZZA,INC.</td>\n",
       "      <td>DANTE'S PIZZA</td>\n",
       "      <td>2092884.0</td>\n",
       "      <td>Restaurant</td>\n",
       "      <td>Risk 1 (High)</td>\n",
       "      <td>3028 W ARMITAGE AVE</td>\n",
       "      <td>2019-10-24T00:00:00.000</td>\n",
       "      <td>Canvass</td>\n",
       "      <td>Fail</td>\n",
       "      <td>38. INSECTS, RODENTS, &amp; ANIMALS NOT PRESENT - ...</td>\n",
       "      <td>41.917539</td>\n",
       "      <td>-87.703728</td>\n",
       "    </tr>\n",
       "    <tr>\n",
       "      <td>3</td>\n",
       "      <td>2320430</td>\n",
       "      <td>LAO PENG YOU LLC</td>\n",
       "      <td>LAO PENG YOU</td>\n",
       "      <td>2694477.0</td>\n",
       "      <td>Restaurant</td>\n",
       "      <td>Risk 1 (High)</td>\n",
       "      <td>2020 W CHICAGO</td>\n",
       "      <td>2019-10-24T00:00:00.000</td>\n",
       "      <td>License Re-Inspection</td>\n",
       "      <td>Pass w/ Conditions</td>\n",
       "      <td>3. MANAGEMENT, FOOD EMPLOYEE AND CONDITIONAL E...</td>\n",
       "      <td>41.896005</td>\n",
       "      <td>-87.677938</td>\n",
       "    </tr>\n",
       "    <tr>\n",
       "      <td>4</td>\n",
       "      <td>2320384</td>\n",
       "      <td>ARBOR</td>\n",
       "      <td>ARBOR</td>\n",
       "      <td>2363029.0</td>\n",
       "      <td>Restaurant</td>\n",
       "      <td>Risk 1 (High)</td>\n",
       "      <td>2545 W DIVERSEY AVE</td>\n",
       "      <td>2019-10-24T00:00:00.000</td>\n",
       "      <td>Recent Inspection</td>\n",
       "      <td>Pass w/ Conditions</td>\n",
       "      <td>14. REQUIRED RECORDS AVAILABLE: SHELLSTOCK TAG...</td>\n",
       "      <td>41.932025</td>\n",
       "      <td>-87.692169</td>\n",
       "    </tr>\n",
       "  </tbody>\n",
       "</table>\n",
       "</div>"
      ],
      "text/plain": [
       "   Inspection ID            DBA Name            AKA Name  License #  \\\n",
       "0        2320519   SALAM  RESTAURANT    SALAM RESTAURANT  2002822.0   \n",
       "1        2320509  TAQUERIA EL DORADO  TAQUERIA EL DORADO  2694960.0   \n",
       "2        2320412  DANTE'S PIZZA,INC.       DANTE'S PIZZA  2092884.0   \n",
       "3        2320430    LAO PENG YOU LLC        LAO PENG YOU  2694477.0   \n",
       "4        2320384               ARBOR               ARBOR  2363029.0   \n",
       "\n",
       "  Facility Type           Risk                  Address  \\\n",
       "0    Restaurant  Risk 1 (High)  4634-4636 N KEDZIE AVE    \n",
       "1    Restaurant  Risk 1 (High)     2114 W LAWRENCE AVE    \n",
       "2    Restaurant  Risk 1 (High)     3028 W ARMITAGE AVE    \n",
       "3    Restaurant  Risk 1 (High)          2020 W CHICAGO    \n",
       "4    Restaurant  Risk 1 (High)     2545 W DIVERSEY AVE    \n",
       "\n",
       "           Inspection Date          Inspection Type             Results  \\\n",
       "0  2019-10-25T00:00:00.000  Complaint Re-Inspection                Pass   \n",
       "1  2019-10-25T00:00:00.000    License Re-Inspection                Fail   \n",
       "2  2019-10-24T00:00:00.000                  Canvass                Fail   \n",
       "3  2019-10-24T00:00:00.000    License Re-Inspection  Pass w/ Conditions   \n",
       "4  2019-10-24T00:00:00.000        Recent Inspection  Pass w/ Conditions   \n",
       "\n",
       "                                          Violations   Latitude  Longitude  \n",
       "0                                                NaN  41.965719 -87.708538  \n",
       "1  3. MANAGEMENT, FOOD EMPLOYEE AND CONDITIONAL E...  41.968820 -87.682292  \n",
       "2  38. INSECTS, RODENTS, & ANIMALS NOT PRESENT - ...  41.917539 -87.703728  \n",
       "3  3. MANAGEMENT, FOOD EMPLOYEE AND CONDITIONAL E...  41.896005 -87.677938  \n",
       "4  14. REQUIRED RECORDS AVAILABLE: SHELLSTOCK TAG...  41.932025 -87.692169  "
      ]
     },
     "execution_count": 463,
     "metadata": {},
     "output_type": "execute_result"
    }
   ],
   "source": [
    "food_inspections.head()"
   ]
  },
  {
   "cell_type": "markdown",
   "metadata": {},
   "source": [
    "**Checking the license numbers of restaurants**\n",
    "\n",
    "We check if don't have duplicates. Some places were inspected several times and have thus multiple rows in the dataset. We want to count the number of inspections done on each establishment so we will transform the data set to make 'Establishment'-centric."
   ]
  },
  {
   "cell_type": "code",
   "execution_count": 464,
   "metadata": {},
   "outputs": [],
   "source": [
    "license_count = food_inspections.groupby(\"License #\").count().sort_values(by='DBA Name', ascending=False)"
   ]
  },
  {
   "cell_type": "code",
   "execution_count": 465,
   "metadata": {},
   "outputs": [
    {
     "data": {
      "text/plain": [
       "License #\n",
       "0.0          505\n",
       "1354323.0    192\n",
       "14616.0      175\n",
       "1574001.0     83\n",
       "1974745.0     59\n",
       "Name: Inspection ID, dtype: int64"
      ]
     },
     "execution_count": 465,
     "metadata": {},
     "output_type": "execute_result"
    }
   ],
   "source": [
    "license_count['Inspection ID'].head()"
   ]
  },
  {
   "cell_type": "code",
   "execution_count": 466,
   "metadata": {},
   "outputs": [
    {
     "data": {
      "text/plain": [
       "License #\n",
       "0.0          505\n",
       "1354323.0    192\n",
       "14616.0      175\n",
       "1574001.0     83\n",
       "1974745.0     59\n",
       "            ... \n",
       "1445749.0      1\n",
       "1445739.0      1\n",
       "1445730.0      1\n",
       "1445710.0      1\n",
       "9999999.0      1\n",
       "Name: Inspection Date, Length: 37086, dtype: int64"
      ]
     },
     "execution_count": 466,
     "metadata": {},
     "output_type": "execute_result"
    }
   ],
   "source": [
    "food_inspections.groupby(\"License #\")['Inspection Date'].count().sort_values(ascending=False)"
   ]
  },
  {
   "cell_type": "markdown",
   "metadata": {},
   "source": [
    "**New Year format ?**"
   ]
  },
  {
   "cell_type": "code",
   "execution_count": 467,
   "metadata": {},
   "outputs": [],
   "source": [
    "food_inspections['year'] = food_inspections['Inspection Date'].apply(lambda x: x.split('-')[0])\n",
    "food_inspections['month'] = food_inspections['Inspection Date'].apply(lambda x: x.split('-')[1])\n",
    "food_inspections['date'] = food_inspections['month'] + '/' + food_inspections['year']\n",
    "food_inspections = food_inspections.drop(['Inspection Date','year','month'], axis=1)"
   ]
  },
  {
   "cell_type": "code",
   "execution_count": 468,
   "metadata": {},
   "outputs": [
    {
     "data": {
      "text/html": [
       "<div>\n",
       "<style scoped>\n",
       "    .dataframe tbody tr th:only-of-type {\n",
       "        vertical-align: middle;\n",
       "    }\n",
       "\n",
       "    .dataframe tbody tr th {\n",
       "        vertical-align: top;\n",
       "    }\n",
       "\n",
       "    .dataframe thead th {\n",
       "        text-align: right;\n",
       "    }\n",
       "</style>\n",
       "<table border=\"1\" class=\"dataframe\">\n",
       "  <thead>\n",
       "    <tr style=\"text-align: right;\">\n",
       "      <th></th>\n",
       "      <th>Inspection ID</th>\n",
       "      <th>DBA Name</th>\n",
       "      <th>AKA Name</th>\n",
       "      <th>License #</th>\n",
       "      <th>Facility Type</th>\n",
       "      <th>Risk</th>\n",
       "      <th>Address</th>\n",
       "      <th>Inspection Type</th>\n",
       "      <th>Results</th>\n",
       "      <th>Violations</th>\n",
       "      <th>Latitude</th>\n",
       "      <th>Longitude</th>\n",
       "      <th>date</th>\n",
       "    </tr>\n",
       "  </thead>\n",
       "  <tbody>\n",
       "    <tr>\n",
       "      <td>0</td>\n",
       "      <td>2320519</td>\n",
       "      <td>SALAM  RESTAURANT</td>\n",
       "      <td>SALAM RESTAURANT</td>\n",
       "      <td>2002822.0</td>\n",
       "      <td>Restaurant</td>\n",
       "      <td>Risk 1 (High)</td>\n",
       "      <td>4634-4636 N KEDZIE AVE</td>\n",
       "      <td>Complaint Re-Inspection</td>\n",
       "      <td>Pass</td>\n",
       "      <td>NaN</td>\n",
       "      <td>41.965719</td>\n",
       "      <td>-87.708538</td>\n",
       "      <td>10/2019</td>\n",
       "    </tr>\n",
       "    <tr>\n",
       "      <td>1</td>\n",
       "      <td>2320509</td>\n",
       "      <td>TAQUERIA EL DORADO</td>\n",
       "      <td>TAQUERIA EL DORADO</td>\n",
       "      <td>2694960.0</td>\n",
       "      <td>Restaurant</td>\n",
       "      <td>Risk 1 (High)</td>\n",
       "      <td>2114 W LAWRENCE AVE</td>\n",
       "      <td>License Re-Inspection</td>\n",
       "      <td>Fail</td>\n",
       "      <td>3. MANAGEMENT, FOOD EMPLOYEE AND CONDITIONAL E...</td>\n",
       "      <td>41.968820</td>\n",
       "      <td>-87.682292</td>\n",
       "      <td>10/2019</td>\n",
       "    </tr>\n",
       "    <tr>\n",
       "      <td>2</td>\n",
       "      <td>2320412</td>\n",
       "      <td>DANTE'S PIZZA,INC.</td>\n",
       "      <td>DANTE'S PIZZA</td>\n",
       "      <td>2092884.0</td>\n",
       "      <td>Restaurant</td>\n",
       "      <td>Risk 1 (High)</td>\n",
       "      <td>3028 W ARMITAGE AVE</td>\n",
       "      <td>Canvass</td>\n",
       "      <td>Fail</td>\n",
       "      <td>38. INSECTS, RODENTS, &amp; ANIMALS NOT PRESENT - ...</td>\n",
       "      <td>41.917539</td>\n",
       "      <td>-87.703728</td>\n",
       "      <td>10/2019</td>\n",
       "    </tr>\n",
       "    <tr>\n",
       "      <td>3</td>\n",
       "      <td>2320430</td>\n",
       "      <td>LAO PENG YOU LLC</td>\n",
       "      <td>LAO PENG YOU</td>\n",
       "      <td>2694477.0</td>\n",
       "      <td>Restaurant</td>\n",
       "      <td>Risk 1 (High)</td>\n",
       "      <td>2020 W CHICAGO</td>\n",
       "      <td>License Re-Inspection</td>\n",
       "      <td>Pass w/ Conditions</td>\n",
       "      <td>3. MANAGEMENT, FOOD EMPLOYEE AND CONDITIONAL E...</td>\n",
       "      <td>41.896005</td>\n",
       "      <td>-87.677938</td>\n",
       "      <td>10/2019</td>\n",
       "    </tr>\n",
       "    <tr>\n",
       "      <td>4</td>\n",
       "      <td>2320384</td>\n",
       "      <td>ARBOR</td>\n",
       "      <td>ARBOR</td>\n",
       "      <td>2363029.0</td>\n",
       "      <td>Restaurant</td>\n",
       "      <td>Risk 1 (High)</td>\n",
       "      <td>2545 W DIVERSEY AVE</td>\n",
       "      <td>Recent Inspection</td>\n",
       "      <td>Pass w/ Conditions</td>\n",
       "      <td>14. REQUIRED RECORDS AVAILABLE: SHELLSTOCK TAG...</td>\n",
       "      <td>41.932025</td>\n",
       "      <td>-87.692169</td>\n",
       "      <td>10/2019</td>\n",
       "    </tr>\n",
       "  </tbody>\n",
       "</table>\n",
       "</div>"
      ],
      "text/plain": [
       "   Inspection ID            DBA Name            AKA Name  License #  \\\n",
       "0        2320519   SALAM  RESTAURANT    SALAM RESTAURANT  2002822.0   \n",
       "1        2320509  TAQUERIA EL DORADO  TAQUERIA EL DORADO  2694960.0   \n",
       "2        2320412  DANTE'S PIZZA,INC.       DANTE'S PIZZA  2092884.0   \n",
       "3        2320430    LAO PENG YOU LLC        LAO PENG YOU  2694477.0   \n",
       "4        2320384               ARBOR               ARBOR  2363029.0   \n",
       "\n",
       "  Facility Type           Risk                  Address  \\\n",
       "0    Restaurant  Risk 1 (High)  4634-4636 N KEDZIE AVE    \n",
       "1    Restaurant  Risk 1 (High)     2114 W LAWRENCE AVE    \n",
       "2    Restaurant  Risk 1 (High)     3028 W ARMITAGE AVE    \n",
       "3    Restaurant  Risk 1 (High)          2020 W CHICAGO    \n",
       "4    Restaurant  Risk 1 (High)     2545 W DIVERSEY AVE    \n",
       "\n",
       "           Inspection Type             Results  \\\n",
       "0  Complaint Re-Inspection                Pass   \n",
       "1    License Re-Inspection                Fail   \n",
       "2                  Canvass                Fail   \n",
       "3    License Re-Inspection  Pass w/ Conditions   \n",
       "4        Recent Inspection  Pass w/ Conditions   \n",
       "\n",
       "                                          Violations   Latitude  Longitude  \\\n",
       "0                                                NaN  41.965719 -87.708538   \n",
       "1  3. MANAGEMENT, FOOD EMPLOYEE AND CONDITIONAL E...  41.968820 -87.682292   \n",
       "2  38. INSECTS, RODENTS, & ANIMALS NOT PRESENT - ...  41.917539 -87.703728   \n",
       "3  3. MANAGEMENT, FOOD EMPLOYEE AND CONDITIONAL E...  41.896005 -87.677938   \n",
       "4  14. REQUIRED RECORDS AVAILABLE: SHELLSTOCK TAG...  41.932025 -87.692169   \n",
       "\n",
       "      date  \n",
       "0  10/2019  \n",
       "1  10/2019  \n",
       "2  10/2019  \n",
       "3  10/2019  \n",
       "4  10/2019  "
      ]
     },
     "execution_count": 468,
     "metadata": {},
     "output_type": "execute_result"
    }
   ],
   "source": [
    "food_inspections.head()"
   ]
  },
  {
   "cell_type": "code",
   "execution_count": 469,
   "metadata": {},
   "outputs": [
    {
     "data": {
      "text/plain": [
       "False"
      ]
     },
     "execution_count": 469,
     "metadata": {},
     "output_type": "execute_result"
    }
   ],
   "source": [
    "food_inspections['test'] = food_inspections['Inspection ID'].astype(str) + food_inspections['License #'].astype(str) + food_inspections['date'].astype(str)\n",
    "food_inspections.test.is_unique"
   ]
  },
  {
   "cell_type": "code",
   "execution_count": 470,
   "metadata": {},
   "outputs": [
    {
     "name": "stdout",
     "output_type": "stream",
     "text": [
      "Number of rows in dataset before deleting the duplicates: (194540, 14)\n",
      "Number of rows in dataset after deleting the duplicates: (194340, 14)\n"
     ]
    }
   ],
   "source": [
    "print('Number of rows in dataset before deleting the duplicates: {}'.format(food_inspections.shape))\n",
    "food_inspections = food_inspections.drop_duplicates(subset=['test'], keep=False)\n",
    "print('Number of rows in dataset after deleting the duplicates: {}'.format(food_inspections.shape))"
   ]
  },
  {
   "cell_type": "code",
   "execution_count": 480,
   "metadata": {},
   "outputs": [],
   "source": [
    "food_inspections = food_inspections.drop(['test'], axis=1)"
   ]
  },
  {
   "cell_type": "markdown",
   "metadata": {},
   "source": [
    "**Creating working dataset**\n",
    "\n"
   ]
  },
  {
   "cell_type": "code",
   "execution_count": 481,
   "metadata": {},
   "outputs": [],
   "source": [
    "food_inspections_resto = food_inspections"
   ]
  },
  {
   "cell_type": "code",
   "execution_count": 482,
   "metadata": {},
   "outputs": [],
   "source": [
    "count = food_inspections_resto.groupby('License #')['Inspection ID'].count()\n",
    "food_inspections_resto = pd.merge(food_inspections_resto, count, left_on='License #',right_on='License #')\n",
    "food_inspections_resto = food_inspections_resto.rename(columns={'Inspection ID_y':'# of Inspections','Inspection ID_x':'Inspection ID'})"
   ]
  },
  {
   "cell_type": "code",
   "execution_count": 483,
   "metadata": {},
   "outputs": [],
   "source": [
    "food_inspections_resto = food_inspections_resto.drop(['date','Inspection ID','DBA Name','AKA Name','Violations','Results','Inspection Type'], axis=1)"
   ]
  },
  {
   "cell_type": "code",
   "execution_count": 484,
   "metadata": {},
   "outputs": [
    {
     "data": {
      "text/html": [
       "<div>\n",
       "<style scoped>\n",
       "    .dataframe tbody tr th:only-of-type {\n",
       "        vertical-align: middle;\n",
       "    }\n",
       "\n",
       "    .dataframe tbody tr th {\n",
       "        vertical-align: top;\n",
       "    }\n",
       "\n",
       "    .dataframe thead th {\n",
       "        text-align: right;\n",
       "    }\n",
       "</style>\n",
       "<table border=\"1\" class=\"dataframe\">\n",
       "  <thead>\n",
       "    <tr style=\"text-align: right;\">\n",
       "      <th></th>\n",
       "      <th>License #</th>\n",
       "      <th>Facility Type</th>\n",
       "      <th>Risk</th>\n",
       "      <th>Address</th>\n",
       "      <th>Latitude</th>\n",
       "      <th>Longitude</th>\n",
       "      <th># of Inspections</th>\n",
       "    </tr>\n",
       "  </thead>\n",
       "  <tbody>\n",
       "    <tr>\n",
       "      <td>0</td>\n",
       "      <td>2002822.0</td>\n",
       "      <td>Restaurant</td>\n",
       "      <td>Risk 1 (High)</td>\n",
       "      <td>4634-4636 N KEDZIE AVE</td>\n",
       "      <td>41.965719</td>\n",
       "      <td>-87.708538</td>\n",
       "      <td>23</td>\n",
       "    </tr>\n",
       "    <tr>\n",
       "      <td>1</td>\n",
       "      <td>2002822.0</td>\n",
       "      <td>Restaurant</td>\n",
       "      <td>Risk 1 (High)</td>\n",
       "      <td>4634-4636 N KEDZIE AVE</td>\n",
       "      <td>41.965719</td>\n",
       "      <td>-87.708538</td>\n",
       "      <td>23</td>\n",
       "    </tr>\n",
       "    <tr>\n",
       "      <td>2</td>\n",
       "      <td>2002822.0</td>\n",
       "      <td>Restaurant</td>\n",
       "      <td>Risk 1 (High)</td>\n",
       "      <td>4634-4636 N KEDZIE AVE</td>\n",
       "      <td>41.965719</td>\n",
       "      <td>-87.708538</td>\n",
       "      <td>23</td>\n",
       "    </tr>\n",
       "    <tr>\n",
       "      <td>3</td>\n",
       "      <td>2002822.0</td>\n",
       "      <td>Restaurant</td>\n",
       "      <td>Risk 1 (High)</td>\n",
       "      <td>4634-4636 N KEDZIE AVE</td>\n",
       "      <td>41.965719</td>\n",
       "      <td>-87.708538</td>\n",
       "      <td>23</td>\n",
       "    </tr>\n",
       "    <tr>\n",
       "      <td>4</td>\n",
       "      <td>2002822.0</td>\n",
       "      <td>Restaurant</td>\n",
       "      <td>Risk 1 (High)</td>\n",
       "      <td>4634-4636 N KEDZIE AVE</td>\n",
       "      <td>41.965719</td>\n",
       "      <td>-87.708538</td>\n",
       "      <td>23</td>\n",
       "    </tr>\n",
       "  </tbody>\n",
       "</table>\n",
       "</div>"
      ],
      "text/plain": [
       "   License # Facility Type           Risk                  Address   Latitude  \\\n",
       "0  2002822.0    Restaurant  Risk 1 (High)  4634-4636 N KEDZIE AVE   41.965719   \n",
       "1  2002822.0    Restaurant  Risk 1 (High)  4634-4636 N KEDZIE AVE   41.965719   \n",
       "2  2002822.0    Restaurant  Risk 1 (High)  4634-4636 N KEDZIE AVE   41.965719   \n",
       "3  2002822.0    Restaurant  Risk 1 (High)  4634-4636 N KEDZIE AVE   41.965719   \n",
       "4  2002822.0    Restaurant  Risk 1 (High)  4634-4636 N KEDZIE AVE   41.965719   \n",
       "\n",
       "   Longitude  # of Inspections  \n",
       "0 -87.708538                23  \n",
       "1 -87.708538                23  \n",
       "2 -87.708538                23  \n",
       "3 -87.708538                23  \n",
       "4 -87.708538                23  "
      ]
     },
     "execution_count": 484,
     "metadata": {},
     "output_type": "execute_result"
    }
   ],
   "source": [
    "food_inspections_resto.head()"
   ]
  },
  {
   "cell_type": "code",
   "execution_count": 485,
   "metadata": {},
   "outputs": [
    {
     "data": {
      "text/plain": [
       "(156511, 7)"
      ]
     },
     "execution_count": 485,
     "metadata": {},
     "output_type": "execute_result"
    }
   ],
   "source": [
    "print('Number of rows to be deleted: {}'.format(food_inspections_resto[food_inspections_resto.duplicated()].shape))\n",
    "food_inspections_resto = food_inspections_resto.drop_duplicates()\n",
    "print('Number of rows in dataset after deletion: {}'.format(food_inspections_resto.shape))"
   ]
  },
  {
   "cell_type": "code",
   "execution_count": 489,
   "metadata": {},
   "outputs": [
    {
     "data": {
      "text/html": [
       "<div>\n",
       "<style scoped>\n",
       "    .dataframe tbody tr th:only-of-type {\n",
       "        vertical-align: middle;\n",
       "    }\n",
       "\n",
       "    .dataframe tbody tr th {\n",
       "        vertical-align: top;\n",
       "    }\n",
       "\n",
       "    .dataframe thead th {\n",
       "        text-align: right;\n",
       "    }\n",
       "</style>\n",
       "<table border=\"1\" class=\"dataframe\">\n",
       "  <thead>\n",
       "    <tr style=\"text-align: right;\">\n",
       "      <th></th>\n",
       "      <th>License #</th>\n",
       "      <th>Facility Type</th>\n",
       "      <th>Risk</th>\n",
       "      <th>Address</th>\n",
       "      <th>Latitude</th>\n",
       "      <th>Longitude</th>\n",
       "      <th># of Inspections</th>\n",
       "    </tr>\n",
       "  </thead>\n",
       "  <tbody>\n",
       "    <tr>\n",
       "      <td>0</td>\n",
       "      <td>2002822.0</td>\n",
       "      <td>Restaurant</td>\n",
       "      <td>Risk 1 (High)</td>\n",
       "      <td>4634-4636 N KEDZIE AVE</td>\n",
       "      <td>41.965719</td>\n",
       "      <td>-87.708538</td>\n",
       "      <td>23</td>\n",
       "    </tr>\n",
       "    <tr>\n",
       "      <td>23</td>\n",
       "      <td>2694960.0</td>\n",
       "      <td>Restaurant</td>\n",
       "      <td>Risk 1 (High)</td>\n",
       "      <td>2114 W LAWRENCE AVE</td>\n",
       "      <td>41.968820</td>\n",
       "      <td>-87.682292</td>\n",
       "      <td>2</td>\n",
       "    </tr>\n",
       "    <tr>\n",
       "      <td>25</td>\n",
       "      <td>2092884.0</td>\n",
       "      <td>Restaurant</td>\n",
       "      <td>Risk 1 (High)</td>\n",
       "      <td>3028 W ARMITAGE AVE</td>\n",
       "      <td>41.917539</td>\n",
       "      <td>-87.703728</td>\n",
       "      <td>12</td>\n",
       "    </tr>\n",
       "    <tr>\n",
       "      <td>37</td>\n",
       "      <td>2694477.0</td>\n",
       "      <td>Restaurant</td>\n",
       "      <td>Risk 1 (High)</td>\n",
       "      <td>2020 W CHICAGO</td>\n",
       "      <td>41.896005</td>\n",
       "      <td>-87.677938</td>\n",
       "      <td>3</td>\n",
       "    </tr>\n",
       "    <tr>\n",
       "      <td>40</td>\n",
       "      <td>2363029.0</td>\n",
       "      <td>Restaurant</td>\n",
       "      <td>Risk 1 (High)</td>\n",
       "      <td>2545 W DIVERSEY AVE</td>\n",
       "      <td>41.932025</td>\n",
       "      <td>-87.692169</td>\n",
       "      <td>6</td>\n",
       "    </tr>\n",
       "  </tbody>\n",
       "</table>\n",
       "</div>"
      ],
      "text/plain": [
       "    License # Facility Type           Risk                  Address  \\\n",
       "0   2002822.0    Restaurant  Risk 1 (High)  4634-4636 N KEDZIE AVE    \n",
       "23  2694960.0    Restaurant  Risk 1 (High)     2114 W LAWRENCE AVE    \n",
       "25  2092884.0    Restaurant  Risk 1 (High)     3028 W ARMITAGE AVE    \n",
       "37  2694477.0    Restaurant  Risk 1 (High)          2020 W CHICAGO    \n",
       "40  2363029.0    Restaurant  Risk 1 (High)     2545 W DIVERSEY AVE    \n",
       "\n",
       "     Latitude  Longitude  # of Inspections  \n",
       "0   41.965719 -87.708538                23  \n",
       "23  41.968820 -87.682292                 2  \n",
       "25  41.917539 -87.703728                12  \n",
       "37  41.896005 -87.677938                 3  \n",
       "40  41.932025 -87.692169                 6  "
      ]
     },
     "execution_count": 489,
     "metadata": {},
     "output_type": "execute_result"
    }
   ],
   "source": [
    "food_inspections_resto.head()"
   ]
  },
  {
   "cell_type": "markdown",
   "metadata": {},
   "source": [
    "**Plot Geographical loc of restaurants**"
   ]
  },
  {
   "cell_type": "code",
   "execution_count": 495,
   "metadata": {},
   "outputs": [],
   "source": [
    "import os\n",
    "import pandas as pd\n",
    "import json\n",
    "\n",
    "import folium"
   ]
  },
  {
   "cell_type": "code",
   "execution_count": 496,
   "metadata": {},
   "outputs": [
    {
     "data": {
      "text/plain": [
       "True"
      ]
     },
     "execution_count": 496,
     "metadata": {},
     "output_type": "execute_result"
    }
   ],
   "source": [
    "folium.__version__ == '0.10.0'"
   ]
  },
  {
   "cell_type": "code",
   "execution_count": 499,
   "metadata": {},
   "outputs": [],
   "source": [
    "chicago_coord = [41.85, -87.7]"
   ]
  },
  {
   "cell_type": "code",
   "execution_count": 540,
   "metadata": {},
   "outputs": [
    {
     "data": {
      "text/html": [
       "<div style=\"width:100%;\"><div style=\"position:relative;width:100%;height:0;padding-bottom:60%;\"><iframe src=\"data:text/html;charset=utf-8;base64,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\" style=\"position:absolute;width:100%;height:100%;left:0;top:0;border:none !important;\" allowfullscreen webkitallowfullscreen mozallowfullscreen></iframe></div></div>"
      ],
      "text/plain": [
       "<folium.folium.Map at 0x191b2f49748>"
      ]
     },
     "execution_count": 540,
     "metadata": {},
     "output_type": "execute_result"
    }
   ],
   "source": [
    "m = folium.Map(location=chicago_coord)\n",
    "m"
   ]
  },
  {
   "cell_type": "code",
   "execution_count": 494,
   "metadata": {},
   "outputs": [
    {
     "data": {
      "text/plain": [
       "<matplotlib.collections.PathCollection at 0x19090709ac8>"
      ]
     },
     "execution_count": 494,
     "metadata": {},
     "output_type": "execute_result"
    },
    {
     "data": {
      "image/png": "[encoded data removed]",
      "text/plain": [
       "<Figure size 432x288 with 1 Axes>"
      ]
     },
     "metadata": {
      "needs_background": "light"
     },
     "output_type": "display_data"
    }
   ],
   "source": [
    "latitudes = food_inspections_resto.Latitude\n",
    "longitudes = food_inspections_resto.Longitude\n",
    "\n",
    "plt.figure()\n",
    "plt.scatter(latitudes,longitudes)"
   ]
  },
  {
   "cell_type": "code",
   "execution_count": 530,
   "metadata": {},
   "outputs": [],
   "source": [
    "# Need more data cleaning\n",
    "food_inspections_resto = food_inspections_resto.dropna()"
   ]
  },
  {
   "cell_type": "code",
   "execution_count": 554,
   "metadata": {},
   "outputs": [],
   "source": [
    "for index, row in food_inspections_resto.iterrows():\n",
    "    if index < 1000:\n",
    "        folium.Marker([row[\"Latitude\"], row[\"Longitude\"]], popup=str(index)).add_to(m)\n",
    "    else: \n",
    "        break"
   ]
  },
  {
   "cell_type": "code",
   "execution_count": 555,
   "metadata": {},
   "outputs": [
    {
     "data": {
      "text/html": [
       "<div style=\"width:100%;\"><div style=\"position:relative;width:100%;height:0;padding-bottom:60%;\"><iframe src=\"data:text/html;charset=utf-8;base64,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\" style=\"position:absolute;width:100%;height:100%;left:0;top:0;border:none !important;\" allowfullscreen webkitallowfullscreen mozallowfullscreen></iframe></div></div>"
      ],
      "text/plain": [
       "<folium.folium.Map at 0x191b2f49748>"
      ]
     },
     "execution_count": 555,
     "metadata": {},
     "output_type": "execute_result"
    }
   ],
   "source": [
    "m"
   ]
  },
  {
   "cell_type": "code",
   "execution_count": null,
   "metadata": {},
   "outputs": [],
   "source": []
  }
 ],
 "metadata": {
  "kernelspec": {
   "display_name": "Python 3",
   "language": "python",
   "name": "python3"
  },
  "language_info": {
   "codemirror_mode": {
    "name": "ipython",
    "version": 3
   },
   "file_extension": ".py",
   "mimetype": "text/x-python",
   "name": "python",
   "nbconvert_exporter": "python",
   "pygments_lexer": "ipython3",
   "version": "3.7.4"
  }
 },
 "nbformat": 4,
 "nbformat_minor": 2
}
