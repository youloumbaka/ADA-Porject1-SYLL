{
 "cells": [
  {
   "cell_type": "markdown",
   "metadata": {},
   "source": [
    "# Project "
   ]
  },
  {
   "cell_type": "code",
   "execution_count": 243,
   "metadata": {},
   "outputs": [],
   "source": [
    "%matplotlib inline\n",
    "import pandas as pd\n",
    "import numpy as np\n",
    "import re\n",
    "from matplotlib.ticker import MaxNLocator\n",
    "import matplotlib.pyplot as plt\n",
    "from requests import get\n",
    "from bs4 import BeautifulSoup\n",
    "from scipy import stats\n",
    "import warnings\n",
    "warnings.filterwarnings('ignore')"
   ]
  },
  {
   "cell_type": "markdown",
   "metadata": {},
   "source": [
    "**Data Description...**"
   ]
  },
  {
   "cell_type": "code",
   "execution_count": 244,
   "metadata": {},
   "outputs": [],
   "source": [
    "food_inspections = pd.read_csv('data/food-inspections.csv', sep=',')"
   ]
  },
  {
   "cell_type": "markdown",
   "metadata": {},
   "source": [
    "**Drop the columns we don't need**\n",
    "\n",
    "We don't need the location since we already have the latitude and longitude columns. \n",
    "The Zip codes are not required either."
   ]
  },
  {
   "cell_type": "code",
   "execution_count": 245,
   "metadata": {},
   "outputs": [],
   "source": [
    "food_inspections = food_inspections.drop(['Zip', 'Zip Codes','Historical Wards 2003-2015', 'Community Areas', 'Census Tracts','Wards'], axis=1)"
   ]
  },
  {
   "cell_type": "code",
   "execution_count": 246,
   "metadata": {},
   "outputs": [
    {
     "data": {
      "text/html": [
       "<div>\n",
       "<style scoped>\n",
       "    .dataframe tbody tr th:only-of-type {\n",
       "        vertical-align: middle;\n",
       "    }\n",
       "\n",
       "    .dataframe tbody tr th {\n",
       "        vertical-align: top;\n",
       "    }\n",
       "\n",
       "    .dataframe thead th {\n",
       "        text-align: right;\n",
       "    }\n",
       "</style>\n",
       "<table border=\"1\" class=\"dataframe\">\n",
       "  <thead>\n",
       "    <tr style=\"text-align: right;\">\n",
       "      <th></th>\n",
       "      <th>Inspection ID</th>\n",
       "      <th>DBA Name</th>\n",
       "      <th>AKA Name</th>\n",
       "      <th>License #</th>\n",
       "      <th>Facility Type</th>\n",
       "      <th>Risk</th>\n",
       "      <th>Address</th>\n",
       "      <th>City</th>\n",
       "      <th>State</th>\n",
       "      <th>Inspection Date</th>\n",
       "      <th>Inspection Type</th>\n",
       "      <th>Results</th>\n",
       "      <th>Violations</th>\n",
       "      <th>Latitude</th>\n",
       "      <th>Longitude</th>\n",
       "      <th>Location</th>\n",
       "    </tr>\n",
       "  </thead>\n",
       "  <tbody>\n",
       "    <tr>\n",
       "      <td>0</td>\n",
       "      <td>2320519</td>\n",
       "      <td>SALAM  RESTAURANT</td>\n",
       "      <td>SALAM RESTAURANT</td>\n",
       "      <td>2002822.0</td>\n",
       "      <td>Restaurant</td>\n",
       "      <td>Risk 1 (High)</td>\n",
       "      <td>4634-4636 N KEDZIE AVE</td>\n",
       "      <td>CHICAGO</td>\n",
       "      <td>IL</td>\n",
       "      <td>2019-10-25T00:00:00.000</td>\n",
       "      <td>Complaint Re-Inspection</td>\n",
       "      <td>Pass</td>\n",
       "      <td>NaN</td>\n",
       "      <td>41.965719</td>\n",
       "      <td>-87.708538</td>\n",
       "      <td>{'latitude': '-87.70853756167853', 'longitude'...</td>\n",
       "    </tr>\n",
       "    <tr>\n",
       "      <td>1</td>\n",
       "      <td>2320509</td>\n",
       "      <td>TAQUERIA EL DORADO</td>\n",
       "      <td>TAQUERIA EL DORADO</td>\n",
       "      <td>2694960.0</td>\n",
       "      <td>Restaurant</td>\n",
       "      <td>Risk 1 (High)</td>\n",
       "      <td>2114 W LAWRENCE AVE</td>\n",
       "      <td>CHICAGO</td>\n",
       "      <td>IL</td>\n",
       "      <td>2019-10-25T00:00:00.000</td>\n",
       "      <td>License Re-Inspection</td>\n",
       "      <td>Fail</td>\n",
       "      <td>3. MANAGEMENT, FOOD EMPLOYEE AND CONDITIONAL E...</td>\n",
       "      <td>41.968820</td>\n",
       "      <td>-87.682292</td>\n",
       "      <td>{'latitude': '-87.6822915036914', 'longitude':...</td>\n",
       "    </tr>\n",
       "    <tr>\n",
       "      <td>2</td>\n",
       "      <td>2320412</td>\n",
       "      <td>DANTE'S PIZZA,INC.</td>\n",
       "      <td>DANTE'S PIZZA</td>\n",
       "      <td>2092884.0</td>\n",
       "      <td>Restaurant</td>\n",
       "      <td>Risk 1 (High)</td>\n",
       "      <td>3028 W ARMITAGE AVE</td>\n",
       "      <td>CHICAGO</td>\n",
       "      <td>IL</td>\n",
       "      <td>2019-10-24T00:00:00.000</td>\n",
       "      <td>Canvass</td>\n",
       "      <td>Fail</td>\n",
       "      <td>38. INSECTS, RODENTS, &amp; ANIMALS NOT PRESENT - ...</td>\n",
       "      <td>41.917539</td>\n",
       "      <td>-87.703728</td>\n",
       "      <td>{'latitude': '-87.70372788811352', 'longitude'...</td>\n",
       "    </tr>\n",
       "    <tr>\n",
       "      <td>3</td>\n",
       "      <td>2320430</td>\n",
       "      <td>LAO PENG YOU LLC</td>\n",
       "      <td>LAO PENG YOU</td>\n",
       "      <td>2694477.0</td>\n",
       "      <td>Restaurant</td>\n",
       "      <td>Risk 1 (High)</td>\n",
       "      <td>2020 W CHICAGO</td>\n",
       "      <td>CHICAGO</td>\n",
       "      <td>IL</td>\n",
       "      <td>2019-10-24T00:00:00.000</td>\n",
       "      <td>License Re-Inspection</td>\n",
       "      <td>Pass w/ Conditions</td>\n",
       "      <td>3. MANAGEMENT, FOOD EMPLOYEE AND CONDITIONAL E...</td>\n",
       "      <td>41.896005</td>\n",
       "      <td>-87.677938</td>\n",
       "      <td>{'latitude': '-87.6779378973854', 'longitude':...</td>\n",
       "    </tr>\n",
       "    <tr>\n",
       "      <td>4</td>\n",
       "      <td>2320384</td>\n",
       "      <td>ARBOR</td>\n",
       "      <td>ARBOR</td>\n",
       "      <td>2363029.0</td>\n",
       "      <td>Restaurant</td>\n",
       "      <td>Risk 1 (High)</td>\n",
       "      <td>2545 W DIVERSEY AVE</td>\n",
       "      <td>CHICAGO</td>\n",
       "      <td>IL</td>\n",
       "      <td>2019-10-24T00:00:00.000</td>\n",
       "      <td>Recent Inspection</td>\n",
       "      <td>Pass w/ Conditions</td>\n",
       "      <td>14. REQUIRED RECORDS AVAILABLE: SHELLSTOCK TAG...</td>\n",
       "      <td>41.932025</td>\n",
       "      <td>-87.692169</td>\n",
       "      <td>{'latitude': '-87.69216904438716', 'longitude'...</td>\n",
       "    </tr>\n",
       "  </tbody>\n",
       "</table>\n",
       "</div>"
      ],
      "text/plain": [
       "   Inspection ID            DBA Name            AKA Name  License #  \\\n",
       "0        2320519   SALAM  RESTAURANT    SALAM RESTAURANT  2002822.0   \n",
       "1        2320509  TAQUERIA EL DORADO  TAQUERIA EL DORADO  2694960.0   \n",
       "2        2320412  DANTE'S PIZZA,INC.       DANTE'S PIZZA  2092884.0   \n",
       "3        2320430    LAO PENG YOU LLC        LAO PENG YOU  2694477.0   \n",
       "4        2320384               ARBOR               ARBOR  2363029.0   \n",
       "\n",
       "  Facility Type           Risk                  Address     City State  \\\n",
       "0    Restaurant  Risk 1 (High)  4634-4636 N KEDZIE AVE   CHICAGO    IL   \n",
       "1    Restaurant  Risk 1 (High)     2114 W LAWRENCE AVE   CHICAGO    IL   \n",
       "2    Restaurant  Risk 1 (High)     3028 W ARMITAGE AVE   CHICAGO    IL   \n",
       "3    Restaurant  Risk 1 (High)          2020 W CHICAGO   CHICAGO    IL   \n",
       "4    Restaurant  Risk 1 (High)     2545 W DIVERSEY AVE   CHICAGO    IL   \n",
       "\n",
       "           Inspection Date          Inspection Type             Results  \\\n",
       "0  2019-10-25T00:00:00.000  Complaint Re-Inspection                Pass   \n",
       "1  2019-10-25T00:00:00.000    License Re-Inspection                Fail   \n",
       "2  2019-10-24T00:00:00.000                  Canvass                Fail   \n",
       "3  2019-10-24T00:00:00.000    License Re-Inspection  Pass w/ Conditions   \n",
       "4  2019-10-24T00:00:00.000        Recent Inspection  Pass w/ Conditions   \n",
       "\n",
       "                                          Violations   Latitude  Longitude  \\\n",
       "0                                                NaN  41.965719 -87.708538   \n",
       "1  3. MANAGEMENT, FOOD EMPLOYEE AND CONDITIONAL E...  41.968820 -87.682292   \n",
       "2  38. INSECTS, RODENTS, & ANIMALS NOT PRESENT - ...  41.917539 -87.703728   \n",
       "3  3. MANAGEMENT, FOOD EMPLOYEE AND CONDITIONAL E...  41.896005 -87.677938   \n",
       "4  14. REQUIRED RECORDS AVAILABLE: SHELLSTOCK TAG...  41.932025 -87.692169   \n",
       "\n",
       "                                            Location  \n",
       "0  {'latitude': '-87.70853756167853', 'longitude'...  \n",
       "1  {'latitude': '-87.6822915036914', 'longitude':...  \n",
       "2  {'latitude': '-87.70372788811352', 'longitude'...  \n",
       "3  {'latitude': '-87.6779378973854', 'longitude':...  \n",
       "4  {'latitude': '-87.69216904438716', 'longitude'...  "
      ]
     },
     "execution_count": 246,
     "metadata": {},
     "output_type": "execute_result"
    }
   ],
   "source": [
    "food_inspections.head()"
   ]
  },
  {
   "cell_type": "code",
   "execution_count": 247,
   "metadata": {},
   "outputs": [
    {
     "data": {
      "text/plain": [
       "False"
      ]
     },
     "execution_count": 247,
     "metadata": {},
     "output_type": "execute_result"
    }
   ],
   "source": [
    "food_inspections['DBA Name'].isnull().values.any()"
   ]
  },
  {
   "cell_type": "markdown",
   "metadata": {},
   "source": [
    "**Check the cities**\n",
    "\n",
    "We see that chicago is there several times. "
   ]
  },
  {
   "cell_type": "code",
   "execution_count": 248,
   "metadata": {},
   "outputs": [
    {
     "data": {
      "text/plain": [
       "City\n",
       "CHICAGO               194066\n",
       "Chicago                  319\n",
       "chicago                   97\n",
       "CCHICAGO                  46\n",
       "SCHAUMBURG                24\n",
       "                       ...  \n",
       "COUNTRY CLUB HILLS         1\n",
       "DES PLAINES                1\n",
       "GRIFFITH                   1\n",
       "alsip                      1\n",
       "GLENCOE                    1\n",
       "Name: DBA Name, Length: 71, dtype: int64"
      ]
     },
     "execution_count": 248,
     "metadata": {},
     "output_type": "execute_result"
    }
   ],
   "source": [
    "food_inspections.groupby('City')['DBA Name']\\\n",
    "    .count()\\\n",
    "    .sort_values(ascending=False)"
   ]
  },
  {
   "cell_type": "code",
   "execution_count": 249,
   "metadata": {},
   "outputs": [],
   "source": [
    "def city_clear(city):\n",
    "    city = str(city).lower()\n",
    "    if city == 'cchicago':\n",
    "        city = 'chicago'\n",
    "    return city  \n",
    "\n",
    "food_inspections.City = food_inspections.City.apply(city_clear)"
   ]
  },
  {
   "cell_type": "code",
   "execution_count": 250,
   "metadata": {},
   "outputs": [
    {
     "data": {
      "text/plain": [
       "City\n",
       "chicago               194540\n",
       "nan                      139\n",
       "schaumburg                24\n",
       "maywood                   16\n",
       "elk grove village         13\n",
       "                       ...  \n",
       "country club hills         1\n",
       "des plaines                1\n",
       "griffith                   1\n",
       "wilmette                   1\n",
       "glencoe                    1\n",
       "Name: DBA Name, Length: 66, dtype: int64"
      ]
     },
     "execution_count": 250,
     "metadata": {},
     "output_type": "execute_result"
    }
   ],
   "source": [
    "food_inspections.groupby('City')['DBA Name']\\\n",
    "    .count()\\\n",
    "    .sort_values(ascending=False)"
   ]
  },
  {
   "cell_type": "markdown",
   "metadata": {},
   "source": [
    "**Deleting other cities than Chicago**\n",
    "\n",
    "We keep only chicago. Most data is overthere and the rest is not required. We check the state as well (different Chicago ?). At the end, we are sure to work only with restaurants in Chicago, Illinois."
   ]
  },
  {
   "cell_type": "code",
   "execution_count": 251,
   "metadata": {},
   "outputs": [],
   "source": [
    "food_inspections = food_inspections[food_inspections.City == 'chicago']"
   ]
  },
  {
   "cell_type": "code",
   "execution_count": 252,
   "metadata": {},
   "outputs": [
    {
     "data": {
      "text/plain": [
       "City\n",
       "chicago    194540\n",
       "Name: DBA Name, dtype: int64"
      ]
     },
     "execution_count": 252,
     "metadata": {},
     "output_type": "execute_result"
    }
   ],
   "source": [
    "food_inspections.groupby('City')['DBA Name']\\\n",
    "    .count()\\\n",
    "    .sort_values(ascending=False)"
   ]
  },
  {
   "cell_type": "code",
   "execution_count": 253,
   "metadata": {},
   "outputs": [
    {
     "data": {
      "text/plain": [
       "State\n",
       "IL    194517\n",
       "Name: DBA Name, dtype: int64"
      ]
     },
     "execution_count": 253,
     "metadata": {},
     "output_type": "execute_result"
    }
   ],
   "source": [
    "food_inspections.groupby('State')['DBA Name']\\\n",
    "    .count()\\\n",
    "    .sort_values(ascending=False)"
   ]
  },
  {
   "cell_type": "code",
   "execution_count": 254,
   "metadata": {},
   "outputs": [],
   "source": [
    "food_inspections = food_inspections.drop(['City','State'], axis=1)"
   ]
  },
  {
   "cell_type": "code",
   "execution_count": 255,
   "metadata": {},
   "outputs": [
    {
     "data": {
      "text/html": [
       "<div>\n",
       "<style scoped>\n",
       "    .dataframe tbody tr th:only-of-type {\n",
       "        vertical-align: middle;\n",
       "    }\n",
       "\n",
       "    .dataframe tbody tr th {\n",
       "        vertical-align: top;\n",
       "    }\n",
       "\n",
       "    .dataframe thead th {\n",
       "        text-align: right;\n",
       "    }\n",
       "</style>\n",
       "<table border=\"1\" class=\"dataframe\">\n",
       "  <thead>\n",
       "    <tr style=\"text-align: right;\">\n",
       "      <th></th>\n",
       "      <th>Inspection ID</th>\n",
       "      <th>DBA Name</th>\n",
       "      <th>AKA Name</th>\n",
       "      <th>License #</th>\n",
       "      <th>Facility Type</th>\n",
       "      <th>Risk</th>\n",
       "      <th>Address</th>\n",
       "      <th>Inspection Date</th>\n",
       "      <th>Inspection Type</th>\n",
       "      <th>Results</th>\n",
       "      <th>Violations</th>\n",
       "      <th>Latitude</th>\n",
       "      <th>Longitude</th>\n",
       "      <th>Location</th>\n",
       "    </tr>\n",
       "  </thead>\n",
       "  <tbody>\n",
       "    <tr>\n",
       "      <td>0</td>\n",
       "      <td>2320519</td>\n",
       "      <td>SALAM  RESTAURANT</td>\n",
       "      <td>SALAM RESTAURANT</td>\n",
       "      <td>2002822.0</td>\n",
       "      <td>Restaurant</td>\n",
       "      <td>Risk 1 (High)</td>\n",
       "      <td>4634-4636 N KEDZIE AVE</td>\n",
       "      <td>2019-10-25T00:00:00.000</td>\n",
       "      <td>Complaint Re-Inspection</td>\n",
       "      <td>Pass</td>\n",
       "      <td>NaN</td>\n",
       "      <td>41.965719</td>\n",
       "      <td>-87.708538</td>\n",
       "      <td>{'latitude': '-87.70853756167853', 'longitude'...</td>\n",
       "    </tr>\n",
       "    <tr>\n",
       "      <td>1</td>\n",
       "      <td>2320509</td>\n",
       "      <td>TAQUERIA EL DORADO</td>\n",
       "      <td>TAQUERIA EL DORADO</td>\n",
       "      <td>2694960.0</td>\n",
       "      <td>Restaurant</td>\n",
       "      <td>Risk 1 (High)</td>\n",
       "      <td>2114 W LAWRENCE AVE</td>\n",
       "      <td>2019-10-25T00:00:00.000</td>\n",
       "      <td>License Re-Inspection</td>\n",
       "      <td>Fail</td>\n",
       "      <td>3. MANAGEMENT, FOOD EMPLOYEE AND CONDITIONAL E...</td>\n",
       "      <td>41.968820</td>\n",
       "      <td>-87.682292</td>\n",
       "      <td>{'latitude': '-87.6822915036914', 'longitude':...</td>\n",
       "    </tr>\n",
       "    <tr>\n",
       "      <td>2</td>\n",
       "      <td>2320412</td>\n",
       "      <td>DANTE'S PIZZA,INC.</td>\n",
       "      <td>DANTE'S PIZZA</td>\n",
       "      <td>2092884.0</td>\n",
       "      <td>Restaurant</td>\n",
       "      <td>Risk 1 (High)</td>\n",
       "      <td>3028 W ARMITAGE AVE</td>\n",
       "      <td>2019-10-24T00:00:00.000</td>\n",
       "      <td>Canvass</td>\n",
       "      <td>Fail</td>\n",
       "      <td>38. INSECTS, RODENTS, &amp; ANIMALS NOT PRESENT - ...</td>\n",
       "      <td>41.917539</td>\n",
       "      <td>-87.703728</td>\n",
       "      <td>{'latitude': '-87.70372788811352', 'longitude'...</td>\n",
       "    </tr>\n",
       "    <tr>\n",
       "      <td>3</td>\n",
       "      <td>2320430</td>\n",
       "      <td>LAO PENG YOU LLC</td>\n",
       "      <td>LAO PENG YOU</td>\n",
       "      <td>2694477.0</td>\n",
       "      <td>Restaurant</td>\n",
       "      <td>Risk 1 (High)</td>\n",
       "      <td>2020 W CHICAGO</td>\n",
       "      <td>2019-10-24T00:00:00.000</td>\n",
       "      <td>License Re-Inspection</td>\n",
       "      <td>Pass w/ Conditions</td>\n",
       "      <td>3. MANAGEMENT, FOOD EMPLOYEE AND CONDITIONAL E...</td>\n",
       "      <td>41.896005</td>\n",
       "      <td>-87.677938</td>\n",
       "      <td>{'latitude': '-87.6779378973854', 'longitude':...</td>\n",
       "    </tr>\n",
       "    <tr>\n",
       "      <td>4</td>\n",
       "      <td>2320384</td>\n",
       "      <td>ARBOR</td>\n",
       "      <td>ARBOR</td>\n",
       "      <td>2363029.0</td>\n",
       "      <td>Restaurant</td>\n",
       "      <td>Risk 1 (High)</td>\n",
       "      <td>2545 W DIVERSEY AVE</td>\n",
       "      <td>2019-10-24T00:00:00.000</td>\n",
       "      <td>Recent Inspection</td>\n",
       "      <td>Pass w/ Conditions</td>\n",
       "      <td>14. REQUIRED RECORDS AVAILABLE: SHELLSTOCK TAG...</td>\n",
       "      <td>41.932025</td>\n",
       "      <td>-87.692169</td>\n",
       "      <td>{'latitude': '-87.69216904438716', 'longitude'...</td>\n",
       "    </tr>\n",
       "  </tbody>\n",
       "</table>\n",
       "</div>"
      ],
      "text/plain": [
       "   Inspection ID            DBA Name            AKA Name  License #  \\\n",
       "0        2320519   SALAM  RESTAURANT    SALAM RESTAURANT  2002822.0   \n",
       "1        2320509  TAQUERIA EL DORADO  TAQUERIA EL DORADO  2694960.0   \n",
       "2        2320412  DANTE'S PIZZA,INC.       DANTE'S PIZZA  2092884.0   \n",
       "3        2320430    LAO PENG YOU LLC        LAO PENG YOU  2694477.0   \n",
       "4        2320384               ARBOR               ARBOR  2363029.0   \n",
       "\n",
       "  Facility Type           Risk                  Address  \\\n",
       "0    Restaurant  Risk 1 (High)  4634-4636 N KEDZIE AVE    \n",
       "1    Restaurant  Risk 1 (High)     2114 W LAWRENCE AVE    \n",
       "2    Restaurant  Risk 1 (High)     3028 W ARMITAGE AVE    \n",
       "3    Restaurant  Risk 1 (High)          2020 W CHICAGO    \n",
       "4    Restaurant  Risk 1 (High)     2545 W DIVERSEY AVE    \n",
       "\n",
       "           Inspection Date          Inspection Type             Results  \\\n",
       "0  2019-10-25T00:00:00.000  Complaint Re-Inspection                Pass   \n",
       "1  2019-10-25T00:00:00.000    License Re-Inspection                Fail   \n",
       "2  2019-10-24T00:00:00.000                  Canvass                Fail   \n",
       "3  2019-10-24T00:00:00.000    License Re-Inspection  Pass w/ Conditions   \n",
       "4  2019-10-24T00:00:00.000        Recent Inspection  Pass w/ Conditions   \n",
       "\n",
       "                                          Violations   Latitude  Longitude  \\\n",
       "0                                                NaN  41.965719 -87.708538   \n",
       "1  3. MANAGEMENT, FOOD EMPLOYEE AND CONDITIONAL E...  41.968820 -87.682292   \n",
       "2  38. INSECTS, RODENTS, & ANIMALS NOT PRESENT - ...  41.917539 -87.703728   \n",
       "3  3. MANAGEMENT, FOOD EMPLOYEE AND CONDITIONAL E...  41.896005 -87.677938   \n",
       "4  14. REQUIRED RECORDS AVAILABLE: SHELLSTOCK TAG...  41.932025 -87.692169   \n",
       "\n",
       "                                            Location  \n",
       "0  {'latitude': '-87.70853756167853', 'longitude'...  \n",
       "1  {'latitude': '-87.6822915036914', 'longitude':...  \n",
       "2  {'latitude': '-87.70372788811352', 'longitude'...  \n",
       "3  {'latitude': '-87.6779378973854', 'longitude':...  \n",
       "4  {'latitude': '-87.69216904438716', 'longitude'...  "
      ]
     },
     "execution_count": 255,
     "metadata": {},
     "output_type": "execute_result"
    }
   ],
   "source": [
    "food_inspections.head()"
   ]
  },
  {
   "cell_type": "markdown",
   "metadata": {},
   "source": [
    "**Checking the license numbers of restaurants**\n",
    "\n",
    "We check if don't have duplicates. Some places were inspected several times and have thus multiple rows in the dataset. We want to count the number of inspections done on each establishment so we will transform the data set to make 'Establishment'-centric."
   ]
  },
  {
   "cell_type": "code",
   "execution_count": 256,
   "metadata": {},
   "outputs": [],
   "source": [
    "license_count = food_inspections.groupby(\"License #\")\\\n",
    "    .count()\\\n",
    "    .sort_values(by='DBA Name', ascending=False)"
   ]
  },
  {
   "cell_type": "code",
   "execution_count": 257,
   "metadata": {},
   "outputs": [
    {
     "data": {
      "text/plain": [
       "License #\n",
       "0.0          505\n",
       "1354323.0    192\n",
       "14616.0      175\n",
       "1574001.0     83\n",
       "1974745.0     59\n",
       "Name: Inspection ID, dtype: int64"
      ]
     },
     "execution_count": 257,
     "metadata": {},
     "output_type": "execute_result"
    }
   ],
   "source": [
    "license_count['Inspection ID'].head()"
   ]
  },
  {
   "cell_type": "code",
   "execution_count": 258,
   "metadata": {},
   "outputs": [
    {
     "data": {
      "text/plain": [
       "License #\n",
       "0.0          505\n",
       "1354323.0    192\n",
       "14616.0      175\n",
       "1574001.0     83\n",
       "1974745.0     59\n",
       "            ... \n",
       "1445749.0      1\n",
       "1445739.0      1\n",
       "1445730.0      1\n",
       "1445710.0      1\n",
       "9999999.0      1\n",
       "Name: Inspection Date, Length: 37086, dtype: int64"
      ]
     },
     "execution_count": 258,
     "metadata": {},
     "output_type": "execute_result"
    }
   ],
   "source": [
    "food_inspections.groupby(\"License #\")['Inspection Date']\\\n",
    "    .count()\\\n",
    "    .sort_values(ascending=False)"
   ]
  },
  {
   "cell_type": "markdown",
   "metadata": {},
   "source": [
    "Problème à résoudre: license # = 0.0 et peut-être 1.0 non catégorisée. "
   ]
  },
  {
   "cell_type": "markdown",
   "metadata": {},
   "source": [
    "**New Year format ?**"
   ]
  },
  {
   "cell_type": "code",
   "execution_count": 259,
   "metadata": {},
   "outputs": [],
   "source": [
    "food_inspections['year'] = food_inspections['Inspection Date'].apply(lambda x: x.split('-')[0])\n",
    "food_inspections['month'] = food_inspections['Inspection Date'].apply(lambda x: x.split('-')[1])\n",
    "food_inspections['date'] = food_inspections['month'] + '/' + food_inspections['year']\n",
    "food_inspections = food_inspections.drop(['Inspection Date','year','month'], axis=1)"
   ]
  },
  {
   "cell_type": "code",
   "execution_count": 260,
   "metadata": {},
   "outputs": [
    {
     "data": {
      "text/html": [
       "<div>\n",
       "<style scoped>\n",
       "    .dataframe tbody tr th:only-of-type {\n",
       "        vertical-align: middle;\n",
       "    }\n",
       "\n",
       "    .dataframe tbody tr th {\n",
       "        vertical-align: top;\n",
       "    }\n",
       "\n",
       "    .dataframe thead th {\n",
       "        text-align: right;\n",
       "    }\n",
       "</style>\n",
       "<table border=\"1\" class=\"dataframe\">\n",
       "  <thead>\n",
       "    <tr style=\"text-align: right;\">\n",
       "      <th></th>\n",
       "      <th>Inspection ID</th>\n",
       "      <th>DBA Name</th>\n",
       "      <th>AKA Name</th>\n",
       "      <th>License #</th>\n",
       "      <th>Facility Type</th>\n",
       "      <th>Risk</th>\n",
       "      <th>Address</th>\n",
       "      <th>Inspection Type</th>\n",
       "      <th>Results</th>\n",
       "      <th>Violations</th>\n",
       "      <th>Latitude</th>\n",
       "      <th>Longitude</th>\n",
       "      <th>Location</th>\n",
       "      <th>date</th>\n",
       "    </tr>\n",
       "  </thead>\n",
       "  <tbody>\n",
       "    <tr>\n",
       "      <td>0</td>\n",
       "      <td>2320519</td>\n",
       "      <td>SALAM  RESTAURANT</td>\n",
       "      <td>SALAM RESTAURANT</td>\n",
       "      <td>2002822.0</td>\n",
       "      <td>Restaurant</td>\n",
       "      <td>Risk 1 (High)</td>\n",
       "      <td>4634-4636 N KEDZIE AVE</td>\n",
       "      <td>Complaint Re-Inspection</td>\n",
       "      <td>Pass</td>\n",
       "      <td>NaN</td>\n",
       "      <td>41.965719</td>\n",
       "      <td>-87.708538</td>\n",
       "      <td>{'latitude': '-87.70853756167853', 'longitude'...</td>\n",
       "      <td>10/2019</td>\n",
       "    </tr>\n",
       "    <tr>\n",
       "      <td>1</td>\n",
       "      <td>2320509</td>\n",
       "      <td>TAQUERIA EL DORADO</td>\n",
       "      <td>TAQUERIA EL DORADO</td>\n",
       "      <td>2694960.0</td>\n",
       "      <td>Restaurant</td>\n",
       "      <td>Risk 1 (High)</td>\n",
       "      <td>2114 W LAWRENCE AVE</td>\n",
       "      <td>License Re-Inspection</td>\n",
       "      <td>Fail</td>\n",
       "      <td>3. MANAGEMENT, FOOD EMPLOYEE AND CONDITIONAL E...</td>\n",
       "      <td>41.968820</td>\n",
       "      <td>-87.682292</td>\n",
       "      <td>{'latitude': '-87.6822915036914', 'longitude':...</td>\n",
       "      <td>10/2019</td>\n",
       "    </tr>\n",
       "    <tr>\n",
       "      <td>2</td>\n",
       "      <td>2320412</td>\n",
       "      <td>DANTE'S PIZZA,INC.</td>\n",
       "      <td>DANTE'S PIZZA</td>\n",
       "      <td>2092884.0</td>\n",
       "      <td>Restaurant</td>\n",
       "      <td>Risk 1 (High)</td>\n",
       "      <td>3028 W ARMITAGE AVE</td>\n",
       "      <td>Canvass</td>\n",
       "      <td>Fail</td>\n",
       "      <td>38. INSECTS, RODENTS, &amp; ANIMALS NOT PRESENT - ...</td>\n",
       "      <td>41.917539</td>\n",
       "      <td>-87.703728</td>\n",
       "      <td>{'latitude': '-87.70372788811352', 'longitude'...</td>\n",
       "      <td>10/2019</td>\n",
       "    </tr>\n",
       "    <tr>\n",
       "      <td>3</td>\n",
       "      <td>2320430</td>\n",
       "      <td>LAO PENG YOU LLC</td>\n",
       "      <td>LAO PENG YOU</td>\n",
       "      <td>2694477.0</td>\n",
       "      <td>Restaurant</td>\n",
       "      <td>Risk 1 (High)</td>\n",
       "      <td>2020 W CHICAGO</td>\n",
       "      <td>License Re-Inspection</td>\n",
       "      <td>Pass w/ Conditions</td>\n",
       "      <td>3. MANAGEMENT, FOOD EMPLOYEE AND CONDITIONAL E...</td>\n",
       "      <td>41.896005</td>\n",
       "      <td>-87.677938</td>\n",
       "      <td>{'latitude': '-87.6779378973854', 'longitude':...</td>\n",
       "      <td>10/2019</td>\n",
       "    </tr>\n",
       "    <tr>\n",
       "      <td>4</td>\n",
       "      <td>2320384</td>\n",
       "      <td>ARBOR</td>\n",
       "      <td>ARBOR</td>\n",
       "      <td>2363029.0</td>\n",
       "      <td>Restaurant</td>\n",
       "      <td>Risk 1 (High)</td>\n",
       "      <td>2545 W DIVERSEY AVE</td>\n",
       "      <td>Recent Inspection</td>\n",
       "      <td>Pass w/ Conditions</td>\n",
       "      <td>14. REQUIRED RECORDS AVAILABLE: SHELLSTOCK TAG...</td>\n",
       "      <td>41.932025</td>\n",
       "      <td>-87.692169</td>\n",
       "      <td>{'latitude': '-87.69216904438716', 'longitude'...</td>\n",
       "      <td>10/2019</td>\n",
       "    </tr>\n",
       "  </tbody>\n",
       "</table>\n",
       "</div>"
      ],
      "text/plain": [
       "   Inspection ID            DBA Name            AKA Name  License #  \\\n",
       "0        2320519   SALAM  RESTAURANT    SALAM RESTAURANT  2002822.0   \n",
       "1        2320509  TAQUERIA EL DORADO  TAQUERIA EL DORADO  2694960.0   \n",
       "2        2320412  DANTE'S PIZZA,INC.       DANTE'S PIZZA  2092884.0   \n",
       "3        2320430    LAO PENG YOU LLC        LAO PENG YOU  2694477.0   \n",
       "4        2320384               ARBOR               ARBOR  2363029.0   \n",
       "\n",
       "  Facility Type           Risk                  Address  \\\n",
       "0    Restaurant  Risk 1 (High)  4634-4636 N KEDZIE AVE    \n",
       "1    Restaurant  Risk 1 (High)     2114 W LAWRENCE AVE    \n",
       "2    Restaurant  Risk 1 (High)     3028 W ARMITAGE AVE    \n",
       "3    Restaurant  Risk 1 (High)          2020 W CHICAGO    \n",
       "4    Restaurant  Risk 1 (High)     2545 W DIVERSEY AVE    \n",
       "\n",
       "           Inspection Type             Results  \\\n",
       "0  Complaint Re-Inspection                Pass   \n",
       "1    License Re-Inspection                Fail   \n",
       "2                  Canvass                Fail   \n",
       "3    License Re-Inspection  Pass w/ Conditions   \n",
       "4        Recent Inspection  Pass w/ Conditions   \n",
       "\n",
       "                                          Violations   Latitude  Longitude  \\\n",
       "0                                                NaN  41.965719 -87.708538   \n",
       "1  3. MANAGEMENT, FOOD EMPLOYEE AND CONDITIONAL E...  41.968820 -87.682292   \n",
       "2  38. INSECTS, RODENTS, & ANIMALS NOT PRESENT - ...  41.917539 -87.703728   \n",
       "3  3. MANAGEMENT, FOOD EMPLOYEE AND CONDITIONAL E...  41.896005 -87.677938   \n",
       "4  14. REQUIRED RECORDS AVAILABLE: SHELLSTOCK TAG...  41.932025 -87.692169   \n",
       "\n",
       "                                            Location     date  \n",
       "0  {'latitude': '-87.70853756167853', 'longitude'...  10/2019  \n",
       "1  {'latitude': '-87.6822915036914', 'longitude':...  10/2019  \n",
       "2  {'latitude': '-87.70372788811352', 'longitude'...  10/2019  \n",
       "3  {'latitude': '-87.6779378973854', 'longitude':...  10/2019  \n",
       "4  {'latitude': '-87.69216904438716', 'longitude'...  10/2019  "
      ]
     },
     "execution_count": 260,
     "metadata": {},
     "output_type": "execute_result"
    }
   ],
   "source": [
    "food_inspections.head()"
   ]
  },
  {
   "cell_type": "code",
   "execution_count": 261,
   "metadata": {},
   "outputs": [
    {
     "data": {
      "text/plain": [
       "False"
      ]
     },
     "execution_count": 261,
     "metadata": {},
     "output_type": "execute_result"
    }
   ],
   "source": [
    "food_inspections['test'] = food_inspections['Inspection ID'].astype(str) + food_inspections['License #'].astype(str) + food_inspections['date'].astype(str)\n",
    "food_inspections.test.is_unique"
   ]
  },
  {
   "cell_type": "code",
   "execution_count": 262,
   "metadata": {},
   "outputs": [
    {
     "name": "stdout",
     "output_type": "stream",
     "text": [
      "Number of rows in dataset before deleting the duplicates: (194540, 15)\n",
      "Number of rows in dataset after deleting the duplicates: (194340, 15)\n"
     ]
    }
   ],
   "source": [
    "print('Number of rows in dataset before deleting the duplicates: {}'.format(food_inspections.shape))\n",
    "food_inspections = food_inspections.drop_duplicates(subset=['test'], keep=False)\n",
    "print('Number of rows in dataset after deleting the duplicates: {}'.format(food_inspections.shape))"
   ]
  },
  {
   "cell_type": "code",
   "execution_count": 263,
   "metadata": {},
   "outputs": [],
   "source": [
    "food_inspections = food_inspections.drop(['test'], axis=1)"
   ]
  },
  {
   "cell_type": "markdown",
   "metadata": {},
   "source": [
    "**Nan values: Violations**"
   ]
  },
  {
   "cell_type": "code",
   "execution_count": 264,
   "metadata": {},
   "outputs": [
    {
     "data": {
      "text/html": [
       "<div>\n",
       "<style scoped>\n",
       "    .dataframe tbody tr th:only-of-type {\n",
       "        vertical-align: middle;\n",
       "    }\n",
       "\n",
       "    .dataframe tbody tr th {\n",
       "        vertical-align: top;\n",
       "    }\n",
       "\n",
       "    .dataframe thead th {\n",
       "        text-align: right;\n",
       "    }\n",
       "</style>\n",
       "<table border=\"1\" class=\"dataframe\">\n",
       "  <thead>\n",
       "    <tr style=\"text-align: right;\">\n",
       "      <th></th>\n",
       "      <th>Inspection ID</th>\n",
       "      <th>DBA Name</th>\n",
       "      <th>AKA Name</th>\n",
       "      <th>License #</th>\n",
       "      <th>Facility Type</th>\n",
       "      <th>Risk</th>\n",
       "      <th>Address</th>\n",
       "      <th>Inspection Type</th>\n",
       "      <th>Results</th>\n",
       "      <th>Violations</th>\n",
       "      <th>Latitude</th>\n",
       "      <th>Longitude</th>\n",
       "      <th>Location</th>\n",
       "      <th>date</th>\n",
       "    </tr>\n",
       "  </thead>\n",
       "  <tbody>\n",
       "    <tr>\n",
       "      <td>0</td>\n",
       "      <td>2320519</td>\n",
       "      <td>SALAM  RESTAURANT</td>\n",
       "      <td>SALAM RESTAURANT</td>\n",
       "      <td>2002822.0</td>\n",
       "      <td>Restaurant</td>\n",
       "      <td>Risk 1 (High)</td>\n",
       "      <td>4634-4636 N KEDZIE AVE</td>\n",
       "      <td>Complaint Re-Inspection</td>\n",
       "      <td>Pass</td>\n",
       "      <td>NaN</td>\n",
       "      <td>41.965719</td>\n",
       "      <td>-87.708538</td>\n",
       "      <td>{'latitude': '-87.70853756167853', 'longitude'...</td>\n",
       "      <td>10/2019</td>\n",
       "    </tr>\n",
       "    <tr>\n",
       "      <td>8</td>\n",
       "      <td>2320364</td>\n",
       "      <td>FIREWATER SALOON MOUNT GREENWOOD</td>\n",
       "      <td>FIREWATER SALOON MOUNT GREENWOOD</td>\n",
       "      <td>15956.0</td>\n",
       "      <td>Restaurant</td>\n",
       "      <td>Risk 1 (High)</td>\n",
       "      <td>3908 W 111TH ST</td>\n",
       "      <td>Complaint Re-Inspection</td>\n",
       "      <td>Pass</td>\n",
       "      <td>NaN</td>\n",
       "      <td>41.691406</td>\n",
       "      <td>-87.718306</td>\n",
       "      <td>{'latitude': '-87.71830607808162', 'longitude'...</td>\n",
       "      <td>10/2019</td>\n",
       "    </tr>\n",
       "    <tr>\n",
       "      <td>11</td>\n",
       "      <td>2320414</td>\n",
       "      <td>HOPE CHILD DEVELOPMENT CENTER</td>\n",
       "      <td>HOPE CHILD DEVELOPMENT CENTER</td>\n",
       "      <td>2215757.0</td>\n",
       "      <td>Daycare (2 - 6 Years)</td>\n",
       "      <td>Risk 1 (High)</td>\n",
       "      <td>5900 W IOWA ST</td>\n",
       "      <td>License</td>\n",
       "      <td>Pass</td>\n",
       "      <td>NaN</td>\n",
       "      <td>41.896680</td>\n",
       "      <td>-87.772499</td>\n",
       "      <td>{'latitude': '-87.77249925688668', 'longitude'...</td>\n",
       "      <td>10/2019</td>\n",
       "    </tr>\n",
       "    <tr>\n",
       "      <td>16</td>\n",
       "      <td>2320421</td>\n",
       "      <td>THE NEW GRACE RESTAURANT</td>\n",
       "      <td>THE NEW GRACE RESTAURANT</td>\n",
       "      <td>2698310.0</td>\n",
       "      <td>Restaurant</td>\n",
       "      <td>Risk 1 (High)</td>\n",
       "      <td>4409 N BROADWAY</td>\n",
       "      <td>License</td>\n",
       "      <td>Not Ready</td>\n",
       "      <td>NaN</td>\n",
       "      <td>41.962104</td>\n",
       "      <td>-87.655204</td>\n",
       "      <td>{'latitude': '-87.65520382960334', 'longitude'...</td>\n",
       "      <td>10/2019</td>\n",
       "    </tr>\n",
       "    <tr>\n",
       "      <td>19</td>\n",
       "      <td>2320443</td>\n",
       "      <td>JORDAN DISCOUNT</td>\n",
       "      <td>JORDAN DISCOUNT</td>\n",
       "      <td>2694525.0</td>\n",
       "      <td>Grocery Store</td>\n",
       "      <td>Risk 3 (Low)</td>\n",
       "      <td>5254 W MADISON ST</td>\n",
       "      <td>License Re-Inspection</td>\n",
       "      <td>Pass</td>\n",
       "      <td>NaN</td>\n",
       "      <td>41.880455</td>\n",
       "      <td>-87.757290</td>\n",
       "      <td>{'latitude': '-87.75728976536573', 'longitude'...</td>\n",
       "      <td>10/2019</td>\n",
       "    </tr>\n",
       "  </tbody>\n",
       "</table>\n",
       "</div>"
      ],
      "text/plain": [
       "    Inspection ID                          DBA Name  \\\n",
       "0         2320519                 SALAM  RESTAURANT   \n",
       "8         2320364  FIREWATER SALOON MOUNT GREENWOOD   \n",
       "11        2320414     HOPE CHILD DEVELOPMENT CENTER   \n",
       "16        2320421          THE NEW GRACE RESTAURANT   \n",
       "19        2320443                   JORDAN DISCOUNT   \n",
       "\n",
       "                            AKA Name  License #          Facility Type  \\\n",
       "0                   SALAM RESTAURANT  2002822.0             Restaurant   \n",
       "8   FIREWATER SALOON MOUNT GREENWOOD    15956.0             Restaurant   \n",
       "11     HOPE CHILD DEVELOPMENT CENTER  2215757.0  Daycare (2 - 6 Years)   \n",
       "16          THE NEW GRACE RESTAURANT  2698310.0             Restaurant   \n",
       "19                   JORDAN DISCOUNT  2694525.0          Grocery Store   \n",
       "\n",
       "             Risk                  Address          Inspection Type  \\\n",
       "0   Risk 1 (High)  4634-4636 N KEDZIE AVE   Complaint Re-Inspection   \n",
       "8   Risk 1 (High)         3908 W 111TH ST   Complaint Re-Inspection   \n",
       "11  Risk 1 (High)          5900 W IOWA ST                   License   \n",
       "16  Risk 1 (High)         4409 N BROADWAY                   License   \n",
       "19   Risk 3 (Low)       5254 W MADISON ST     License Re-Inspection   \n",
       "\n",
       "      Results Violations   Latitude  Longitude  \\\n",
       "0        Pass        NaN  41.965719 -87.708538   \n",
       "8        Pass        NaN  41.691406 -87.718306   \n",
       "11       Pass        NaN  41.896680 -87.772499   \n",
       "16  Not Ready        NaN  41.962104 -87.655204   \n",
       "19       Pass        NaN  41.880455 -87.757290   \n",
       "\n",
       "                                             Location     date  \n",
       "0   {'latitude': '-87.70853756167853', 'longitude'...  10/2019  \n",
       "8   {'latitude': '-87.71830607808162', 'longitude'...  10/2019  \n",
       "11  {'latitude': '-87.77249925688668', 'longitude'...  10/2019  \n",
       "16  {'latitude': '-87.65520382960334', 'longitude'...  10/2019  \n",
       "19  {'latitude': '-87.75728976536573', 'longitude'...  10/2019  "
      ]
     },
     "execution_count": 264,
     "metadata": {},
     "output_type": "execute_result"
    }
   ],
   "source": [
    "food_inspections[food_inspections.Violations.isnull()].head()"
   ]
  },
  {
   "cell_type": "code",
   "execution_count": 265,
   "metadata": {},
   "outputs": [
    {
     "name": "stdout",
     "output_type": "stream",
     "text": [
      "(194340, 14)\n"
     ]
    }
   ],
   "source": [
    "food_inspections_no_violations = food_inspections.copy()\n",
    "print(food_inspections_no_violations.shape)\n",
    "food_inspections_no_violations = food_inspections_no_violations[food_inspections_no_violations['Violations'].notna()]"
   ]
  },
  {
   "cell_type": "code",
   "execution_count": 266,
   "metadata": {},
   "outputs": [
    {
     "data": {
      "text/plain": [
       "(142876, 14)"
      ]
     },
     "execution_count": 266,
     "metadata": {},
     "output_type": "execute_result"
    }
   ],
   "source": [
    "food_inspections_no_violations.shape"
   ]
  },
  {
   "cell_type": "code",
   "execution_count": 267,
   "metadata": {},
   "outputs": [],
   "source": [
    "viola_count = food_inspections_no_violations.groupby(\"License #\")['Violations']\\\n",
    "    .count()\n",
    "viola_count = pd.DataFrame(viola_count)"
   ]
  },
  {
   "cell_type": "code",
   "execution_count": 268,
   "metadata": {},
   "outputs": [],
   "source": [
    "food_inspections = food_inspections.merge(viola_count, on=\"License #\", how='outer')\\\n",
    "    .rename(columns={'Violations_x':'Violations','Violations_y':'Violation Count'})"
   ]
  },
  {
   "cell_type": "code",
   "execution_count": 269,
   "metadata": {},
   "outputs": [
    {
     "data": {
      "text/plain": [
       "(194340, 15)"
      ]
     },
     "execution_count": 269,
     "metadata": {},
     "output_type": "execute_result"
    }
   ],
   "source": [
    "food_inspections.shape"
   ]
  },
  {
   "cell_type": "code",
   "execution_count": 270,
   "metadata": {},
   "outputs": [
    {
     "data": {
      "text/html": [
       "<div>\n",
       "<style scoped>\n",
       "    .dataframe tbody tr th:only-of-type {\n",
       "        vertical-align: middle;\n",
       "    }\n",
       "\n",
       "    .dataframe tbody tr th {\n",
       "        vertical-align: top;\n",
       "    }\n",
       "\n",
       "    .dataframe thead th {\n",
       "        text-align: right;\n",
       "    }\n",
       "</style>\n",
       "<table border=\"1\" class=\"dataframe\">\n",
       "  <thead>\n",
       "    <tr style=\"text-align: right;\">\n",
       "      <th></th>\n",
       "      <th>Inspection ID</th>\n",
       "      <th>DBA Name</th>\n",
       "      <th>AKA Name</th>\n",
       "      <th>License #</th>\n",
       "      <th>Facility Type</th>\n",
       "      <th>Risk</th>\n",
       "      <th>Address</th>\n",
       "      <th>Inspection Type</th>\n",
       "      <th>Results</th>\n",
       "      <th>Violations</th>\n",
       "      <th>Latitude</th>\n",
       "      <th>Longitude</th>\n",
       "      <th>Location</th>\n",
       "      <th>date</th>\n",
       "      <th>Violation Count</th>\n",
       "    </tr>\n",
       "  </thead>\n",
       "  <tbody>\n",
       "    <tr>\n",
       "      <td>0</td>\n",
       "      <td>2320519</td>\n",
       "      <td>SALAM  RESTAURANT</td>\n",
       "      <td>SALAM RESTAURANT</td>\n",
       "      <td>2002822.0</td>\n",
       "      <td>Restaurant</td>\n",
       "      <td>Risk 1 (High)</td>\n",
       "      <td>4634-4636 N KEDZIE AVE</td>\n",
       "      <td>Complaint Re-Inspection</td>\n",
       "      <td>Pass</td>\n",
       "      <td>NaN</td>\n",
       "      <td>41.965719</td>\n",
       "      <td>-87.708538</td>\n",
       "      <td>{'latitude': '-87.70853756167853', 'longitude'...</td>\n",
       "      <td>10/2019</td>\n",
       "      <td>21.0</td>\n",
       "    </tr>\n",
       "    <tr>\n",
       "      <td>7</td>\n",
       "      <td>2129369</td>\n",
       "      <td>SALAM  RESTAURANT</td>\n",
       "      <td>SALAM RESTAURANT</td>\n",
       "      <td>2002822.0</td>\n",
       "      <td>Restaurant</td>\n",
       "      <td>Risk 1 (High)</td>\n",
       "      <td>4634-4636 N KEDZIE AVE</td>\n",
       "      <td>Complaint Re-Inspection</td>\n",
       "      <td>Pass</td>\n",
       "      <td>NaN</td>\n",
       "      <td>41.965719</td>\n",
       "      <td>-87.708538</td>\n",
       "      <td>{'latitude': '-87.70853756167853', 'longitude'...</td>\n",
       "      <td>12/2017</td>\n",
       "      <td>21.0</td>\n",
       "    </tr>\n",
       "    <tr>\n",
       "      <td>35</td>\n",
       "      <td>585276</td>\n",
       "      <td>DANTE'S PIZZA,INC.</td>\n",
       "      <td>DANTE'S PIZZA</td>\n",
       "      <td>2092884.0</td>\n",
       "      <td>Restaurant</td>\n",
       "      <td>Risk 1 (High)</td>\n",
       "      <td>3028 W ARMITAGE AVE</td>\n",
       "      <td>License Re-Inspection</td>\n",
       "      <td>Pass</td>\n",
       "      <td>NaN</td>\n",
       "      <td>41.917539</td>\n",
       "      <td>-87.703728</td>\n",
       "      <td>{'latitude': '-87.70372788811352', 'longitude'...</td>\n",
       "      <td>06/2011</td>\n",
       "      <td>11.0</td>\n",
       "    </tr>\n",
       "    <tr>\n",
       "      <td>39</td>\n",
       "      <td>2315559</td>\n",
       "      <td>LAO PENG YOU LLC</td>\n",
       "      <td>LAO PENG YOU</td>\n",
       "      <td>2694477.0</td>\n",
       "      <td>Restaurant</td>\n",
       "      <td>Risk 1 (High)</td>\n",
       "      <td>2020 W CHICAGO</td>\n",
       "      <td>License</td>\n",
       "      <td>No Entry</td>\n",
       "      <td>NaN</td>\n",
       "      <td>41.896005</td>\n",
       "      <td>-87.677938</td>\n",
       "      <td>{'latitude': '-87.6779378973854', 'longitude':...</td>\n",
       "      <td>10/2019</td>\n",
       "      <td>2.0</td>\n",
       "    </tr>\n",
       "    <tr>\n",
       "      <td>45</td>\n",
       "      <td>1441914</td>\n",
       "      <td>ARBOR</td>\n",
       "      <td>ARBOR</td>\n",
       "      <td>2363029.0</td>\n",
       "      <td>Restaurant</td>\n",
       "      <td>Risk 1 (High)</td>\n",
       "      <td>2545 W DIVERSEY AVE</td>\n",
       "      <td>License</td>\n",
       "      <td>Pass</td>\n",
       "      <td>NaN</td>\n",
       "      <td>41.932025</td>\n",
       "      <td>-87.692169</td>\n",
       "      <td>{'latitude': '-87.69216904438716', 'longitude'...</td>\n",
       "      <td>06/2015</td>\n",
       "      <td>5.0</td>\n",
       "    </tr>\n",
       "  </tbody>\n",
       "</table>\n",
       "</div>"
      ],
      "text/plain": [
       "    Inspection ID            DBA Name          AKA Name  License #  \\\n",
       "0         2320519   SALAM  RESTAURANT  SALAM RESTAURANT  2002822.0   \n",
       "7         2129369   SALAM  RESTAURANT  SALAM RESTAURANT  2002822.0   \n",
       "35         585276  DANTE'S PIZZA,INC.     DANTE'S PIZZA  2092884.0   \n",
       "39        2315559    LAO PENG YOU LLC      LAO PENG YOU  2694477.0   \n",
       "45        1441914               ARBOR             ARBOR  2363029.0   \n",
       "\n",
       "   Facility Type           Risk                  Address  \\\n",
       "0     Restaurant  Risk 1 (High)  4634-4636 N KEDZIE AVE    \n",
       "7     Restaurant  Risk 1 (High)  4634-4636 N KEDZIE AVE    \n",
       "35    Restaurant  Risk 1 (High)     3028 W ARMITAGE AVE    \n",
       "39    Restaurant  Risk 1 (High)          2020 W CHICAGO    \n",
       "45    Restaurant  Risk 1 (High)     2545 W DIVERSEY AVE    \n",
       "\n",
       "            Inspection Type   Results Violations   Latitude  Longitude  \\\n",
       "0   Complaint Re-Inspection      Pass        NaN  41.965719 -87.708538   \n",
       "7   Complaint Re-Inspection      Pass        NaN  41.965719 -87.708538   \n",
       "35    License Re-Inspection      Pass        NaN  41.917539 -87.703728   \n",
       "39                  License  No Entry        NaN  41.896005 -87.677938   \n",
       "45                  License      Pass        NaN  41.932025 -87.692169   \n",
       "\n",
       "                                             Location     date  \\\n",
       "0   {'latitude': '-87.70853756167853', 'longitude'...  10/2019   \n",
       "7   {'latitude': '-87.70853756167853', 'longitude'...  12/2017   \n",
       "35  {'latitude': '-87.70372788811352', 'longitude'...  06/2011   \n",
       "39  {'latitude': '-87.6779378973854', 'longitude':...  10/2019   \n",
       "45  {'latitude': '-87.69216904438716', 'longitude'...  06/2015   \n",
       "\n",
       "    Violation Count  \n",
       "0              21.0  \n",
       "7              21.0  \n",
       "35             11.0  \n",
       "39              2.0  \n",
       "45              5.0  "
      ]
     },
     "execution_count": 270,
     "metadata": {},
     "output_type": "execute_result"
    }
   ],
   "source": [
    "food_inspections[food_inspections.Violations.isnull()].head()"
   ]
  },
  {
   "cell_type": "code",
   "execution_count": 271,
   "metadata": {},
   "outputs": [],
   "source": [
    "food_inspections['Violation Count'].fillna(0, inplace=True)"
   ]
  },
  {
   "cell_type": "code",
   "execution_count": 272,
   "metadata": {},
   "outputs": [
    {
     "data": {
      "text/html": [
       "<div>\n",
       "<style scoped>\n",
       "    .dataframe tbody tr th:only-of-type {\n",
       "        vertical-align: middle;\n",
       "    }\n",
       "\n",
       "    .dataframe tbody tr th {\n",
       "        vertical-align: top;\n",
       "    }\n",
       "\n",
       "    .dataframe thead th {\n",
       "        text-align: right;\n",
       "    }\n",
       "</style>\n",
       "<table border=\"1\" class=\"dataframe\">\n",
       "  <thead>\n",
       "    <tr style=\"text-align: right;\">\n",
       "      <th></th>\n",
       "      <th>Inspection ID</th>\n",
       "      <th>DBA Name</th>\n",
       "      <th>AKA Name</th>\n",
       "      <th>License #</th>\n",
       "      <th>Facility Type</th>\n",
       "      <th>Risk</th>\n",
       "      <th>Address</th>\n",
       "      <th>Inspection Type</th>\n",
       "      <th>Results</th>\n",
       "      <th>Violations</th>\n",
       "      <th>Latitude</th>\n",
       "      <th>Longitude</th>\n",
       "      <th>Location</th>\n",
       "      <th>date</th>\n",
       "      <th>Violation Count</th>\n",
       "    </tr>\n",
       "  </thead>\n",
       "  <tbody>\n",
       "    <tr>\n",
       "      <td>0</td>\n",
       "      <td>2320519</td>\n",
       "      <td>SALAM  RESTAURANT</td>\n",
       "      <td>SALAM RESTAURANT</td>\n",
       "      <td>2002822.0</td>\n",
       "      <td>Restaurant</td>\n",
       "      <td>Risk 1 (High)</td>\n",
       "      <td>4634-4636 N KEDZIE AVE</td>\n",
       "      <td>Complaint Re-Inspection</td>\n",
       "      <td>Pass</td>\n",
       "      <td>NaN</td>\n",
       "      <td>41.965719</td>\n",
       "      <td>-87.708538</td>\n",
       "      <td>{'latitude': '-87.70853756167853', 'longitude'...</td>\n",
       "      <td>10/2019</td>\n",
       "      <td>21.0</td>\n",
       "    </tr>\n",
       "    <tr>\n",
       "      <td>7</td>\n",
       "      <td>2129369</td>\n",
       "      <td>SALAM  RESTAURANT</td>\n",
       "      <td>SALAM RESTAURANT</td>\n",
       "      <td>2002822.0</td>\n",
       "      <td>Restaurant</td>\n",
       "      <td>Risk 1 (High)</td>\n",
       "      <td>4634-4636 N KEDZIE AVE</td>\n",
       "      <td>Complaint Re-Inspection</td>\n",
       "      <td>Pass</td>\n",
       "      <td>NaN</td>\n",
       "      <td>41.965719</td>\n",
       "      <td>-87.708538</td>\n",
       "      <td>{'latitude': '-87.70853756167853', 'longitude'...</td>\n",
       "      <td>12/2017</td>\n",
       "      <td>21.0</td>\n",
       "    </tr>\n",
       "    <tr>\n",
       "      <td>35</td>\n",
       "      <td>585276</td>\n",
       "      <td>DANTE'S PIZZA,INC.</td>\n",
       "      <td>DANTE'S PIZZA</td>\n",
       "      <td>2092884.0</td>\n",
       "      <td>Restaurant</td>\n",
       "      <td>Risk 1 (High)</td>\n",
       "      <td>3028 W ARMITAGE AVE</td>\n",
       "      <td>License Re-Inspection</td>\n",
       "      <td>Pass</td>\n",
       "      <td>NaN</td>\n",
       "      <td>41.917539</td>\n",
       "      <td>-87.703728</td>\n",
       "      <td>{'latitude': '-87.70372788811352', 'longitude'...</td>\n",
       "      <td>06/2011</td>\n",
       "      <td>11.0</td>\n",
       "    </tr>\n",
       "    <tr>\n",
       "      <td>39</td>\n",
       "      <td>2315559</td>\n",
       "      <td>LAO PENG YOU LLC</td>\n",
       "      <td>LAO PENG YOU</td>\n",
       "      <td>2694477.0</td>\n",
       "      <td>Restaurant</td>\n",
       "      <td>Risk 1 (High)</td>\n",
       "      <td>2020 W CHICAGO</td>\n",
       "      <td>License</td>\n",
       "      <td>No Entry</td>\n",
       "      <td>NaN</td>\n",
       "      <td>41.896005</td>\n",
       "      <td>-87.677938</td>\n",
       "      <td>{'latitude': '-87.6779378973854', 'longitude':...</td>\n",
       "      <td>10/2019</td>\n",
       "      <td>2.0</td>\n",
       "    </tr>\n",
       "    <tr>\n",
       "      <td>45</td>\n",
       "      <td>1441914</td>\n",
       "      <td>ARBOR</td>\n",
       "      <td>ARBOR</td>\n",
       "      <td>2363029.0</td>\n",
       "      <td>Restaurant</td>\n",
       "      <td>Risk 1 (High)</td>\n",
       "      <td>2545 W DIVERSEY AVE</td>\n",
       "      <td>License</td>\n",
       "      <td>Pass</td>\n",
       "      <td>NaN</td>\n",
       "      <td>41.932025</td>\n",
       "      <td>-87.692169</td>\n",
       "      <td>{'latitude': '-87.69216904438716', 'longitude'...</td>\n",
       "      <td>06/2015</td>\n",
       "      <td>5.0</td>\n",
       "    </tr>\n",
       "  </tbody>\n",
       "</table>\n",
       "</div>"
      ],
      "text/plain": [
       "    Inspection ID            DBA Name          AKA Name  License #  \\\n",
       "0         2320519   SALAM  RESTAURANT  SALAM RESTAURANT  2002822.0   \n",
       "7         2129369   SALAM  RESTAURANT  SALAM RESTAURANT  2002822.0   \n",
       "35         585276  DANTE'S PIZZA,INC.     DANTE'S PIZZA  2092884.0   \n",
       "39        2315559    LAO PENG YOU LLC      LAO PENG YOU  2694477.0   \n",
       "45        1441914               ARBOR             ARBOR  2363029.0   \n",
       "\n",
       "   Facility Type           Risk                  Address  \\\n",
       "0     Restaurant  Risk 1 (High)  4634-4636 N KEDZIE AVE    \n",
       "7     Restaurant  Risk 1 (High)  4634-4636 N KEDZIE AVE    \n",
       "35    Restaurant  Risk 1 (High)     3028 W ARMITAGE AVE    \n",
       "39    Restaurant  Risk 1 (High)          2020 W CHICAGO    \n",
       "45    Restaurant  Risk 1 (High)     2545 W DIVERSEY AVE    \n",
       "\n",
       "            Inspection Type   Results Violations   Latitude  Longitude  \\\n",
       "0   Complaint Re-Inspection      Pass        NaN  41.965719 -87.708538   \n",
       "7   Complaint Re-Inspection      Pass        NaN  41.965719 -87.708538   \n",
       "35    License Re-Inspection      Pass        NaN  41.917539 -87.703728   \n",
       "39                  License  No Entry        NaN  41.896005 -87.677938   \n",
       "45                  License      Pass        NaN  41.932025 -87.692169   \n",
       "\n",
       "                                             Location     date  \\\n",
       "0   {'latitude': '-87.70853756167853', 'longitude'...  10/2019   \n",
       "7   {'latitude': '-87.70853756167853', 'longitude'...  12/2017   \n",
       "35  {'latitude': '-87.70372788811352', 'longitude'...  06/2011   \n",
       "39  {'latitude': '-87.6779378973854', 'longitude':...  10/2019   \n",
       "45  {'latitude': '-87.69216904438716', 'longitude'...  06/2015   \n",
       "\n",
       "    Violation Count  \n",
       "0              21.0  \n",
       "7              21.0  \n",
       "35             11.0  \n",
       "39              2.0  \n",
       "45              5.0  "
      ]
     },
     "execution_count": 272,
     "metadata": {},
     "output_type": "execute_result"
    }
   ],
   "source": [
    "food_inspections[food_inspections.Violations.isnull()].head()"
   ]
  },
  {
   "cell_type": "markdown",
   "metadata": {},
   "source": [
    "**Nan values: Latitude / Longitude**\n",
    "\n",
    "Remove if we don't know the location"
   ]
  },
  {
   "cell_type": "code",
   "execution_count": 273,
   "metadata": {},
   "outputs": [
    {
     "name": "stdout",
     "output_type": "stream",
     "text": [
      "(511, 15)\n",
      "(0, 15)\n",
      "(0, 15)\n"
     ]
    }
   ],
   "source": [
    "print(\"Rows having unknown latitude: {}\".format(food_inspections[food_inspections.Latitude.isnull()].shape)\n",
    "food_inspections.dropna(subset=['Latitude'], inplace=True)\n",
    "print(food_inspections[food_inspections.Longitude.isnull()].shape)\n",
    "print(food_inspections[food_inspections.Location.isnull()].shape)"
   ]
  },
  {
   "cell_type": "markdown",
   "metadata": {},
   "source": [
    "Same rows having unknown latitude and longitude. No additional information in the location column."
   ]
  },
  {
   "cell_type": "markdown",
   "metadata": {},
   "source": [
    "**Creating working dataset**\n",
    "\n"
   ]
  },
  {
   "cell_type": "code",
   "execution_count": 274,
   "metadata": {},
   "outputs": [],
   "source": [
    "food_inspections_resto = food_inspections.copy()"
   ]
  },
  {
   "cell_type": "code",
   "execution_count": 275,
   "metadata": {},
   "outputs": [],
   "source": [
    "count = food_inspections_resto.groupby('License #')['Inspection ID'].count()\n",
    "\n",
    "food_inspections_resto = pd.merge(food_inspections_resto, count, on='License #')\\\n",
    "    .rename(columns={'Inspection ID_y':'# of Inspections','Inspection ID_x':'Inspection ID'})\\\n",
    "    .drop(['date','Inspection ID','DBA Name','AKA Name','Violations','Results','Inspection Type','Location'], axis=1)"
   ]
  },
  {
   "cell_type": "code",
   "execution_count": 276,
   "metadata": {},
   "outputs": [
    {
     "data": {
      "text/html": [
       "<div>\n",
       "<style scoped>\n",
       "    .dataframe tbody tr th:only-of-type {\n",
       "        vertical-align: middle;\n",
       "    }\n",
       "\n",
       "    .dataframe tbody tr th {\n",
       "        vertical-align: top;\n",
       "    }\n",
       "\n",
       "    .dataframe thead th {\n",
       "        text-align: right;\n",
       "    }\n",
       "</style>\n",
       "<table border=\"1\" class=\"dataframe\">\n",
       "  <thead>\n",
       "    <tr style=\"text-align: right;\">\n",
       "      <th></th>\n",
       "      <th>License #</th>\n",
       "      <th>Facility Type</th>\n",
       "      <th>Risk</th>\n",
       "      <th>Address</th>\n",
       "      <th>Latitude</th>\n",
       "      <th>Longitude</th>\n",
       "      <th>Violation Count</th>\n",
       "      <th># of Inspections</th>\n",
       "    </tr>\n",
       "  </thead>\n",
       "  <tbody>\n",
       "    <tr>\n",
       "      <td>0</td>\n",
       "      <td>2002822.0</td>\n",
       "      <td>Restaurant</td>\n",
       "      <td>Risk 1 (High)</td>\n",
       "      <td>4634-4636 N KEDZIE AVE</td>\n",
       "      <td>41.965719</td>\n",
       "      <td>-87.708538</td>\n",
       "      <td>21.0</td>\n",
       "      <td>23</td>\n",
       "    </tr>\n",
       "    <tr>\n",
       "      <td>1</td>\n",
       "      <td>2002822.0</td>\n",
       "      <td>Restaurant</td>\n",
       "      <td>Risk 1 (High)</td>\n",
       "      <td>4634-4636 N KEDZIE AVE</td>\n",
       "      <td>41.965719</td>\n",
       "      <td>-87.708538</td>\n",
       "      <td>21.0</td>\n",
       "      <td>23</td>\n",
       "    </tr>\n",
       "    <tr>\n",
       "      <td>2</td>\n",
       "      <td>2002822.0</td>\n",
       "      <td>Restaurant</td>\n",
       "      <td>Risk 1 (High)</td>\n",
       "      <td>4634-4636 N KEDZIE AVE</td>\n",
       "      <td>41.965719</td>\n",
       "      <td>-87.708538</td>\n",
       "      <td>21.0</td>\n",
       "      <td>23</td>\n",
       "    </tr>\n",
       "    <tr>\n",
       "      <td>3</td>\n",
       "      <td>2002822.0</td>\n",
       "      <td>Restaurant</td>\n",
       "      <td>Risk 1 (High)</td>\n",
       "      <td>4634-4636 N KEDZIE AVE</td>\n",
       "      <td>41.965719</td>\n",
       "      <td>-87.708538</td>\n",
       "      <td>21.0</td>\n",
       "      <td>23</td>\n",
       "    </tr>\n",
       "    <tr>\n",
       "      <td>4</td>\n",
       "      <td>2002822.0</td>\n",
       "      <td>Restaurant</td>\n",
       "      <td>Risk 1 (High)</td>\n",
       "      <td>4634-4636 N KEDZIE AVE</td>\n",
       "      <td>41.965719</td>\n",
       "      <td>-87.708538</td>\n",
       "      <td>21.0</td>\n",
       "      <td>23</td>\n",
       "    </tr>\n",
       "  </tbody>\n",
       "</table>\n",
       "</div>"
      ],
      "text/plain": [
       "   License # Facility Type           Risk                  Address   Latitude  \\\n",
       "0  2002822.0    Restaurant  Risk 1 (High)  4634-4636 N KEDZIE AVE   41.965719   \n",
       "1  2002822.0    Restaurant  Risk 1 (High)  4634-4636 N KEDZIE AVE   41.965719   \n",
       "2  2002822.0    Restaurant  Risk 1 (High)  4634-4636 N KEDZIE AVE   41.965719   \n",
       "3  2002822.0    Restaurant  Risk 1 (High)  4634-4636 N KEDZIE AVE   41.965719   \n",
       "4  2002822.0    Restaurant  Risk 1 (High)  4634-4636 N KEDZIE AVE   41.965719   \n",
       "\n",
       "   Longitude  Violation Count  # of Inspections  \n",
       "0 -87.708538             21.0                23  \n",
       "1 -87.708538             21.0                23  \n",
       "2 -87.708538             21.0                23  \n",
       "3 -87.708538             21.0                23  \n",
       "4 -87.708538             21.0                23  "
      ]
     },
     "execution_count": 276,
     "metadata": {},
     "output_type": "execute_result"
    }
   ],
   "source": [
    "food_inspections_resto.head()"
   ]
  },
  {
   "cell_type": "code",
   "execution_count": 277,
   "metadata": {},
   "outputs": [
    {
     "name": "stdout",
     "output_type": "stream",
     "text": [
      "Number of rows to be deleted: (156091, 8)\n",
      "Number of rows in dataset after deletion: (37721, 8)\n"
     ]
    }
   ],
   "source": [
    "print('Number of rows to be deleted: {}'.format(food_inspections_resto[food_inspections_resto.duplicated()].shape))\n",
    "food_inspections_resto = food_inspections_resto.drop_duplicates()\n",
    "print('Number of rows in dataset after deletion: {}'.format(food_inspections_resto.shape))"
   ]
  },
  {
   "cell_type": "code",
   "execution_count": 278,
   "metadata": {},
   "outputs": [
    {
     "data": {
      "text/html": [
       "<div>\n",
       "<style scoped>\n",
       "    .dataframe tbody tr th:only-of-type {\n",
       "        vertical-align: middle;\n",
       "    }\n",
       "\n",
       "    .dataframe tbody tr th {\n",
       "        vertical-align: top;\n",
       "    }\n",
       "\n",
       "    .dataframe thead th {\n",
       "        text-align: right;\n",
       "    }\n",
       "</style>\n",
       "<table border=\"1\" class=\"dataframe\">\n",
       "  <thead>\n",
       "    <tr style=\"text-align: right;\">\n",
       "      <th></th>\n",
       "      <th>License #</th>\n",
       "      <th>Facility Type</th>\n",
       "      <th>Risk</th>\n",
       "      <th>Address</th>\n",
       "      <th>Latitude</th>\n",
       "      <th>Longitude</th>\n",
       "      <th>Violation Count</th>\n",
       "      <th># of Inspections</th>\n",
       "    </tr>\n",
       "  </thead>\n",
       "  <tbody>\n",
       "    <tr>\n",
       "      <td>0</td>\n",
       "      <td>2002822.0</td>\n",
       "      <td>Restaurant</td>\n",
       "      <td>Risk 1 (High)</td>\n",
       "      <td>4634-4636 N KEDZIE AVE</td>\n",
       "      <td>41.965719</td>\n",
       "      <td>-87.708538</td>\n",
       "      <td>21.0</td>\n",
       "      <td>23</td>\n",
       "    </tr>\n",
       "    <tr>\n",
       "      <td>23</td>\n",
       "      <td>2694960.0</td>\n",
       "      <td>Restaurant</td>\n",
       "      <td>Risk 1 (High)</td>\n",
       "      <td>2114 W LAWRENCE AVE</td>\n",
       "      <td>41.968820</td>\n",
       "      <td>-87.682292</td>\n",
       "      <td>2.0</td>\n",
       "      <td>2</td>\n",
       "    </tr>\n",
       "    <tr>\n",
       "      <td>25</td>\n",
       "      <td>2092884.0</td>\n",
       "      <td>Restaurant</td>\n",
       "      <td>Risk 1 (High)</td>\n",
       "      <td>3028 W ARMITAGE AVE</td>\n",
       "      <td>41.917539</td>\n",
       "      <td>-87.703728</td>\n",
       "      <td>11.0</td>\n",
       "      <td>12</td>\n",
       "    </tr>\n",
       "    <tr>\n",
       "      <td>37</td>\n",
       "      <td>2694477.0</td>\n",
       "      <td>Restaurant</td>\n",
       "      <td>Risk 1 (High)</td>\n",
       "      <td>2020 W CHICAGO</td>\n",
       "      <td>41.896005</td>\n",
       "      <td>-87.677938</td>\n",
       "      <td>2.0</td>\n",
       "      <td>3</td>\n",
       "    </tr>\n",
       "    <tr>\n",
       "      <td>40</td>\n",
       "      <td>2363029.0</td>\n",
       "      <td>Restaurant</td>\n",
       "      <td>Risk 1 (High)</td>\n",
       "      <td>2545 W DIVERSEY AVE</td>\n",
       "      <td>41.932025</td>\n",
       "      <td>-87.692169</td>\n",
       "      <td>5.0</td>\n",
       "      <td>6</td>\n",
       "    </tr>\n",
       "  </tbody>\n",
       "</table>\n",
       "</div>"
      ],
      "text/plain": [
       "    License # Facility Type           Risk                  Address  \\\n",
       "0   2002822.0    Restaurant  Risk 1 (High)  4634-4636 N KEDZIE AVE    \n",
       "23  2694960.0    Restaurant  Risk 1 (High)     2114 W LAWRENCE AVE    \n",
       "25  2092884.0    Restaurant  Risk 1 (High)     3028 W ARMITAGE AVE    \n",
       "37  2694477.0    Restaurant  Risk 1 (High)          2020 W CHICAGO    \n",
       "40  2363029.0    Restaurant  Risk 1 (High)     2545 W DIVERSEY AVE    \n",
       "\n",
       "     Latitude  Longitude  Violation Count  # of Inspections  \n",
       "0   41.965719 -87.708538             21.0                23  \n",
       "23  41.968820 -87.682292              2.0                 2  \n",
       "25  41.917539 -87.703728             11.0                12  \n",
       "37  41.896005 -87.677938              2.0                 3  \n",
       "40  41.932025 -87.692169              5.0                 6  "
      ]
     },
     "execution_count": 278,
     "metadata": {},
     "output_type": "execute_result"
    }
   ],
   "source": [
    "food_inspections_resto.head()"
   ]
  },
  {
   "cell_type": "markdown",
   "metadata": {},
   "source": [
    "**Plot Geographical loc of restaurants**"
   ]
  },
  {
   "cell_type": "code",
   "execution_count": 279,
   "metadata": {},
   "outputs": [],
   "source": [
    "import os\n",
    "import pandas as pd\n",
    "import json\n",
    "\n",
    "import folium"
   ]
  },
  {
   "cell_type": "code",
   "execution_count": 280,
   "metadata": {},
   "outputs": [
    {
     "data": {
      "text/plain": [
       "True"
      ]
     },
     "execution_count": 280,
     "metadata": {},
     "output_type": "execute_result"
    }
   ],
   "source": [
    "folium.__version__ == '0.10.0'"
   ]
  },
  {
   "cell_type": "code",
   "execution_count": 281,
   "metadata": {},
   "outputs": [],
   "source": [
    "chicago_coord = [41.85, -87.7]"
   ]
  },
  {
   "cell_type": "code",
   "execution_count": 282,
   "metadata": {},
   "outputs": [
    {
     "data": {
      "text/html": [
       "<div style=\"width:100%;\"><div style=\"position:relative;width:100%;height:0;padding-bottom:60%;\"><iframe src=\"data:text/html;charset=utf-8;base64,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\" style=\"position:absolute;width:100%;height:100%;left:0;top:0;border:none !important;\" allowfullscreen webkitallowfullscreen mozallowfullscreen></iframe></div></div>"
      ],
      "text/plain": [
       "<folium.folium.Map at 0x1c3cf867dc8>"
      ]
     },
     "execution_count": 282,
     "metadata": {},
     "output_type": "execute_result"
    }
   ],
   "source": [
    "m = folium.Map(location=chicago_coord)\n",
    "m"
   ]
  },
  {
   "cell_type": "code",
   "execution_count": 283,
   "metadata": {},
   "outputs": [
    {
     "data": {
      "text/plain": [
       "<matplotlib.collections.PathCollection at 0x1c3cf8dd908>"
      ]
     },
     "execution_count": 283,
     "metadata": {},
     "output_type": "execute_result"
    },
    {
     "data": {
      "image/png": "[encoded data removed]",
      "text/plain": [
       "<Figure size 432x288 with 1 Axes>"
      ]
     },
     "metadata": {
      "needs_background": "light"
     },
     "output_type": "display_data"
    }
   ],
   "source": [
    "latitudes = food_inspections_resto.Latitude\n",
    "longitudes = food_inspections_resto.Longitude\n",
    "\n",
    "plt.figure()\n",
    "plt.scatter(latitudes,longitudes)"
   ]
  },
  {
   "cell_type": "code",
   "execution_count": 284,
   "metadata": {},
   "outputs": [],
   "source": [
    "# Need more data cleaning\n",
    "food_inspections_resto = food_inspections_resto.dropna()"
   ]
  },
  {
   "cell_type": "code",
   "execution_count": 285,
   "metadata": {},
   "outputs": [],
   "source": [
    "for index, row in food_inspections_resto.iterrows():\n",
    "    if index < 1000:\n",
    "        folium.Marker([row[\"Latitude\"], row[\"Longitude\"]], popup=str(index)).add_to(m)\n",
    "    else: \n",
    "        break"
   ]
  },
  {
   "cell_type": "code",
   "execution_count": 286,
   "metadata": {},
   "outputs": [
    {
     "data": {
      "text/html": [
       "<div style=\"width:100%;\"><div style=\"position:relative;width:100%;height:0;padding-bottom:60%;\"><iframe src=\"data:text/html;charset=utf-8;base64,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\" style=\"position:absolute;width:100%;height:100%;left:0;top:0;border:none !important;\" allowfullscreen webkitallowfullscreen mozallowfullscreen></iframe></div></div>"
      ],
      "text/plain": [
       "<folium.folium.Map at 0x1c3cf867dc8>"
      ]
     },
     "execution_count": 286,
     "metadata": {},
     "output_type": "execute_result"
    }
   ],
   "source": [
    "m"
   ]
  },
  {
   "cell_type": "code",
   "execution_count": null,
   "metadata": {},
   "outputs": [],
   "source": []
  }
 ],
 "metadata": {
  "kernelspec": {
   "display_name": "Python 3",
   "language": "python",
   "name": "python3"
  },
  "language_info": {
   "codemirror_mode": {
    "name": "ipython",
    "version": 3
   },
   "file_extension": ".py",
   "mimetype": "text/x-python",
   "name": "python",
   "nbconvert_exporter": "python",
   "pygments_lexer": "ipython3",
   "version": "3.7.4"
  }
 },
 "nbformat": 4,
 "nbformat_minor": 2
}
